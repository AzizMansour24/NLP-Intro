{
 "cells": [
  {
   "cell_type": "markdown",
   "id": "87dcbce8-92d9-4f91-a3e9-b43a62fca795",
   "metadata": {
    "jp-MarkdownHeadingCollapsed": true
   },
   "source": [
    "# NLP: Natrual Language Processing:"
   ]
  },
  {
   "cell_type": "markdown",
   "id": "8e161208-dfbb-4685-afab-3244b47a9b99",
   "metadata": {
    "jp-MarkdownHeadingCollapsed": true
   },
   "source": [
    "# 1-LIBRAIRIES:"
   ]
  },
  {
   "cell_type": "code",
   "execution_count": 5,
   "id": "e2c80307-418c-4393-b6d8-ca0b5180d9ce",
   "metadata": {},
   "outputs": [],
   "source": [
    "import pandas as pd\n",
    "import numpy as np\n",
    "import re\n",
    "from vaderSentiment.vaderSentiment import SentimentIntensityAnalyzer\n",
    "import transformers\n",
    "from transformers import pipeline\n",
    "from nltk.tokenize import word_tokenize\n",
    "from nltk.corpus import stopwords\n",
    "from nltk.stem import WordNetLemmatizer\n",
    "from sklearn.model_selection import train_test_split\n",
    "from sklearn import metrics\n",
    "from itertools import chain\n",
    "from nltk import NaiveBayesClassifier\n",
    "from nltk.stem import PorterStemmer\n",
    "import gensim\n",
    "import gensim.corpora as corpora\n",
    "from gensim.models.coherencemodel import CoherenceModel\n"
   ]
  },
  {
   "cell_type": "markdown",
   "id": "977a39fd-d435-4d40-9d30-1a8f93795a44",
   "metadata": {},
   "source": [
    "# 2-TextPreprocessing"
   ]
  },
  {
   "cell_type": "markdown",
   "id": "a2e7a5c8-4f08-43ce-903b-79c8f1520b34",
   "metadata": {},
   "source": [
    "**1-Lower Casing the sentence : for better comprehension**"
   ]
  },
  {
   "cell_type": "code",
   "execution_count": 8,
   "id": "97f25c2d-21a9-4408-a7cb-f52e99b99afb",
   "metadata": {},
   "outputs": [
    {
     "name": "stdout",
     "output_type": "stream",
     "text": [
      " my name is aziz\n"
     ]
    }
   ],
   "source": [
    "sentence=' My Name is Aziz'\n",
    "print(sentence.lower())"
   ]
  },
  {
   "cell_type": "markdown",
   "id": "a8686027-7b46-45a7-b7f0-26421afebdad",
   "metadata": {},
   "source": [
    "**2-removing stop words**"
   ]
  },
  {
   "cell_type": "code",
   "execution_count": 10,
   "id": "de82941a-f603-4958-b4cf-f0458a1cd43a",
   "metadata": {},
   "outputs": [
    {
     "name": "stdout",
     "output_type": "stream",
     "text": [
      "['a', 'about', 'above', 'after', 'again', 'against', 'ain', 'all', 'am', 'an', 'and', 'any', 'are', 'aren', \"aren't\", 'as', 'at', 'be', 'because', 'been', 'before', 'being', 'below', 'between', 'both', 'but', 'by', 'can', 'couldn', \"couldn't\", 'd', 'did', 'didn', \"didn't\", 'do', 'does', 'doesn', \"doesn't\", 'doing', 'don', \"don't\", 'down', 'during', 'each', 'few', 'for', 'from', 'further', 'had', 'hadn', \"hadn't\", 'has', 'hasn', \"hasn't\", 'have', 'haven', \"haven't\", 'having', 'he', \"he'd\", \"he'll\", 'her', 'here', 'hers', 'herself', \"he's\", 'him', 'himself', 'his', 'how', 'i', \"i'd\", 'if', \"i'll\", \"i'm\", 'in', 'into', 'is', 'isn', \"isn't\", 'it', \"it'd\", \"it'll\", \"it's\", 'its', 'itself', \"i've\", 'just', 'll', 'm', 'ma', 'me', 'mightn', \"mightn't\", 'more', 'most', 'mustn', \"mustn't\", 'my', 'myself', 'needn', \"needn't\", 'no', 'nor', 'not', 'now', 'o', 'of', 'off', 'on', 'once', 'only', 'or', 'other', 'our', 'ours', 'ourselves', 'out', 'over', 'own', 're', 's', 'same', 'shan', \"shan't\", 'she', \"she'd\", \"she'll\", \"she's\", 'should', 'shouldn', \"shouldn't\", \"should've\", 'so', 'some', 'such', 't', 'than', 'that', \"that'll\", 'the', 'their', 'theirs', 'them', 'themselves', 'then', 'there', 'these', 'they', \"they'd\", \"they'll\", \"they're\", \"they've\", 'this', 'those', 'through', 'to', 'too', 'under', 'until', 'up', 've', 'very', 'was', 'wasn', \"wasn't\", 'we', \"we'd\", \"we'll\", \"we're\", 'were', 'weren', \"weren't\", \"we've\", 'what', 'when', 'where', 'which', 'while', 'who', 'whom', 'why', 'will', 'with', 'won', \"won't\", 'wouldn', \"wouldn't\", 'y', 'you', \"you'd\", \"you'll\", 'your', \"you're\", 'yours', 'yourself', 'yourselves', \"you've\"]\n"
     ]
    },
    {
     "name": "stderr",
     "output_type": "stream",
     "text": [
      "[nltk_data] Downloading package stopwords to\n",
      "[nltk_data]     C:\\Users\\MSI\\AppData\\Roaming\\nltk_data...\n",
      "[nltk_data]   Package stopwords is already up-to-date!\n"
     ]
    }
   ],
   "source": [
    "import nltk\n",
    "nltk.download('stopwords')\n",
    "from nltk.corpus import stopwords\n",
    "en_stopwords=stopwords.words('english')\n",
    "print(en_stopwords)"
   ]
  },
  {
   "cell_type": "code",
   "execution_count": 11,
   "id": "04528059-711a-4d69-bb3a-4db7e5607eaf",
   "metadata": {},
   "outputs": [
    {
     "name": "stdout",
     "output_type": "stream",
     "text": [
      "far go shop want go\n"
     ]
    }
   ],
   "source": [
    "sentence='it was too far to go to the shop and he did not want her to go'\n",
    "sentence_no_stopwords=' '.join([word for word in sentence.split() if word not in en_stopwords])\n",
    "print(sentence_no_stopwords)\n",
    "#en_stopword.remove(\"did\") #if you want to remove a word from the stopwords list\n",
    "#en_stopword.append()      #if you want to add a stopword"
   ]
  },
  {
   "cell_type": "markdown",
   "id": "b585abc8-8e67-4abc-8916-07fab63c6fee",
   "metadata": {},
   "source": [
    "**3-Regular Expressions (regex):filter and sort through text**"
   ]
  },
  {
   "cell_type": "code",
   "execution_count": 13,
   "id": "d04779d4-2b9b-46c7-ade5-1375285e888e",
   "metadata": {},
   "outputs": [
    {
     "name": "stdout",
     "output_type": "stream",
     "text": [
      "C:/Desktop\n",
      "otes\n"
     ]
    }
   ],
   "source": [
    "import re\n",
    "my_folder=\"C:/Desktop\\notes\"\n",
    "print(my_folder)  #took the \\n to the next line"
   ]
  },
  {
   "cell_type": "markdown",
   "id": "31cfc291-e615-42df-90bf-359f7c003c0f",
   "metadata": {},
   "source": [
    "* Using raw String to deal with special characters: r\"sentence\" "
   ]
  },
  {
   "cell_type": "code",
   "execution_count": 15,
   "id": "f7ed3e4c-ca7b-489c-adfe-b9dcaec27325",
   "metadata": {},
   "outputs": [
    {
     "name": "stdout",
     "output_type": "stream",
     "text": [
      "C:/Desktop\\notes\n"
     ]
    }
   ],
   "source": [
    "my_folder=r\"C:/Desktop\\notes\"\n",
    "print(my_folder)  #will not take the \\n"
   ]
  },
  {
   "cell_type": "markdown",
   "id": "7d560573-be3a-473a-a28c-6acab11d35de",
   "metadata": {},
   "source": [
    "* re.search() : Searching through the text:  \n",
    "    -span() :position   \n",
    "    -match : the word found"
   ]
  },
  {
   "cell_type": "code",
   "execution_count": 17,
   "id": "5afb387d-7fde-48af-a011-f04628c7785f",
   "metadata": {},
   "outputs": [
    {
     "name": "stdout",
     "output_type": "stream",
     "text": [
      "<re.Match object; span=(22, 29), match='pattern'>\n"
     ]
    }
   ],
   "source": [
    "result_search=re.search(\"pattern\", r\"string to contain the pattern\")\n",
    "print(result_search)"
   ]
  },
  {
   "cell_type": "code",
   "execution_count": 18,
   "id": "4e08043e-527f-4b21-8937-985f6705d89a",
   "metadata": {},
   "outputs": [
    {
     "name": "stdout",
     "output_type": "stream",
     "text": [
      "None\n"
     ]
    }
   ],
   "source": [
    "result_search=re.search(\"hello\", r\"string to contain the pattern\")\n",
    "print(result_search)"
   ]
  },
  {
   "cell_type": "markdown",
   "id": "a07fab6e-fee8-481a-adac-46d4aafca343",
   "metadata": {},
   "source": [
    "* re.sub() : substitute elements from the text"
   ]
  },
  {
   "cell_type": "code",
   "execution_count": 20,
   "id": "6a0cbe18-0c84-4abc-81b9-2cb6d993c948",
   "metadata": {},
   "outputs": [
    {
     "name": "stdout",
     "output_type": "stream",
     "text": [
      "sarah was able to help me find the items i needed quickly\n"
     ]
    }
   ],
   "source": [
    "string=r\"sara was able to help me find the items i needed quickly\"\n",
    "new_string=re.sub(\"sara\",\"sarah\",string)\n",
    "print(new_string)"
   ]
  },
  {
   "cell_type": "code",
   "execution_count": 21,
   "id": "5c49cee2-1608-4bcb-91e0-1b4bd500c55d",
   "metadata": {},
   "outputs": [
    {
     "name": "stdout",
     "output_type": "stream",
     "text": [
      "** sarahs_reviews :  ['sarah was able to help me find the items i needed quickly', 'great service from sara  she found me what i wanted']\n",
      "** a_reviews :  ['amazing work from sadeen!']\n",
      "** y_reviews : ['sarah was able to help me find the items i needed quickly']\n",
      "** needwant_reviews :  ['sarah was able to help me find the items i needed quickly', 'great service from sara  she found me what i wanted']\n",
      "** no_punct_reviews :  ['sam was a great help to me in the store', 'the cashier was very rude to me, I think her name was eleanor', 'amazing work from sadeen!', 'sarah was able to help me find the items i needed quickly', 'lucy is such a great addition to the team', 'great service from sara  she found me what i wanted']\n"
     ]
    }
   ],
   "source": [
    "customer_reviews=['sam was a great help to me in the store', \n",
    " 'the cashier was very rude to me, I think her name was eleanor', \n",
    " 'amazing work from sadeen!', \n",
    " 'sarah was able to help me find the items i needed quickly', \n",
    " 'lucy is such a great addition to the team', \n",
    " 'great service from sara  she found me what i wanted']\n",
    "\n",
    "\n",
    "sarahs_reviews = []\n",
    "pattern_to_find = r\"sarah?\"\n",
    "for string in customer_reviews :\n",
    "    if( re.search(pattern_to_find,string)):\n",
    "        sarahs_reviews.append(string)\n",
    "print(\"** sarahs_reviews : \",sarahs_reviews)\n",
    "\n",
    "a_reviews= []\n",
    "pattern_to_find=r\"^a\"\n",
    "for string in customer_reviews :\n",
    "    if (re.search(pattern_to_find,string)):\n",
    "        a_reviews.append(string)\n",
    "print(\"** a_reviews : \",a_reviews)\n",
    "\n",
    "y_reviews=[]\n",
    "pattern_to_find=r\"y$\"\n",
    "for string in customer_reviews :\n",
    "    if (re.search(pattern_to_find,string)):\n",
    "        y_reviews.append(string)\n",
    "print(\"** y_reviews :\",y_reviews)\n",
    "\n",
    "needwant_reviews=[]\n",
    "pattern_to_find=r\"(need|want)ed\"\n",
    "for string in customer_reviews :\n",
    "    if (re.search(pattern_to_find,string)):\n",
    "        needwant_reviews.append(string)\n",
    "print(\"** needwant_reviews : \",needwant_reviews)\n",
    "\n",
    "no_punct_reviews = []\n",
    "pattern_to_find = r\"[^\\w\\S]\"\n",
    "for string in customer_reviews :\n",
    "    if (re.search(pattern_to_find,string)):\n",
    "        no_punct_reviews.append(string)\n",
    "print(\"** no_punct_reviews : \",no_punct_reviews)"
   ]
  },
  {
   "cell_type": "markdown",
   "id": "36e8340d-4c2d-4a20-9930-4ed4325d5244",
   "metadata": {},
   "source": [
    "* r\"sarah?\" : ends with one or zero h : expls: sara/sarah\n",
    "* r\"^a\"     : starts with a\n",
    "* r\"y\\$\"      : ends with y\n",
    "* r\"(need|want)ed\"  : contains needed or wanted\n",
    "* r\"[^\\w\\S]      : [^:not   \\w:word character(a,A,3,_)  \\S:Non whitespace(a,@,1) ]"
   ]
  },
  {
   "cell_type": "markdown",
   "id": "d123919f-2d51-432f-8f27-fbbf771d8f7e",
   "metadata": {},
   "source": [
    "<img src=\"Cheatsheet-RegEx.PNG\">"
   ]
  },
  {
   "cell_type": "markdown",
   "id": "7d324240-12bc-46ac-b3ad-53d76ec02f15",
   "metadata": {},
   "source": [
    "**4-Tokenization : converting our text to smaller units**"
   ]
  },
  {
   "cell_type": "code",
   "execution_count": 25,
   "id": "ba534ca5-9b00-475c-b8a9-b464e57a181d",
   "metadata": {},
   "outputs": [
    {
     "name": "stderr",
     "output_type": "stream",
     "text": [
      "[nltk_data] Downloading package punkt to\n",
      "[nltk_data]     C:\\Users\\MSI\\AppData\\Roaming\\nltk_data...\n",
      "[nltk_data]   Package punkt is already up-to-date!\n"
     ]
    }
   ],
   "source": [
    "import nltk\n",
    "nltk.download('punkt')\n",
    "from nltk.tokenize import word_tokenize, sent_tokenize"
   ]
  },
  {
   "cell_type": "code",
   "execution_count": 26,
   "id": "b4262da1-6af3-4001-aa64-3d35315c595f",
   "metadata": {},
   "outputs": [
    {
     "data": {
      "text/plain": [
       "[\"Her cat's name is Luna.\", \"Her dog's name is Max\"]"
      ]
     },
     "execution_count": 26,
     "metadata": {},
     "output_type": "execute_result"
    }
   ],
   "source": [
    "sentences=\"Her cat's name is Luna. Her dog's name is Max\"\n",
    "sent_tokenize(sentences)"
   ]
  },
  {
   "cell_type": "code",
   "execution_count": 27,
   "id": "d8d19d78-8c56-478c-832b-8d3bf61539d8",
   "metadata": {},
   "outputs": [
    {
     "data": {
      "text/plain": [
       "['Her', 'cat', \"'s\", 'name', 'is', 'Luna', '.']"
      ]
     },
     "execution_count": 27,
     "metadata": {},
     "output_type": "execute_result"
    }
   ],
   "source": [
    "sentence=\"Her cat's name is Luna.\"\n",
    "word_tokenize(sentence)"
   ]
  },
  {
   "cell_type": "code",
   "execution_count": 28,
   "id": "27ea82ac-302f-4f0b-bdad-1471e087c7e2",
   "metadata": {},
   "outputs": [
    {
     "data": {
      "text/plain": [
       "['Her',\n",
       " 'cat',\n",
       " \"'s\",\n",
       " 'name',\n",
       " 'is',\n",
       " 'Luna',\n",
       " '.',\n",
       " 'Her',\n",
       " 'dog',\n",
       " \"'s\",\n",
       " 'name',\n",
       " 'is',\n",
       " 'Max']"
      ]
     },
     "execution_count": 28,
     "metadata": {},
     "output_type": "execute_result"
    }
   ],
   "source": [
    "word_tokenize(sentences)"
   ]
  },
  {
   "cell_type": "markdown",
   "id": "bc870c79-82e8-4ec0-b46e-79a96d95833f",
   "metadata": {},
   "source": [
    "**5-stemming : standardise the text (removing suffixes , prefixes)(can sometimes remove the meaning)**\n",
    "* DATA NEEDS TO BE TOKENIZED BEFORE STEMMED OR LEMMATIZED\n"
   ]
  },
  {
   "cell_type": "code",
   "execution_count": 30,
   "id": "c01f93ee-ba30-484b-b639-4003a1261c8d",
   "metadata": {},
   "outputs": [],
   "source": [
    "connect_tokens = ['connecting', 'connected', 'connectivity' , 'connect', 'connects']\n",
    "learn_tokens = ['learned', 'learning' ,'learn' ,'learns', 'learner', 'learners']\n",
    "like_tokens = ['likes', 'better' , 'worse']"
   ]
  },
  {
   "cell_type": "code",
   "execution_count": 31,
   "id": "8dd4cb7c-1eb3-4662-b687-f6028e9bdaad",
   "metadata": {},
   "outputs": [
    {
     "name": "stdout",
     "output_type": "stream",
     "text": [
      "learned  :  learn\n",
      "learning  :  learn\n",
      "learn  :  learn\n",
      "learns  :  learn\n",
      "learner  :  learner\n",
      "learners  :  learner\n"
     ]
    }
   ],
   "source": [
    "import nltk\n",
    "from nltk.stem import PorterStemmer\n",
    "ps = PorterStemmer()\n",
    "for t in learn_tokens :\n",
    "    print(t,\" : \",ps.stem(t))"
   ]
  },
  {
   "cell_type": "code",
   "execution_count": 32,
   "id": "2566f25e-f6ed-49ed-baa5-2dcd29e5141c",
   "metadata": {},
   "outputs": [
    {
     "name": "stdout",
     "output_type": "stream",
     "text": [
      "likes  :  like\n",
      "better  :  better\n",
      "worse  :  wors\n"
     ]
    }
   ],
   "source": [
    "for t in like_tokens :\n",
    "    print(t, \" : \",ps.stem(t))"
   ]
  },
  {
   "cell_type": "markdown",
   "id": "153e040e-c617-47f5-9056-83bf7dcc74d7",
   "metadata": {},
   "source": [
    "the word worse lost its meaning and became wors"
   ]
  },
  {
   "cell_type": "markdown",
   "id": "5a8f3e9a-b9ec-4b09-b8cb-22f4952a4ff4",
   "metadata": {},
   "source": [
    "**6-lemmatization : stems the words to more meaningful context (could leave more words in our database)**"
   ]
  },
  {
   "cell_type": "code",
   "execution_count": 35,
   "id": "2da488d5-28f6-48db-9734-36352877dfd3",
   "metadata": {},
   "outputs": [
    {
     "name": "stderr",
     "output_type": "stream",
     "text": [
      "[nltk_data] Downloading package wordnet to\n",
      "[nltk_data]     C:\\Users\\MSI\\AppData\\Roaming\\nltk_data...\n",
      "[nltk_data]   Package wordnet is already up-to-date!\n"
     ]
    }
   ],
   "source": [
    "nltk.download('wordnet')\n",
    "from nltk.stem import WordNetLemmatizer"
   ]
  },
  {
   "cell_type": "code",
   "execution_count": 36,
   "id": "551621e8-2e72-48c2-b3a4-fded5aa95f0f",
   "metadata": {},
   "outputs": [],
   "source": [
    "lemmatizer = WordNetLemmatizer()"
   ]
  },
  {
   "cell_type": "code",
   "execution_count": 37,
   "id": "ccf45997-2f90-40be-be93-f03c58332b23",
   "metadata": {},
   "outputs": [
    {
     "name": "stdout",
     "output_type": "stream",
     "text": [
      "connecting  :  connecting\n",
      "connected  :  connected\n",
      "connectivity  :  connectivity\n",
      "connect  :  connect\n",
      "connects  :  connects\n"
     ]
    }
   ],
   "source": [
    "for t in connect_tokens :\n",
    "    print(t,\" : \",lemmatizer.lemmatize(t))"
   ]
  },
  {
   "cell_type": "code",
   "execution_count": 38,
   "id": "aaf626a9-67af-41f4-a4a7-0c1cdf6f6a06",
   "metadata": {},
   "outputs": [
    {
     "name": "stdout",
     "output_type": "stream",
     "text": [
      "learned  :  learned\n",
      "learning  :  learning\n",
      "learn  :  learn\n",
      "learns  :  learns\n",
      "learner  :  learner\n",
      "learners  :  learner\n"
     ]
    }
   ],
   "source": [
    "for t in learn_tokens :\n",
    "    print(t,\" : \",lemmatizer.lemmatize(t))"
   ]
  },
  {
   "cell_type": "markdown",
   "id": "6f39df8a-d0f4-46de-8d27-d1a1c86ce275",
   "metadata": {},
   "source": [
    "**7-N-GRAMS : contiguous sequences of n items (words, characters, or symbols) from a given text or corpus**"
   ]
  },
  {
   "cell_type": "code",
   "execution_count": 40,
   "id": "d3b1ef98-0157-4c78-9d2e-be72b18592bc",
   "metadata": {},
   "outputs": [],
   "source": [
    "import nltk\n",
    "import pandas as pd\n",
    "import matplotlib.pyplot as plt"
   ]
  },
  {
   "cell_type": "code",
   "execution_count": 41,
   "id": "287e8121-5742-49f7-8792-f889e0ec9fad",
   "metadata": {},
   "outputs": [
    {
     "name": "stdout",
     "output_type": "stream",
     "text": [
      "['the', 'rise', 'of', 'artificial', 'intelligence', 'has', 'led', 'to', 'significant', 'advancements', 'in', 'natural', 'language', 'processing', 'computer', 'vision', 'and', 'other', 'fields', 'machine', 'learning', 'algorithms', 'are', 'becoming', 'more', 'sophisticated', 'enabling', 'computers', 'to', 'perform', 'complex', 'tasks', 'that', 'were', 'once', 'thought', 'to', 'be', 'the', 'exclusive', 'domain', 'of', 'humans', 'with', 'the', 'advent', 'of', 'deep', 'learning', 'neural', 'networks', 'have', 'become', 'even', 'more', 'powerful', 'capable', 'of', 'processing', 'vast', 'amounts', 'of', 'data', 'and', 'learning', 'from', 'it', 'in', 'ways', 'that', 'were', 'not', 'possible', 'before', 'as', 'a', 'result', 'ai', 'is', 'increasingly', 'being', 'used', 'in', 'a', 'wide', 'range', 'of', 'industries', 'from', 'healthcare', 'to', 'finance', 'to', 'transportation', 'and', 'its', 'impact', 'is', 'only', 'set', 'to', 'grow', 'in', 'the', 'years', 'to', 'come']\n"
     ]
    }
   ],
   "source": [
    "tokens = ['the', 'rise', 'of', 'artificial', 'intelligence', 'has', 'led', 'to', 'significant', 'advancements', 'in', 'natural', 'language', 'processing', 'computer', 'vision', 'and', 'other', 'fields', 'machine', 'learning', 'algorithms', 'are', 'becoming', 'more', 'sophisticated', 'enabling', 'computers', 'to', 'perform', 'complex', 'tasks', 'that', 'were', 'once', 'thought', 'to', 'be', 'the', 'exclusive', 'domain', 'of', 'humans', 'with', 'the', 'advent', 'of', 'deep', 'learning', 'neural', 'networks', 'have', 'become', 'even', 'more', 'powerful', 'capable', 'of', 'processing', 'vast', 'amounts', 'of', 'data', 'and', 'learning', 'from', 'it', 'in', 'ways', 'that', 'were', 'not', 'possible', 'before', 'as', 'a', 'result', 'ai', 'is', 'increasingly', 'being', 'used', 'in', 'a', 'wide', 'range', 'of', 'industries', 'from', 'healthcare', 'to', 'finance', 'to', 'transportation', 'and', 'its', 'impact', 'is', 'only', 'set', 'to', 'grow', 'in', 'the', 'years', 'to', 'come']\n",
    "print(tokens)"
   ]
  },
  {
   "cell_type": "code",
   "execution_count": 42,
   "id": "a494ada4-7fdd-49cf-917a-c14c75ae032d",
   "metadata": {},
   "outputs": [
    {
     "name": "stdout",
     "output_type": "stream",
     "text": [
      "(to,)          7\n",
      "(of,)          6\n",
      "(the,)         4\n",
      "(in,)          4\n",
      "(learning,)    3\n",
      "              ..\n",
      "(humans,)      1\n",
      "(rise,)        1\n",
      "(advent,)      1\n",
      "(deep,)        1\n",
      "(come,)        1\n",
      "Name: count, Length: 79, dtype: int64\n"
     ]
    }
   ],
   "source": [
    "# unigrams: n=1\n",
    "unigrams = (pd.Series(nltk.ngrams(tokens, 1)).value_counts()) \n",
    "print(unigrams)"
   ]
  },
  {
   "cell_type": "code",
   "execution_count": 43,
   "id": "2be2746f-d9f3-4882-9f45-b955d56e8333",
   "metadata": {},
   "outputs": [
    {
     "data": {
      "text/plain": [
       "Text(0.5, 1.0, '10 most occuring unigrams')"
      ]
     },
     "execution_count": 43,
     "metadata": {},
     "output_type": "execute_result"
    },
    {
     "data": {
      "image/png": "[encoded data removed]",
      "text/plain": [
       "<Figure size 1200x800 with 1 Axes>"
      ]
     },
     "metadata": {},
     "output_type": "display_data"
    }
   ],
   "source": [
    "unigrams[:10].sort_values().plot.barh(color='lightsalmon',width=0.7, figsize=(12,8))\n",
    "plt.title(\"10 most occuring unigrams\")"
   ]
  },
  {
   "cell_type": "code",
   "execution_count": 44,
   "id": "4da4ccb2-1893-4757-bfdc-b64bf7a3c30c",
   "metadata": {},
   "outputs": [
    {
     "name": "stdout",
     "output_type": "stream",
     "text": [
      "(that, were)             2\n",
      "(the, rise)              1\n",
      "(increasingly, being)    1\n",
      "(ai, is)                 1\n",
      "(result, ai)             1\n",
      "(a, result)              1\n",
      "(as, a)                  1\n",
      "(before, as)             1\n",
      "(possible, before)       1\n",
      "(not, possible)          1\n",
      "Name: count, dtype: int64\n"
     ]
    }
   ],
   "source": [
    "#bigrams n=2\n",
    "bigrams = (pd.Series(nltk.ngrams(tokens,2)).value_counts())\n",
    "print(bigrams[:10])"
   ]
  },
  {
   "cell_type": "code",
   "execution_count": 45,
   "id": "f7e063c4-6331-46b3-95da-65e0642bce0c",
   "metadata": {},
   "outputs": [
    {
     "data": {
      "text/plain": [
       "Text(0.5, 0, '# of Occurances')"
      ]
     },
     "execution_count": 45,
     "metadata": {},
     "output_type": "execute_result"
    },
    {
     "data": {
      "image/png": "[encoded data removed]",
      "text/plain": [
       "<Figure size 1200x800 with 1 Axes>"
      ]
     },
     "metadata": {},
     "output_type": "display_data"
    }
   ],
   "source": [
    "bigrams[0:10].sort_values().plot.barh(color='skyblue', width=.9, figsize=(12, 8))\n",
    "plt.title('10 Most Frequently Occuring Bigrams')\n",
    "plt.ylabel('Bigram')\n",
    "plt.xlabel('# of Occurances')"
   ]
  },
  {
   "cell_type": "markdown",
   "id": "ec63e955-02a0-42ef-b804-3380e35581d1",
   "metadata": {},
   "source": [
    "**8-EXERCICE: TEXT PREPROCESSING**"
   ]
  },
  {
   "cell_type": "code",
   "execution_count": 47,
   "id": "1c52a503-5449-48a4-9c67-e0ede73a7f50",
   "metadata": {},
   "outputs": [],
   "source": [
    "import nltk\n",
    "from nltk.tokenize import word_tokenize\n",
    "from nltk.stem import PorterStemmer, WordNetLemmatizer\n",
    "from nltk.corpus import stopwords\n",
    "import re\n",
    "import pandas as pd"
   ]
  },
  {
   "cell_type": "markdown",
   "id": "e16eef85-ea5c-421c-bb8c-a5ecfca164a0",
   "metadata": {},
   "source": [
    "* Load Data"
   ]
  },
  {
   "cell_type": "code",
   "execution_count": 49,
   "id": "b62563c1-8239-4c25-84da-da2177a98329",
   "metadata": {},
   "outputs": [],
   "source": [
    "data=pd.read_csv(\"tripadvisor_hotel_reviews.csv\")"
   ]
  },
  {
   "cell_type": "code",
   "execution_count": 50,
   "id": "05118306-f23e-4ab7-b0ac-487ff70ade80",
   "metadata": {},
   "outputs": [
    {
     "name": "stdout",
     "output_type": "stream",
     "text": [
      "<class 'pandas.core.frame.DataFrame'>\n",
      "RangeIndex: 109 entries, 0 to 108\n",
      "Data columns (total 2 columns):\n",
      " #   Column  Non-Null Count  Dtype \n",
      "---  ------  --------------  ----- \n",
      " 0   Review  109 non-null    object\n",
      " 1   Rating  109 non-null    int64 \n",
      "dtypes: int64(1), object(1)\n",
      "memory usage: 1.8+ KB\n"
     ]
    }
   ],
   "source": [
    "data.info()"
   ]
  },
  {
   "cell_type": "code",
   "execution_count": 51,
   "id": "6eea6fe3-1192-4984-87ad-ea9bfe062c1a",
   "metadata": {},
   "outputs": [
    {
     "data": {
      "text/html": [
       "<div>\n",
       "<style scoped>\n",
       "    .dataframe tbody tr th:only-of-type {\n",
       "        vertical-align: middle;\n",
       "    }\n",
       "\n",
       "    .dataframe tbody tr th {\n",
       "        vertical-align: top;\n",
       "    }\n",
       "\n",
       "    .dataframe thead th {\n",
       "        text-align: right;\n",
       "    }\n",
       "</style>\n",
       "<table border=\"1\" class=\"dataframe\">\n",
       "  <thead>\n",
       "    <tr style=\"text-align: right;\">\n",
       "      <th></th>\n",
       "      <th>Review</th>\n",
       "      <th>Rating</th>\n",
       "    </tr>\n",
       "  </thead>\n",
       "  <tbody>\n",
       "    <tr>\n",
       "      <th>0</th>\n",
       "      <td>nice hotel expensive parking got good deal sta...</td>\n",
       "      <td>4</td>\n",
       "    </tr>\n",
       "    <tr>\n",
       "      <th>1</th>\n",
       "      <td>ok nothing special charge diamond member hilto...</td>\n",
       "      <td>2</td>\n",
       "    </tr>\n",
       "    <tr>\n",
       "      <th>2</th>\n",
       "      <td>nice rooms not 4* experience hotel monaco seat...</td>\n",
       "      <td>3</td>\n",
       "    </tr>\n",
       "    <tr>\n",
       "      <th>3</th>\n",
       "      <td>unique, great stay, wonderful time hotel monac...</td>\n",
       "      <td>5</td>\n",
       "    </tr>\n",
       "    <tr>\n",
       "      <th>4</th>\n",
       "      <td>great stay great stay, went seahawk game aweso...</td>\n",
       "      <td>5</td>\n",
       "    </tr>\n",
       "  </tbody>\n",
       "</table>\n",
       "</div>"
      ],
      "text/plain": [
       "                                              Review  Rating\n",
       "0  nice hotel expensive parking got good deal sta...       4\n",
       "1  ok nothing special charge diamond member hilto...       2\n",
       "2  nice rooms not 4* experience hotel monaco seat...       3\n",
       "3  unique, great stay, wonderful time hotel monac...       5\n",
       "4  great stay great stay, went seahawk game aweso...       5"
      ]
     },
     "execution_count": 51,
     "metadata": {},
     "output_type": "execute_result"
    }
   ],
   "source": [
    "data.head()"
   ]
  },
  {
   "cell_type": "code",
   "execution_count": 52,
   "id": "7ab2ac83-107e-4941-8910-4d8e7a98433d",
   "metadata": {},
   "outputs": [
    {
     "data": {
      "text/plain": [
       "'nice hotel expensive parking got good deal stay hotel anniversary, arrived late evening took advice previous reviews did valet parking, check quick easy, little disappointed non-existent view room room clean nice size, bed comfortable woke stiff neck high pillows, not soundproof like heard music room night morning loud bangs doors opening closing hear people talking hallway, maybe just noisy neighbors, aveda bath products nice, did not goldfish stay nice touch taken advantage staying longer, location great walking distance shopping, overall nice experience having pay 40 parking night,  '"
      ]
     },
     "execution_count": 52,
     "metadata": {},
     "output_type": "execute_result"
    }
   ],
   "source": [
    "data['Review'][0]"
   ]
  },
  {
   "cell_type": "markdown",
   "id": "f227cc7f-1fcb-40b0-a609-89c3219ff6c7",
   "metadata": {},
   "source": [
    "* LowerCase"
   ]
  },
  {
   "cell_type": "code",
   "execution_count": 54,
   "id": "86e4d8f3-bf90-485a-b7d2-186cc5d9684a",
   "metadata": {},
   "outputs": [
    {
     "data": {
      "text/html": [
       "<div>\n",
       "<style scoped>\n",
       "    .dataframe tbody tr th:only-of-type {\n",
       "        vertical-align: middle;\n",
       "    }\n",
       "\n",
       "    .dataframe tbody tr th {\n",
       "        vertical-align: top;\n",
       "    }\n",
       "\n",
       "    .dataframe thead th {\n",
       "        text-align: right;\n",
       "    }\n",
       "</style>\n",
       "<table border=\"1\" class=\"dataframe\">\n",
       "  <thead>\n",
       "    <tr style=\"text-align: right;\">\n",
       "      <th></th>\n",
       "      <th>Review</th>\n",
       "      <th>Rating</th>\n",
       "      <th>review_lowercase</th>\n",
       "    </tr>\n",
       "  </thead>\n",
       "  <tbody>\n",
       "    <tr>\n",
       "      <th>0</th>\n",
       "      <td>nice hotel expensive parking got good deal sta...</td>\n",
       "      <td>4</td>\n",
       "      <td>nice hotel expensive parking got good deal sta...</td>\n",
       "    </tr>\n",
       "    <tr>\n",
       "      <th>1</th>\n",
       "      <td>ok nothing special charge diamond member hilto...</td>\n",
       "      <td>2</td>\n",
       "      <td>ok nothing special charge diamond member hilto...</td>\n",
       "    </tr>\n",
       "    <tr>\n",
       "      <th>2</th>\n",
       "      <td>nice rooms not 4* experience hotel monaco seat...</td>\n",
       "      <td>3</td>\n",
       "      <td>nice rooms not 4* experience hotel monaco seat...</td>\n",
       "    </tr>\n",
       "    <tr>\n",
       "      <th>3</th>\n",
       "      <td>unique, great stay, wonderful time hotel monac...</td>\n",
       "      <td>5</td>\n",
       "      <td>unique, great stay, wonderful time hotel monac...</td>\n",
       "    </tr>\n",
       "    <tr>\n",
       "      <th>4</th>\n",
       "      <td>great stay great stay, went seahawk game aweso...</td>\n",
       "      <td>5</td>\n",
       "      <td>great stay great stay, went seahawk game aweso...</td>\n",
       "    </tr>\n",
       "  </tbody>\n",
       "</table>\n",
       "</div>"
      ],
      "text/plain": [
       "                                              Review  Rating  \\\n",
       "0  nice hotel expensive parking got good deal sta...       4   \n",
       "1  ok nothing special charge diamond member hilto...       2   \n",
       "2  nice rooms not 4* experience hotel monaco seat...       3   \n",
       "3  unique, great stay, wonderful time hotel monac...       5   \n",
       "4  great stay great stay, went seahawk game aweso...       5   \n",
       "\n",
       "                                    review_lowercase  \n",
       "0  nice hotel expensive parking got good deal sta...  \n",
       "1  ok nothing special charge diamond member hilto...  \n",
       "2  nice rooms not 4* experience hotel monaco seat...  \n",
       "3  unique, great stay, wonderful time hotel monac...  \n",
       "4  great stay great stay, went seahawk game aweso...  "
      ]
     },
     "execution_count": 54,
     "metadata": {},
     "output_type": "execute_result"
    }
   ],
   "source": [
    "data['review_lowercase']=data['Review'].str.lower()\n",
    "data.head()"
   ]
  },
  {
   "cell_type": "markdown",
   "id": "f5b1d320-86ef-4d5b-8590-be1c680b1d59",
   "metadata": {},
   "source": [
    "* Remove Stop Words"
   ]
  },
  {
   "cell_type": "code",
   "execution_count": 56,
   "id": "e73f7568-a757-4038-b63f-a818f021ac91",
   "metadata": {},
   "outputs": [],
   "source": [
    "en_stopwords=stopwords.words('english')\n",
    "en_stopwords.remove('not')"
   ]
  },
  {
   "cell_type": "code",
   "execution_count": 57,
   "id": "b4120c88-f87e-41d2-9751-ff7fb88534ef",
   "metadata": {},
   "outputs": [
    {
     "data": {
      "text/html": [
       "<div>\n",
       "<style scoped>\n",
       "    .dataframe tbody tr th:only-of-type {\n",
       "        vertical-align: middle;\n",
       "    }\n",
       "\n",
       "    .dataframe tbody tr th {\n",
       "        vertical-align: top;\n",
       "    }\n",
       "\n",
       "    .dataframe thead th {\n",
       "        text-align: right;\n",
       "    }\n",
       "</style>\n",
       "<table border=\"1\" class=\"dataframe\">\n",
       "  <thead>\n",
       "    <tr style=\"text-align: right;\">\n",
       "      <th></th>\n",
       "      <th>Review</th>\n",
       "      <th>Rating</th>\n",
       "      <th>review_lowercase</th>\n",
       "      <th>review_no_stopwords</th>\n",
       "    </tr>\n",
       "  </thead>\n",
       "  <tbody>\n",
       "    <tr>\n",
       "      <th>0</th>\n",
       "      <td>nice hotel expensive parking got good deal sta...</td>\n",
       "      <td>4</td>\n",
       "      <td>nice hotel expensive parking got good deal sta...</td>\n",
       "      <td>nice hotel expensive parking got good deal sta...</td>\n",
       "    </tr>\n",
       "    <tr>\n",
       "      <th>1</th>\n",
       "      <td>ok nothing special charge diamond member hilto...</td>\n",
       "      <td>2</td>\n",
       "      <td>ok nothing special charge diamond member hilto...</td>\n",
       "      <td>ok nothing special charge diamond member hilto...</td>\n",
       "    </tr>\n",
       "    <tr>\n",
       "      <th>2</th>\n",
       "      <td>nice rooms not 4* experience hotel monaco seat...</td>\n",
       "      <td>3</td>\n",
       "      <td>nice rooms not 4* experience hotel monaco seat...</td>\n",
       "      <td>nice rooms not 4* experience hotel monaco seat...</td>\n",
       "    </tr>\n",
       "    <tr>\n",
       "      <th>3</th>\n",
       "      <td>unique, great stay, wonderful time hotel monac...</td>\n",
       "      <td>5</td>\n",
       "      <td>unique, great stay, wonderful time hotel monac...</td>\n",
       "      <td>unique, great stay, wonderful time hotel monac...</td>\n",
       "    </tr>\n",
       "    <tr>\n",
       "      <th>4</th>\n",
       "      <td>great stay great stay, went seahawk game aweso...</td>\n",
       "      <td>5</td>\n",
       "      <td>great stay great stay, went seahawk game aweso...</td>\n",
       "      <td>great stay great stay, went seahawk game aweso...</td>\n",
       "    </tr>\n",
       "  </tbody>\n",
       "</table>\n",
       "</div>"
      ],
      "text/plain": [
       "                                              Review  Rating  \\\n",
       "0  nice hotel expensive parking got good deal sta...       4   \n",
       "1  ok nothing special charge diamond member hilto...       2   \n",
       "2  nice rooms not 4* experience hotel monaco seat...       3   \n",
       "3  unique, great stay, wonderful time hotel monac...       5   \n",
       "4  great stay great stay, went seahawk game aweso...       5   \n",
       "\n",
       "                                    review_lowercase  \\\n",
       "0  nice hotel expensive parking got good deal sta...   \n",
       "1  ok nothing special charge diamond member hilto...   \n",
       "2  nice rooms not 4* experience hotel monaco seat...   \n",
       "3  unique, great stay, wonderful time hotel monac...   \n",
       "4  great stay great stay, went seahawk game aweso...   \n",
       "\n",
       "                                 review_no_stopwords  \n",
       "0  nice hotel expensive parking got good deal sta...  \n",
       "1  ok nothing special charge diamond member hilto...  \n",
       "2  nice rooms not 4* experience hotel monaco seat...  \n",
       "3  unique, great stay, wonderful time hotel monac...  \n",
       "4  great stay great stay, went seahawk game aweso...  "
      ]
     },
     "execution_count": 57,
     "metadata": {},
     "output_type": "execute_result"
    }
   ],
   "source": [
    "data['review_no_stopwords']=data['review_lowercase']\\\n",
    "                        .apply(lambda x:' '\\\n",
    "                               .join([word for word in x.split() if word not in en_stopwords]))\n",
    "                               \n",
    "data.head()                               "
   ]
  },
  {
   "cell_type": "code",
   "execution_count": 58,
   "id": "3375774e-0f6f-4b3a-84d9-31a3337e2e0e",
   "metadata": {},
   "outputs": [
    {
     "data": {
      "text/plain": [
       "'nice hotel expensive parking got good deal stay hotel anniversary, arrived late evening took advice previous reviews valet parking, check quick easy, little disappointed non-existent view room room clean nice size, bed comfortable woke stiff neck high pillows, not soundproof like heard music room night morning loud bangs doors opening closing hear people talking hallway, maybe noisy neighbors, aveda bath products nice, not goldfish stay nice touch taken advantage staying longer, location great walking distance shopping, overall nice experience pay 40 parking night,'"
      ]
     },
     "execution_count": 58,
     "metadata": {},
     "output_type": "execute_result"
    }
   ],
   "source": [
    "data['review_no_stopwords'][0]"
   ]
  },
  {
   "cell_type": "markdown",
   "id": "47b8d89d-1071-4055-b88c-72f0ae7473eb",
   "metadata": {},
   "source": [
    "* Punctuation    \n",
    "We want to remove punctation but we notice we have a few reviews with the symbol * instead of the word star. We want to keep this as it might add meaning to the review. We can do this using what we learned about regular expressions."
   ]
  },
  {
   "cell_type": "code",
   "execution_count": 60,
   "id": "9af8978d-814c-43a3-9a42-9cce61887214",
   "metadata": {},
   "outputs": [],
   "source": [
    "#change * by star\n",
    "data['review_no_stopwords_no_punct'] = data \\\n",
    "                    .apply(lambda x: \\\n",
    "                           re.sub(r\"[*]\",\"star\",x['review_no_stopwords'])\\\n",
    "                           ,axis=1)"
   ]
  },
  {
   "cell_type": "code",
   "execution_count": 61,
   "id": "5eea3a47-48ae-459a-9e1e-93b52acebab9",
   "metadata": {},
   "outputs": [
    {
     "data": {
      "text/html": [
       "<div>\n",
       "<style scoped>\n",
       "    .dataframe tbody tr th:only-of-type {\n",
       "        vertical-align: middle;\n",
       "    }\n",
       "\n",
       "    .dataframe tbody tr th {\n",
       "        vertical-align: top;\n",
       "    }\n",
       "\n",
       "    .dataframe thead th {\n",
       "        text-align: right;\n",
       "    }\n",
       "</style>\n",
       "<table border=\"1\" class=\"dataframe\">\n",
       "  <thead>\n",
       "    <tr style=\"text-align: right;\">\n",
       "      <th></th>\n",
       "      <th>Review</th>\n",
       "      <th>Rating</th>\n",
       "      <th>review_lowercase</th>\n",
       "      <th>review_no_stopwords</th>\n",
       "      <th>review_no_stopwords_no_punct</th>\n",
       "    </tr>\n",
       "  </thead>\n",
       "  <tbody>\n",
       "    <tr>\n",
       "      <th>0</th>\n",
       "      <td>nice hotel expensive parking got good deal sta...</td>\n",
       "      <td>4</td>\n",
       "      <td>nice hotel expensive parking got good deal sta...</td>\n",
       "      <td>nice hotel expensive parking got good deal sta...</td>\n",
       "      <td>nice hotel expensive parking got good deal sta...</td>\n",
       "    </tr>\n",
       "    <tr>\n",
       "      <th>1</th>\n",
       "      <td>ok nothing special charge diamond member hilto...</td>\n",
       "      <td>2</td>\n",
       "      <td>ok nothing special charge diamond member hilto...</td>\n",
       "      <td>ok nothing special charge diamond member hilto...</td>\n",
       "      <td>ok nothing special charge diamond member hilto...</td>\n",
       "    </tr>\n",
       "    <tr>\n",
       "      <th>2</th>\n",
       "      <td>nice rooms not 4* experience hotel monaco seat...</td>\n",
       "      <td>3</td>\n",
       "      <td>nice rooms not 4* experience hotel monaco seat...</td>\n",
       "      <td>nice rooms not 4* experience hotel monaco seat...</td>\n",
       "      <td>nice rooms not 4star experience hotel monaco s...</td>\n",
       "    </tr>\n",
       "    <tr>\n",
       "      <th>3</th>\n",
       "      <td>unique, great stay, wonderful time hotel monac...</td>\n",
       "      <td>5</td>\n",
       "      <td>unique, great stay, wonderful time hotel monac...</td>\n",
       "      <td>unique, great stay, wonderful time hotel monac...</td>\n",
       "      <td>unique, great stay, wonderful time hotel monac...</td>\n",
       "    </tr>\n",
       "    <tr>\n",
       "      <th>4</th>\n",
       "      <td>great stay great stay, went seahawk game aweso...</td>\n",
       "      <td>5</td>\n",
       "      <td>great stay great stay, went seahawk game aweso...</td>\n",
       "      <td>great stay great stay, went seahawk game aweso...</td>\n",
       "      <td>great stay great stay, went seahawk game aweso...</td>\n",
       "    </tr>\n",
       "  </tbody>\n",
       "</table>\n",
       "</div>"
      ],
      "text/plain": [
       "                                              Review  Rating  \\\n",
       "0  nice hotel expensive parking got good deal sta...       4   \n",
       "1  ok nothing special charge diamond member hilto...       2   \n",
       "2  nice rooms not 4* experience hotel monaco seat...       3   \n",
       "3  unique, great stay, wonderful time hotel monac...       5   \n",
       "4  great stay great stay, went seahawk game aweso...       5   \n",
       "\n",
       "                                    review_lowercase  \\\n",
       "0  nice hotel expensive parking got good deal sta...   \n",
       "1  ok nothing special charge diamond member hilto...   \n",
       "2  nice rooms not 4* experience hotel monaco seat...   \n",
       "3  unique, great stay, wonderful time hotel monac...   \n",
       "4  great stay great stay, went seahawk game aweso...   \n",
       "\n",
       "                                 review_no_stopwords  \\\n",
       "0  nice hotel expensive parking got good deal sta...   \n",
       "1  ok nothing special charge diamond member hilto...   \n",
       "2  nice rooms not 4* experience hotel monaco seat...   \n",
       "3  unique, great stay, wonderful time hotel monac...   \n",
       "4  great stay great stay, went seahawk game aweso...   \n",
       "\n",
       "                        review_no_stopwords_no_punct  \n",
       "0  nice hotel expensive parking got good deal sta...  \n",
       "1  ok nothing special charge diamond member hilto...  \n",
       "2  nice rooms not 4star experience hotel monaco s...  \n",
       "3  unique, great stay, wonderful time hotel monac...  \n",
       "4  great stay great stay, went seahawk game aweso...  "
      ]
     },
     "execution_count": 61,
     "metadata": {},
     "output_type": "execute_result"
    }
   ],
   "source": [
    "data.head()"
   ]
  },
  {
   "cell_type": "code",
   "execution_count": 62,
   "id": "50f6c9d3-ff01-4c01-b2af-79b0098de66b",
   "metadata": {},
   "outputs": [
    {
     "data": {
      "text/html": [
       "<div>\n",
       "<style scoped>\n",
       "    .dataframe tbody tr th:only-of-type {\n",
       "        vertical-align: middle;\n",
       "    }\n",
       "\n",
       "    .dataframe tbody tr th {\n",
       "        vertical-align: top;\n",
       "    }\n",
       "\n",
       "    .dataframe thead th {\n",
       "        text-align: right;\n",
       "    }\n",
       "</style>\n",
       "<table border=\"1\" class=\"dataframe\">\n",
       "  <thead>\n",
       "    <tr style=\"text-align: right;\">\n",
       "      <th></th>\n",
       "      <th>Review</th>\n",
       "      <th>Rating</th>\n",
       "      <th>review_lowercase</th>\n",
       "      <th>review_no_stopwords</th>\n",
       "      <th>review_no_stopwords_no_punct</th>\n",
       "    </tr>\n",
       "  </thead>\n",
       "  <tbody>\n",
       "    <tr>\n",
       "      <th>0</th>\n",
       "      <td>nice hotel expensive parking got good deal sta...</td>\n",
       "      <td>4</td>\n",
       "      <td>nice hotel expensive parking got good deal sta...</td>\n",
       "      <td>nice hotel expensive parking got good deal sta...</td>\n",
       "      <td>nice hotel expensive parking got good deal sta...</td>\n",
       "    </tr>\n",
       "    <tr>\n",
       "      <th>1</th>\n",
       "      <td>ok nothing special charge diamond member hilto...</td>\n",
       "      <td>2</td>\n",
       "      <td>ok nothing special charge diamond member hilto...</td>\n",
       "      <td>ok nothing special charge diamond member hilto...</td>\n",
       "      <td>ok nothing special charge diamond member hilto...</td>\n",
       "    </tr>\n",
       "    <tr>\n",
       "      <th>2</th>\n",
       "      <td>nice rooms not 4* experience hotel monaco seat...</td>\n",
       "      <td>3</td>\n",
       "      <td>nice rooms not 4* experience hotel monaco seat...</td>\n",
       "      <td>nice rooms not 4* experience hotel monaco seat...</td>\n",
       "      <td>nice rooms not 4star experience hotel monaco s...</td>\n",
       "    </tr>\n",
       "    <tr>\n",
       "      <th>3</th>\n",
       "      <td>unique, great stay, wonderful time hotel monac...</td>\n",
       "      <td>5</td>\n",
       "      <td>unique, great stay, wonderful time hotel monac...</td>\n",
       "      <td>unique, great stay, wonderful time hotel monac...</td>\n",
       "      <td>unique great stay wonderful time hotel monaco ...</td>\n",
       "    </tr>\n",
       "    <tr>\n",
       "      <th>4</th>\n",
       "      <td>great stay great stay, went seahawk game aweso...</td>\n",
       "      <td>5</td>\n",
       "      <td>great stay great stay, went seahawk game aweso...</td>\n",
       "      <td>great stay great stay, went seahawk game aweso...</td>\n",
       "      <td>great stay great stay went seahawk game awesom...</td>\n",
       "    </tr>\n",
       "  </tbody>\n",
       "</table>\n",
       "</div>"
      ],
      "text/plain": [
       "                                              Review  Rating  \\\n",
       "0  nice hotel expensive parking got good deal sta...       4   \n",
       "1  ok nothing special charge diamond member hilto...       2   \n",
       "2  nice rooms not 4* experience hotel monaco seat...       3   \n",
       "3  unique, great stay, wonderful time hotel monac...       5   \n",
       "4  great stay great stay, went seahawk game aweso...       5   \n",
       "\n",
       "                                    review_lowercase  \\\n",
       "0  nice hotel expensive parking got good deal sta...   \n",
       "1  ok nothing special charge diamond member hilto...   \n",
       "2  nice rooms not 4* experience hotel monaco seat...   \n",
       "3  unique, great stay, wonderful time hotel monac...   \n",
       "4  great stay great stay, went seahawk game aweso...   \n",
       "\n",
       "                                 review_no_stopwords  \\\n",
       "0  nice hotel expensive parking got good deal sta...   \n",
       "1  ok nothing special charge diamond member hilto...   \n",
       "2  nice rooms not 4* experience hotel monaco seat...   \n",
       "3  unique, great stay, wonderful time hotel monac...   \n",
       "4  great stay great stay, went seahawk game aweso...   \n",
       "\n",
       "                        review_no_stopwords_no_punct  \n",
       "0  nice hotel expensive parking got good deal sta...  \n",
       "1  ok nothing special charge diamond member hilto...  \n",
       "2  nice rooms not 4star experience hotel monaco s...  \n",
       "3  unique great stay wonderful time hotel monaco ...  \n",
       "4  great stay great stay went seahawk game awesom...  "
      ]
     },
     "execution_count": 62,
     "metadata": {},
     "output_type": "execute_result"
    }
   ],
   "source": [
    "#remove punctuation\n",
    "data['review_no_stopwords_no_punct']=data \\\n",
    "                .apply(lambda x: re.sub(r\"([^\\w\\s])\",\"\",x['review_no_stopwords_no_punct'])\\\n",
    "                       ,axis=1)\n",
    "data.head()"
   ]
  },
  {
   "cell_type": "markdown",
   "id": "ba39da79-70c7-45ab-8d64-991bbbc642fa",
   "metadata": {},
   "source": [
    "* Tokenization"
   ]
  },
  {
   "cell_type": "code",
   "execution_count": 64,
   "id": "c36d6f39-b795-4d51-a7b9-4cacc0d7fa3f",
   "metadata": {},
   "outputs": [
    {
     "data": {
      "text/plain": [
       "['nice',\n",
       " 'hotel',\n",
       " 'expensive',\n",
       " 'parking',\n",
       " 'got',\n",
       " 'good',\n",
       " 'deal',\n",
       " 'stay',\n",
       " 'hotel',\n",
       " 'anniversary']"
      ]
     },
     "execution_count": 64,
     "metadata": {},
     "output_type": "execute_result"
    }
   ],
   "source": [
    "data['tokenized']=data.apply(lambda x:\\\n",
    "                             word_tokenize(x['review_no_stopwords_no_punct']),axis=1)\n",
    "data['tokenized'][0][:10]"
   ]
  },
  {
   "cell_type": "markdown",
   "id": "faf61fcf-8e7b-4e46-ba05-c183b0ef528b",
   "metadata": {},
   "source": [
    "* Stemming "
   ]
  },
  {
   "cell_type": "code",
   "execution_count": 66,
   "id": "500de754-4ff2-43f8-8ce8-8e9ed9e0344a",
   "metadata": {},
   "outputs": [
    {
     "data": {
      "text/html": [
       "<div>\n",
       "<style scoped>\n",
       "    .dataframe tbody tr th:only-of-type {\n",
       "        vertical-align: middle;\n",
       "    }\n",
       "\n",
       "    .dataframe tbody tr th {\n",
       "        vertical-align: top;\n",
       "    }\n",
       "\n",
       "    .dataframe thead th {\n",
       "        text-align: right;\n",
       "    }\n",
       "</style>\n",
       "<table border=\"1\" class=\"dataframe\">\n",
       "  <thead>\n",
       "    <tr style=\"text-align: right;\">\n",
       "      <th></th>\n",
       "      <th>Review</th>\n",
       "      <th>Rating</th>\n",
       "      <th>review_lowercase</th>\n",
       "      <th>review_no_stopwords</th>\n",
       "      <th>review_no_stopwords_no_punct</th>\n",
       "      <th>tokenized</th>\n",
       "      <th>stemmed</th>\n",
       "    </tr>\n",
       "  </thead>\n",
       "  <tbody>\n",
       "    <tr>\n",
       "      <th>0</th>\n",
       "      <td>nice hotel expensive parking got good deal sta...</td>\n",
       "      <td>4</td>\n",
       "      <td>nice hotel expensive parking got good deal sta...</td>\n",
       "      <td>nice hotel expensive parking got good deal sta...</td>\n",
       "      <td>nice hotel expensive parking got good deal sta...</td>\n",
       "      <td>[nice, hotel, expensive, parking, got, good, d...</td>\n",
       "      <td>[nice, hotel, expens, park, got, good, deal, s...</td>\n",
       "    </tr>\n",
       "    <tr>\n",
       "      <th>1</th>\n",
       "      <td>ok nothing special charge diamond member hilto...</td>\n",
       "      <td>2</td>\n",
       "      <td>ok nothing special charge diamond member hilto...</td>\n",
       "      <td>ok nothing special charge diamond member hilto...</td>\n",
       "      <td>ok nothing special charge diamond member hilto...</td>\n",
       "      <td>[ok, nothing, special, charge, diamond, member...</td>\n",
       "      <td>[ok, noth, special, charg, diamond, member, hi...</td>\n",
       "    </tr>\n",
       "    <tr>\n",
       "      <th>2</th>\n",
       "      <td>nice rooms not 4* experience hotel monaco seat...</td>\n",
       "      <td>3</td>\n",
       "      <td>nice rooms not 4* experience hotel monaco seat...</td>\n",
       "      <td>nice rooms not 4* experience hotel monaco seat...</td>\n",
       "      <td>nice rooms not 4star experience hotel monaco s...</td>\n",
       "      <td>[nice, rooms, not, 4star, experience, hotel, m...</td>\n",
       "      <td>[nice, room, not, 4star, experi, hotel, monaco...</td>\n",
       "    </tr>\n",
       "    <tr>\n",
       "      <th>3</th>\n",
       "      <td>unique, great stay, wonderful time hotel monac...</td>\n",
       "      <td>5</td>\n",
       "      <td>unique, great stay, wonderful time hotel monac...</td>\n",
       "      <td>unique, great stay, wonderful time hotel monac...</td>\n",
       "      <td>unique great stay wonderful time hotel monaco ...</td>\n",
       "      <td>[unique, great, stay, wonderful, time, hotel, ...</td>\n",
       "      <td>[uniqu, great, stay, wonder, time, hotel, mona...</td>\n",
       "    </tr>\n",
       "    <tr>\n",
       "      <th>4</th>\n",
       "      <td>great stay great stay, went seahawk game aweso...</td>\n",
       "      <td>5</td>\n",
       "      <td>great stay great stay, went seahawk game aweso...</td>\n",
       "      <td>great stay great stay, went seahawk game aweso...</td>\n",
       "      <td>great stay great stay went seahawk game awesom...</td>\n",
       "      <td>[great, stay, great, stay, went, seahawk, game...</td>\n",
       "      <td>[great, stay, great, stay, went, seahawk, game...</td>\n",
       "    </tr>\n",
       "  </tbody>\n",
       "</table>\n",
       "</div>"
      ],
      "text/plain": [
       "                                              Review  Rating  \\\n",
       "0  nice hotel expensive parking got good deal sta...       4   \n",
       "1  ok nothing special charge diamond member hilto...       2   \n",
       "2  nice rooms not 4* experience hotel monaco seat...       3   \n",
       "3  unique, great stay, wonderful time hotel monac...       5   \n",
       "4  great stay great stay, went seahawk game aweso...       5   \n",
       "\n",
       "                                    review_lowercase  \\\n",
       "0  nice hotel expensive parking got good deal sta...   \n",
       "1  ok nothing special charge diamond member hilto...   \n",
       "2  nice rooms not 4* experience hotel monaco seat...   \n",
       "3  unique, great stay, wonderful time hotel monac...   \n",
       "4  great stay great stay, went seahawk game aweso...   \n",
       "\n",
       "                                 review_no_stopwords  \\\n",
       "0  nice hotel expensive parking got good deal sta...   \n",
       "1  ok nothing special charge diamond member hilto...   \n",
       "2  nice rooms not 4* experience hotel monaco seat...   \n",
       "3  unique, great stay, wonderful time hotel monac...   \n",
       "4  great stay great stay, went seahawk game aweso...   \n",
       "\n",
       "                        review_no_stopwords_no_punct  \\\n",
       "0  nice hotel expensive parking got good deal sta...   \n",
       "1  ok nothing special charge diamond member hilto...   \n",
       "2  nice rooms not 4star experience hotel monaco s...   \n",
       "3  unique great stay wonderful time hotel monaco ...   \n",
       "4  great stay great stay went seahawk game awesom...   \n",
       "\n",
       "                                           tokenized  \\\n",
       "0  [nice, hotel, expensive, parking, got, good, d...   \n",
       "1  [ok, nothing, special, charge, diamond, member...   \n",
       "2  [nice, rooms, not, 4star, experience, hotel, m...   \n",
       "3  [unique, great, stay, wonderful, time, hotel, ...   \n",
       "4  [great, stay, great, stay, went, seahawk, game...   \n",
       "\n",
       "                                             stemmed  \n",
       "0  [nice, hotel, expens, park, got, good, deal, s...  \n",
       "1  [ok, noth, special, charg, diamond, member, hi...  \n",
       "2  [nice, room, not, 4star, experi, hotel, monaco...  \n",
       "3  [uniqu, great, stay, wonder, time, hotel, mona...  \n",
       "4  [great, stay, great, stay, went, seahawk, game...  "
      ]
     },
     "execution_count": 66,
     "metadata": {},
     "output_type": "execute_result"
    }
   ],
   "source": [
    "ps= PorterStemmer()\n",
    "data['stemmed']=data['tokenized'].apply(lambda x:\\\n",
    "                                       [ps.stem(token) for token in x])\n",
    "data.head()"
   ]
  },
  {
   "cell_type": "markdown",
   "id": "60b16468-7380-415f-94be-b78b271ad655",
   "metadata": {},
   "source": [
    "* Lemmatization :"
   ]
  },
  {
   "cell_type": "code",
   "execution_count": 68,
   "id": "03726bb3-4d13-4b60-b922-d8e89ea0127b",
   "metadata": {},
   "outputs": [
    {
     "data": {
      "text/html": [
       "<div>\n",
       "<style scoped>\n",
       "    .dataframe tbody tr th:only-of-type {\n",
       "        vertical-align: middle;\n",
       "    }\n",
       "\n",
       "    .dataframe tbody tr th {\n",
       "        vertical-align: top;\n",
       "    }\n",
       "\n",
       "    .dataframe thead th {\n",
       "        text-align: right;\n",
       "    }\n",
       "</style>\n",
       "<table border=\"1\" class=\"dataframe\">\n",
       "  <thead>\n",
       "    <tr style=\"text-align: right;\">\n",
       "      <th></th>\n",
       "      <th>Review</th>\n",
       "      <th>Rating</th>\n",
       "      <th>review_lowercase</th>\n",
       "      <th>review_no_stopwords</th>\n",
       "      <th>review_no_stopwords_no_punct</th>\n",
       "      <th>tokenized</th>\n",
       "      <th>stemmed</th>\n",
       "      <th>lemmatized</th>\n",
       "    </tr>\n",
       "  </thead>\n",
       "  <tbody>\n",
       "    <tr>\n",
       "      <th>0</th>\n",
       "      <td>nice hotel expensive parking got good deal sta...</td>\n",
       "      <td>4</td>\n",
       "      <td>nice hotel expensive parking got good deal sta...</td>\n",
       "      <td>nice hotel expensive parking got good deal sta...</td>\n",
       "      <td>nice hotel expensive parking got good deal sta...</td>\n",
       "      <td>[nice, hotel, expensive, parking, got, good, d...</td>\n",
       "      <td>[nice, hotel, expens, park, got, good, deal, s...</td>\n",
       "      <td>[nice, hotel, expensive, parking, got, good, d...</td>\n",
       "    </tr>\n",
       "    <tr>\n",
       "      <th>1</th>\n",
       "      <td>ok nothing special charge diamond member hilto...</td>\n",
       "      <td>2</td>\n",
       "      <td>ok nothing special charge diamond member hilto...</td>\n",
       "      <td>ok nothing special charge diamond member hilto...</td>\n",
       "      <td>ok nothing special charge diamond member hilto...</td>\n",
       "      <td>[ok, nothing, special, charge, diamond, member...</td>\n",
       "      <td>[ok, noth, special, charg, diamond, member, hi...</td>\n",
       "      <td>[ok, nothing, special, charge, diamond, member...</td>\n",
       "    </tr>\n",
       "    <tr>\n",
       "      <th>2</th>\n",
       "      <td>nice rooms not 4* experience hotel monaco seat...</td>\n",
       "      <td>3</td>\n",
       "      <td>nice rooms not 4* experience hotel monaco seat...</td>\n",
       "      <td>nice rooms not 4* experience hotel monaco seat...</td>\n",
       "      <td>nice rooms not 4star experience hotel monaco s...</td>\n",
       "      <td>[nice, rooms, not, 4star, experience, hotel, m...</td>\n",
       "      <td>[nice, room, not, 4star, experi, hotel, monaco...</td>\n",
       "      <td>[nice, room, not, 4star, experience, hotel, mo...</td>\n",
       "    </tr>\n",
       "    <tr>\n",
       "      <th>3</th>\n",
       "      <td>unique, great stay, wonderful time hotel monac...</td>\n",
       "      <td>5</td>\n",
       "      <td>unique, great stay, wonderful time hotel monac...</td>\n",
       "      <td>unique, great stay, wonderful time hotel monac...</td>\n",
       "      <td>unique great stay wonderful time hotel monaco ...</td>\n",
       "      <td>[unique, great, stay, wonderful, time, hotel, ...</td>\n",
       "      <td>[uniqu, great, stay, wonder, time, hotel, mona...</td>\n",
       "      <td>[unique, great, stay, wonderful, time, hotel, ...</td>\n",
       "    </tr>\n",
       "    <tr>\n",
       "      <th>4</th>\n",
       "      <td>great stay great stay, went seahawk game aweso...</td>\n",
       "      <td>5</td>\n",
       "      <td>great stay great stay, went seahawk game aweso...</td>\n",
       "      <td>great stay great stay, went seahawk game aweso...</td>\n",
       "      <td>great stay great stay went seahawk game awesom...</td>\n",
       "      <td>[great, stay, great, stay, went, seahawk, game...</td>\n",
       "      <td>[great, stay, great, stay, went, seahawk, game...</td>\n",
       "      <td>[great, stay, great, stay, went, seahawk, game...</td>\n",
       "    </tr>\n",
       "  </tbody>\n",
       "</table>\n",
       "</div>"
      ],
      "text/plain": [
       "                                              Review  Rating  \\\n",
       "0  nice hotel expensive parking got good deal sta...       4   \n",
       "1  ok nothing special charge diamond member hilto...       2   \n",
       "2  nice rooms not 4* experience hotel monaco seat...       3   \n",
       "3  unique, great stay, wonderful time hotel monac...       5   \n",
       "4  great stay great stay, went seahawk game aweso...       5   \n",
       "\n",
       "                                    review_lowercase  \\\n",
       "0  nice hotel expensive parking got good deal sta...   \n",
       "1  ok nothing special charge diamond member hilto...   \n",
       "2  nice rooms not 4* experience hotel monaco seat...   \n",
       "3  unique, great stay, wonderful time hotel monac...   \n",
       "4  great stay great stay, went seahawk game aweso...   \n",
       "\n",
       "                                 review_no_stopwords  \\\n",
       "0  nice hotel expensive parking got good deal sta...   \n",
       "1  ok nothing special charge diamond member hilto...   \n",
       "2  nice rooms not 4* experience hotel monaco seat...   \n",
       "3  unique, great stay, wonderful time hotel monac...   \n",
       "4  great stay great stay, went seahawk game aweso...   \n",
       "\n",
       "                        review_no_stopwords_no_punct  \\\n",
       "0  nice hotel expensive parking got good deal sta...   \n",
       "1  ok nothing special charge diamond member hilto...   \n",
       "2  nice rooms not 4star experience hotel monaco s...   \n",
       "3  unique great stay wonderful time hotel monaco ...   \n",
       "4  great stay great stay went seahawk game awesom...   \n",
       "\n",
       "                                           tokenized  \\\n",
       "0  [nice, hotel, expensive, parking, got, good, d...   \n",
       "1  [ok, nothing, special, charge, diamond, member...   \n",
       "2  [nice, rooms, not, 4star, experience, hotel, m...   \n",
       "3  [unique, great, stay, wonderful, time, hotel, ...   \n",
       "4  [great, stay, great, stay, went, seahawk, game...   \n",
       "\n",
       "                                             stemmed  \\\n",
       "0  [nice, hotel, expens, park, got, good, deal, s...   \n",
       "1  [ok, noth, special, charg, diamond, member, hi...   \n",
       "2  [nice, room, not, 4star, experi, hotel, monaco...   \n",
       "3  [uniqu, great, stay, wonder, time, hotel, mona...   \n",
       "4  [great, stay, great, stay, went, seahawk, game...   \n",
       "\n",
       "                                          lemmatized  \n",
       "0  [nice, hotel, expensive, parking, got, good, d...  \n",
       "1  [ok, nothing, special, charge, diamond, member...  \n",
       "2  [nice, room, not, 4star, experience, hotel, mo...  \n",
       "3  [unique, great, stay, wonderful, time, hotel, ...  \n",
       "4  [great, stay, great, stay, went, seahawk, game...  "
      ]
     },
     "execution_count": 68,
     "metadata": {},
     "output_type": "execute_result"
    }
   ],
   "source": [
    "lemmatizer = WordNetLemmatizer()\n",
    "data[\"lemmatized\"] = data[\"tokenized\"]\\\n",
    "                .apply(lambda x: [lemmatizer.lemmatize(token) for token in x])\n",
    "data.head()"
   ]
  },
  {
   "cell_type": "markdown",
   "id": "1fcef78c-87d8-4102-9d84-1113680d9330",
   "metadata": {},
   "source": [
    "* N-GRAMS"
   ]
  },
  {
   "cell_type": "code",
   "execution_count": 70,
   "id": "b35d215f-97d1-47e5-9406-f48d47c924b6",
   "metadata": {},
   "outputs": [],
   "source": [
    "tokens_clean = sum(data['lemmatized'], [])"
   ]
  },
  {
   "cell_type": "code",
   "execution_count": 71,
   "id": "d2d58962-012a-4924-8078-50b49b2df23d",
   "metadata": {},
   "outputs": [
    {
     "name": "stdout",
     "output_type": "stream",
     "text": [
      "(hotel,)           292\n",
      "(room,)            275\n",
      "(great,)           126\n",
      "(not,)             122\n",
      "(stay,)             95\n",
      "                  ... \n",
      "(175,)               1\n",
      "(smackagainst,)      1\n",
      "(2x,)                1\n",
      "(80,)                1\n",
      "(connected,)         1\n",
      "Name: count, Length: 2589, dtype: int64\n"
     ]
    }
   ],
   "source": [
    "unigrams =(pd.Series(nltk.ngrams(tokens_clean , 1)).value_counts())\n",
    "print(unigrams)\n"
   ]
  },
  {
   "cell_type": "code",
   "execution_count": 72,
   "id": "2a0a0425-e5ca-4df2-a27b-960a98fddac5",
   "metadata": {},
   "outputs": [
    {
     "name": "stdout",
     "output_type": "stream",
     "text": [
      "(great, location)     24\n",
      "(space, needle)       21\n",
      "(hotel, monaco)       16\n",
      "(great, hotel)        12\n",
      "(staff, friendly)     12\n",
      "                      ..\n",
      "(didnt, make)          1\n",
      "(personnel, didnt)     1\n",
      "(minute, stay)         1\n",
      "(starting, minute)     1\n",
      "(food, raffle)         1\n",
      "Name: count, Length: 8263, dtype: int64\n"
     ]
    }
   ],
   "source": [
    "# bigrams: n=2\n",
    "bigrams = (pd.Series \\\n",
    "           (nltk.ngrams(tokens_clean, 2)) \\\n",
    "           .value_counts()) \n",
    "print(bigrams)"
   ]
  },
  {
   "cell_type": "code",
   "execution_count": 73,
   "id": "1cad4766-f744-43d9-bd86-a8c30520afc9",
   "metadata": {},
   "outputs": [
    {
     "name": "stdout",
     "output_type": "stream",
     "text": [
      "(high, floor, great, view)                   2\n",
      "(definitely, stay, crowne, plaza)            2\n",
      "(needle, experience, music, project)         2\n",
      "(nice, hotel, husband, stayed)               2\n",
      "(really, comfortable, clean, location)       2\n",
      "                                            ..\n",
      "(unfortunately, warwick, seattle, hotel)     1\n",
      "(warwick, seattle, hotel, dissapointment)    1\n",
      "(seattle, hotel, dissapointment, trip)       1\n",
      "(hotel, dissapointment, trip, 3)             1\n",
      "(raffle, hotel, right, street)               1\n",
      "Name: count, Length: 9387, dtype: int64\n"
     ]
    }
   ],
   "source": [
    "ngrams_4 = (pd.Series \\\n",
    "            (nltk.ngrams(tokens_clean, 4)) \\\n",
    "            .value_counts()) \n",
    "print(ngrams_4)"
   ]
  },
  {
   "cell_type": "markdown",
   "id": "c9fda7dc-c0f6-4630-af03-ca442abb5735",
   "metadata": {},
   "source": [
    "# 3- IDENTIFYING PARTS OF SPEECH AND NAMED ENTITITES \n",
    "     - POS:PartOfSpeechTaggings : pronoun,verb,det,adj,noun\n",
    "     - NER:NamedEntityRecognition : person,location,ordinal,geo-political entity (GPE), date, pourcent, ORG"
   ]
  },
  {
   "cell_type": "markdown",
   "id": "24935f5c-c3ee-4ae3-b4ca-39ebe21c2167",
   "metadata": {},
   "source": [
    "**TEXT TAGGING :**"
   ]
  },
  {
   "cell_type": "markdown",
   "id": "a28f1da9-765d-4264-8b1c-d5e7912ecd0c",
   "metadata": {},
   "source": [
    "**1-POS TAGGING**"
   ]
  },
  {
   "cell_type": "code",
   "execution_count": 77,
   "id": "39554a71-cf43-4a2f-b9dc-8c13a5f47438",
   "metadata": {},
   "outputs": [],
   "source": [
    "# Then install a compatible version of spaCy\n",
    "#!pip install spacy==3.5 \n",
    "# Download the language model\n",
    "#python -m spacy download en_core_web_sm\n",
    "import spacy\n",
    "import pandas as pd"
   ]
  },
  {
   "cell_type": "code",
   "execution_count": 78,
   "id": "09181439-3810-46c7-9322-4d10ebe58c3e",
   "metadata": {},
   "outputs": [
    {
     "name": "stdout",
     "output_type": "stream",
     "text": [
      "emma woodhouse handsome clever and rich with a comfortable home and happy disposition seemed to unite some of the best blessings of existence and had lived nearly twentyone years in the world with very little to distress or vex her she was the youngest of the two daughters of a most affectionate indulgent father and had in consequence of her sisters marriage been mistress of his house from a very early period her mother had died too long ago for her to have more than an indistinct remembrance of her caresses and her place had been supplied by an excellent woman as governess who had fallen little short of a mother in affection sixteen years had miss taylor been in mr woodhouses family less as a governess than a friend very fond of both daughters but particularly of emma between them it was more the intimacy of sisters even before miss taylor had ceased to hold the nominal office of governess the mildness of her temper had hardly allowed her to impose any restraint and the shadow of authority being now long passed away they had been living together as friend and friend very mutually attached and emma doing just what she liked highly esteeming miss taylors judgment but directed chiefly by her own\n"
     ]
    }
   ],
   "source": [
    "# Then load the English language model\n",
    "nlp = spacy.load(\"en_core_web_sm\")\n",
    "emma_ja=\"emma woodhouse handsome clever and rich with a comfortable home and happy disposition seemed to unite some of the best blessings of existence and had lived nearly twentyone years in the world with very little to distress or vex her she was the youngest of the two daughters of a most affectionate indulgent father and had in consequence of her sisters marriage been mistress of his house from a very early period her mother had died too long ago for her to have more than an indistinct remembrance of her caresses and her place had been supplied by an excellent woman as governess who had fallen little short of a mother in affection sixteen years had miss taylor been in mr woodhouses family less as a governess than a friend very fond of both daughters but particularly of emma between them it was more the intimacy of sisters even before miss taylor had ceased to hold the nominal office of governess the mildness of her temper had hardly allowed her to impose any restraint and the shadow of authority being now long passed away they had been living together as friend and friend very mutually attached and emma doing just what she liked highly esteeming miss taylors judgment but directed chiefly by her own\"\n",
    "print(emma_ja)"
   ]
  },
  {
   "cell_type": "code",
   "execution_count": 79,
   "id": "d62c3253-9cd7-4414-a6b4-f4a6d1495c94",
   "metadata": {},
   "outputs": [
    {
     "data": {
      "text/html": [
       "<div>\n",
       "<style scoped>\n",
       "    .dataframe tbody tr th:only-of-type {\n",
       "        vertical-align: middle;\n",
       "    }\n",
       "\n",
       "    .dataframe tbody tr th {\n",
       "        vertical-align: top;\n",
       "    }\n",
       "\n",
       "    .dataframe thead th {\n",
       "        text-align: right;\n",
       "    }\n",
       "</style>\n",
       "<table border=\"1\" class=\"dataframe\">\n",
       "  <thead>\n",
       "    <tr style=\"text-align: right;\">\n",
       "      <th></th>\n",
       "      <th>token</th>\n",
       "      <th>pos_tag</th>\n",
       "    </tr>\n",
       "  </thead>\n",
       "  <tbody>\n",
       "    <tr>\n",
       "      <th>0</th>\n",
       "      <td>emma</td>\n",
       "      <td>PROPN</td>\n",
       "    </tr>\n",
       "    <tr>\n",
       "      <th>1</th>\n",
       "      <td>woodhouse</td>\n",
       "      <td>PROPN</td>\n",
       "    </tr>\n",
       "    <tr>\n",
       "      <th>2</th>\n",
       "      <td>handsome</td>\n",
       "      <td>ADV</td>\n",
       "    </tr>\n",
       "    <tr>\n",
       "      <th>3</th>\n",
       "      <td>clever</td>\n",
       "      <td>ADJ</td>\n",
       "    </tr>\n",
       "    <tr>\n",
       "      <th>4</th>\n",
       "      <td>and</td>\n",
       "      <td>CCONJ</td>\n",
       "    </tr>\n",
       "    <tr>\n",
       "      <th>5</th>\n",
       "      <td>rich</td>\n",
       "      <td>ADJ</td>\n",
       "    </tr>\n",
       "    <tr>\n",
       "      <th>6</th>\n",
       "      <td>with</td>\n",
       "      <td>ADP</td>\n",
       "    </tr>\n",
       "    <tr>\n",
       "      <th>7</th>\n",
       "      <td>a</td>\n",
       "      <td>DET</td>\n",
       "    </tr>\n",
       "    <tr>\n",
       "      <th>8</th>\n",
       "      <td>comfortable</td>\n",
       "      <td>ADJ</td>\n",
       "    </tr>\n",
       "    <tr>\n",
       "      <th>9</th>\n",
       "      <td>home</td>\n",
       "      <td>NOUN</td>\n",
       "    </tr>\n",
       "  </tbody>\n",
       "</table>\n",
       "</div>"
      ],
      "text/plain": [
       "         token pos_tag\n",
       "0         emma   PROPN\n",
       "1    woodhouse   PROPN\n",
       "2     handsome     ADV\n",
       "3       clever     ADJ\n",
       "4          and   CCONJ\n",
       "5         rich     ADJ\n",
       "6         with     ADP\n",
       "7            a     DET\n",
       "8  comfortable     ADJ\n",
       "9         home    NOUN"
      ]
     },
     "execution_count": 79,
     "metadata": {},
     "output_type": "execute_result"
    }
   ],
   "source": [
    "# create a spacy doc from our text - this will generate tokens and their assosciated pos tags\n",
    "spacy_doc = nlp(emma_ja)\n",
    "# extract the tokens and pos tags into a dataframe\n",
    "pos_df = pd.DataFrame(columns=['token', 'pos_tag'])\n",
    "for token in spacy_doc:\n",
    "    pos_df = pd.concat([pos_df, pd.DataFrame.from_records([{'token': token.text, 'pos_tag': token.pos_}])], ignore_index=True)\n",
    "pos_df.head(10)"
   ]
  },
  {
   "cell_type": "code",
   "execution_count": 80,
   "id": "3ed4af2f-1cab-48df-bed9-8910fdaa1184",
   "metadata": {},
   "outputs": [
    {
     "data": {
      "text/html": [
       "<div>\n",
       "<style scoped>\n",
       "    .dataframe tbody tr th:only-of-type {\n",
       "        vertical-align: middle;\n",
       "    }\n",
       "\n",
       "    .dataframe tbody tr th {\n",
       "        vertical-align: top;\n",
       "    }\n",
       "\n",
       "    .dataframe thead th {\n",
       "        text-align: right;\n",
       "    }\n",
       "</style>\n",
       "<table border=\"1\" class=\"dataframe\">\n",
       "  <thead>\n",
       "    <tr style=\"text-align: right;\">\n",
       "      <th></th>\n",
       "      <th>token</th>\n",
       "      <th>pos_tag</th>\n",
       "      <th>counts</th>\n",
       "    </tr>\n",
       "  </thead>\n",
       "  <tbody>\n",
       "    <tr>\n",
       "      <th>86</th>\n",
       "      <td>of</td>\n",
       "      <td>ADP</td>\n",
       "      <td>14</td>\n",
       "    </tr>\n",
       "    <tr>\n",
       "      <th>48</th>\n",
       "      <td>had</td>\n",
       "      <td>AUX</td>\n",
       "      <td>9</td>\n",
       "    </tr>\n",
       "    <tr>\n",
       "      <th>53</th>\n",
       "      <td>her</td>\n",
       "      <td>PRON</td>\n",
       "      <td>9</td>\n",
       "    </tr>\n",
       "    <tr>\n",
       "      <th>6</th>\n",
       "      <td>and</td>\n",
       "      <td>CCONJ</td>\n",
       "      <td>8</td>\n",
       "    </tr>\n",
       "    <tr>\n",
       "      <th>109</th>\n",
       "      <td>the</td>\n",
       "      <td>DET</td>\n",
       "      <td>8</td>\n",
       "    </tr>\n",
       "    <tr>\n",
       "      <th>0</th>\n",
       "      <td>a</td>\n",
       "      <td>DET</td>\n",
       "      <td>6</td>\n",
       "    </tr>\n",
       "    <tr>\n",
       "      <th>112</th>\n",
       "      <td>to</td>\n",
       "      <td>PART</td>\n",
       "      <td>5</td>\n",
       "    </tr>\n",
       "    <tr>\n",
       "      <th>12</th>\n",
       "      <td>been</td>\n",
       "      <td>AUX</td>\n",
       "      <td>4</td>\n",
       "    </tr>\n",
       "    <tr>\n",
       "      <th>60</th>\n",
       "      <td>in</td>\n",
       "      <td>ADP</td>\n",
       "      <td>4</td>\n",
       "    </tr>\n",
       "    <tr>\n",
       "      <th>118</th>\n",
       "      <td>very</td>\n",
       "      <td>ADV</td>\n",
       "      <td>4</td>\n",
       "    </tr>\n",
       "  </tbody>\n",
       "</table>\n",
       "</div>"
      ],
      "text/plain": [
       "    token pos_tag  counts\n",
       "86     of     ADP      14\n",
       "48    had     AUX       9\n",
       "53    her    PRON       9\n",
       "6     and   CCONJ       8\n",
       "109   the     DET       8\n",
       "0       a     DET       6\n",
       "112    to    PART       5\n",
       "12   been     AUX       4\n",
       "60     in     ADP       4\n",
       "118  very     ADV       4"
      ]
     },
     "execution_count": 80,
     "metadata": {},
     "output_type": "execute_result"
    }
   ],
   "source": [
    "# token frequency count\n",
    "pos_df_counts = pos_df.groupby(['token','pos_tag']).size().reset_index(name='counts').sort_values(by='counts',ascending=False)\n",
    "pos_df_counts.head(10)"
   ]
  },
  {
   "cell_type": "code",
   "execution_count": 81,
   "id": "7818be73-e793-41b0-bf62-3e2adb8c07b4",
   "metadata": {},
   "outputs": [
    {
     "data": {
      "text/plain": [
       "pos_tag\n",
       "NOUN     33\n",
       "VERB     21\n",
       "ADJ      18\n",
       "ADV      18\n",
       "PRON      9\n",
       "ADP       8\n",
       "PROPN     6\n",
       "DET       5\n",
       "AUX       4\n",
       "CCONJ     3\n",
       "Name: token, dtype: int64"
      ]
     },
     "execution_count": 81,
     "metadata": {},
     "output_type": "execute_result"
    }
   ],
   "source": [
    "# counts of pos_tags\n",
    "pos_df_poscounts = pos_df_counts.groupby(['pos_tag'])['token'].count().sort_values(ascending=False)\n",
    "pos_df_poscounts.head(10)"
   ]
  },
  {
   "cell_type": "code",
   "execution_count": 82,
   "id": "5fbfa631-5743-4275-9b0b-efe0788d571c",
   "metadata": {},
   "outputs": [
    {
     "data": {
      "text/html": [
       "<div>\n",
       "<style scoped>\n",
       "    .dataframe tbody tr th:only-of-type {\n",
       "        vertical-align: middle;\n",
       "    }\n",
       "\n",
       "    .dataframe tbody tr th {\n",
       "        vertical-align: top;\n",
       "    }\n",
       "\n",
       "    .dataframe thead th {\n",
       "        text-align: right;\n",
       "    }\n",
       "</style>\n",
       "<table border=\"1\" class=\"dataframe\">\n",
       "  <thead>\n",
       "    <tr style=\"text-align: right;\">\n",
       "      <th></th>\n",
       "      <th>token</th>\n",
       "      <th>pos_tag</th>\n",
       "      <th>counts</th>\n",
       "    </tr>\n",
       "  </thead>\n",
       "  <tbody>\n",
       "    <tr>\n",
       "      <th>47</th>\n",
       "      <td>governess</td>\n",
       "      <td>NOUN</td>\n",
       "      <td>3</td>\n",
       "    </tr>\n",
       "    <tr>\n",
       "      <th>45</th>\n",
       "      <td>friend</td>\n",
       "      <td>NOUN</td>\n",
       "      <td>3</td>\n",
       "    </tr>\n",
       "    <tr>\n",
       "      <th>101</th>\n",
       "      <td>sisters</td>\n",
       "      <td>NOUN</td>\n",
       "      <td>2</td>\n",
       "    </tr>\n",
       "    <tr>\n",
       "      <th>27</th>\n",
       "      <td>daughters</td>\n",
       "      <td>NOUN</td>\n",
       "      <td>2</td>\n",
       "    </tr>\n",
       "    <tr>\n",
       "      <th>34</th>\n",
       "      <td>emma</td>\n",
       "      <td>NOUN</td>\n",
       "      <td>2</td>\n",
       "    </tr>\n",
       "    <tr>\n",
       "      <th>80</th>\n",
       "      <td>mother</td>\n",
       "      <td>NOUN</td>\n",
       "      <td>2</td>\n",
       "    </tr>\n",
       "    <tr>\n",
       "      <th>128</th>\n",
       "      <td>years</td>\n",
       "      <td>NOUN</td>\n",
       "      <td>2</td>\n",
       "    </tr>\n",
       "    <tr>\n",
       "      <th>92</th>\n",
       "      <td>period</td>\n",
       "      <td>NOUN</td>\n",
       "      <td>1</td>\n",
       "    </tr>\n",
       "    <tr>\n",
       "      <th>74</th>\n",
       "      <td>mildness</td>\n",
       "      <td>NOUN</td>\n",
       "      <td>1</td>\n",
       "    </tr>\n",
       "    <tr>\n",
       "      <th>77</th>\n",
       "      <td>mistress</td>\n",
       "      <td>NOUN</td>\n",
       "      <td>1</td>\n",
       "    </tr>\n",
       "  </tbody>\n",
       "</table>\n",
       "</div>"
      ],
      "text/plain": [
       "         token pos_tag  counts\n",
       "47   governess    NOUN       3\n",
       "45      friend    NOUN       3\n",
       "101    sisters    NOUN       2\n",
       "27   daughters    NOUN       2\n",
       "34        emma    NOUN       2\n",
       "80      mother    NOUN       2\n",
       "128      years    NOUN       2\n",
       "92      period    NOUN       1\n",
       "74    mildness    NOUN       1\n",
       "77    mistress    NOUN       1"
      ]
     },
     "execution_count": 82,
     "metadata": {},
     "output_type": "execute_result"
    }
   ],
   "source": [
    "# see most common nouns\n",
    "nouns = pos_df_counts[pos_df_counts.pos_tag == \"NOUN\"][0:10]\n",
    "nouns"
   ]
  },
  {
   "cell_type": "markdown",
   "id": "9be803ff-0ce6-4663-864e-717f0dd2d1ef",
   "metadata": {},
   "source": [
    "**2-NER TAGGING**"
   ]
  },
  {
   "cell_type": "code",
   "execution_count": 84,
   "id": "c084e946-b8a0-4967-b893-71bd64b4dbe3",
   "metadata": {},
   "outputs": [],
   "source": [
    "import spacy\n",
    "from spacy import displacy\n",
    "from spacy import tokenizer\n",
    "import re\n",
    "nlp = spacy.load('en_core_web_sm')"
   ]
  },
  {
   "cell_type": "code",
   "execution_count": 85,
   "id": "b7330bfa-b274-46f5-8dbc-43dd7fc8a57c",
   "metadata": {},
   "outputs": [
    {
     "name": "stdout",
     "output_type": "stream",
     "text": [
      "Google was founded on September 4, 1998, by computer scientists Larry Page and Sergey Brin while they were PhD students at Stanford University in California. Together they own about 14% of its publicly listed shares and control 56% of its stockholder voting power through super-voting stock. The company went public via an initial public offering (IPO) in 2004. In 2015, Google was reorganized as a wholly owned subsidiary of Alphabet Inc. Google is Alphabet's largest subsidiary and is a holding company for Alphabet's internet properties and interests. Sundar Pichai was appointed CEO of Google on October 24, 2015, replacing Larry Page, who became the CEO of Alphabet. On December 3, 2019, Pichai also became the CEO of Alphabet.\n"
     ]
    }
   ],
   "source": [
    "google_text = \"Google was founded on September 4, 1998, by computer scientists Larry Page and Sergey Brin while they were PhD students at Stanford University in California. Together they own about 14% of its publicly listed shares and control 56% of its stockholder voting power through super-voting stock. The company went public via an initial public offering (IPO) in 2004. In 2015, Google was reorganized as a wholly owned subsidiary of Alphabet Inc. Google is Alphabet's largest subsidiary and is a holding company for Alphabet's internet properties and interests. Sundar Pichai was appointed CEO of Google on October 24, 2015, replacing Larry Page, who became the CEO of Alphabet. On December 3, 2019, Pichai also became the CEO of Alphabet.\"\n",
    "print(google_text)"
   ]
  },
  {
   "cell_type": "code",
   "execution_count": 86,
   "id": "d7f01b9b-f691-44fc-a648-d87fd76af32d",
   "metadata": {},
   "outputs": [
    {
     "name": "stdout",
     "output_type": "stream",
     "text": [
      "Google ORG\n",
      "September 4, 1998 DATE\n",
      "Larry Page PERSON\n",
      "Sergey Brin PERSON\n",
      "PhD WORK_OF_ART\n",
      "Stanford University ORG\n",
      "California GPE\n",
      "about 14% PERCENT\n",
      "56% PERCENT\n",
      "IPO ORG\n",
      "2004 DATE\n",
      "2015 DATE\n",
      "Google ORG\n",
      "Alphabet Inc. ORG\n",
      "Alphabet GPE\n",
      "Alphabet GPE\n",
      "Sundar Pichai PERSON\n",
      "Google ORG\n",
      "October 24, 2015 DATE\n",
      "Larry Page PERSON\n",
      "Alphabet GPE\n",
      "December 3, 2019 DATE\n",
      "Pichai PERSON\n",
      "Alphabet GPE\n"
     ]
    }
   ],
   "source": [
    "spacy_doc = nlp(google_text)\n",
    "#ner_df = pd.DataFrame(columns=['token', 'ner_tag'])\n",
    "for word in spacy_doc.ents:\n",
    "    #ner_df = pd.concat([ner_df, pd.DataFrame.from_records([{'token': word.text, 'ner_tag': word.label_}])], ignore_index=True)\n",
    "    print(word.text,word.label_)\n",
    "#ner_df.head(5)"
   ]
  },
  {
   "cell_type": "code",
   "execution_count": 87,
   "id": "c77dd61d-55e6-42fa-ab70-ebeecbc53689",
   "metadata": {},
   "outputs": [
    {
     "data": {
      "text/html": [
       "<span class=\"tex2jax_ignore\"><div class=\"entities\" style=\"line-height: 2.5; direction: ltr\">\n",
       "<mark class=\"entity\" style=\"background: #7aecec; padding: 0.45em 0.6em; margin: 0 0.25em; line-height: 1; border-radius: 0.35em;\">\n",
       "    Google\n",
       "    <span style=\"font-size: 0.8em; font-weight: bold; line-height: 1; border-radius: 0.35em; vertical-align: middle; margin-left: 0.5rem\">ORG</span>\n",
       "</mark>\n",
       " was founded on \n",
       "<mark class=\"entity\" style=\"background: #bfe1d9; padding: 0.45em 0.6em; margin: 0 0.25em; line-height: 1; border-radius: 0.35em;\">\n",
       "    September 4, 1998\n",
       "    <span style=\"font-size: 0.8em; font-weight: bold; line-height: 1; border-radius: 0.35em; vertical-align: middle; margin-left: 0.5rem\">DATE</span>\n",
       "</mark>\n",
       ", by computer scientists \n",
       "<mark class=\"entity\" style=\"background: #aa9cfc; padding: 0.45em 0.6em; margin: 0 0.25em; line-height: 1; border-radius: 0.35em;\">\n",
       "    Larry Page\n",
       "    <span style=\"font-size: 0.8em; font-weight: bold; line-height: 1; border-radius: 0.35em; vertical-align: middle; margin-left: 0.5rem\">PERSON</span>\n",
       "</mark>\n",
       " and \n",
       "<mark class=\"entity\" style=\"background: #aa9cfc; padding: 0.45em 0.6em; margin: 0 0.25em; line-height: 1; border-radius: 0.35em;\">\n",
       "    Sergey Brin\n",
       "    <span style=\"font-size: 0.8em; font-weight: bold; line-height: 1; border-radius: 0.35em; vertical-align: middle; margin-left: 0.5rem\">PERSON</span>\n",
       "</mark>\n",
       " while they were \n",
       "<mark class=\"entity\" style=\"background: #f0d0ff; padding: 0.45em 0.6em; margin: 0 0.25em; line-height: 1; border-radius: 0.35em;\">\n",
       "    PhD\n",
       "    <span style=\"font-size: 0.8em; font-weight: bold; line-height: 1; border-radius: 0.35em; vertical-align: middle; margin-left: 0.5rem\">WORK_OF_ART</span>\n",
       "</mark>\n",
       " students at \n",
       "<mark class=\"entity\" style=\"background: #7aecec; padding: 0.45em 0.6em; margin: 0 0.25em; line-height: 1; border-radius: 0.35em;\">\n",
       "    Stanford University\n",
       "    <span style=\"font-size: 0.8em; font-weight: bold; line-height: 1; border-radius: 0.35em; vertical-align: middle; margin-left: 0.5rem\">ORG</span>\n",
       "</mark>\n",
       " in \n",
       "<mark class=\"entity\" style=\"background: #feca74; padding: 0.45em 0.6em; margin: 0 0.25em; line-height: 1; border-radius: 0.35em;\">\n",
       "    California\n",
       "    <span style=\"font-size: 0.8em; font-weight: bold; line-height: 1; border-radius: 0.35em; vertical-align: middle; margin-left: 0.5rem\">GPE</span>\n",
       "</mark>\n",
       ". Together they own \n",
       "<mark class=\"entity\" style=\"background: #e4e7d2; padding: 0.45em 0.6em; margin: 0 0.25em; line-height: 1; border-radius: 0.35em;\">\n",
       "    about 14%\n",
       "    <span style=\"font-size: 0.8em; font-weight: bold; line-height: 1; border-radius: 0.35em; vertical-align: middle; margin-left: 0.5rem\">PERCENT</span>\n",
       "</mark>\n",
       " of its publicly listed shares and control \n",
       "<mark class=\"entity\" style=\"background: #e4e7d2; padding: 0.45em 0.6em; margin: 0 0.25em; line-height: 1; border-radius: 0.35em;\">\n",
       "    56%\n",
       "    <span style=\"font-size: 0.8em; font-weight: bold; line-height: 1; border-radius: 0.35em; vertical-align: middle; margin-left: 0.5rem\">PERCENT</span>\n",
       "</mark>\n",
       " of its stockholder voting power through super-voting stock. The company went public via an initial public offering (\n",
       "<mark class=\"entity\" style=\"background: #7aecec; padding: 0.45em 0.6em; margin: 0 0.25em; line-height: 1; border-radius: 0.35em;\">\n",
       "    IPO\n",
       "    <span style=\"font-size: 0.8em; font-weight: bold; line-height: 1; border-radius: 0.35em; vertical-align: middle; margin-left: 0.5rem\">ORG</span>\n",
       "</mark>\n",
       ") in \n",
       "<mark class=\"entity\" style=\"background: #bfe1d9; padding: 0.45em 0.6em; margin: 0 0.25em; line-height: 1; border-radius: 0.35em;\">\n",
       "    2004\n",
       "    <span style=\"font-size: 0.8em; font-weight: bold; line-height: 1; border-radius: 0.35em; vertical-align: middle; margin-left: 0.5rem\">DATE</span>\n",
       "</mark>\n",
       ". In \n",
       "<mark class=\"entity\" style=\"background: #bfe1d9; padding: 0.45em 0.6em; margin: 0 0.25em; line-height: 1; border-radius: 0.35em;\">\n",
       "    2015\n",
       "    <span style=\"font-size: 0.8em; font-weight: bold; line-height: 1; border-radius: 0.35em; vertical-align: middle; margin-left: 0.5rem\">DATE</span>\n",
       "</mark>\n",
       ", \n",
       "<mark class=\"entity\" style=\"background: #7aecec; padding: 0.45em 0.6em; margin: 0 0.25em; line-height: 1; border-radius: 0.35em;\">\n",
       "    Google\n",
       "    <span style=\"font-size: 0.8em; font-weight: bold; line-height: 1; border-radius: 0.35em; vertical-align: middle; margin-left: 0.5rem\">ORG</span>\n",
       "</mark>\n",
       " was reorganized as a wholly owned subsidiary of \n",
       "<mark class=\"entity\" style=\"background: #7aecec; padding: 0.45em 0.6em; margin: 0 0.25em; line-height: 1; border-radius: 0.35em;\">\n",
       "    Alphabet Inc.\n",
       "    <span style=\"font-size: 0.8em; font-weight: bold; line-height: 1; border-radius: 0.35em; vertical-align: middle; margin-left: 0.5rem\">ORG</span>\n",
       "</mark>\n",
       " Google is \n",
       "<mark class=\"entity\" style=\"background: #feca74; padding: 0.45em 0.6em; margin: 0 0.25em; line-height: 1; border-radius: 0.35em;\">\n",
       "    Alphabet\n",
       "    <span style=\"font-size: 0.8em; font-weight: bold; line-height: 1; border-radius: 0.35em; vertical-align: middle; margin-left: 0.5rem\">GPE</span>\n",
       "</mark>\n",
       "'s largest subsidiary and is a holding company for \n",
       "<mark class=\"entity\" style=\"background: #feca74; padding: 0.45em 0.6em; margin: 0 0.25em; line-height: 1; border-radius: 0.35em;\">\n",
       "    Alphabet\n",
       "    <span style=\"font-size: 0.8em; font-weight: bold; line-height: 1; border-radius: 0.35em; vertical-align: middle; margin-left: 0.5rem\">GPE</span>\n",
       "</mark>\n",
       "'s internet properties and interests. \n",
       "<mark class=\"entity\" style=\"background: #aa9cfc; padding: 0.45em 0.6em; margin: 0 0.25em; line-height: 1; border-radius: 0.35em;\">\n",
       "    Sundar Pichai\n",
       "    <span style=\"font-size: 0.8em; font-weight: bold; line-height: 1; border-radius: 0.35em; vertical-align: middle; margin-left: 0.5rem\">PERSON</span>\n",
       "</mark>\n",
       " was appointed CEO of \n",
       "<mark class=\"entity\" style=\"background: #7aecec; padding: 0.45em 0.6em; margin: 0 0.25em; line-height: 1; border-radius: 0.35em;\">\n",
       "    Google\n",
       "    <span style=\"font-size: 0.8em; font-weight: bold; line-height: 1; border-radius: 0.35em; vertical-align: middle; margin-left: 0.5rem\">ORG</span>\n",
       "</mark>\n",
       " on \n",
       "<mark class=\"entity\" style=\"background: #bfe1d9; padding: 0.45em 0.6em; margin: 0 0.25em; line-height: 1; border-radius: 0.35em;\">\n",
       "    October 24, 2015\n",
       "    <span style=\"font-size: 0.8em; font-weight: bold; line-height: 1; border-radius: 0.35em; vertical-align: middle; margin-left: 0.5rem\">DATE</span>\n",
       "</mark>\n",
       ", replacing \n",
       "<mark class=\"entity\" style=\"background: #aa9cfc; padding: 0.45em 0.6em; margin: 0 0.25em; line-height: 1; border-radius: 0.35em;\">\n",
       "    Larry Page\n",
       "    <span style=\"font-size: 0.8em; font-weight: bold; line-height: 1; border-radius: 0.35em; vertical-align: middle; margin-left: 0.5rem\">PERSON</span>\n",
       "</mark>\n",
       ", who became the CEO of \n",
       "<mark class=\"entity\" style=\"background: #feca74; padding: 0.45em 0.6em; margin: 0 0.25em; line-height: 1; border-radius: 0.35em;\">\n",
       "    Alphabet\n",
       "    <span style=\"font-size: 0.8em; font-weight: bold; line-height: 1; border-radius: 0.35em; vertical-align: middle; margin-left: 0.5rem\">GPE</span>\n",
       "</mark>\n",
       ". On \n",
       "<mark class=\"entity\" style=\"background: #bfe1d9; padding: 0.45em 0.6em; margin: 0 0.25em; line-height: 1; border-radius: 0.35em;\">\n",
       "    December 3, 2019\n",
       "    <span style=\"font-size: 0.8em; font-weight: bold; line-height: 1; border-radius: 0.35em; vertical-align: middle; margin-left: 0.5rem\">DATE</span>\n",
       "</mark>\n",
       ", \n",
       "<mark class=\"entity\" style=\"background: #aa9cfc; padding: 0.45em 0.6em; margin: 0 0.25em; line-height: 1; border-radius: 0.35em;\">\n",
       "    Pichai\n",
       "    <span style=\"font-size: 0.8em; font-weight: bold; line-height: 1; border-radius: 0.35em; vertical-align: middle; margin-left: 0.5rem\">PERSON</span>\n",
       "</mark>\n",
       " also became the CEO of \n",
       "<mark class=\"entity\" style=\"background: #feca74; padding: 0.45em 0.6em; margin: 0 0.25em; line-height: 1; border-radius: 0.35em;\">\n",
       "    Alphabet\n",
       "    <span style=\"font-size: 0.8em; font-weight: bold; line-height: 1; border-radius: 0.35em; vertical-align: middle; margin-left: 0.5rem\">GPE</span>\n",
       "</mark>\n",
       ".</div></span>"
      ],
      "text/plain": [
       "<IPython.core.display.HTML object>"
      ]
     },
     "metadata": {},
     "output_type": "display_data"
    }
   ],
   "source": [
    "displacy.render(spacy_doc,style=\"ent\",jupyter=True)"
   ]
  },
  {
   "cell_type": "markdown",
   "id": "8de78a41-dc1a-47d8-acf4-07bba53db786",
   "metadata": {},
   "source": [
    "**...let's see if cleaning our text up a little bit improves the tagging**"
   ]
  },
  {
   "cell_type": "code",
   "execution_count": 89,
   "id": "7a08db53-2c11-4e17-9650-b83bbce86b73",
   "metadata": {},
   "outputs": [
    {
     "name": "stdout",
     "output_type": "stream",
     "text": [
      "google was founded on september 4 1998 by computer scientists larry page and sergey brin while they were phd students at stanford university in california together they own about 14 percent of its publicly listed shares and control 56 percent of its stockholder voting power through supervoting stock the company went public via an initial public offering ipo in 2004 in 2015 google was reorganized as a wholly owned subsidiary of alphabet inc google is alphabets largest subsidiary and is a holding company for alphabets internet properties and interests sundar pichai was appointed ceo of google on october 24 2015 replacing larry page who became the ceo of alphabet on december 3 2019 pichai also became the ceo of alphabet\n"
     ]
    }
   ],
   "source": [
    "google_text = re.sub(\"%\",\" percent\",google_text)\n",
    "google_text_clean = re.sub(r'[^\\w\\s]', '', google_text).lower() # remove punctuation and lowercase\n",
    "print(google_text_clean)"
   ]
  },
  {
   "cell_type": "code",
   "execution_count": 90,
   "id": "a993044a-c687-4816-9d5b-1dc0af588127",
   "metadata": {},
   "outputs": [
    {
     "name": "stdout",
     "output_type": "stream",
     "text": [
      "google ORG\n",
      "september 4 1998 DATE\n",
      "larry PERSON\n",
      "phd ORG\n",
      "stanford university ORG\n",
      "california GPE\n",
      "about 14 percent PERCENT\n",
      "56 percent PERCENT\n",
      "2004 DATE\n",
      "2015 DATE\n",
      "alphabet inc google ORG\n",
      "pichai PERSON\n",
      "google ORG\n",
      "october 24 2015 DATE\n",
      "larry PERSON\n",
      "december 3 2019 DATE\n"
     ]
    }
   ],
   "source": [
    "spacy_doc_clean = nlp(google_text_clean)\n",
    "for word in spacy_doc_clean.ents:\n",
    "    print(word.text,word.label_)"
   ]
  },
  {
   "cell_type": "code",
   "execution_count": 91,
   "id": "adb226f0-d177-4962-b83e-303b97e48185",
   "metadata": {},
   "outputs": [
    {
     "data": {
      "text/html": [
       "<span class=\"tex2jax_ignore\"><div class=\"entities\" style=\"line-height: 2.5; direction: ltr\">\n",
       "<mark class=\"entity\" style=\"background: #7aecec; padding: 0.45em 0.6em; margin: 0 0.25em; line-height: 1; border-radius: 0.35em;\">\n",
       "    google\n",
       "    <span style=\"font-size: 0.8em; font-weight: bold; line-height: 1; border-radius: 0.35em; vertical-align: middle; margin-left: 0.5rem\">ORG</span>\n",
       "</mark>\n",
       " was founded on \n",
       "<mark class=\"entity\" style=\"background: #bfe1d9; padding: 0.45em 0.6em; margin: 0 0.25em; line-height: 1; border-radius: 0.35em;\">\n",
       "    september 4 1998\n",
       "    <span style=\"font-size: 0.8em; font-weight: bold; line-height: 1; border-radius: 0.35em; vertical-align: middle; margin-left: 0.5rem\">DATE</span>\n",
       "</mark>\n",
       " by computer scientists \n",
       "<mark class=\"entity\" style=\"background: #aa9cfc; padding: 0.45em 0.6em; margin: 0 0.25em; line-height: 1; border-radius: 0.35em;\">\n",
       "    larry\n",
       "    <span style=\"font-size: 0.8em; font-weight: bold; line-height: 1; border-radius: 0.35em; vertical-align: middle; margin-left: 0.5rem\">PERSON</span>\n",
       "</mark>\n",
       " page and sergey brin while they were \n",
       "<mark class=\"entity\" style=\"background: #7aecec; padding: 0.45em 0.6em; margin: 0 0.25em; line-height: 1; border-radius: 0.35em;\">\n",
       "    phd\n",
       "    <span style=\"font-size: 0.8em; font-weight: bold; line-height: 1; border-radius: 0.35em; vertical-align: middle; margin-left: 0.5rem\">ORG</span>\n",
       "</mark>\n",
       " students at \n",
       "<mark class=\"entity\" style=\"background: #7aecec; padding: 0.45em 0.6em; margin: 0 0.25em; line-height: 1; border-radius: 0.35em;\">\n",
       "    stanford university\n",
       "    <span style=\"font-size: 0.8em; font-weight: bold; line-height: 1; border-radius: 0.35em; vertical-align: middle; margin-left: 0.5rem\">ORG</span>\n",
       "</mark>\n",
       " in \n",
       "<mark class=\"entity\" style=\"background: #feca74; padding: 0.45em 0.6em; margin: 0 0.25em; line-height: 1; border-radius: 0.35em;\">\n",
       "    california\n",
       "    <span style=\"font-size: 0.8em; font-weight: bold; line-height: 1; border-radius: 0.35em; vertical-align: middle; margin-left: 0.5rem\">GPE</span>\n",
       "</mark>\n",
       " together they own \n",
       "<mark class=\"entity\" style=\"background: #e4e7d2; padding: 0.45em 0.6em; margin: 0 0.25em; line-height: 1; border-radius: 0.35em;\">\n",
       "    about 14 percent\n",
       "    <span style=\"font-size: 0.8em; font-weight: bold; line-height: 1; border-radius: 0.35em; vertical-align: middle; margin-left: 0.5rem\">PERCENT</span>\n",
       "</mark>\n",
       " of its publicly listed shares and control \n",
       "<mark class=\"entity\" style=\"background: #e4e7d2; padding: 0.45em 0.6em; margin: 0 0.25em; line-height: 1; border-radius: 0.35em;\">\n",
       "    56 percent\n",
       "    <span style=\"font-size: 0.8em; font-weight: bold; line-height: 1; border-radius: 0.35em; vertical-align: middle; margin-left: 0.5rem\">PERCENT</span>\n",
       "</mark>\n",
       " of its stockholder voting power through supervoting stock the company went public via an initial public offering ipo in \n",
       "<mark class=\"entity\" style=\"background: #bfe1d9; padding: 0.45em 0.6em; margin: 0 0.25em; line-height: 1; border-radius: 0.35em;\">\n",
       "    2004\n",
       "    <span style=\"font-size: 0.8em; font-weight: bold; line-height: 1; border-radius: 0.35em; vertical-align: middle; margin-left: 0.5rem\">DATE</span>\n",
       "</mark>\n",
       " in \n",
       "<mark class=\"entity\" style=\"background: #bfe1d9; padding: 0.45em 0.6em; margin: 0 0.25em; line-height: 1; border-radius: 0.35em;\">\n",
       "    2015\n",
       "    <span style=\"font-size: 0.8em; font-weight: bold; line-height: 1; border-radius: 0.35em; vertical-align: middle; margin-left: 0.5rem\">DATE</span>\n",
       "</mark>\n",
       " google was reorganized as a wholly owned subsidiary of \n",
       "<mark class=\"entity\" style=\"background: #7aecec; padding: 0.45em 0.6em; margin: 0 0.25em; line-height: 1; border-radius: 0.35em;\">\n",
       "    alphabet inc google\n",
       "    <span style=\"font-size: 0.8em; font-weight: bold; line-height: 1; border-radius: 0.35em; vertical-align: middle; margin-left: 0.5rem\">ORG</span>\n",
       "</mark>\n",
       " is alphabets largest subsidiary and is a holding company for alphabets internet properties and interests sundar \n",
       "<mark class=\"entity\" style=\"background: #aa9cfc; padding: 0.45em 0.6em; margin: 0 0.25em; line-height: 1; border-radius: 0.35em;\">\n",
       "    pichai\n",
       "    <span style=\"font-size: 0.8em; font-weight: bold; line-height: 1; border-radius: 0.35em; vertical-align: middle; margin-left: 0.5rem\">PERSON</span>\n",
       "</mark>\n",
       " was appointed ceo of \n",
       "<mark class=\"entity\" style=\"background: #7aecec; padding: 0.45em 0.6em; margin: 0 0.25em; line-height: 1; border-radius: 0.35em;\">\n",
       "    google\n",
       "    <span style=\"font-size: 0.8em; font-weight: bold; line-height: 1; border-radius: 0.35em; vertical-align: middle; margin-left: 0.5rem\">ORG</span>\n",
       "</mark>\n",
       " on \n",
       "<mark class=\"entity\" style=\"background: #bfe1d9; padding: 0.45em 0.6em; margin: 0 0.25em; line-height: 1; border-radius: 0.35em;\">\n",
       "    october 24 2015\n",
       "    <span style=\"font-size: 0.8em; font-weight: bold; line-height: 1; border-radius: 0.35em; vertical-align: middle; margin-left: 0.5rem\">DATE</span>\n",
       "</mark>\n",
       " replacing \n",
       "<mark class=\"entity\" style=\"background: #aa9cfc; padding: 0.45em 0.6em; margin: 0 0.25em; line-height: 1; border-radius: 0.35em;\">\n",
       "    larry\n",
       "    <span style=\"font-size: 0.8em; font-weight: bold; line-height: 1; border-radius: 0.35em; vertical-align: middle; margin-left: 0.5rem\">PERSON</span>\n",
       "</mark>\n",
       " page who became the ceo of alphabet on \n",
       "<mark class=\"entity\" style=\"background: #bfe1d9; padding: 0.45em 0.6em; margin: 0 0.25em; line-height: 1; border-radius: 0.35em;\">\n",
       "    december 3 2019\n",
       "    <span style=\"font-size: 0.8em; font-weight: bold; line-height: 1; border-radius: 0.35em; vertical-align: middle; margin-left: 0.5rem\">DATE</span>\n",
       "</mark>\n",
       " pichai also became the ceo of alphabet</div></span>"
      ],
      "text/plain": [
       "<IPython.core.display.HTML object>"
      ]
     },
     "metadata": {},
     "output_type": "display_data"
    }
   ],
   "source": [
    "displacy.render(spacy_doc_clean,style=\"ent\",jupyter=True)"
   ]
  },
  {
   "cell_type": "markdown",
   "id": "e09a8b52-fdd3-486b-b910-1b62a2f796e6",
   "metadata": {},
   "source": [
    "**3-EXERCICE**"
   ]
  },
  {
   "cell_type": "markdown",
   "id": "9ec92538-6ef3-49bc-beae-5009ef1672e3",
   "metadata": {},
   "source": [
    "**DATA LOADING**"
   ]
  },
  {
   "cell_type": "code",
   "execution_count": 94,
   "id": "f36cef09-d36d-48cb-9813-33370b201d4b",
   "metadata": {},
   "outputs": [
    {
     "data": {
      "text/html": [
       "<div>\n",
       "<style scoped>\n",
       "    .dataframe tbody tr th:only-of-type {\n",
       "        vertical-align: middle;\n",
       "    }\n",
       "\n",
       "    .dataframe tbody tr th {\n",
       "        vertical-align: top;\n",
       "    }\n",
       "\n",
       "    .dataframe thead th {\n",
       "        text-align: right;\n",
       "    }\n",
       "</style>\n",
       "<table border=\"1\" class=\"dataframe\">\n",
       "  <thead>\n",
       "    <tr style=\"text-align: right;\">\n",
       "      <th></th>\n",
       "      <th>Unnamed: 0</th>\n",
       "      <th>index</th>\n",
       "      <th>title</th>\n",
       "      <th>pubDate</th>\n",
       "      <th>guid</th>\n",
       "      <th>link</th>\n",
       "      <th>description</th>\n",
       "    </tr>\n",
       "  </thead>\n",
       "  <tbody>\n",
       "    <tr>\n",
       "      <th>0</th>\n",
       "      <td>0</td>\n",
       "      <td>6684</td>\n",
       "      <td>Can I refuse to work?</td>\n",
       "      <td>Wed, 10 Aug 2022 15:46:18 GMT</td>\n",
       "      <td>https://www.bbc.co.uk/news/business-62147992</td>\n",
       "      <td>https://www.bbc.co.uk/news/business-62147992?a...</td>\n",
       "      <td>With much of the UK enduring another period of...</td>\n",
       "    </tr>\n",
       "    <tr>\n",
       "      <th>1</th>\n",
       "      <td>1</td>\n",
       "      <td>9267</td>\n",
       "      <td>'Liz Truss the Brief?' World reacts to UK poli...</td>\n",
       "      <td>Mon, 17 Oct 2022 11:35:12 GMT</td>\n",
       "      <td>https://www.bbc.co.uk/news/world-63285480</td>\n",
       "      <td>https://www.bbc.co.uk/news/world-63285480?at_m...</td>\n",
       "      <td>The UK's political chaos has been watched arou...</td>\n",
       "    </tr>\n",
       "    <tr>\n",
       "      <th>2</th>\n",
       "      <td>2</td>\n",
       "      <td>7387</td>\n",
       "      <td>Rationing energy is nothing new for off-grid c...</td>\n",
       "      <td>Wed, 31 Aug 2022 05:20:18 GMT</td>\n",
       "      <td>https://www.bbc.co.uk/news/uk-scotland-highlan...</td>\n",
       "      <td>https://www.bbc.co.uk/news/uk-scotland-highlan...</td>\n",
       "      <td>Scoraig in the north west Highlands has long h...</td>\n",
       "    </tr>\n",
       "  </tbody>\n",
       "</table>\n",
       "</div>"
      ],
      "text/plain": [
       "   Unnamed: 0  index                                              title  \\\n",
       "0           0   6684                              Can I refuse to work?   \n",
       "1           1   9267  'Liz Truss the Brief?' World reacts to UK poli...   \n",
       "2           2   7387  Rationing energy is nothing new for off-grid c...   \n",
       "\n",
       "                         pubDate  \\\n",
       "0  Wed, 10 Aug 2022 15:46:18 GMT   \n",
       "1  Mon, 17 Oct 2022 11:35:12 GMT   \n",
       "2  Wed, 31 Aug 2022 05:20:18 GMT   \n",
       "\n",
       "                                                guid  \\\n",
       "0       https://www.bbc.co.uk/news/business-62147992   \n",
       "1          https://www.bbc.co.uk/news/world-63285480   \n",
       "2  https://www.bbc.co.uk/news/uk-scotland-highlan...   \n",
       "\n",
       "                                                link  \\\n",
       "0  https://www.bbc.co.uk/news/business-62147992?a...   \n",
       "1  https://www.bbc.co.uk/news/world-63285480?at_m...   \n",
       "2  https://www.bbc.co.uk/news/uk-scotland-highlan...   \n",
       "\n",
       "                                         description  \n",
       "0  With much of the UK enduring another period of...  \n",
       "1  The UK's political chaos has been watched arou...  \n",
       "2  Scoraig in the north west Highlands has long h...  "
      ]
     },
     "execution_count": 94,
     "metadata": {},
     "output_type": "execute_result"
    }
   ],
   "source": [
    "bbc_data = pd.read_csv(\"bbc_news.csv\")\n",
    "bbc_data.head(3)"
   ]
  },
  {
   "cell_type": "code",
   "execution_count": 95,
   "id": "e228dea9-e1a1-454d-8ccc-af98307e46fe",
   "metadata": {},
   "outputs": [
    {
     "name": "stdout",
     "output_type": "stream",
     "text": [
      "<class 'pandas.core.frame.DataFrame'>\n",
      "RangeIndex: 1000 entries, 0 to 999\n",
      "Data columns (total 7 columns):\n",
      " #   Column       Non-Null Count  Dtype \n",
      "---  ------       --------------  ----- \n",
      " 0   Unnamed: 0   1000 non-null   int64 \n",
      " 1   index        1000 non-null   int64 \n",
      " 2   title        1000 non-null   object\n",
      " 3   pubDate      1000 non-null   object\n",
      " 4   guid         1000 non-null   object\n",
      " 5   link         1000 non-null   object\n",
      " 6   description  1000 non-null   object\n",
      "dtypes: int64(2), object(5)\n",
      "memory usage: 54.8+ KB\n"
     ]
    }
   ],
   "source": [
    "bbc_data.info()"
   ]
  },
  {
   "cell_type": "code",
   "execution_count": 96,
   "id": "01de30a0-3540-48f6-bd23-13a37c43b7cf",
   "metadata": {},
   "outputs": [],
   "source": [
    "titles= pd.DataFrame(bbc_data['title'])"
   ]
  },
  {
   "cell_type": "markdown",
   "id": "0a5dd5fb-9253-415a-8d07-edc2ae5c112c",
   "metadata": {},
   "source": [
    "**DATA CLEANING**"
   ]
  },
  {
   "cell_type": "code",
   "execution_count": 98,
   "id": "e3fb6a9c-0f74-4071-b58e-64fb001cd8ed",
   "metadata": {},
   "outputs": [
    {
     "data": {
      "text/html": [
       "<div>\n",
       "<style scoped>\n",
       "    .dataframe tbody tr th:only-of-type {\n",
       "        vertical-align: middle;\n",
       "    }\n",
       "\n",
       "    .dataframe tbody tr th {\n",
       "        vertical-align: top;\n",
       "    }\n",
       "\n",
       "    .dataframe thead th {\n",
       "        text-align: right;\n",
       "    }\n",
       "</style>\n",
       "<table border=\"1\" class=\"dataframe\">\n",
       "  <thead>\n",
       "    <tr style=\"text-align: right;\">\n",
       "      <th></th>\n",
       "      <th>title</th>\n",
       "      <th>lowercase</th>\n",
       "      <th>no_stopwords</th>\n",
       "      <th>no_stowords_no_punct</th>\n",
       "      <th>tokens_raw</th>\n",
       "      <th>tokens_clean</th>\n",
       "      <th>tokens_clean_lemmatized</th>\n",
       "    </tr>\n",
       "  </thead>\n",
       "  <tbody>\n",
       "    <tr>\n",
       "      <th>0</th>\n",
       "      <td>Can I refuse to work?</td>\n",
       "      <td>can i refuse to work?</td>\n",
       "      <td>refuse work?</td>\n",
       "      <td>refuse work</td>\n",
       "      <td>[Can, I, refuse, to, work, ?]</td>\n",
       "      <td>[refuse, work]</td>\n",
       "      <td>[refuse, work]</td>\n",
       "    </tr>\n",
       "    <tr>\n",
       "      <th>1</th>\n",
       "      <td>'Liz Truss the Brief?' World reacts to UK poli...</td>\n",
       "      <td>'liz truss the brief?' world reacts to uk poli...</td>\n",
       "      <td>'liz truss brief?' world reacts uk political t...</td>\n",
       "      <td>liz truss brief world reacts uk political turmoil</td>\n",
       "      <td>['Liz, Truss, the, Brief, ?, ', World, reacts,...</td>\n",
       "      <td>[liz, truss, brief, world, reacts, uk, politic...</td>\n",
       "      <td>[liz, truss, brief, world, reacts, uk, politic...</td>\n",
       "    </tr>\n",
       "    <tr>\n",
       "      <th>2</th>\n",
       "      <td>Rationing energy is nothing new for off-grid c...</td>\n",
       "      <td>rationing energy is nothing new for off-grid c...</td>\n",
       "      <td>rationing energy nothing new off-grid community</td>\n",
       "      <td>rationing energy nothing new offgrid community</td>\n",
       "      <td>[Rationing, energy, is, nothing, new, for, off...</td>\n",
       "      <td>[rationing, energy, nothing, new, offgrid, com...</td>\n",
       "      <td>[rationing, energy, nothing, new, offgrid, com...</td>\n",
       "    </tr>\n",
       "    <tr>\n",
       "      <th>3</th>\n",
       "      <td>The hunt for superyachts of sanctioned Russian...</td>\n",
       "      <td>the hunt for superyachts of sanctioned russian...</td>\n",
       "      <td>hunt superyachts sanctioned russian oligarchs</td>\n",
       "      <td>hunt superyachts sanctioned russian oligarchs</td>\n",
       "      <td>[The, hunt, for, superyachts, of, sanctioned, ...</td>\n",
       "      <td>[hunt, superyachts, sanctioned, russian, oliga...</td>\n",
       "      <td>[hunt, superyachts, sanctioned, russian, oliga...</td>\n",
       "    </tr>\n",
       "    <tr>\n",
       "      <th>4</th>\n",
       "      <td>Platinum Jubilee: 70 years of the Queen in 70 ...</td>\n",
       "      <td>platinum jubilee: 70 years of the queen in 70 ...</td>\n",
       "      <td>platinum jubilee: 70 years queen 70 seconds</td>\n",
       "      <td>platinum jubilee 70 years queen 70 seconds</td>\n",
       "      <td>[Platinum, Jubilee, :, 70, years, of, the, Que...</td>\n",
       "      <td>[platinum, jubilee, 70, years, queen, 70, seco...</td>\n",
       "      <td>[platinum, jubilee, 70, year, queen, 70, second]</td>\n",
       "    </tr>\n",
       "  </tbody>\n",
       "</table>\n",
       "</div>"
      ],
      "text/plain": [
       "                                               title  \\\n",
       "0                              Can I refuse to work?   \n",
       "1  'Liz Truss the Brief?' World reacts to UK poli...   \n",
       "2  Rationing energy is nothing new for off-grid c...   \n",
       "3  The hunt for superyachts of sanctioned Russian...   \n",
       "4  Platinum Jubilee: 70 years of the Queen in 70 ...   \n",
       "\n",
       "                                           lowercase  \\\n",
       "0                              can i refuse to work?   \n",
       "1  'liz truss the brief?' world reacts to uk poli...   \n",
       "2  rationing energy is nothing new for off-grid c...   \n",
       "3  the hunt for superyachts of sanctioned russian...   \n",
       "4  platinum jubilee: 70 years of the queen in 70 ...   \n",
       "\n",
       "                                        no_stopwords  \\\n",
       "0                                       refuse work?   \n",
       "1  'liz truss brief?' world reacts uk political t...   \n",
       "2    rationing energy nothing new off-grid community   \n",
       "3      hunt superyachts sanctioned russian oligarchs   \n",
       "4        platinum jubilee: 70 years queen 70 seconds   \n",
       "\n",
       "                                no_stowords_no_punct  \\\n",
       "0                                        refuse work   \n",
       "1  liz truss brief world reacts uk political turmoil   \n",
       "2     rationing energy nothing new offgrid community   \n",
       "3      hunt superyachts sanctioned russian oligarchs   \n",
       "4         platinum jubilee 70 years queen 70 seconds   \n",
       "\n",
       "                                          tokens_raw  \\\n",
       "0                      [Can, I, refuse, to, work, ?]   \n",
       "1  ['Liz, Truss, the, Brief, ?, ', World, reacts,...   \n",
       "2  [Rationing, energy, is, nothing, new, for, off...   \n",
       "3  [The, hunt, for, superyachts, of, sanctioned, ...   \n",
       "4  [Platinum, Jubilee, :, 70, years, of, the, Que...   \n",
       "\n",
       "                                        tokens_clean  \\\n",
       "0                                     [refuse, work]   \n",
       "1  [liz, truss, brief, world, reacts, uk, politic...   \n",
       "2  [rationing, energy, nothing, new, offgrid, com...   \n",
       "3  [hunt, superyachts, sanctioned, russian, oliga...   \n",
       "4  [platinum, jubilee, 70, years, queen, 70, seco...   \n",
       "\n",
       "                             tokens_clean_lemmatized  \n",
       "0                                     [refuse, work]  \n",
       "1  [liz, truss, brief, world, reacts, uk, politic...  \n",
       "2  [rationing, energy, nothing, new, offgrid, com...  \n",
       "3  [hunt, superyachts, sanctioned, russian, oliga...  \n",
       "4   [platinum, jubilee, 70, year, queen, 70, second]  "
      ]
     },
     "execution_count": 98,
     "metadata": {},
     "output_type": "execute_result"
    }
   ],
   "source": [
    "#lowercase\n",
    "titles['lowercase']=titles['title'].str.lower()\n",
    "#stop words removal\n",
    "en_stopwords= stopwords.words('english')\n",
    "titles['no_stopwords'] = titles['lowercase'].apply(lambda x: ' '.join([word for word in x.split() if word not in (en_stopwords)]))\n",
    "#punctuation remval (regex)\n",
    "titles['no_stowords_no_punct'] = titles.apply(lambda x: re.sub(r\"([^\\w\\s])\",\"\",x['no_stopwords']),axis=1)\n",
    "#tokenize\n",
    "titles['tokens_raw'] = titles.apply(lambda x: word_tokenize(x['title']), axis=1)\n",
    "titles['tokens_clean'] = titles.apply(lambda x: word_tokenize(x['no_stowords_no_punct']),axis=1)\n",
    "#lemmatizing\n",
    "lemmatizer=WordNetLemmatizer()\n",
    "titles['tokens_clean_lemmatized'] = titles['tokens_clean'].apply(lambda x : [lemmatizer.lemmatize(token) for token in x])\n",
    "#display\n",
    "titles.head()"
   ]
  },
  {
   "cell_type": "code",
   "execution_count": 99,
   "id": "f6b1bc77-7198-464e-9b05-e4ef9e0293a9",
   "metadata": {},
   "outputs": [
    {
     "data": {
      "text/plain": [
       "['refuse',\n",
       " 'work',\n",
       " 'liz',\n",
       " 'truss',\n",
       " 'brief',\n",
       " 'world',\n",
       " 'reacts',\n",
       " 'uk',\n",
       " 'political',\n",
       " 'turmoil',\n",
       " 'rationing',\n",
       " 'energy',\n",
       " 'nothing',\n",
       " 'new',\n",
       " 'offgrid',\n",
       " 'community',\n",
       " 'hunt',\n",
       " 'superyachts',\n",
       " 'sanctioned',\n",
       " 'russian',\n",
       " 'oligarch',\n",
       " 'platinum',\n",
       " 'jubilee',\n",
       " '70',\n",
       " 'year',\n",
       " 'queen',\n",
       " '70',\n",
       " 'second',\n",
       " 'red',\n",
       " 'bull',\n",
       " 'found',\n",
       " 'guilty',\n",
       " 'breaking',\n",
       " 'formula',\n",
       " '1',\n",
       " 'budget',\n",
       " 'cap',\n",
       " 'world',\n",
       " 'triathlon',\n",
       " 'championship',\n",
       " 'series',\n",
       " 'flora',\n",
       " 'duffy',\n",
       " 'beat',\n",
       " 'georgia',\n",
       " 'taylorbrown',\n",
       " 'womens',\n",
       " 'title',\n",
       " 'terry',\n",
       " 'hall',\n",
       " 'coventry',\n",
       " 'scooter',\n",
       " 'rideout',\n",
       " 'pay',\n",
       " 'tribute',\n",
       " 'singer',\n",
       " 'post',\n",
       " 'office',\n",
       " 'fujitsu',\n",
       " 'face',\n",
       " 'inquiry',\n",
       " 'horizon',\n",
       " 'scandal',\n",
       " 'pavement',\n",
       " 'parking',\n",
       " 'frightens',\n",
       " 'me',\n",
       " 'uk',\n",
       " 'interest',\n",
       " 'rate',\n",
       " 'rise',\n",
       " 'affect',\n",
       " 'high',\n",
       " 'could',\n",
       " 'go',\n",
       " 'stayed',\n",
       " 'storm',\n",
       " 'happens',\n",
       " 'now',\n",
       " 'six',\n",
       " 'nation',\n",
       " 'scotland',\n",
       " 'best',\n",
       " 'since',\n",
       " '99',\n",
       " 'beat',\n",
       " 'best',\n",
       " 'ireland',\n",
       " 'ever',\n",
       " 'long',\n",
       " 'liz',\n",
       " 'truss',\n",
       " 'survive',\n",
       " 'prime',\n",
       " 'minister',\n",
       " 'platinum',\n",
       " 'jubilee',\n",
       " 'beacon',\n",
       " 'light',\n",
       " 'across',\n",
       " 'globe',\n",
       " 'celebrate',\n",
       " 'queen',\n",
       " 'reign',\n",
       " 'top',\n",
       " 'student',\n",
       " 'loan',\n",
       " 'interest',\n",
       " 'rate',\n",
       " 'cut',\n",
       " '5',\n",
       " 'england',\n",
       " 'russian',\n",
       " 'said',\n",
       " 'theyd',\n",
       " 'take',\n",
       " 'baby',\n",
       " 'medic',\n",
       " 'story',\n",
       " 'week',\n",
       " 'picture',\n",
       " '1117',\n",
       " 'june',\n",
       " '2022',\n",
       " 'xi',\n",
       " 'jinping',\n",
       " 'hong',\n",
       " 'kong',\n",
       " 'tight',\n",
       " 'security',\n",
       " 'city',\n",
       " 'mark',\n",
       " '25',\n",
       " 'year',\n",
       " 'handover',\n",
       " 'rescue',\n",
       " 'carried',\n",
       " 'silence',\n",
       " 'listen',\n",
       " 'sound',\n",
       " 'life',\n",
       " 'nick',\n",
       " 'pope',\n",
       " 'newcastle',\n",
       " 'goalkeeper',\n",
       " 'extends',\n",
       " 'incredible',\n",
       " 'clean',\n",
       " 'sheet',\n",
       " 'record',\n",
       " 'china',\n",
       " 'plan',\n",
       " 'become',\n",
       " 'next',\n",
       " 'big',\n",
       " 'space',\n",
       " 'power',\n",
       " 'barcelona',\n",
       " 'thrash',\n",
       " 'leader',\n",
       " 'real',\n",
       " 'madrid',\n",
       " 'famous',\n",
       " 'clasico',\n",
       " 'win',\n",
       " 'kuenssberg',\n",
       " 'budget',\n",
       " 'can',\n",
       " 'not',\n",
       " 'mask',\n",
       " 'big',\n",
       " 'change',\n",
       " 'economy',\n",
       " 'nicola',\n",
       " 'bulley',\n",
       " 'search',\n",
       " 'know',\n",
       " 'disappearance',\n",
       " 'cost',\n",
       " 'living',\n",
       " 'christmas',\n",
       " 'light',\n",
       " 'display',\n",
       " 'survive',\n",
       " 'energy',\n",
       " 'crisis',\n",
       " '100yearold',\n",
       " 'edinburgh',\n",
       " 'man',\n",
       " 'still',\n",
       " 'working',\n",
       " 'three',\n",
       " 'day',\n",
       " 'week',\n",
       " 'freya',\n",
       " '600kg',\n",
       " 'walrus',\n",
       " 'cause',\n",
       " 'stir',\n",
       " 'norway',\n",
       " 'offer',\n",
       " 'uk',\n",
       " 'home',\n",
       " 'ukrainian',\n",
       " 'refugee',\n",
       " 'nicola',\n",
       " 'bulley',\n",
       " 'search',\n",
       " 'former',\n",
       " 'police',\n",
       " 'bos',\n",
       " 'say',\n",
       " 'criticism',\n",
       " 'unfair',\n",
       " 'bolduc',\n",
       " 'democrat',\n",
       " 'elevated',\n",
       " 'republican',\n",
       " 'backfire',\n",
       " 'strike',\n",
       " 'action',\n",
       " 'cancelled',\n",
       " 'queen',\n",
       " 'death',\n",
       " 'neighbourhood',\n",
       " 'leading',\n",
       " 'green',\n",
       " 'energy',\n",
       " 'revolution',\n",
       " 'men',\n",
       " 'u17',\n",
       " 'european',\n",
       " 'championship',\n",
       " 'dutch',\n",
       " '17yearold',\n",
       " 'isaac',\n",
       " 'babadi',\n",
       " 'score',\n",
       " 'panenka',\n",
       " 'penalty',\n",
       " 'amtrak',\n",
       " 'derailment',\n",
       " 'three',\n",
       " 'killed',\n",
       " 'missouri',\n",
       " 'train',\n",
       " 'hit',\n",
       " 'truck',\n",
       " 'energy',\n",
       " 'price',\n",
       " 'cap',\n",
       " 'rising',\n",
       " 'bill',\n",
       " 'four',\n",
       " 'discount',\n",
       " 'payment',\n",
       " 'could',\n",
       " 'help',\n",
       " 'environment',\n",
       " 'mushroom',\n",
       " 'board',\n",
       " 'future',\n",
       " 'surfing',\n",
       " 'flying',\n",
       " 'boat',\n",
       " 'tech',\n",
       " 'cleaner',\n",
       " 'shipping',\n",
       " 'scottish',\n",
       " 'football',\n",
       " 'ban',\n",
       " 'heading',\n",
       " 'day',\n",
       " 'match',\n",
       " 'chris',\n",
       " 'eubank',\n",
       " 'jr',\n",
       " 'v',\n",
       " 'liam',\n",
       " 'smith',\n",
       " 'next',\n",
       " 'boxing',\n",
       " 'unacceptable',\n",
       " 'taunt',\n",
       " 'town',\n",
       " 'destroyed',\n",
       " 'make',\n",
       " 'way',\n",
       " 'whitesonly',\n",
       " 'suburb',\n",
       " 'ukraine',\n",
       " 'war',\n",
       " 'village',\n",
       " 'celebrates',\n",
       " 'russian',\n",
       " 'retreat',\n",
       " 'root',\n",
       " 'hit',\n",
       " 'ton',\n",
       " 'england',\n",
       " 'take',\n",
       " 'command',\n",
       " 'west',\n",
       " 'indie',\n",
       " 'heineken',\n",
       " 'champion',\n",
       " 'cup',\n",
       " 'leicester',\n",
       " '166',\n",
       " 'edinburgh',\n",
       " 'jasper',\n",
       " 'wiese',\n",
       " 'try',\n",
       " 'sends',\n",
       " 'tiger',\n",
       " 'last',\n",
       " 'eight',\n",
       " 'world',\n",
       " 'cup',\n",
       " '2022',\n",
       " 'bellingham',\n",
       " 'gakpo',\n",
       " 'fernandez',\n",
       " 'breakout',\n",
       " 'star',\n",
       " 'briton',\n",
       " 'jack',\n",
       " 'fenton',\n",
       " 'killed',\n",
       " 'greek',\n",
       " 'helicopter',\n",
       " 'accident',\n",
       " 'emotional',\n",
       " 'sue',\n",
       " 'barker',\n",
       " 'get',\n",
       " 'centre',\n",
       " 'court',\n",
       " 'ovation',\n",
       " 'ukrainian',\n",
       " 'skating',\n",
       " 'sister',\n",
       " 'back',\n",
       " 'doing',\n",
       " 'love',\n",
       " 'england',\n",
       " 'v',\n",
       " 'india',\n",
       " 'edgbaston',\n",
       " 'official',\n",
       " 'investigate',\n",
       " 'crowd',\n",
       " 'racism',\n",
       " 'test',\n",
       " 'newspaper',\n",
       " 'headline',\n",
       " 'rwanda',\n",
       " 'plan',\n",
       " 'will',\n",
       " 'fail',\n",
       " 'sa',\n",
       " 'train',\n",
       " 'kyiv',\n",
       " 'force',\n",
       " 'name',\n",
       " 'leon',\n",
       " 'sir',\n",
       " 'lenny',\n",
       " 'henry',\n",
       " 'brings',\n",
       " 'moving',\n",
       " 'adoption',\n",
       " 'story',\n",
       " 'screen',\n",
       " 'big',\n",
       " 'brother',\n",
       " 'star',\n",
       " 'glyn',\n",
       " 'wise',\n",
       " 'plan',\n",
       " 'priest',\n",
       " 'minister',\n",
       " 'asleep',\n",
       " 'wheel',\n",
       " 'dentist',\n",
       " 'shortage',\n",
       " 'say',\n",
       " 'lib',\n",
       " 'dems',\n",
       " 'chris',\n",
       " 'kaba',\n",
       " 'met',\n",
       " 'suspends',\n",
       " 'officer',\n",
       " 'shot',\n",
       " 'dead',\n",
       " 'unarmed',\n",
       " 'man',\n",
       " 'world',\n",
       " 'cup',\n",
       " '2022',\n",
       " 'learned',\n",
       " 'group',\n",
       " 'stage',\n",
       " 'saw',\n",
       " 'record',\n",
       " 'number',\n",
       " 'upset',\n",
       " 'james',\n",
       " 'webb',\n",
       " 'nasa',\n",
       " 'space',\n",
       " 'telescope',\n",
       " 'delivers',\n",
       " 'spectacular',\n",
       " 'picture',\n",
       " 'constitution',\n",
       " 'hill',\n",
       " 'cheltenham',\n",
       " 'champion',\n",
       " 'hurdle',\n",
       " 'winner',\n",
       " 'the',\n",
       " 'horse',\n",
       " 'generation',\n",
       " 'least',\n",
       " 'one',\n",
       " 'victim',\n",
       " 'could',\n",
       " 'survived',\n",
       " 'arena',\n",
       " 'bomb',\n",
       " 'inquiry',\n",
       " 'gareth',\n",
       " 'bale',\n",
       " 'wale',\n",
       " 'captain',\n",
       " 'retires',\n",
       " 'football',\n",
       " 'aged',\n",
       " '33',\n",
       " 'ukraine',\n",
       " 'war',\n",
       " 'silent',\n",
       " 'street',\n",
       " 'wiped',\n",
       " 'donetsk',\n",
       " 'town',\n",
       " 'world',\n",
       " 'cup',\n",
       " '2022',\n",
       " 'vittorio',\n",
       " 'pozzos',\n",
       " 'legacy',\n",
       " 'record',\n",
       " 'might',\n",
       " 'finally',\n",
       " 'threat',\n",
       " 'train',\n",
       " 'strike',\n",
       " 'worker',\n",
       " 'vote',\n",
       " 'six',\n",
       " 'month',\n",
       " 'walkout',\n",
       " 'eidevall',\n",
       " '100',\n",
       " 'sure',\n",
       " 'arsenal',\n",
       " 'advance',\n",
       " 'firstleg',\n",
       " 'draw',\n",
       " 'ukraine',\n",
       " 'war',\n",
       " 'returning',\n",
       " 'place',\n",
       " 'father',\n",
       " 'killed',\n",
       " 'furniture',\n",
       " 'firm',\n",
       " 'made',\n",
       " 'collapse',\n",
       " 'customer',\n",
       " 'dark',\n",
       " 'refund',\n",
       " 'widow',\n",
       " 'u',\n",
       " 'capitol',\n",
       " 'riot',\n",
       " 'officer',\n",
       " 'stigma',\n",
       " 'death',\n",
       " 'nh',\n",
       " 'reach',\n",
       " 'deal',\n",
       " 'lifesaving',\n",
       " 'breastcancer',\n",
       " 'drug',\n",
       " 'giant',\n",
       " 'ceramic',\n",
       " 'sculpture',\n",
       " 'sandy',\n",
       " 'brown',\n",
       " 'unveiled',\n",
       " 'cornwall',\n",
       " 'ceo',\n",
       " 'secret',\n",
       " 'one',\n",
       " 'company',\n",
       " 'attracts',\n",
       " 'men',\n",
       " 'boris',\n",
       " 'becker',\n",
       " 'tennis',\n",
       " 'superstar',\n",
       " 'crashed',\n",
       " 'earth',\n",
       " 'turkish',\n",
       " 'mine',\n",
       " 'explosion',\n",
       " 'kill',\n",
       " '25',\n",
       " 'leaf',\n",
       " 'dozen',\n",
       " 'trapped',\n",
       " 'indian',\n",
       " 'well',\n",
       " 'andy',\n",
       " 'murray',\n",
       " 'emma',\n",
       " 'raducanu',\n",
       " 'jack',\n",
       " 'draper',\n",
       " 'win',\n",
       " 'reach',\n",
       " 'third',\n",
       " 'round',\n",
       " 'world',\n",
       " 'athletics',\n",
       " 'championship',\n",
       " 'gb',\n",
       " 'keely',\n",
       " 'hodgkinson',\n",
       " 'narrowly',\n",
       " 'miss',\n",
       " 'gold',\n",
       " 'dramatic',\n",
       " '800m',\n",
       " 'nh',\n",
       " 'crisis',\n",
       " 'medic',\n",
       " 'trying',\n",
       " 'fix',\n",
       " 'health',\n",
       " 'service',\n",
       " 'jet',\n",
       " 'crash',\n",
       " 'block',\n",
       " 'flat',\n",
       " 'russia',\n",
       " 'prince',\n",
       " 'harry',\n",
       " 'meghan',\n",
       " 'get',\n",
       " 'money',\n",
       " 'chelsea',\n",
       " '42',\n",
       " 'man',\n",
       " 'utd',\n",
       " 'chelsea',\n",
       " 'win',\n",
       " 'historic',\n",
       " 'third',\n",
       " 'successive',\n",
       " 'wsl',\n",
       " 'title',\n",
       " 'tory',\n",
       " 'leadership',\n",
       " 'rather',\n",
       " 'lose',\n",
       " 'right',\n",
       " 'thing',\n",
       " 'say',\n",
       " 'sunak',\n",
       " 'omagh',\n",
       " 'police',\n",
       " 'shooting',\n",
       " 'four',\n",
       " 'men',\n",
       " 'released',\n",
       " 'john',\n",
       " 'caldwell',\n",
       " 'attack',\n",
       " 'northern',\n",
       " 'ireland',\n",
       " '10',\n",
       " 'italy',\n",
       " 'sarah',\n",
       " 'mcfadden',\n",
       " 'score',\n",
       " 'famous',\n",
       " 'winner',\n",
       " 'belfast',\n",
       " 'actress',\n",
       " 'clara',\n",
       " 'darcy',\n",
       " 'starring',\n",
       " 'play',\n",
       " 'brain',\n",
       " 'tumour',\n",
       " 'bridgerton',\n",
       " 'south',\n",
       " 'asian',\n",
       " 'face',\n",
       " 'tv',\n",
       " 'make',\n",
       " 'happy',\n",
       " 'prince',\n",
       " 'harry',\n",
       " 'remembers',\n",
       " 'queen',\n",
       " 'elizabeth',\n",
       " 'ii',\n",
       " 'infectious',\n",
       " 'smile',\n",
       " 'million',\n",
       " 'receive',\n",
       " 'latest',\n",
       " 'costofliving',\n",
       " 'payment',\n",
       " 'joe',\n",
       " 'biden',\n",
       " 'head',\n",
       " 'middle',\n",
       " 'east',\n",
       " 'amid',\n",
       " 'faltering',\n",
       " 'u',\n",
       " 'sway',\n",
       " 'nh',\n",
       " 'public',\n",
       " 'satisfaction',\n",
       " 'health',\n",
       " 'service',\n",
       " 'drop',\n",
       " 'record',\n",
       " 'low',\n",
       " 'seen',\n",
       " 'major',\n",
       " 'winter',\n",
       " 'storm',\n",
       " 'paper',\n",
       " 'lion',\n",
       " 'bare',\n",
       " 'teeth',\n",
       " 'starmers',\n",
       " 'migration',\n",
       " 'policy',\n",
       " 'afghanistan',\n",
       " 'pupil',\n",
       " 'fear',\n",
       " 'spate',\n",
       " 'islamic',\n",
       " 'state',\n",
       " 'attack',\n",
       " 'princess',\n",
       " 'wale',\n",
       " 'kate',\n",
       " 'pay',\n",
       " 'tribute',\n",
       " 'queen',\n",
       " 'elizabeth',\n",
       " 'carol',\n",
       " 'service',\n",
       " 'emma',\n",
       " 'raducanu',\n",
       " 'u',\n",
       " 'open',\n",
       " 'champion',\n",
       " 'discusses',\n",
       " 'tough',\n",
       " 'split',\n",
       " 'coach',\n",
       " 'torben',\n",
       " 'beltz',\n",
       " 'oxford',\n",
       " 'united',\n",
       " '03',\n",
       " 'arsenal',\n",
       " 'eddie',\n",
       " 'nketiah',\n",
       " 'score',\n",
       " 'twice',\n",
       " 'gunner',\n",
       " 'progress',\n",
       " 'ukraine',\n",
       " 'roundup',\n",
       " 'putin',\n",
       " 'defends',\n",
       " 'necessary',\n",
       " 'invasion',\n",
       " 'kyiv',\n",
       " 'averts',\n",
       " 'cyberattack',\n",
       " 'ni',\n",
       " 'protocol',\n",
       " 'uk',\n",
       " 'eu',\n",
       " 'reach',\n",
       " 'agreement',\n",
       " 'trade',\n",
       " 'data',\n",
       " 'sharing',\n",
       " 'super',\n",
       " 'mario',\n",
       " 'bros',\n",
       " 'movie',\n",
       " 'jack',\n",
       " 'black',\n",
       " 'rise',\n",
       " 'game',\n",
       " 'adaptation',\n",
       " 'fourtime',\n",
       " 'slam',\n",
       " 'champion',\n",
       " 'osaka',\n",
       " 'announces',\n",
       " 'pregnancy',\n",
       " 'mcdonalds',\n",
       " 'cocacola',\n",
       " 'boycott',\n",
       " 'call',\n",
       " 'grow',\n",
       " 'russia',\n",
       " 'womens',\n",
       " 'footballer',\n",
       " 'year',\n",
       " 'contender',\n",
       " 'sam',\n",
       " 'kerr',\n",
       " 'war',\n",
       " 'ukraine',\n",
       " 'vladimir',\n",
       " 'putin',\n",
       " 'trained',\n",
       " 'fighter',\n",
       " 'africa',\n",
       " 'ryanairs',\n",
       " 'michael',\n",
       " 'oleary',\n",
       " 'want',\n",
       " 'practical',\n",
       " 'immigration',\n",
       " 'approach',\n",
       " 'i',\n",
       " 'planned',\n",
       " 'end',\n",
       " 'life',\n",
       " '16',\n",
       " 'still',\n",
       " 'here',\n",
       " 'england',\n",
       " '14',\n",
       " 'men',\n",
       " 'whipped',\n",
       " 'twickenham',\n",
       " 'crowd',\n",
       " 'stirring',\n",
       " 'display',\n",
       " 'open',\n",
       " 'rory',\n",
       " 'mcilroy',\n",
       " 'viktor',\n",
       " 'hovland',\n",
       " 'share',\n",
       " 'lead',\n",
       " 'st',\n",
       " 'andrew',\n",
       " 'third',\n",
       " 'round',\n",
       " 'real',\n",
       " 'madrid',\n",
       " '20',\n",
       " 'eintracht',\n",
       " 'frankfurt',\n",
       " 'karim',\n",
       " 'benzema',\n",
       " 'score',\n",
       " '324th',\n",
       " 'goal',\n",
       " 'real',\n",
       " 'super',\n",
       " 'cup',\n",
       " 'win',\n",
       " 'paper',\n",
       " 'boris',\n",
       " 'dossier',\n",
       " 'judge',\n",
       " 'to',\n",
       " 'back',\n",
       " 'down',\n",
       " 'rwanda',\n",
       " 'queen',\n",
       " 'pull',\n",
       " 'attending',\n",
       " 'commonwealth',\n",
       " 'service',\n",
       " 'mosque',\n",
       " 'fire',\n",
       " 'suspect',\n",
       " 'arrested',\n",
       " 'second',\n",
       " 'attack',\n",
       " 'world',\n",
       " 'cup',\n",
       " '2022',\n",
       " 'belgium',\n",
       " 'drop',\n",
       " 'love',\n",
       " 'away',\n",
       " 'shirt',\n",
       " 'qatar',\n",
       " 'uk',\n",
       " 'living',\n",
       " 'covid',\n",
       " 'plan',\n",
       " 'soho',\n",
       " 'street',\n",
       " 'turned',\n",
       " 'new',\n",
       " 'london',\n",
       " 'art',\n",
       " 'gallery',\n",
       " 'paper',\n",
       " 'cruise',\n",
       " 'ship',\n",
       " 'house',\n",
       " 'migrant',\n",
       " 'new',\n",
       " 'nh',\n",
       " 'cash',\n",
       " 'pay',\n",
       " 'gap',\n",
       " 'boss',\n",
       " 'staff',\n",
       " 'widen',\n",
       " 'think',\n",
       " 'tank',\n",
       " 'local',\n",
       " 'election',\n",
       " 'child',\n",
       " 'urge',\n",
       " 'action',\n",
       " 'save',\n",
       " 'wildlife',\n",
       " 'climate',\n",
       " 'change',\n",
       " 'uk',\n",
       " 'track',\n",
       " 'meet',\n",
       " 'target',\n",
       " 'trump',\n",
       " 'investigation',\n",
       " 'empty',\n",
       " 'folder',\n",
       " 'marked',\n",
       " 'classified',\n",
       " 'found',\n",
       " 'maralago',\n",
       " 'jim',\n",
       " 'ratcliffe',\n",
       " 'man',\n",
       " 'bidding',\n",
       " 'man',\n",
       " 'utd',\n",
       " 'shropshire',\n",
       " 'baby',\n",
       " 'death',\n",
       " 'parent',\n",
       " 'whose',\n",
       " 'life',\n",
       " 'changed',\n",
       " 'forever',\n",
       " 'bus',\n",
       " 'journey',\n",
       " 'taken',\n",
       " 'since',\n",
       " '2',\n",
       " 'fare',\n",
       " 'cap',\n",
       " 'say',\n",
       " 'watchdog',\n",
       " 'mexico',\n",
       " 'kidnapping',\n",
       " 'twisted',\n",
       " 'moral',\n",
       " 'code',\n",
       " 'explains',\n",
       " 'cartel',\n",
       " 'apology',\n",
       " 'rail',\n",
       " 'fare',\n",
       " 'england',\n",
       " 'rise',\n",
       " 'inflation',\n",
       " 'rate',\n",
       " 'minister',\n",
       " 'say',\n",
       " 'taliban',\n",
       " 'school',\n",
       " 'uturn',\n",
       " 'a',\n",
       " 'devastating',\n",
       " 'day',\n",
       " 'afghan',\n",
       " 'girl',\n",
       " 'malala',\n",
       " 'yousafzai',\n",
       " 'met',\n",
       " 'police',\n",
       " 'next',\n",
       " 'force',\n",
       " 'casey',\n",
       " 'review',\n",
       " 'ukraine',\n",
       " 'war',\n",
       " 'kherson',\n",
       " 'mariupol',\n",
       " 'key',\n",
       " 'russian',\n",
       " 'success',\n",
       " 'heineken',\n",
       " 'champion',\n",
       " 'cup',\n",
       " 'premiership',\n",
       " 'cap',\n",
       " 'hinders',\n",
       " 'english',\n",
       " 'team',\n",
       " 'alex',\n",
       " 'sanderson',\n",
       " 'ukraine',\n",
       " 'war',\n",
       " 'protester',\n",
       " 'expose',\n",
       " 'crack',\n",
       " 'kremlin',\n",
       " 'war',\n",
       " 'message',\n",
       " 'liz',\n",
       " 'truss',\n",
       " 'vow',\n",
       " 'match',\n",
       " 'ukraine',\n",
       " 'military',\n",
       " 'support',\n",
       " 'politics',\n",
       " 'return',\n",
       " 'wale',\n",
       " 'population',\n",
       " 'hit',\n",
       " 'new',\n",
       " 'high',\n",
       " 'growth',\n",
       " 'lowest',\n",
       " 'many',\n",
       " 'ukrainian',\n",
       " 'fled',\n",
       " 'home',\n",
       " 'gone',\n",
       " 'deloitte',\n",
       " 'report',\n",
       " 'european',\n",
       " 'football',\n",
       " 'made',\n",
       " 'significant',\n",
       " 'recovery',\n",
       " 'covid',\n",
       " 'pandemic',\n",
       " 'nigeria',\n",
       " 'flood',\n",
       " 'overwhelming',\n",
       " 'disaster',\n",
       " 'leaf',\n",
       " '600',\n",
       " 'people',\n",
       " 'dead',\n",
       " 'wimbledon',\n",
       " 'emma',\n",
       " 'raducanu',\n",
       " 'andy',\n",
       " 'murray',\n",
       " 'set',\n",
       " 'centre',\n",
       " 'court',\n",
       " 'day',\n",
       " 'one',\n",
       " 'journey',\n",
       " 'site',\n",
       " 'nord',\n",
       " ...]"
      ]
     },
     "execution_count": 99,
     "metadata": {},
     "output_type": "execute_result"
    }
   ],
   "source": [
    "#creating new lists\n",
    "tokens_raw_list= sum(titles['tokens_raw'],[])\n",
    "tokens_clean_list= sum(titles['tokens_clean_lemmatized'],[])\n",
    "tokens_clean_list"
   ]
  },
  {
   "cell_type": "markdown",
   "id": "b3f8f314-42da-41b4-a913-5ece98f73ddd",
   "metadata": {},
   "source": [
    "**POS TAGGING**"
   ]
  },
  {
   "cell_type": "code",
   "execution_count": 101,
   "id": "dfa105fe-4176-4c4b-b267-5fc98dc4c463",
   "metadata": {},
   "outputs": [],
   "source": [
    "import spacy\n",
    "import pandas as pd\n",
    "nlp = spacy.load(\"en_core_web_sm\")\n",
    "# create a spacy doc from our raw text - better for pos tagging\n",
    "spacy_doc = nlp(' '.join(tokens_raw_list))\n",
    "pos_df2= pd.DataFrame(columns = ['token','pos_tag'])  "
   ]
  },
  {
   "cell_type": "code",
   "execution_count": 102,
   "id": "27e04be3-fe8f-4cc1-9eb2-9798f468da6a",
   "metadata": {},
   "outputs": [],
   "source": [
    "# extract the tokens and pos tags into a dataframe\n",
    "for token in spacy_doc:\n",
    "    pos_df2 = pd.concat([pos_df,\n",
    "                       pd.DataFrame.from_records([{'token': token.text,'pos_tag': token.pos_}])], ignore_index=True)"
   ]
  },
  {
   "cell_type": "code",
   "execution_count": 103,
   "id": "11e9eab7-0154-442e-bb0d-a70da7677c71",
   "metadata": {},
   "outputs": [
    {
     "data": {
      "text/html": [
       "<div>\n",
       "<style scoped>\n",
       "    .dataframe tbody tr th:only-of-type {\n",
       "        vertical-align: middle;\n",
       "    }\n",
       "\n",
       "    .dataframe tbody tr th {\n",
       "        vertical-align: top;\n",
       "    }\n",
       "\n",
       "    .dataframe thead th {\n",
       "        text-align: right;\n",
       "    }\n",
       "</style>\n",
       "<table border=\"1\" class=\"dataframe\">\n",
       "  <thead>\n",
       "    <tr style=\"text-align: right;\">\n",
       "      <th></th>\n",
       "      <th>token</th>\n",
       "      <th>pos_tag</th>\n",
       "    </tr>\n",
       "  </thead>\n",
       "  <tbody>\n",
       "    <tr>\n",
       "      <th>0</th>\n",
       "      <td>emma</td>\n",
       "      <td>PROPN</td>\n",
       "    </tr>\n",
       "    <tr>\n",
       "      <th>1</th>\n",
       "      <td>woodhouse</td>\n",
       "      <td>PROPN</td>\n",
       "    </tr>\n",
       "    <tr>\n",
       "      <th>2</th>\n",
       "      <td>handsome</td>\n",
       "      <td>ADV</td>\n",
       "    </tr>\n",
       "    <tr>\n",
       "      <th>3</th>\n",
       "      <td>clever</td>\n",
       "      <td>ADJ</td>\n",
       "    </tr>\n",
       "    <tr>\n",
       "      <th>4</th>\n",
       "      <td>and</td>\n",
       "      <td>CCONJ</td>\n",
       "    </tr>\n",
       "  </tbody>\n",
       "</table>\n",
       "</div>"
      ],
      "text/plain": [
       "       token pos_tag\n",
       "0       emma   PROPN\n",
       "1  woodhouse   PROPN\n",
       "2   handsome     ADV\n",
       "3     clever     ADJ\n",
       "4        and   CCONJ"
      ]
     },
     "execution_count": 103,
     "metadata": {},
     "output_type": "execute_result"
    }
   ],
   "source": [
    "pos_df.head()"
   ]
  },
  {
   "cell_type": "code",
   "execution_count": 104,
   "id": "e47b25a8-076e-43f7-963a-88cc4dd9ad5c",
   "metadata": {},
   "outputs": [
    {
     "data": {
      "text/html": [
       "<div>\n",
       "<style scoped>\n",
       "    .dataframe tbody tr th:only-of-type {\n",
       "        vertical-align: middle;\n",
       "    }\n",
       "\n",
       "    .dataframe tbody tr th {\n",
       "        vertical-align: top;\n",
       "    }\n",
       "\n",
       "    .dataframe thead th {\n",
       "        text-align: right;\n",
       "    }\n",
       "</style>\n",
       "<table border=\"1\" class=\"dataframe\">\n",
       "  <thead>\n",
       "    <tr style=\"text-align: right;\">\n",
       "      <th></th>\n",
       "      <th>token</th>\n",
       "      <th>pos_tag</th>\n",
       "      <th>counts</th>\n",
       "    </tr>\n",
       "  </thead>\n",
       "  <tbody>\n",
       "    <tr>\n",
       "      <th>86</th>\n",
       "      <td>of</td>\n",
       "      <td>ADP</td>\n",
       "      <td>14</td>\n",
       "    </tr>\n",
       "    <tr>\n",
       "      <th>48</th>\n",
       "      <td>had</td>\n",
       "      <td>AUX</td>\n",
       "      <td>9</td>\n",
       "    </tr>\n",
       "    <tr>\n",
       "      <th>53</th>\n",
       "      <td>her</td>\n",
       "      <td>PRON</td>\n",
       "      <td>9</td>\n",
       "    </tr>\n",
       "    <tr>\n",
       "      <th>6</th>\n",
       "      <td>and</td>\n",
       "      <td>CCONJ</td>\n",
       "      <td>8</td>\n",
       "    </tr>\n",
       "    <tr>\n",
       "      <th>109</th>\n",
       "      <td>the</td>\n",
       "      <td>DET</td>\n",
       "      <td>8</td>\n",
       "    </tr>\n",
       "    <tr>\n",
       "      <th>0</th>\n",
       "      <td>a</td>\n",
       "      <td>DET</td>\n",
       "      <td>6</td>\n",
       "    </tr>\n",
       "    <tr>\n",
       "      <th>112</th>\n",
       "      <td>to</td>\n",
       "      <td>PART</td>\n",
       "      <td>5</td>\n",
       "    </tr>\n",
       "    <tr>\n",
       "      <th>12</th>\n",
       "      <td>been</td>\n",
       "      <td>AUX</td>\n",
       "      <td>4</td>\n",
       "    </tr>\n",
       "    <tr>\n",
       "      <th>60</th>\n",
       "      <td>in</td>\n",
       "      <td>ADP</td>\n",
       "      <td>4</td>\n",
       "    </tr>\n",
       "    <tr>\n",
       "      <th>118</th>\n",
       "      <td>very</td>\n",
       "      <td>ADV</td>\n",
       "      <td>4</td>\n",
       "    </tr>\n",
       "  </tbody>\n",
       "</table>\n",
       "</div>"
      ],
      "text/plain": [
       "    token pos_tag  counts\n",
       "86     of     ADP      14\n",
       "48    had     AUX       9\n",
       "53    her    PRON       9\n",
       "6     and   CCONJ       8\n",
       "109   the     DET       8\n",
       "0       a     DET       6\n",
       "112    to    PART       5\n",
       "12   been     AUX       4\n",
       "60     in     ADP       4\n",
       "118  very     ADV       4"
      ]
     },
     "execution_count": 104,
     "metadata": {},
     "output_type": "execute_result"
    }
   ],
   "source": [
    "# token frequency count\n",
    "pos_df_counts = pos_df.groupby(['token','pos_tag']).size().reset_index(name='counts').sort_values(by='counts', ascending=False)\n",
    "pos_df_counts.head(10)"
   ]
  },
  {
   "cell_type": "code",
   "execution_count": 105,
   "id": "244f5138-397d-407e-8f6c-222fd3e6cb06",
   "metadata": {},
   "outputs": [
    {
     "data": {
      "text/html": [
       "<div>\n",
       "<style scoped>\n",
       "    .dataframe tbody tr th:only-of-type {\n",
       "        vertical-align: middle;\n",
       "    }\n",
       "\n",
       "    .dataframe tbody tr th {\n",
       "        vertical-align: top;\n",
       "    }\n",
       "\n",
       "    .dataframe thead th {\n",
       "        text-align: right;\n",
       "    }\n",
       "</style>\n",
       "<table border=\"1\" class=\"dataframe\">\n",
       "  <thead>\n",
       "    <tr style=\"text-align: right;\">\n",
       "      <th></th>\n",
       "      <th>token</th>\n",
       "      <th>pos_tag</th>\n",
       "      <th>counts</th>\n",
       "    </tr>\n",
       "  </thead>\n",
       "  <tbody>\n",
       "    <tr>\n",
       "      <th>47</th>\n",
       "      <td>governess</td>\n",
       "      <td>NOUN</td>\n",
       "      <td>3</td>\n",
       "    </tr>\n",
       "    <tr>\n",
       "      <th>45</th>\n",
       "      <td>friend</td>\n",
       "      <td>NOUN</td>\n",
       "      <td>3</td>\n",
       "    </tr>\n",
       "    <tr>\n",
       "      <th>101</th>\n",
       "      <td>sisters</td>\n",
       "      <td>NOUN</td>\n",
       "      <td>2</td>\n",
       "    </tr>\n",
       "    <tr>\n",
       "      <th>27</th>\n",
       "      <td>daughters</td>\n",
       "      <td>NOUN</td>\n",
       "      <td>2</td>\n",
       "    </tr>\n",
       "    <tr>\n",
       "      <th>34</th>\n",
       "      <td>emma</td>\n",
       "      <td>NOUN</td>\n",
       "      <td>2</td>\n",
       "    </tr>\n",
       "    <tr>\n",
       "      <th>80</th>\n",
       "      <td>mother</td>\n",
       "      <td>NOUN</td>\n",
       "      <td>2</td>\n",
       "    </tr>\n",
       "    <tr>\n",
       "      <th>128</th>\n",
       "      <td>years</td>\n",
       "      <td>NOUN</td>\n",
       "      <td>2</td>\n",
       "    </tr>\n",
       "    <tr>\n",
       "      <th>92</th>\n",
       "      <td>period</td>\n",
       "      <td>NOUN</td>\n",
       "      <td>1</td>\n",
       "    </tr>\n",
       "    <tr>\n",
       "      <th>74</th>\n",
       "      <td>mildness</td>\n",
       "      <td>NOUN</td>\n",
       "      <td>1</td>\n",
       "    </tr>\n",
       "    <tr>\n",
       "      <th>77</th>\n",
       "      <td>mistress</td>\n",
       "      <td>NOUN</td>\n",
       "      <td>1</td>\n",
       "    </tr>\n",
       "  </tbody>\n",
       "</table>\n",
       "</div>"
      ],
      "text/plain": [
       "         token pos_tag  counts\n",
       "47   governess    NOUN       3\n",
       "45      friend    NOUN       3\n",
       "101    sisters    NOUN       2\n",
       "27   daughters    NOUN       2\n",
       "34        emma    NOUN       2\n",
       "80      mother    NOUN       2\n",
       "128      years    NOUN       2\n",
       "92      period    NOUN       1\n",
       "74    mildness    NOUN       1\n",
       "77    mistress    NOUN       1"
      ]
     },
     "execution_count": 105,
     "metadata": {},
     "output_type": "execute_result"
    }
   ],
   "source": [
    "# most common nouns\n",
    "nouns = pos_df_counts[pos_df_counts.pos_tag == \"NOUN\"][0:10]\n",
    "nouns"
   ]
  },
  {
   "cell_type": "code",
   "execution_count": 106,
   "id": "98de09af-3dd1-47cc-8eab-b4534f7da780",
   "metadata": {},
   "outputs": [
    {
     "data": {
      "text/html": [
       "<div>\n",
       "<style scoped>\n",
       "    .dataframe tbody tr th:only-of-type {\n",
       "        vertical-align: middle;\n",
       "    }\n",
       "\n",
       "    .dataframe tbody tr th {\n",
       "        vertical-align: top;\n",
       "    }\n",
       "\n",
       "    .dataframe thead th {\n",
       "        text-align: right;\n",
       "    }\n",
       "</style>\n",
       "<table border=\"1\" class=\"dataframe\">\n",
       "  <thead>\n",
       "    <tr style=\"text-align: right;\">\n",
       "      <th></th>\n",
       "      <th>token</th>\n",
       "      <th>pos_tag</th>\n",
       "      <th>counts</th>\n",
       "    </tr>\n",
       "  </thead>\n",
       "  <tbody>\n",
       "    <tr>\n",
       "      <th>91</th>\n",
       "      <td>passed</td>\n",
       "      <td>VERB</td>\n",
       "      <td>1</td>\n",
       "    </tr>\n",
       "    <tr>\n",
       "      <th>119</th>\n",
       "      <td>vex</td>\n",
       "      <td>VERB</td>\n",
       "      <td>1</td>\n",
       "    </tr>\n",
       "    <tr>\n",
       "      <th>117</th>\n",
       "      <td>unite</td>\n",
       "      <td>VERB</td>\n",
       "      <td>1</td>\n",
       "    </tr>\n",
       "    <tr>\n",
       "      <th>115</th>\n",
       "      <td>twentyone</td>\n",
       "      <td>VERB</td>\n",
       "      <td>1</td>\n",
       "    </tr>\n",
       "    <tr>\n",
       "      <th>104</th>\n",
       "      <td>supplied</td>\n",
       "      <td>VERB</td>\n",
       "      <td>1</td>\n",
       "    </tr>\n",
       "    <tr>\n",
       "      <th>97</th>\n",
       "      <td>seemed</td>\n",
       "      <td>VERB</td>\n",
       "      <td>1</td>\n",
       "    </tr>\n",
       "    <tr>\n",
       "      <th>71</th>\n",
       "      <td>living</td>\n",
       "      <td>VERB</td>\n",
       "      <td>1</td>\n",
       "    </tr>\n",
       "    <tr>\n",
       "      <th>36</th>\n",
       "      <td>esteeming</td>\n",
       "      <td>VERB</td>\n",
       "      <td>1</td>\n",
       "    </tr>\n",
       "    <tr>\n",
       "      <th>32</th>\n",
       "      <td>doing</td>\n",
       "      <td>VERB</td>\n",
       "      <td>1</td>\n",
       "    </tr>\n",
       "    <tr>\n",
       "      <th>31</th>\n",
       "      <td>distress</td>\n",
       "      <td>VERB</td>\n",
       "      <td>1</td>\n",
       "    </tr>\n",
       "  </tbody>\n",
       "</table>\n",
       "</div>"
      ],
      "text/plain": [
       "         token pos_tag  counts\n",
       "91      passed    VERB       1\n",
       "119        vex    VERB       1\n",
       "117      unite    VERB       1\n",
       "115  twentyone    VERB       1\n",
       "104   supplied    VERB       1\n",
       "97      seemed    VERB       1\n",
       "71      living    VERB       1\n",
       "36   esteeming    VERB       1\n",
       "32       doing    VERB       1\n",
       "31    distress    VERB       1"
      ]
     },
     "execution_count": 106,
     "metadata": {},
     "output_type": "execute_result"
    }
   ],
   "source": [
    "# most common verbs\n",
    "verbs = pos_df_counts[pos_df_counts.pos_tag == \"VERB\"][0:10]\n",
    "verbs"
   ]
  },
  {
   "cell_type": "markdown",
   "id": "81f06d9a-a00e-4412-aec1-f25904521a04",
   "metadata": {},
   "source": [
    "**NER Tagging**"
   ]
  },
  {
   "cell_type": "code",
   "execution_count": 108,
   "id": "4afea637-0f2a-4e8d-bd13-17201df03c64",
   "metadata": {},
   "outputs": [
    {
     "data": {
      "text/html": [
       "<div>\n",
       "<style scoped>\n",
       "    .dataframe tbody tr th:only-of-type {\n",
       "        vertical-align: middle;\n",
       "    }\n",
       "\n",
       "    .dataframe tbody tr th {\n",
       "        vertical-align: top;\n",
       "    }\n",
       "\n",
       "    .dataframe thead th {\n",
       "        text-align: right;\n",
       "    }\n",
       "</style>\n",
       "<table border=\"1\" class=\"dataframe\">\n",
       "  <thead>\n",
       "    <tr style=\"text-align: right;\">\n",
       "      <th></th>\n",
       "      <th>token</th>\n",
       "      <th>ner_tag</th>\n",
       "    </tr>\n",
       "  </thead>\n",
       "  <tbody>\n",
       "    <tr>\n",
       "      <th>0</th>\n",
       "      <td>Liz Truss</td>\n",
       "      <td>PERSON</td>\n",
       "    </tr>\n",
       "    <tr>\n",
       "      <th>1</th>\n",
       "      <td>UK</td>\n",
       "      <td>GPE</td>\n",
       "    </tr>\n",
       "    <tr>\n",
       "      <th>2</th>\n",
       "      <td>superyachts</td>\n",
       "      <td>CARDINAL</td>\n",
       "    </tr>\n",
       "    <tr>\n",
       "      <th>3</th>\n",
       "      <td>Russian</td>\n",
       "      <td>NORP</td>\n",
       "    </tr>\n",
       "    <tr>\n",
       "      <th>4</th>\n",
       "      <td>Platinum Jubilee</td>\n",
       "      <td>PERSON</td>\n",
       "    </tr>\n",
       "  </tbody>\n",
       "</table>\n",
       "</div>"
      ],
      "text/plain": [
       "              token   ner_tag\n",
       "0         Liz Truss    PERSON\n",
       "1                UK       GPE\n",
       "2       superyachts  CARDINAL\n",
       "3           Russian      NORP\n",
       "4  Platinum Jubilee    PERSON"
      ]
     },
     "execution_count": 108,
     "metadata": {},
     "output_type": "execute_result"
    }
   ],
   "source": [
    "# extract the tokens and entity tags into a dataframe\n",
    "ner_df = pd.DataFrame(columns=['token', 'ner_tag'])\n",
    "\n",
    "for token in spacy_doc.ents:\n",
    "    if pd.isna(token.label_) is False:    #return True if a value is NaN\n",
    "        ner_df = pd.concat([ner_df, pd.DataFrame.from_records(\n",
    "            [{'token': token.text, 'ner_tag': token.label_}])], ignore_index=True)\n",
    "ner_df.head()"
   ]
  },
  {
   "cell_type": "code",
   "execution_count": 109,
   "id": "31c98989-7729-4bcf-bfd2-87eac90d7a80",
   "metadata": {},
   "outputs": [
    {
     "data": {
      "text/html": [
       "<div>\n",
       "<style scoped>\n",
       "    .dataframe tbody tr th:only-of-type {\n",
       "        vertical-align: middle;\n",
       "    }\n",
       "\n",
       "    .dataframe tbody tr th {\n",
       "        vertical-align: top;\n",
       "    }\n",
       "\n",
       "    .dataframe thead th {\n",
       "        text-align: right;\n",
       "    }\n",
       "</style>\n",
       "<table border=\"1\" class=\"dataframe\">\n",
       "  <thead>\n",
       "    <tr style=\"text-align: right;\">\n",
       "      <th></th>\n",
       "      <th>token</th>\n",
       "      <th>ner_tag</th>\n",
       "      <th>count tags</th>\n",
       "    </tr>\n",
       "  </thead>\n",
       "  <tbody>\n",
       "    <tr>\n",
       "      <th>984</th>\n",
       "      <td>Ukraine</td>\n",
       "      <td>GPE</td>\n",
       "      <td>44</td>\n",
       "    </tr>\n",
       "    <tr>\n",
       "      <th>978</th>\n",
       "      <td>UK</td>\n",
       "      <td>GPE</td>\n",
       "      <td>37</td>\n",
       "    </tr>\n",
       "    <tr>\n",
       "      <th>320</th>\n",
       "      <td>England</td>\n",
       "      <td>GPE</td>\n",
       "      <td>34</td>\n",
       "    </tr>\n",
       "    <tr>\n",
       "      <th>979</th>\n",
       "      <td>US</td>\n",
       "      <td>GPE</td>\n",
       "      <td>22</td>\n",
       "    </tr>\n",
       "    <tr>\n",
       "      <th>837</th>\n",
       "      <td>Russian</td>\n",
       "      <td>NORP</td>\n",
       "      <td>21</td>\n",
       "    </tr>\n",
       "  </tbody>\n",
       "</table>\n",
       "</div>"
      ],
      "text/plain": [
       "       token ner_tag  count tags\n",
       "984  Ukraine     GPE          44\n",
       "978       UK     GPE          37\n",
       "320  England     GPE          34\n",
       "979       US     GPE          22\n",
       "837  Russian    NORP          21"
      ]
     },
     "execution_count": 109,
     "metadata": {},
     "output_type": "execute_result"
    }
   ],
   "source": [
    "ner_df_count=ner_df.groupby(['token','ner_tag']).size().reset_index(name='count tags')\\\n",
    "               .sort_values(by='count tags',ascending=False)\n",
    "ner_df_count.head()"
   ]
  },
  {
   "cell_type": "code",
   "execution_count": 110,
   "id": "4a04f0f3-1121-4215-a14b-c30ea108f383",
   "metadata": {},
   "outputs": [
    {
     "data": {
      "text/html": [
       "<div>\n",
       "<style scoped>\n",
       "    .dataframe tbody tr th:only-of-type {\n",
       "        vertical-align: middle;\n",
       "    }\n",
       "\n",
       "    .dataframe tbody tr th {\n",
       "        vertical-align: top;\n",
       "    }\n",
       "\n",
       "    .dataframe thead th {\n",
       "        text-align: right;\n",
       "    }\n",
       "</style>\n",
       "<table border=\"1\" class=\"dataframe\">\n",
       "  <thead>\n",
       "    <tr style=\"text-align: right;\">\n",
       "      <th></th>\n",
       "      <th>token</th>\n",
       "      <th>ner_tag</th>\n",
       "      <th>count tags</th>\n",
       "    </tr>\n",
       "  </thead>\n",
       "  <tbody>\n",
       "    <tr>\n",
       "      <th>780</th>\n",
       "      <td>Queen</td>\n",
       "      <td>PERSON</td>\n",
       "      <td>11</td>\n",
       "    </tr>\n",
       "    <tr>\n",
       "      <th>245</th>\n",
       "      <td>Covid</td>\n",
       "      <td>PERSON</td>\n",
       "      <td>9</td>\n",
       "    </tr>\n",
       "    <tr>\n",
       "      <th>776</th>\n",
       "      <td>Putin</td>\n",
       "      <td>PERSON</td>\n",
       "      <td>8</td>\n",
       "    </tr>\n",
       "    <tr>\n",
       "      <th>163</th>\n",
       "      <td>Boris Johnson</td>\n",
       "      <td>PERSON</td>\n",
       "      <td>6</td>\n",
       "    </tr>\n",
       "    <tr>\n",
       "      <th>564</th>\n",
       "      <td>Liz Truss</td>\n",
       "      <td>PERSON</td>\n",
       "      <td>6</td>\n",
       "    </tr>\n",
       "    <tr>\n",
       "      <th>317</th>\n",
       "      <td>Emma Raducanu</td>\n",
       "      <td>PERSON</td>\n",
       "      <td>4</td>\n",
       "    </tr>\n",
       "    <tr>\n",
       "      <th>808</th>\n",
       "      <td>Rishi Sunak</td>\n",
       "      <td>PERSON</td>\n",
       "      <td>4</td>\n",
       "    </tr>\n",
       "    <tr>\n",
       "      <th>511</th>\n",
       "      <td>Jurgen Klopp</td>\n",
       "      <td>PERSON</td>\n",
       "      <td>4</td>\n",
       "    </tr>\n",
       "    <tr>\n",
       "      <th>827</th>\n",
       "      <td>Rory McIlroy</td>\n",
       "      <td>PERSON</td>\n",
       "      <td>3</td>\n",
       "    </tr>\n",
       "    <tr>\n",
       "      <th>110</th>\n",
       "      <td>Andy Murray</td>\n",
       "      <td>PERSON</td>\n",
       "      <td>3</td>\n",
       "    </tr>\n",
       "  </tbody>\n",
       "</table>\n",
       "</div>"
      ],
      "text/plain": [
       "             token ner_tag  count tags\n",
       "780          Queen  PERSON          11\n",
       "245          Covid  PERSON           9\n",
       "776          Putin  PERSON           8\n",
       "163  Boris Johnson  PERSON           6\n",
       "564      Liz Truss  PERSON           6\n",
       "317  Emma Raducanu  PERSON           4\n",
       "808    Rishi Sunak  PERSON           4\n",
       "511   Jurgen Klopp  PERSON           4\n",
       "827   Rory McIlroy  PERSON           3\n",
       "110    Andy Murray  PERSON           3"
      ]
     },
     "execution_count": 110,
     "metadata": {},
     "output_type": "execute_result"
    }
   ],
   "source": [
    "# most common people\n",
    "people = ner_df_count[ner_df_count.ner_tag == \"PERSON\"][0:10]\n",
    "people"
   ]
  },
  {
   "cell_type": "markdown",
   "id": "40ca886b-8ff9-429f-9888-336bdc2ae09e",
   "metadata": {
    "jp-MarkdownHeadingCollapsed": true
   },
   "source": [
    "# 4-Sentiment Analysis\n",
    "Discovering the emotinal tone of the text(negative,positive, neutral). \n",
    "**Score Value between [-1;1]**  \n",
    "\n",
    "- TextBlob uses a \n",
    "dictionary-base \n",
    "approach to determine sentimet, providing a single score called polartyr\n",
    " - \n",
    "VADER is particularly useful for analyzing textfrom \r\n",
    "socia media\r\n",
    " due to its handling of informal language, emoticons, and other textual nuances."
   ]
  },
  {
   "cell_type": "markdown",
   "id": "41524380-d536-433d-8839-d7b2595f2419",
   "metadata": {},
   "source": [
    "**1-TextBlob**"
   ]
  },
  {
   "cell_type": "code",
   "execution_count": 113,
   "id": "8b299005-a726-4420-abca-464958217e4d",
   "metadata": {},
   "outputs": [
    {
     "name": "stdout",
     "output_type": "stream",
     "text": [
      "Requirement already satisfied: textblob in c:\\users\\msi\\anaconda3\\lib\\site-packages (0.19.0)\n",
      "Requirement already satisfied: nltk>=3.9 in c:\\users\\msi\\anaconda3\\lib\\site-packages (from textblob) (3.9.1)\n",
      "Requirement already satisfied: click in c:\\users\\msi\\anaconda3\\lib\\site-packages (from nltk>=3.9->textblob) (8.1.7)\n",
      "Requirement already satisfied: joblib in c:\\users\\msi\\anaconda3\\lib\\site-packages (from nltk>=3.9->textblob) (1.4.2)\n",
      "Requirement already satisfied: regex>=2021.8.3 in c:\\users\\msi\\anaconda3\\lib\\site-packages (from nltk>=3.9->textblob) (2023.10.3)\n",
      "Requirement already satisfied: tqdm in c:\\users\\msi\\anaconda3\\lib\\site-packages (from nltk>=3.9->textblob) (4.66.4)\n",
      "Requirement already satisfied: colorama in c:\\users\\msi\\anaconda3\\lib\\site-packages (from click->nltk>=3.9->textblob) (0.4.6)\n"
     ]
    }
   ],
   "source": [
    "!pip install textblob\n",
    "from textblob import TextBlob"
   ]
  },
  {
   "cell_type": "code",
   "execution_count": 114,
   "id": "761a4cc4-d431-4b15-b4a5-0493e6d38b4b",
   "metadata": {},
   "outputs": [],
   "source": [
    "sentence_1 = \"i had a great time at the movie it was really funny\"\n",
    "sentence_2 = \"i had a great time at the movie but the parking was terrible\"\n",
    "sentence_3 = \"i had a great time at the movie but the parking wasn't great\"\n",
    "sentence_4 = \"i went to see a movie\""
   ]
  },
  {
   "cell_type": "code",
   "execution_count": 115,
   "id": "0d593802-cf4c-49fb-bd89-719275e0988a",
   "metadata": {},
   "outputs": [
    {
     "name": "stdout",
     "output_type": "stream",
     "text": [
      "i had a great time at the movie it was really funny\n",
      "0.525\n"
     ]
    }
   ],
   "source": [
    "print(sentence_1)\n",
    "sentiment_score = TextBlob(sentence_1)\n",
    "print(sentiment_score.sentiment.polarity)"
   ]
  },
  {
   "cell_type": "code",
   "execution_count": 116,
   "id": "419b579f-79f6-4741-ae3f-9c54f53f6b30",
   "metadata": {},
   "outputs": [
    {
     "name": "stdout",
     "output_type": "stream",
     "text": [
      "i had a great time at the movie but the parking was terrible\n",
      "-0.09999999999999998\n",
      "i had a great time at the movie but the parking wasn't great\n",
      "0.8\n",
      "i went to see a movie\n",
      "0.0\n"
     ]
    }
   ],
   "source": [
    "print(sentence_2)\n",
    "sentiment_score_2 = TextBlob(sentence_2)\n",
    "print(sentiment_score_2.sentiment.polarity)\n",
    "print(sentence_3)\n",
    "sentiment_score_3 = TextBlob(sentence_3)\n",
    "print(sentiment_score_3.sentiment.polarity)\n",
    "print(sentence_4)\n",
    "sentiment_score_4 = TextBlob(sentence_4)\n",
    "print(sentiment_score_4.sentiment.polarity)"
   ]
  },
  {
   "cell_type": "markdown",
   "id": "186b24c8-bf0f-4c36-b624-5334677e364e",
   "metadata": {},
   "source": [
    "**2-VADER:**"
   ]
  },
  {
   "cell_type": "code",
   "execution_count": 118,
   "id": "fb266d3b-10d2-4b4f-9ec1-b3cf548d42b0",
   "metadata": {},
   "outputs": [
    {
     "name": "stdout",
     "output_type": "stream",
     "text": [
      "Requirement already satisfied: vaderSentiment in c:\\users\\msi\\anaconda3\\lib\\site-packages (3.3.2)\n",
      "Requirement already satisfied: requests in c:\\users\\msi\\anaconda3\\lib\\site-packages (from vaderSentiment) (2.32.2)\n",
      "Requirement already satisfied: charset-normalizer<4,>=2 in c:\\users\\msi\\anaconda3\\lib\\site-packages (from requests->vaderSentiment) (2.0.4)\n",
      "Requirement already satisfied: idna<4,>=2.5 in c:\\users\\msi\\anaconda3\\lib\\site-packages (from requests->vaderSentiment) (3.7)\n",
      "Requirement already satisfied: urllib3<3,>=1.21.1 in c:\\users\\msi\\anaconda3\\lib\\site-packages (from requests->vaderSentiment) (2.2.2)\n",
      "Requirement already satisfied: certifi>=2017.4.17 in c:\\users\\msi\\anaconda3\\lib\\site-packages (from requests->vaderSentiment) (2025.4.26)\n"
     ]
    }
   ],
   "source": [
    "# First, install the vaderSentiment package\n",
    "!pip install vaderSentiment\n",
    "from vaderSentiment.vaderSentiment import SentimentIntensityAnalyzer"
   ]
  },
  {
   "cell_type": "code",
   "execution_count": 119,
   "id": "1ea2bedc-da4a-4e14-ba54-e915b312a806",
   "metadata": {},
   "outputs": [
    {
     "name": "stdout",
     "output_type": "stream",
     "text": [
      "i had a great time at the movie it was really funny\n",
      "{'neg': 0.0, 'neu': 0.578, 'pos': 0.422, 'compound': 0.807}\n"
     ]
    }
   ],
   "source": [
    "vader_sentiment = SentimentIntensityAnalyzer()\n",
    "print(sentence_1)\n",
    "print(vader_sentiment.polarity_scores(sentence_1))"
   ]
  },
  {
   "cell_type": "code",
   "execution_count": 120,
   "id": "89d5fcad-e1b1-40f8-ab03-d0ed3a2bfade",
   "metadata": {},
   "outputs": [
    {
     "name": "stdout",
     "output_type": "stream",
     "text": [
      "i had a great time at the movie but the parking was terrible\n",
      "{'neg': 0.234, 'neu': 0.621, 'pos': 0.144, 'compound': -0.3818}\n",
      "i had a great time at the movie but the parking wasn't great\n",
      "{'neg': 0.247, 'neu': 0.611, 'pos': 0.142, 'compound': -0.4387}\n",
      "i went to see a movie\n",
      "{'neg': 0.0, 'neu': 1.0, 'pos': 0.0, 'compound': 0.0}\n"
     ]
    }
   ],
   "source": [
    "print(sentence_2)\n",
    "print(vader_sentiment.polarity_scores(sentence_2)) \n",
    "print(sentence_3)\n",
    "print(vader_sentiment.polarity_scores(sentence_3)) \n",
    "print(sentence_4)\n",
    "print(vader_sentiment.polarity_scores(sentence_4)) "
   ]
  },
  {
   "cell_type": "markdown",
   "id": "04367e33-6bdf-4f49-8ac0-49b2315a1852",
   "metadata": {},
   "source": [
    "**RQ: You better check with both packages and see wich one works better with your data**"
   ]
  },
  {
   "cell_type": "markdown",
   "id": "d5462059-a2d9-4f8b-b227-77d02c158e2c",
   "metadata": {},
   "source": [
    "**3-PRE-TRAINED TRANSFORMERS:**"
   ]
  },
  {
   "cell_type": "code",
   "execution_count": 123,
   "id": "51539fbf-ffc6-4b5a-87c5-cdb238d4bfe9",
   "metadata": {},
   "outputs": [
    {
     "name": "stdout",
     "output_type": "stream",
     "text": [
      "CUDA available: True\n",
      "GPU name: NVIDIA GeForce RTX 3050 Ti Laptop GPU\n"
     ]
    }
   ],
   "source": [
    "import torch\n",
    "print(\"CUDA available:\", torch.cuda.is_available())\n",
    "if torch.cuda.is_available():\n",
    "    print(\"GPU name:\", torch.cuda.get_device_name(0))\n",
    "else:\n",
    "    print(\"GPU not available\")"
   ]
  },
  {
   "cell_type": "code",
   "execution_count": 124,
   "id": "7eb211b9-3923-49d8-b9a0-6010e9dd4cf1",
   "metadata": {},
   "outputs": [
    {
     "name": "stderr",
     "output_type": "stream",
     "text": [
      "No model was supplied, defaulted to distilbert/distilbert-base-uncased-finetuned-sst-2-english and revision 714eb0f (https://huggingface.co/distilbert/distilbert-base-uncased-finetuned-sst-2-english).\n",
      "Using a pipeline without specifying a model name and revision in production is not recommended.\n",
      "Device set to use cuda:0\n"
     ]
    },
    {
     "name": "stdout",
     "output_type": "stream",
     "text": [
      "[{'label': 'POSITIVE', 'score': 0.9992625117301941}]\n"
     ]
    }
   ],
   "source": [
    "from transformers import pipeline\n",
    "sentiment_pipeline = pipeline(\"sentiment-analysis\")\n",
    "print(sentiment_pipeline(\"I love using Hugging Face models!\"))"
   ]
  },
  {
   "cell_type": "code",
   "execution_count": 125,
   "id": "6abff300-5cfb-4829-8104-27e7c00f887b",
   "metadata": {},
   "outputs": [
    {
     "name": "stdout",
     "output_type": "stream",
     "text": [
      "i had a great time at the movie it was really funny\n"
     ]
    },
    {
     "data": {
      "text/plain": [
       "[{'label': 'POSITIVE', 'score': 0.9998176693916321}]"
      ]
     },
     "execution_count": 125,
     "metadata": {},
     "output_type": "execute_result"
    }
   ],
   "source": [
    "print(sentence_1)\n",
    "sentiment_pipeline(sentence_1)"
   ]
  },
  {
   "cell_type": "code",
   "execution_count": 126,
   "id": "8ffffcfd-b1b7-42f9-88f0-5f3dece93eef",
   "metadata": {},
   "outputs": [
    {
     "data": {
      "text/plain": [
       "['POSITIVE']"
      ]
     },
     "execution_count": 126,
     "metadata": {},
     "output_type": "execute_result"
    }
   ],
   "source": [
    "test = sentiment_pipeline(sentence_1)\n",
    "[sub['label'] for sub in test]"
   ]
  },
  {
   "cell_type": "code",
   "execution_count": 127,
   "id": "d8f2ab36-4501-40b9-b680-ce13c5be9115",
   "metadata": {},
   "outputs": [
    {
     "name": "stdout",
     "output_type": "stream",
     "text": [
      "i had a great time at the movie but the parking wasn't great\n",
      "[{'label': 'NEGATIVE', 'score': 0.9984902143478394}]\n",
      "i went to see a movie\n",
      "[{'label': 'POSITIVE', 'score': 0.9802700281143188}]\n"
     ]
    }
   ],
   "source": [
    "print(sentence_3)\n",
    "print(sentiment_pipeline(sentence_3))\n",
    "print(sentence_4)\n",
    "print(sentiment_pipeline(sentence_4))"
   ]
  },
  {
   "cell_type": "markdown",
   "id": "33aa9318-d142-4c7e-934a-f60a2a540516",
   "metadata": {},
   "source": [
    "***Exercice:***"
   ]
  },
  {
   "cell_type": "code",
   "execution_count": 129,
   "id": "d08b0ef9-6267-4a09-83f2-bcfad0992e2e",
   "metadata": {},
   "outputs": [],
   "source": [
    "import pandas as pd\n",
    "import numpy as np\n",
    "import re\n",
    "from vaderSentiment.vaderSentiment import SentimentIntensityAnalyzer\n",
    "import transformers"
   ]
  },
  {
   "cell_type": "code",
   "execution_count": 130,
   "id": "b8813ac3-8316-404f-983b-dbed3ebebafa",
   "metadata": {},
   "outputs": [],
   "source": [
    "data=pd.read_csv(\"book_reviews_sample.csv\")"
   ]
  },
  {
   "cell_type": "code",
   "execution_count": 131,
   "id": "f08b42e1-9265-420a-b8db-9e8a2619208a",
   "metadata": {},
   "outputs": [
    {
     "data": {
      "text/html": [
       "<div>\n",
       "<style scoped>\n",
       "    .dataframe tbody tr th:only-of-type {\n",
       "        vertical-align: middle;\n",
       "    }\n",
       "\n",
       "    .dataframe tbody tr th {\n",
       "        vertical-align: top;\n",
       "    }\n",
       "\n",
       "    .dataframe thead th {\n",
       "        text-align: right;\n",
       "    }\n",
       "</style>\n",
       "<table border=\"1\" class=\"dataframe\">\n",
       "  <thead>\n",
       "    <tr style=\"text-align: right;\">\n",
       "      <th></th>\n",
       "      <th>index</th>\n",
       "      <th>reviewText</th>\n",
       "      <th>rating</th>\n",
       "    </tr>\n",
       "  </thead>\n",
       "  <tbody>\n",
       "    <tr>\n",
       "      <th>0</th>\n",
       "      <td>11494</td>\n",
       "      <td>Clean and funny. A bit busy with all the diffe...</td>\n",
       "      <td>3</td>\n",
       "    </tr>\n",
       "    <tr>\n",
       "      <th>1</th>\n",
       "      <td>984</td>\n",
       "      <td>Alex a sexy hot cop and the PhD candidate. Wha...</td>\n",
       "      <td>4</td>\n",
       "    </tr>\n",
       "    <tr>\n",
       "      <th>2</th>\n",
       "      <td>1463</td>\n",
       "      <td>Good thing that this is a free story. I read i...</td>\n",
       "      <td>1</td>\n",
       "    </tr>\n",
       "    <tr>\n",
       "      <th>3</th>\n",
       "      <td>10342</td>\n",
       "      <td>Action, action, action! Equipment keeps gettin...</td>\n",
       "      <td>4</td>\n",
       "    </tr>\n",
       "    <tr>\n",
       "      <th>4</th>\n",
       "      <td>5256</td>\n",
       "      <td>this was hands down the worse book i have ever...</td>\n",
       "      <td>1</td>\n",
       "    </tr>\n",
       "  </tbody>\n",
       "</table>\n",
       "</div>"
      ],
      "text/plain": [
       "   index                                         reviewText  rating\n",
       "0  11494  Clean and funny. A bit busy with all the diffe...       3\n",
       "1    984  Alex a sexy hot cop and the PhD candidate. Wha...       4\n",
       "2   1463  Good thing that this is a free story. I read i...       1\n",
       "3  10342  Action, action, action! Equipment keeps gettin...       4\n",
       "4   5256  this was hands down the worse book i have ever...       1"
      ]
     },
     "execution_count": 131,
     "metadata": {},
     "output_type": "execute_result"
    }
   ],
   "source": [
    "data.head()"
   ]
  },
  {
   "cell_type": "code",
   "execution_count": 132,
   "id": "c6930256-8460-4203-b304-99d955c678d1",
   "metadata": {},
   "outputs": [
    {
     "name": "stdout",
     "output_type": "stream",
     "text": [
      "<class 'pandas.core.frame.DataFrame'>\n",
      "RangeIndex: 100 entries, 0 to 99\n",
      "Data columns (total 3 columns):\n",
      " #   Column      Non-Null Count  Dtype \n",
      "---  ------      --------------  ----- \n",
      " 0   index       100 non-null    int64 \n",
      " 1   reviewText  100 non-null    object\n",
      " 2   rating      100 non-null    int64 \n",
      "dtypes: int64(2), object(1)\n",
      "memory usage: 2.5+ KB\n"
     ]
    }
   ],
   "source": [
    "data.info()"
   ]
  },
  {
   "cell_type": "code",
   "execution_count": 133,
   "id": "2ba41347-f8d1-45e3-b0e7-da20fbf72925",
   "metadata": {},
   "outputs": [
    {
     "data": {
      "text/plain": [
       "'Clean and funny. A bit busy with all the different plots going on. But overall a good read. Bye now.'"
      ]
     },
     "execution_count": 133,
     "metadata": {},
     "output_type": "execute_result"
    }
   ],
   "source": [
    "data['reviewText'][0]"
   ]
  },
  {
   "cell_type": "code",
   "execution_count": 134,
   "id": "6411bc80-021d-4c5b-b8de-3ea5365ac490",
   "metadata": {},
   "outputs": [
    {
     "data": {
      "text/html": [
       "<div>\n",
       "<style scoped>\n",
       "    .dataframe tbody tr th:only-of-type {\n",
       "        vertical-align: middle;\n",
       "    }\n",
       "\n",
       "    .dataframe tbody tr th {\n",
       "        vertical-align: top;\n",
       "    }\n",
       "\n",
       "    .dataframe thead th {\n",
       "        text-align: right;\n",
       "    }\n",
       "</style>\n",
       "<table border=\"1\" class=\"dataframe\">\n",
       "  <thead>\n",
       "    <tr style=\"text-align: right;\">\n",
       "      <th></th>\n",
       "      <th>index</th>\n",
       "      <th>reviewText</th>\n",
       "      <th>rating</th>\n",
       "      <th>reviewText_clean</th>\n",
       "    </tr>\n",
       "  </thead>\n",
       "  <tbody>\n",
       "    <tr>\n",
       "      <th>0</th>\n",
       "      <td>11494</td>\n",
       "      <td>Clean and funny. A bit busy with all the diffe...</td>\n",
       "      <td>3</td>\n",
       "      <td>clean and funny a bit busy with all the differ...</td>\n",
       "    </tr>\n",
       "    <tr>\n",
       "      <th>1</th>\n",
       "      <td>984</td>\n",
       "      <td>Alex a sexy hot cop and the PhD candidate. Wha...</td>\n",
       "      <td>4</td>\n",
       "      <td>alex a sexy hot cop and the phd candidate what...</td>\n",
       "    </tr>\n",
       "    <tr>\n",
       "      <th>2</th>\n",
       "      <td>1463</td>\n",
       "      <td>Good thing that this is a free story. I read i...</td>\n",
       "      <td>1</td>\n",
       "      <td>good thing that this is a free story i read it...</td>\n",
       "    </tr>\n",
       "    <tr>\n",
       "      <th>3</th>\n",
       "      <td>10342</td>\n",
       "      <td>Action, action, action! Equipment keeps gettin...</td>\n",
       "      <td>4</td>\n",
       "      <td>action action action equipment keeps getting b...</td>\n",
       "    </tr>\n",
       "    <tr>\n",
       "      <th>4</th>\n",
       "      <td>5256</td>\n",
       "      <td>this was hands down the worse book i have ever...</td>\n",
       "      <td>1</td>\n",
       "      <td>this was hands down the worse book i have ever...</td>\n",
       "    </tr>\n",
       "  </tbody>\n",
       "</table>\n",
       "</div>"
      ],
      "text/plain": [
       "   index                                         reviewText  rating  \\\n",
       "0  11494  Clean and funny. A bit busy with all the diffe...       3   \n",
       "1    984  Alex a sexy hot cop and the PhD candidate. Wha...       4   \n",
       "2   1463  Good thing that this is a free story. I read i...       1   \n",
       "3  10342  Action, action, action! Equipment keeps gettin...       4   \n",
       "4   5256  this was hands down the worse book i have ever...       1   \n",
       "\n",
       "                                    reviewText_clean  \n",
       "0  clean and funny a bit busy with all the differ...  \n",
       "1  alex a sexy hot cop and the phd candidate what...  \n",
       "2  good thing that this is a free story i read it...  \n",
       "3  action action action equipment keeps getting b...  \n",
       "4  this was hands down the worse book i have ever...  "
      ]
     },
     "execution_count": 134,
     "metadata": {},
     "output_type": "execute_result"
    }
   ],
   "source": [
    "data['reviewText_clean'] = data.apply(lambda x: re.sub(r\"([^\\w\\s])\",\"\",x['reviewText'].lower()), axis=1)\n",
    "data.head()"
   ]
  },
  {
   "cell_type": "code",
   "execution_count": 135,
   "id": "ba06635d-e977-41a0-bd8b-82d4183362be",
   "metadata": {},
   "outputs": [
    {
     "data": {
      "text/html": [
       "<div>\n",
       "<style scoped>\n",
       "    .dataframe tbody tr th:only-of-type {\n",
       "        vertical-align: middle;\n",
       "    }\n",
       "\n",
       "    .dataframe tbody tr th {\n",
       "        vertical-align: top;\n",
       "    }\n",
       "\n",
       "    .dataframe thead th {\n",
       "        text-align: right;\n",
       "    }\n",
       "</style>\n",
       "<table border=\"1\" class=\"dataframe\">\n",
       "  <thead>\n",
       "    <tr style=\"text-align: right;\">\n",
       "      <th></th>\n",
       "      <th>index</th>\n",
       "      <th>reviewText</th>\n",
       "      <th>rating</th>\n",
       "      <th>reviewText_clean</th>\n",
       "      <th>vader_sentiment_score</th>\n",
       "    </tr>\n",
       "  </thead>\n",
       "  <tbody>\n",
       "    <tr>\n",
       "      <th>0</th>\n",
       "      <td>11494</td>\n",
       "      <td>Clean and funny. A bit busy with all the diffe...</td>\n",
       "      <td>3</td>\n",
       "      <td>clean and funny a bit busy with all the differ...</td>\n",
       "      <td>0.7684</td>\n",
       "    </tr>\n",
       "    <tr>\n",
       "      <th>1</th>\n",
       "      <td>984</td>\n",
       "      <td>Alex a sexy hot cop and the PhD candidate. Wha...</td>\n",
       "      <td>4</td>\n",
       "      <td>alex a sexy hot cop and the phd candidate what...</td>\n",
       "      <td>0.9325</td>\n",
       "    </tr>\n",
       "    <tr>\n",
       "      <th>2</th>\n",
       "      <td>1463</td>\n",
       "      <td>Good thing that this is a free story. I read i...</td>\n",
       "      <td>1</td>\n",
       "      <td>good thing that this is a free story i read it...</td>\n",
       "      <td>0.6740</td>\n",
       "    </tr>\n",
       "    <tr>\n",
       "      <th>3</th>\n",
       "      <td>10342</td>\n",
       "      <td>Action, action, action! Equipment keeps gettin...</td>\n",
       "      <td>4</td>\n",
       "      <td>action action action equipment keeps getting b...</td>\n",
       "      <td>0.6652</td>\n",
       "    </tr>\n",
       "    <tr>\n",
       "      <th>4</th>\n",
       "      <td>5256</td>\n",
       "      <td>this was hands down the worse book i have ever...</td>\n",
       "      <td>1</td>\n",
       "      <td>this was hands down the worse book i have ever...</td>\n",
       "      <td>-0.4767</td>\n",
       "    </tr>\n",
       "  </tbody>\n",
       "</table>\n",
       "</div>"
      ],
      "text/plain": [
       "   index                                         reviewText  rating  \\\n",
       "0  11494  Clean and funny. A bit busy with all the diffe...       3   \n",
       "1    984  Alex a sexy hot cop and the PhD candidate. Wha...       4   \n",
       "2   1463  Good thing that this is a free story. I read i...       1   \n",
       "3  10342  Action, action, action! Equipment keeps gettin...       4   \n",
       "4   5256  this was hands down the worse book i have ever...       1   \n",
       "\n",
       "                                    reviewText_clean  vader_sentiment_score  \n",
       "0  clean and funny a bit busy with all the differ...                 0.7684  \n",
       "1  alex a sexy hot cop and the phd candidate what...                 0.9325  \n",
       "2  good thing that this is a free story i read it...                 0.6740  \n",
       "3  action action action equipment keeps getting b...                 0.6652  \n",
       "4  this was hands down the worse book i have ever...                -0.4767  "
      ]
     },
     "execution_count": 135,
     "metadata": {},
     "output_type": "execute_result"
    }
   ],
   "source": [
    "vader_sentiment = SentimentIntensityAnalyzer()\n",
    "data['vader_sentiment_score'] = data['reviewText_clean'].apply(lambda review: vader_sentiment.polarity_scores(review)['compound'])\n",
    "data.head()"
   ]
  },
  {
   "cell_type": "code",
   "execution_count": 136,
   "id": "09bc37cb-63e5-4571-b205-57f160694c69",
   "metadata": {},
   "outputs": [],
   "source": [
    "bins = [-1,-0.1,0.1,1]\n",
    "names = ['negative','neutral','positive']\n",
    "data['vader_sentiment_label'] = pd.cut(data['vader_sentiment_score'],bins,labels=names)\n",
    "#divides the values : from -1 to-0.1 negative / from -0.1 to 0.1 neutral / From 0.1 to 1 positive"
   ]
  },
  {
   "cell_type": "code",
   "execution_count": 137,
   "id": "867746cf-e5f7-463e-8210-dab2df236cd7",
   "metadata": {},
   "outputs": [
    {
     "data": {
      "text/plain": [
       "<Axes: xlabel='vader_sentiment_label'>"
      ]
     },
     "execution_count": 137,
     "metadata": {},
     "output_type": "execute_result"
    },
    {
     "data": {
      "image/png": "[encoded data removed]",
      "text/plain": [
       "<Figure size 640x480 with 1 Axes>"
      ]
     },
     "metadata": {},
     "output_type": "display_data"
    }
   ],
   "source": [
    "data['vader_sentiment_label'].value_counts().plot.bar()"
   ]
  },
  {
   "cell_type": "code",
   "execution_count": 138,
   "id": "c2eeb882-d428-4c65-b5b0-f75092bf929d",
   "metadata": {},
   "outputs": [
    {
     "name": "stderr",
     "output_type": "stream",
     "text": [
      "No model was supplied, defaulted to distilbert/distilbert-base-uncased-finetuned-sst-2-english and revision 714eb0f (https://huggingface.co/distilbert/distilbert-base-uncased-finetuned-sst-2-english).\n",
      "Using a pipeline without specifying a model name and revision in production is not recommended.\n",
      "Device set to use cuda:0\n"
     ]
    }
   ],
   "source": [
    "transformer_pipeline = pipeline(\"sentiment-analysis\")"
   ]
  },
  {
   "cell_type": "code",
   "execution_count": 139,
   "id": "67a01d5c-a115-4e80-8739-46001fd55950",
   "metadata": {},
   "outputs": [
    {
     "name": "stderr",
     "output_type": "stream",
     "text": [
      "You seem to be using the pipelines sequentially on GPU. In order to maximize efficiency please use a dataset\n"
     ]
    }
   ],
   "source": [
    "transformer_labels = []\n",
    "for review in data['reviewText_clean'].values:\n",
    "    sentiment_list = transformer_pipeline(review)\n",
    "    sentiment_label = [sent['label'] for sent in sentiment_list]\n",
    "    transformer_labels.append(sentiment_label)"
   ]
  },
  {
   "cell_type": "code",
   "execution_count": 140,
   "id": "13e5cd82-cd80-4d19-a629-d9a5a7ee748a",
   "metadata": {},
   "outputs": [
    {
     "data": {
      "text/html": [
       "<div>\n",
       "<style scoped>\n",
       "    .dataframe tbody tr th:only-of-type {\n",
       "        vertical-align: middle;\n",
       "    }\n",
       "\n",
       "    .dataframe tbody tr th {\n",
       "        vertical-align: top;\n",
       "    }\n",
       "\n",
       "    .dataframe thead th {\n",
       "        text-align: right;\n",
       "    }\n",
       "</style>\n",
       "<table border=\"1\" class=\"dataframe\">\n",
       "  <thead>\n",
       "    <tr style=\"text-align: right;\">\n",
       "      <th></th>\n",
       "      <th>index</th>\n",
       "      <th>reviewText</th>\n",
       "      <th>rating</th>\n",
       "      <th>reviewText_clean</th>\n",
       "      <th>vader_sentiment_score</th>\n",
       "      <th>vader_sentiment_label</th>\n",
       "      <th>transformer_sentiment_label</th>\n",
       "    </tr>\n",
       "  </thead>\n",
       "  <tbody>\n",
       "    <tr>\n",
       "      <th>0</th>\n",
       "      <td>11494</td>\n",
       "      <td>Clean and funny. A bit busy with all the diffe...</td>\n",
       "      <td>3</td>\n",
       "      <td>clean and funny a bit busy with all the differ...</td>\n",
       "      <td>0.7684</td>\n",
       "      <td>positive</td>\n",
       "      <td>[POSITIVE]</td>\n",
       "    </tr>\n",
       "    <tr>\n",
       "      <th>1</th>\n",
       "      <td>984</td>\n",
       "      <td>Alex a sexy hot cop and the PhD candidate. Wha...</td>\n",
       "      <td>4</td>\n",
       "      <td>alex a sexy hot cop and the phd candidate what...</td>\n",
       "      <td>0.9325</td>\n",
       "      <td>positive</td>\n",
       "      <td>[POSITIVE]</td>\n",
       "    </tr>\n",
       "    <tr>\n",
       "      <th>2</th>\n",
       "      <td>1463</td>\n",
       "      <td>Good thing that this is a free story. I read i...</td>\n",
       "      <td>1</td>\n",
       "      <td>good thing that this is a free story i read it...</td>\n",
       "      <td>0.6740</td>\n",
       "      <td>positive</td>\n",
       "      <td>[NEGATIVE]</td>\n",
       "    </tr>\n",
       "    <tr>\n",
       "      <th>3</th>\n",
       "      <td>10342</td>\n",
       "      <td>Action, action, action! Equipment keeps gettin...</td>\n",
       "      <td>4</td>\n",
       "      <td>action action action equipment keeps getting b...</td>\n",
       "      <td>0.6652</td>\n",
       "      <td>positive</td>\n",
       "      <td>[NEGATIVE]</td>\n",
       "    </tr>\n",
       "    <tr>\n",
       "      <th>4</th>\n",
       "      <td>5256</td>\n",
       "      <td>this was hands down the worse book i have ever...</td>\n",
       "      <td>1</td>\n",
       "      <td>this was hands down the worse book i have ever...</td>\n",
       "      <td>-0.4767</td>\n",
       "      <td>negative</td>\n",
       "      <td>[NEGATIVE]</td>\n",
       "    </tr>\n",
       "  </tbody>\n",
       "</table>\n",
       "</div>"
      ],
      "text/plain": [
       "   index                                         reviewText  rating  \\\n",
       "0  11494  Clean and funny. A bit busy with all the diffe...       3   \n",
       "1    984  Alex a sexy hot cop and the PhD candidate. Wha...       4   \n",
       "2   1463  Good thing that this is a free story. I read i...       1   \n",
       "3  10342  Action, action, action! Equipment keeps gettin...       4   \n",
       "4   5256  this was hands down the worse book i have ever...       1   \n",
       "\n",
       "                                    reviewText_clean  vader_sentiment_score  \\\n",
       "0  clean and funny a bit busy with all the differ...                 0.7684   \n",
       "1  alex a sexy hot cop and the phd candidate what...                 0.9325   \n",
       "2  good thing that this is a free story i read it...                 0.6740   \n",
       "3  action action action equipment keeps getting b...                 0.6652   \n",
       "4  this was hands down the worse book i have ever...                -0.4767   \n",
       "\n",
       "  vader_sentiment_label transformer_sentiment_label  \n",
       "0              positive                  [POSITIVE]  \n",
       "1              positive                  [POSITIVE]  \n",
       "2              positive                  [NEGATIVE]  \n",
       "3              positive                  [NEGATIVE]  \n",
       "4              negative                  [NEGATIVE]  "
      ]
     },
     "execution_count": 140,
     "metadata": {},
     "output_type": "execute_result"
    }
   ],
   "source": [
    "data['transformer_sentiment_label'] = transformer_labels\n",
    "data.head()"
   ]
  },
  {
   "cell_type": "code",
   "execution_count": 141,
   "id": "b3bdb44e-096e-4129-b556-30d41dfdb197",
   "metadata": {},
   "outputs": [
    {
     "data": {
      "text/plain": [
       "<Axes: xlabel='transformer_sentiment_label'>"
      ]
     },
     "execution_count": 141,
     "metadata": {},
     "output_type": "execute_result"
    },
    {
     "data": {
      "image/png": "[encoded data removed]",
      "text/plain": [
       "<Figure size 640x480 with 1 Axes>"
      ]
     },
     "metadata": {},
     "output_type": "display_data"
    }
   ],
   "source": [
    "data['transformer_sentiment_label'].value_counts().plot.bar()"
   ]
  },
  {
   "cell_type": "markdown",
   "id": "ba61554c-32e3-4c93-bf68-9e12a5db9e80",
   "metadata": {
    "jp-MarkdownHeadingCollapsed": true
   },
   "source": [
    "# 5-Vectorizing Text\n",
    "Getting the text in the right format for Machine Learning.   \n",
    "- BoW Model (Bag Of Words):  Counts wich of the words appear in wich of the documents    \n",
    "- TF-IDF(TermFrequency InverseDocumentFrequency) :  Calculate the Importance of that word for that particular document, taking into account how that word appears into other documents"
   ]
  },
  {
   "cell_type": "markdown",
   "id": "dfc22636-ba8e-4d44-9f0d-1ed08cbadaa4",
   "metadata": {},
   "source": [
    "**1-BoW**"
   ]
  },
  {
   "cell_type": "code",
   "execution_count": 144,
   "id": "a7c784d6-44fe-4a7c-9429-c52491b1f54c",
   "metadata": {},
   "outputs": [],
   "source": [
    "import pandas as pd\n",
    "from sklearn.feature_extraction.text import CountVectorizer"
   ]
  },
  {
   "cell_type": "code",
   "execution_count": 145,
   "id": "fa70cb42-567e-4bb1-9f3f-220ff08416f3",
   "metadata": {},
   "outputs": [],
   "source": [
    "data = [' Most shark attacks occur about 10 feet from the beach since that is where the people are',\n",
    "        'the efficiency with which he paired the socks in the drawer was quite admirable',\n",
    "        'carol drank the blood as if she were a vampire',\n",
    "        'giving directions that the mountains are to the west only works when you can see them',\n",
    "        'the sign said there was road work ahead so he decided to speed up',\n",
    "        'the gruff old man sat in the back of the bait shop grumbling to himself as he scooped out a handful of worms']"
   ]
  },
  {
   "cell_type": "code",
   "execution_count": 146,
   "id": "d36fe6ed-d0ca-4423-938c-c048df6628c0",
   "metadata": {},
   "outputs": [
    {
     "name": "stdout",
     "output_type": "stream",
     "text": [
      "   10  about  admirable  ahead  are  as  attacks  back  bait  beach  ...  \\\n",
      "0   1      1          0      0    1   0        1     0     0      1  ...   \n",
      "1   0      0          1      0    0   0        0     0     0      0  ...   \n",
      "2   0      0          0      0    0   1        0     0     0      0  ...   \n",
      "3   0      0          0      0    1   0        0     0     0      0  ...   \n",
      "4   0      0          0      1    0   0        0     0     0      0  ...   \n",
      "5   0      0          0      0    0   1        0     1     1      0  ...   \n",
      "\n",
      "   were  west  when  where  which  with  work  works  worms  you  \n",
      "0     0     0     0      1      0     0     0      0      0    0  \n",
      "1     0     0     0      0      1     1     0      0      0    0  \n",
      "2     1     0     0      0      0     0     0      0      0    0  \n",
      "3     0     1     1      0      0     0     0      1      0    1  \n",
      "4     0     0     0      0      0     0     1      0      0    0  \n",
      "5     0     0     0      0      0     0     0      0      1    0  \n",
      "\n",
      "[6 rows x 71 columns]\n"
     ]
    }
   ],
   "source": [
    "countvec = CountVectorizer()\n",
    "countvec_fit = countvec.fit_transform(data)\n",
    "bag_of_words = pd.DataFrame(countvec_fit.toarray(), columns = countvec.get_feature_names_out())\n",
    "print(bag_of_words)"
   ]
  },
  {
   "cell_type": "markdown",
   "id": "b5eb144c-7411-470d-966c-28b6e63cfbf3",
   "metadata": {},
   "source": [
    "**2-TF IDF**"
   ]
  },
  {
   "cell_type": "code",
   "execution_count": 148,
   "id": "8a57a0c8-f175-4ac9-978a-e8c578b2a3fc",
   "metadata": {},
   "outputs": [],
   "source": [
    "import pandas as pd\n",
    "from sklearn.feature_extraction.text import TfidfVectorizer"
   ]
  },
  {
   "cell_type": "code",
   "execution_count": 149,
   "id": "9e1366ef-cf90-4343-ac42-55a070ef2d00",
   "metadata": {},
   "outputs": [],
   "source": [
    "data = [' Most shark attacks occur about 10 feet from the beach since that is where the people are',\n",
    "        'the efficiency with which he paired the socks in the drawer was quite admirable',\n",
    "        'carol drank the blood as if she were a vampire',\n",
    "        'giving directions that the mountains are to the west only works when you can see them',\n",
    "        'the sign said there was road work ahead so he decided to speed up',\n",
    "        'the gruff old man sat in the back of the bait shop grumbling to himself as he scooped out a handful of worms']"
   ]
  },
  {
   "cell_type": "code",
   "execution_count": 150,
   "id": "5c72d99c-3d83-417e-b28d-1063eb08dafd",
   "metadata": {},
   "outputs": [
    {
     "name": "stdout",
     "output_type": "stream",
     "text": [
      "         10     about  admirable     ahead       are        as   attacks  \\\n",
      "0  0.257061  0.257061   0.000000  0.000000  0.210794  0.000000  0.257061   \n",
      "1  0.000000  0.000000   0.293641  0.000000  0.000000  0.000000  0.000000   \n",
      "2  0.000000  0.000000   0.000000  0.000000  0.000000  0.292313  0.000000   \n",
      "3  0.000000  0.000000   0.000000  0.000000  0.222257  0.000000  0.000000   \n",
      "4  0.000000  0.000000   0.000000  0.290766  0.000000  0.000000  0.000000   \n",
      "5  0.000000  0.000000   0.000000  0.000000  0.000000  0.178615  0.000000   \n",
      "\n",
      "      back     bait     beach  ...      were     west     when     where  \\\n",
      "0  0.00000  0.00000  0.257061  ...  0.000000  0.00000  0.00000  0.257061   \n",
      "1  0.00000  0.00000  0.000000  ...  0.000000  0.00000  0.00000  0.000000   \n",
      "2  0.00000  0.00000  0.000000  ...  0.356474  0.00000  0.00000  0.000000   \n",
      "3  0.00000  0.00000  0.000000  ...  0.000000  0.27104  0.27104  0.000000   \n",
      "4  0.00000  0.00000  0.000000  ...  0.000000  0.00000  0.00000  0.000000   \n",
      "5  0.21782  0.21782  0.000000  ...  0.000000  0.00000  0.00000  0.000000   \n",
      "\n",
      "      which      with      work    works    worms      you  \n",
      "0  0.000000  0.000000  0.000000  0.00000  0.00000  0.00000  \n",
      "1  0.293641  0.293641  0.000000  0.00000  0.00000  0.00000  \n",
      "2  0.000000  0.000000  0.000000  0.00000  0.00000  0.00000  \n",
      "3  0.000000  0.000000  0.000000  0.27104  0.00000  0.27104  \n",
      "4  0.000000  0.000000  0.290766  0.00000  0.00000  0.00000  \n",
      "5  0.000000  0.000000  0.000000  0.00000  0.21782  0.00000  \n",
      "\n",
      "[6 rows x 71 columns]\n"
     ]
    }
   ],
   "source": [
    "tfidfvec = TfidfVectorizer()\n",
    "tfidfvec_fit = tfidfvec.fit_transform(data)\n",
    "tfidf_bag = pd.DataFrame(tfidfvec_fit.toarray(), columns = tfidfvec.get_feature_names_out())\n",
    "print(tfidf_bag)"
   ]
  },
  {
   "cell_type": "markdown",
   "id": "a7bab20c-78ce-4987-ae2b-934bddfb75c7",
   "metadata": {
    "jp-MarkdownHeadingCollapsed": true
   },
   "source": [
    "# 6-Topic Modeling : Discovering hidden topics within a set of documents\n",
    "* takes individual pieces of text to identify the word patterns\n",
    "* an example of unsupervised ml (unlabled data).     \n",
    "* Examples : Categories in websites , Customer feedback/Reviews ,Social listening===> Saves too much time"
   ]
  },
  {
   "cell_type": "markdown",
   "id": "9ba69e99-f54f-44f2-9a3b-89426e9f76c8",
   "metadata": {},
   "source": [
    "**1-LDA : Latent Dirichlet Allocation**\n",
    "*  An Iterative process\n",
    "*  We specify the number of topics ,K"
   ]
  },
  {
   "cell_type": "markdown",
   "id": "ed89f8ae-2b79-48f1-816b-29419296d1d7",
   "metadata": {},
   "source": [
    "<img src=\"Capture.PNG\">"
   ]
  },
  {
   "cell_type": "code",
   "execution_count": 154,
   "id": "34b20ca2-9d46-4c59-822d-f22ac28f6db9",
   "metadata": {},
   "outputs": [],
   "source": [
    "import pandas as pd\n",
    "import re\n",
    "from nltk.corpus import stopwords\n",
    "from nltk.tokenize import word_tokenize\n",
    "from nltk.stem import PorterStemmer\n",
    "import gensim\n",
    "import gensim.corpora as corpora"
   ]
  },
  {
   "cell_type": "code",
   "execution_count": 155,
   "id": "76e3b6c3-0ae5-48b9-8ba5-153e70c237dc",
   "metadata": {},
   "outputs": [
    {
     "data": {
      "text/html": [
       "<div>\n",
       "<style scoped>\n",
       "    .dataframe tbody tr th:only-of-type {\n",
       "        vertical-align: middle;\n",
       "    }\n",
       "\n",
       "    .dataframe tbody tr th {\n",
       "        vertical-align: top;\n",
       "    }\n",
       "\n",
       "    .dataframe thead th {\n",
       "        text-align: right;\n",
       "    }\n",
       "</style>\n",
       "<table border=\"1\" class=\"dataframe\">\n",
       "  <thead>\n",
       "    <tr style=\"text-align: right;\">\n",
       "      <th></th>\n",
       "      <th>id</th>\n",
       "      <th>title</th>\n",
       "      <th>content</th>\n",
       "    </tr>\n",
       "  </thead>\n",
       "  <tbody>\n",
       "    <tr>\n",
       "      <th>0</th>\n",
       "      <td>25626</td>\n",
       "      <td>One Weight-Loss Approach Fits All? No, Not Eve...</td>\n",
       "      <td>Dr. Frank Sacks, a professor of nutrition at H...</td>\n",
       "    </tr>\n",
       "    <tr>\n",
       "      <th>1</th>\n",
       "      <td>19551</td>\n",
       "      <td>South Carolina Stuns Baylor to Reach the Round...</td>\n",
       "      <td>South Carolina’s win over   Duke was not only ...</td>\n",
       "    </tr>\n",
       "    <tr>\n",
       "      <th>2</th>\n",
       "      <td>25221</td>\n",
       "      <td>U.S. Presidential Race, Apple, Gene Wilder: Yo...</td>\n",
       "      <td>(Want to get this briefing by email? Here’s th...</td>\n",
       "    </tr>\n",
       "    <tr>\n",
       "      <th>3</th>\n",
       "      <td>18026</td>\n",
       "      <td>His Predecessor Gone, Gambia’s New President F...</td>\n",
       "      <td>BANJUL, Gambia  —   A week after he was inaugu...</td>\n",
       "    </tr>\n",
       "    <tr>\n",
       "      <th>4</th>\n",
       "      <td>21063</td>\n",
       "      <td>‘Harry Potter and the Cursed Child’ Goes From ...</td>\n",
       "      <td>The biggest book of the summer isn’t a blockbu...</td>\n",
       "    </tr>\n",
       "  </tbody>\n",
       "</table>\n",
       "</div>"
      ],
      "text/plain": [
       "      id                                              title  \\\n",
       "0  25626  One Weight-Loss Approach Fits All? No, Not Eve...   \n",
       "1  19551  South Carolina Stuns Baylor to Reach the Round...   \n",
       "2  25221  U.S. Presidential Race, Apple, Gene Wilder: Yo...   \n",
       "3  18026  His Predecessor Gone, Gambia’s New President F...   \n",
       "4  21063  ‘Harry Potter and the Cursed Child’ Goes From ...   \n",
       "\n",
       "                                             content  \n",
       "0  Dr. Frank Sacks, a professor of nutrition at H...  \n",
       "1  South Carolina’s win over   Duke was not only ...  \n",
       "2  (Want to get this briefing by email? Here’s th...  \n",
       "3  BANJUL, Gambia  —   A week after he was inaugu...  \n",
       "4  The biggest book of the summer isn’t a blockbu...  "
      ]
     },
     "execution_count": 155,
     "metadata": {},
     "output_type": "execute_result"
    }
   ],
   "source": [
    "data = pd.read_csv(\"news_articles.csv\") # data should be in the same folder as your notebook\n",
    "data.head()"
   ]
  },
  {
   "cell_type": "code",
   "execution_count": 156,
   "id": "4001bc09-9850-4648-a3f7-55d41051000b",
   "metadata": {},
   "outputs": [
    {
     "name": "stdout",
     "output_type": "stream",
     "text": [
      "<class 'pandas.core.frame.DataFrame'>\n",
      "RangeIndex: 100 entries, 0 to 99\n",
      "Data columns (total 3 columns):\n",
      " #   Column   Non-Null Count  Dtype \n",
      "---  ------   --------------  ----- \n",
      " 0   id       100 non-null    int64 \n",
      " 1   title    100 non-null    object\n",
      " 2   content  100 non-null    object\n",
      "dtypes: int64(1), object(2)\n",
      "memory usage: 2.5+ KB\n"
     ]
    }
   ],
   "source": [
    "data.info()"
   ]
  },
  {
   "cell_type": "code",
   "execution_count": 157,
   "id": "c98da779-f421-4bb0-831f-be236911709f",
   "metadata": {},
   "outputs": [],
   "source": [
    "#Data Cleaning\n",
    "# take just the content of the article, lowercase and remove punctuation\n",
    "articles = data['content'].str.lower().apply(lambda x: re.sub(r\"([^\\w\\s])\", \"\", x))\n",
    "\n",
    "# stop word removal\n",
    "en_stopwords = stopwords.words('english')\n",
    "articles = articles.apply(lambda x: ' '.join([word for word in x.split() if word not in (en_stopwords)]))\n",
    "\n",
    "# tokenize\n",
    "articles = articles.apply(lambda x: word_tokenize(x))\n",
    "\n",
    "# stemming (we chose stemming for speed as we have a lot of text)\n",
    "ps = PorterStemmer()\n",
    "articles = articles.apply(lambda tokens: [ps.stem(token) for token in tokens])"
   ]
  },
  {
   "cell_type": "code",
   "execution_count": 158,
   "id": "16a2d773-a928-458b-a5fd-01bf866b58c0",
   "metadata": {},
   "outputs": [
    {
     "data": {
      "text/plain": [
       "0     [dr, frank, sack, professor, nutrit, harvard, ...\n",
       "1     [south, carolina, win, duke, surpris, fan, pos...\n",
       "2     [want, get, brief, email, here, good, even, he...\n",
       "3     [banjul, gambia, week, inaugur, anoth, countri...\n",
       "4     [biggest, book, summer, isnt, blockbust, thril...\n",
       "                            ...                        \n",
       "95    [want, get, brief, email, here, good, even, he...\n",
       "96    [tallinn, estonia, guard, brought, ahm, abdul,...\n",
       "97    [gov, scott, walker, wisconsin, activ, wiscons...\n",
       "98    [social, media, shook, emot, headlin, shout, n...\n",
       "99    [moment, joanna, acevedo, first, set, foot, bo...\n",
       "Name: content, Length: 100, dtype: object"
      ]
     },
     "execution_count": 158,
     "metadata": {},
     "output_type": "execute_result"
    }
   ],
   "source": [
    "articles"
   ]
  },
  {
   "cell_type": "markdown",
   "id": "a0be255b-db54-41c3-b7a6-223cb1efe3e4",
   "metadata": {},
   "source": [
    "* Vectorization (using a new method)"
   ]
  },
  {
   "cell_type": "code",
   "execution_count": 160,
   "id": "5349c9e5-82b3-4e49-ab29-cd7cbb1382ed",
   "metadata": {},
   "outputs": [
    {
     "name": "stdout",
     "output_type": "stream",
     "text": [
      "Dictionary<8693 unique tokens: ['10', '100', '108', '15', '155']...>\n"
     ]
    }
   ],
   "source": [
    "dictionary = corpora.Dictionary(articles)\n",
    "print(dictionary)"
   ]
  },
  {
   "cell_type": "code",
   "execution_count": 161,
   "id": "29f2d1e8-760f-4fdd-887f-54f2dec756c3",
   "metadata": {},
   "outputs": [
    {
     "name": "stdout",
     "output_type": "stream",
     "text": [
      "[[(0, 1), (1, 1), (2, 1), (3, 2), (4, 1), (5, 1), (6, 1), (7, 1), (8, 1), (9, 1), (10, 1), (11, 1), (12, 1), (13, 1), (14, 2), (15, 1), (16, 1), (17, 2), (18, 1), (19, 1), (20, 3), (21, 3), (22, 1), (23, 3), (24, 2), (25, 4), (26, 1), (27, 1), (28, 1), (29, 1), (30, 1), (31, 1), (32, 1), (33, 1), (34, 1), (35, 1), (36, 1), (37, 2), (38, 1), (39, 1), (40, 1), (41, 1), (42, 1), (43, 1), (44, 1), (45, 1), (46, 1), (47, 2), (48, 2), (49, 1), (50, 2), (51, 2), (52, 1), (53, 1), (54, 2), (55, 1), (56, 2), (57, 6), (58, 1), (59, 1), (60, 1), (61, 4), (62, 2), (63, 1), (64, 1), (65, 2), (66, 1), (67, 1), (68, 1), (69, 1), (70, 5), (71, 4), (72, 1), (73, 1), (74, 1), (75, 2), (76, 2), (77, 1), (78, 2), (79, 2), (80, 1), (81, 1), (82, 1), (83, 4), (84, 2), (85, 1), (86, 1), (87, 3), (88, 1), (89, 3), (90, 1), (91, 2), (92, 3), (93, 6), (94, 1), (95, 1), (96, 1), (97, 1), (98, 1), (99, 1), (100, 1), (101, 1), (102, 1), (103, 2), (104, 5), (105, 1), (106, 2), (107, 1), (108, 1), (109, 3), (110, 4), (111, 1), (112, 2), (113, 2), (114, 2), (115, 3), (116, 1), (117, 1), (118, 1), (119, 1), (120, 1), (121, 1), (122, 1), (123, 2), (124, 2), (125, 1), (126, 3), (127, 2), (128, 1), (129, 1), (130, 1), (131, 4), (132, 6), (133, 2), (134, 1), (135, 4), (136, 1), (137, 2), (138, 1), (139, 1), (140, 1), (141, 1), (142, 1), (143, 1), (144, 1), (145, 1), (146, 1), (147, 6), (148, 1), (149, 1), (150, 1), (151, 1), (152, 2), (153, 1), (154, 2), (155, 2), (156, 1), (157, 1), (158, 1), (159, 1), (160, 1), (161, 2), (162, 1), (163, 2), (164, 1), (165, 3), (166, 5), (167, 1), (168, 1), (169, 1), (170, 1), (171, 1), (172, 2), (173, 1), (174, 2), (175, 4), (176, 1), (177, 1), (178, 1), (179, 1), (180, 1), (181, 7), (182, 1), (183, 1), (184, 2), (185, 1), (186, 1), (187, 1), (188, 5), (189, 29), (190, 2), (191, 2), (192, 1), (193, 4), (194, 2), (195, 1), (196, 4), (197, 3), (198, 1), (199, 1), (200, 1), (201, 36), (202, 1), (203, 1), (204, 3), (205, 18), (206, 1), (207, 1), (208, 9), (209, 9), (210, 4), (211, 1), (212, 1), (213, 7), (214, 3), (215, 1), (216, 3), (217, 2), (218, 1), (219, 1), (220, 1), (221, 1), (222, 1), (223, 1), (224, 2), (225, 2), (226, 2), (227, 6), (228, 1), (229, 1), (230, 1), (231, 1), (232, 4), (233, 4), (234, 1), (235, 1), (236, 2), (237, 3), (238, 1), (239, 2), (240, 1), (241, 2), (242, 1), (243, 2), (244, 9), (245, 3), (246, 1), (247, 1), (248, 2), (249, 3), (250, 2), (251, 2), (252, 6), (253, 1), (254, 1), (255, 1), (256, 2), (257, 2), (258, 7), (259, 1), (260, 5), (261, 2), (262, 1), (263, 1), (264, 1), (265, 10), (266, 1), (267, 1), (268, 4), (269, 4), (270, 2), (271, 5), (272, 1), (273, 1), (274, 1), (275, 1), (276, 1), (277, 4), (278, 6), (279, 1), (280, 1), (281, 1), (282, 1), (283, 1), (284, 1), (285, 1), (286, 1), (287, 1), (288, 1), (289, 1), (290, 1), (291, 1), (292, 1), (293, 1), (294, 1), (295, 2), (296, 1), (297, 1), (298, 1), (299, 1), (300, 1), (301, 1), (302, 1), (303, 6), (304, 4), (305, 2), (306, 4), (307, 3), (308, 1), (309, 1), (310, 1), (311, 1), (312, 1), (313, 1), (314, 1), (315, 1), (316, 1), (317, 1), (318, 1), (319, 1), (320, 1), (321, 4), (322, 3), (323, 2), (324, 2), (325, 3), (326, 1), (327, 1), (328, 1), (329, 1), (330, 1), (331, 1), (332, 1), (333, 1), (334, 1), (335, 1), (336, 1), (337, 1), (338, 1), (339, 9), (340, 10), (341, 7), (342, 4), (343, 1), (344, 2), (345, 1), (346, 4), (347, 1), (348, 2), (349, 2), (350, 1), (351, 4), (352, 1), (353, 1), (354, 2), (355, 1), (356, 1), (357, 2), (358, 3), (359, 1), (360, 1), (361, 2), (362, 3), (363, 6), (364, 1), (365, 1), (366, 1), (367, 1), (368, 2), (369, 1), (370, 1), (371, 10), (372, 2), (373, 7), (374, 9), (375, 1), (376, 3), (377, 3), (378, 2), (379, 2), (380, 1), (381, 4), (382, 1), (383, 4), (384, 4), (385, 4), (386, 1), (387, 5), (388, 1), (389, 3), (390, 3), (391, 2), (392, 1), (393, 2), (394, 1), (395, 2), (396, 5), (397, 11), (398, 1), (399, 1), (400, 1), (401, 2), (402, 1), (403, 1), (404, 1), (405, 1), (406, 1), (407, 1), (408, 1), (409, 1), (410, 1), (411, 1), (412, 1), (413, 1), (414, 1), (415, 17), (416, 2), (417, 6), (418, 1), (419, 1), (420, 1), (421, 3), (422, 3), (423, 1), (424, 1), (425, 1), (426, 2), (427, 1), (428, 1), (429, 1), (430, 1), (431, 1), (432, 1), (433, 1), (434, 1), (435, 3), (436, 22), (437, 1), (438, 1), (439, 2), (440, 13), (441, 1), (442, 1), (443, 1), (444, 2), (445, 5), (446, 1), (447, 1), (448, 2), (449, 1), (450, 2), (451, 1), (452, 1), (453, 4), (454, 1), (455, 15), (456, 1), (457, 3), (458, 5), (459, 2), (460, 2), (461, 1), (462, 1), (463, 2), (464, 1), (465, 2), (466, 1), (467, 1), (468, 24), (469, 2), (470, 1), (471, 1), (472, 1), (473, 1), (474, 1), (475, 1), (476, 1), (477, 2), (478, 2), (479, 2), (480, 1), (481, 8), (482, 1), (483, 1), (484, 1), (485, 5), (486, 1), (487, 5), (488, 1), (489, 1), (490, 1), (491, 2), (492, 2), (493, 2), (494, 1), (495, 1), (496, 1), (497, 1), (498, 1), (499, 1), (500, 2), (501, 1), (502, 1), (503, 2), (504, 1), (505, 1), (506, 1), (507, 2), (508, 1), (509, 1), (510, 1), (511, 2), (512, 2), (513, 2), (514, 1), (515, 4), (516, 1), (517, 1), (518, 1), (519, 1), (520, 1), (521, 1), (522, 1), (523, 2), (524, 1), (525, 1), (526, 1), (527, 2), (528, 1), (529, 2), (530, 1), (531, 1), (532, 1), (533, 4), (534, 2), (535, 32), (536, 1), (537, 1), (538, 1), (539, 10), (540, 4), (541, 3), (542, 1), (543, 1), (544, 1), (545, 3), (546, 3), (547, 2), (548, 1), (549, 1), (550, 1), (551, 1), (552, 2), (553, 1), (554, 1), (555, 1), (556, 3), (557, 1), (558, 1), (559, 1), (560, 1), (561, 1), (562, 1), (563, 1), (564, 1), (565, 2), (566, 1), (567, 1), (568, 2), (569, 1), (570, 1), (571, 1), (572, 1), (573, 2), (574, 2), (575, 4), (576, 2), (577, 1), (578, 7), (579, 1), (580, 1), (581, 1), (582, 1), (583, 1), (584, 1), (585, 5), (586, 3), (587, 1), (588, 4), (589, 1), (590, 4), (591, 1), (592, 1), (593, 2), (594, 3), (595, 1), (596, 1), (597, 1), (598, 1), (599, 2), (600, 1), (601, 1), (602, 1), (603, 1), (604, 1), (605, 3), (606, 1), (607, 1), (608, 1), (609, 4), (610, 1), (611, 1), (612, 1), (613, 1), (614, 7), (615, 1), (616, 1), (617, 1), (618, 1), (619, 1), (620, 1), (621, 1), (622, 1), (623, 1), (624, 1), (625, 1), (626, 1), (627, 1), (628, 3), (629, 3), (630, 4), (631, 1), (632, 1), (633, 5), (634, 1), (635, 1), (636, 1), (637, 1), (638, 1), (639, 3), (640, 9), (641, 1), (642, 1), (643, 1), (644, 3), (645, 1), (646, 6), (647, 2), (648, 1), (649, 1), (650, 1), (651, 1), (652, 3), (653, 1), (654, 3), (655, 1), (656, 1), (657, 1), (658, 1), (659, 1), (660, 2), (661, 1), (662, 3), (663, 1), (664, 3), (665, 1), (666, 1), (667, 6), (668, 52), (669, 1), (670, 5), (671, 1), (672, 1), (673, 1), (674, 1), (675, 1), (676, 2), (677, 1), (678, 5), (679, 1), (680, 12), (681, 14), (682, 1), (683, 1), (684, 1), (685, 8), (686, 1), (687, 1), (688, 1), (689, 1), (690, 1), (691, 1), (692, 1)], [(9, 2), (23, 1), (35, 1), (62, 2), (76, 2), (86, 1), (87, 1), (90, 1), (93, 1), (110, 2), (120, 1), (122, 2), (133, 1), (169, 1), (174, 1), (185, 1), (204, 1), (209, 1), (217, 1), (245, 1), (247, 1), (249, 1), (250, 1), (252, 3), (257, 1), (261, 1), (263, 2), (271, 2), (275, 1), (291, 2), (292, 4), (295, 1), (298, 1), (322, 1), (325, 1), (345, 1), (346, 1), (351, 3), (354, 1), (363, 1), (369, 2), (385, 1), (387, 1), (398, 1), (405, 5), (422, 1), (440, 3), (485, 1), (492, 1), (535, 7), (539, 1), (544, 1), (546, 2), (575, 1), (585, 1), (594, 1), (614, 1), (628, 1), (631, 2), (644, 1), (646, 1), (664, 1), (670, 1), (674, 1), (677, 2), (680, 1), (681, 3), (688, 1), (693, 1), (694, 2), (695, 1), (696, 1), (697, 1), (698, 1), (699, 1), (700, 1), (701, 1), (702, 1), (703, 1), (704, 1), (705, 1), (706, 1), (707, 1), (708, 1), (709, 1), (710, 10), (711, 5), (712, 1), (713, 1), (714, 1), (715, 1), (716, 1), (717, 1), (718, 1), (719, 1), (720, 1), (721, 7), (722, 1), (723, 1), (724, 5), (725, 2), (726, 1), (727, 1), (728, 1), (729, 1), (730, 6), (731, 1), (732, 1), (733, 1), (734, 1), (735, 1), (736, 1), (737, 1), (738, 1), (739, 3), (740, 1), (741, 1), (742, 2), (743, 1), (744, 1), (745, 1), (746, 3), (747, 1), (748, 1), (749, 1), (750, 1), (751, 1), (752, 1), (753, 1), (754, 5), (755, 1), (756, 2), (757, 1), (758, 1), (759, 2), (760, 1), (761, 1), (762, 1), (763, 1), (764, 1), (765, 1), (766, 1), (767, 2), (768, 1), (769, 1), (770, 1), (771, 1), (772, 1), (773, 1), (774, 1), (775, 1), (776, 1), (777, 1), (778, 1), (779, 1), (780, 1), (781, 1), (782, 1), (783, 1), (784, 2), (785, 1), (786, 1), (787, 1), (788, 1), (789, 2), (790, 5), (791, 2), (792, 1), (793, 1), (794, 1), (795, 1), (796, 1), (797, 3), (798, 1), (799, 1), (800, 2), (801, 1), (802, 1), (803, 1), (804, 1), (805, 1), (806, 1), (807, 1), (808, 1), (809, 1), (810, 1), (811, 1), (812, 1), (813, 1), (814, 2), (815, 4), (816, 1), (817, 1), (818, 1), (819, 1), (820, 1), (821, 1), (822, 1), (823, 1), (824, 1), (825, 1), (826, 1), (827, 1), (828, 1), (829, 1), (830, 2), (831, 1), (832, 3), (833, 4), (834, 2), (835, 1), (836, 2), (837, 1), (838, 1), (839, 1), (840, 1), (841, 1), (842, 1), (843, 1), (844, 7), (845, 1), (846, 1), (847, 2), (848, 1), (849, 1), (850, 1), (851, 1), (852, 1), (853, 1), (854, 1), (855, 1), (856, 7), (857, 2), (858, 3), (859, 1), (860, 1), (861, 1), (862, 1), (863, 1), (864, 1), (865, 1), (866, 1), (867, 1), (868, 1), (869, 1), (870, 1), (871, 1), (872, 2), (873, 1), (874, 1), (875, 1)], [(0, 1), (25, 2), (32, 1), (35, 1), (36, 1), (40, 1), (47, 1), (48, 1), (54, 1), (62, 1), (84, 1), (87, 3), (91, 1), (103, 1), (110, 1), (113, 1), (135, 1), (136, 1), (139, 1), (140, 1), (152, 1), (155, 1), (169, 1), (181, 1), (190, 1), (191, 1), (210, 2), (224, 2), (235, 1), (249, 2), (252, 1), (259, 1), (260, 2), (261, 1), (268, 1), (271, 1), (279, 2), (281, 1), (288, 5), (298, 1), (310, 1), (312, 1), (313, 1), (322, 1), (327, 1), (346, 1), (351, 1), (353, 1), (358, 1), (359, 1), (360, 1), (363, 1), (364, 2), (369, 2), (382, 1), (384, 1), (391, 3), (399, 1), (414, 1), (415, 6), (416, 1), (422, 1), (424, 1), (440, 5), (442, 1), (455, 1), (476, 1), (481, 1), (488, 1), (493, 1), (495, 1), (505, 2), (515, 1), (527, 2), (535, 4), (539, 2), (541, 1), (545, 2), (557, 1), (573, 1), (599, 1), (608, 1), (614, 1), (623, 1), (634, 1), (646, 2), (654, 1), (662, 4), (664, 1), (666, 1), (669, 1), (672, 1), (673, 2), (685, 2), (693, 1), (694, 1), (701, 1), (732, 1), (744, 2), (745, 2), (746, 1), (749, 3), (751, 1), (767, 1), (788, 2), (797, 1), (801, 1), (805, 1), (808, 1), (815, 1), (833, 1), (834, 2), (844, 1), (851, 1), (854, 1), (856, 1), (869, 1), (876, 1), (877, 1), (878, 1), (879, 1), (880, 1), (881, 1), (882, 4), (883, 1), (884, 11), (885, 1), (886, 2), (887, 1), (888, 1), (889, 1), (890, 1), (891, 1), (892, 1), (893, 1), (894, 1), (895, 2), (896, 1), (897, 1), (898, 1), (899, 1), (900, 1), (901, 2), (902, 1), (903, 1), (904, 1), (905, 1), (906, 1), (907, 1), (908, 1), (909, 1), (910, 5), (911, 1), (912, 1), (913, 1), (914, 1), (915, 1), (916, 1), (917, 3), (918, 1), (919, 1), (920, 1), (921, 1), (922, 1), (923, 1), (924, 1), (925, 2), (926, 1), (927, 2), (928, 1), (929, 1), (930, 1), (931, 1), (932, 3), (933, 1), (934, 1), (935, 1), (936, 1), (937, 2), (938, 1), (939, 1), (940, 1), (941, 1), (942, 1), (943, 2), (944, 1), (945, 2), (946, 1), (947, 1), (948, 2), (949, 2), (950, 1), (951, 1), (952, 2), (953, 1), (954, 1), (955, 1), (956, 1), (957, 1), (958, 1), (959, 1), (960, 1), (961, 1), (962, 1), (963, 1), (964, 1), (965, 1), (966, 1), (967, 1), (968, 1), (969, 1), (970, 1), (971, 1), (972, 1), (973, 1), (974, 1), (975, 2), (976, 1), (977, 1), (978, 1), (979, 1), (980, 3), (981, 1), (982, 1), (983, 1), (984, 1), (985, 1), (986, 1), (987, 1), (988, 1), (989, 1), (990, 1), (991, 1), (992, 1), (993, 1), (994, 1), (995, 1), (996, 2), (997, 1), (998, 1), (999, 1), (1000, 1), (1001, 1), (1002, 1), (1003, 1), (1004, 1), (1005, 1), (1006, 1), (1007, 1), (1008, 1), (1009, 1), (1010, 1), (1011, 1), (1012, 1), (1013, 1), (1014, 1), (1015, 1), (1016, 2), (1017, 1), (1018, 1), (1019, 1), (1020, 1), (1021, 1), (1022, 1), (1023, 1), (1024, 1), (1025, 1), (1026, 1), (1027, 1), (1028, 1), (1029, 1), (1030, 1), (1031, 1), (1032, 1), (1033, 1), (1034, 1), (1035, 1), (1036, 1), (1037, 1), (1038, 1), (1039, 2), (1040, 1), (1041, 1), (1042, 1), (1043, 4), (1044, 1), (1045, 1), (1046, 1), (1047, 1), (1048, 1), (1049, 1), (1050, 1), (1051, 1), (1052, 1), (1053, 1), (1054, 1), (1055, 3), (1056, 1), (1057, 1), (1058, 1), (1059, 1), (1060, 2), (1061, 1), (1062, 1), (1063, 1), (1064, 1), (1065, 2), (1066, 1), (1067, 1), (1068, 2), (1069, 2), (1070, 1), (1071, 1), (1072, 2), (1073, 1), (1074, 3), (1075, 1), (1076, 1), (1077, 1), (1078, 1), (1079, 1), (1080, 3), (1081, 1), (1082, 1), (1083, 1), (1084, 1), (1085, 3), (1086, 1), (1087, 1), (1088, 1), (1089, 3), (1090, 1), (1091, 1), (1092, 1), (1093, 1), (1094, 1), (1095, 3), (1096, 1), (1097, 1), (1098, 1), (1099, 1), (1100, 1), (1101, 1), (1102, 1), (1103, 1), (1104, 1), (1105, 3), (1106, 1), (1107, 1), (1108, 4), (1109, 1), (1110, 1), (1111, 1), (1112, 1), (1113, 1), (1114, 1), (1115, 1), (1116, 1), (1117, 1), (1118, 1), (1119, 1), (1120, 3), (1121, 1), (1122, 1), (1123, 1), (1124, 1), (1125, 1), (1126, 1)], [(13, 1), (20, 1), (32, 1), (37, 1), (39, 1), (48, 1), (53, 2), (61, 2), (71, 1), (72, 2), (85, 1), (97, 1), (125, 1), (136, 1), (139, 2), (155, 2), (162, 1), (167, 3), (169, 2), (179, 1), (181, 3), (203, 1), (206, 1), (217, 1), (224, 4), (249, 1), (252, 1), (259, 3), (277, 1), (307, 1), (313, 2), (341, 1), (347, 1), (363, 2), (369, 1), (373, 1), (384, 2), (387, 7), (391, 1), (396, 1), (399, 1), (415, 30), (416, 2), (417, 2), (422, 4), (434, 1), (442, 2), (445, 1), (446, 1), (450, 1), (453, 1), (455, 2), (458, 1), (462, 1), (469, 2), (476, 7), (481, 1), (498, 1), (505, 1), (506, 1), (522, 1), (523, 2), (527, 2), (535, 14), (552, 1), (586, 2), (590, 4), (594, 2), (601, 1), (603, 2), (614, 1), (622, 1), (624, 1), (631, 2), (632, 1), (633, 1), (634, 1), (636, 1), (646, 2), (654, 1), (661, 2), (662, 1), (666, 4), (673, 2), (681, 4), (685, 1), (698, 1), (720, 2), (732, 1), (741, 1), (765, 1), (780, 1), (782, 1), (783, 2), (787, 2), (801, 2), (803, 1), (805, 1), (809, 1), (851, 2), (853, 1), (856, 1), (860, 1), (869, 1), (914, 1), (927, 3), (934, 1), (935, 1), (936, 1), (937, 1), (956, 1), (983, 1), (990, 1), (1000, 3), (1039, 1), (1048, 2), (1068, 2), (1073, 4), (1082, 1), (1092, 4), (1099, 1), (1101, 1), (1114, 2), (1120, 1), (1127, 1), (1128, 1), (1129, 1), (1130, 1), (1131, 1), (1132, 1), (1133, 3), (1134, 1), (1135, 1), (1136, 2), (1137, 1), (1138, 4), (1139, 1), (1140, 1), (1141, 1), (1142, 1), (1143, 1), (1144, 1), (1145, 1), (1146, 1), (1147, 2), (1148, 16), (1149, 1), (1150, 1), (1151, 1), (1152, 1), (1153, 1), (1154, 1), (1155, 1), (1156, 1), (1157, 1), (1158, 2), (1159, 1), (1160, 1), (1161, 2), (1162, 1), (1163, 2), (1164, 1), (1165, 1), (1166, 1), (1167, 2), (1168, 1), (1169, 1), (1170, 1), (1171, 1), (1172, 1), (1173, 1), (1174, 1), (1175, 1), (1176, 1), (1177, 1), (1178, 1), (1179, 1), (1180, 1), (1181, 1), (1182, 1), (1183, 1), (1184, 1), (1185, 1), (1186, 2), (1187, 1), (1188, 1), (1189, 1), (1190, 1), (1191, 1), (1192, 1), (1193, 1), (1194, 3), (1195, 1), (1196, 1), (1197, 1), (1198, 1), (1199, 1), (1200, 1), (1201, 3), (1202, 1), (1203, 1), (1204, 3), (1205, 1), (1206, 1), (1207, 1), (1208, 1), (1209, 1), (1210, 2), (1211, 7), (1212, 1), (1213, 6), (1214, 1), (1215, 1), (1216, 1), (1217, 1), (1218, 1), (1219, 1), (1220, 1), (1221, 1), (1222, 1), (1223, 1), (1224, 1), (1225, 1), (1226, 1), (1227, 1), (1228, 1), (1229, 1), (1230, 2), (1231, 18), (1232, 1), (1233, 1), (1234, 1), (1235, 2), (1236, 2), (1237, 1), (1238, 1), (1239, 1), (1240, 1), (1241, 1), (1242, 1), (1243, 1), (1244, 1), (1245, 1), (1246, 1), (1247, 2), (1248, 1), (1249, 1), (1250, 1), (1251, 1), (1252, 1), (1253, 2), (1254, 1), (1255, 1), (1256, 1), (1257, 2), (1258, 1), (1259, 1), (1260, 1), (1261, 1), (1262, 1), (1263, 3), (1264, 1), (1265, 1), (1266, 1), (1267, 1), (1268, 1), (1269, 1), (1270, 1), (1271, 1), (1272, 1), (1273, 2), (1274, 1), (1275, 1), (1276, 1), (1277, 1), (1278, 1), (1279, 1), (1280, 1), (1281, 1), (1282, 1), (1283, 1), (1284, 1), (1285, 1), (1286, 4), (1287, 1), (1288, 1), (1289, 1), (1290, 3), (1291, 6), (1292, 1), (1293, 1), (1294, 1), (1295, 1), (1296, 1), (1297, 1), (1298, 1), (1299, 1), (1300, 1), (1301, 2), (1302, 1), (1303, 2), (1304, 1), (1305, 1), (1306, 1), (1307, 1), (1308, 1), (1309, 1), (1310, 3), (1311, 1), (1312, 1), (1313, 1), (1314, 4), (1315, 2), (1316, 1), (1317, 1), (1318, 1), (1319, 1), (1320, 1), (1321, 1), (1322, 1), (1323, 1), (1324, 2), (1325, 1), (1326, 1), (1327, 1), (1328, 1), (1329, 1), (1330, 1), (1331, 3), (1332, 1), (1333, 1), (1334, 1), (1335, 1), (1336, 1), (1337, 1), (1338, 2), (1339, 1), (1340, 1), (1341, 1), (1342, 1), (1343, 1), (1344, 2), (1345, 1), (1346, 1), (1347, 3), (1348, 1), (1349, 3), (1350, 1)], [(25, 2), (35, 1), (41, 1), (42, 1), (43, 2), (51, 1), (53, 2), (54, 1), (56, 1), (87, 1), (92, 1), (103, 1), (131, 1), (141, 1), (145, 1), (155, 2), (163, 1), (164, 2), (169, 2), (172, 1), (184, 1), (190, 1), (193, 2), (194, 2), (203, 1), (212, 2), (216, 1), (217, 2), (219, 1), (224, 1), (235, 1), (238, 1), (240, 1), (243, 1), (250, 1), (269, 2), (271, 2), (273, 1), (277, 3), (288, 1), (289, 1), (295, 1), (303, 1), (304, 2), (306, 1), (331, 1), (338, 4), (340, 1), (350, 1), (361, 1), (363, 1), (364, 2), (384, 1), (386, 1), (387, 3), (414, 1), (415, 1), (416, 11), (417, 1), (421, 2), (422, 8), (440, 1), (455, 2), (476, 1), (491, 7), (493, 1), (498, 1), (503, 1), (519, 1), (535, 9), (539, 2), (541, 2), (546, 1), (550, 1), (553, 1), (554, 1), (555, 1), (556, 1), (574, 1), (575, 1), (590, 2), (618, 1), (628, 1), (629, 1), (633, 2), (638, 1), (640, 1), (646, 1), (648, 1), (652, 2), (659, 1), (662, 2), (663, 1), (678, 1), (679, 1), (680, 2), (681, 2), (682, 1), (685, 5), (720, 1), (744, 1), (747, 10), (752, 1), (764, 1), (773, 4), (787, 1), (788, 1), (802, 1), (829, 2), (846, 1), (878, 1), (880, 1), (891, 1), (897, 1), (927, 1), (930, 2), (931, 1), (934, 1), (966, 1), (969, 1), (999, 2), (1019, 2), (1032, 1), (1034, 1), (1036, 1), (1041, 2), (1058, 4), (1067, 1), (1079, 1), (1081, 1), (1082, 1), (1086, 8), (1089, 1), (1090, 1), (1091, 1), (1102, 1), (1119, 1), (1131, 1), (1142, 1), (1166, 9), (1189, 1), (1263, 3), (1280, 3), (1283, 1), (1290, 1), (1299, 2), (1301, 1), (1306, 3), (1307, 1), (1309, 1), (1318, 2), (1323, 2), (1347, 1), (1351, 2), (1352, 1), (1353, 1), (1354, 1), (1355, 1), (1356, 2), (1357, 1), (1358, 1), (1359, 2), (1360, 1), (1361, 2), (1362, 2), (1363, 1), (1364, 1), (1365, 1), (1366, 3), (1367, 1), (1368, 1), (1369, 2), (1370, 1), (1371, 1), (1372, 1), (1373, 2), (1374, 1), (1375, 1), (1376, 1), (1377, 1), (1378, 1), (1379, 3), (1380, 1), (1381, 12), (1382, 1), (1383, 1), (1384, 1), (1385, 2), (1386, 1), (1387, 2), (1388, 1), (1389, 1), (1390, 2), (1391, 1), (1392, 1), (1393, 1), (1394, 1), (1395, 2), (1396, 2), (1397, 1), (1398, 9), (1399, 4), (1400, 1), (1401, 1), (1402, 4), (1403, 1), (1404, 1), (1405, 1), (1406, 2), (1407, 1), (1408, 1), (1409, 1), (1410, 1), (1411, 1), (1412, 1), (1413, 1), (1414, 1), (1415, 1), (1416, 1), (1417, 1), (1418, 1), (1419, 1), (1420, 1), (1421, 1), (1422, 2), (1423, 1), (1424, 1), (1425, 1), (1426, 1), (1427, 1), (1428, 3), (1429, 1), (1430, 1), (1431, 1), (1432, 2), (1433, 4), (1434, 1), (1435, 1), (1436, 1), (1437, 1), (1438, 1), (1439, 1), (1440, 1), (1441, 4), (1442, 18), (1443, 1), (1444, 1), (1445, 1), (1446, 1), (1447, 1), (1448, 2), (1449, 1), (1450, 1), (1451, 3), (1452, 1), (1453, 1), (1454, 1), (1455, 4), (1456, 1), (1457, 1), (1458, 1), (1459, 1), (1460, 3), (1461, 1), (1462, 1), (1463, 2), (1464, 1), (1465, 1), (1466, 1), (1467, 1), (1468, 3), (1469, 1), (1470, 1), (1471, 1), (1472, 1), (1473, 1), (1474, 1), (1475, 1), (1476, 1), (1477, 1), (1478, 1), (1479, 1), (1480, 4), (1481, 1), (1482, 2), (1483, 1), (1484, 1), (1485, 1), (1486, 1), (1487, 1), (1488, 1), (1489, 1), (1490, 2), (1491, 2), (1492, 1), (1493, 1), (1494, 2), (1495, 1), (1496, 1), (1497, 1), (1498, 2), (1499, 1), (1500, 1), (1501, 1), (1502, 1), (1503, 1), (1504, 1), (1505, 2), (1506, 11), (1507, 1), (1508, 2), (1509, 1), (1510, 1), (1511, 18), (1512, 2), (1513, 1), (1514, 2), (1515, 1), (1516, 1), (1517, 2), (1518, 1), (1519, 1), (1520, 1), (1521, 1), (1522, 2), (1523, 1), (1524, 6), (1525, 1), (1526, 1), (1527, 2), (1528, 1), (1529, 14), (1530, 1), (1531, 1), (1532, 1), (1533, 1), (1534, 5), (1535, 2), (1536, 4), (1537, 1), (1538, 5), (1539, 1), (1540, 1), (1541, 1), (1542, 1), (1543, 1), (1544, 1), (1545, 1), (1546, 1), (1547, 1), (1548, 1), (1549, 1), (1550, 1), (1551, 1), (1552, 1), (1553, 1), (1554, 1), (1555, 1), (1556, 1), (1557, 1), (1558, 1), (1559, 1), (1560, 2), (1561, 1), (1562, 2), (1563, 1), (1564, 1), (1565, 1), (1566, 1), (1567, 1), (1568, 2), (1569, 1), (1570, 1), (1571, 1), (1572, 1), (1573, 1), (1574, 1), (1575, 2), (1576, 5), (1577, 2), (1578, 4), (1579, 2), (1580, 2)], [(0, 2), (17, 1), (32, 1), (41, 2), (50, 1), (53, 2), (54, 2), (55, 1), (57, 1), (61, 1), (62, 2), (76, 5), (80, 1), (82, 1), (84, 1), (85, 1), (92, 1), (96, 2), (122, 2), (125, 1), (133, 1), (135, 2), (136, 2), (139, 1), (141, 1), (145, 3), (149, 1), (155, 1), (156, 1), (164, 1), (169, 8), (171, 1), (172, 1), (174, 1), (181, 1), (185, 1), (187, 1), (217, 1), (223, 1), (224, 3), (225, 1), (239, 2), (240, 1), (250, 2), (252, 2), (256, 1), (259, 1), (260, 2), (267, 2), (269, 3), (271, 2), (273, 1), (275, 1), (277, 1), (306, 2), (311, 1), (322, 1), (324, 1), (327, 1), (346, 1), (351, 6), (355, 1), (358, 1), (359, 1), (363, 4), (364, 2), (369, 2), (371, 2), (374, 1), (376, 1), (382, 1), (387, 1), (391, 1), (393, 1), (407, 1), (409, 2), (413, 1), (414, 2), (415, 77), (420, 4), (422, 1), (439, 4), (440, 2), (456, 1), (476, 2), (480, 2), (493, 1), (494, 1), (505, 1), (508, 1), (513, 2), (518, 1), (522, 1), (535, 9), (539, 2), (546, 2), (551, 1), (555, 1), (556, 2), (567, 1), (574, 2), (590, 2), (601, 1), (613, 2), (614, 1), (619, 1), (620, 1), (623, 1), (624, 4), (628, 1), (629, 1), (633, 2), (634, 2), (635, 1), (639, 1), (644, 1), (646, 1), (659, 1), (663, 2), (664, 2), (666, 5), (672, 3), (681, 8), (685, 1), (686, 1), (741, 1), (745, 1), (746, 2), (750, 3), (764, 2), (765, 1), (768, 1), (773, 1), (780, 1), (783, 1), (787, 1), (788, 1), (798, 1), (799, 1), (803, 1), (805, 1), (808, 1), (815, 2), (821, 1), (829, 6), (830, 1), (847, 1), (865, 2), (870, 2), (872, 4), (880, 1), (888, 3), (894, 2), (900, 4), (910, 1), (917, 3), (920, 1), (930, 2), (932, 2), (935, 1), (937, 3), (943, 1), (944, 2), (945, 2), (959, 1), (981, 1), (983, 1), (992, 3), (999, 1), (1015, 1), (1025, 1), (1026, 3), (1030, 1), (1039, 3), (1042, 2), (1043, 1), (1047, 1), (1048, 4), (1049, 7), (1060, 9), (1064, 1), (1074, 7), (1083, 1), (1084, 5), (1085, 1), (1089, 1), (1090, 2), (1091, 1), (1092, 1), (1105, 23), (1106, 2), (1113, 1), (1114, 3), (1115, 4), (1138, 1), (1158, 6), (1163, 2), (1167, 1), (1173, 1), (1189, 2), (1194, 5), (1197, 1), (1232, 1), (1237, 1), (1248, 1), (1263, 3), (1274, 1), (1277, 1), (1280, 1), (1288, 2), (1289, 1), (1290, 2), (1298, 1), (1306, 2), (1318, 1), (1323, 2), (1340, 3), (1343, 1), (1344, 3), (1356, 1), (1357, 1), (1361, 2), (1363, 4), (1374, 1), (1409, 1), (1415, 1), (1417, 1), (1435, 1), (1463, 1), (1468, 1), (1472, 1), (1475, 1), (1486, 4), (1505, 3), (1513, 2), (1538, 1), (1539, 1), (1551, 3), (1562, 1), (1568, 1), (1581, 1), (1582, 1), (1583, 1), (1584, 1), (1585, 1), (1586, 1), (1587, 1), (1588, 1), (1589, 1), (1590, 1), (1591, 1), (1592, 1), (1593, 1), (1594, 1), (1595, 1), (1596, 1), (1597, 1), (1598, 1), (1599, 1), (1600, 1), (1601, 1), (1602, 1), (1603, 1), (1604, 1), (1605, 1), (1606, 2), (1607, 1), (1608, 2), (1609, 7), (1610, 2), (1611, 2), (1612, 1), (1613, 1), (1614, 1), (1615, 1), (1616, 1), (1617, 1), (1618, 1), (1619, 1), (1620, 1), (1621, 1), (1622, 1), (1623, 1), (1624, 1), (1625, 1), (1626, 2), (1627, 1), (1628, 1), (1629, 2), (1630, 1), (1631, 1), (1632, 1), (1633, 1), (1634, 1), (1635, 2), (1636, 1), (1637, 1), (1638, 1), (1639, 1), (1640, 1), (1641, 1), (1642, 1), (1643, 31), (1644, 1), (1645, 1), (1646, 1), (1647, 1), (1648, 2), (1649, 1), (1650, 1), (1651, 6), (1652, 1), (1653, 1), (1654, 1), (1655, 1), (1656, 1), (1657, 1), (1658, 1), (1659, 1), (1660, 1), (1661, 1), (1662, 1), (1663, 1), (1664, 1), (1665, 1), (1666, 1), (1667, 1), (1668, 1), (1669, 1), (1670, 1), (1671, 1), (1672, 1), (1673, 1), (1674, 1), (1675, 1), (1676, 1), (1677, 2), (1678, 1), (1679, 1), (1680, 1), (1681, 23), (1682, 1), (1683, 1), (1684, 1), (1685, 1), (1686, 4), (1687, 1), (1688, 1), (1689, 1), (1690, 1), (1691, 1), (1692, 1), (1693, 1), (1694, 1), (1695, 1), (1696, 2), (1697, 1), (1698, 1), (1699, 1), (1700, 1), (1701, 1), (1702, 1), (1703, 1), (1704, 1), (1705, 1), (1706, 1), (1707, 1), (1708, 5), (1709, 1), (1710, 1), (1711, 1), (1712, 1), (1713, 1), (1714, 3), (1715, 1), (1716, 1), (1717, 2), (1718, 1), (1719, 1), (1720, 1), (1721, 5), (1722, 1), (1723, 1), (1724, 1), (1725, 1), (1726, 2), (1727, 3), (1728, 1), (1729, 2), (1730, 1), (1731, 3), (1732, 1), (1733, 1), (1734, 1), (1735, 1), (1736, 1), (1737, 1), (1738, 1), (1739, 1), (1740, 1), (1741, 1), (1742, 1), (1743, 2), (1744, 1), (1745, 1), (1746, 1), (1747, 2), (1748, 3), (1749, 1), (1750, 5), (1751, 1), (1752, 1), (1753, 1), (1754, 1), (1755, 1), (1756, 1), (1757, 1), (1758, 3), (1759, 1), (1760, 1), (1761, 1), (1762, 4), (1763, 2), (1764, 1), (1765, 1), (1766, 1), (1767, 1), (1768, 1), (1769, 1), (1770, 1), (1771, 1), (1772, 2), (1773, 3), (1774, 1), (1775, 2), (1776, 1), (1777, 1), (1778, 2), (1779, 1), (1780, 4), (1781, 1), (1782, 1), (1783, 1), (1784, 1), (1785, 1), (1786, 1), (1787, 2), (1788, 1), (1789, 1), (1790, 1), (1791, 1), (1792, 1), (1793, 1), (1794, 1), (1795, 1), (1796, 3), (1797, 1), (1798, 1), (1799, 1), (1800, 1), (1801, 1), (1802, 2), (1803, 2), (1804, 1), (1805, 2), (1806, 1), (1807, 1), (1808, 1), (1809, 1), (1810, 3), (1811, 1), (1812, 1), (1813, 1), (1814, 1), (1815, 1), (1816, 1), (1817, 1), (1818, 1), (1819, 1), (1820, 1), (1821, 2), (1822, 1), (1823, 1), (1824, 1), (1825, 1), (1826, 1), (1827, 2), (1828, 1), (1829, 1), (1830, 1), (1831, 1), (1832, 1), (1833, 1)], [(0, 1), (17, 1), (41, 1), (43, 2), (46, 1), (48, 1), (52, 1), (54, 4), (56, 1), (61, 2), (68, 1), (71, 1), (72, 1), (76, 1), (79, 1), (82, 1), (85, 2), (96, 1), (99, 1), (115, 1), (122, 1), (136, 1), (139, 1), (141, 2), (155, 1), (164, 1), (166, 1), (169, 1), (174, 1), (181, 1), (184, 1), (185, 1), (192, 1), (200, 1), (212, 1), (217, 1), (219, 1), (220, 2), (221, 1), (224, 1), (235, 1), (241, 3), (243, 1), (248, 3), (250, 1), (252, 1), (263, 1), (265, 1), (269, 1), (277, 2), (298, 2), (303, 1), (304, 1), (306, 1), (308, 5), (310, 3), (322, 2), (325, 1), (327, 2), (338, 1), (340, 2), (346, 1), (351, 1), (352, 2), (358, 1), (363, 5), (372, 1), (379, 1), (384, 1), (386, 1), (387, 1), (388, 1), (399, 8), (414, 3), (415, 39), (422, 7), (438, 1), (439, 1), (440, 2), (455, 1), (465, 1), (467, 1), (469, 1), (476, 5), (481, 1), (492, 1), (493, 1), (497, 2), (511, 1), (517, 1), (523, 1), (528, 1), (530, 1), (535, 5), (545, 1), (546, 2), (551, 1), (562, 1), (563, 1), (568, 1), (573, 1), (586, 2), (602, 1), (630, 1), (633, 1), (635, 1), (644, 1), (646, 3), (655, 1), (658, 1), (664, 1), (666, 2), (672, 1), (673, 4), (678, 1), (680, 1), (681, 1), (685, 6), (688, 3), (690, 1), (697, 1), (715, 1), (717, 1), (719, 1), (722, 1), (723, 1), (732, 1), (745, 1), (749, 2), (753, 1), (762, 1), (764, 1), (765, 3), (773, 1), (783, 1), (787, 1), (788, 1), (802, 1), (803, 2), (808, 1), (815, 1), (828, 1), (851, 1), (854, 1), (870, 1), (873, 1), (887, 1), (894, 1), (917, 1), (926, 1), (930, 1), (936, 1), (937, 1), (944, 4), (956, 1), (963, 1), (965, 1), (971, 1), (975, 2), (981, 1), (988, 1), (992, 1), (993, 1), (1017, 1), (1019, 1), (1025, 5), (1032, 1), (1033, 1), (1039, 1), (1043, 4), (1047, 1), (1048, 1), (1072, 1), (1073, 1), (1074, 1), (1082, 1), (1084, 1), (1091, 1), (1092, 4), (1105, 36), (1119, 1), (1120, 1), (1126, 1), (1138, 1), (1158, 1), (1169, 1), (1191, 1), (1195, 1), (1198, 1), (1200, 1), (1206, 1), (1214, 1), (1218, 1), (1225, 2), (1232, 2), (1239, 2), (1242, 1), (1245, 1), (1250, 1), (1255, 2), (1263, 3), (1267, 1), (1277, 2), (1280, 1), (1287, 1), (1288, 1), (1290, 3), (1294, 1), (1295, 1), (1299, 2), (1306, 1), (1309, 3), (1320, 1), (1330, 1), (1344, 1), (1361, 2), (1368, 1), (1369, 1), (1389, 1), (1397, 2), (1415, 3), (1429, 1), (1442, 1), (1448, 1), (1454, 1), (1466, 1), (1475, 2), (1482, 1), (1486, 1), (1492, 1), (1494, 1), (1495, 2), (1496, 1), (1499, 4), (1500, 1), (1505, 1), (1506, 3), (1513, 1), (1533, 1), (1546, 2), (1561, 1), (1568, 1), (1573, 1), (1577, 1), (1582, 1), (1584, 2), (1585, 1), (1606, 1), (1609, 1), (1618, 1), (1628, 1), (1637, 1), (1641, 3), (1646, 1), (1652, 1), (1693, 1), (1717, 1), (1718, 1), (1722, 2), (1724, 1), (1725, 1), (1737, 1), (1749, 1), (1763, 2), (1767, 1), (1791, 1), (1811, 1), (1813, 2), (1824, 1), (1834, 1), (1835, 1), (1836, 2), (1837, 1), (1838, 1), (1839, 1), (1840, 1), (1841, 1), (1842, 1), (1843, 1), (1844, 1), (1845, 2), (1846, 1), (1847, 1), (1848, 1), (1849, 1), (1850, 4), (1851, 1), (1852, 1), (1853, 1), (1854, 1), (1855, 2), (1856, 1), (1857, 1), (1858, 1), (1859, 1), (1860, 2), (1861, 1), (1862, 1), (1863, 1), (1864, 1), (1865, 1), (1866, 1), (1867, 1), (1868, 1), (1869, 2), (1870, 1), (1871, 1), (1872, 3), (1873, 1), (1874, 1), (1875, 1), (1876, 1), (1877, 1), (1878, 1), (1879, 1), (1880, 19), (1881, 2), (1882, 1), (1883, 1), (1884, 1), (1885, 1), (1886, 3), (1887, 1), (1888, 1), (1889, 1), (1890, 1), (1891, 2), (1892, 1), (1893, 1), (1894, 3), (1895, 2), (1896, 1), (1897, 1), (1898, 1), (1899, 1), (1900, 1), (1901, 2), (1902, 1), (1903, 1), (1904, 1), (1905, 1), (1906, 1), (1907, 1), (1908, 1), (1909, 1), (1910, 1), (1911, 1), (1912, 1), (1913, 2), (1914, 1), (1915, 1), (1916, 1), (1917, 1), (1918, 1), (1919, 1), (1920, 1), (1921, 1), (1922, 2), (1923, 1), (1924, 1), (1925, 1), (1926, 1), (1927, 2), (1928, 1), (1929, 1), (1930, 1), (1931, 1), (1932, 1), (1933, 1), (1934, 2), (1935, 1), (1936, 7), (1937, 1), (1938, 1), (1939, 1), (1940, 1), (1941, 1), (1942, 1), (1943, 1), (1944, 1), (1945, 1), (1946, 3), (1947, 1), (1948, 1), (1949, 1), (1950, 1), (1951, 1), (1952, 1), (1953, 1), (1954, 1), (1955, 1), (1956, 1), (1957, 1), (1958, 2), (1959, 1), (1960, 1), (1961, 1), (1962, 1), (1963, 1), (1964, 1), (1965, 1), (1966, 1), (1967, 1), (1968, 1), (1969, 1), (1970, 1), (1971, 1), (1972, 1), (1973, 1), (1974, 2), (1975, 1), (1976, 2), (1977, 1), (1978, 1), (1979, 1), (1980, 1), (1981, 1), (1982, 1), (1983, 1), (1984, 1), (1985, 1), (1986, 1), (1987, 1), (1988, 1), (1989, 1), (1990, 1), (1991, 1), (1992, 1), (1993, 1), (1994, 1), (1995, 2), (1996, 1), (1997, 1), (1998, 1), (1999, 5), (2000, 1), (2001, 1), (2002, 1), (2003, 1), (2004, 1), (2005, 1), (2006, 1), (2007, 1), (2008, 1), (2009, 1), (2010, 1), (2011, 1), (2012, 5), (2013, 1), (2014, 2), (2015, 1), (2016, 1), (2017, 1), (2018, 1), (2019, 1), (2020, 1), (2021, 1), (2022, 1), (2023, 1), (2024, 1), (2025, 1), (2026, 1), (2027, 1), (2028, 1), (2029, 1), (2030, 1), (2031, 1), (2032, 2), (2033, 1), (2034, 1), (2035, 1), (2036, 1), (2037, 1), (2038, 2), (2039, 1), (2040, 1), (2041, 1), (2042, 1), (2043, 1), (2044, 1), (2045, 1), (2046, 1), (2047, 1), (2048, 1), (2049, 1), (2050, 1), (2051, 1), (2052, 1), (2053, 1), (2054, 1), (2055, 1), (2056, 1), (2057, 3), (2058, 1), (2059, 1), (2060, 1), (2061, 1), (2062, 1), (2063, 1), (2064, 1), (2065, 1), (2066, 2), (2067, 1), (2068, 1), (2069, 1), (2070, 1), (2071, 1), (2072, 1), (2073, 1), (2074, 1), (2075, 1), (2076, 1), (2077, 3), (2078, 1), (2079, 1), (2080, 1), (2081, 1), (2082, 1), (2083, 1)], [(11, 1), (14, 2), (52, 1), (54, 1), (71, 1), (82, 1), (92, 1), (96, 1), (101, 1), (102, 1), (125, 1), (141, 1), (155, 1), (169, 1), (217, 1), (227, 1), (240, 2), (242, 1), (252, 1), (261, 1), (277, 1), (288, 2), (351, 2), (358, 1), (364, 1), (399, 2), (409, 1), (415, 3), (416, 7), (422, 3), (440, 4), (450, 1), (589, 1), (590, 1), (625, 1), (633, 1), (646, 1), (678, 1), (682, 1), (685, 5), (694, 1), (725, 1), (747, 3), (750, 2), (768, 1), (773, 1), (808, 1), (821, 1), (853, 1), (860, 1), (927, 1), (945, 1), (1019, 1), (1025, 1), (1030, 1), (1041, 2), (1102, 2), (1120, 2), (1126, 1), (1185, 1), (1223, 1), (1248, 1), (1306, 2), (1323, 1), (1328, 1), (1363, 1), (1369, 1), (1377, 1), (1391, 1), (1422, 2), (1423, 1), (1442, 2), (1457, 1), (1466, 2), (1517, 1), (1524, 5), (1533, 1), (1556, 1), (1579, 1), (1614, 1), (1658, 2), (1683, 1), (1718, 1), (1740, 1), (1751, 1), (1776, 1), (1791, 3), (1816, 1), (1899, 1), (2040, 2), (2084, 2), (2085, 1), (2086, 1), (2087, 4), (2088, 1), (2089, 1), (2090, 1), (2091, 1), (2092, 1), (2093, 1), (2094, 1), (2095, 1), (2096, 1), (2097, 1), (2098, 1), (2099, 1), (2100, 1), (2101, 1), (2102, 1), (2103, 1), (2104, 1), (2105, 1), (2106, 1), (2107, 1), (2108, 2), (2109, 1), (2110, 1), (2111, 1), (2112, 1), (2113, 1), (2114, 1), (2115, 1), (2116, 1), (2117, 1), (2118, 1), (2119, 1), (2120, 1), (2121, 3), (2122, 1), (2123, 1), (2124, 1), (2125, 3), (2126, 1), (2127, 1), (2128, 1), (2129, 1), (2130, 1), (2131, 1), (2132, 1), (2133, 1), (2134, 1), (2135, 1), (2136, 1), (2137, 1), (2138, 2), (2139, 1), (2140, 3), (2141, 1), (2142, 1), (2143, 1), (2144, 1), (2145, 1), (2146, 1), (2147, 1), (2148, 1), (2149, 1), (2150, 1), (2151, 8), (2152, 1), (2153, 1), (2154, 2)], [(41, 1), (51, 1), (76, 1), (90, 1), (92, 1), (101, 1), (122, 1), (151, 1), (161, 1), (166, 1), (173, 1), (181, 1), (190, 1), (210, 1), (217, 2), (224, 1), (225, 1), (240, 2), (243, 1), (259, 1), (261, 1), (271, 4), (273, 2), (295, 1), (303, 2), (310, 8), (311, 1), (334, 1), (340, 1), (359, 1), (363, 2), (386, 1), (393, 3), (399, 1), (415, 21), (417, 1), (439, 2), (440, 1), (458, 1), (475, 1), (476, 1), (478, 1), (488, 1), (492, 1), (504, 1), (535, 1), (539, 1), (551, 1), (560, 1), (562, 1), (605, 1), (614, 1), (619, 1), (633, 4), (652, 1), (659, 2), (663, 1), (664, 3), (666, 1), (669, 1), (673, 1), (674, 1), (685, 2), (749, 1), (750, 2), (752, 2), (759, 1), (773, 1), (787, 1), (803, 1), (809, 3), (849, 1), (850, 1), (872, 1), (912, 1), (927, 1), (931, 1), (938, 1), (944, 1), (955, 2), (956, 1), (965, 1), (999, 1), (1001, 1), (1010, 1), (1026, 2), (1060, 6), (1064, 1), (1066, 1), (1073, 1), (1074, 1), (1084, 1), (1087, 1), (1090, 2), (1105, 13), (1113, 2), (1114, 2), (1138, 1), (1140, 1), (1158, 1), (1174, 1), (1232, 1), (1263, 7), (1282, 1), (1290, 1), (1292, 1), (1301, 1), (1304, 1), (1320, 1), (1333, 1), (1367, 1), (1402, 1), (1412, 1), (1415, 1), (1448, 1), (1470, 1), (1486, 1), (1495, 1), (1496, 1), (1518, 1), (1519, 1), (1524, 1), (1544, 1), (1587, 2), (1598, 1), (1609, 2), (1630, 1), (1635, 1), (1637, 1), (1643, 1), (1652, 1), (1671, 3), (1720, 1), (1724, 1), (1726, 1), (1729, 2), (1747, 4), (1753, 1), (1755, 2), (1767, 2), (1785, 1), (1808, 1), (1829, 1), (1864, 1), (1865, 1), (1950, 1), (2078, 1), (2110, 1), (2155, 1), (2156, 1), (2157, 9), (2158, 1), (2159, 1), (2160, 1), (2161, 1), (2162, 1), (2163, 1), (2164, 1), (2165, 1), (2166, 1), (2167, 1), (2168, 1), (2169, 2), (2170, 1), (2171, 1), (2172, 1), (2173, 1), (2174, 1), (2175, 1), (2176, 1), (2177, 1), (2178, 1), (2179, 1), (2180, 1), (2181, 1), (2182, 1), (2183, 1), (2184, 1), (2185, 1), (2186, 1), (2187, 1), (2188, 1), (2189, 1), (2190, 1), (2191, 1), (2192, 1), (2193, 1), (2194, 1), (2195, 1), (2196, 1), (2197, 1), (2198, 1), (2199, 1), (2200, 12), (2201, 1), (2202, 4), (2203, 1), (2204, 1), (2205, 1), (2206, 1), (2207, 1), (2208, 1), (2209, 1), (2210, 1), (2211, 2), (2212, 2), (2213, 2)], [(14, 3), (20, 1), (22, 1), (23, 1), (25, 1), (52, 1), (54, 5), (61, 2), (68, 1), (69, 1), (84, 1), (87, 1), (92, 1), (93, 1), (97, 4), (103, 1), (132, 1), (134, 1), (135, 2), (139, 1), (145, 1), (149, 1), (152, 1), (154, 1), (155, 1), (166, 4), (169, 1), (181, 2), (184, 1), (193, 1), (199, 1), (203, 1), (206, 3), (209, 1), (224, 2), (236, 1), (237, 1), (248, 3), (252, 2), (259, 2), (260, 1), (288, 12), (289, 1), (295, 1), (298, 2), (303, 1), (304, 1), (310, 1), (322, 4), (326, 2), (347, 2), (352, 1), (353, 1), (363, 2), (387, 2), (393, 3), (399, 1), (409, 2), (415, 27), (417, 1), (420, 1), (421, 1), (422, 4), (429, 1), (440, 6), (449, 1), (450, 1), (458, 1), (465, 1), (469, 1), (476, 1), (477, 3), (491, 1), (492, 1), (514, 4), (515, 1), (535, 10), (539, 1), (551, 1), (574, 1), (578, 1), (579, 1), (590, 2), (596, 1), (599, 1), (601, 1), (614, 2), (633, 2), (639, 1), (640, 1), (646, 3), (654, 1), (663, 1), (664, 1), (666, 1), (680, 2), (681, 2), (685, 4), (688, 1), (720, 1), (729, 1), (741, 1), (745, 1), (746, 2), (768, 1), (782, 1), (783, 1), (788, 1), (834, 4), (855, 1), (885, 4), (888, 1), (889, 4), (891, 4), (894, 1), (897, 1), (900, 1), (930, 1), (935, 2), (939, 1), (975, 2), (988, 2), (990, 5), (994, 17), (995, 10), (1000, 8), (1003, 1), (1020, 2), (1024, 1), (1025, 1), (1029, 1), (1030, 1), (1034, 1), (1050, 1), (1053, 3), (1056, 1), (1068, 1), (1084, 15), (1087, 1), (1090, 1), (1094, 4), (1097, 1), (1102, 3), (1106, 2), (1120, 1), (1126, 1), (1127, 1), (1137, 3), (1150, 1), (1153, 2), (1158, 1), (1163, 2), (1167, 1), (1168, 1), (1184, 4), (1189, 1), (1192, 1), (1218, 2), (1237, 1), (1247, 4), (1265, 1), (1280, 1), (1286, 2), (1290, 3), (1295, 1), (1316, 1), (1328, 1), (1333, 6), (1335, 2), (1340, 1), (1344, 1), (1361, 2), (1363, 2), (1364, 2), (1367, 1), (1394, 1), (1434, 1), (1463, 1), (1482, 1), (1484, 1), (1486, 1), (1494, 1), (1495, 7), (1505, 2), (1506, 1), (1517, 2), (1539, 3), (1566, 3), (1584, 1), (1585, 1), (1606, 1), (1609, 3), (1616, 1), (1623, 2), (1631, 1), (1633, 1), (1658, 2), (1669, 1), (1680, 3), (1694, 1), (1698, 1), (1715, 1), (1720, 1), (1722, 2), (1758, 1), (1759, 1), (1763, 4), (1767, 1), (1772, 1), (1773, 1), (1779, 1), (1796, 3), (1814, 1), (1843, 1), (1874, 1), (1906, 1), (1934, 2), (1959, 1), (2096, 1), (2097, 3), (2155, 1), (2185, 1), (2202, 1), (2214, 1), (2215, 1), (2216, 11), (2217, 1), (2218, 2), (2219, 2), (2220, 4), (2221, 1), (2222, 3), (2223, 1), (2224, 1), (2225, 1), (2226, 3), (2227, 4), (2228, 1), (2229, 1), (2230, 1), (2231, 1), (2232, 6), (2233, 1), (2234, 1), (2235, 1), (2236, 2), (2237, 1), (2238, 3), (2239, 3), (2240, 1), (2241, 2), (2242, 1), (2243, 1), (2244, 1), (2245, 1), (2246, 1), (2247, 1), (2248, 1), (2249, 1), (2250, 1), (2251, 1), (2252, 1), (2253, 1), (2254, 1), (2255, 1), (2256, 1), (2257, 1), (2258, 2), (2259, 3), (2260, 1), (2261, 1), (2262, 2), (2263, 1), (2264, 1), (2265, 1), (2266, 2), (2267, 1), (2268, 3), (2269, 1), (2270, 1), (2271, 1), (2272, 1), (2273, 1), (2274, 1), (2275, 1), (2276, 1), (2277, 1), (2278, 1), (2279, 1), (2280, 1), (2281, 1), (2282, 1), (2283, 1), (2284, 1), (2285, 1), (2286, 1), (2287, 1), (2288, 1), (2289, 1), (2290, 2), (2291, 1), (2292, 1), (2293, 2), (2294, 4), (2295, 1), (2296, 1), (2297, 2), (2298, 1), (2299, 1), (2300, 1), (2301, 1), (2302, 1), (2303, 1), (2304, 1), (2305, 1), (2306, 1), (2307, 6), (2308, 1), (2309, 1), (2310, 1), (2311, 4), (2312, 1), (2313, 1), (2314, 1), (2315, 1), (2316, 1), (2317, 1), (2318, 1), (2319, 1), (2320, 3), (2321, 3), (2322, 1), (2323, 1), (2324, 1), (2325, 3), (2326, 1), (2327, 2), (2328, 3), (2329, 1), (2330, 1), (2331, 1), (2332, 1), (2333, 1), (2334, 1), (2335, 2), (2336, 3), (2337, 1), (2338, 1), (2339, 2), (2340, 1), (2341, 1), (2342, 1), (2343, 1), (2344, 1), (2345, 1), (2346, 1), (2347, 1), (2348, 3), (2349, 2), (2350, 1), (2351, 1), (2352, 1), (2353, 1), (2354, 1), (2355, 1), (2356, 1), (2357, 2), (2358, 2), (2359, 1), (2360, 1), (2361, 1), (2362, 1), (2363, 2), (2364, 1), (2365, 1), (2366, 8), (2367, 1), (2368, 1), (2369, 4), (2370, 2), (2371, 1), (2372, 1), (2373, 1), (2374, 2), (2375, 1), (2376, 1), (2377, 1), (2378, 3), (2379, 1), (2380, 1), (2381, 1), (2382, 1), (2383, 1), (2384, 1), (2385, 1), (2386, 1), (2387, 1), (2388, 1)], [(0, 2), (25, 1), (32, 1), (35, 1), (37, 2), (41, 1), (53, 1), (54, 2), (61, 2), (85, 1), (87, 1), (92, 1), (102, 1), (122, 1), (126, 1), (162, 1), (164, 1), (166, 1), (181, 3), (200, 1), (203, 1), (204, 1), (224, 2), (227, 1), (239, 1), (243, 1), (249, 1), (252, 1), (260, 1), (271, 1), (277, 2), (279, 1), (289, 1), (303, 2), (322, 1), (326, 1), (346, 1), (351, 4), (353, 5), (355, 2), (359, 1), (363, 1), (364, 1), (369, 1), (383, 1), (384, 1), (387, 1), (391, 1), (400, 1), (409, 2), (414, 3), (415, 6), (422, 1), (440, 3), (450, 2), (455, 7), (463, 1), (465, 1), (469, 1), (476, 2), (492, 1), (493, 1), (506, 1), (535, 3), (539, 1), (541, 1), (545, 1), (546, 1), (556, 1), (562, 2), (568, 1), (576, 1), (599, 2), (601, 2), (622, 1), (630, 1), (633, 2), (635, 1), (640, 2), (646, 1), (647, 1), (654, 1), (662, 3), (666, 2), (670, 1), (681, 2), (690, 1), (693, 1), (694, 1), (701, 1), (702, 1), (704, 1), (707, 2), (721, 1), (723, 1), (747, 2), (750, 1), (753, 2), (770, 2), (773, 1), (781, 1), (782, 1), (788, 2), (797, 2), (800, 2), (801, 1), (808, 2), (809, 1), (833, 1), (847, 1), (851, 1), (856, 1), (860, 2), (869, 2), (876, 1), (878, 1), (879, 1), (880, 1), (882, 4), (884, 10), (886, 1), (894, 1), (900, 2), (901, 1), (910, 6), (911, 1), (917, 1), (918, 1), (927, 3), (930, 1), (938, 1), (944, 1), (945, 1), (948, 2), (952, 1), (959, 2), (966, 1), (971, 1), (972, 1), (975, 1), (980, 3), (981, 1), (992, 1), (1000, 2), (1001, 1), (1017, 1), (1024, 2), (1025, 4), (1026, 2), (1033, 1), (1038, 1), (1042, 1), (1043, 3), (1060, 2), (1061, 2), (1079, 1), (1084, 4), (1088, 1), (1090, 1), (1091, 1), (1092, 1), (1099, 1), (1100, 1), (1101, 2), (1105, 6), (1108, 2), (1118, 1), (1119, 2), (1125, 1), (1126, 1), (1143, 2), (1175, 1), (1199, 1), (1203, 1), (1209, 1), (1240, 1), (1251, 1), (1263, 1), (1270, 1), (1274, 1), (1280, 2), (1287, 1), (1288, 1), (1290, 1), (1304, 1), (1320, 1), (1322, 1), (1324, 1), (1333, 1), (1336, 1), (1338, 1), (1340, 2), (1343, 1), (1344, 2), (1363, 2), (1389, 1), (1404, 1), (1461, 3), (1463, 1), (1468, 1), (1474, 1), (1484, 1), (1486, 2), (1489, 1), (1495, 2), (1504, 1), (1509, 1), (1521, 1), (1522, 1), (1524, 1), (1539, 3), (1573, 1), (1584, 1), (1590, 1), (1591, 1), (1620, 1), (1629, 1), (1633, 2), (1635, 3), (1637, 1), (1641, 2), (1643, 1), (1650, 1), (1671, 1), (1683, 1), (1688, 1), (1693, 1), (1694, 1), (1700, 1), (1717, 1), (1725, 1), (1737, 3), (1748, 1), (1751, 1), (1808, 1), (1821, 1), (1863, 1), (1879, 1), (1892, 2), (1895, 1), (1898, 1), (1952, 1), (1970, 1), (1975, 1), (1991, 2), (2036, 1), (2059, 1), (2082, 1), (2090, 1), (2113, 1), (2125, 1), (2148, 1), (2168, 1), (2185, 1), (2209, 1), (2212, 1), (2218, 1), (2223, 1), (2277, 1), (2300, 1), (2327, 1), (2328, 1), (2348, 1), (2349, 1), (2368, 1), (2370, 1), (2372, 1), (2378, 1), (2383, 1), (2389, 1), (2390, 1), (2391, 1), (2392, 1), (2393, 1), (2394, 1), (2395, 1), (2396, 1), (2397, 1), (2398, 1), (2399, 1), (2400, 1), (2401, 2), (2402, 1), (2403, 1), (2404, 1), (2405, 1), (2406, 1), (2407, 1), (2408, 1), (2409, 1), (2410, 1), (2411, 1), (2412, 1), (2413, 1), (2414, 1), (2415, 1), (2416, 1), (2417, 1), (2418, 2), (2419, 1), (2420, 1), (2421, 1), (2422, 1), (2423, 1), (2424, 1), (2425, 1), (2426, 1), (2427, 1), (2428, 1), (2429, 2), (2430, 1), (2431, 1), (2432, 1), (2433, 1), (2434, 1), (2435, 1), (2436, 2), (2437, 2), (2438, 1), (2439, 2), (2440, 1), (2441, 1), (2442, 1), (2443, 1), (2444, 1), (2445, 1), (2446, 1), (2447, 1), (2448, 1), (2449, 3), (2450, 1), (2451, 1), (2452, 1), (2453, 1), (2454, 1), (2455, 1), (2456, 1), (2457, 1), (2458, 1), (2459, 1), (2460, 1), (2461, 1), (2462, 1), (2463, 1), (2464, 1), (2465, 1), (2466, 1), (2467, 2), (2468, 1), (2469, 1), (2470, 1), (2471, 1), (2472, 1), (2473, 1), (2474, 1), (2475, 1), (2476, 1), (2477, 1), (2478, 1), (2479, 1), (2480, 1), (2481, 1), (2482, 1), (2483, 1), (2484, 1), (2485, 1), (2486, 1), (2487, 1), (2488, 1), (2489, 1), (2490, 1), (2491, 1), (2492, 1), (2493, 1), (2494, 1), (2495, 1), (2496, 1), (2497, 2), (2498, 1), (2499, 1), (2500, 1), (2501, 1), (2502, 1), (2503, 1), (2504, 1), (2505, 1), (2506, 1), (2507, 1), (2508, 1), (2509, 1), (2510, 1), (2511, 1), (2512, 1), (2513, 1), (2514, 1), (2515, 1), (2516, 1), (2517, 1), (2518, 4), (2519, 1), (2520, 1), (2521, 1), (2522, 1), (2523, 1), (2524, 1), (2525, 1), (2526, 1), (2527, 1), (2528, 1), (2529, 1), (2530, 1), (2531, 1), (2532, 1), (2533, 1), (2534, 1), (2535, 3), (2536, 1)], [(0, 1), (50, 1), (53, 2), (54, 1), (64, 1), (76, 1), (83, 1), (85, 1), (92, 1), (97, 1), (120, 1), (122, 4), (135, 1), (136, 2), (141, 1), (149, 1), (163, 1), (166, 2), (169, 2), (172, 1), (209, 1), (224, 2), (238, 1), (240, 1), (243, 2), (257, 1), (260, 1), (263, 1), (277, 1), (287, 1), (290, 1), (297, 1), (305, 1), (306, 1), (310, 1), (311, 1), (325, 1), (333, 1), (349, 1), (352, 1), (353, 1), (363, 2), (367, 1), (371, 1), (384, 1), (387, 1), (389, 1), (390, 1), (393, 1), (409, 1), (414, 1), (415, 11), (422, 1), (426, 1), (440, 3), (455, 1), (458, 3), (467, 11), (469, 1), (476, 1), (480, 1), (484, 2), (495, 3), (503, 1), (522, 1), (535, 6), (541, 1), (545, 1), (546, 2), (568, 1), (590, 2), (605, 1), (613, 5), (629, 4), (633, 2), (636, 1), (646, 1), (652, 2), (673, 1), (674, 1), (678, 1), (681, 8), (685, 1), (688, 1), (711, 1), (722, 1), (734, 1), (746, 1), (749, 2), (750, 2), (773, 1), (775, 1), (783, 1), (789, 2), (799, 1), (801, 4), (815, 1), (829, 1), (833, 1), (839, 1), (841, 1), (845, 2), (849, 2), (870, 2), (872, 5), (891, 1), (897, 1), (908, 1), (909, 1), (917, 4), (922, 1), (927, 1), (930, 3), (936, 5), (944, 1), (945, 1), (951, 1), (955, 3), (959, 1), (969, 1), (975, 1), (981, 1), (990, 1), (1004, 1), (1013, 1), (1030, 1), (1039, 1), (1042, 2), (1043, 1), (1048, 4), (1060, 3), (1061, 2), (1068, 1), (1074, 2), (1081, 1), (1084, 11), (1092, 1), (1100, 1), (1105, 3), (1106, 1), (1114, 16), (1115, 2), (1126, 1), (1142, 1), (1158, 2), (1159, 1), (1172, 2), (1173, 1), (1186, 2), (1190, 1), (1194, 10), (1200, 1), (1242, 1), (1263, 2), (1287, 1), (1288, 1), (1291, 1), (1322, 1), (1323, 1), (1330, 1), (1337, 1), (1340, 2), (1361, 1), (1367, 2), (1371, 1), (1374, 1), (1381, 1), (1404, 1), (1433, 1), (1446, 2), (1454, 1), (1475, 2), (1483, 1), (1492, 1), (1494, 2), (1496, 1), (1506, 1), (1523, 1), (1568, 1), (1587, 1), (1609, 7), (1621, 1), (1634, 1), (1635, 1), (1650, 1), (1651, 2), (1660, 1), (1693, 1), (1717, 3), (1720, 1), (1721, 1), (1744, 1), (1748, 2), (1769, 2), (1773, 1), (1810, 1), (1813, 2), (1823, 2), (1864, 3), (1894, 1), (1910, 1), (1924, 2), (1937, 1), (1943, 1), (1959, 1), (1991, 1), (2011, 1), (2065, 1), (2077, 1), (2105, 1), (2109, 1), (2140, 1), (2177, 1), (2220, 1), (2265, 2), (2281, 1), (2294, 3), (2320, 1), (2328, 1), (2352, 1), (2372, 1), (2391, 1), (2423, 1), (2433, 1), (2466, 1), (2471, 1), (2517, 1), (2537, 1), (2538, 3), (2539, 1), (2540, 2), (2541, 2), (2542, 2), (2543, 1), (2544, 2), (2545, 2), (2546, 1), (2547, 1), (2548, 1), (2549, 1), (2550, 1), (2551, 1), (2552, 1), (2553, 1), (2554, 1), (2555, 10), (2556, 1), (2557, 1), (2558, 1), (2559, 2), (2560, 1), (2561, 1), (2562, 3), (2563, 1), (2564, 1), (2565, 1), (2566, 1), (2567, 3), (2568, 1), (2569, 1), (2570, 1), (2571, 1), (2572, 1), (2573, 1), (2574, 1), (2575, 1), (2576, 16), (2577, 1), (2578, 1), (2579, 2), (2580, 1), (2581, 1), (2582, 1), (2583, 1), (2584, 1), (2585, 1), (2586, 1), (2587, 5), (2588, 1), (2589, 1), (2590, 1), (2591, 1), (2592, 1), (2593, 1), (2594, 1), (2595, 1), (2596, 1), (2597, 2), (2598, 1), (2599, 2), (2600, 1), (2601, 1), (2602, 1), (2603, 1), (2604, 1), (2605, 1), (2606, 1), (2607, 1), (2608, 1), (2609, 1), (2610, 1), (2611, 1), (2612, 1), (2613, 2), (2614, 1), (2615, 1), (2616, 1), (2617, 1), (2618, 1), (2619, 3), (2620, 1), (2621, 1), (2622, 3), (2623, 1), (2624, 1), (2625, 2), (2626, 1), (2627, 1), (2628, 1), (2629, 1), (2630, 1), (2631, 1), (2632, 1), (2633, 1), (2634, 1), (2635, 1), (2636, 1), (2637, 1), (2638, 1), (2639, 1), (2640, 1), (2641, 1), (2642, 1), (2643, 1), (2644, 1), (2645, 1), (2646, 1), (2647, 1), (2648, 1)], [(18, 1), (20, 1), (24, 1), (30, 1), (53, 2), (61, 1), (87, 1), (92, 1), (137, 6), (180, 2), (181, 1), (184, 2), (203, 1), (243, 3), (252, 1), (304, 1), (329, 1), (351, 3), (355, 1), (366, 2), (387, 1), (409, 2), (438, 2), (439, 1), (440, 1), (450, 1), (455, 2), (456, 2), (497, 1), (505, 2), (512, 1), (535, 2), (553, 1), (558, 1), (593, 1), (633, 4), (646, 1), (674, 1), (681, 1), (685, 5), (723, 4), (755, 1), (802, 2), (836, 3), (873, 1), (878, 1), (880, 1), (934, 1), (992, 1), (1001, 1), (1039, 1), (1091, 1), (1112, 2), (1119, 3), (1152, 1), (1177, 1), (1181, 1), (1184, 1), (1185, 1), (1245, 1), (1265, 1), (1270, 3), (1290, 1), (1306, 1), (1494, 3), (1502, 1), (1584, 2), (1628, 1), (1631, 1), (1717, 1), (1718, 1), (1760, 1), (1899, 1), (2065, 2), (2215, 1), (2237, 1), (2289, 1), (2359, 1), (2365, 1), (2621, 1), (2649, 1), (2650, 1), (2651, 1), (2652, 1), (2653, 1), (2654, 1), (2655, 1), (2656, 1), (2657, 1), (2658, 1), (2659, 1), (2660, 3), (2661, 1), (2662, 1), (2663, 1), (2664, 1), (2665, 1), (2666, 2), (2667, 1), (2668, 1), (2669, 1), (2670, 1), (2671, 1), (2672, 1), (2673, 1), (2674, 4), (2675, 1), (2676, 1), (2677, 1), (2678, 1), (2679, 2), (2680, 1), (2681, 1), (2682, 3), (2683, 1), (2684, 1), (2685, 1), (2686, 3), (2687, 1), (2688, 3), (2689, 1)], [(54, 2), (61, 1), (69, 1), (87, 2), (90, 1), (92, 2), (101, 1), (102, 1), (122, 1), (125, 1), (132, 1), (145, 1), (156, 1), (169, 1), (191, 1), (209, 1), (231, 1), (235, 1), (243, 1), (244, 1), (247, 1), (249, 1), (252, 2), (256, 1), (259, 1), (260, 1), (269, 1), (277, 1), (283, 1), (304, 1), (325, 1), (334, 2), (352, 1), (358, 1), (359, 3), (363, 2), (376, 1), (383, 1), (384, 5), (387, 1), (390, 1), (415, 23), (416, 3), (430, 1), (437, 1), (440, 1), (442, 1), (452, 1), (456, 1), (465, 6), (476, 3), (481, 1), (527, 1), (535, 6), (539, 3), (545, 1), (556, 1), (574, 1), (594, 1), (605, 1), (614, 3), (628, 1), (630, 1), (633, 1), (639, 1), (644, 1), (646, 1), (652, 1), (654, 1), (662, 1), (663, 3), (664, 1), (665, 1), (666, 1), (677, 1), (680, 2), (681, 4), (683, 1), (685, 1), (689, 1), (734, 1), (746, 1), (747, 1), (751, 1), (752, 4), (773, 1), (782, 1), (788, 3), (805, 1), (808, 1), (829, 1), (851, 1), (857, 1), (860, 2), (869, 1), (891, 2), (917, 15), (927, 2), (930, 1), (936, 2), (937, 1), (943, 1), (944, 3), (965, 1), (975, 2), (981, 1), (988, 1), (1015, 1), (1017, 1), (1025, 3), (1026, 1), (1030, 1), (1034, 1), (1048, 1), (1049, 1), (1060, 2), (1074, 2), (1099, 1), (1101, 1), (1105, 14), (1115, 1), (1158, 3), (1194, 1), (1218, 2), (1232, 1), (1263, 4), (1275, 1), (1277, 1), (1281, 1), (1290, 1), (1306, 1), (1337, 1), (1340, 1), (1344, 11), (1356, 1), (1360, 2), (1371, 1), (1386, 1), (1404, 1), (1448, 1), (1492, 1), (1566, 1), (1577, 1), (1585, 2), (1594, 1), (1610, 1), (1612, 1), (1623, 1), (1644, 1), (1658, 1), (1660, 1), (1661, 1), (1671, 1), (1678, 1), (1684, 1), (1717, 1), (1721, 1), (1722, 1), (1729, 1), (1744, 1), (1750, 1), (1753, 1), (1767, 3), (1779, 1), (1782, 1), (1803, 1), (1817, 1), (1843, 1), (1915, 1), (1951, 1), (1970, 1), (1986, 1), (2010, 1), (2019, 1), (2110, 1), (2122, 1), (2165, 1), (2179, 1), (2187, 1), (2203, 1), (2212, 1), (2282, 1), (2300, 3), (2326, 1), (2332, 2), (2341, 1), (2404, 1), (2412, 3), (2423, 1), (2502, 1), (2517, 3), (2524, 1), (2542, 1), (2575, 1), (2631, 1), (2690, 1), (2691, 3), (2692, 1), (2693, 2), (2694, 1), (2695, 1), (2696, 1), (2697, 1), (2698, 1), (2699, 1), (2700, 1), (2701, 1), (2702, 1), (2703, 1), (2704, 1), (2705, 1), (2706, 1), (2707, 1), (2708, 1), (2709, 1), (2710, 1), (2711, 1), (2712, 1), (2713, 3), (2714, 1), (2715, 1), (2716, 1), (2717, 1), (2718, 1), (2719, 1), (2720, 1), (2721, 1), (2722, 1), (2723, 1), (2724, 1), (2725, 4), (2726, 1), (2727, 1), (2728, 1), (2729, 2), (2730, 2), (2731, 1), (2732, 1), (2733, 2), (2734, 1), (2735, 1), (2736, 1), (2737, 1), (2738, 1), (2739, 1), (2740, 1), (2741, 1), (2742, 1), (2743, 1), (2744, 1), (2745, 1), (2746, 4), (2747, 1), (2748, 1)], [(9, 1), (14, 1), (17, 1), (40, 1), (43, 1), (48, 2), (50, 2), (52, 1), (54, 2), (61, 1), (76, 7), (84, 1), (87, 3), (93, 2), (122, 2), (132, 1), (134, 1), (139, 1), (141, 1), (144, 4), (149, 1), (155, 2), (164, 1), (169, 8), (178, 2), (181, 5), (184, 1), (193, 3), (200, 1), (203, 1), (204, 1), (229, 1), (231, 1), (238, 1), (241, 2), (243, 1), (252, 1), (256, 1), (257, 1), (269, 1), (271, 2), (273, 1), (277, 1), (289, 1), (292, 1), (294, 2), (303, 2), (309, 1), (331, 1), (338, 1), (340, 1), (341, 1), (346, 6), (347, 1), (350, 1), (351, 3), (353, 4), (358, 1), (363, 1), (364, 3), (367, 1), (384, 1), (387, 2), (399, 2), (400, 1), (409, 1), (415, 20), (420, 1), (422, 2), (438, 3), (440, 4), (450, 1), (455, 1), (456, 1), (458, 1), (465, 2), (469, 1), (476, 1), (492, 1), (504, 1), (505, 1), (518, 1), (519, 2), (521, 1), (535, 11), (538, 1), (539, 3), (541, 10), (545, 1), (555, 1), (556, 1), (562, 1), (568, 1), (574, 1), (579, 1), (585, 2), (594, 6), (620, 1), (628, 1), (629, 3), (633, 1), (635, 3), (640, 3), (646, 4), (662, 1), (664, 2), (666, 4), (672, 2), (680, 1), (681, 4), (683, 1), (685, 3), (688, 1), (689, 1), (695, 1), (719, 1), (723, 5), (751, 1), (755, 1), (764, 1), (766, 2), (768, 3), (777, 1), (788, 3), (801, 1), (802, 2), (821, 2), (834, 1), (851, 2), (857, 1), (869, 1), (886, 1), (905, 1), (925, 2), (927, 3), (930, 1), (934, 1), (945, 1), (954, 8), (955, 1), (965, 4), (986, 1), (987, 16), (992, 1), (1001, 1), (1003, 2), (1004, 1), (1024, 1), (1033, 4), (1034, 2), (1042, 1), (1047, 1), (1052, 1), (1073, 1), (1084, 3), (1088, 1), (1089, 8), (1097, 1), (1105, 1), (1112, 1), (1113, 1), (1126, 1), (1133, 2), (1137, 1), (1139, 1), (1142, 1), (1143, 11), (1161, 6), (1163, 2), (1166, 1), (1171, 2), (1172, 4), (1176, 1), (1177, 1), (1194, 1), (1200, 1), (1201, 3), (1223, 1), (1246, 1), (1270, 4), (1280, 2), (1283, 2), (1284, 1), (1287, 1), (1288, 1), (1290, 1), (1295, 1), (1306, 1), (1312, 1), (1320, 2), (1333, 3), (1334, 1), (1337, 1), (1347, 1), (1350, 1), (1355, 1), (1380, 1), (1389, 1), (1402, 1), (1415, 2), (1468, 2), (1486, 1), (1495, 16), (1501, 7), (1505, 1), (1506, 1), (1521, 2), (1539, 1), (1559, 1), (1585, 2), (1586, 2), (1590, 1), (1594, 1), (1608, 2), (1630, 1), (1637, 1), (1643, 1), (1646, 6), (1669, 2), (1703, 1), (1715, 2), (1718, 1), (1724, 2), (1737, 1), (1747, 1), (1748, 1), (1760, 1), (1763, 1), (1784, 1), (1805, 1), (1814, 1), (1821, 2), (1824, 2), (1839, 3), (1845, 1), (1879, 1), (1887, 1), (1956, 1), (1991, 1), (2021, 1), (2059, 1), (2068, 1), (2082, 1), (2091, 1), (2167, 1), (2196, 1), (2199, 1), (2241, 1), (2250, 1), (2277, 1), (2284, 1), (2290, 1), (2294, 1), (2307, 3), (2310, 1), (2327, 1), (2335, 1), (2350, 1), (2368, 2), (2372, 2), (2376, 1), (2386, 2), (2400, 1), (2410, 1), (2423, 2), (2428, 1), (2438, 1), (2466, 1), (2524, 1), (2625, 1), (2631, 1), (2679, 2), (2688, 1), (2705, 1), (2749, 1), (2750, 1), (2751, 2), (2752, 1), (2753, 2), (2754, 6), (2755, 1), (2756, 1), (2757, 2), (2758, 14), (2759, 1), (2760, 1), (2761, 1), (2762, 1), (2763, 1), (2764, 1), (2765, 1), (2766, 3), (2767, 1), (2768, 1), (2769, 1), (2770, 2), (2771, 1), (2772, 1), (2773, 1), (2774, 1), (2775, 1), (2776, 7), (2777, 1), (2778, 1), (2779, 3), (2780, 1), (2781, 1), (2782, 1), (2783, 1), (2784, 1), (2785, 1), (2786, 1), (2787, 1), (2788, 1), (2789, 1), (2790, 4), (2791, 1), (2792, 1), (2793, 1), (2794, 1), (2795, 1), (2796, 1), (2797, 1), (2798, 1), (2799, 1), (2800, 1), (2801, 1), (2802, 1), (2803, 1), (2804, 1), (2805, 1), (2806, 1), (2807, 1), (2808, 1), (2809, 1), (2810, 1), (2811, 2), (2812, 3), (2813, 1), (2814, 6), (2815, 8), (2816, 4), (2817, 5), (2818, 1), (2819, 1), (2820, 2), (2821, 1), (2822, 1), (2823, 1), (2824, 1), (2825, 1), (2826, 1), (2827, 1), (2828, 1), (2829, 1), (2830, 1), (2831, 1), (2832, 1), (2833, 1), (2834, 1), (2835, 1), (2836, 1), (2837, 1), (2838, 1), (2839, 1), (2840, 1), (2841, 1), (2842, 2), (2843, 1), (2844, 2), (2845, 1), (2846, 1), (2847, 2), (2848, 1), (2849, 1), (2850, 2), (2851, 2), (2852, 1), (2853, 1), (2854, 1), (2855, 1), (2856, 1), (2857, 1), (2858, 1)], [(8, 1), (20, 1), (22, 1), (23, 1), (41, 1), (47, 2), (50, 1), (52, 1), (53, 1), (56, 1), (76, 1), (87, 1), (92, 2), (99, 1), (102, 1), (120, 1), (136, 2), (139, 1), (141, 1), (147, 5), (163, 1), (164, 1), (166, 1), (169, 1), (181, 2), (182, 1), (187, 1), (191, 1), (210, 1), (226, 1), (231, 1), (239, 1), (240, 1), (252, 4), (254, 1), (257, 1), (269, 1), (271, 1), (277, 1), (279, 1), (288, 2), (289, 1), (294, 1), (295, 3), (303, 1), (308, 1), (310, 1), (322, 2), (351, 1), (360, 1), (361, 1), (363, 2), (364, 2), (378, 1), (384, 2), (387, 2), (393, 1), (395, 1), (399, 2), (405, 1), (409, 2), (414, 1), (415, 7), (416, 1), (417, 1), (422, 8), (430, 1), (440, 2), (446, 1), (450, 3), (455, 3), (456, 1), (465, 1), (469, 1), (476, 2), (493, 1), (500, 1), (503, 1), (521, 1), (522, 1), (523, 1), (535, 11), (539, 1), (545, 1), (562, 1), (614, 2), (620, 1), (627, 1), (629, 1), (630, 2), (631, 1), (633, 12), (634, 5), (636, 1), (644, 1), (652, 2), (654, 1), (661, 1), (662, 2), (670, 1), (673, 1), (674, 1), (678, 1), (681, 3), (683, 1), (685, 4), (688, 6), (694, 1), (696, 1), (702, 1), (732, 1), (758, 1), (765, 1), (773, 1), (777, 1), (783, 2), (794, 1), (801, 2), (802, 1), (803, 1), (853, 1), (865, 1), (869, 2), (882, 1), (894, 1), (895, 1), (913, 1), (918, 1), (922, 1), (923, 1), (927, 1), (930, 1), (936, 1), (944, 2), (952, 1), (963, 1), (966, 1), (984, 2), (986, 1), (987, 6), (988, 1), (992, 1), (1001, 2), (1017, 1), (1032, 1), (1039, 1), (1042, 1), (1060, 1), (1063, 1), (1072, 2), (1074, 2), (1084, 2), (1088, 1), (1091, 1), (1092, 1), (1105, 9), (1108, 1), (1118, 1), (1120, 1), (1133, 2), (1158, 1), (1164, 1), (1171, 1), (1172, 1), (1176, 1), (1177, 1), (1190, 1), (1194, 6), (1201, 1), (1225, 1), (1232, 1), (1270, 2), (1322, 1), (1333, 1), (1358, 1), (1387, 1), (1407, 1), (1440, 1), (1444, 1), (1482, 2), (1484, 1), (1486, 2), (1494, 1), (1506, 1), (1521, 2), (1527, 1), (1538, 1), (1551, 1), (1566, 1), (1577, 1), (1589, 1), (1602, 1), (1608, 11), (1627, 1), (1633, 2), (1634, 1), (1637, 1), (1660, 1), (1670, 1), (1693, 2), (1717, 1), (1722, 1), (1734, 1), (1737, 1), (1747, 2), (1748, 1), (1758, 1), (1759, 1), (1760, 1), (1769, 1), (1796, 1), (1813, 1), (1814, 1), (1845, 1), (1874, 1), (1906, 1), (1934, 1), (2005, 1), (2039, 1), (2057, 1), (2062, 1), (2078, 3), (2113, 1), (2131, 1), (2160, 1), (2300, 1), (2306, 1), (2307, 1), (2328, 1), (2428, 1), (2467, 1), (2519, 3), (2535, 1), (2560, 2), (2573, 1), (2579, 1), (2580, 1), (2584, 1), (2590, 1), (2625, 2), (2630, 1), (2724, 1), (2746, 1), (2754, 8), (2764, 1), (2765, 1), (2767, 1), (2776, 4), (2785, 2), (2789, 1), (2808, 1), (2814, 8), (2851, 1), (2859, 1), (2860, 1), (2861, 1), (2862, 1), (2863, 1), (2864, 1), (2865, 1), (2866, 1), (2867, 1), (2868, 1), (2869, 1), (2870, 1), (2871, 1), (2872, 1), (2873, 1), (2874, 1), (2875, 1), (2876, 1), (2877, 1), (2878, 1), (2879, 1), (2880, 1), (2881, 1), (2882, 2), (2883, 1), (2884, 2), (2885, 2), (2886, 1), (2887, 1), (2888, 3), (2889, 1), (2890, 1), (2891, 1), (2892, 1), (2893, 1), (2894, 2), (2895, 1), (2896, 1), (2897, 1), (2898, 1), (2899, 1), (2900, 1), (2901, 1), (2902, 1), (2903, 1), (2904, 1), (2905, 1), (2906, 1), (2907, 1), (2908, 1), (2909, 1), (2910, 1), (2911, 1), (2912, 1), (2913, 1), (2914, 1), (2915, 1), (2916, 1), (2917, 1), (2918, 2), (2919, 1), (2920, 1), (2921, 1), (2922, 1), (2923, 1), (2924, 1), (2925, 1), (2926, 6), (2927, 1), (2928, 1), (2929, 1), (2930, 1), (2931, 1), (2932, 1), (2933, 1), (2934, 1), (2935, 1), (2936, 1), (2937, 1), (2938, 1), (2939, 1), (2940, 1), (2941, 1), (2942, 1), (2943, 1), (2944, 1), (2945, 1), (2946, 1), (2947, 1), (2948, 1), (2949, 1), (2950, 1), (2951, 1), (2952, 1), (2953, 1), (2954, 1), (2955, 1), (2956, 2), (2957, 2), (2958, 1), (2959, 1), (2960, 3), (2961, 1), (2962, 1), (2963, 1), (2964, 1), (2965, 1), (2966, 1), (2967, 1), (2968, 1), (2969, 1), (2970, 1), (2971, 2), (2972, 1), (2973, 1), (2974, 1), (2975, 1), (2976, 1), (2977, 1), (2978, 1), (2979, 1), (2980, 1), (2981, 1), (2982, 1), (2983, 1), (2984, 2)], [(11, 1), (12, 1), (13, 1), (14, 2), (36, 1), (39, 1), (41, 2), (54, 1), (56, 1), (61, 1), (71, 3), (82, 1), (91, 2), (93, 4), (95, 1), (99, 2), (102, 2), (103, 2), (122, 1), (125, 2), (131, 1), (136, 1), (139, 4), (141, 1), (145, 2), (149, 3), (155, 1), (164, 1), (169, 1), (170, 1), (173, 1), (179, 1), (181, 1), (184, 3), (193, 2), (200, 1), (241, 3), (250, 1), (251, 1), (252, 2), (256, 1), (257, 2), (260, 2), (277, 1), (279, 1), (283, 1), (288, 2), (295, 1), (298, 1), (303, 2), (308, 1), (313, 1), (322, 4), (327, 3), (329, 3), (340, 2), (349, 1), (353, 4), (354, 1), (358, 2), (363, 2), (364, 1), (369, 1), (384, 2), (385, 2), (387, 1), (393, 2), (414, 2), (415, 35), (417, 1), (421, 1), (422, 1), (438, 1), (440, 2), (446, 1), (458, 2), (469, 4), (471, 1), (476, 7), (481, 1), (482, 1), (492, 1), (493, 2), (497, 1), (503, 1), (505, 1), (510, 1), (515, 1), (519, 2), (526, 1), (527, 4), (528, 1), (535, 24), (539, 3), (551, 1), (553, 1), (556, 1), (562, 1), (568, 1), (570, 1), (575, 1), (576, 2), (601, 1), (614, 2), (623, 1), (624, 1), (629, 2), (633, 3), (636, 2), (646, 1), (654, 3), (659, 1), (662, 2), (663, 3), (664, 3), (665, 1), (669, 2), (670, 1), (674, 1), (677, 1), (680, 1), (681, 6), (685, 1), (686, 1), (694, 1), (725, 1), (729, 1), (730, 1), (746, 3), (750, 1), (751, 1), (759, 1), (764, 1), (773, 1), (780, 2), (783, 1), (787, 1), (788, 2), (801, 2), (817, 1), (829, 3), (834, 1), (844, 1), (857, 1), (869, 1), (871, 1), (878, 1), (888, 1), (891, 5), (897, 3), (900, 1), (901, 2), (903, 2), (923, 4), (926, 1), (927, 8), (930, 5), (931, 13), (934, 1), (939, 1), (944, 1), (949, 1), (954, 1), (959, 1), (967, 1), (975, 11), (983, 2), (986, 1), (992, 1), (1003, 1), (1024, 1), (1026, 1), (1034, 1), (1061, 1), (1074, 1), (1084, 16), (1086, 1), (1088, 2), (1105, 3), (1106, 1), (1120, 2), (1133, 1), (1142, 1), (1161, 1), (1167, 1), (1170, 1), (1172, 1), (1177, 1), (1194, 1), (1196, 5), (1202, 1), (1206, 1), (1210, 1), (1215, 5), (1241, 1), (1242, 1), (1244, 1), (1250, 24), (1275, 1), (1283, 1), (1286, 2), (1290, 2), (1304, 1), (1306, 2), (1309, 1), (1316, 1), (1326, 1), (1333, 5), (1360, 4), (1361, 1), (1363, 1), (1367, 1), (1374, 1), (1386, 3), (1402, 1), (1403, 1), (1415, 6), (1417, 3), (1425, 1), (1466, 1), (1482, 3), (1489, 1), (1495, 3), (1500, 2), (1505, 1), (1506, 1), (1513, 1), (1517, 1), (1523, 1), (1530, 2), (1543, 1), (1566, 3), (1573, 1), (1577, 4), (1594, 1), (1597, 2), (1606, 5), (1611, 1), (1632, 3), (1662, 1), (1669, 1), (1693, 1), (1694, 3), (1703, 1), (1713, 1), (1715, 1), (1729, 1), (1747, 3), (1748, 2), (1759, 1), (1763, 2), (1765, 1), (1773, 2), (1779, 1), (1780, 2), (1809, 1), (1832, 1), (1836, 1), (1864, 1), (1874, 1), (1892, 2), (1899, 2), (1904, 1), (1906, 1), (1913, 28), (1924, 1), (1952, 2), (1991, 1), (2009, 1), (2027, 2), (2038, 4), (2063, 25), (2065, 2), (2072, 1), (2077, 2), (2085, 1), (2096, 19), (2099, 1), (2117, 1), (2147, 1), (2157, 1), (2163, 1), (2166, 3), (2203, 1), (2206, 1), (2248, 2), (2250, 2), (2271, 8), (2284, 1), (2294, 1), (2296, 1), (2297, 4), (2302, 1), (2303, 2), (2313, 1), (2321, 7), (2327, 1), (2328, 1), (2345, 1), (2348, 7), (2349, 1), (2359, 1), (2369, 1), (2402, 1), (2405, 2), (2413, 1), (2423, 2), (2425, 1), (2445, 1), (2450, 1), (2462, 5), (2488, 1), (2531, 2), (2539, 1), (2540, 1), (2545, 2), (2554, 1), (2578, 1), (2582, 1), (2610, 1), (2624, 2), (2625, 1), (2630, 1), (2631, 1), (2680, 1), (2722, 1), (2724, 1), (2729, 1), (2763, 1), (2768, 1), (2778, 1), (2781, 1), (2808, 1), (2819, 1), (2842, 1), (2845, 1), (2849, 1), (2850, 1), (2855, 1), (2869, 1), (2871, 1), (2910, 1), (2950, 1), (2969, 1), (2970, 1), (2985, 1), (2986, 1), (2987, 1), (2988, 1), (2989, 1), (2990, 1), (2991, 1), (2992, 3), (2993, 1), (2994, 2), (2995, 1), (2996, 1), (2997, 1), (2998, 1), (2999, 1), (3000, 1), (3001, 1), (3002, 1), (3003, 1), (3004, 1), (3005, 1), (3006, 1), (3007, 1), (3008, 1), (3009, 1), (3010, 1), (3011, 1), (3012, 1), (3013, 2), (3014, 1), (3015, 3), (3016, 1), (3017, 1), (3018, 1), (3019, 1), (3020, 1), (3021, 1), (3022, 2), (3023, 1), (3024, 1), (3025, 1), (3026, 1), (3027, 1), (3028, 4), (3029, 1), (3030, 1), (3031, 1), (3032, 1), (3033, 1), (3034, 1), (3035, 1), (3036, 1), (3037, 6), (3038, 1), (3039, 1), (3040, 1), (3041, 4), (3042, 1), (3043, 1), (3044, 1), (3045, 1), (3046, 1), (3047, 1), (3048, 3), (3049, 1), (3050, 1), (3051, 1), (3052, 1), (3053, 1), (3054, 1), (3055, 1), (3056, 1), (3057, 1), (3058, 1), (3059, 1), (3060, 2), (3061, 1), (3062, 1), (3063, 1), (3064, 1), (3065, 1), (3066, 1), (3067, 2), (3068, 1), (3069, 1), (3070, 1), (3071, 3), (3072, 1), (3073, 1), (3074, 1), (3075, 1), (3076, 1), (3077, 1), (3078, 1), (3079, 1), (3080, 2), (3081, 1), (3082, 1), (3083, 1), (3084, 1), (3085, 1), (3086, 1), (3087, 1), (3088, 1), (3089, 1), (3090, 1), (3091, 1), (3092, 1), (3093, 1), (3094, 4), (3095, 1), (3096, 1), (3097, 4), (3098, 3), (3099, 2), (3100, 1), (3101, 15), (3102, 1), (3103, 1), (3104, 1), (3105, 1), (3106, 3), (3107, 1), (3108, 1), (3109, 1), (3110, 1), (3111, 3), (3112, 1), (3113, 2), (3114, 1), (3115, 1), (3116, 1), (3117, 5), (3118, 1), (3119, 1), (3120, 1), (3121, 1), (3122, 1), (3123, 2), (3124, 1), (3125, 1), (3126, 1), (3127, 1), (3128, 1), (3129, 1), (3130, 1), (3131, 1), (3132, 1), (3133, 1), (3134, 1), (3135, 1), (3136, 1), (3137, 1), (3138, 1), (3139, 1), (3140, 1), (3141, 2), (3142, 1), (3143, 1), (3144, 1), (3145, 1), (3146, 1), (3147, 1), (3148, 2), (3149, 1), (3150, 1), (3151, 1), (3152, 1), (3153, 1), (3154, 1), (3155, 1), (3156, 1), (3157, 1), (3158, 1), (3159, 7), (3160, 2), (3161, 1), (3162, 1), (3163, 1), (3164, 1), (3165, 1), (3166, 1), (3167, 3), (3168, 1), (3169, 1)], [(0, 1), (3, 1), (25, 1), (48, 1), (53, 1), (61, 1), (71, 2), (87, 1), (92, 1), (93, 1), (94, 1), (96, 2), (97, 1), (110, 1), (120, 5), (122, 1), (125, 1), (132, 1), (136, 2), (145, 1), (155, 2), (164, 1), (181, 1), (200, 1), (205, 1), (210, 2), (217, 3), (228, 1), (241, 1), (249, 2), (252, 2), (257, 1), (259, 1), (271, 1), (273, 1), (277, 3), (283, 1), (288, 1), (294, 2), (298, 1), (310, 1), (327, 2), (345, 2), (351, 2), (352, 3), (354, 1), (384, 2), (387, 2), (393, 1), (395, 1), (409, 2), (415, 17), (420, 1), (421, 3), (422, 1), (431, 1), (438, 1), (440, 3), (465, 1), (476, 1), (477, 1), (485, 8), (488, 1), (493, 1), (510, 1), (515, 1), (523, 7), (535, 8), (539, 2), (542, 2), (545, 2), (547, 2), (555, 1), (556, 2), (558, 3), (562, 1), (568, 1), (576, 1), (578, 1), (586, 2), (590, 1), (599, 2), (602, 1), (619, 2), (620, 2), (634, 1), (635, 7), (636, 1), (640, 1), (644, 3), (646, 2), (652, 1), (654, 2), (662, 2), (663, 2), (666, 3), (670, 1), (672, 1), (678, 2), (680, 2), (681, 4), (683, 1), (685, 4), (722, 1), (759, 1), (762, 1), (765, 2), (768, 1), (782, 1), (783, 2), (788, 3), (797, 2), (798, 1), (801, 1), (814, 1), (815, 1), (825, 1), (829, 1), (833, 1), (866, 1), (886, 1), (891, 6), (894, 3), (900, 1), (908, 1), (917, 1), (927, 5), (932, 1), (935, 2), (937, 1), (952, 2), (958, 1), (975, 1), (981, 1), (990, 7), (992, 3), (996, 1), (1003, 1), (1023, 1), (1030, 2), (1043, 1), (1068, 1), (1079, 2), (1084, 9), (1086, 7), (1090, 1), (1091, 1), (1097, 1), (1119, 1), (1137, 7), (1138, 1), (1140, 2), (1184, 1), (1200, 1), (1223, 2), (1225, 1), (1233, 1), (1236, 1), (1247, 1), (1276, 2), (1277, 1), (1280, 1), (1290, 3), (1291, 1), (1295, 2), (1299, 1), (1300, 1), (1304, 1), (1309, 7), (1322, 1), (1323, 1), (1326, 1), (1333, 7), (1337, 1), (1361, 2), (1363, 1), (1364, 2), (1377, 1), (1381, 1), (1397, 1), (1405, 1), (1412, 1), (1415, 1), (1466, 1), (1468, 1), (1482, 2), (1484, 2), (1486, 2), (1494, 1), (1495, 4), (1522, 1), (1533, 3), (1566, 2), (1568, 1), (1571, 1), (1577, 1), (1580, 3), (1582, 3), (1584, 3), (1592, 1), (1611, 1), (1623, 1), (1637, 1), (1647, 2), (1648, 1), (1655, 1), (1672, 1), (1677, 1), (1703, 1), (1747, 1), (1755, 1), (1760, 1), (1824, 3), (1839, 1), (1874, 1), (1889, 1), (1909, 1), (1952, 2), (1992, 1), (2010, 1), (2037, 1), (2038, 1), (2040, 3), (2058, 1), (2062, 1), (2071, 1), (2082, 2), (2097, 1), (2110, 4), (2113, 2), (2133, 1), (2167, 1), (2247, 1), (2254, 3), (2271, 2), (2287, 1), (2321, 1), (2327, 1), (2340, 2), (2344, 3), (2358, 3), (2359, 1), (2396, 1), (2408, 1), (2413, 1), (2423, 1), (2438, 1), (2482, 1), (2523, 1), (2524, 1), (2586, 1), (2625, 1), (2681, 1), (2693, 1), (2696, 1), (2711, 1), (2729, 2), (2730, 1), (2732, 1), (2792, 2), (2819, 1), (2820, 2), (2827, 1), (2837, 1), (2841, 2), (2842, 1), (2847, 1), (2850, 1), (2879, 3), (2907, 1), (2987, 2), (3016, 1), (3021, 1), (3027, 1), (3037, 1), (3041, 1), (3054, 1), (3072, 1), (3170, 1), (3171, 1), (3172, 1), (3173, 3), (3174, 19), (3175, 2), (3176, 1), (3177, 2), (3178, 1), (3179, 1), (3180, 1), (3181, 1), (3182, 1), (3183, 1), (3184, 1), (3185, 2), (3186, 2), (3187, 1), (3188, 1), (3189, 1), (3190, 2), (3191, 1), (3192, 1), (3193, 1), (3194, 1), (3195, 1), (3196, 2), (3197, 1), (3198, 1), (3199, 1), (3200, 1), (3201, 1), (3202, 2), (3203, 1), (3204, 1), (3205, 1), (3206, 1), (3207, 1), (3208, 1), (3209, 1), (3210, 1), (3211, 11), (3212, 15), (3213, 1), (3214, 1), (3215, 5), (3216, 1), (3217, 1), (3218, 1), (3219, 2), (3220, 1), (3221, 1), (3222, 1), (3223, 1), (3224, 1), (3225, 1), (3226, 1), (3227, 9), (3228, 1), (3229, 1), (3230, 1), (3231, 1), (3232, 1), (3233, 1), (3234, 1), (3235, 1), (3236, 2), (3237, 1), (3238, 2), (3239, 1), (3240, 2), (3241, 1), (3242, 1), (3243, 2), (3244, 1), (3245, 1), (3246, 2), (3247, 1), (3248, 1), (3249, 1), (3250, 1), (3251, 1), (3252, 4), (3253, 1), (3254, 1), (3255, 1), (3256, 5), (3257, 1), (3258, 1), (3259, 1), (3260, 1), (3261, 2), (3262, 1), (3263, 1), (3264, 1)], [(41, 3), (52, 4), (61, 1), (76, 4), (82, 1), (86, 1), (101, 1), (122, 2), (125, 1), (145, 2), (164, 1), (224, 1), (252, 1), (271, 3), (277, 1), (279, 1), (303, 2), (310, 1), (331, 2), (349, 1), (369, 2), (383, 1), (387, 1), (410, 1), (415, 12), (422, 1), (455, 3), (476, 4), (493, 1), (494, 1), (503, 2), (510, 1), (535, 5), (539, 3), (545, 1), (546, 1), (579, 1), (585, 1), (608, 1), (614, 1), (628, 1), (629, 1), (631, 1), (635, 1), (646, 1), (662, 1), (672, 2), (673, 1), (680, 2), (681, 2), (708, 2), (759, 1), (768, 1), (787, 1), (788, 1), (801, 1), (857, 1), (860, 1), (869, 1), (891, 3), (892, 2), (920, 2), (927, 2), (936, 1), (948, 2), (986, 3), (987, 1), (992, 5), (994, 1), (995, 1), (1013, 1), (1025, 1), (1042, 1), (1057, 1), (1064, 1), (1081, 1), (1084, 2), (1088, 1), (1091, 1), (1092, 1), (1097, 1), (1105, 9), (1114, 1), (1133, 1), (1153, 1), (1158, 1), (1194, 1), (1197, 1), (1222, 1), (1237, 1), (1263, 1), (1288, 1), (1290, 1), (1299, 3), (1306, 1), (1323, 1), (1333, 3), (1371, 1), (1404, 1), (1448, 1), (1450, 1), (1468, 2), (1475, 1), (1482, 1), (1486, 1), (1521, 1), (1530, 2), (1562, 1), (1577, 1), (1585, 5), (1628, 1), (1631, 1), (1658, 1), (1665, 1), (1672, 1), (1675, 1), (1680, 4), (1688, 2), (1703, 1), (1717, 2), (1748, 1), (1769, 3), (1784, 1), (1801, 1), (1840, 1), (1879, 1), (1886, 1), (1887, 1), (1912, 1), (1991, 1), (2019, 1), (2150, 1), (2237, 1), (2307, 3), (2327, 1), (2348, 9), (2349, 1), (2400, 1), (2428, 1), (2491, 1), (2547, 1), (2577, 1), (2685, 1), (2705, 2), (2720, 1), (2773, 1), (2845, 2), (2855, 1), (2879, 1), (3067, 1), (3091, 2), (3117, 5), (3153, 5), (3157, 1), (3164, 1), (3168, 1), (3194, 1), (3230, 1), (3265, 1), (3266, 1), (3267, 2), (3268, 1), (3269, 1), (3270, 1), (3271, 2), (3272, 1), (3273, 1), (3274, 1), (3275, 1), (3276, 1), (3277, 3), (3278, 1), (3279, 1), (3280, 1), (3281, 1), (3282, 1), (3283, 2), (3284, 1), (3285, 1), (3286, 1), (3287, 1), (3288, 2), (3289, 1), (3290, 1), (3291, 1), (3292, 1), (3293, 1), (3294, 1), (3295, 1), (3296, 1), (3297, 1)], [(25, 2), (31, 1), (40, 1), (41, 1), (47, 2), (48, 2), (50, 1), (52, 1), (53, 1), (54, 3), (62, 3), (72, 1), (76, 1), (85, 5), (96, 1), (106, 1), (120, 2), (122, 1), (131, 4), (132, 6), (135, 1), (136, 6), (149, 4), (155, 1), (166, 1), (169, 5), (179, 3), (181, 1), (184, 1), (185, 1), (191, 1), (193, 1), (200, 1), (209, 3), (210, 1), (217, 1), (220, 1), (223, 1), (224, 2), (235, 2), (237, 3), (243, 1), (244, 1), (245, 1), (247, 1), (250, 1), (252, 1), (257, 1), (261, 1), (271, 3), (273, 1), (277, 2), (283, 1), (289, 1), (291, 2), (303, 1), (304, 1), (306, 1), (309, 3), (310, 3), (322, 1), (326, 1), (346, 4), (350, 1), (351, 1), (352, 1), (354, 1), (355, 2), (358, 1), (364, 3), (377, 1), (384, 2), (385, 1), (387, 1), (388, 1), (390, 1), (395, 1), (409, 1), (414, 2), (415, 5), (416, 2), (417, 2), (420, 2), (422, 4), (438, 1), (440, 4), (450, 3), (455, 11), (465, 1), (469, 1), (476, 2), (485, 1), (491, 1), (492, 3), (493, 5), (500, 1), (504, 1), (515, 1), (517, 1), (535, 11), (541, 1), (542, 2), (544, 4), (555, 1), (565, 1), (575, 2), (586, 1), (590, 1), (605, 2), (613, 1), (614, 2), (617, 1), (620, 1), (624, 1), (625, 1), (628, 1), (631, 1), (633, 8), (635, 1), (646, 1), (654, 1), (658, 1), (662, 1), (663, 1), (664, 2), (666, 1), (669, 1), (674, 1), (680, 1), (681, 2), (685, 2), (688, 4), (690, 2), (693, 2), (694, 1), (695, 1), (701, 1), (720, 1), (721, 2), (723, 3), (741, 1), (745, 1), (749, 9), (752, 3), (756, 1), (764, 2), (765, 5), (772, 1), (780, 1), (782, 3), (783, 1), (801, 6), (803, 1), (808, 3), (809, 2), (817, 1), (829, 1), (832, 1), (844, 2), (857, 1), (860, 11), (879, 1), (880, 4), (894, 2), (899, 3), (900, 1), (906, 1), (914, 1), (917, 2), (927, 1), (931, 1), (935, 1), (939, 1), (945, 1), (948, 1), (962, 2), (965, 1), (975, 1), (981, 1), (988, 1), (992, 1), (999, 2), (1000, 1), (1001, 1), (1009, 1), (1017, 1), (1025, 3), (1039, 1), (1042, 1), (1043, 1), (1047, 5), (1048, 1), (1058, 2), (1073, 1), (1079, 1), (1082, 1), (1084, 6), (1102, 1), (1105, 3), (1126, 1), (1128, 1), (1131, 1), (1133, 1), (1136, 1), (1137, 1), (1138, 1), (1156, 1), (1158, 4), (1171, 1), (1184, 3), (1197, 1), (1233, 2), (1241, 1), (1244, 1), (1246, 3), (1248, 1), (1250, 1), (1270, 1), (1286, 1), (1287, 1), (1290, 5), (1291, 1), (1304, 1), (1306, 1), (1311, 1), (1315, 1), (1319, 1), (1324, 1), (1328, 2), (1331, 1), (1335, 1), (1340, 3), (1355, 2), (1361, 1), (1380, 5), (1397, 4), (1410, 1), (1429, 9), (1450, 1), (1451, 1), (1475, 1), (1482, 2), (1484, 2), (1486, 2), (1494, 1), (1497, 1), (1521, 1), (1522, 5), (1538, 1), (1539, 1), (1556, 1), (1573, 1), (1580, 1), (1584, 3), (1585, 1), (1589, 1), (1598, 1), (1601, 1), (1606, 2), (1611, 1), (1627, 5), (1630, 1), (1653, 1), (1658, 1), (1660, 2), (1669, 1), (1673, 1), (1680, 1), (1695, 1), (1698, 1), (1715, 1), (1717, 2), (1748, 1), (1761, 1), (1771, 1), (1773, 1), (1796, 2), (1813, 1), (1822, 2), (1824, 2), (1835, 1), (1843, 2), (1850, 3), (1874, 1), (1889, 1), (1895, 2), (1903, 1), (1915, 1), (1922, 1), (1927, 1), (1937, 2), (1965, 1), (1983, 1), (1991, 2), (1999, 1), (2000, 1), (2018, 1), (2040, 1), (2059, 1), (2117, 2), (2156, 1), (2166, 1), (2167, 1), (2170, 2), (2177, 2), (2192, 3), (2249, 1), (2282, 2), (2289, 1), (2318, 1), (2321, 1), (2327, 1), (2342, 1), (2370, 1), (2372, 1), (2373, 1), (2383, 1), (2386, 1), (2403, 1), (2419, 1), (2423, 1), (2438, 2), (2445, 2), (2524, 1), (2534, 3), (2535, 5), (2539, 3), (2540, 1), (2569, 1), (2628, 1), (2647, 4), (2649, 1), (2681, 2), (2682, 1), (2693, 1), (2711, 2), (2731, 1), (2752, 1), (2765, 1), (2770, 1), (2789, 1), (2802, 1), (2815, 1), (2829, 1), (2831, 1), (2859, 1), (2890, 1), (2893, 9), (2900, 1), (2939, 2), (2957, 1), (2993, 2), (2999, 1), (3021, 1), (3042, 1), (3054, 3), (3069, 1), (3082, 6), (3087, 1), (3092, 1), (3139, 1), (3206, 1), (3213, 1), (3220, 1), (3226, 1), (3272, 1), (3275, 1), (3279, 1), (3290, 1), (3298, 2), (3299, 1), (3300, 1), (3301, 1), (3302, 1), (3303, 2), (3304, 1), (3305, 1), (3306, 1), (3307, 1), (3308, 2), (3309, 1), (3310, 1), (3311, 2), (3312, 1), (3313, 1), (3314, 1), (3315, 1), (3316, 2), (3317, 1), (3318, 2), (3319, 1), (3320, 1), (3321, 1), (3322, 2), (3323, 1), (3324, 1), (3325, 1), (3326, 1), (3327, 2), (3328, 2), (3329, 1), (3330, 1), (3331, 3), (3332, 5), (3333, 1), (3334, 1), (3335, 1), (3336, 1), (3337, 1), (3338, 1), (3339, 1), (3340, 1), (3341, 1), (3342, 1), (3343, 2), (3344, 1), (3345, 1), (3346, 2), (3347, 2), (3348, 1), (3349, 1), (3350, 1), (3351, 2), (3352, 1), (3353, 1), (3354, 1), (3355, 1), (3356, 12), (3357, 1), (3358, 1), (3359, 1), (3360, 1), (3361, 1), (3362, 2), (3363, 1), (3364, 1), (3365, 1), (3366, 2), (3367, 1), (3368, 1), (3369, 2), (3370, 1), (3371, 1), (3372, 1), (3373, 1), (3374, 1), (3375, 2), (3376, 1), (3377, 1), (3378, 21), (3379, 1), (3380, 1), (3381, 1), (3382, 1), (3383, 1), (3384, 2), (3385, 1), (3386, 1), (3387, 1), (3388, 1), (3389, 1), (3390, 3), (3391, 1), (3392, 1), (3393, 2), (3394, 1), (3395, 1), (3396, 1), (3397, 1), (3398, 1), (3399, 1), (3400, 1), (3401, 7), (3402, 1), (3403, 1), (3404, 1), (3405, 1), (3406, 1), (3407, 1), (3408, 1), (3409, 1), (3410, 2), (3411, 1), (3412, 1), (3413, 1), (3414, 2), (3415, 1), (3416, 1), (3417, 1), (3418, 2), (3419, 1), (3420, 1), (3421, 2), (3422, 1), (3423, 1), (3424, 1), (3425, 2), (3426, 1), (3427, 1), (3428, 1), (3429, 1), (3430, 1), (3431, 1), (3432, 1), (3433, 1), (3434, 1), (3435, 1), (3436, 1), (3437, 1), (3438, 1), (3439, 2), (3440, 3), (3441, 2), (3442, 1), (3443, 1), (3444, 1), (3445, 1), (3446, 1), (3447, 1), (3448, 6), (3449, 1), (3450, 1), (3451, 1), (3452, 1), (3453, 1), (3454, 17), (3455, 1), (3456, 1), (3457, 1), (3458, 1), (3459, 1), (3460, 1), (3461, 1), (3462, 1), (3463, 1), (3464, 1), (3465, 1), (3466, 1), (3467, 3), (3468, 2), (3469, 1), (3470, 1), (3471, 1), (3472, 1), (3473, 1), (3474, 1), (3475, 1), (3476, 1), (3477, 2), (3478, 1), (3479, 1), (3480, 1), (3481, 1), (3482, 1), (3483, 1), (3484, 2), (3485, 1), (3486, 2), (3487, 1), (3488, 1), (3489, 2)], [(32, 1), (39, 1), (41, 1), (53, 1), (54, 3), (71, 1), (72, 1), (87, 3), (122, 1), (135, 1), (136, 2), (145, 1), (149, 1), (169, 8), (171, 1), (181, 7), (187, 2), (206, 1), (209, 1), (217, 1), (227, 1), (233, 1), (241, 1), (251, 1), (252, 8), (261, 1), (273, 2), (277, 2), (279, 2), (288, 1), (303, 2), (306, 2), (309, 3), (310, 4), (311, 1), (325, 1), (347, 1), (349, 1), (351, 1), (352, 1), (355, 2), (363, 2), (369, 2), (384, 2), (385, 1), (387, 2), (392, 1), (393, 1), (400, 1), (409, 1), (414, 3), (415, 23), (417, 1), (421, 1), (422, 2), (438, 7), (439, 2), (440, 1), (442, 1), (450, 2), (455, 2), (465, 5), (469, 3), (476, 12), (481, 2), (485, 5), (492, 2), (493, 1), (498, 1), (505, 1), (529, 1), (535, 7), (539, 1), (545, 1), (573, 1), (575, 1), (585, 1), (590, 3), (596, 1), (602, 1), (605, 1), (614, 4), (633, 2), (635, 2), (654, 3), (661, 2), (662, 4), (663, 2), (664, 2), (669, 1), (670, 1), (672, 1), (673, 4), (677, 1), (678, 1), (680, 3), (681, 4), (693, 1), (707, 1), (723, 1), (741, 1), (746, 1), (752, 3), (768, 1), (770, 1), (773, 1), (780, 1), (783, 1), (788, 2), (797, 1), (798, 2), (802, 1), (806, 1), (808, 1), (821, 2), (825, 2), (833, 1), (845, 1), (849, 1), (851, 1), (856, 1), (870, 1), (888, 3), (908, 2), (910, 2), (922, 1), (927, 2), (931, 1), (935, 1), (936, 1), (945, 1), (956, 1), (965, 4), (966, 1), (975, 3), (986, 5), (987, 9), (995, 1), (1003, 1), (1033, 10), (1039, 2), (1048, 1), (1061, 1), (1064, 1), (1073, 1), (1074, 3), (1082, 1), (1084, 3), (1097, 1), (1099, 1), (1105, 16), (1119, 1), (1128, 1), (1133, 2), (1136, 1), (1137, 2), (1138, 4), (1142, 2), (1153, 2), (1156, 1), (1158, 3), (1171, 1), (1176, 1), (1222, 2), (1234, 1), (1237, 1), (1263, 1), (1273, 1), (1276, 1), (1281, 1), (1290, 2), (1304, 1), (1306, 1), (1323, 1), (1326, 1), (1330, 2), (1333, 1), (1337, 1), (1351, 1), (1361, 1), (1363, 1), (1367, 2), (1386, 3), (1389, 2), (1412, 1), (1415, 10), (1425, 1), (1449, 1), (1466, 1), (1494, 1), (1538, 1), (1566, 2), (1573, 1), (1580, 2), (1585, 13), (1587, 1), (1606, 2), (1637, 1), (1647, 2), (1648, 3), (1658, 4), (1680, 1), (1684, 1), (1693, 1), (1705, 1), (1747, 1), (1755, 2), (1760, 3), (1762, 1), (1763, 1), (1771, 1), (1774, 1), (1796, 1), (1836, 1), (1839, 1), (1843, 1), (1864, 1), (1912, 1), (1924, 1), (1946, 1), (1952, 1), (1991, 8), (2021, 1), (2025, 1), (2038, 1), (2060, 1), (2077, 1), (2078, 3), (2096, 1), (2105, 1), (2106, 1), (2136, 1), (2149, 2), (2157, 3), (2159, 1), (2163, 4), (2186, 1), (2196, 1), (2210, 1), (2275, 1), (2285, 1), (2300, 4), (2327, 1), (2335, 1), (2346, 1), (2374, 1), (2400, 1), (2408, 1), (2412, 1), (2413, 1), (2419, 1), (2444, 1), (2449, 1), (2466, 1), (2472, 1), (2547, 1), (2560, 3), (2582, 1), (2586, 1), (2611, 1), (2618, 1), (2621, 2), (2630, 2), (2636, 1), (2668, 1), (2681, 1), (2708, 1), (2729, 2), (2731, 1), (2764, 1), (2767, 1), (2776, 3), (2791, 1), (2815, 1), (2840, 1), (2842, 1), (2851, 2), (2893, 1), (2911, 2), (2953, 2), (2962, 1), (2991, 1), (3027, 1), (3063, 1), (3092, 1), (3121, 1), (3131, 1), (3132, 1), (3137, 1), (3187, 1), (3270, 1), (3481, 1), (3490, 1), (3491, 2), (3492, 2), (3493, 1), (3494, 1), (3495, 1), (3496, 1), (3497, 1), (3498, 1), (3499, 1), (3500, 1), (3501, 1), (3502, 1), (3503, 1), (3504, 1), (3505, 1), (3506, 1), (3507, 1), (3508, 1), (3509, 2), (3510, 1), (3511, 2), (3512, 1), (3513, 1), (3514, 1), (3515, 1), (3516, 1), (3517, 1), (3518, 1), (3519, 1), (3520, 1), (3521, 1), (3522, 1), (3523, 2), (3524, 1), (3525, 1), (3526, 1), (3527, 1), (3528, 1), (3529, 1), (3530, 1), (3531, 1), (3532, 1), (3533, 1), (3534, 1), (3535, 1), (3536, 1), (3537, 1), (3538, 1), (3539, 1), (3540, 1), (3541, 2), (3542, 1), (3543, 1), (3544, 1), (3545, 1), (3546, 1), (3547, 1), (3548, 1), (3549, 1), (3550, 1), (3551, 1), (3552, 2), (3553, 1), (3554, 2), (3555, 1), (3556, 1), (3557, 1), (3558, 1), (3559, 1), (3560, 1), (3561, 1), (3562, 1), (3563, 1), (3564, 1), (3565, 2), (3566, 1), (3567, 1), (3568, 1), (3569, 1), (3570, 1)], [(0, 2), (3, 2), (17, 4), (21, 1), (25, 2), (30, 1), (50, 2), (52, 1), (53, 1), (57, 2), (61, 1), (62, 1), (82, 2), (83, 5), (93, 1), (101, 1), (120, 1), (122, 1), (135, 1), (139, 1), (142, 1), (145, 2), (155, 1), (169, 3), (187, 1), (231, 1), (239, 1), (260, 2), (269, 1), (271, 5), (277, 1), (292, 1), (304, 1), (305, 6), (310, 1), (311, 3), (322, 2), (325, 1), (327, 5), (351, 1), (355, 2), (360, 1), (363, 1), (369, 2), (377, 1), (378, 1), (384, 3), (385, 1), (387, 1), (393, 1), (409, 4), (415, 6), (417, 2), (440, 7), (455, 1), (456, 9), (457, 1), (493, 1), (497, 1), (499, 17), (504, 1), (523, 3), (535, 11), (539, 2), (568, 1), (575, 1), (590, 1), (605, 1), (623, 1), (629, 1), (648, 2), (654, 3), (655, 1), (664, 1), (667, 1), (680, 1), (681, 2), (685, 1), (690, 1), (693, 2), (694, 1), (720, 1), (784, 3), (801, 3), (802, 1), (803, 1), (841, 1), (857, 1), (877, 1), (878, 3), (901, 7), (914, 1), (918, 1), (945, 1), (965, 2), (969, 1), (1024, 1), (1030, 6), (1032, 2), (1042, 1), (1058, 2), (1061, 10), (1063, 1), (1102, 1), (1109, 2), (1160, 6), (1242, 2), (1244, 1), (1284, 1), (1287, 1), (1288, 2), (1292, 1), (1295, 1), (1304, 1), (1306, 1), (1315, 1), (1318, 3), (1351, 5), (1356, 1), (1361, 1), (1374, 2), (1423, 1), (1455, 1), (1468, 2), (1494, 1), (1521, 1), (1562, 1), (1575, 2), (1591, 1), (1613, 1), (1640, 3), (1656, 1), (1658, 4), (1722, 5), (1740, 1), (1780, 1), (1835, 1), (1842, 1), (1937, 1), (2086, 4), (2099, 2), (2117, 1), (2130, 2), (2257, 1), (2260, 2), (2282, 1), (2306, 1), (2337, 1), (2424, 1), (2482, 1), (2533, 1), (2546, 7), (2552, 1), (2575, 7), (2579, 1), (2676, 2), (2713, 2), (2721, 1), (2722, 4), (2827, 1), (2855, 1), (2859, 1), (2869, 1), (2964, 1), (2983, 1), (3036, 12), (3055, 3), (3173, 31), (3267, 2), (3270, 1), (3294, 1), (3297, 3), (3334, 7), (3517, 2), (3529, 1), (3535, 2), (3571, 4), (3572, 1), (3573, 1), (3574, 1), (3575, 1), (3576, 1), (3577, 1), (3578, 1), (3579, 2), (3580, 4), (3581, 1), (3582, 6), (3583, 7), (3584, 3), (3585, 1), (3586, 1), (3587, 1), (3588, 1), (3589, 1), (3590, 1), (3591, 1), (3592, 4), (3593, 1), (3594, 1), (3595, 2), (3596, 1), (3597, 1), (3598, 1), (3599, 1), (3600, 4), (3601, 2), (3602, 1), (3603, 3), (3604, 1), (3605, 1), (3606, 2), (3607, 2), (3608, 1), (3609, 1), (3610, 1), (3611, 1), (3612, 1), (3613, 1), (3614, 1), (3615, 1), (3616, 1), (3617, 1), (3618, 1), (3619, 1), (3620, 2), (3621, 1), (3622, 5), (3623, 1), (3624, 1), (3625, 1), (3626, 6), (3627, 1), (3628, 4), (3629, 1), (3630, 1), (3631, 4)], [(8, 1), (36, 1), (41, 1), (48, 1), (51, 1), (54, 1), (56, 1), (61, 2), (76, 3), (87, 1), (116, 1), (122, 1), (146, 1), (164, 1), (169, 1), (181, 1), (191, 1), (200, 1), (203, 1), (209, 2), (226, 1), (229, 3), (231, 1), (241, 1), (243, 1), (251, 1), (252, 2), (261, 1), (271, 1), (273, 1), (277, 1), (279, 4), (289, 1), (294, 3), (295, 1), (298, 1), (300, 1), (303, 2), (322, 3), (325, 1), (345, 1), (346, 1), (351, 1), (353, 1), (354, 2), (361, 4), (363, 4), (364, 4), (371, 1), (374, 2), (386, 4), (415, 20), (420, 2), (421, 1), (422, 1), (455, 3), (458, 2), (476, 4), (492, 1), (493, 1), (503, 2), (505, 1), (512, 1), (535, 14), (538, 1), (539, 2), (546, 1), (550, 2), (551, 1), (575, 3), (590, 1), (594, 1), (601, 3), (620, 1), (630, 1), (631, 2), (640, 2), (662, 2), (663, 1), (669, 2), (674, 2), (681, 3), (685, 3), (688, 1), (732, 1), (744, 1), (750, 1), (759, 1), (760, 1), (765, 1), (783, 1), (788, 3), (798, 1), (808, 1), (815, 2), (882, 1), (886, 1), (901, 1), (914, 1), (925, 6), (927, 1), (934, 1), (955, 2), (966, 1), (975, 1), (990, 1), (992, 1), (1003, 1), (1025, 1), (1048, 1), (1068, 1), (1084, 1), (1095, 1), (1106, 2), (1114, 1), (1125, 1), (1139, 1), (1156, 1), (1159, 2), (1173, 1), (1174, 1), (1176, 1), (1210, 2), (1232, 1), (1234, 2), (1276, 2), (1283, 2), (1304, 1), (1306, 2), (1309, 2), (1320, 1), (1324, 1), (1340, 1), (1356, 1), (1361, 1), (1367, 1), (1387, 1), (1388, 1), (1394, 1), (1402, 2), (1409, 1), (1413, 1), (1446, 1), (1450, 1), (1463, 1), (1466, 1), (1486, 1), (1524, 1), (1543, 1), (1572, 1), (1579, 1), (1580, 2), (1598, 1), (1606, 3), (1613, 1), (1618, 1), (1648, 1), (1718, 1), (1727, 1), (1759, 1), (1823, 1), (1838, 1), (1847, 1), (1874, 1), (1880, 2), (1895, 1), (1937, 1), (1983, 1), (1991, 2), (2024, 1), (2060, 1), (2071, 1), (2082, 1), (2083, 1), (2084, 1), (2096, 1), (2099, 1), (2131, 1), (2205, 1), (2386, 1), (2441, 1), (2466, 2), (2540, 1), (2554, 1), (2601, 1), (2679, 1), (2690, 1), (2711, 1), (2722, 1), (2750, 1), (2764, 1), (2767, 1), (2771, 1), (2778, 1), (2869, 1), (3049, 2), (3055, 1), (3076, 2), (3155, 1), (3206, 2), (3240, 1), (3263, 1), (3290, 1), (3301, 1), (3326, 1), (3407, 1), (3412, 1), (3431, 2), (3481, 1), (3495, 1), (3520, 1), (3525, 1), (3576, 2), (3632, 1), (3633, 1), (3634, 1), (3635, 1), (3636, 3), (3637, 1), (3638, 1), (3639, 1), (3640, 1), (3641, 1), (3642, 1), (3643, 1), (3644, 2), (3645, 1), (3646, 1), (3647, 1), (3648, 1), (3649, 1), (3650, 1), (3651, 1), (3652, 1), (3653, 2), (3654, 1), (3655, 1), (3656, 2), (3657, 2), (3658, 1), (3659, 3), (3660, 1), (3661, 1), (3662, 1), (3663, 1), (3664, 1), (3665, 2), (3666, 1), (3667, 1), (3668, 1), (3669, 1), (3670, 3), (3671, 1), (3672, 1), (3673, 1), (3674, 1), (3675, 1), (3676, 1), (3677, 1), (3678, 1), (3679, 1), (3680, 1), (3681, 1), (3682, 1), (3683, 1), (3684, 1), (3685, 8), (3686, 1), (3687, 1), (3688, 1), (3689, 2), (3690, 1), (3691, 1), (3692, 1), (3693, 1), (3694, 2), (3695, 1), (3696, 17), (3697, 1), (3698, 1), (3699, 2), (3700, 1), (3701, 1), (3702, 1), (3703, 1), (3704, 1), (3705, 1), (3706, 1), (3707, 1), (3708, 1), (3709, 1), (3710, 1), (3711, 1), (3712, 1), (3713, 1)], [(37, 2), (41, 1), (48, 1), (50, 1), (54, 3), (56, 2), (93, 2), (97, 1), (99, 1), (103, 1), (122, 1), (125, 1), (132, 1), (135, 1), (136, 1), (139, 1), (141, 2), (149, 1), (151, 1), (162, 1), (165, 1), (169, 2), (179, 1), (190, 2), (202, 1), (206, 1), (209, 1), (217, 2), (224, 3), (226, 1), (227, 1), (231, 1), (241, 3), (256, 1), (271, 4), (273, 1), (279, 1), (283, 1), (289, 1), (294, 1), (295, 2), (306, 3), (324, 1), (346, 2), (354, 2), (361, 2), (363, 5), (364, 1), (367, 1), (369, 1), (376, 1), (384, 1), (386, 1), (393, 2), (399, 2), (409, 1), (415, 27), (416, 1), (417, 3), (420, 2), (421, 1), (422, 2), (429, 1), (438, 1), (439, 2), (440, 4), (445, 1), (455, 1), (458, 4), (476, 1), (477, 1), (481, 1), (482, 1), (485, 1), (492, 3), (493, 2), (503, 4), (510, 1), (535, 16), (539, 2), (545, 2), (546, 4), (549, 1), (550, 1), (556, 1), (579, 1), (587, 1), (590, 1), (601, 1), (605, 1), (619, 2), (628, 1), (630, 2), (635, 1), (640, 1), (641, 1), (646, 1), (654, 1), (659, 1), (662, 1), (664, 3), (672, 2), (673, 1), (678, 2), (680, 4), (681, 4), (686, 1), (702, 1), (725, 1), (732, 1), (753, 1), (773, 1), (803, 1), (806, 1), (809, 1), (834, 1), (848, 2), (855, 1), (860, 3), (871, 1), (872, 1), (888, 4), (891, 3), (900, 1), (917, 4), (920, 1), (937, 3), (944, 1), (945, 2), (950, 1), (966, 1), (970, 1), (981, 1), (992, 4), (1016, 1), (1017, 1), (1025, 2), (1032, 1), (1038, 3), (1043, 1), (1047, 1), (1048, 2), (1060, 1), (1073, 1), (1084, 1), (1086, 1), (1087, 2), (1088, 1), (1092, 2), (1105, 24), (1106, 1), (1114, 1), (1115, 3), (1125, 8), (1133, 1), (1138, 1), (1155, 2), (1158, 9), (1166, 1), (1169, 2), (1171, 1), (1172, 1), (1173, 1), (1176, 1), (1178, 1), (1190, 1), (1200, 2), (1202, 1), (1203, 1), (1236, 1), (1238, 2), (1248, 1), (1266, 1), (1281, 2), (1282, 1), (1288, 1), (1312, 1), (1318, 1), (1320, 2), (1327, 1), (1333, 1), (1360, 1), (1374, 2), (1381, 1), (1395, 1), (1400, 1), (1401, 1), (1409, 1), (1417, 1), (1418, 1), (1448, 4), (1456, 1), (1468, 2), (1479, 1), (1481, 5), (1483, 1), (1486, 1), (1496, 1), (1500, 1), (1501, 1), (1505, 1), (1516, 1), (1521, 1), (1522, 1), (1537, 1), (1539, 1), (1546, 1), (1561, 1), (1573, 2), (1584, 1), (1587, 3), (1592, 2), (1600, 1), (1606, 1), (1609, 2), (1635, 4), (1641, 1), (1652, 1), (1658, 1), (1660, 2), (1676, 1), (1680, 1), (1684, 1), (1688, 1), (1693, 1), (1703, 2), (1724, 1), (1725, 1), (1734, 1), (1738, 1), (1748, 1), (1758, 1), (1767, 4), (1768, 1), (1785, 1), (1801, 1), (1812, 1), (1813, 2), (1865, 1), (1922, 1), (1975, 1), (1982, 1), (1983, 1), (1991, 2), (2018, 1), (2022, 1), (2030, 1), (2062, 1), (2064, 1), (2082, 2), (2103, 1), (2140, 1), (2149, 1), (2164, 1), (2167, 1), (2192, 1), (2203, 1), (2266, 1), (2327, 2), (2332, 1), (2344, 1), (2357, 1), (2361, 1), (2369, 1), (2391, 2), (2413, 1), (2425, 1), (2426, 1), (2444, 1), (2448, 1), (2478, 1), (2517, 24), (2523, 1), (2531, 1), (2540, 1), (2542, 1), (2547, 1), (2582, 1), (2597, 1), (2606, 1), (2621, 1), (2629, 1), (2764, 1), (2771, 1), (2819, 1), (2820, 2), (2831, 1), (2847, 1), (2914, 1), (2950, 1), (2969, 1), (3016, 1), (3021, 1), (3042, 1), (3075, 1), (3232, 1), (3267, 3), (3285, 1), (3296, 2), (3301, 2), (3308, 1), (3318, 1), (3326, 2), (3377, 1), (3381, 1), (3396, 1), (3407, 2), (3431, 1), (3493, 1), (3505, 1), (3605, 1), (3665, 1), (3699, 1), (3709, 1), (3714, 1), (3715, 1), (3716, 1), (3717, 1), (3718, 1), (3719, 1), (3720, 1), (3721, 1), (3722, 1), (3723, 1), (3724, 1), (3725, 1), (3726, 2), (3727, 1), (3728, 2), (3729, 1), (3730, 1), (3731, 1), (3732, 1), (3733, 1), (3734, 1), (3735, 1), (3736, 3), (3737, 1), (3738, 1), (3739, 1), (3740, 1), (3741, 1), (3742, 1), (3743, 1), (3744, 2), (3745, 1), (3746, 1), (3747, 1), (3748, 2), (3749, 1), (3750, 2), (3751, 2), (3752, 1), (3753, 1), (3754, 2), (3755, 1), (3756, 3), (3757, 2), (3758, 1), (3759, 1), (3760, 1), (3761, 1), (3762, 1), (3763, 1), (3764, 2), (3765, 1), (3766, 1), (3767, 1), (3768, 1), (3769, 1), (3770, 1), (3771, 1), (3772, 1), (3773, 1), (3774, 2), (3775, 1), (3776, 2), (3777, 1), (3778, 1), (3779, 2), (3780, 2), (3781, 1), (3782, 2), (3783, 1), (3784, 1), (3785, 1), (3786, 1), (3787, 1), (3788, 1), (3789, 1), (3790, 1), (3791, 1), (3792, 1), (3793, 1), (3794, 1)], [(1, 1), (26, 1), (35, 1), (48, 1), (61, 1), (67, 1), (69, 1), (102, 1), (139, 1), (149, 1), (181, 1), (235, 1), (248, 1), (252, 2), (269, 1), (289, 1), (305, 1), (322, 2), (363, 3), (384, 1), (443, 1), (456, 1), (465, 1), (469, 1), (535, 1), (617, 1), (646, 1), (647, 1), (666, 1), (674, 1), (684, 1), (685, 2), (803, 1), (825, 1), (875, 1), (878, 1), (879, 1), (903, 1), (983, 1), (1016, 1), (1030, 1), (1039, 1), (1055, 1), (1064, 1), (1090, 1), (1108, 1), (1161, 1), (1238, 1), (1241, 1), (1244, 1), (1265, 1), (1301, 2), (1306, 1), (1307, 1), (1324, 1), (1335, 6), (1351, 2), (1403, 1), (1415, 1), (1416, 1), (1422, 1), (1517, 2), (1524, 1), (1543, 1), (1577, 1), (1644, 1), (1686, 3), (1716, 1), (1744, 1), (1832, 1), (2096, 1), (2101, 1), (2215, 1), (2321, 1), (2391, 1), (2392, 1), (2448, 2), (2506, 1), (2519, 1), (2527, 1), (2531, 1), (2557, 1), (2692, 1), (2862, 1), (3055, 1), (3133, 1), (3157, 1), (3165, 1), (3315, 1), (3402, 4), (3446, 1), (3795, 1), (3796, 1), (3797, 1), (3798, 1), (3799, 1), (3800, 1), (3801, 1), (3802, 1), (3803, 1), (3804, 1), (3805, 1), (3806, 4), (3807, 1), (3808, 1), (3809, 1), (3810, 1), (3811, 3), (3812, 1), (3813, 1), (3814, 1), (3815, 2), (3816, 1), (3817, 1), (3818, 7), (3819, 1), (3820, 1)], [(0, 1), (20, 1), (53, 1), (54, 1), (68, 1), (87, 1), (97, 1), (99, 1), (120, 1), (139, 1), (144, 3), (169, 1), (181, 4), (190, 1), (200, 1), (206, 1), (229, 1), (247, 1), (250, 1), (252, 3), (256, 1), (269, 2), (277, 1), (283, 1), (295, 2), (322, 2), (326, 1), (329, 6), (351, 2), (354, 1), (360, 2), (363, 1), (369, 1), (385, 1), (387, 3), (399, 3), (415, 2), (416, 5), (417, 1), (422, 9), (438, 3), (440, 5), (445, 1), (450, 1), (455, 1), (457, 1), (458, 1), (476, 5), (484, 1), (488, 1), (493, 1), (498, 1), (503, 3), (504, 1), (510, 1), (514, 1), (515, 3), (523, 1), (526, 1), (527, 1), (528, 1), (529, 1), (532, 1), (535, 9), (538, 2), (539, 1), (556, 1), (568, 1), (574, 1), (576, 1), (585, 1), (590, 1), (613, 1), (614, 1), (628, 3), (629, 1), (633, 7), (646, 1), (652, 5), (662, 1), (666, 1), (679, 1), (680, 1), (688, 5), (707, 1), (723, 6), (750, 4), (752, 1), (753, 1), (768, 1), (773, 1), (783, 1), (803, 1), (828, 1), (833, 1), (834, 2), (835, 1), (848, 1), (855, 1), (860, 1), (868, 2), (869, 1), (886, 1), (908, 2), (914, 1), (920, 1), (926, 1), (927, 1), (947, 2), (948, 1), (960, 1), (963, 1), (965, 3), (971, 1), (992, 3), (1002, 1), (1017, 1), (1023, 1), (1032, 2), (1054, 1), (1081, 1), (1084, 4), (1089, 6), (1092, 1), (1106, 1), (1113, 2), (1133, 3), (1172, 3), (1198, 1), (1252, 1), (1280, 1), (1300, 1), (1306, 1), (1322, 1), (1323, 1), (1330, 1), (1333, 1), (1351, 1), (1361, 1), (1364, 1), (1380, 2), (1386, 2), (1415, 1), (1450, 1), (1461, 1), (1468, 1), (1475, 1), (1486, 2), (1495, 2), (1501, 1), (1517, 1), (1538, 1), (1543, 1), (1566, 1), (1644, 1), (1676, 1), (1694, 1), (1702, 3), (1717, 1), (1722, 2), (1723, 1), (1725, 1), (1763, 1), (1797, 1), (1821, 1), (1839, 1), (1863, 1), (1887, 2), (1944, 1), (1952, 1), (1961, 1), (2031, 1), (2038, 1), (2048, 1), (2086, 1), (2106, 1), (2136, 1), (2163, 1), (2164, 1), (2185, 3), (2203, 2), (2217, 1), (2265, 1), (2273, 3), (2275, 1), (2276, 1), (2300, 1), (2306, 1), (2327, 1), (2372, 2), (2382, 1), (2387, 1), (2403, 1), (2408, 1), (2425, 2), (2438, 1), (2463, 1), (2466, 1), (2492, 3), (2533, 1), (2555, 12), (2573, 1), (2579, 1), (2597, 1), (2601, 2), (2648, 1), (2665, 1), (2713, 2), (2722, 2), (2756, 1), (2771, 1), (2787, 1), (2798, 1), (2837, 1), (2863, 1), (3054, 1), (3300, 1), (3312, 2), (3359, 1), (3400, 1), (3452, 1), (3474, 1), (3500, 1), (3525, 1), (3554, 1), (3606, 2), (3654, 2), (3753, 1), (3767, 1), (3821, 1), (3822, 1), (3823, 1), (3824, 3), (3825, 1), (3826, 1), (3827, 1), (3828, 1), (3829, 1), (3830, 1), (3831, 1), (3832, 1), (3833, 6), (3834, 1), (3835, 2), (3836, 1), (3837, 5), (3838, 1), (3839, 1), (3840, 1), (3841, 1), (3842, 6), (3843, 1), (3844, 1), (3845, 1), (3846, 1), (3847, 1), (3848, 1), (3849, 1), (3850, 2), (3851, 1), (3852, 2), (3853, 3), (3854, 1), (3855, 1), (3856, 1), (3857, 1), (3858, 1), (3859, 1), (3860, 1), (3861, 1), (3862, 1), (3863, 1), (3864, 2), (3865, 1), (3866, 1), (3867, 1), (3868, 1), (3869, 3), (3870, 1), (3871, 1), (3872, 1), (3873, 1), (3874, 1), (3875, 1), (3876, 1), (3877, 1), (3878, 1), (3879, 1), (3880, 1), (3881, 1), (3882, 1), (3883, 1), (3884, 1), (3885, 2), (3886, 1), (3887, 1), (3888, 2), (3889, 1), (3890, 1), (3891, 1), (3892, 1), (3893, 1), (3894, 1), (3895, 2), (3896, 1), (3897, 1), (3898, 1), (3899, 1), (3900, 1), (3901, 1), (3902, 1), (3903, 1), (3904, 1), (3905, 1)], [(1, 1), (3, 1), (36, 1), (48, 2), (50, 1), (53, 1), (54, 2), (61, 1), (62, 1), (134, 1), (155, 1), (169, 2), (172, 1), (180, 1), (181, 3), (185, 2), (201, 2), (216, 1), (217, 1), (224, 1), (226, 1), (229, 1), (231, 1), (243, 1), (249, 2), (252, 1), (257, 1), (260, 1), (263, 1), (271, 1), (313, 1), (326, 3), (340, 1), (341, 1), (345, 2), (346, 2), (347, 2), (351, 3), (355, 2), (361, 1), (363, 1), (364, 1), (369, 5), (389, 1), (393, 1), (399, 1), (420, 1), (421, 1), (422, 1), (424, 1), (425, 2), (430, 2), (440, 3), (457, 1), (463, 1), (465, 1), (469, 2), (481, 1), (491, 3), (492, 1), (498, 1), (500, 1), (502, 1), (503, 1), (505, 1), (515, 2), (522, 3), (535, 5), (539, 2), (546, 1), (547, 1), (559, 1), (560, 2), (579, 1), (585, 1), (614, 1), (617, 1), (630, 1), (633, 1), (635, 1), (640, 1), (646, 4), (652, 3), (654, 2), (655, 1), (659, 2), (664, 1), (670, 1), (679, 1), (681, 1), (682, 1), (685, 3), (722, 1), (758, 1), (759, 1), (763, 1), (764, 1), (782, 1), (815, 1), (817, 1), (856, 2), (894, 2), (901, 2), (903, 2), (921, 1), (945, 1), (947, 1), (952, 1), (990, 3), (1000, 1), (1025, 1), (1039, 1), (1042, 1), (1047, 1), (1075, 1), (1084, 2), (1125, 1), (1137, 1), (1171, 1), (1174, 1), (1197, 1), (1199, 3), (1216, 1), (1237, 1), (1247, 2), (1252, 1), (1290, 3), (1300, 1), (1304, 1), (1306, 1), (1318, 1), (1338, 1), (1356, 1), (1361, 1), (1397, 1), (1448, 1), (1475, 1), (1484, 1), (1486, 1), (1494, 3), (1495, 1), (1517, 1), (1543, 1), (1551, 1), (1577, 3), (1584, 1), (1585, 1), (1589, 1), (1590, 3), (1598, 1), (1608, 1), (1622, 1), (1623, 2), (1628, 1), (1637, 1), (1643, 1), (1658, 1), (1672, 1), (1675, 1), (1715, 1), (1722, 1), (1724, 1), (1725, 2), (1733, 1), (1737, 1), (1792, 1), (1887, 1), (1930, 2), (1952, 1), (1959, 1), (1984, 1), (2010, 1), (2014, 7), (2037, 1), (2048, 1), (2065, 1), (2069, 1), (2077, 1), (2097, 1), (2118, 2), (2128, 1), (2148, 7), (2192, 1), (2194, 1), (2276, 1), (2289, 1), (2306, 1), (2337, 1), (2349, 8), (2359, 1), (2368, 1), (2423, 1), (2425, 1), (2437, 1), (2450, 1), (2454, 1), (2613, 1), (2631, 12), (2650, 1), (2713, 1), (2791, 2), (2798, 1), (2813, 1), (2827, 2), (2838, 1), (2840, 1), (2879, 1), (2890, 2), (3008, 1), (3016, 2), (3020, 1), (3046, 1), (3091, 1), (3169, 1), (3187, 1), (3234, 1), (3246, 1), (3334, 1), (3368, 1), (3449, 1), (3492, 1), (3588, 1), (3621, 1), (3737, 1), (3739, 1), (3773, 2), (3775, 1), (3797, 1), (3906, 1), (3907, 1), (3908, 1), (3909, 1), (3910, 1), (3911, 1), (3912, 1), (3913, 1), (3914, 1), (3915, 3), (3916, 1), (3917, 3), (3918, 1), (3919, 1), (3920, 8), (3921, 1), (3922, 2), (3923, 2), (3924, 1), (3925, 1), (3926, 1), (3927, 1), (3928, 1), (3929, 1), (3930, 2), (3931, 1), (3932, 1), (3933, 1), (3934, 1), (3935, 1), (3936, 1), (3937, 1), (3938, 1), (3939, 4), (3940, 1), (3941, 1), (3942, 1), (3943, 1), (3944, 1), (3945, 1), (3946, 1), (3947, 1), (3948, 1), (3949, 1), (3950, 1), (3951, 1), (3952, 1), (3953, 1), (3954, 2), (3955, 1), (3956, 1), (3957, 1), (3958, 1), (3959, 1), (3960, 1), (3961, 1), (3962, 1), (3963, 1), (3964, 1), (3965, 3), (3966, 1), (3967, 1), (3968, 1), (3969, 1), (3970, 3), (3971, 2), (3972, 1), (3973, 2), (3974, 1), (3975, 1), (3976, 3), (3977, 1), (3978, 1), (3979, 1), (3980, 1), (3981, 1), (3982, 1), (3983, 1), (3984, 1), (3985, 5), (3986, 2), (3987, 1), (3988, 1), (3989, 1), (3990, 1), (3991, 1), (3992, 1), (3993, 1), (3994, 1), (3995, 1), (3996, 1), (3997, 1), (3998, 1), (3999, 1), (4000, 1), (4001, 7), (4002, 1), (4003, 1), (4004, 1), (4005, 2), (4006, 1), (4007, 1), (4008, 1), (4009, 1), (4010, 1), (4011, 1), (4012, 1), (4013, 1), (4014, 4), (4015, 3), (4016, 1), (4017, 1), (4018, 1), (4019, 1), (4020, 1), (4021, 1), (4022, 1), (4023, 1), (4024, 1), (4025, 1), (4026, 1), (4027, 1)], [(0, 1), (9, 1), (20, 1), (25, 1), (32, 1), (35, 1), (36, 1), (39, 1), (50, 1), (53, 1), (54, 1), (61, 1), (66, 1), (71, 1), (85, 1), (87, 2), (90, 1), (102, 1), (103, 2), (109, 2), (120, 2), (122, 3), (132, 1), (142, 1), (164, 1), (166, 1), (169, 1), (181, 2), (194, 1), (206, 1), (210, 1), (217, 1), (224, 2), (249, 2), (259, 1), (271, 1), (279, 1), (299, 1), (303, 1), (309, 1), (329, 1), (334, 1), (338, 1), (346, 1), (351, 1), (353, 2), (359, 2), (363, 2), (369, 1), (384, 1), (389, 1), (400, 2), (403, 1), (414, 2), (415, 1), (421, 1), (422, 3), (440, 1), (455, 4), (462, 1), (469, 1), (476, 2), (481, 1), (493, 1), (495, 1), (519, 1), (527, 1), (535, 3), (539, 2), (545, 1), (547, 1), (585, 1), (613, 1), (635, 1), (636, 2), (639, 1), (644, 1), (646, 2), (662, 4), (681, 1), (685, 1), (686, 1), (688, 3), (693, 1), (694, 1), (695, 1), (701, 1), (707, 1), (720, 1), (742, 1), (750, 1), (753, 1), (770, 1), (773, 1), (784, 1), (797, 1), (798, 1), (800, 1), (801, 1), (803, 2), (808, 1), (809, 1), (836, 1), (869, 1), (878, 3), (879, 1), (880, 1), (882, 5), (884, 10), (891, 1), (894, 1), (895, 1), (900, 2), (903, 2), (910, 6), (911, 1), (917, 1), (918, 1), (927, 2), (930, 1), (931, 1), (944, 1), (945, 1), (947, 2), (948, 2), (952, 1), (961, 1), (978, 1), (980, 3), (981, 1), (983, 1), (987, 2), (995, 1), (1000, 2), (1001, 2), (1003, 1), (1017, 1), (1041, 1), (1043, 3), (1048, 1), (1068, 1), (1073, 1), (1078, 1), (1084, 2), (1091, 3), (1105, 2), (1108, 5), (1112, 1), (1113, 1), (1118, 1), (1119, 3), (1129, 1), (1173, 1), (1178, 1), (1201, 1), (1203, 1), (1205, 1), (1220, 1), (1236, 1), (1237, 1), (1238, 2), (1280, 1), (1315, 1), (1324, 1), (1330, 1), (1338, 1), (1420, 1), (1446, 2), (1450, 1), (1456, 1), (1486, 1), (1495, 1), (1497, 2), (1538, 1), (1577, 1), (1602, 2), (1606, 2), (1623, 2), (1630, 1), (1652, 1), (1656, 1), (1678, 1), (1702, 1), (1706, 1), (1736, 1), (1748, 1), (1779, 1), (1821, 1), (1824, 1), (1842, 1), (1880, 1), (1892, 1), (1895, 2), (1923, 2), (1988, 2), (1991, 1), (2020, 1), (2021, 1), (2082, 1), (2096, 1), (2139, 1), (2158, 1), (2188, 2), (2211, 1), (2212, 1), (2220, 1), (2247, 1), (2269, 1), (2276, 1), (2327, 1), (2334, 1), (2369, 1), (2370, 1), (2415, 1), (2426, 2), (2512, 2), (2526, 1), (2535, 1), (2577, 1), (2597, 1), (2630, 1), (2641, 1), (2647, 1), (2671, 2), (2682, 1), (2689, 1), (2755, 1), (2768, 1), (2783, 1), (2840, 1), (2847, 1), (2863, 1), (2877, 1), (2914, 1), (2990, 1), (2991, 1), (2999, 1), (3029, 1), (3033, 1), (3041, 1), (3060, 1), (3072, 1), (3094, 1), (3175, 1), (3192, 1), (3230, 1), (3233, 1), (3238, 1), (3261, 2), (3267, 1), (3272, 1), (3289, 1), (3361, 1), (3362, 1), (3480, 1), (3495, 1), (3661, 1), (3680, 1), (3688, 2), (3692, 1), (3778, 1), (3805, 1), (3810, 1), (3820, 1), (3894, 1), (3910, 1), (3943, 1), (4028, 1), (4029, 1), (4030, 1), (4031, 1), (4032, 1), (4033, 1), (4034, 1), (4035, 1), (4036, 2), (4037, 1), (4038, 1), (4039, 1), (4040, 1), (4041, 1), (4042, 1), (4043, 1), (4044, 1), (4045, 1), (4046, 1), (4047, 1), (4048, 1), (4049, 1), (4050, 1), (4051, 1), (4052, 1), (4053, 1), (4054, 1), (4055, 1), (4056, 3), (4057, 1), (4058, 1), (4059, 1), (4060, 1), (4061, 1), (4062, 2), (4063, 1), (4064, 1), (4065, 1), (4066, 1), (4067, 1), (4068, 1), (4069, 1), (4070, 1), (4071, 1), (4072, 1), (4073, 1), (4074, 2), (4075, 1), (4076, 1), (4077, 1), (4078, 1), (4079, 1), (4080, 1), (4081, 1), (4082, 1), (4083, 1), (4084, 1), (4085, 1), (4086, 1), (4087, 1), (4088, 1), (4089, 1), (4090, 1), (4091, 1), (4092, 1), (4093, 1), (4094, 1), (4095, 1), (4096, 1), (4097, 1), (4098, 1), (4099, 1)], [(23, 1), (26, 1), (32, 1), (39, 1), (41, 1), (52, 1), (54, 1), (56, 1), (69, 2), (71, 1), (72, 1), (76, 1), (80, 1), (82, 1), (85, 1), (87, 2), (91, 1), (93, 1), (99, 1), (102, 1), (122, 1), (125, 1), (136, 1), (145, 1), (149, 1), (163, 1), (169, 1), (182, 1), (185, 1), (187, 1), (201, 1), (206, 1), (217, 1), (223, 1), (224, 1), (226, 1), (228, 2), (235, 1), (241, 1), (247, 1), (249, 2), (252, 8), (257, 2), (260, 1), (261, 1), (269, 1), (271, 1), (277, 3), (288, 3), (295, 1), (299, 3), (300, 1), (303, 2), (310, 1), (322, 1), (338, 1), (340, 1), (347, 1), (349, 1), (350, 1), (351, 1), (352, 1), (359, 4), (363, 1), (364, 1), (369, 2), (376, 1), (385, 1), (387, 3), (393, 1), (399, 2), (409, 1), (415, 8), (416, 6), (417, 2), (420, 1), (421, 1), (440, 5), (505, 1), (514, 1), (535, 4), (544, 1), (545, 1), (556, 6), (575, 1), (593, 2), (614, 1), (628, 2), (631, 1), (633, 3), (636, 2), (640, 2), (646, 3), (654, 1), (655, 1), (662, 1), (664, 1), (666, 1), (669, 1), (673, 1), (674, 1), (685, 2), (686, 1), (693, 2), (702, 1), (713, 2), (722, 1), (723, 1), (746, 2), (747, 3), (750, 1), (759, 1), (765, 1), (780, 3), (788, 1), (808, 1), (829, 1), (849, 1), (851, 1), (852, 1), (853, 1), (857, 1), (860, 3), (894, 1), (900, 1), (910, 1), (914, 1), (924, 1), (934, 1), (963, 1), (1006, 1), (1019, 2), (1025, 4), (1030, 1), (1032, 3), (1041, 2), (1101, 1), (1120, 1), (1123, 1), (1126, 1), (1127, 1), (1155, 1), (1184, 1), (1238, 2), (1246, 1), (1261, 1), (1263, 1), (1288, 1), (1306, 2), (1320, 1), (1322, 1), (1324, 1), (1327, 1), (1328, 1), (1341, 1), (1346, 1), (1351, 1), (1360, 1), (1363, 1), (1369, 6), (1371, 1), (1381, 1), (1387, 1), (1395, 1), (1397, 1), (1402, 2), (1417, 1), (1422, 1), (1440, 1), (1448, 1), (1451, 1), (1454, 1), (1463, 1), (1466, 1), (1473, 1), (1478, 3), (1486, 1), (1494, 1), (1496, 1), (1502, 1), (1506, 4), (1509, 1), (1533, 1), (1543, 1), (1546, 1), (1551, 6), (1568, 1), (1584, 1), (1620, 1), (1623, 1), (1626, 1), (1627, 1), (1641, 6), (1644, 1), (1649, 1), (1677, 1), (1680, 1), (1682, 2), (1683, 1), (1684, 1), (1718, 1), (1727, 1), (1758, 1), (1787, 2), (1791, 5), (1792, 1), (1803, 1), (1835, 1), (1863, 1), (1880, 5), (1883, 1), (1926, 1), (1936, 1), (1959, 1), (2012, 1), (2018, 1), (2019, 1), (2044, 3), (2048, 1), (2057, 1), (2064, 1), (2065, 1), (2087, 1), (2097, 1), (2101, 1), (2113, 1), (2125, 2), (2143, 1), (2171, 1), (2194, 1), (2203, 1), (2218, 1), (2223, 1), (2233, 1), (2257, 1), (2269, 1), (2277, 1), (2281, 1), (2318, 1), (2327, 1), (2345, 6), (2358, 1), (2419, 1), (2449, 1), (2450, 1), (2509, 1), (2540, 2), (2545, 1), (2574, 1), (2630, 2), (2670, 1), (2731, 1), (2744, 1), (2754, 1), (2766, 2), (2792, 3), (2793, 1), (2796, 1), (2814, 1), (2815, 1), (2829, 1), (2844, 1), (2847, 1), (2854, 1), (3077, 1), (3134, 1), (3190, 1), (3237, 1), (3272, 1), (3315, 1), (3373, 1), (3415, 1), (3429, 6), (3525, 1), (3554, 1), (3588, 1), (3594, 1), (3712, 1), (3714, 2), (3758, 1), (3800, 1), (3805, 1), (3815, 1), (3847, 1), (3867, 1), (3871, 1), (3878, 1), (3983, 1), (4077, 1), (4100, 1), (4101, 1), (4102, 1), (4103, 1), (4104, 2), (4105, 1), (4106, 1), (4107, 1), (4108, 1), (4109, 1), (4110, 1), (4111, 1), (4112, 1), (4113, 5), (4114, 1), (4115, 1), (4116, 1), (4117, 1), (4118, 1), (4119, 1), (4120, 2), (4121, 1), (4122, 2), (4123, 1), (4124, 1), (4125, 1), (4126, 1), (4127, 1), (4128, 2), (4129, 1), (4130, 1), (4131, 1), (4132, 1), (4133, 3), (4134, 3), (4135, 1), (4136, 1), (4137, 3), (4138, 1), (4139, 1), (4140, 1), (4141, 1), (4142, 1), (4143, 1), (4144, 1), (4145, 1), (4146, 1), (4147, 1), (4148, 1), (4149, 2), (4150, 1), (4151, 1), (4152, 1), (4153, 1), (4154, 1), (4155, 1), (4156, 1), (4157, 1), (4158, 1), (4159, 1), (4160, 1), (4161, 1), (4162, 1), (4163, 1), (4164, 1), (4165, 1), (4166, 1), (4167, 7), (4168, 1), (4169, 1), (4170, 1), (4171, 1), (4172, 2), (4173, 1), (4174, 1), (4175, 1), (4176, 1), (4177, 1), (4178, 1), (4179, 1), (4180, 1), (4181, 1), (4182, 1), (4183, 1), (4184, 18), (4185, 6), (4186, 1), (4187, 1), (4188, 1), (4189, 1), (4190, 1), (4191, 1), (4192, 3), (4193, 1), (4194, 3), (4195, 1), (4196, 1), (4197, 1), (4198, 1), (4199, 1), (4200, 1), (4201, 1), (4202, 1), (4203, 1), (4204, 1), (4205, 1), (4206, 1), (4207, 1), (4208, 1), (4209, 1), (4210, 2), (4211, 1), (4212, 1), (4213, 1), (4214, 2), (4215, 1), (4216, 1), (4217, 1), (4218, 1), (4219, 1)], [(54, 2), (68, 4), (92, 1), (139, 3), (155, 1), (164, 1), (193, 1), (219, 1), (252, 1), (288, 1), (298, 1), (349, 1), (351, 4), (357, 5), (363, 1), (387, 1), (399, 2), (409, 1), (415, 1), (416, 4), (422, 1), (438, 1), (445, 1), (450, 1), (476, 1), (477, 1), (523, 1), (535, 2), (539, 1), (551, 1), (616, 1), (628, 1), (654, 1), (669, 1), (673, 1), (681, 1), (685, 3), (750, 1), (780, 1), (895, 1), (908, 1), (930, 1), (955, 1), (963, 1), (1016, 2), (1024, 1), (1081, 1), (1127, 1), (1185, 1), (1249, 1), (1306, 2), (1322, 1), (1343, 1), (1361, 1), (1363, 1), (1380, 9), (1415, 5), (1446, 1), (1457, 1), (1475, 3), (1571, 2), (1577, 1), (1589, 1), (1609, 1), (1682, 1), (1688, 1), (1727, 1), (1813, 10), (1847, 1), (1959, 3), (1973, 1), (2009, 2), (2011, 1), (2040, 1), (2096, 11), (2182, 1), (2269, 1), (2425, 3), (2491, 1), (2540, 1), (2787, 1), (2910, 2), (2915, 2), (2960, 2), (3055, 1), (3068, 1), (3470, 1), (3525, 1), (3805, 2), (3953, 1), (3971, 1), (4072, 1), (4183, 1), (4220, 1), (4221, 1), (4222, 1), (4223, 1), (4224, 4), (4225, 1), (4226, 1), (4227, 2), (4228, 1), (4229, 2), (4230, 1), (4231, 1), (4232, 1), (4233, 1), (4234, 1), (4235, 1), (4236, 1), (4237, 1), (4238, 1), (4239, 1), (4240, 2), (4241, 1), (4242, 1), (4243, 1), (4244, 1), (4245, 1), (4246, 1), (4247, 1), (4248, 1), (4249, 1), (4250, 1), (4251, 1)], [(53, 1), (54, 2), (57, 1), (61, 1), (64, 1), (76, 1), (82, 1), (85, 1), (92, 2), (94, 1), (97, 1), (101, 2), (122, 4), (125, 1), (132, 1), (133, 1), (135, 2), (139, 1), (143, 1), (149, 1), (164, 1), (169, 2), (171, 1), (181, 1), (182, 1), (193, 1), (204, 1), (206, 1), (209, 1), (223, 1), (224, 3), (227, 1), (238, 1), (250, 1), (252, 2), (256, 1), (257, 1), (259, 2), (261, 1), (277, 3), (283, 1), (288, 1), (294, 1), (308, 1), (310, 2), (322, 2), (326, 1), (338, 1), (350, 1), (351, 2), (352, 1), (354, 1), (355, 1), (358, 1), (363, 1), (385, 1), (387, 1), (391, 1), (393, 2), (395, 1), (399, 1), (409, 1), (415, 24), (417, 2), (420, 1), (422, 4), (431, 1), (438, 4), (440, 2), (443, 2), (476, 10), (492, 1), (493, 1), (500, 1), (503, 1), (518, 1), (519, 4), (527, 1), (535, 6), (546, 1), (547, 1), (551, 1), (555, 2), (556, 1), (558, 1), (562, 1), (576, 1), (587, 2), (589, 1), (590, 1), (593, 2), (594, 1), (596, 3), (599, 1), (613, 1), (614, 2), (624, 10), (631, 1), (633, 3), (636, 1), (640, 3), (646, 1), (659, 1), (661, 1), (663, 2), (664, 1), (666, 3), (673, 2), (678, 1), (681, 2), (685, 3), (686, 2), (688, 1), (693, 1), (704, 1), (705, 1), (708, 1), (722, 1), (730, 3), (746, 2), (749, 1), (750, 2), (773, 1), (798, 1), (801, 6), (803, 2), (815, 1), (834, 1), (844, 8), (853, 1), (856, 1), (888, 6), (891, 6), (894, 2), (917, 1), (920, 2), (927, 1), (930, 1), (931, 1), (936, 1), (938, 1), (944, 1), (945, 1), (949, 1), (959, 2), (1001, 1), (1017, 1), (1025, 1), (1057, 2), (1073, 2), (1074, 1), (1084, 6), (1087, 1), (1088, 1), (1091, 4), (1092, 3), (1101, 1), (1105, 20), (1125, 1), (1126, 1), (1133, 2), (1138, 1), (1158, 1), (1159, 1), (1173, 1), (1205, 1), (1208, 1), (1218, 1), (1236, 1), (1242, 1), (1246, 1), (1247, 5), (1249, 1), (1266, 1), (1273, 1), (1288, 2), (1292, 1), (1299, 1), (1304, 1), (1306, 1), (1333, 7), (1337, 1), (1356, 1), (1357, 1), (1360, 2), (1409, 1), (1429, 1), (1438, 1), (1451, 1), (1481, 1), (1489, 17), (1495, 3), (1499, 1), (1513, 1), (1522, 1), (1530, 3), (1566, 1), (1577, 1), (1584, 3), (1585, 2), (1591, 1), (1600, 1), (1611, 2), (1633, 1), (1658, 1), (1684, 1), (1693, 1), (1715, 1), (1722, 1), (1747, 5), (1748, 1), (1755, 1), (1760, 1), (1763, 1), (1785, 2), (1796, 1), (1809, 1), (1813, 1), (1814, 1), (1821, 1), (1824, 1), (1843, 2), (1850, 1), (1864, 1), (1895, 2), (1924, 1), (1927, 2), (1936, 1), (1951, 1), (1952, 2), (1955, 1), (1977, 1), (1991, 5), (1999, 1), (2008, 1), (2010, 1), (2027, 1), (2038, 2), (2063, 2), (2068, 1), (2077, 2), (2107, 1), (2117, 1), (2163, 1), (2196, 1), (2210, 1), (2233, 1), (2236, 1), (2242, 1), (2257, 1), (2271, 1), (2275, 1), (2282, 1), (2284, 1), (2300, 1), (2307, 2), (2315, 12), (2327, 1), (2337, 2), (2354, 1), (2373, 2), (2376, 1), (2392, 1), (2400, 1), (2407, 1), (2438, 1), (2491, 1), (2498, 1), (2524, 1), (2533, 1), (2547, 1), (2560, 2), (2596, 1), (2604, 2), (2621, 1), (2631, 3), (2685, 1), (2711, 1), (2718, 1), (2734, 1), (2777, 1), (2827, 2), (2829, 1), (2840, 1), (2842, 1), (2869, 1), (2892, 1), (2900, 1), (2913, 1), (2944, 1), (2964, 1), (2977, 1), (2989, 1), (3013, 5), (3022, 1), (3049, 1), (3067, 1), (3069, 1), (3094, 1), (3106, 1), (3127, 2), (3133, 1), (3211, 2), (3213, 1), (3227, 2), (3252, 1), (3261, 1), (3267, 1), (3270, 1), (3294, 3), (3295, 1), (3297, 1), (3358, 1), (3390, 3), (3486, 1), (3556, 1), (3707, 1), (3758, 1), (3760, 1), (3770, 1), (3918, 1), (4010, 1), (4110, 1), (4231, 1), (4252, 1), (4253, 1), (4254, 6), (4255, 1), (4256, 2), (4257, 1), (4258, 1), (4259, 1), (4260, 4), (4261, 1), (4262, 1), (4263, 1), (4264, 2), (4265, 1), (4266, 1), (4267, 1), (4268, 1), (4269, 1), (4270, 1), (4271, 1), (4272, 1), (4273, 1), (4274, 1), (4275, 1), (4276, 1), (4277, 1), (4278, 1), (4279, 1), (4280, 1), (4281, 1), (4282, 1), (4283, 1), (4284, 2), (4285, 2), (4286, 7), (4287, 1), (4288, 1), (4289, 1), (4290, 22), (4291, 2), (4292, 1), (4293, 1), (4294, 1), (4295, 2), (4296, 1), (4297, 1), (4298, 2), (4299, 1), (4300, 1), (4301, 1), (4302, 1), (4303, 1), (4304, 2), (4305, 1), (4306, 1), (4307, 2), (4308, 1), (4309, 1), (4310, 1), (4311, 1), (4312, 1), (4313, 1), (4314, 1), (4315, 1), (4316, 1), (4317, 1), (4318, 1), (4319, 1), (4320, 1), (4321, 1), (4322, 1), (4323, 1), (4324, 1), (4325, 1), (4326, 1), (4327, 1), (4328, 1), (4329, 1), (4330, 1), (4331, 1), (4332, 1), (4333, 1)], [(3, 1), (8, 1), (9, 1), (12, 1), (37, 1), (39, 3), (40, 1), (50, 1), (53, 1), (54, 4), (55, 2), (57, 1), (60, 2), (61, 4), (80, 4), (85, 3), (87, 3), (91, 1), (92, 1), (97, 2), (101, 1), (102, 1), (103, 2), (113, 1), (122, 4), (125, 5), (132, 2), (133, 1), (136, 4), (139, 1), (147, 1), (149, 1), (155, 7), (164, 1), (169, 1), (170, 1), (181, 2), (190, 2), (193, 6), (200, 2), (206, 1), (211, 1), (216, 2), (217, 4), (222, 1), (224, 4), (227, 2), (230, 1), (238, 1), (239, 1), (241, 1), (247, 2), (249, 1), (250, 1), (252, 10), (259, 1), (260, 1), (261, 1), (263, 1), (271, 2), (273, 2), (277, 8), (279, 3), (283, 2), (289, 1), (294, 9), (298, 1), (303, 2), (309, 1), (312, 1), (322, 1), (327, 1), (331, 1), (338, 1), (345, 1), (346, 5), (350, 2), (351, 1), (352, 2), (357, 1), (358, 1), (359, 2), (361, 1), (363, 4), (364, 1), (369, 5), (376, 2), (382, 3), (384, 6), (387, 3), (391, 1), (399, 3), (405, 1), (409, 2), (414, 2), (415, 1), (417, 3), (420, 1), (421, 6), (422, 5), (426, 1), (437, 1), (440, 8), (450, 4), (455, 8), (458, 2), (473, 1), (477, 1), (478, 2), (481, 1), (482, 1), (484, 1), (495, 1), (497, 1), (500, 1), (501, 1), (502, 1), (503, 6), (504, 1), (519, 2), (523, 1), (526, 1), (527, 4), (535, 10), (538, 7), (539, 4), (545, 8), (547, 5), (550, 2), (556, 25), (558, 1), (563, 1), (575, 2), (585, 4), (586, 1), (590, 3), (593, 1), (594, 1), (601, 2), (602, 2), (605, 2), (614, 2), (619, 1), (620, 2), (628, 4), (629, 2), (630, 4), (631, 1), (633, 7), (634, 2), (636, 1), (640, 1), (644, 3), (646, 5), (652, 1), (654, 2), (659, 2), (662, 6), (664, 7), (665, 1), (666, 2), (669, 1), (670, 4), (673, 4), (674, 1), (677, 1), (679, 1), (680, 2), (681, 4), (683, 1), (685, 7), (688, 4), (697, 1), (702, 1), (707, 2), (719, 1), (725, 2), (729, 1), (746, 1), (751, 1), (759, 5), (760, 3), (765, 2), (780, 1), (783, 2), (787, 1), (788, 2), (797, 12), (801, 4), (806, 2), (815, 2), (821, 1), (825, 1), (830, 1), (833, 2), (842, 1), (853, 2), (856, 1), (857, 5), (869, 3), (871, 3), (876, 2), (878, 1), (887, 17), (891, 6), (897, 1), (906, 1), (927, 5), (930, 3), (931, 1), (934, 1), (938, 1), (945, 2), (955, 1), (956, 1), (962, 3), (966, 2), (999, 1), (1013, 1), (1019, 2), (1025, 5), (1030, 2), (1031, 1), (1032, 4), (1041, 5), (1069, 1), (1084, 3), (1086, 7), (1100, 8), (1108, 1), (1109, 1), (1112, 3), (1114, 1), (1120, 1), (1125, 1), (1126, 1), (1131, 1), (1136, 1), (1139, 1), (1140, 1), (1142, 1), (1159, 4), (1168, 1), (1169, 1), (1171, 4), (1172, 1), (1175, 1), (1176, 1), (1198, 1), (1200, 1), (1210, 1), (1216, 2), (1218, 1), (1223, 1), (1225, 1), (1233, 1), (1236, 1), (1237, 1), (1238, 1), (1239, 1), (1249, 1), (1259, 1), (1261, 1), (1265, 1), (1280, 1), (1281, 1), (1283, 5), (1290, 1), (1293, 1), (1295, 1), (1304, 2), (1306, 3), (1316, 1), (1318, 2), (1320, 2), (1323, 1), (1333, 3), (1343, 1), (1344, 2), (1351, 1), (1355, 1), (1363, 1), (1367, 1), (1377, 1), (1378, 1), (1388, 3), (1396, 1), (1402, 4), (1404, 2), (1407, 1), (1417, 1), (1419, 1), (1421, 2), (1422, 1), (1435, 1), (1440, 1), (1446, 2), (1448, 2), (1450, 5), (1451, 1), (1455, 1), (1456, 2), (1461, 1), (1467, 9), (1468, 3), (1478, 1), (1489, 1), (1494, 2), (1496, 4), (1506, 14), (1507, 1), (1517, 5), (1522, 1), (1533, 1), (1536, 1), (1539, 1), (1541, 1), (1551, 3), (1555, 1), (1560, 7), (1562, 2), (1573, 3), (1579, 3), (1580, 1), (1585, 1), (1586, 1), (1594, 1), (1598, 1), (1602, 2), (1604, 2), (1606, 1), (1616, 11), (1621, 1), (1628, 1), (1637, 2), (1648, 1), (1655, 1), (1673, 1), (1680, 1), (1715, 3), (1717, 1), (1718, 1), (1727, 1), (1748, 1), (1760, 1), (1773, 7), (1784, 2), (1787, 1), (1791, 3), (1797, 4), (1826, 2), (1878, 1), (1886, 1), (1889, 4), (1893, 1), (1894, 2), (1908, 1), (1974, 1), (1976, 1), (2003, 1), (2009, 2), (2021, 1), (2065, 1), (2071, 1), (2078, 1), (2082, 1), (2084, 1), (2090, 3), (2091, 1), (2093, 1), (2096, 1), (2105, 1), (2116, 5), (2120, 1), (2125, 6), (2133, 2), (2148, 1), (2163, 1), (2170, 1), (2179, 1), (2183, 1), (2185, 1), (2205, 1), (2276, 1), (2282, 2), (2289, 2), (2300, 1), (2327, 1), (2337, 1), (2390, 1), (2392, 1), (2428, 1), (2433, 1), (2448, 4), (2462, 1), (2488, 1), (2494, 9), (2545, 1), (2555, 3), (2573, 1), (2578, 2), (2586, 1), (2602, 1), (2607, 1), (2613, 1), (2618, 1), (2621, 1), (2671, 1), (2676, 3), (2682, 1), (2689, 6), (2721, 2), (2722, 1), (2764, 2), (2766, 3), (2770, 1), (2791, 1), (2798, 1), (2812, 1), (2813, 2), (2816, 1), (2820, 4), (2840, 1), (2850, 1), (2854, 3), (2908, 1), (2944, 1), (2948, 1), (2950, 1), (2952, 3), (2973, 1), (2983, 1), (2986, 2), (2989, 2), (3060, 1), (3086, 1), (3087, 1), (3111, 1), (3133, 1), (3162, 6), (3180, 1), (3201, 1), (3232, 2), (3249, 2), (3272, 1), (3277, 1), (3280, 1), (3314, 1), (3322, 1), (3492, 1), (3502, 1), (3606, 1), (3612, 1), (3622, 1), (3652, 1), (3687, 8), (3712, 1), (3759, 1), (3773, 3), (3794, 1), (3825, 1), (3856, 1), (3878, 1), (3894, 1), (3906, 1), (3909, 1), (3934, 1), (3981, 2), (4046, 1), (4072, 1), (4083, 1), (4084, 4), (4138, 1), (4154, 1), (4156, 1), (4197, 1), (4221, 2), (4228, 6), (4286, 1), (4331, 1), (4334, 1), (4335, 1), (4336, 1), (4337, 1), (4338, 1), (4339, 1), (4340, 1), (4341, 1), (4342, 1), (4343, 1), (4344, 1), (4345, 4), (4346, 4), (4347, 1), (4348, 2), (4349, 1), (4350, 1), (4351, 18), (4352, 1), (4353, 1), (4354, 2), (4355, 2), (4356, 1), (4357, 1), (4358, 1), (4359, 1), (4360, 1), (4361, 1), (4362, 3), (4363, 1), (4364, 1), (4365, 3), (4366, 2), (4367, 13), (4368, 4), (4369, 3), (4370, 1), (4371, 1), (4372, 1), (4373, 1), (4374, 1), (4375, 1), (4376, 1), (4377, 1), (4378, 1), (4379, 1), (4380, 1), (4381, 2), (4382, 1), (4383, 1), (4384, 1), (4385, 1), (4386, 1), (4387, 1), (4388, 1), (4389, 3), (4390, 1), (4391, 1), (4392, 6), (4393, 2), (4394, 3), (4395, 1), (4396, 1), (4397, 1), (4398, 1), (4399, 1), (4400, 1), (4401, 1), (4402, 1), (4403, 1), (4404, 1), (4405, 4), (4406, 1), (4407, 1), (4408, 1), (4409, 1), (4410, 1), (4411, 1), (4412, 2), (4413, 1), (4414, 1), (4415, 1), (4416, 1), (4417, 1), (4418, 1), (4419, 1), (4420, 1), (4421, 5), (4422, 1), (4423, 1), (4424, 2), (4425, 10), (4426, 1), (4427, 1), (4428, 2), (4429, 1), (4430, 1), (4431, 1), (4432, 1), (4433, 4), (4434, 2), (4435, 1), (4436, 3), (4437, 1), (4438, 2), (4439, 1), (4440, 1), (4441, 1), (4442, 1), (4443, 1), (4444, 1), (4445, 1), (4446, 1), (4447, 1), (4448, 1), (4449, 1), (4450, 1), (4451, 1), (4452, 1), (4453, 1), (4454, 1), (4455, 2), (4456, 1), (4457, 2), (4458, 1), (4459, 1), (4460, 1), (4461, 1), (4462, 2), (4463, 2), (4464, 2), (4465, 1), (4466, 1), (4467, 1), (4468, 3), (4469, 1), (4470, 1), (4471, 2), (4472, 3), (4473, 9), (4474, 1), (4475, 1), (4476, 1), (4477, 1), (4478, 2), (4479, 1), (4480, 1), (4481, 1), (4482, 1), (4483, 3), (4484, 2), (4485, 7), (4486, 1), (4487, 1), (4488, 1), (4489, 1), (4490, 1), (4491, 2), (4492, 1), (4493, 12), (4494, 2), (4495, 1), (4496, 1), (4497, 1), (4498, 1), (4499, 1), (4500, 1), (4501, 1), (4502, 1), (4503, 1), (4504, 1), (4505, 1), (4506, 1), (4507, 1), (4508, 1), (4509, 1), (4510, 1), (4511, 1), (4512, 1), (4513, 1), (4514, 1), (4515, 1), (4516, 1), (4517, 1), (4518, 1), (4519, 1), (4520, 1), (4521, 1), (4522, 2), (4523, 1), (4524, 4), (4525, 1), (4526, 1), (4527, 2), (4528, 1), (4529, 1), (4530, 1), (4531, 4), (4532, 4)], [(27, 1), (36, 1), (48, 1), (64, 1), (76, 1), (87, 2), (90, 1), (92, 1), (94, 1), (101, 2), (102, 1), (122, 2), (132, 1), (134, 1), (141, 2), (145, 2), (163, 1), (181, 1), (217, 1), (226, 1), (239, 1), (240, 2), (250, 1), (273, 1), (277, 1), (283, 1), (291, 1), (293, 1), (299, 1), (303, 1), (306, 2), (310, 2), (325, 1), (351, 2), (354, 1), (355, 2), (363, 3), (369, 1), (374, 2), (384, 4), (387, 1), (395, 1), (409, 1), (415, 11), (417, 2), (420, 1), (430, 2), (440, 1), (455, 2), (465, 2), (476, 1), (495, 1), (506, 1), (526, 1), (535, 3), (546, 3), (558, 1), (560, 1), (590, 2), (601, 1), (614, 1), (628, 1), (629, 2), (633, 1), (635, 1), (636, 1), (640, 2), (652, 1), (663, 1), (664, 1), (666, 1), (677, 1), (681, 2), (685, 4), (686, 1), (749, 1), (760, 1), (765, 1), (782, 1), (798, 1), (803, 2), (808, 2), (825, 1), (851, 1), (857, 1), (870, 2), (872, 1), (888, 1), (917, 1), (920, 1), (927, 2), (936, 1), (944, 2), (955, 1), (981, 1), (999, 1), (1026, 3), (1028, 1), (1030, 3), (1039, 1), (1047, 2), (1048, 1), (1060, 12), (1084, 2), (1092, 1), (1105, 12), (1106, 1), (1115, 2), (1156, 1), (1158, 1), (1176, 1), (1194, 2), (1232, 1), (1237, 1), (1238, 1), (1263, 8), (1280, 1), (1281, 1), (1320, 1), (1323, 1), (1347, 1), (1360, 1), (1363, 1), (1421, 1), (1448, 1), (1450, 1), (1483, 1), (1518, 1), (1521, 1), (1522, 1), (1562, 1), (1573, 1), (1580, 1), (1587, 2), (1598, 1), (1609, 3), (1610, 1), (1643, 3), (1651, 1), (1652, 1), (1658, 2), (1695, 1), (1703, 1), (1708, 1), (1714, 1), (1717, 1), (1718, 1), (1747, 2), (1748, 1), (1749, 2), (1755, 2), (1757, 1), (1764, 1), (1772, 1), (1790, 1), (1804, 1), (1808, 1), (1886, 1), (1895, 1), (1992, 1), (2011, 1), (2020, 1), (2025, 1), (2122, 1), (2157, 1), (2185, 1), (2192, 2), (2194, 1), (2200, 1), (2202, 1), (2271, 1), (2307, 2), (2321, 1), (2367, 1), (2392, 1), (2408, 1), (2428, 1), (2448, 2), (2454, 1), (2472, 1), (2575, 1), (2689, 1), (2698, 1), (2708, 1), (2738, 1), (2782, 1), (2843, 1), (2855, 1), (2862, 2), (2869, 1), (3173, 1), (3180, 1), (3414, 1), (3622, 1), (3706, 1), (3757, 1), (3759, 1), (3800, 1), (4267, 2), (4413, 1), (4429, 1), (4501, 1), (4533, 2), (4534, 1), (4535, 1), (4536, 1), (4537, 1), (4538, 1), (4539, 1), (4540, 1), (4541, 1), (4542, 1), (4543, 1), (4544, 1), (4545, 1), (4546, 1), (4547, 1), (4548, 1), (4549, 1), (4550, 1), (4551, 1), (4552, 1), (4553, 1), (4554, 1), (4555, 1), (4556, 1), (4557, 1), (4558, 1), (4559, 1), (4560, 1), (4561, 1), (4562, 1), (4563, 1), (4564, 1), (4565, 1), (4566, 1), (4567, 1)], [(25, 1), (32, 1), (37, 3), (40, 1), (41, 2), (52, 1), (54, 1), (83, 1), (99, 1), (102, 1), (103, 1), (122, 1), (152, 1), (155, 1), (169, 1), (170, 1), (181, 1), (204, 2), (206, 1), (209, 1), (249, 1), (252, 2), (271, 1), (288, 1), (292, 1), (305, 2), (310, 1), (322, 1), (351, 2), (358, 1), (378, 2), (383, 1), (391, 1), (409, 1), (415, 9), (417, 1), (420, 2), (422, 9), (438, 1), (440, 2), (452, 1), (456, 3), (458, 1), (476, 2), (499, 3), (500, 2), (505, 1), (506, 1), (519, 1), (535, 13), (552, 1), (553, 1), (560, 1), (576, 2), (580, 1), (587, 1), (614, 2), (623, 1), (631, 2), (633, 2), (636, 1), (647, 1), (654, 1), (658, 1), (664, 1), (666, 1), (669, 1), (680, 1), (681, 8), (683, 1), (685, 9), (693, 3), (725, 1), (727, 1), (743, 3), (751, 1), (752, 1), (764, 1), (768, 1), (783, 1), (787, 2), (788, 2), (801, 1), (802, 1), (803, 5), (817, 2), (833, 1), (841, 1), (878, 1), (880, 1), (882, 2), (897, 1), (903, 6), (908, 1), (930, 3), (934, 1), (936, 4), (937, 1), (955, 1), (965, 1), (983, 1), (988, 2), (1028, 1), (1048, 1), (1060, 2), (1074, 2), (1076, 1), (1084, 14), (1088, 1), (1090, 1), (1095, 24), (1103, 1), (1114, 1), (1156, 1), (1158, 1), (1245, 1), (1280, 1), (1284, 1), (1291, 1), (1293, 2), (1306, 1), (1330, 2), (1340, 1), (1356, 2), (1363, 1), (1367, 2), (1448, 1), (1450, 2), (1482, 1), (1483, 1), (1518, 1), (1520, 1), (1521, 5), (1546, 1), (1571, 1), (1598, 1), (1609, 1), (1644, 1), (1673, 2), (1675, 1), (1684, 1), (1695, 1), (1747, 1), (1755, 1), (1878, 1), (1890, 1), (2040, 1), (2064, 2), (2099, 1), (2133, 1), (2136, 1), (2155, 1), (2177, 2), (2202, 1), (2289, 6), (2300, 1), (2307, 2), (2327, 1), (2350, 1), (2357, 1), (2376, 4), (2398, 1), (2449, 1), (2474, 1), (2541, 3), (2546, 1), (2558, 2), (2618, 1), (2667, 1), (2668, 1), (2713, 6), (2721, 1), (2759, 1), (2768, 3), (2789, 1), (2989, 1), (3021, 1), (3049, 2), (3069, 4), (3110, 1), (3170, 3), (3279, 2), (3315, 1), (3376, 1), (3379, 3), (3471, 6), (3518, 1), (3606, 3), (3622, 1), (3698, 1), (3771, 1), (3815, 5), (3877, 2), (3894, 1), (3927, 1), (3987, 1), (4104, 1), (4216, 2), (4223, 1), (4252, 1), (4335, 1), (4424, 1), (4470, 1), (4568, 1), (4569, 2), (4570, 1), (4571, 1), (4572, 1), (4573, 1), (4574, 1), (4575, 1), (4576, 1), (4577, 4), (4578, 8), (4579, 1), (4580, 1), (4581, 3), (4582, 1), (4583, 1), (4584, 2), (4585, 1), (4586, 1), (4587, 6), (4588, 1), (4589, 1), (4590, 1), (4591, 1), (4592, 8), (4593, 1), (4594, 1), (4595, 1), (4596, 1), (4597, 1), (4598, 1), (4599, 1), (4600, 2), (4601, 1), (4602, 2), (4603, 1), (4604, 2), (4605, 1), (4606, 2), (4607, 1), (4608, 1), (4609, 1), (4610, 1), (4611, 2)], [(0, 1), (3, 1), (36, 3), (39, 3), (40, 1), (50, 6), (54, 3), (57, 2), (77, 2), (85, 1), (91, 1), (92, 2), (122, 1), (142, 1), (152, 1), (169, 4), (178, 2), (179, 1), (181, 2), (184, 1), (190, 2), (193, 1), (194, 1), (199, 1), (203, 5), (206, 1), (217, 5), (224, 3), (226, 1), (231, 1), (235, 1), (241, 4), (248, 1), (252, 1), (271, 2), (273, 1), (277, 1), (288, 2), (290, 1), (295, 1), (303, 1), (307, 2), (322, 2), (327, 2), (340, 1), (346, 1), (351, 2), (353, 1), (354, 3), (358, 1), (359, 1), (363, 2), (371, 1), (374, 1), (378, 1), (383, 1), (384, 5), (385, 2), (387, 1), (392, 1), (393, 4), (409, 3), (415, 2), (416, 9), (421, 2), (422, 1), (429, 1), (430, 1), (440, 9), (443, 1), (450, 1), (455, 2), (458, 3), (467, 1), (479, 1), (485, 3), (498, 2), (499, 1), (502, 2), (504, 3), (523, 4), (535, 7), (555, 1), (560, 1), (562, 1), (574, 1), (579, 1), (590, 2), (612, 1), (623, 4), (628, 3), (629, 1), (630, 1), (631, 1), (633, 2), (635, 1), (640, 7), (644, 2), (648, 2), (662, 2), (664, 2), (666, 3), (669, 1), (672, 1), (677, 2), (678, 2), (680, 2), (681, 6), (685, 1), (702, 1), (705, 1), (732, 1), (784, 1), (788, 3), (803, 1), (829, 1), (846, 1), (908, 2), (914, 1), (918, 2), (931, 3), (945, 1), (946, 1), (965, 1), (1003, 3), (1028, 7), (1040, 3), (1068, 2), (1084, 4), (1128, 1), (1161, 11), (1184, 6), (1192, 1), (1200, 1), (1210, 1), (1236, 2), (1242, 1), (1247, 2), (1248, 2), (1249, 1), (1263, 2), (1265, 2), (1284, 1), (1288, 1), (1301, 2), (1307, 1), (1316, 1), (1322, 2), (1323, 2), (1333, 1), (1335, 21), (1351, 1), (1356, 1), (1374, 1), (1397, 2), (1402, 1), (1450, 1), (1463, 2), (1492, 1), (1494, 1), (1496, 1), (1537, 1), (1539, 2), (1575, 1), (1584, 1), (1585, 1), (1591, 1), (1608, 1), (1637, 1), (1640, 1), (1644, 1), (1647, 3), (1670, 1), (1683, 1), (1686, 8), (1722, 1), (1725, 1), (1737, 1), (1740, 1), (1747, 1), (1798, 1), (1887, 1), (1890, 2), (1946, 1), (1959, 2), (1976, 1), (2012, 1), (2039, 1), (2040, 3), (2065, 1), (2086, 2), (2096, 12), (2099, 8), (2105, 1), (2110, 1), (2159, 1), (2207, 1), (2210, 1), (2249, 1), (2258, 1), (2290, 1), (2310, 1), (2337, 1), (2342, 1), (2413, 1), (2423, 2), (2424, 1), (2432, 1), (2474, 1), (2482, 1), (2531, 5), (2541, 6), (2554, 1), (2559, 1), (2584, 1), (2610, 1), (2630, 2), (2692, 1), (2722, 1), (2745, 1), (2773, 1), (2812, 1), (2840, 1), (2854, 1), (2865, 1), (2904, 1), (2960, 1), (2989, 1), (3009, 3), (3021, 3), (3025, 7), (3049, 2), (3055, 3), (3076, 3), (3108, 2), (3111, 1), (3142, 1), (3155, 1), (3173, 1), (3230, 1), (3272, 1), (3292, 1), (3337, 1), (3357, 1), (3431, 1), (3460, 1), (3493, 3), (3507, 1), (3517, 4), (3518, 2), (3558, 2), (3582, 2), (3603, 1), (3606, 1), (3608, 12), (3614, 3), (3627, 3), (3654, 2), (3739, 1), (3791, 2), (3800, 1), (3805, 1), (3811, 4), (3825, 1), (3864, 1), (4040, 1), (4146, 1), (4267, 1), (4321, 1), (4439, 1), (4452, 1), (4576, 1), (4579, 1), (4583, 2), (4612, 1), (4613, 1), (4614, 1), (4615, 1), (4616, 1), (4617, 1), (4618, 1), (4619, 1), (4620, 1), (4621, 1), (4622, 3), (4623, 1), (4624, 1), (4625, 1), (4626, 1), (4627, 2), (4628, 1), (4629, 1), (4630, 1), (4631, 47), (4632, 1), (4633, 1), (4634, 1), (4635, 12), (4636, 2), (4637, 1), (4638, 9), (4639, 2), (4640, 3), (4641, 2), (4642, 1), (4643, 1), (4644, 1), (4645, 1), (4646, 1), (4647, 2), (4648, 1), (4649, 1), (4650, 1), (4651, 2), (4652, 1), (4653, 1), (4654, 1), (4655, 1), (4656, 1), (4657, 1), (4658, 2), (4659, 2), (4660, 1), (4661, 1), (4662, 1), (4663, 1), (4664, 1), (4665, 2), (4666, 1), (4667, 1), (4668, 1), (4669, 1), (4670, 1), (4671, 1), (4672, 2), (4673, 2), (4674, 1), (4675, 1)], [(0, 2), (9, 1), (14, 1), (41, 1), (50, 1), (54, 1), (76, 1), (97, 1), (122, 4), (132, 2), (135, 1), (155, 1), (166, 1), (169, 2), (190, 1), (217, 1), (233, 1), (241, 5), (252, 1), (277, 1), (279, 1), (288, 1), (292, 1), (294, 1), (303, 1), (306, 1), (307, 1), (322, 1), (326, 1), (355, 1), (363, 1), (364, 1), (383, 1), (387, 3), (415, 8), (422, 1), (465, 1), (467, 1), (488, 2), (493, 1), (500, 2), (510, 2), (515, 1), (517, 1), (523, 4), (527, 1), (535, 14), (539, 1), (545, 1), (550, 1), (555, 1), (556, 1), (614, 1), (619, 1), (633, 1), (640, 1), (646, 5), (662, 2), (663, 2), (674, 1), (681, 2), (685, 2), (711, 1), (716, 1), (744, 1), (746, 1), (750, 1), (752, 1), (759, 1), (764, 2), (782, 1), (783, 1), (797, 2), (801, 1), (817, 2), (833, 2), (834, 1), (848, 1), (850, 1), (851, 1), (870, 1), (888, 1), (897, 1), (930, 4), (931, 11), (934, 1), (937, 1), (938, 1), (949, 1), (955, 1), (959, 1), (967, 1), (975, 1), (988, 2), (995, 1), (996, 15), (997, 9), (999, 1), (1000, 3), (1016, 1), (1030, 1), (1032, 1), (1039, 1), (1073, 2), (1084, 4), (1091, 1), (1101, 1), (1103, 1), (1107, 2), (1109, 1), (1112, 1), (1119, 1), (1126, 1), (1138, 3), (1155, 1), (1163, 2), (1172, 1), (1176, 1), (1193, 1), (1244, 1), (1256, 2), (1263, 1), (1285, 2), (1286, 5), (1288, 3), (1291, 1), (1304, 2), (1308, 5), (1333, 2), (1351, 1), (1356, 2), (1357, 1), (1363, 1), (1397, 1), (1425, 1), (1438, 1), (1478, 1), (1482, 2), (1486, 1), (1495, 2), (1500, 1), (1524, 1), (1577, 1), (1582, 1), (1586, 1), (1591, 2), (1593, 1), (1619, 1), (1623, 1), (1630, 1), (1650, 1), (1652, 2), (1662, 1), (1669, 1), (1725, 1), (1737, 1), (1747, 1), (1748, 1), (1755, 2), (1767, 1), (1772, 1), (1785, 1), (1843, 1), (1847, 1), (1886, 1), (1904, 1), (1953, 1), (2019, 1), (2021, 1), (2024, 1), (2038, 1), (2075, 1), (2086, 1), (2167, 1), (2206, 1), (2209, 1), (2232, 1), (2233, 1), (2243, 1), (2246, 1), (2250, 1), (2263, 1), (2265, 1), (2268, 1), (2275, 1), (2307, 3), (2313, 1), (2327, 1), (2332, 1), (2335, 1), (2362, 1), (2366, 1), (2378, 7), (2444, 1), (2489, 1), (2494, 1), (2528, 9), (2541, 1), (2554, 1), (2579, 1), (2630, 1), (2646, 1), (2689, 2), (2697, 1), (2712, 1), (2721, 2), (2729, 1), (2759, 1), (2767, 1), (2773, 1), (2796, 1), (2798, 1), (2831, 1), (2832, 1), (2850, 1), (2879, 1), (2896, 1), (2920, 1), (2999, 1), (3004, 1), (3020, 1), (3027, 1), (3029, 1), (3037, 5), (3046, 2), (3077, 1), (3080, 1), (3087, 1), (3092, 1), (3094, 2), (3142, 1), (3213, 1), (3232, 1), (3309, 1), (3323, 1), (3340, 2), (3379, 1), (3388, 2), (3425, 1), (3487, 1), (3606, 2), (3619, 1), (3771, 1), (4039, 1), (4087, 1), (4097, 1), (4212, 1), (4298, 3), (4304, 2), (4316, 1), (4342, 1), (4380, 1), (4417, 2), (4452, 1), (4587, 1), (4663, 2), (4676, 1), (4677, 1), (4678, 1), (4679, 1), (4680, 1), (4681, 2), (4682, 1), (4683, 3), (4684, 1), (4685, 1), (4686, 1), (4687, 1), (4688, 3), (4689, 1), (4690, 1), (4691, 1), (4692, 1), (4693, 1), (4694, 13), (4695, 1), (4696, 1), (4697, 1), (4698, 2), (4699, 1), (4700, 1), (4701, 5), (4702, 1), (4703, 1), (4704, 1), (4705, 2), (4706, 1), (4707, 1), (4708, 1), (4709, 2), (4710, 1), (4711, 1), (4712, 1), (4713, 1), (4714, 1), (4715, 1), (4716, 1), (4717, 2), (4718, 1), (4719, 8), (4720, 1), (4721, 1), (4722, 1), (4723, 1), (4724, 1), (4725, 1), (4726, 1), (4727, 1), (4728, 2), (4729, 1), (4730, 1), (4731, 1), (4732, 1), (4733, 2), (4734, 1), (4735, 1), (4736, 1), (4737, 1), (4738, 1), (4739, 1), (4740, 1), (4741, 1), (4742, 1), (4743, 1), (4744, 1), (4745, 1), (4746, 1), (4747, 1), (4748, 1), (4749, 1)], [(25, 1), (32, 1), (50, 1), (76, 3), (84, 1), (87, 1), (92, 1), (109, 1), (155, 1), (169, 1), (174, 4), (181, 1), (212, 1), (224, 1), (228, 2), (231, 1), (250, 1), (271, 1), (273, 4), (275, 1), (277, 2), (279, 1), (283, 1), (292, 1), (299, 5), (336, 1), (338, 1), (340, 3), (341, 1), (358, 1), (363, 1), (364, 1), (377, 1), (387, 1), (393, 3), (395, 1), (405, 2), (409, 1), (416, 3), (417, 1), (420, 2), (439, 2), (440, 5), (455, 1), (465, 1), (504, 1), (527, 1), (535, 4), (539, 5), (546, 2), (555, 3), (556, 3), (559, 1), (575, 1), (580, 1), (585, 2), (614, 1), (619, 1), (620, 2), (625, 1), (629, 3), (631, 1), (633, 5), (640, 4), (644, 1), (662, 3), (669, 1), (672, 1), (678, 1), (680, 1), (681, 1), (693, 1), (724, 1), (742, 1), (787, 1), (790, 1), (806, 1), (815, 1), (825, 1), (829, 1), (857, 1), (869, 1), (878, 1), (879, 1), (880, 1), (882, 1), (895, 1), (924, 1), (945, 4), (955, 2), (1019, 1), (1041, 2), (1043, 1), (1047, 1), (1086, 2), (1101, 1), (1119, 1), (1123, 1), (1125, 1), (1126, 1), (1202, 1), (1210, 2), (1216, 1), (1283, 1), (1306, 1), (1320, 1), (1367, 1), (1375, 1), (1381, 2), (1386, 1), (1387, 1), (1435, 1), (1466, 1), (1506, 1), (1513, 1), (1521, 1), (1522, 1), (1539, 1), (1543, 1), (1551, 2), (1577, 1), (1578, 2), (1587, 1), (1594, 2), (1641, 1), (1652, 1), (1658, 1), (1683, 1), (1684, 1), (1752, 1), (1767, 1), (1775, 2), (1787, 1), (1791, 1), (1826, 7), (1915, 1), (1992, 1), (2148, 1), (2161, 1), (2194, 1), (2202, 2), (2207, 1), (2284, 1), (2337, 2), (2346, 1), (2485, 3), (2517, 3), (2631, 1), (2748, 1), (2796, 1), (2827, 1), (2831, 1), (2876, 1), (2969, 1), (3042, 1), (3070, 1), (3086, 1), (3111, 1), (3155, 1), (3240, 1), (3263, 1), (3295, 1), (3297, 1), (3315, 1), (3481, 1), (3488, 1), (3492, 1), (3497, 1), (3537, 1), (3551, 1), (3558, 1), (3719, 2), (3720, 1), (3878, 1), (3930, 1), (4117, 1), (4169, 1), (4381, 2), (4390, 1), (4429, 1), (4446, 1), (4485, 2), (4576, 1), (4620, 1), (4697, 1), (4750, 1), (4751, 4), (4752, 1), (4753, 1), (4754, 1), (4755, 1), (4756, 1), (4757, 1), (4758, 1), (4759, 1), (4760, 1), (4761, 1), (4762, 2), (4763, 1), (4764, 1), (4765, 1), (4766, 1), (4767, 4), (4768, 1), (4769, 1), (4770, 1), (4771, 1), (4772, 3), (4773, 1), (4774, 1), (4775, 1), (4776, 1), (4777, 1), (4778, 2), (4779, 1), (4780, 1), (4781, 1), (4782, 1), (4783, 1), (4784, 1), (4785, 1), (4786, 1), (4787, 1), (4788, 1), (4789, 1), (4790, 1), (4791, 1), (4792, 13), (4793, 1), (4794, 1), (4795, 1), (4796, 1)], [(0, 1), (5, 1), (9, 1), (20, 1), (25, 1), (29, 1), (42, 2), (47, 1), (53, 1), (54, 7), (57, 1), (61, 1), (66, 7), (71, 1), (82, 1), (83, 1), (88, 1), (92, 1), (99, 1), (101, 2), (138, 1), (142, 1), (155, 2), (169, 2), (174, 1), (181, 1), (185, 1), (190, 2), (192, 1), (207, 1), (209, 1), (217, 1), (223, 1), (224, 2), (235, 1), (237, 1), (240, 2), (252, 4), (258, 4), (269, 2), (271, 8), (273, 1), (277, 2), (279, 2), (283, 2), (292, 1), (303, 1), (304, 1), (309, 1), (322, 1), (325, 1), (336, 1), (355, 1), (359, 1), (361, 1), (363, 12), (364, 1), (369, 1), (384, 5), (387, 2), (393, 2), (409, 1), (416, 2), (424, 1), (429, 1), (440, 3), (442, 1), (443, 1), (445, 1), (462, 3), (468, 1), (469, 2), (478, 1), (488, 2), (518, 1), (519, 1), (535, 5), (539, 1), (541, 1), (545, 1), (565, 1), (566, 1), (585, 1), (593, 1), (599, 5), (613, 3), (617, 1), (624, 1), (628, 1), (629, 1), (633, 3), (644, 2), (646, 3), (647, 2), (652, 2), (654, 9), (667, 1), (669, 1), (672, 3), (680, 2), (681, 8), (685, 3), (696, 1), (712, 1), (722, 1), (787, 1), (815, 1), (817, 1), (829, 2), (832, 1), (833, 1), (841, 1), (878, 1), (879, 1), (880, 1), (895, 4), (899, 1), (906, 1), (912, 1), (914, 1), (932, 1), (945, 1), (966, 1), (992, 1), (1006, 1), (1017, 1), (1030, 1), (1039, 1), (1058, 1), (1076, 1), (1089, 15), (1101, 1), (1113, 1), (1123, 2), (1125, 1), (1166, 1), (1169, 2), (1172, 1), (1210, 1), (1244, 1), (1250, 3), (1261, 1), (1280, 1), (1304, 2), (1306, 1), (1309, 1), (1320, 1), (1359, 1), (1371, 1), (1374, 3), (1377, 1), (1381, 1), (1389, 2), (1409, 1), (1432, 1), (1449, 1), (1451, 1), (1463, 3), (1501, 2), (1505, 1), (1509, 1), (1522, 1), (1524, 1), (1556, 1), (1562, 1), (1566, 2), (1578, 1), (1580, 2), (1611, 2), (1633, 1), (1646, 1), (1655, 1), (1665, 2), (1683, 1), (1684, 1), (1693, 1), (1702, 1), (1717, 1), (1750, 1), (1752, 1), (1760, 1), (1784, 1), (1843, 1), (1890, 2), (1898, 1), (1904, 1), (1915, 2), (1934, 1), (1985, 1), (2021, 1), (2036, 2), (2039, 1), (2040, 2), (2045, 1), (2062, 1), (2125, 2), (2146, 1), (2150, 3), (2155, 1), (2196, 1), (2202, 1), (2211, 1), (2218, 1), (2241, 1), (2247, 8), (2257, 1), (2260, 1), (2266, 2), (2269, 2), (2275, 1), (2290, 1), (2321, 3), (2327, 1), (2456, 3), (2458, 1), (2485, 3), (2534, 6), (2555, 2), (2557, 1), (2640, 1), (2654, 1), (2681, 1), (2711, 1), (2719, 1), (2764, 1), (2775, 1), (2780, 1), (2791, 2), (2827, 1), (2889, 1), (2915, 3), (2924, 2), (2931, 2), (2947, 2), (2957, 1), (2969, 1), (2973, 1), (3009, 2), (3040, 1), (3051, 3), (3063, 1), (3069, 2), (3078, 1), (3085, 1), (3120, 2), (3188, 4), (3300, 1), (3334, 1), (3425, 1), (3481, 1), (3486, 4), (3493, 1), (3512, 2), (3523, 1), (3624, 1), (3630, 1), (3687, 2), (3735, 1), (3766, 1), (3776, 2), (3778, 1), (3779, 3), (3794, 1), (3796, 1), (3806, 2), (3833, 1), (3856, 2), (3984, 1), (3987, 1), (4039, 1), (4048, 2), (4067, 1), (4074, 4), (4127, 5), (4158, 3), (4312, 1), (4467, 1), (4651, 2), (4769, 1), (4782, 1), (4792, 1), (4797, 1), (4798, 1), (4799, 2), (4800, 1), (4801, 1), (4802, 1), (4803, 1), (4804, 2), (4805, 1), (4806, 2), (4807, 2), (4808, 1), (4809, 1), (4810, 3), (4811, 1), (4812, 2), (4813, 2), (4814, 3), (4815, 3), (4816, 3), (4817, 1), (4818, 1), (4819, 1), (4820, 2), (4821, 1), (4822, 1), (4823, 1), (4824, 1), (4825, 1), (4826, 1), (4827, 1), (4828, 1), (4829, 1), (4830, 1), (4831, 1), (4832, 1), (4833, 1), (4834, 1), (4835, 1), (4836, 1), (4837, 14), (4838, 1), (4839, 1), (4840, 1), (4841, 1), (4842, 1), (4843, 1), (4844, 2), (4845, 2), (4846, 1), (4847, 4), (4848, 1), (4849, 2), (4850, 1), (4851, 2), (4852, 1), (4853, 1), (4854, 1), (4855, 1), (4856, 1), (4857, 1), (4858, 1), (4859, 1), (4860, 1), (4861, 7), (4862, 2), (4863, 5), (4864, 1), (4865, 1), (4866, 1), (4867, 2), (4868, 2), (4869, 1), (4870, 2), (4871, 1), (4872, 1), (4873, 1), (4874, 1), (4875, 3), (4876, 2), (4877, 1), (4878, 1), (4879, 1), (4880, 1), (4881, 2), (4882, 1), (4883, 1), (4884, 1), (4885, 1), (4886, 1), (4887, 1), (4888, 1), (4889, 1), (4890, 1), (4891, 1), (4892, 1), (4893, 1), (4894, 2), (4895, 1), (4896, 1), (4897, 1), (4898, 1), (4899, 1), (4900, 1), (4901, 1), (4902, 1), (4903, 1), (4904, 5), (4905, 1), (4906, 1), (4907, 1), (4908, 1), (4909, 1), (4910, 1), (4911, 1), (4912, 1), (4913, 1), (4914, 10), (4915, 1), (4916, 1), (4917, 1), (4918, 2), (4919, 1), (4920, 2), (4921, 4), (4922, 1), (4923, 1), (4924, 1), (4925, 1), (4926, 1)], [(1, 1), (3, 1), (9, 1), (20, 1), (27, 1), (41, 1), (54, 3), (83, 1), (99, 1), (120, 2), (152, 1), (185, 1), (260, 1), (288, 1), (322, 3), (384, 1), (409, 1), (455, 1), (456, 2), (465, 1), (479, 1), (482, 1), (510, 1), (535, 2), (541, 4), (553, 1), (562, 1), (599, 1), (601, 1), (622, 1), (623, 1), (652, 2), (677, 1), (681, 2), (685, 2), (803, 1), (849, 1), (850, 1), (860, 1), (886, 1), (913, 1), (965, 2), (988, 1), (1030, 1), (1084, 1), (1089, 5), (1137, 1), (1170, 4), (1199, 3), (1232, 1), (1277, 1), (1323, 1), (1324, 1), (1356, 2), (1363, 1), (1381, 1), (1397, 1), (1482, 5), (1501, 1), (1515, 1), (1584, 1), (1623, 2), (1637, 2), (1648, 1), (1740, 1), (1838, 1), (1845, 1), (1918, 1), (1970, 2), (1988, 1), (2020, 1), (2039, 1), (2086, 1), (2096, 1), (2099, 1), (2130, 1), (2156, 1), (2163, 1), (2210, 2), (2215, 1), (2253, 1), (2257, 1), (2276, 2), (2284, 1), (2294, 1), (2300, 1), (2310, 1), (2342, 4), (2391, 1), (2402, 3), (2433, 1), (2468, 1), (2541, 2), (2546, 1), (2555, 1), (2575, 2), (2608, 1), (2791, 1), (2840, 1), (2906, 2), (2974, 1), (3010, 1), (3108, 1), (3203, 1), (3294, 1), (3517, 1), (3579, 1), (3582, 1), (3587, 1), (3657, 1), (3799, 1), (3832, 1), (3870, 1), (3884, 2), (4029, 1), (4044, 5), (4050, 2), (4409, 3), (4476, 1), (4623, 1), (4647, 1), (4927, 1), (4928, 8), (4929, 1), (4930, 1), (4931, 1), (4932, 1), (4933, 1), (4934, 1), (4935, 2), (4936, 4), (4937, 1)], [(0, 1), (16, 1), (17, 1), (20, 1), (25, 1), (33, 1), (37, 1), (41, 1), (47, 1), (54, 1), (56, 1), (57, 2), (61, 1), (71, 4), (85, 2), (87, 1), (92, 2), (103, 2), (115, 1), (116, 2), (122, 1), (125, 2), (135, 1), (136, 2), (164, 1), (169, 3), (181, 3), (187, 1), (191, 1), (193, 1), (206, 1), (224, 2), (229, 1), (240, 2), (241, 5), (245, 1), (249, 3), (252, 1), (258, 2), (259, 2), (269, 1), (271, 1), (273, 1), (288, 1), (289, 2), (292, 1), (303, 7), (309, 1), (324, 1), (349, 2), (351, 2), (360, 1), (361, 3), (363, 6), (364, 6), (367, 3), (371, 1), (373, 1), (384, 4), (387, 1), (391, 1), (396, 1), (409, 1), (414, 2), (415, 7), (416, 2), (417, 2), (420, 8), (422, 1), (434, 5), (438, 1), (439, 1), (443, 1), (475, 1), (476, 1), (477, 2), (481, 1), (488, 4), (500, 1), (502, 1), (509, 1), (522, 1), (527, 1), (535, 7), (541, 1), (547, 1), (550, 1), (572, 1), (585, 1), (614, 1), (620, 2), (631, 2), (646, 2), (654, 1), (664, 1), (666, 1), (669, 1), (674, 3), (678, 1), (681, 1), (685, 5), (689, 1), (693, 1), (706, 2), (709, 1), (725, 1), (735, 1), (742, 1), (743, 1), (750, 1), (762, 1), (764, 1), (765, 8), (767, 1), (770, 1), (781, 1), (782, 1), (783, 1), (803, 3), (809, 1), (814, 1), (825, 1), (849, 1), (901, 1), (903, 2), (912, 1), (927, 3), (934, 3), (948, 3), (956, 1), (975, 2), (985, 2), (988, 1), (997, 1), (1004, 1), (1013, 3), (1017, 1), (1019, 1), (1025, 1), (1034, 1), (1039, 3), (1073, 1), (1081, 4), (1082, 1), (1084, 3), (1086, 1), (1092, 3), (1112, 1), (1131, 2), (1138, 1), (1159, 1), (1160, 1), (1201, 3), (1210, 1), (1218, 1), (1266, 1), (1284, 2), (1288, 3), (1306, 1), (1333, 3), (1343, 1), (1344, 2), (1351, 1), (1361, 1), (1373, 1), (1381, 1), (1386, 7), (1389, 1), (1415, 1), (1432, 1), (1472, 1), (1482, 4), (1494, 1), (1521, 1), (1522, 1), (1527, 1), (1539, 1), (1543, 1), (1546, 1), (1571, 1), (1577, 4), (1587, 1), (1594, 1), (1600, 2), (1623, 4), (1628, 1), (1630, 4), (1646, 1), (1680, 1), (1683, 1), (1698, 1), (1705, 1), (1737, 2), (1748, 1), (1752, 1), (1763, 4), (1784, 1), (1787, 1), (1838, 2), (1869, 3), (1874, 1), (1890, 2), (1909, 1), (1912, 1), (1959, 1), (1988, 2), (2019, 1), (2040, 2), (2055, 1), (2062, 1), (2072, 2), (2082, 1), (2086, 2), (2113, 1), (2122, 2), (2139, 1), (2148, 1), (2155, 1), (2159, 6), (2163, 1), (2196, 1), (2257, 1), (2273, 3), (2289, 6), (2327, 1), (2357, 1), (2367, 1), (2368, 1), (2374, 1), (2393, 1), (2419, 1), (2423, 1), (2428, 1), (2482, 1), (2502, 1), (2533, 1), (2541, 2), (2560, 1), (2586, 1), (2592, 1), (2624, 1), (2633, 2), (2646, 2), (2659, 1), (2677, 1), (2689, 1), (2708, 1), (2713, 8), (2722, 1), (2775, 2), (2789, 1), (2791, 1), (2798, 1), (2811, 3), (2813, 1), (2840, 1), (2845, 1), (2866, 1), (2898, 1), (2986, 1), (2988, 1), (3017, 4), (3021, 1), (3044, 1), (3054, 1), (3055, 2), (3068, 1), (3077, 1), (3089, 1), (3094, 2), (3142, 1), (3173, 1), (3193, 1), (3220, 1), (3246, 2), (3263, 1), (3295, 1), (3305, 1), (3334, 1), (3359, 1), (3381, 1), (3415, 1), (3419, 1), (3445, 1), (3480, 1), (3486, 1), (3505, 1), (3518, 1), (3523, 2), (3531, 1), (3569, 2), (3591, 1), (3608, 1), (3661, 1), (3740, 1), (3847, 1), (3877, 1), (3911, 1), (3971, 1), (3975, 1), (4024, 1), (4041, 2), (4069, 1), (4096, 17), (4206, 1), (4213, 1), (4298, 1), (4304, 1), (4308, 1), (4310, 1), (4355, 1), (4359, 1), (4403, 5), (4511, 1), (4569, 1), (4576, 1), (4675, 1), (4688, 2), (4690, 1), (4691, 5), (4733, 3), (4756, 2), (4798, 1), (4831, 1), (4834, 1), (4891, 4), (4899, 1), (4903, 1), (4915, 1), (4936, 1), (4938, 1), (4939, 1), (4940, 1), (4941, 1), (4942, 1), (4943, 2), (4944, 2), (4945, 1), (4946, 1), (4947, 1), (4948, 6), (4949, 1), (4950, 2), (4951, 1), (4952, 1), (4953, 4), (4954, 4), (4955, 1), (4956, 1), (4957, 2), (4958, 1), (4959, 1), (4960, 1), (4961, 1), (4962, 1), (4963, 1), (4964, 1), (4965, 1), (4966, 1), (4967, 1), (4968, 1), (4969, 1), (4970, 1), (4971, 1), (4972, 1), (4973, 5), (4974, 1), (4975, 3), (4976, 3), (4977, 1), (4978, 4), (4979, 3), (4980, 2), (4981, 1), (4982, 4), (4983, 1), (4984, 1), (4985, 1), (4986, 2), (4987, 1), (4988, 1), (4989, 1), (4990, 1), (4991, 1), (4992, 1), (4993, 1), (4994, 1), (4995, 1), (4996, 1), (4997, 1), (4998, 1), (4999, 1), (5000, 2), (5001, 1), (5002, 2), (5003, 1), (5004, 1), (5005, 1), (5006, 1), (5007, 1), (5008, 1), (5009, 1), (5010, 1), (5011, 1), (5012, 1), (5013, 1), (5014, 1), (5015, 1), (5016, 1), (5017, 3), (5018, 1), (5019, 1), (5020, 1), (5021, 2), (5022, 1), (5023, 1), (5024, 1), (5025, 1)], [(9, 1), (14, 1), (26, 1), (41, 1), (50, 1), (54, 1), (61, 1), (101, 1), (122, 1), (139, 1), (178, 2), (190, 1), (193, 1), (206, 2), (248, 1), (265, 1), (271, 1), (292, 1), (293, 1), (329, 1), (350, 1), (352, 1), (353, 2), (373, 3), (393, 2), (420, 1), (425, 1), (429, 1), (438, 1), (440, 1), (450, 1), (456, 1), (493, 1), (518, 1), (535, 8), (545, 1), (552, 1), (573, 1), (590, 1), (596, 1), (613, 1), (617, 2), (633, 1), (640, 1), (647, 1), (654, 2), (659, 1), (681, 3), (768, 1), (770, 1), (788, 2), (806, 1), (817, 1), (840, 1), (901, 1), (920, 1), (954, 2), (959, 1), (983, 1), (1032, 1), (1034, 1), (1039, 1), (1043, 3), (1073, 3), (1134, 1), (1136, 1), (1171, 2), (1172, 1), (1280, 1), (1290, 1), (1311, 1), (1324, 1), (1340, 2), (1355, 2), (1371, 2), (1374, 1), (1386, 1), (1425, 1), (1457, 1), (1482, 3), (1494, 1), (1495, 1), (1521, 1), (1577, 1), (1587, 1), (1626, 1), (1660, 1), (1675, 6), (1713, 1), (1720, 1), (1832, 2), (1895, 2), (2009, 1), (2022, 1), (2096, 1), (2128, 1), (2210, 3), (2276, 1), (2306, 1), (2462, 1), (2531, 1), (2692, 2), (2704, 1), (2713, 1), (2815, 1), (3036, 1), (3045, 1), (3111, 1), (3173, 1), (3188, 3), (3323, 2), (3432, 1), (3518, 2), (3523, 1), (3566, 1), (3574, 1), (3626, 1), (3687, 1), (3735, 1), (3825, 1), (3925, 1), (4249, 1), (4274, 6), (4325, 1), (4690, 1), (4882, 1), (4885, 1), (4936, 1), (4996, 1), (5026, 1), (5027, 1), (5028, 1), (5029, 1), (5030, 9), (5031, 4), (5032, 1), (5033, 1), (5034, 1), (5035, 1), (5036, 1), (5037, 1), (5038, 1), (5039, 1), (5040, 1), (5041, 1), (5042, 3), (5043, 2), (5044, 1), (5045, 3), (5046, 1), (5047, 3), (5048, 1), (5049, 1), (5050, 1), (5051, 1), (5052, 1), (5053, 1), (5054, 1), (5055, 1), (5056, 1), (5057, 3), (5058, 1), (5059, 1), (5060, 1), (5061, 1), (5062, 1), (5063, 1), (5064, 1), (5065, 1)], [(14, 1), (25, 1), (35, 1), (39, 1), (41, 1), (46, 1), (61, 1), (68, 1), (76, 3), (77, 1), (79, 1), (87, 1), (92, 1), (99, 1), (106, 1), (122, 3), (129, 1), (146, 2), (151, 1), (155, 1), (169, 2), (181, 3), (182, 1), (184, 3), (193, 1), (217, 1), (224, 3), (238, 1), (239, 1), (240, 4), (248, 1), (251, 10), (252, 4), (257, 1), (259, 2), (261, 1), (269, 3), (288, 4), (298, 1), (303, 1), (310, 7), (324, 2), (327, 1), (329, 3), (338, 1), (340, 1), (345, 1), (346, 1), (351, 6), (353, 1), (358, 2), (363, 1), (364, 1), (369, 1), (376, 1), (384, 3), (391, 2), (409, 2), (414, 1), (415, 48), (420, 1), (421, 2), (422, 3), (425, 1), (429, 1), (438, 2), (440, 1), (449, 2), (458, 2), (463, 3), (476, 7), (488, 2), (491, 2), (492, 1), (493, 3), (504, 1), (505, 1), (506, 1), (508, 6), (515, 1), (522, 1), (527, 1), (528, 1), (535, 14), (538, 1), (539, 1), (546, 1), (551, 1), (555, 1), (556, 1), (574, 1), (594, 1), (622, 1), (629, 1), (633, 1), (635, 2), (646, 1), (654, 1), (659, 1), (663, 3), (666, 7), (670, 2), (672, 2), (673, 8), (680, 8), (681, 5), (685, 3), (688, 2), (725, 1), (730, 1), (745, 1), (750, 2), (751, 1), (752, 1), (759, 1), (794, 1), (801, 3), (803, 1), (815, 1), (829, 1), (836, 1), (853, 1), (856, 1), (860, 1), (865, 1), (868, 1), (872, 1), (888, 4), (910, 1), (917, 1), (920, 1), (923, 2), (925, 1), (926, 1), (927, 1), (930, 1), (937, 1), (952, 2), (958, 1), (975, 7), (981, 1), (983, 1), (988, 1), (989, 1), (990, 2), (992, 5), (995, 1), (999, 1), (1024, 2), (1025, 1), (1030, 2), (1032, 1), (1039, 1), (1041, 1), (1048, 1), (1073, 3), (1075, 1), (1084, 3), (1086, 1), (1097, 2), (1102, 1), (1105, 5), (1106, 1), (1109, 1), (1123, 1), (1126, 4), (1127, 1), (1128, 1), (1133, 1), (1137, 1), (1155, 1), (1158, 4), (1171, 2), (1175, 2), (1189, 1), (1194, 4), (1203, 1), (1216, 1), (1222, 2), (1223, 3), (1247, 1), (1256, 1), (1277, 2), (1280, 1), (1284, 3), (1289, 1), (1290, 2), (1295, 1), (1315, 1), (1324, 2), (1330, 2), (1333, 3), (1351, 4), (1360, 2), (1380, 1), (1409, 1), (1432, 3), (1438, 1), (1450, 1), (1454, 1), (1466, 1), (1472, 1), (1486, 2), (1492, 2), (1521, 3), (1543, 1), (1570, 1), (1571, 2), (1578, 1), (1587, 1), (1592, 1), (1606, 3), (1609, 1), (1633, 1), (1637, 1), (1647, 3), (1648, 3), (1668, 1), (1669, 1), (1688, 1), (1693, 1), (1695, 1), (1710, 3), (1722, 1), (1743, 1), (1748, 2), (1750, 1), (1752, 1), (1773, 1), (1813, 2), (1832, 1), (1835, 1), (1836, 1), (1839, 4), (1840, 2), (1865, 1), (1887, 2), (1895, 1), (1899, 2), (1918, 7), (1922, 1), (1951, 1), (1959, 2), (1988, 1), (1991, 1), (2009, 2), (2010, 1), (2011, 1), (2018, 1), (2019, 1), (2022, 1), (2038, 1), (2040, 1), (2062, 1), (2078, 1), (2113, 1), (2129, 3), (2130, 1), (2167, 1), (2196, 1), (2205, 1), (2208, 1), (2244, 1), (2250, 1), (2255, 2), (2266, 1), (2269, 1), (2271, 7), (2275, 1), (2278, 1), (2294, 1), (2300, 1), (2307, 1), (2321, 2), (2348, 1), (2349, 1), (2378, 4), (2394, 1), (2425, 2), (2439, 4), (2449, 2), (2466, 9), (2500, 1), (2503, 1), (2521, 1), (2528, 6), (2560, 1), (2577, 1), (2582, 1), (2613, 1), (2625, 2), (2630, 1), (2681, 1), (2692, 2), (2722, 1), (2764, 2), (2770, 1), (2773, 1), (2781, 1), (2792, 1), (2808, 1), (2812, 1), (2842, 1), (2850, 1), (2855, 1), (3025, 3), (3028, 1), (3040, 1), (3041, 2), (3046, 2), (3047, 1), (3055, 1), (3072, 3), (3086, 1), (3087, 1), (3103, 1), (3182, 1), (3256, 1), (3266, 2), (3288, 1), (3294, 1), (3314, 4), (3492, 1), (3495, 1), (3509, 1), (3525, 4), (3532, 3), (3546, 1), (3552, 1), (3606, 1), (3620, 1), (3657, 1), (3712, 1), (3729, 1), (3736, 1), (3758, 1), (3799, 1), (3863, 2), (3882, 2), (3923, 1), (3942, 2), (4021, 1), (4037, 1), (4049, 3), (4057, 1), (4083, 1), (4206, 1), (4286, 1), (4298, 3), (4321, 1), (4515, 1), (4522, 1), (4559, 1), (4630, 1), (4649, 2), (4680, 1), (4797, 1), (4932, 1), (5066, 1), (5067, 1), (5068, 1), (5069, 1), (5070, 2), (5071, 1), (5072, 2), (5073, 1), (5074, 9), (5075, 1), (5076, 1), (5077, 2), (5078, 1), (5079, 1), (5080, 1), (5081, 1), (5082, 1), (5083, 1), (5084, 1), (5085, 1), (5086, 1), (5087, 1), (5088, 1), (5089, 1), (5090, 1), (5091, 1), (5092, 1), (5093, 35), (5094, 1), (5095, 1), (5096, 7), (5097, 1), (5098, 3), (5099, 5), (5100, 1), (5101, 1), (5102, 1), (5103, 1), (5104, 1), (5105, 1), (5106, 1), (5107, 3), (5108, 3), (5109, 1), (5110, 2), (5111, 1), (5112, 1), (5113, 1), (5114, 1), (5115, 1), (5116, 1), (5117, 3), (5118, 1), (5119, 1), (5120, 1), (5121, 1), (5122, 1), (5123, 1), (5124, 1), (5125, 1), (5126, 1), (5127, 1), (5128, 1), (5129, 1), (5130, 1), (5131, 1)], [(41, 2), (48, 1), (56, 1), (87, 2), (91, 1), (101, 1), (120, 2), (122, 1), (125, 2), (136, 2), (137, 1), (149, 1), (155, 2), (164, 3), (181, 2), (200, 1), (206, 3), (226, 2), (228, 1), (229, 1), (252, 4), (257, 1), (260, 1), (261, 1), (267, 1), (271, 1), (277, 5), (281, 1), (283, 3), (288, 2), (294, 1), (303, 1), (306, 1), (308, 3), (310, 1), (311, 1), (313, 1), (322, 2), (325, 1), (338, 8), (346, 2), (350, 1), (351, 1), (359, 1), (363, 4), (364, 4), (369, 1), (376, 2), (384, 3), (387, 3), (391, 1), (399, 1), (414, 3), (415, 19), (416, 1), (422, 2), (424, 1), (426, 1), (437, 1), (440, 3), (450, 1), (455, 8), (458, 1), (469, 1), (476, 7), (495, 1), (503, 1), (511, 1), (535, 12), (539, 1), (545, 2), (547, 2), (556, 7), (566, 1), (576, 1), (585, 2), (595, 1), (614, 1), (619, 1), (620, 1), (628, 1), (629, 1), (630, 1), (634, 3), (636, 1), (638, 1), (655, 1), (663, 2), (664, 1), (666, 1), (670, 1), (672, 1), (673, 2), (681, 2), (682, 1), (685, 2), (690, 7), (693, 1), (694, 1), (708, 2), (715, 1), (721, 2), (725, 1), (752, 2), (759, 1), (764, 1), (767, 1), (773, 1), (782, 1), (788, 1), (800, 2), (801, 1), (803, 1), (815, 1), (844, 2), (870, 1), (888, 1), (891, 1), (894, 1), (900, 2), (920, 2), (927, 4), (930, 1), (936, 1), (944, 1), (945, 5), (953, 1), (995, 1), (1004, 1), (1018, 1), (1022, 2), (1025, 4), (1032, 2), (1041, 1), (1043, 1), (1060, 1), (1075, 1), (1088, 1), (1091, 1), (1098, 1), (1105, 17), (1126, 1), (1194, 1), (1201, 1), (1210, 1), (1222, 4), (1232, 2), (1283, 2), (1288, 1), (1291, 1), (1299, 5), (1309, 1), (1315, 1), (1320, 1), (1344, 1), (1347, 3), (1360, 2), (1386, 1), (1388, 2), (1402, 2), (1404, 1), (1422, 1), (1427, 1), (1446, 1), (1450, 3), (1482, 1), (1486, 1), (1489, 1), (1501, 1), (1505, 1), (1506, 2), (1538, 1), (1561, 1), (1562, 3), (1573, 1), (1577, 1), (1578, 2), (1587, 2), (1609, 1), (1616, 2), (1641, 1), (1682, 1), (1703, 1), (1710, 1), (1715, 1), (1718, 3), (1748, 1), (1763, 1), (1769, 1), (1791, 1), (1798, 1), (1813, 2), (1821, 1), (1829, 1), (1849, 1), (1864, 2), (1924, 2), (1991, 1), (1992, 1), (2036, 1), (2077, 2), (2105, 1), (2122, 2), (2125, 1), (2148, 1), (2161, 1), (2176, 1), (2179, 1), (2208, 1), (2218, 1), (2282, 1), (2300, 1), (2306, 1), (2327, 1), (2328, 1), (2348, 2), (2449, 1), (2494, 1), (2517, 6), (2597, 2), (2601, 2), (2621, 1), (2625, 1), (2703, 1), (2708, 1), (2733, 1), (2734, 1), (2781, 2), (2798, 1), (2872, 1), (2913, 1), (3117, 4), (3157, 1), (3164, 1), (3173, 1), (3232, 1), (3256, 1), (3445, 1), (3488, 1), (3652, 1), (3654, 1), (3773, 2), (3788, 1), (3790, 1), (3791, 1), (4066, 2), (4156, 1), (4216, 1), (4248, 4), (4270, 1), (4348, 1), (4351, 1), (4468, 1), (4485, 1), (4690, 1), (4764, 1), (4986, 1), (4994, 1), (5068, 1), (5132, 1), (5133, 1), (5134, 2), (5135, 10), (5136, 1), (5137, 1), (5138, 1), (5139, 1), (5140, 1), (5141, 1), (5142, 1), (5143, 1), (5144, 1), (5145, 1), (5146, 1), (5147, 1), (5148, 2), (5149, 1), (5150, 1), (5151, 1), (5152, 1), (5153, 1), (5154, 1), (5155, 1), (5156, 1), (5157, 1), (5158, 1), (5159, 1), (5160, 1), (5161, 1), (5162, 1), (5163, 1), (5164, 1), (5165, 1), (5166, 2), (5167, 1), (5168, 1), (5169, 1), (5170, 1), (5171, 2), (5172, 1), (5173, 1), (5174, 1), (5175, 1), (5176, 1), (5177, 2), (5178, 1), (5179, 1), (5180, 1), (5181, 1), (5182, 1), (5183, 1), (5184, 1), (5185, 1), (5186, 1), (5187, 1), (5188, 1), (5189, 1)], [(0, 1), (3, 1), (9, 2), (17, 1), (20, 1), (25, 2), (27, 1), (32, 1), (35, 1), (40, 1), (48, 2), (50, 1), (54, 2), (57, 1), (71, 2), (83, 1), (93, 1), (102, 1), (142, 1), (154, 1), (164, 1), (203, 1), (206, 1), (209, 1), (210, 1), (223, 1), (224, 3), (226, 1), (232, 1), (250, 3), (251, 1), (257, 1), (259, 1), (271, 1), (273, 1), (279, 1), (289, 1), (294, 1), (295, 1), (298, 2), (304, 1), (305, 1), (322, 2), (326, 4), (327, 2), (338, 1), (347, 1), (350, 2), (351, 6), (355, 1), (358, 1), (363, 2), (369, 3), (385, 2), (387, 1), (393, 1), (409, 4), (413, 1), (415, 1), (417, 1), (422, 1), (440, 1), (448, 1), (450, 2), (452, 1), (455, 1), (456, 15), (477, 2), (478, 1), (493, 1), (499, 6), (503, 1), (505, 1), (515, 1), (522, 1), (523, 4), (527, 1), (535, 3), (539, 3), (545, 1), (546, 1), (550, 2), (577, 1), (590, 2), (591, 1), (614, 1), (621, 1), (623, 3), (633, 1), (636, 1), (646, 2), (659, 1), (664, 1), (666, 3), (677, 1), (685, 7), (693, 1), (694, 1), (695, 1), (699, 1), (701, 3), (715, 1), (719, 1), (720, 2), (745, 1), (746, 2), (764, 1), (780, 1), (782, 3), (787, 1), (801, 1), (808, 1), (815, 1), (826, 1), (840, 1), (844, 3), (851, 1), (853, 1), (854, 1), (871, 1), (877, 1), (879, 1), (882, 3), (900, 1), (901, 5), (903, 6), (907, 3), (910, 1), (923, 1), (926, 1), (927, 7), (945, 1), (947, 2), (949, 1), (958, 2), (959, 1), (965, 1), (975, 6), (1030, 3), (1073, 3), (1084, 2), (1086, 1), (1088, 1), (1102, 1), (1108, 2), (1109, 1), (1114, 2), (1128, 1), (1137, 1), (1139, 1), (1142, 1), (1172, 1), (1175, 1), (1193, 2), (1201, 1), (1204, 1), (1242, 1), (1244, 16), (1265, 2), (1281, 1), (1283, 1), (1306, 3), (1333, 2), (1360, 1), (1361, 2), (1367, 1), (1371, 1), (1424, 1), (1438, 3), (1467, 2), (1468, 1), (1472, 1), (1485, 2), (1521, 1), (1568, 1), (1577, 6), (1584, 3), (1597, 3), (1607, 1), (1628, 2), (1685, 1), (1704, 1), (1713, 1), (1725, 2), (1734, 1), (1740, 1), (1747, 2), (1748, 2), (1756, 1), (1759, 1), (1763, 2), (1775, 1), (1784, 3), (1832, 1), (1847, 1), (1874, 3), (1895, 7), (1904, 1), (1952, 2), (2009, 1), (2010, 1), (2019, 1), (2083, 1), (2093, 1), (2096, 2), (2113, 1), (2117, 1), (2122, 1), (2139, 1), (2190, 2), (2210, 3), (2258, 1), (2281, 1), (2282, 1), (2289, 2), (2300, 1), (2327, 1), (2346, 3), (2348, 1), (2354, 1), (2370, 1), (2378, 2), (2438, 7), (2448, 1), (2528, 3), (2580, 1), (2581, 1), (2582, 1), (2591, 1), (2621, 1), (2625, 1), (2681, 1), (2713, 4), (2722, 3), (2773, 1), (2855, 1), (2992, 2), (3009, 1), (3014, 2), (3029, 3), (3041, 4), (3055, 1), (3069, 3), (3087, 1), (3101, 1), (3112, 1), (3138, 7), (3142, 1), (3190, 1), (3201, 1), (3270, 1), (3279, 1), (3488, 1), (3496, 1), (3518, 2), (3529, 1), (3532, 1), (3558, 1), (3592, 1), (3606, 1), (3619, 1), (3620, 2), (3631, 6), (3634, 1), (3686, 1), (3726, 1), (3805, 1), (3809, 7), (3871, 1), (3905, 1), (3941, 1), (3980, 1), (4018, 1), (4024, 1), (4044, 2), (4205, 3), (4260, 1), (4274, 2), (4286, 1), (4450, 1), (4460, 1), (4480, 1), (4576, 1), (4663, 1), (4691, 3), (4700, 1), (4828, 1), (4883, 1), (4885, 2), (4897, 1), (4967, 1), (5034, 1), (5177, 1), (5190, 1), (5191, 1), (5192, 1), (5193, 1), (5194, 1), (5195, 1), (5196, 1), (5197, 13), (5198, 1), (5199, 1), (5200, 1), (5201, 1), (5202, 1), (5203, 2), (5204, 1), (5205, 1), (5206, 2), (5207, 1), (5208, 1), (5209, 1), (5210, 1), (5211, 2), (5212, 3), (5213, 1), (5214, 1), (5215, 1), (5216, 1), (5217, 1), (5218, 1), (5219, 1), (5220, 1), (5221, 1), (5222, 1), (5223, 1), (5224, 1), (5225, 1), (5226, 1), (5227, 1), (5228, 1), (5229, 1), (5230, 1), (5231, 1), (5232, 1), (5233, 1), (5234, 1), (5235, 3), (5236, 1), (5237, 1), (5238, 2), (5239, 1), (5240, 1), (5241, 1), (5242, 1), (5243, 1), (5244, 1), (5245, 1), (5246, 1), (5247, 1), (5248, 1), (5249, 1), (5250, 1)], [(10, 1), (13, 1), (17, 1), (41, 1), (48, 1), (52, 2), (53, 1), (54, 3), (76, 2), (85, 1), (92, 1), (131, 3), (139, 1), (149, 1), (169, 1), (178, 3), (187, 1), (190, 1), (203, 1), (212, 1), (224, 1), (229, 1), (235, 1), (251, 1), (252, 1), (272, 1), (294, 1), (306, 1), (319, 1), (340, 1), (351, 1), (355, 1), (369, 1), (384, 1), (387, 1), (391, 1), (393, 1), (409, 1), (415, 2), (416, 1), (421, 2), (439, 1), (450, 1), (465, 1), (481, 6), (503, 1), (510, 1), (518, 2), (535, 8), (539, 2), (547, 1), (585, 2), (596, 1), (623, 2), (633, 2), (635, 1), (640, 2), (646, 2), (654, 2), (678, 1), (680, 1), (684, 2), (685, 3), (693, 1), (725, 1), (741, 1), (752, 1), (768, 1), (780, 1), (788, 1), (800, 3), (801, 2), (803, 1), (860, 2), (879, 2), (908, 2), (909, 1), (918, 1), (920, 1), (931, 1), (960, 1), (964, 1), (965, 1), (1001, 1), (1003, 1), (1030, 2), (1042, 1), (1043, 4), (1061, 4), (1068, 1), (1072, 1), (1084, 1), (1108, 1), (1133, 2), (1137, 5), (1161, 11), (1172, 2), (1173, 1), (1216, 1), (1237, 1), (1241, 1), (1284, 2), (1290, 2), (1293, 1), (1301, 1), (1306, 1), (1307, 1), (1320, 1), (1323, 1), (1335, 2), (1351, 3), (1356, 3), (1363, 1), (1395, 1), (1402, 1), (1415, 1), (1446, 1), (1456, 1), (1463, 1), (1486, 1), (1494, 1), (1499, 4), (1517, 1), (1521, 1), (1524, 1), (1537, 1), (1539, 2), (1550, 1), (1566, 2), (1575, 1), (1578, 1), (1584, 2), (1623, 1), (1656, 1), (1660, 1), (1675, 2), (1682, 2), (1722, 1), (1765, 1), (1795, 1), (1796, 1), (1842, 1), (1887, 2), (1889, 1), (1892, 2), (1918, 2), (1937, 3), (1951, 2), (2010, 2), (2019, 1), (2022, 1), (2096, 9), (2129, 1), (2130, 2), (2147, 1), (2160, 1), (2167, 1), (2211, 1), (2215, 1), (2240, 1), (2255, 1), (2294, 1), (2300, 5), (2341, 1), (2350, 7), (2359, 1), (2391, 1), (2462, 2), (2463, 1), (2478, 1), (2519, 1), (2541, 9), (2557, 1), (2577, 1), (2584, 1), (2625, 1), (2629, 1), (2630, 4), (2651, 1), (2690, 1), (2721, 1), (2729, 1), (2759, 1), (2806, 1), (2828, 1), (2869, 1), (2940, 1), (3021, 1), (3036, 1), (3040, 1), (3111, 2), (3121, 5), (3130, 1), (3157, 1), (3173, 1), (3185, 3), (3213, 1), (3277, 1), (3294, 1), (3318, 1), (3347, 1), (3376, 1), (3402, 12), (3431, 1), (3548, 1), (3582, 2), (3595, 1), (3756, 2), (3807, 1), (3811, 1), (3812, 3), (3814, 2), (3818, 16), (3820, 1), (3830, 1), (3925, 4), (3947, 1), (4248, 1), (4293, 1), (4295, 1), (4323, 1), (4541, 4), (4619, 1), (4622, 1), (4688, 1), (4689, 1), (4745, 1), (4815, 2), (4885, 1), (4933, 2), (5068, 1), (5251, 1), (5252, 4), (5253, 1), (5254, 1), (5255, 3), (5256, 1), (5257, 4), (5258, 1), (5259, 1), (5260, 1), (5261, 1), (5262, 1), (5263, 1), (5264, 3), (5265, 1), (5266, 2), (5267, 1), (5268, 2), (5269, 1), (5270, 1), (5271, 1), (5272, 1), (5273, 1), (5274, 1), (5275, 3), (5276, 1), (5277, 9), (5278, 1), (5279, 1), (5280, 1), (5281, 1), (5282, 1), (5283, 1)], [(47, 1), (51, 1), (54, 2), (71, 1), (80, 1), (84, 1), (87, 2), (93, 1), (102, 2), (116, 1), (125, 2), (136, 1), (154, 1), (169, 2), (170, 1), (181, 1), (182, 2), (193, 1), (209, 1), (224, 2), (225, 1), (227, 2), (235, 1), (247, 1), (248, 1), (257, 1), (260, 1), (277, 5), (279, 1), (283, 2), (286, 1), (289, 1), (290, 1), (300, 1), (308, 3), (309, 1), (310, 1), (313, 1), (314, 1), (325, 3), (327, 2), (340, 3), (344, 1), (346, 1), (351, 1), (358, 3), (359, 4), (361, 1), (363, 8), (364, 5), (367, 1), (373, 1), (376, 1), (391, 1), (414, 2), (415, 24), (416, 1), (417, 2), (421, 1), (422, 1), (430, 2), (440, 1), (455, 1), (463, 1), (476, 3), (485, 1), (493, 1), (499, 1), (504, 2), (519, 1), (527, 1), (535, 1), (539, 1), (556, 14), (558, 1), (574, 1), (575, 1), (581, 1), (585, 1), (587, 6), (590, 2), (605, 1), (628, 1), (629, 1), (633, 1), (634, 2), (636, 1), (640, 2), (644, 2), (646, 2), (654, 1), (662, 1), (664, 1), (666, 4), (669, 3), (672, 1), (678, 1), (679, 1), (680, 3), (681, 1), (685, 3), (708, 1), (711, 1), (729, 1), (734, 1), (744, 1), (746, 1), (753, 2), (760, 3), (762, 1), (773, 1), (788, 2), (798, 1), (814, 1), (821, 2), (829, 2), (833, 1), (852, 1), (857, 3), (869, 1), (894, 1), (897, 1), (920, 1), (927, 1), (936, 2), (944, 1), (945, 2), (955, 1), (962, 1), (975, 1), (988, 2), (992, 3), (995, 1), (1013, 3), (1019, 1), (1025, 5), (1039, 2), (1041, 3), (1042, 1), (1048, 1), (1060, 1), (1081, 1), (1082, 1), (1105, 3), (1113, 1), (1115, 1), (1125, 1), (1156, 2), (1173, 1), (1176, 1), (1194, 1), (1232, 2), (1238, 1), (1249, 1), (1269, 1), (1280, 1), (1283, 1), (1290, 1), (1293, 1), (1309, 1), (1315, 1), (1320, 2), (1323, 2), (1340, 1), (1358, 1), (1360, 1), (1363, 1), (1369, 1), (1374, 1), (1387, 1), (1388, 6), (1404, 2), (1417, 1), (1422, 3), (1429, 1), (1432, 2), (1435, 1), (1450, 1), (1454, 1), (1455, 2), (1463, 1), (1475, 1), (1481, 1), (1486, 2), (1496, 2), (1497, 1), (1506, 1), (1522, 1), (1543, 2), (1551, 1), (1571, 2), (1609, 1), (1633, 1), (1635, 6), (1637, 1), (1644, 1), (1676, 1), (1677, 2), (1680, 1), (1682, 2), (1684, 1), (1703, 4), (1713, 1), (1715, 1), (1718, 1), (1725, 3), (1727, 1), (1748, 9), (1763, 2), (1777, 1), (1784, 1), (1792, 1), (1801, 1), (1822, 1), (1825, 1), (1829, 1), (1863, 1), (1874, 3), (1886, 2), (1894, 1), (1903, 1), (1916, 1), (1936, 2), (1958, 1), (1969, 1), (1975, 1), (1991, 1), (1992, 3), (2019, 1), (2062, 1), (2064, 1), (2090, 2), (2105, 1), (2117, 8), (2148, 1), (2159, 1), (2161, 1), (2215, 1), (2218, 2), (2258, 1), (2307, 1), (2346, 1), (2357, 2), (2370, 1), (2372, 2), (2406, 1), (2429, 1), (2438, 1), (2502, 1), (2568, 1), (2576, 1), (2580, 1), (2610, 1), (2682, 2), (2722, 1), (2813, 1), (2821, 1), (2834, 1), (2847, 1), (2862, 1), (2898, 1), (2908, 1), (2943, 1), (2969, 1), (3030, 1), (3034, 1), (3046, 1), (3087, 1), (3207, 1), (3249, 1), (3256, 1), (3268, 1), (3279, 1), (3295, 1), (3326, 1), (3337, 1), (3407, 1), (3525, 1), (3548, 1), (3549, 1), (3687, 1), (3765, 1), (3784, 1), (3790, 1), (3884, 2), (3886, 1), (3896, 2), (3915, 1), (4038, 1), (4049, 1), (4084, 1), (4148, 1), (4157, 1), (4212, 1), (4272, 5), (4277, 1), (4380, 1), (4424, 1), (4467, 1), (4679, 1), (4831, 1), (4865, 1), (4881, 1), (5114, 1), (5121, 1), (5170, 1), (5171, 1), (5176, 2), (5178, 1), (5200, 1), (5245, 1), (5255, 1), (5284, 1), (5285, 1), (5286, 1), (5287, 2), (5288, 1), (5289, 2), (5290, 1), (5291, 1), (5292, 1), (5293, 1), (5294, 1), (5295, 1), (5296, 1), (5297, 1), (5298, 1), (5299, 1), (5300, 26), (5301, 1), (5302, 6), (5303, 2), (5304, 1), (5305, 1), (5306, 1), (5307, 1), (5308, 1), (5309, 1), (5310, 1), (5311, 1), (5312, 1), (5313, 1), (5314, 1), (5315, 1), (5316, 1), (5317, 2), (5318, 1), (5319, 1), (5320, 1), (5321, 1), (5322, 1), (5323, 1), (5324, 1), (5325, 1), (5326, 1), (5327, 1), (5328, 1), (5329, 1), (5330, 1), (5331, 1), (5332, 1), (5333, 2), (5334, 1), (5335, 1), (5336, 1), (5337, 1), (5338, 1), (5339, 1), (5340, 1), (5341, 1), (5342, 1), (5343, 1), (5344, 1), (5345, 1), (5346, 1), (5347, 1), (5348, 1), (5349, 1), (5350, 1), (5351, 1), (5352, 1), (5353, 1), (5354, 1), (5355, 1), (5356, 1), (5357, 1), (5358, 1), (5359, 3), (5360, 1), (5361, 1), (5362, 1), (5363, 1), (5364, 1), (5365, 1), (5366, 1), (5367, 1), (5368, 1), (5369, 1)], [(0, 1), (3, 2), (11, 1), (12, 2), (14, 2), (23, 2), (26, 1), (36, 1), (39, 1), (40, 1), (41, 4), (46, 1), (50, 3), (54, 10), (56, 2), (61, 2), (68, 1), (76, 5), (87, 6), (92, 1), (93, 1), (94, 1), (95, 1), (97, 2), (102, 1), (116, 2), (120, 1), (122, 3), (131, 1), (132, 1), (135, 1), (136, 1), (139, 8), (143, 1), (152, 1), (155, 5), (156, 2), (162, 1), (163, 1), (164, 1), (166, 2), (169, 2), (181, 3), (184, 1), (190, 2), (192, 1), (193, 3), (194, 1), (199, 1), (200, 2), (207, 1), (210, 7), (217, 2), (224, 9), (225, 2), (226, 1), (227, 1), (230, 1), (237, 1), (240, 1), (241, 3), (243, 1), (250, 1), (252, 3), (257, 1), (259, 2), (265, 1), (269, 2), (271, 3), (273, 1), (277, 2), (280, 1), (287, 1), (288, 16), (289, 1), (292, 1), (294, 1), (298, 3), (303, 5), (307, 1), (308, 1), (319, 1), (322, 5), (327, 1), (331, 5), (344, 1), (346, 2), (347, 1), (350, 1), (351, 3), (352, 2), (360, 3), (364, 1), (369, 2), (384, 3), (387, 2), (393, 2), (395, 1), (399, 3), (409, 4), (413, 1), (414, 2), (415, 26), (417, 3), (420, 1), (421, 4), (422, 3), (430, 1), (437, 1), (438, 2), (439, 2), (440, 8), (442, 1), (445, 4), (450, 2), (455, 5), (458, 5), (469, 4), (476, 6), (479, 1), (481, 2), (482, 4), (488, 1), (492, 2), (493, 1), (500, 1), (506, 1), (513, 1), (515, 2), (522, 2), (523, 1), (529, 1), (535, 31), (538, 1), (539, 9), (541, 2), (545, 1), (547, 1), (550, 2), (551, 4), (556, 2), (558, 4), (568, 1), (570, 1), (575, 1), (590, 5), (594, 3), (596, 1), (599, 1), (600, 2), (605, 1), (613, 1), (619, 1), (623, 2), (629, 1), (631, 2), (633, 5), (634, 3), (636, 2), (640, 4), (644, 1), (646, 4), (652, 6), (654, 1), (659, 1), (662, 5), (664, 5), (669, 4), (670, 4), (672, 1), (677, 2), (678, 1), (680, 5), (681, 7), (685, 16), (686, 7), (688, 1), (693, 2), (694, 1), (706, 1), (730, 1), (732, 2), (743, 1), (746, 2), (750, 6), (751, 1), (765, 4), (780, 1), (782, 2), (783, 3), (788, 3), (801, 4), (803, 2), (804, 2), (817, 1), (829, 2), (833, 1), (836, 1), (839, 1), (844, 1), (846, 1), (848, 1), (849, 1), (866, 1), (868, 1), (869, 3), (880, 1), (886, 2), (888, 3), (891, 10), (900, 2), (901, 3), (903, 2), (908, 3), (917, 2), (920, 1), (921, 1), (927, 5), (930, 2), (931, 1), (934, 1), (935, 1), (936, 1), (937, 6), (938, 2), (948, 1), (952, 2), (956, 1), (961, 4), (962, 1), (975, 10), (981, 1), (983, 2), (986, 1), (988, 3), (990, 7), (992, 6), (994, 1), (995, 3), (999, 2), (1002, 1), (1006, 1), (1013, 3), (1018, 2), (1029, 4), (1030, 1), (1034, 4), (1039, 1), (1049, 1), (1053, 1), (1055, 1), (1073, 6), (1075, 1), (1079, 2), (1084, 15), (1088, 1), (1089, 1), (1090, 1), (1092, 12), (1095, 1), (1097, 2), (1102, 2), (1103, 1), (1107, 1), (1123, 1), (1125, 1), (1126, 3), (1128, 1), (1131, 2), (1137, 3), (1141, 1), (1143, 1), (1153, 3), (1155, 1), (1168, 1), (1178, 1), (1185, 1), (1194, 1), (1201, 2), (1210, 1), (1218, 1), (1223, 3), (1225, 1), (1237, 2), (1239, 1), (1242, 3), (1245, 1), (1247, 1), (1250, 1), (1263, 1), (1265, 2), (1266, 2), (1267, 1), (1274, 1), (1277, 7), (1284, 1), (1286, 7), (1288, 2), (1290, 2), (1293, 2), (1295, 1), (1306, 1), (1312, 2), (1320, 3), (1323, 1), (1324, 1), (1328, 1), (1331, 1), (1333, 10), (1347, 1), (1351, 4), (1361, 1), (1363, 1), (1367, 3), (1371, 1), (1380, 1), (1415, 2), (1417, 1), (1425, 1), (1466, 1), (1467, 1), (1472, 1), (1482, 3), (1484, 2), (1494, 1), (1495, 20), (1506, 2), (1518, 2), (1521, 4), (1524, 1), (1539, 2), (1541, 1), (1544, 1), (1570, 1), (1577, 2), (1582, 3), (1584, 3), (1591, 5), (1592, 2), (1600, 1), (1606, 1), (1629, 2), (1631, 3), (1639, 1), (1641, 1), (1644, 1), (1648, 1), (1649, 2), (1651, 2), (1660, 1), (1680, 6), (1683, 2), (1684, 1), (1710, 2), (1713, 1), (1717, 1), (1718, 1), (1722, 2), (1727, 3), (1737, 2), (1747, 1), (1759, 2), (1763, 7), (1771, 1), (1772, 1), (1773, 1), (1798, 1), (1802, 1), (1824, 2), (1829, 1), (1840, 1), (1842, 1), (1843, 1), (1874, 2), (1890, 1), (1895, 1), (1901, 3), (1909, 1), (1926, 1), (1936, 3), (1946, 1), (1952, 2), (2009, 2), (2018, 2), (2019, 2), (2020, 1), (2021, 1), (2022, 4), (2037, 1), (2038, 3), (2039, 2), (2040, 1), (2053, 1), (2058, 1), (2064, 1), (2068, 2), (2072, 1), (2078, 1), (2080, 1), (2085, 1), (2106, 2), (2140, 1), (2160, 1), (2167, 4), (2181, 1), (2185, 1), (2188, 5), (2194, 1), (2196, 2), (2203, 1), (2215, 1), (2220, 5), (2233, 1), (2234, 1), (2239, 1), (2249, 1), (2250, 5), (2257, 1), (2262, 1), (2268, 2), (2271, 3), (2273, 1), (2275, 1), (2276, 2), (2277, 1), (2284, 1), (2294, 1), (2295, 4), (2298, 2), (2307, 4), (2313, 1), (2321, 2), (2327, 1), (2328, 1), (2334, 3), (2337, 2), (2340, 1), (2347, 1), (2357, 3), (2361, 1), (2370, 5), (2374, 5), (2377, 2), (2383, 1), (2390, 3), (2391, 1), (2404, 1), (2407, 1), (2428, 1), (2433, 1), (2449, 1), (2470, 1), (2482, 1), (2491, 1), (2524, 1), (2533, 1), (2541, 1), (2546, 1), (2560, 1), (2562, 1), (2565, 1), (2567, 1), (2579, 2), (2586, 1), (2601, 1), (2619, 1), (2624, 1), (2625, 1), (2630, 1), (2631, 1), (2636, 1), (2676, 1), (2685, 1), (2689, 7), (2711, 2), (2713, 10), (2721, 2), (2722, 9), (2768, 1), (2770, 1), (2771, 1), (2773, 1), (2781, 1), (2798, 1), (2808, 4), (2812, 1), (2815, 1), (2824, 1), (2827, 1), (2831, 1), (2840, 1), (2841, 1), (2847, 1), (2855, 1), (2861, 1), (2869, 1), (2871, 1), (2890, 2), (2906, 1), (2907, 1), (2920, 1), (2962, 2), (2969, 1), (2987, 2), (3008, 2), (3010, 2), (3020, 2), (3021, 2), (3030, 1), (3037, 3), (3041, 2), (3055, 1), (3058, 1), (3061, 1), (3069, 2), (3094, 5), (3101, 1), (3111, 1), (3115, 2), (3116, 1), (3127, 1), (3137, 1), (3139, 1), (3150, 1), (3154, 1), (3155, 1), (3167, 2), (3173, 1), (3175, 27), (3182, 1), (3211, 3), (3212, 2), (3218, 1), (3228, 12), (3229, 2), (3230, 11), (3231, 2), (3233, 6), (3238, 66), (3246, 4), (3247, 4), (3261, 1), (3270, 1), (3272, 1), (3275, 1), (3296, 1), (3300, 1), (3302, 1), (3326, 1), (3334, 1), (3337, 1), (3381, 1), (3388, 1), (3407, 1), (3412, 1), (3425, 1), (3431, 3), (3440, 1), (3445, 1), (3461, 1), (3480, 1), (3491, 1), (3492, 2), (3496, 1), (3500, 1), (3501, 1), (3509, 1), (3518, 10), (3554, 1), (3569, 1), (3606, 1), (3624, 1), (3627, 2), (3631, 1), (3632, 2), (3666, 1), (3704, 1), (3706, 1), (3733, 1), (3760, 1), (3771, 1), (3773, 3), (3782, 1), (3825, 1), (3841, 1), (3847, 1), (3878, 1), (3884, 1), (3891, 1), (3894, 1), (3941, 2), (3961, 5), (3977, 2), (3983, 1), (3989, 1), (4018, 1), (4024, 1), (4030, 25), (4039, 1), (4057, 1), (4083, 1), (4097, 1), (4178, 1), (4184, 3), (4205, 1), (4206, 1), (4254, 1), (4256, 1), (4260, 2), (4267, 3), (4277, 1), (4298, 3), (4304, 1), (4307, 1), (4316, 2), (4327, 1), (4338, 1), (4380, 2), (4390, 1), (4426, 9), (4484, 1), (4490, 1), (4521, 1), (4542, 1), (4551, 2), (4596, 1), (4617, 2), (4663, 1), (4675, 1), (4676, 1), (4689, 1), (4691, 1), (4705, 1), (4758, 1), (4780, 1), (4842, 1), (4865, 1), (4887, 1), (5001, 1), (5002, 2), (5003, 1), (5034, 1), (5060, 1), (5061, 1), (5063, 1), (5078, 1), (5080, 4), (5101, 3), (5103, 2), (5110, 1), (5112, 1), (5121, 3), (5122, 1), (5130, 1), (5137, 1), (5177, 1), (5212, 2), (5219, 1), (5247, 1), (5257, 1), (5348, 1), (5370, 3), (5371, 10), (5372, 1), (5373, 28), (5374, 1), (5375, 1), (5376, 1), (5377, 6), (5378, 4), (5379, 1), (5380, 1), (5381, 1), (5382, 2), (5383, 1), (5384, 1), (5385, 1), (5386, 1), (5387, 3), (5388, 1), (5389, 2), (5390, 1), (5391, 1), (5392, 1), (5393, 1), (5394, 1), (5395, 1), (5396, 3), (5397, 1), (5398, 1), (5399, 1), (5400, 1), (5401, 1), (5402, 1), (5403, 1), (5404, 1), (5405, 1), (5406, 1), (5407, 1), (5408, 1), (5409, 2), (5410, 1), (5411, 3), (5412, 1), (5413, 2), (5414, 3), (5415, 1), (5416, 1), (5417, 1), (5418, 1), (5419, 1), (5420, 1), (5421, 1), (5422, 1), (5423, 1), (5424, 1), (5425, 1), (5426, 1), (5427, 4), (5428, 1), (5429, 2), (5430, 1), (5431, 1), (5432, 1), (5433, 1), (5434, 1), (5435, 1), (5436, 1), (5437, 1), (5438, 1), (5439, 2), (5440, 1), (5441, 1), (5442, 1), (5443, 1), (5444, 1), (5445, 1), (5446, 1), (5447, 1), (5448, 1), (5449, 1), (5450, 3), (5451, 1), (5452, 3), (5453, 1), (5454, 4), (5455, 8), (5456, 11), (5457, 1), (5458, 1), (5459, 1), (5460, 2), (5461, 4), (5462, 1), (5463, 1), (5464, 2), (5465, 1), (5466, 8), (5467, 1), (5468, 1), (5469, 1), (5470, 2), (5471, 1), (5472, 1), (5473, 3), (5474, 1), (5475, 1), (5476, 1), (5477, 1), (5478, 1), (5479, 1), (5480, 1), (5481, 1), (5482, 1), (5483, 2), (5484, 1), (5485, 1), (5486, 1), (5487, 1), (5488, 1), (5489, 1), (5490, 1), (5491, 1), (5492, 3), (5493, 1), (5494, 1), (5495, 1), (5496, 1), (5497, 1), (5498, 1), (5499, 3), (5500, 1), (5501, 1), (5502, 1), (5503, 1), (5504, 1), (5505, 1), (5506, 2), (5507, 1), (5508, 1), (5509, 1), (5510, 1), (5511, 1), (5512, 1), (5513, 1), (5514, 5), (5515, 2), (5516, 4), (5517, 1), (5518, 1), (5519, 1), (5520, 1), (5521, 1), (5522, 1), (5523, 1), (5524, 1), (5525, 2), (5526, 1), (5527, 1), (5528, 1), (5529, 10), (5530, 1), (5531, 38), (5532, 1), (5533, 1), (5534, 2), (5535, 1), (5536, 1), (5537, 1), (5538, 1), (5539, 1), (5540, 1), (5541, 1), (5542, 1), (5543, 1), (5544, 1), (5545, 3), (5546, 1), (5547, 1)], [(9, 1), (25, 2), (36, 1), (39, 1), (54, 1), (61, 1), (64, 1), (76, 1), (80, 1), (87, 1), (91, 1), (102, 1), (122, 3), (125, 1), (141, 1), (153, 1), (155, 2), (164, 2), (166, 1), (169, 3), (170, 1), (174, 1), (181, 1), (184, 3), (190, 1), (200, 1), (202, 5), (217, 1), (223, 3), (224, 1), (226, 2), (236, 1), (237, 1), (247, 1), (252, 2), (269, 1), (271, 1), (277, 6), (279, 1), (298, 1), (299, 1), (303, 2), (306, 1), (309, 1), (310, 2), (329, 2), (345, 1), (346, 3), (351, 2), (352, 2), (353, 2), (355, 1), (363, 3), (364, 3), (369, 3), (372, 1), (384, 2), (387, 2), (393, 1), (407, 1), (409, 1), (412, 1), (415, 35), (416, 5), (417, 2), (420, 1), (421, 5), (422, 3), (429, 1), (433, 1), (440, 6), (450, 2), (455, 1), (465, 1), (469, 3), (470, 1), (476, 3), (488, 1), (492, 1), (493, 1), (518, 1), (519, 1), (521, 1), (522, 1), (527, 1), (535, 19), (539, 4), (545, 2), (546, 1), (556, 5), (558, 1), (575, 3), (576, 1), (585, 2), (590, 3), (593, 1), (614, 4), (628, 1), (629, 2), (633, 4), (634, 1), (635, 1), (636, 1), (644, 2), (646, 2), (654, 4), (659, 1), (662, 1), (666, 1), (669, 1), (670, 1), (672, 1), (673, 1), (674, 1), (677, 1), (680, 1), (681, 5), (683, 1), (685, 3), (686, 1), (690, 1), (693, 1), (694, 1), (702, 1), (705, 1), (707, 5), (719, 1), (723, 1), (759, 1), (764, 1), (773, 1), (783, 2), (797, 1), (798, 1), (801, 1), (815, 2), (821, 1), (825, 1), (833, 1), (853, 2), (857, 5), (865, 1), (869, 1), (880, 1), (886, 1), (887, 1), (888, 1), (894, 1), (900, 2), (908, 1), (917, 1), (928, 1), (930, 1), (936, 1), (937, 1), (943, 1), (944, 2), (945, 1), (965, 1), (975, 3), (978, 1), (981, 1), (995, 1), (999, 1), (1013, 1), (1025, 1), (1032, 3), (1041, 1), (1072, 1), (1075, 1), (1076, 1), (1082, 1), (1084, 2), (1085, 1), (1086, 1), (1092, 2), (1101, 1), (1105, 15), (1125, 1), (1127, 1), (1137, 1), (1142, 2), (1156, 1), (1158, 1), (1178, 2), (1184, 1), (1189, 1), (1194, 4), (1201, 3), (1204, 1), (1210, 1), (1222, 2), (1232, 1), (1234, 1), (1238, 1), (1239, 1), (1248, 2), (1255, 1), (1262, 1), (1268, 1), (1270, 1), (1278, 1), (1280, 1), (1283, 1), (1289, 1), (1290, 1), (1291, 1), (1295, 1), (1307, 1), (1320, 3), (1323, 2), (1333, 1), (1347, 3), (1356, 1), (1360, 1), (1361, 1), (1363, 1), (1371, 2), (1376, 1), (1377, 1), (1395, 1), (1402, 1), (1417, 1), (1432, 1), (1435, 2), (1448, 1), (1450, 2), (1472, 1), (1474, 1), (1475, 1), (1479, 1), (1482, 3), (1486, 1), (1539, 2), (1543, 2), (1551, 2), (1587, 1), (1588, 1), (1596, 1), (1606, 1), (1611, 1), (1633, 2), (1637, 1), (1684, 1), (1693, 2), (1703, 2), (1718, 1), (1722, 1), (1725, 1), (1738, 1), (1748, 6), (1758, 1), (1763, 1), (1769, 1), (1772, 1), (1780, 1), (1801, 1), (1813, 1), (1827, 1), (1829, 1), (1832, 1), (1839, 1), (1864, 1), (1874, 1), (1886, 1), (1906, 1), (1918, 1), (1923, 1), (1924, 1), (1936, 1), (1938, 1), (1952, 1), (1959, 1), (1970, 1), (1991, 2), (2050, 1), (2071, 1), (2072, 1), (2091, 1), (2110, 1), (2133, 1), (2155, 1), (2160, 1), (2163, 1), (2166, 1), (2191, 1), (2194, 1), (2196, 1), (2269, 1), (2297, 1), (2304, 1), (2315, 1), (2327, 1), (2361, 1), (2390, 1), (2400, 1), (2403, 1), (2407, 1), (2418, 2), (2423, 2), (2424, 1), (2466, 1), (2469, 1), (2491, 1), (2512, 1), (2517, 3), (2540, 1), (2568, 1), (2574, 1), (2580, 1), (2591, 1), (2659, 1), (2675, 1), (2689, 1), (2704, 1), (2722, 3), (2730, 1), (2745, 1), (2773, 1), (2802, 1), (2859, 1), (2902, 1), (2914, 1), (2942, 1), (2960, 1), (2964, 1), (2986, 1), (2989, 1), (3030, 1), (3034, 1), (3067, 1), (3069, 1), (3072, 2), (3092, 1), (3115, 1), (3168, 1), (3206, 3), (3261, 1), (3263, 1), (3267, 1), (3292, 1), (3390, 1), (3493, 1), (3528, 1), (3532, 1), (3606, 1), (3610, 1), (3612, 1), (3661, 1), (3687, 1), (3698, 1), (3712, 1), (3755, 4), (3766, 2), (3775, 1), (3777, 1), (3784, 1), (3790, 1), (3862, 1), (3878, 1), (3894, 1), (3930, 1), (3933, 1), (3941, 1), (4047, 1), (4050, 5), (4057, 1), (4133, 1), (4158, 1), (4215, 1), (4357, 1), (4370, 1), (4377, 1), (4389, 1), (4414, 3), (4452, 2), (4454, 1), (4500, 1), (4537, 1), (4597, 1), (4649, 1), (4650, 1), (4690, 1), (4697, 1), (4768, 1), (4774, 1), (4865, 3), (4921, 1), (5012, 1), (5068, 1), (5098, 2), (5103, 1), (5116, 1), (5120, 1), (5127, 1), (5144, 5), (5145, 1), (5160, 1), (5177, 1), (5219, 1), (5261, 1), (5278, 1), (5284, 1), (5293, 1), (5302, 3), (5373, 1), (5519, 1), (5527, 1), (5548, 2), (5549, 1), (5550, 1), (5551, 1), (5552, 1), (5553, 1), (5554, 1), (5555, 2), (5556, 1), (5557, 1), (5558, 2), (5559, 2), (5560, 1), (5561, 1), (5562, 1), (5563, 1), (5564, 1), (5565, 1), (5566, 1), (5567, 1), (5568, 1), (5569, 1), (5570, 1), (5571, 1), (5572, 1), (5573, 1), (5574, 1), (5575, 1), (5576, 1), (5577, 1), (5578, 1), (5579, 1), (5580, 1), (5581, 1), (5582, 2), (5583, 1), (5584, 1), (5585, 1), (5586, 2), (5587, 1), (5588, 1), (5589, 1), (5590, 1), (5591, 1), (5592, 1), (5593, 1), (5594, 1), (5595, 1), (5596, 1), (5597, 1), (5598, 1), (5599, 1), (5600, 1), (5601, 2), (5602, 23), (5603, 1), (5604, 1), (5605, 1), (5606, 1), (5607, 1), (5608, 1), (5609, 1), (5610, 1), (5611, 1), (5612, 1), (5613, 1), (5614, 1), (5615, 1), (5616, 2), (5617, 2), (5618, 1), (5619, 1), (5620, 1), (5621, 1), (5622, 1), (5623, 1), (5624, 2), (5625, 1), (5626, 1), (5627, 1), (5628, 1), (5629, 1), (5630, 1), (5631, 1), (5632, 1), (5633, 1), (5634, 1), (5635, 1), (5636, 1), (5637, 2), (5638, 3), (5639, 1), (5640, 1), (5641, 1), (5642, 1), (5643, 1), (5644, 1), (5645, 1), (5646, 1), (5647, 1), (5648, 1), (5649, 1), (5650, 1), (5651, 1)], [(26, 1), (31, 1), (47, 1), (80, 2), (102, 1), (116, 1), (122, 1), (149, 1), (190, 1), (200, 1), (226, 1), (228, 1), (257, 2), (259, 1), (260, 1), (277, 2), (288, 2), (299, 1), (303, 2), (322, 2), (349, 1), (361, 1), (376, 2), (415, 10), (422, 2), (439, 1), (450, 2), (462, 1), (467, 1), (505, 2), (535, 8), (544, 2), (545, 3), (556, 4), (601, 2), (617, 1), (629, 1), (631, 2), (646, 1), (652, 5), (654, 2), (662, 3), (664, 1), (666, 1), (669, 1), (672, 1), (674, 2), (681, 2), (688, 2), (755, 1), (774, 1), (787, 1), (788, 1), (802, 1), (832, 1), (853, 1), (856, 1), (876, 1), (891, 1), (906, 1), (924, 1), (934, 2), (992, 1), (1100, 1), (1102, 1), (1120, 1), (1173, 1), (1234, 1), (1280, 1), (1299, 2), (1304, 2), (1361, 1), (1363, 1), (1367, 1), (1381, 1), (1397, 1), (1448, 1), (1450, 2), (1468, 1), (1496, 1), (1506, 1), (1517, 4), (1527, 1), (1551, 1), (1562, 2), (1578, 1), (1584, 2), (1633, 1), (1693, 1), (1727, 1), (1773, 1), (1791, 2), (1805, 1), (1943, 1), (1950, 1), (2019, 1), (2023, 1), (2090, 3), (2091, 1), (2095, 1), (2099, 1), (2114, 1), (2125, 5), (2140, 1), (2159, 1), (2203, 1), (2211, 1), (2215, 1), (2372, 2), (2404, 1), (2437, 1), (2497, 1), (2627, 5), (2637, 1), (2643, 1), (2681, 1), (2722, 1), (3009, 1), (3045, 1), (3194, 1), (3209, 1), (3232, 1), (3245, 1), (3385, 1), (3408, 1), (3434, 1), (3652, 1), (3687, 2), (3987, 1), (4062, 1), (4101, 1), (4110, 1), (4130, 1), (4247, 1), (4367, 3), (4490, 1), (4521, 1), (4649, 1), (5050, 1), (5355, 1), (5406, 1), (5415, 1), (5652, 1), (5653, 1), (5654, 1), (5655, 1), (5656, 1), (5657, 1), (5658, 1), (5659, 2), (5660, 1), (5661, 1), (5662, 1), (5663, 2), (5664, 1), (5665, 1), (5666, 1), (5667, 1), (5668, 1), (5669, 2), (5670, 1), (5671, 1), (5672, 1), (5673, 1), (5674, 1), (5675, 2), (5676, 1), (5677, 1), (5678, 1), (5679, 1), (5680, 1), (5681, 1), (5682, 10), (5683, 1), (5684, 1), (5685, 1)], [(0, 1), (8, 1), (24, 1), (29, 1), (41, 2), (42, 1), (47, 1), (50, 1), (53, 1), (54, 4), (61, 4), (64, 1), (71, 1), (72, 1), (76, 1), (84, 1), (85, 3), (87, 3), (93, 1), (94, 1), (97, 3), (116, 1), (120, 2), (122, 5), (125, 1), (134, 1), (136, 3), (141, 1), (144, 1), (155, 5), (166, 1), (169, 1), (181, 1), (190, 3), (196, 1), (199, 1), (216, 1), (224, 2), (229, 1), (230, 1), (231, 1), (235, 2), (236, 1), (237, 2), (243, 1), (247, 1), (248, 1), (252, 2), (256, 1), (258, 1), (260, 1), (261, 1), (262, 1), (271, 3), (277, 4), (283, 2), (288, 1), (294, 1), (295, 1), (303, 1), (304, 2), (313, 1), (322, 5), (323, 1), (324, 2), (325, 2), (340, 2), (345, 1), (346, 1), (350, 1), (351, 4), (352, 1), (353, 1), (354, 1), (355, 1), (358, 1), (359, 2), (360, 2), (361, 1), (363, 5), (364, 4), (365, 1), (366, 2), (367, 1), (369, 3), (374, 1), (376, 1), (384, 2), (387, 9), (391, 1), (398, 2), (399, 1), (400, 3), (409, 1), (410, 2), (415, 34), (416, 9), (417, 2), (420, 1), (421, 1), (422, 2), (426, 1), (429, 1), (438, 1), (439, 1), (440, 6), (445, 3), (455, 8), (456, 1), (458, 1), (462, 1), (465, 1), (469, 1), (476, 5), (484, 1), (492, 1), (495, 1), (500, 1), (523, 1), (527, 8), (535, 29), (538, 2), (539, 5), (541, 4), (545, 4), (546, 1), (547, 1), (556, 1), (560, 1), (562, 2), (571, 1), (574, 3), (585, 1), (586, 1), (590, 2), (593, 1), (614, 7), (620, 2), (623, 1), (629, 4), (631, 2), (633, 2), (634, 1), (635, 3), (636, 2), (638, 1), (640, 1), (644, 1), (646, 2), (647, 2), (652, 1), (654, 2), (659, 1), (661, 1), (662, 9), (663, 2), (664, 6), (666, 3), (669, 1), (670, 1), (673, 8), (677, 1), (678, 2), (680, 3), (681, 4), (685, 10), (686, 3), (693, 1), (707, 1), (721, 1), (722, 1), (723, 3), (725, 1), (729, 2), (734, 1), (750, 1), (752, 2), (753, 1), (758, 1), (759, 1), (762, 1), (764, 1), (767, 1), (773, 2), (780, 1), (783, 1), (784, 1), (787, 3), (788, 2), (797, 2), (800, 2), (801, 4), (804, 1), (808, 1), (815, 1), (825, 2), (829, 2), (844, 2), (847, 1), (848, 1), (849, 1), (860, 1), (868, 1), (870, 4), (879, 2), (880, 2), (891, 6), (897, 1), (901, 1), (902, 2), (905, 5), (917, 8), (920, 1), (925, 1), (927, 6), (930, 2), (931, 1), (932, 2), (936, 2), (937, 1), (938, 2), (944, 1), (945, 2), (949, 1), (951, 1), (963, 2), (965, 2), (966, 3), (968, 1), (971, 2), (975, 3), (981, 1), (984, 3), (986, 3), (987, 13), (988, 2), (992, 1), (1003, 1), (1008, 1), (1013, 3), (1017, 1), (1018, 2), (1032, 4), (1039, 1), (1043, 2), (1048, 2), (1049, 1), (1056, 1), (1057, 1), (1060, 7), (1062, 1), (1064, 1), (1068, 2), (1073, 3), (1074, 1), (1080, 1), (1081, 2), (1084, 9), (1086, 1), (1087, 1), (1089, 1), (1092, 17), (1094, 1), (1099, 1), (1101, 1), (1105, 29), (1114, 3), (1115, 1), (1125, 1), (1126, 4), (1131, 2), (1133, 2), (1137, 1), (1143, 1), (1153, 7), (1156, 1), (1158, 3), (1159, 2), (1161, 2), (1167, 1), (1172, 2), (1173, 1), (1178, 2), (1184, 1), (1190, 1), (1194, 5), (1201, 2), (1210, 11), (1216, 1), (1229, 1), (1237, 1), (1246, 1), (1249, 3), (1263, 1), (1270, 2), (1272, 3), (1276, 1), (1280, 2), (1281, 2), (1288, 1), (1292, 1), (1301, 1), (1304, 3), (1306, 1), (1312, 1), (1320, 5), (1326, 1), (1332, 1), (1333, 1), (1343, 1), (1344, 5), (1351, 2), (1360, 19), (1363, 1), (1367, 1), (1374, 2), (1380, 1), (1381, 1), (1386, 1), (1387, 2), (1389, 2), (1390, 1), (1394, 2), (1397, 4), (1402, 1), (1404, 2), (1409, 2), (1412, 1), (1431, 1), (1435, 1), (1438, 2), (1440, 1), (1448, 2), (1450, 1), (1456, 1), (1466, 1), (1468, 2), (1475, 2), (1481, 1), (1482, 1), (1486, 1), (1489, 1), (1495, 1), (1509, 1), (1520, 1), (1521, 1), (1522, 1), (1524, 1), (1527, 1), (1539, 1), (1543, 1), (1556, 1), (1559, 1), (1570, 1), (1573, 1), (1577, 1), (1585, 1), (1586, 1), (1590, 1), (1594, 2), (1606, 1), (1609, 4), (1620, 2), (1623, 1), (1628, 1), (1629, 1), (1633, 3), (1635, 1), (1637, 1), (1646, 2), (1647, 1), (1648, 1), (1649, 1), (1652, 1), (1669, 1), (1676, 1), (1678, 1), (1680, 3), (1717, 3), (1720, 1), (1725, 2), (1737, 2), (1740, 2), (1747, 1), (1748, 5), (1749, 1), (1750, 1), (1763, 1), (1767, 1), (1769, 1), (1800, 1), (1806, 1), (1810, 4), (1813, 2), (1821, 1), (1837, 1), (1839, 2), (1852, 1), (1869, 1), (1874, 1), (1878, 1), (1886, 3), (1892, 2), (1902, 1), (1906, 8), (1912, 1), (1916, 2), (1923, 7), (1936, 1), (1957, 1), (1959, 1), (1973, 1), (1982, 1), (1991, 4), (1992, 1), (2001, 1), (2009, 1), (2018, 7), (2019, 3), (2030, 1), (2034, 1), (2060, 1), (2062, 2), (2072, 1), (2078, 3), (2080, 1), (2091, 1), (2096, 1), (2097, 1), (2113, 1), (2122, 1), (2130, 2), (2155, 1), (2158, 1), (2159, 2), (2169, 1), (2170, 1), (2177, 1), (2182, 1), (2183, 1), (2185, 1), (2187, 1), (2188, 6), (2191, 1), (2194, 1), (2195, 1), (2202, 1), (2205, 1), (2217, 1), (2259, 1), (2269, 1), (2304, 1), (2307, 1), (2327, 2), (2337, 2), (2339, 1), (2341, 1), (2386, 1), (2387, 1), (2391, 1), (2415, 1), (2427, 1), (2428, 1), (2446, 1), (2456, 1), (2474, 1), (2482, 2), (2494, 7), (2517, 1), (2524, 1), (2526, 4), (2531, 1), (2533, 1), (2540, 3), (2547, 1), (2554, 2), (2562, 1), (2582, 1), (2590, 1), (2592, 1), (2596, 1), (2597, 1), (2607, 1), (2610, 1), (2613, 1), (2618, 1), (2622, 1), (2630, 3), (2633, 1), (2637, 1), (2648, 1), (2654, 1), (2659, 1), (2671, 1), (2684, 1), (2689, 1), (2691, 1), (2709, 2), (2711, 1), (2713, 1), (2721, 1), (2722, 1), (2729, 4), (2730, 1), (2752, 1), (2759, 1), (2764, 1), (2767, 1), (2768, 1), (2772, 1), (2774, 1), (2776, 1), (2778, 1), (2796, 1), (2802, 1), (2808, 1), (2831, 1), (2840, 1), (2843, 1), (2844, 1), (2850, 2), (2851, 1), (2856, 1), (2865, 1), (2889, 3), (2893, 1), (2906, 2), (2925, 1), (2926, 4), (2927, 2), (2943, 1), (2969, 1), (3027, 1), (3030, 3), (3048, 1), (3063, 1), (3070, 2), (3072, 2), (3077, 1), (3087, 1), (3137, 1), (3149, 1), (3173, 1), (3207, 1), (3230, 2), (3256, 2), (3268, 1), (3277, 1), (3294, 2), (3297, 1), (3322, 7), (3334, 1), (3348, 1), (3376, 1), (3400, 2), (3415, 2), (3427, 1), (3448, 1), (3457, 1), (3486, 1), (3491, 1), (3495, 2), (3507, 1), (3512, 3), (3520, 1), (3523, 1), (3550, 1), (3569, 2), (3612, 2), (3637, 1), (3652, 1), (3668, 1), (3724, 1), (3737, 1), (3748, 2), (3756, 1), (3762, 2), (3767, 2), (3768, 1), (3770, 1), (3771, 1), (3775, 1), (3776, 1), (3791, 1), (3798, 1), (3823, 1), (3847, 2), (3875, 5), (3905, 1), (3906, 1), (3907, 1), (3943, 1), (3968, 1), (4011, 1), (4046, 1), (4050, 1), (4072, 1), (4083, 1), (4084, 1), (4095, 1), (4185, 1), (4198, 1), (4205, 1), (4271, 1), (4298, 1), (4303, 1), (4307, 1), (4331, 1), (4339, 1), (4349, 1), (4351, 1), (4380, 1), (4385, 3), (4409, 1), (4425, 1), (4441, 2), (4472, 1), (4476, 1), (4483, 2), (4485, 1), (4522, 1), (4523, 1), (4529, 1), (4565, 1), (4591, 1), (4597, 1), (4675, 1), (4691, 1), (4865, 1), (4921, 1), (4956, 4), (5105, 1), (5122, 1), (5130, 1), (5145, 1), (5163, 1), (5170, 1), (5191, 1), (5210, 1), (5212, 1), (5297, 3), (5320, 1), (5423, 1), (5560, 1), (5584, 2), (5592, 1), (5593, 1), (5598, 1), (5609, 1), (5619, 1), (5623, 1), (5628, 1), (5658, 1), (5686, 1), (5687, 1), (5688, 1), (5689, 1), (5690, 1), (5691, 1), (5692, 1), (5693, 1), (5694, 2), (5695, 1), (5696, 1), (5697, 1), (5698, 1), (5699, 1), (5700, 2), (5701, 1), (5702, 1), (5703, 2), (5704, 2), (5705, 1), (5706, 1), (5707, 1), (5708, 1), (5709, 1), (5710, 1), (5711, 1), (5712, 1), (5713, 1), (5714, 1), (5715, 1), (5716, 1), (5717, 1), (5718, 2), (5719, 2), (5720, 1), (5721, 1), (5722, 1), (5723, 1), (5724, 1), (5725, 1), (5726, 1), (5727, 1), (5728, 1), (5729, 1), (5730, 1), (5731, 1), (5732, 1), (5733, 1), (5734, 1), (5735, 1), (5736, 1), (5737, 1), (5738, 5), (5739, 1), (5740, 1), (5741, 1), (5742, 1), (5743, 1), (5744, 1), (5745, 1), (5746, 1), (5747, 2), (5748, 1), (5749, 1), (5750, 1), (5751, 1), (5752, 1), (5753, 1), (5754, 1), (5755, 7), (5756, 1), (5757, 1), (5758, 1), (5759, 1), (5760, 1), (5761, 1), (5762, 1), (5763, 1), (5764, 4), (5765, 1), (5766, 1), (5767, 1), (5768, 1), (5769, 1), (5770, 1), (5771, 1), (5772, 1), (5773, 1), (5774, 2), (5775, 1), (5776, 1), (5777, 1), (5778, 1), (5779, 1), (5780, 1), (5781, 1), (5782, 1), (5783, 1), (5784, 1), (5785, 1), (5786, 1), (5787, 1), (5788, 1), (5789, 3), (5790, 1), (5791, 1), (5792, 1), (5793, 2), (5794, 1), (5795, 1), (5796, 1), (5797, 1), (5798, 1), (5799, 1), (5800, 1), (5801, 1), (5802, 1), (5803, 1), (5804, 2), (5805, 1), (5806, 1), (5807, 1), (5808, 1), (5809, 1), (5810, 1), (5811, 1), (5812, 1), (5813, 1), (5814, 1), (5815, 1), (5816, 1), (5817, 1), (5818, 1), (5819, 1), (5820, 1), (5821, 1), (5822, 6), (5823, 1), (5824, 1), (5825, 1), (5826, 3), (5827, 1), (5828, 1), (5829, 1), (5830, 1), (5831, 1), (5832, 1), (5833, 1), (5834, 1), (5835, 1), (5836, 1), (5837, 1), (5838, 1), (5839, 1), (5840, 1), (5841, 1), (5842, 1), (5843, 1), (5844, 1), (5845, 1), (5846, 1), (5847, 1), (5848, 1), (5849, 1), (5850, 1), (5851, 1), (5852, 1), (5853, 1), (5854, 1), (5855, 1), (5856, 1), (5857, 1), (5858, 1), (5859, 1), (5860, 1), (5861, 1), (5862, 1)], [(0, 1), (20, 1), (23, 1), (33, 1), (53, 2), (54, 4), (55, 1), (68, 1), (87, 3), (91, 1), (99, 3), (106, 1), (116, 1), (119, 1), (122, 1), (135, 1), (141, 1), (149, 1), (155, 1), (156, 2), (171, 1), (179, 1), (181, 1), (182, 1), (193, 2), (209, 1), (217, 1), (224, 1), (226, 1), (241, 1), (249, 2), (252, 4), (257, 2), (265, 1), (269, 1), (271, 1), (273, 2), (277, 3), (279, 1), (283, 1), (288, 2), (303, 2), (309, 1), (310, 1), (312, 2), (325, 1), (344, 1), (351, 1), (355, 1), (363, 2), (369, 2), (371, 1), (374, 2), (378, 2), (384, 2), (393, 2), (399, 2), (414, 4), (415, 20), (421, 1), (422, 5), (438, 1), (440, 1), (442, 1), (445, 1), (450, 2), (455, 1), (456, 2), (457, 1), (465, 3), (476, 10), (492, 1), (503, 1), (523, 1), (526, 1), (535, 12), (539, 2), (547, 2), (590, 1), (594, 1), (596, 1), (614, 1), (629, 1), (633, 1), (635, 3), (646, 2), (652, 1), (663, 1), (664, 1), (672, 1), (673, 1), (678, 1), (680, 3), (681, 12), (685, 2), (690, 1), (694, 1), (706, 1), (707, 1), (708, 1), (720, 2), (725, 1), (743, 1), (745, 1), (750, 1), (752, 1), (765, 1), (767, 1), (770, 1), (780, 1), (783, 1), (787, 1), (798, 1), (801, 3), (802, 2), (808, 9), (809, 1), (844, 1), (851, 1), (853, 1), (870, 1), (872, 1), (891, 4), (897, 1), (898, 1), (900, 1), (917, 1), (922, 2), (927, 7), (930, 3), (931, 7), (934, 2), (935, 1), (936, 2), (949, 5), (959, 1), (965, 3), (975, 2), (988, 1), (992, 2), (999, 1), (1012, 1), (1016, 4), (1030, 1), (1032, 1), (1033, 1), (1037, 4), (1043, 1), (1055, 1), (1060, 3), (1068, 5), (1073, 2), (1074, 1), (1082, 1), (1084, 9), (1088, 1), (1101, 1), (1105, 17), (1108, 2), (1109, 4), (1118, 1), (1133, 4), (1134, 1), (1137, 1), (1142, 1), (1156, 2), (1163, 1), (1168, 1), (1172, 1), (1176, 2), (1190, 1), (1192, 1), (1193, 3), (1232, 1), (1242, 1), (1244, 2), (1247, 1), (1261, 1), (1263, 4), (1273, 1), (1280, 1), (1286, 6), (1293, 1), (1304, 1), (1306, 1), (1307, 1), (1320, 1), (1323, 1), (1333, 10), (1341, 1), (1344, 1), (1347, 1), (1356, 1), (1360, 8), (1367, 1), (1413, 1), (1416, 2), (1419, 1), (1438, 3), (1466, 1), (1468, 2), (1472, 1), (1483, 1), (1489, 2), (1495, 1), (1503, 1), (1513, 1), (1573, 1), (1577, 3), (1578, 1), (1584, 1), (1585, 3), (1589, 1), (1591, 1), (1606, 2), (1608, 1), (1612, 1), (1614, 1), (1642, 1), (1648, 5), (1669, 1), (1673, 1), (1693, 1), (1717, 1), (1722, 4), (1724, 3), (1739, 9), (1747, 3), (1748, 4), (1755, 3), (1759, 2), (1760, 1), (1766, 1), (1836, 2), (1864, 1), (1879, 1), (1882, 1), (1899, 1), (1912, 2), (1924, 1), (1946, 1), (1950, 1), (1952, 1), (1959, 1), (1991, 7), (1992, 1), (2009, 1), (2010, 1), (2012, 2), (2039, 1), (2054, 1), (2058, 3), (2064, 2), (2086, 1), (2096, 2), (2110, 1), (2131, 2), (2136, 1), (2161, 1), (2163, 1), (2166, 1), (2167, 2), (2185, 1), (2186, 1), (2192, 1), (2194, 1), (2200, 1), (2202, 1), (2209, 1), (2210, 22), (2211, 1), (2250, 1), (2257, 1), (2271, 1), (2275, 1), (2306, 2), (2307, 4), (2326, 1), (2363, 1), (2372, 2), (2400, 1), (2406, 1), (2412, 1), (2438, 1), (2444, 1), (2541, 8), (2547, 1), (2559, 1), (2560, 2), (2580, 1), (2584, 1), (2597, 1), (2625, 1), (2630, 2), (2631, 2), (2636, 2), (2661, 1), (2681, 1), (2689, 1), (2691, 1), (2692, 2), (2693, 1), (2694, 1), (2699, 1), (2708, 1), (2713, 1), (2721, 1), (2729, 2), (2744, 1), (2768, 1), (2791, 1), (2798, 1), (2805, 1), (2811, 3), (2819, 1), (2827, 2), (2831, 1), (2840, 1), (2904, 1), (2911, 1), (2944, 2), (2953, 2), (2960, 1), (2964, 1), (2970, 1), (2991, 1), (3013, 12), (3018, 1), (3046, 1), (3061, 1), (3086, 1), (3094, 4), (3106, 2), (3121, 1), (3122, 3), (3162, 1), (3267, 1), (3270, 1), (3289, 1), (3294, 1), (3296, 1), (3379, 2), (3415, 1), (3442, 1), (3447, 1), (3489, 1), (3491, 1), (3493, 1), (3509, 1), (3520, 1), (3525, 1), (3532, 1), (3546, 1), (3549, 1), (3569, 1), (3588, 1), (3674, 2), (3697, 1), (3800, 1), (3801, 1), (3825, 1), (3829, 1), (3830, 1), (3894, 1), (3898, 1), (3927, 1), (3941, 1), (3971, 1), (4032, 1), (4254, 3), (4260, 4), (4266, 1), (4267, 1), (4286, 5), (4290, 1), (4292, 1), (4298, 2), (4304, 1), (4307, 1), (4315, 1), (4321, 1), (4325, 1), (4342, 2), (4349, 2), (4351, 2), (4355, 3), (4370, 1), (4387, 1), (4422, 1), (4579, 1), (4583, 1), (4617, 1), (4639, 1), (4650, 1), (4831, 1), (4924, 1), (4958, 1), (4970, 1), (5007, 1), (5064, 3), (5107, 1), (5127, 1), (5157, 1), (5376, 1), (5402, 1), (5694, 2), (5763, 1), (5863, 1), (5864, 3), (5865, 1), (5866, 1), (5867, 1), (5868, 1), (5869, 1), (5870, 1), (5871, 1), (5872, 1), (5873, 1), (5874, 1), (5875, 1), (5876, 1), (5877, 1), (5878, 2), (5879, 1), (5880, 1), (5881, 1), (5882, 1), (5883, 1), (5884, 1), (5885, 1), (5886, 1), (5887, 3), (5888, 1), (5889, 1), (5890, 1), (5891, 1), (5892, 2), (5893, 1), (5894, 1), (5895, 1), (5896, 1), (5897, 1), (5898, 1), (5899, 1), (5900, 1), (5901, 1), (5902, 1), (5903, 1), (5904, 1), (5905, 1), (5906, 1), (5907, 1), (5908, 1)], [(3, 1), (13, 1), (17, 3), (20, 1), (23, 1), (26, 1), (36, 1), (41, 1), (48, 1), (50, 1), (51, 3), (52, 1), (54, 2), (60, 1), (61, 1), (67, 1), (71, 5), (72, 2), (85, 2), (87, 3), (92, 2), (96, 1), (110, 1), (116, 1), (122, 3), (125, 4), (132, 1), (133, 2), (136, 1), (137, 3), (141, 1), (149, 1), (154, 1), (155, 3), (169, 2), (170, 1), (181, 1), (182, 1), (190, 1), (194, 1), (217, 2), (224, 1), (225, 1), (226, 1), (229, 1), (236, 2), (237, 1), (240, 2), (241, 1), (242, 1), (243, 2), (249, 1), (252, 5), (253, 2), (257, 1), (259, 1), (260, 2), (271, 1), (275, 1), (277, 2), (279, 4), (292, 2), (294, 1), (295, 1), (298, 1), (303, 1), (304, 1), (306, 1), (309, 1), (310, 1), (312, 1), (322, 1), (327, 1), (331, 1), (338, 1), (341, 1), (345, 2), (347, 1), (351, 1), (352, 1), (354, 3), (359, 1), (361, 2), (363, 4), (364, 1), (369, 3), (374, 1), (376, 8), (377, 1), (378, 1), (387, 5), (393, 1), (395, 1), (396, 1), (399, 1), (407, 1), (412, 1), (417, 4), (420, 5), (421, 3), (422, 4), (424, 1), (429, 1), (439, 1), (440, 10), (450, 1), (462, 1), (467, 1), (469, 4), (476, 1), (492, 2), (497, 1), (500, 1), (501, 1), (503, 1), (504, 1), (522, 1), (523, 1), (545, 2), (546, 2), (547, 1), (550, 1), (552, 1), (559, 1), (568, 3), (574, 1), (575, 2), (585, 1), (586, 1), (589, 1), (590, 2), (594, 1), (602, 1), (605, 1), (614, 1), (617, 1), (620, 1), (627, 1), (630, 1), (631, 1), (633, 2), (635, 1), (636, 2), (640, 3), (644, 1), (646, 1), (652, 4), (664, 1), (669, 1), (673, 1), (674, 1), (679, 1), (681, 5), (683, 1), (685, 4), (686, 5), (688, 1), (708, 2), (711, 1), (723, 3), (725, 1), (729, 1), (731, 1), (732, 2), (742, 1), (746, 1), (747, 1), (750, 3), (758, 5), (759, 1), (764, 1), (765, 6), (766, 1), (783, 2), (787, 1), (788, 3), (790, 1), (798, 2), (803, 1), (809, 1), (810, 2), (812, 1), (815, 2), (829, 1), (832, 1), (844, 1), (850, 1), (854, 1), (869, 3), (887, 1), (891, 1), (894, 3), (910, 1), (912, 2), (914, 1), (927, 3), (930, 1), (931, 1), (947, 1), (962, 1), (966, 1), (985, 1), (986, 1), (999, 1), (1013, 2), (1018, 1), (1038, 2), (1041, 2), (1042, 1), (1061, 2), (1063, 1), (1073, 1), (1079, 1), (1082, 1), (1083, 1), (1085, 4), (1089, 1), (1101, 2), (1103, 3), (1125, 2), (1126, 3), (1128, 3), (1131, 1), (1139, 1), (1140, 1), (1142, 1), (1163, 1), (1169, 2), (1170, 1), (1176, 2), (1184, 2), (1194, 1), (1205, 1), (1206, 1), (1218, 1), (1223, 1), (1232, 1), (1236, 1), (1238, 1), (1245, 2), (1246, 1), (1248, 1), (1250, 1), (1263, 2), (1272, 1), (1282, 1), (1283, 1), (1288, 2), (1290, 3), (1293, 2), (1300, 2), (1306, 1), (1317, 1), (1318, 1), (1320, 1), (1323, 1), (1324, 2), (1327, 1), (1328, 1), (1343, 2), (1360, 1), (1361, 3), (1367, 1), (1369, 1), (1371, 1), (1373, 1), (1374, 1), (1381, 17), (1388, 3), (1404, 1), (1407, 1), (1413, 1), (1417, 1), (1419, 1), (1435, 1), (1446, 3), (1451, 1), (1465, 3), (1466, 5), (1467, 1), (1473, 2), (1478, 1), (1484, 3), (1486, 1), (1494, 1), (1495, 2), (1505, 2), (1506, 4), (1507, 1), (1517, 1), (1521, 1), (1522, 1), (1524, 1), (1539, 1), (1540, 5), (1551, 1), (1558, 3), (1566, 2), (1568, 1), (1570, 1), (1573, 2), (1577, 7), (1578, 6), (1580, 4), (1606, 1), (1616, 1), (1621, 1), (1626, 1), (1627, 1), (1637, 2), (1641, 1), (1646, 1), (1649, 1), (1655, 1), (1667, 1), (1673, 2), (1676, 1), (1677, 1), (1682, 2), (1693, 1), (1700, 2), (1708, 1), (1710, 1), (1715, 3), (1718, 8), (1722, 2), (1725, 1), (1727, 3), (1733, 1), (1737, 1), (1763, 3), (1770, 1), (1775, 1), (1791, 1), (1810, 2), (1821, 1), (1829, 1), (1847, 1), (1850, 1), (1853, 1), (1869, 1), (1874, 1), (1890, 1), (1894, 1), (1908, 3), (1909, 1), (1934, 1), (1937, 1), (1944, 1), (1948, 1), (1950, 1), (1956, 2), (1959, 1), (1961, 1), (1965, 1), (1988, 2), (1990, 1), (1992, 1), (1998, 1), (2005, 1), (2009, 1), (2014, 1), (2018, 1), (2019, 1), (2039, 2), (2045, 1), (2066, 1), (2068, 1), (2079, 6), (2082, 1), (2083, 1), (2092, 1), (2093, 1), (2109, 1), (2123, 1), (2128, 1), (2133, 2), (2163, 1), (2170, 1), (2189, 1), (2191, 1), (2194, 2), (2196, 2), (2204, 1), (2205, 1), (2208, 1), (2210, 1), (2211, 1), (2218, 1), (2241, 1), (2242, 1), (2266, 2), (2327, 6), (2345, 1), (2349, 1), (2354, 1), (2372, 2), (2374, 12), (2380, 1), (2386, 1), (2387, 1), (2404, 2), (2444, 1), (2446, 1), (2456, 1), (2459, 1), (2479, 1), (2482, 1), (2502, 1), (2516, 1), (2533, 4), (2534, 1), (2546, 1), (2555, 1), (2568, 1), (2604, 1), (2606, 1), (2611, 1), (2619, 1), (2628, 1), (2632, 1), (2650, 4), (2681, 1), (2689, 1), (2721, 2), (2745, 5), (2748, 1), (2772, 2), (2773, 1), (2798, 1), (2815, 1), (2820, 1), (2829, 1), (2831, 1), (2834, 1), (2840, 1), (2863, 3), (2865, 1), (2868, 1), (2898, 1), (2912, 1), (2914, 1), (2916, 1), (2940, 1), (2957, 1), (2962, 1), (2968, 1), (2992, 2), (2999, 1), (3004, 1), (3008, 2), (3013, 4), (3014, 3), (3022, 1), (3030, 2), (3042, 1), (3044, 1), (3048, 1), (3077, 1), (3082, 1), (3092, 1), (3110, 1), (3116, 1), (3117, 1), (3137, 1), (3173, 1), (3218, 1), (3232, 1), (3233, 1), (3239, 1), (3240, 3), (3242, 1), (3246, 1), (3265, 1), (3270, 1), (3312, 1), (3322, 1), (3337, 1), (3363, 1), (3368, 1), (3374, 1), (3413, 1), (3416, 1), (3419, 1), (3440, 1), (3448, 2), (3454, 1), (3463, 1), (3481, 1), (3489, 1), (3512, 1), (3558, 1), (3561, 1), (3577, 1), (3597, 1), (3603, 1), (3606, 1), (3621, 2), (3629, 2), (3631, 1), (3643, 1), (3665, 3), (3706, 1), (3732, 1), (3733, 1), (3737, 1), (3739, 1), (3745, 1), (3752, 1), (3754, 1), (3758, 2), (3782, 1), (3796, 2), (3894, 2), (3901, 1), (3907, 1), (3931, 1), (3933, 3), (3941, 1), (3944, 1), (3967, 1), (3968, 1), (3973, 1), (3985, 1), (3987, 1), (3995, 1), (4041, 1), (4049, 1), (4095, 1), (4117, 1), (4122, 1), (4146, 1), (4149, 1), (4193, 1), (4206, 1), (4266, 1), (4267, 1), (4323, 2), (4349, 1), (4351, 1), (4352, 1), (4372, 1), (4378, 1), (4391, 1), (4393, 1), (4412, 1), (4518, 1), (4529, 1), (4562, 3), (4583, 1), (4601, 1), (4630, 1), (4634, 1), (4650, 1), (4652, 1), (4653, 2), (4691, 1), (4693, 3), (4697, 1), (4762, 1), (4780, 1), (4787, 1), (4797, 1), (4860, 1), (4861, 1), (4869, 1), (4876, 1), (4885, 1), (4936, 1), (4952, 1), (4970, 1), (4996, 1), (5069, 1), (5070, 1), (5087, 1), (5098, 1), (5118, 1), (5157, 1), (5168, 1), (5181, 1), (5185, 1), (5194, 1), (5217, 1), (5250, 1), (5262, 1), (5288, 1), (5295, 1), (5315, 1), (5373, 1), (5388, 1), (5409, 1), (5422, 1), (5429, 1), (5539, 1), (5570, 1), (5581, 1), (5585, 1), (5677, 1), (5699, 1), (5747, 1), (5748, 1), (5784, 1), (5790, 1), (5794, 1), (5821, 1), (5854, 1), (5906, 1), (5909, 1), (5910, 1), (5911, 1), (5912, 1), (5913, 1), (5914, 6), (5915, 2), (5916, 1), (5917, 1), (5918, 4), (5919, 1), (5920, 1), (5921, 1), (5922, 1), (5923, 1), (5924, 1), (5925, 2), (5926, 1), (5927, 2), (5928, 1), (5929, 1), (5930, 1), (5931, 1), (5932, 1), (5933, 1), (5934, 1), (5935, 1), (5936, 3), (5937, 1), (5938, 1), (5939, 1), (5940, 1), (5941, 1), (5942, 1), (5943, 1), (5944, 1), (5945, 1), (5946, 1), (5947, 1), (5948, 1), (5949, 1), (5950, 1), (5951, 1), (5952, 1), (5953, 1), (5954, 1), (5955, 1), (5956, 1), (5957, 1), (5958, 1), (5959, 1), (5960, 1), (5961, 1), (5962, 1), (5963, 1), (5964, 1), (5965, 1), (5966, 1), (5967, 1), (5968, 1), (5969, 1), (5970, 2), (5971, 1), (5972, 1), (5973, 1), (5974, 1), (5975, 1), (5976, 1), (5977, 1), (5978, 1), (5979, 2), (5980, 1), (5981, 6), (5982, 1), (5983, 1), (5984, 1), (5985, 1), (5986, 1), (5987, 1), (5988, 1), (5989, 1), (5990, 1), (5991, 1), (5992, 1), (5993, 1), (5994, 1), (5995, 1), (5996, 1), (5997, 1), (5998, 1), (5999, 1), (6000, 1), (6001, 1), (6002, 1), (6003, 1), (6004, 1), (6005, 1), (6006, 1), (6007, 1), (6008, 1), (6009, 1), (6010, 1), (6011, 1), (6012, 1), (6013, 1), (6014, 1), (6015, 1), (6016, 1), (6017, 1), (6018, 1), (6019, 1), (6020, 2), (6021, 1), (6022, 1), (6023, 1), (6024, 1), (6025, 1), (6026, 1), (6027, 1), (6028, 1), (6029, 1), (6030, 1), (6031, 1), (6032, 1), (6033, 2), (6034, 1), (6035, 1), (6036, 1), (6037, 1), (6038, 1), (6039, 1), (6040, 1), (6041, 1), (6042, 1), (6043, 1), (6044, 1), (6045, 2), (6046, 1), (6047, 1), (6048, 1), (6049, 1), (6050, 2), (6051, 2), (6052, 1), (6053, 1), (6054, 1), (6055, 1), (6056, 1), (6057, 1), (6058, 3), (6059, 1), (6060, 1), (6061, 1), (6062, 1), (6063, 1), (6064, 1), (6065, 1), (6066, 1), (6067, 1), (6068, 1), (6069, 2), (6070, 1), (6071, 1), (6072, 1), (6073, 2), (6074, 1), (6075, 1), (6076, 1), (6077, 1), (6078, 1), (6079, 4), (6080, 1), (6081, 1), (6082, 1), (6083, 1), (6084, 1), (6085, 1), (6086, 1), (6087, 1), (6088, 1), (6089, 1), (6090, 1), (6091, 1), (6092, 1), (6093, 1), (6094, 1), (6095, 1), (6096, 1), (6097, 2), (6098, 1), (6099, 1), (6100, 1), (6101, 1), (6102, 1), (6103, 1), (6104, 3), (6105, 1), (6106, 1), (6107, 1), (6108, 1), (6109, 1), (6110, 1), (6111, 1), (6112, 1), (6113, 1), (6114, 1), (6115, 1), (6116, 2), (6117, 1), (6118, 1), (6119, 1), (6120, 1), (6121, 1), (6122, 1), (6123, 1), (6124, 1), (6125, 1), (6126, 1), (6127, 1), (6128, 1), (6129, 1), (6130, 1), (6131, 1), (6132, 1), (6133, 1), (6134, 1), (6135, 1), (6136, 1), (6137, 1), (6138, 1), (6139, 1), (6140, 1), (6141, 1), (6142, 1), (6143, 1), (6144, 1), (6145, 1), (6146, 2), (6147, 1), (6148, 1), (6149, 1), (6150, 1), (6151, 1), (6152, 1), (6153, 1), (6154, 2), (6155, 1), (6156, 1), (6157, 1), (6158, 1), (6159, 1), (6160, 1), (6161, 1), (6162, 1), (6163, 1), (6164, 1), (6165, 1), (6166, 1), (6167, 1), (6168, 1), (6169, 1), (6170, 1), (6171, 1), (6172, 1), (6173, 1), (6174, 1), (6175, 1), (6176, 1), (6177, 1), (6178, 1), (6179, 1), (6180, 2), (6181, 1), (6182, 1), (6183, 1), (6184, 1), (6185, 1), (6186, 1), (6187, 1), (6188, 2), (6189, 1), (6190, 1), (6191, 1), (6192, 1), (6193, 1), (6194, 1), (6195, 1), (6196, 1), (6197, 1), (6198, 2), (6199, 1), (6200, 1), (6201, 1), (6202, 1), (6203, 1), (6204, 1), (6205, 2), (6206, 1), (6207, 1), (6208, 1), (6209, 1), (6210, 1), (6211, 2), (6212, 2), (6213, 8), (6214, 1), (6215, 1), (6216, 1), (6217, 1)], [(20, 1), (21, 1), (22, 1), (23, 1), (25, 1), (28, 1), (40, 1), (41, 1), (48, 1), (51, 1), (54, 2), (57, 1), (64, 1), (84, 1), (85, 1), (87, 2), (91, 1), (132, 1), (145, 3), (164, 1), (166, 1), (169, 2), (210, 1), (224, 3), (225, 1), (235, 1), (240, 1), (241, 3), (250, 1), (252, 3), (258, 1), (259, 6), (271, 1), (277, 1), (288, 2), (294, 1), (295, 2), (298, 2), (303, 4), (306, 1), (307, 1), (310, 4), (340, 1), (341, 1), (347, 1), (349, 1), (351, 4), (359, 1), (361, 1), (364, 3), (369, 1), (374, 2), (387, 5), (393, 2), (399, 1), (409, 2), (413, 1), (414, 3), (415, 16), (420, 2), (430, 1), (438, 2), (440, 5), (445, 2), (453, 1), (455, 4), (457, 1), (468, 1), (479, 1), (485, 1), (488, 1), (504, 2), (519, 1), (523, 10), (535, 27), (539, 2), (541, 1), (546, 1), (547, 1), (556, 2), (568, 1), (585, 2), (590, 2), (602, 1), (615, 1), (631, 4), (633, 2), (635, 3), (640, 2), (644, 1), (646, 3), (654, 2), (662, 1), (664, 1), (666, 1), (677, 1), (680, 2), (685, 3), (686, 1), (693, 1), (696, 1), (701, 1), (723, 11), (735, 1), (743, 1), (746, 1), (765, 10), (768, 1), (783, 1), (787, 1), (788, 2), (801, 5), (802, 1), (815, 1), (825, 1), (826, 1), (829, 1), (844, 2), (869, 2), (870, 2), (879, 1), (882, 1), (891, 2), (894, 1), (900, 1), (914, 1), (930, 1), (939, 1), (956, 1), (971, 1), (975, 12), (988, 1), (994, 1), (995, 15), (999, 1), (1000, 3), (1017, 1), (1029, 1), (1030, 1), (1032, 1), (1053, 2), (1072, 1), (1073, 4), (1082, 1), (1084, 17), (1090, 1), (1092, 1), (1101, 1), (1120, 1), (1127, 3), (1129, 1), (1137, 3), (1138, 3), (1158, 2), (1161, 4), (1185, 1), (1191, 1), (1193, 1), (1201, 1), (1204, 2), (1210, 1), (1233, 2), (1242, 1), (1244, 1), (1246, 1), (1247, 1), (1251, 2), (1255, 2), (1270, 4), (1280, 1), (1287, 1), (1288, 1), (1289, 1), (1290, 1), (1291, 6), (1306, 4), (1309, 1), (1312, 1), (1315, 3), (1319, 1), (1322, 1), (1324, 1), (1326, 1), (1333, 5), (1337, 1), (1343, 1), (1347, 2), (1351, 3), (1371, 2), (1389, 1), (1412, 1), (1415, 1), (1424, 1), (1444, 1), (1450, 1), (1466, 1), (1482, 3), (1484, 1), (1489, 2), (1495, 4), (1515, 1), (1580, 1), (1591, 1), (1637, 1), (1642, 1), (1655, 1), (1656, 1), (1682, 1), (1683, 1), (1693, 1), (1713, 1), (1717, 1), (1718, 1), (1755, 3), (1758, 1), (1763, 1), (1783, 1), (1792, 1), (1824, 1), (1827, 1), (1843, 5), (1869, 3), (1885, 1), (1895, 1), (1933, 1), (1946, 2), (1952, 1), (1983, 1), (2031, 1), (2040, 1), (2058, 1), (2082, 1), (2117, 1), (2167, 3), (2170, 2), (2177, 1), (2207, 1), (2220, 3), (2234, 4), (2250, 5), (2258, 1), (2268, 6), (2278, 1), (2295, 4), (2297, 7), (2298, 1), (2314, 3), (2321, 2), (2327, 2), (2328, 1), (2334, 2), (2343, 1), (2344, 1), (2346, 3), (2357, 1), (2359, 1), (2376, 2), (2423, 1), (2456, 1), (2498, 5), (2511, 1), (2533, 1), (2534, 4), (2573, 1), (2601, 1), (2611, 1), (2620, 1), (2625, 1), (2626, 1), (2661, 1), (2679, 2), (2681, 1), (2708, 1), (2713, 1), (2747, 1), (2759, 6), (2770, 3), (2777, 1), (2796, 2), (2815, 5), (2927, 1), (2950, 1), (2962, 1), (2969, 1), (3000, 2), (3017, 1), (3027, 1), (3050, 1), (3075, 2), (3077, 1), (3101, 1), (3125, 1), (3211, 1), (3290, 1), (3309, 3), (3347, 1), (3408, 1), (3481, 2), (3496, 1), (3523, 1), (3525, 1), (3590, 1), (3614, 1), (3649, 1), (3695, 1), (3704, 1), (3752, 1), (3806, 4), (3883, 1), (3909, 1), (3956, 1), (4029, 2), (4159, 1), (4206, 1), (4393, 1), (4422, 1), (4483, 1), (4501, 1), (4663, 1), (4690, 1), (4712, 1), (4754, 1), (4816, 1), (4865, 1), (4883, 1), (4885, 1), (4891, 1), (4960, 1), (4985, 1), (4987, 1), (5001, 1), (5034, 1), (5126, 2), (5185, 1), (5219, 2), (5275, 4), (5378, 1), (5399, 1), (5433, 1), (5513, 2), (5514, 1), (5516, 3), (5529, 10), (5534, 1), (5760, 1), (5825, 1), (5869, 1), (5963, 1), (5980, 1), (5995, 1), (6020, 1), (6213, 1), (6218, 2), (6219, 2), (6220, 1), (6221, 1), (6222, 1), (6223, 2), (6224, 1), (6225, 1), (6226, 2), (6227, 1), (6228, 1), (6229, 1), (6230, 1), (6231, 1), (6232, 1), (6233, 1), (6234, 1), (6235, 1), (6236, 2), (6237, 2), (6238, 1), (6239, 1), (6240, 2), (6241, 1), (6242, 1), (6243, 1), (6244, 1), (6245, 1), (6246, 1), (6247, 1), (6248, 1), (6249, 1), (6250, 1), (6251, 1), (6252, 2), (6253, 1), (6254, 1), (6255, 1), (6256, 1), (6257, 1), (6258, 24), (6259, 1), (6260, 2), (6261, 1), (6262, 1), (6263, 1), (6264, 1), (6265, 1), (6266, 2), (6267, 1), (6268, 4), (6269, 1), (6270, 1), (6271, 3), (6272, 1), (6273, 1), (6274, 1), (6275, 2), (6276, 2), (6277, 1), (6278, 1), (6279, 1), (6280, 1), (6281, 1), (6282, 1), (6283, 1), (6284, 1), (6285, 1), (6286, 1), (6287, 1), (6288, 1), (6289, 10), (6290, 1), (6291, 1), (6292, 3), (6293, 1), (6294, 1), (6295, 2), (6296, 1), (6297, 1), (6298, 1), (6299, 1), (6300, 1), (6301, 1), (6302, 1), (6303, 1), (6304, 1), (6305, 1), (6306, 1), (6307, 1), (6308, 1), (6309, 1), (6310, 1), (6311, 1), (6312, 1), (6313, 1), (6314, 1), (6315, 1), (6316, 1), (6317, 1), (6318, 1), (6319, 1)], [(13, 1), (20, 1), (25, 1), (33, 1), (41, 5), (50, 1), (52, 1), (53, 1), (54, 1), (61, 3), (71, 3), (97, 2), (99, 1), (101, 1), (102, 2), (103, 1), (116, 1), (120, 1), (122, 1), (135, 1), (139, 3), (141, 1), (143, 1), (164, 1), (165, 1), (169, 2), (181, 1), (185, 2), (200, 1), (206, 2), (217, 1), (224, 1), (226, 1), (227, 2), (229, 1), (240, 1), (250, 2), (252, 2), (261, 2), (271, 3), (277, 2), (279, 1), (288, 1), (295, 1), (301, 1), (303, 1), (306, 3), (310, 1), (311, 2), (322, 3), (350, 2), (355, 1), (363, 1), (364, 1), (371, 2), (378, 1), (384, 3), (386, 3), (387, 4), (389, 2), (393, 1), (409, 2), (415, 9), (416, 7), (420, 3), (422, 18), (424, 3), (426, 1), (440, 4), (450, 1), (455, 3), (465, 5), (469, 1), (476, 1), (478, 1), (485, 1), (492, 1), (504, 1), (527, 1), (535, 21), (545, 1), (546, 1), (551, 2), (552, 1), (558, 2), (560, 1), (562, 1), (576, 1), (580, 1), (585, 6), (590, 2), (600, 1), (601, 2), (613, 6), (614, 2), (628, 1), (631, 3), (640, 1), (646, 1), (654, 2), (662, 1), (663, 1), (664, 1), (667, 1), (669, 1), (680, 1), (681, 11), (685, 8), (688, 8), (695, 1), (696, 2), (714, 1), (718, 1), (723, 27), (725, 1), (750, 3), (765, 3), (781, 1), (784, 1), (787, 1), (788, 2), (794, 1), (802, 1), (803, 2), (828, 1), (829, 4), (844, 1), (849, 2), (857, 2), (878, 1), (880, 2), (882, 1), (914, 1), (923, 2), (926, 1), (927, 2), (930, 1), (945, 1), (949, 3), (1009, 1), (1024, 2), (1033, 1), (1041, 1), (1042, 2), (1082, 1), (1084, 1), (1090, 1), (1103, 2), (1118, 1), (1131, 1), (1133, 1), (1161, 1), (1163, 2), (1173, 1), (1176, 4), (1178, 1), (1187, 1), (1232, 3), (1236, 1), (1273, 1), (1275, 1), (1277, 1), (1301, 1), (1306, 1), (1319, 1), (1323, 1), (1330, 4), (1335, 1), (1363, 1), (1371, 1), (1377, 2), (1397, 1), (1402, 1), (1403, 1), (1404, 1), (1409, 1), (1412, 1), (1415, 4), (1416, 1), (1417, 2), (1432, 1), (1435, 2), (1444, 1), (1466, 1), (1468, 1), (1482, 6), (1495, 6), (1506, 1), (1521, 1), (1539, 1), (1577, 1), (1589, 1), (1597, 1), (1606, 1), (1621, 1), (1627, 1), (1637, 1), (1647, 1), (1652, 1), (1669, 3), (1683, 2), (1702, 1), (1713, 1), (1715, 1), (1737, 1), (1755, 2), (1772, 1), (1773, 1), (1824, 1), (1843, 1), (1889, 1), (1890, 5), (1895, 2), (1954, 2), (2040, 12), (2064, 1), (2068, 1), (2086, 4), (2096, 5), (2122, 1), (2136, 4), (2157, 1), (2163, 1), (2167, 1), (2190, 1), (2192, 1), (2202, 1), (2207, 1), (2247, 1), (2250, 1), (2269, 1), (2274, 1), (2321, 9), (2327, 1), (2361, 1), (2372, 1), (2392, 1), (2394, 1), (2428, 1), (2482, 1), (2491, 1), (2534, 2), (2580, 1), (2590, 1), (2613, 1), (2620, 1), (2624, 1), (2668, 1), (2679, 1), (2690, 1), (2702, 1), (2711, 1), (2722, 1), (2734, 1), (2760, 1), (2761, 1), (2768, 1), (2777, 1), (2789, 1), (2816, 6), (2834, 2), (2862, 1), (2870, 2), (2877, 2), (2910, 2), (2924, 1), (2957, 4), (2960, 3), (3008, 2), (3009, 1), (3025, 2), (3056, 1), (3069, 1), (3077, 1), (3094, 1), (3137, 1), (3249, 1), (3251, 1), (3267, 1), (3358, 1), (3385, 1), (3425, 3), (3428, 2), (3471, 4), (3483, 2), (3569, 1), (3587, 1), (3622, 1), (3645, 2), (3654, 1), (3668, 1), (3687, 1), (3689, 1), (3739, 1), (3775, 1), (3776, 1), (3800, 1), (3805, 1), (3831, 5), (3927, 1), (3961, 1), (4032, 1), (4057, 1), (4215, 1), (4228, 1), (4355, 1), (4356, 1), (4369, 1), (4382, 7), (4394, 1), (4452, 1), (4500, 1), (4502, 1), (4569, 2), (4592, 2), (4653, 1), (4718, 2), (4722, 1), (4763, 1), (4852, 1), (4859, 1), (4865, 1), (4874, 1), (4883, 1), (4891, 1), (4933, 1), (5025, 1), (5136, 1), (5225, 1), (5271, 1), (5519, 1), (5573, 2), (5585, 1), (5661, 1), (5955, 1), (6134, 1), (6136, 2), (6216, 2), (6244, 1), (6256, 2), (6319, 2), (6320, 1), (6321, 1), (6322, 1), (6323, 1), (6324, 1), (6325, 1), (6326, 2), (6327, 7), (6328, 14), (6329, 1), (6330, 1), (6331, 1), (6332, 1), (6333, 1), (6334, 1), (6335, 3), (6336, 1), (6337, 1), (6338, 1), (6339, 1), (6340, 1), (6341, 3), (6342, 27), (6343, 1), (6344, 3), (6345, 6), (6346, 1), (6347, 1), (6348, 1), (6349, 1), (6350, 12), (6351, 1), (6352, 1), (6353, 1), (6354, 1), (6355, 1), (6356, 1), (6357, 1), (6358, 1), (6359, 1), (6360, 1), (6361, 2), (6362, 1), (6363, 2), (6364, 1), (6365, 1), (6366, 1), (6367, 1), (6368, 1), (6369, 1), (6370, 1), (6371, 2), (6372, 1), (6373, 1), (6374, 2), (6375, 1), (6376, 1), (6377, 1), (6378, 1), (6379, 1), (6380, 1), (6381, 1), (6382, 1), (6383, 2), (6384, 1)], [(9, 1), (51, 1), (54, 1), (56, 1), (71, 1), (76, 1), (87, 1), (93, 1), (96, 2), (125, 2), (134, 1), (155, 1), (169, 2), (174, 1), (193, 1), (194, 1), (201, 1), (202, 9), (210, 1), (212, 1), (226, 1), (247, 1), (252, 1), (260, 2), (271, 1), (283, 2), (303, 1), (311, 1), (322, 1), (331, 1), (345, 2), (347, 1), (351, 1), (352, 1), (363, 1), (376, 1), (384, 1), (386, 3), (415, 10), (420, 2), (422, 4), (425, 1), (426, 1), (440, 6), (450, 1), (492, 2), (503, 2), (510, 1), (521, 1), (535, 4), (544, 1), (576, 3), (585, 1), (620, 1), (624, 1), (628, 2), (629, 1), (630, 1), (634, 1), (646, 1), (662, 1), (664, 1), (673, 1), (677, 1), (682, 1), (683, 1), (685, 4), (759, 1), (783, 1), (788, 2), (825, 1), (849, 1), (914, 1), (934, 1), (935, 1), (984, 1), (1032, 1), (1033, 1), (1083, 1), (1086, 6), (1163, 1), (1174, 1), (1176, 2), (1280, 1), (1288, 1), (1290, 1), (1304, 1), (1306, 1), (1320, 1), (1343, 1), (1381, 4), (1390, 3), (1404, 1), (1446, 3), (1475, 1), (1486, 1), (1496, 2), (1505, 1), (1515, 1), (1517, 1), (1518, 1), (1558, 2), (1566, 1), (1577, 1), (1578, 1), (1602, 1), (1606, 1), (1647, 1), (1718, 2), (1727, 1), (1763, 2), (1808, 2), (1819, 1), (1881, 17), (1943, 1), (1977, 3), (1992, 2), (2160, 4), (2207, 1), (2211, 1), (2276, 1), (2293, 1), (2294, 1), (2321, 1), (2327, 1), (2341, 1), (2365, 1), (2372, 1), (2390, 1), (2399, 2), (2418, 1), (2550, 1), (2580, 1), (2603, 2), (2604, 1), (2652, 1), (2784, 2), (2843, 1), (2964, 1), (3017, 1), (3082, 1), (3135, 1), (3168, 1), (3206, 10), (3549, 2), (3595, 1), (3637, 1), (3712, 1), (3941, 1), (4050, 1), (4211, 1), (4337, 1), (4454, 1), (4583, 1), (4644, 1), (5284, 1), (5372, 1), (5433, 1), (5487, 1), (5560, 1), (5626, 1), (5803, 1), (5854, 1), (5921, 1), (5966, 1), (6211, 1), (6262, 1), (6385, 1), (6386, 1), (6387, 1), (6388, 1), (6389, 1), (6390, 1), (6391, 4), (6392, 1), (6393, 1), (6394, 1), (6395, 1), (6396, 1), (6397, 1), (6398, 1), (6399, 1), (6400, 1), (6401, 1), (6402, 1), (6403, 1), (6404, 1), (6405, 1), (6406, 1), (6407, 1), (6408, 1), (6409, 1), (6410, 1), (6411, 1), (6412, 1), (6413, 1), (6414, 1), (6415, 1), (6416, 3), (6417, 4), (6418, 1), (6419, 1), (6420, 1), (6421, 9), (6422, 9), (6423, 1), (6424, 1), (6425, 1), (6426, 1), (6427, 1), (6428, 1)], [(0, 1), (3, 1), (14, 1), (17, 1), (32, 1), (39, 2), (40, 1), (48, 1), (50, 1), (54, 4), (56, 1), (61, 2), (62, 1), (71, 3), (72, 2), (76, 2), (85, 1), (87, 1), (90, 1), (93, 1), (96, 2), (102, 1), (110, 1), (122, 3), (131, 1), (132, 2), (143, 1), (149, 1), (152, 1), (164, 1), (181, 4), (190, 1), (203, 2), (206, 1), (210, 1), (217, 3), (224, 6), (226, 1), (245, 1), (259, 1), (260, 3), (273, 2), (288, 4), (289, 1), (291, 1), (292, 1), (298, 1), (301, 1), (304, 1), (307, 1), (309, 1), (310, 1), (311, 1), (313, 1), (322, 4), (329, 1), (331, 1), (346, 1), (347, 3), (351, 1), (352, 1), (360, 1), (363, 1), (364, 3), (369, 1), (385, 2), (387, 1), (389, 2), (393, 1), (395, 1), (405, 1), (409, 1), (412, 2), (413, 1), (414, 1), (415, 24), (417, 3), (421, 6), (422, 3), (429, 1), (438, 2), (439, 1), (440, 4), (445, 1), (455, 6), (457, 1), (462, 1), (465, 1), (476, 2), (481, 1), (488, 2), (492, 1), (493, 2), (498, 1), (519, 1), (521, 1), (523, 1), (527, 2), (535, 20), (546, 2), (547, 1), (556, 2), (558, 1), (568, 1), (576, 1), (585, 2), (590, 2), (618, 1), (619, 2), (620, 1), (631, 4), (635, 2), (644, 2), (646, 6), (654, 4), (659, 1), (662, 2), (664, 1), (670, 1), (672, 4), (673, 1), (678, 1), (680, 2), (681, 4), (685, 5), (686, 1), (693, 3), (695, 1), (705, 1), (723, 6), (725, 1), (734, 1), (746, 2), (750, 2), (752, 5), (759, 1), (760, 1), (770, 2), (782, 2), (783, 4), (787, 1), (788, 1), (801, 6), (808, 2), (809, 1), (810, 1), (817, 1), (829, 3), (830, 1), (832, 1), (833, 1), (836, 2), (844, 1), (851, 1), (860, 6), (864, 1), (872, 1), (878, 1), (885, 1), (888, 1), (891, 2), (894, 1), (900, 12), (927, 1), (930, 1), (935, 1), (941, 1), (957, 1), (958, 1), (959, 1), (961, 6), (967, 1), (975, 3), (987, 1), (990, 3), (994, 1), (995, 7), (999, 1), (1000, 4), (1001, 1), (1004, 1), (1006, 1), (1016, 1), (1017, 2), (1020, 1), (1024, 1), (1025, 1), (1032, 1), (1042, 4), (1054, 1), (1061, 1), (1072, 1), (1073, 4), (1084, 6), (1089, 1), (1090, 1), (1092, 1), (1093, 1), (1097, 6), (1112, 5), (1120, 1), (1139, 1), (1140, 1), (1152, 1), (1161, 2), (1163, 1), (1167, 1), (1168, 1), (1177, 1), (1184, 1), (1203, 1), (1209, 1), (1210, 1), (1214, 1), (1216, 1), (1223, 1), (1241, 1), (1246, 1), (1250, 1), (1251, 1), (1270, 7), (1272, 1), (1280, 1), (1282, 1), (1288, 1), (1290, 1), (1291, 4), (1293, 2), (1299, 2), (1304, 1), (1308, 1), (1311, 1), (1312, 2), (1316, 3), (1322, 1), (1328, 1), (1335, 5), (1343, 2), (1347, 1), (1348, 2), (1351, 1), (1355, 1), (1361, 1), (1363, 1), (1367, 1), (1386, 1), (1387, 3), (1389, 3), (1425, 1), (1429, 1), (1444, 1), (1446, 1), (1468, 1), (1478, 1), (1484, 2), (1489, 1), (1492, 1), (1495, 1), (1497, 1), (1502, 1), (1513, 1), (1515, 1), (1521, 1), (1527, 1), (1533, 1), (1538, 1), (1539, 1), (1546, 1), (1559, 1), (1570, 1), (1573, 4), (1577, 3), (1580, 1), (1584, 1), (1587, 1), (1594, 1), (1614, 1), (1616, 1), (1623, 1), (1625, 1), (1641, 1), (1650, 1), (1653, 1), (1656, 1), (1658, 1), (1669, 1), (1677, 1), (1678, 1), (1680, 1), (1682, 2), (1697, 2), (1710, 1), (1718, 3), (1725, 2), (1727, 3), (1737, 2), (1760, 1), (1814, 1), (1815, 1), (1821, 1), (1829, 1), (1858, 2), (1879, 2), (1887, 1), (1912, 1), (1941, 1), (1944, 1), (1983, 1), (1991, 1), (1992, 1), (1993, 1), (2010, 1), (2039, 1), (2040, 3), (2046, 1), (2058, 1), (2062, 1), (2065, 1), (2082, 4), (2088, 1), (2096, 2), (2105, 1), (2106, 1), (2113, 1), (2117, 1), (2124, 1), (2155, 1), (2158, 1), (2159, 4), (2167, 3), (2181, 1), (2188, 1), (2189, 1), (2190, 1), (2204, 1), (2216, 1), (2234, 1), (2269, 1), (2281, 1), (2282, 2), (2290, 1), (2294, 1), (2297, 1), (2298, 1), (2307, 1), (2310, 1), (2327, 2), (2335, 1), (2349, 1), (2352, 1), (2357, 1), (2359, 1), (2365, 2), (2366, 1), (2368, 2), (2370, 6), (2373, 1), (2393, 1), (2400, 1), (2414, 2), (2419, 1), (2421, 14), (2423, 2), (2428, 1), (2433, 1), (2438, 2), (2443, 4), (2445, 11), (2449, 1), (2465, 15), (2485, 10), (2488, 2), (2492, 1), (2527, 10), (2533, 1), (2586, 1), (2604, 1), (2664, 1), (2670, 1), (2673, 1), (2677, 2), (2679, 2), (2681, 1), (2689, 1), (2729, 1), (2755, 1), (2771, 2), (2773, 1), (2798, 1), (2815, 4), (2822, 1), (2827, 2), (2907, 2), (2942, 1), (2964, 1), (3000, 1), (3004, 1), (3016, 1), (3032, 1), (3034, 1), (3040, 2), (3115, 1), (3124, 1), (3206, 3), (3240, 1), (3261, 1), (3272, 2), (3280, 1), (3296, 1), (3304, 1), (3306, 1), (3318, 1), (3337, 2), (3338, 1), (3353, 1), (3381, 1), (3382, 1), (3414, 1), (3431, 1), (3451, 1), (3460, 1), (3464, 1), (3470, 1), (3519, 1), (3541, 1), (3551, 1), (3579, 2), (3609, 1), (3701, 1), (3825, 1), (3835, 1), (3871, 1), (3878, 1), (3894, 1), (3968, 2), (3971, 1), (3990, 1), (4024, 1), (4028, 1), (4035, 1), (4048, 1), (4097, 1), (4117, 1), (4198, 1), (4298, 3), (4304, 2), (4382, 4), (4403, 1), (4441, 1), (4452, 1), (4485, 1), (4496, 1), (4511, 1), (4554, 1), (4655, 4), (4656, 1), (4690, 1), (4715, 1), (4722, 1), (4759, 1), (4833, 1), (4846, 8), (4876, 1), (4921, 1), (4930, 1), (4969, 1), (4975, 1), (4985, 1), (4987, 2), (5003, 1), (5098, 1), (5101, 2), (5106, 1), (5107, 4), (5121, 5), (5199, 1), (5217, 1), (5288, 1), (5352, 1), (5465, 1), (5481, 1), (5499, 1), (5503, 1), (5539, 1), (5598, 1), (5668, 1), (5797, 1), (5823, 1), (5848, 1), (5849, 1), (5911, 1), (6023, 1), (6036, 4), (6229, 2), (6271, 1), (6273, 1), (6316, 1), (6320, 1), (6429, 1), (6430, 1), (6431, 1), (6432, 1), (6433, 1), (6434, 1), (6435, 1), (6436, 4), (6437, 1), (6438, 1), (6439, 1), (6440, 1), (6441, 1), (6442, 2), (6443, 1), (6444, 1), (6445, 1), (6446, 1), (6447, 1), (6448, 1), (6449, 2), (6450, 1), (6451, 1), (6452, 2), (6453, 1), (6454, 1), (6455, 1), (6456, 1), (6457, 1), (6458, 1), (6459, 1), (6460, 1), (6461, 3), (6462, 1), (6463, 1), (6464, 1), (6465, 1), (6466, 1), (6467, 1), (6468, 1), (6469, 1), (6470, 2), (6471, 1), (6472, 1), (6473, 1), (6474, 1), (6475, 1), (6476, 1), (6477, 2), (6478, 1), (6479, 1), (6480, 2), (6481, 1), (6482, 1), (6483, 1), (6484, 1), (6485, 1), (6486, 1), (6487, 3), (6488, 2), (6489, 1), (6490, 1), (6491, 1), (6492, 1), (6493, 1), (6494, 1), (6495, 1), (6496, 1), (6497, 2), (6498, 1), (6499, 6), (6500, 1), (6501, 2), (6502, 1), (6503, 1), (6504, 1), (6505, 1), (6506, 1), (6507, 1), (6508, 1), (6509, 3), (6510, 2), (6511, 1), (6512, 1), (6513, 1), (6514, 1), (6515, 1), (6516, 1), (6517, 1), (6518, 1), (6519, 1), (6520, 1), (6521, 1), (6522, 1), (6523, 1), (6524, 1), (6525, 1), (6526, 1), (6527, 3), (6528, 1), (6529, 1)], [(17, 2), (20, 1), (21, 1), (23, 2), (32, 1), (41, 1), (51, 2), (52, 1), (54, 1), (64, 1), (92, 1), (93, 2), (96, 1), (135, 1), (139, 2), (149, 1), (155, 2), (162, 2), (166, 2), (169, 1), (174, 1), (181, 4), (184, 2), (224, 3), (228, 1), (229, 1), (241, 2), (248, 1), (252, 1), (260, 1), (261, 1), (271, 2), (277, 4), (289, 1), (298, 1), (304, 1), (309, 2), (310, 1), (311, 1), (322, 2), (347, 2), (350, 1), (358, 1), (363, 5), (364, 1), (377, 3), (378, 2), (384, 1), (385, 1), (387, 2), (388, 1), (391, 1), (393, 1), (395, 1), (396, 1), (409, 1), (414, 1), (415, 4), (417, 1), (421, 1), (422, 1), (430, 1), (440, 3), (455, 1), (456, 2), (484, 1), (517, 3), (535, 12), (538, 1), (547, 1), (555, 1), (568, 2), (576, 1), (585, 2), (590, 3), (593, 1), (594, 1), (596, 1), (614, 1), (631, 1), (633, 1), (644, 1), (646, 2), (652, 1), (655, 1), (662, 2), (670, 1), (680, 3), (681, 2), (685, 3), (695, 1), (735, 2), (738, 4), (741, 1), (758, 1), (759, 2), (765, 6), (777, 1), (782, 1), (783, 1), (802, 2), (809, 1), (815, 2), (829, 1), (832, 3), (853, 1), (857, 2), (869, 1), (878, 1), (880, 1), (882, 1), (906, 1), (943, 2), (959, 1), (999, 1), (1033, 3), (1036, 1), (1047, 1), (1084, 1), (1101, 1), (1106, 1), (1120, 2), (1128, 1), (1178, 1), (1216, 1), (1246, 1), (1252, 1), (1290, 1), (1291, 3), (1299, 1), (1311, 1), (1324, 1), (1333, 2), (1335, 1), (1340, 4), (1347, 1), (1351, 5), (1352, 1), (1367, 1), (1424, 1), (1468, 1), (1484, 1), (1495, 4), (1506, 1), (1539, 1), (1606, 2), (1608, 5), (1676, 1), (1682, 25), (1683, 2), (1717, 1), (1737, 1), (1760, 3), (1763, 1), (1771, 1), (1773, 1), (1824, 2), (1827, 1), (1835, 3), (1862, 1), (1863, 7), (1864, 1), (1871, 1), (1894, 1), (1899, 1), (1959, 1), (1984, 2), (2018, 1), (2058, 1), (2117, 1), (2258, 1), (2269, 1), (2320, 2), (2342, 1), (2350, 1), (2524, 1), (2535, 1), (2583, 1), (2595, 1), (2608, 1), (2628, 1), (2631, 1), (2647, 2), (2668, 1), (2670, 1), (2679, 1), (2684, 1), (2692, 1), (2702, 1), (2729, 1), (2754, 1), (2765, 2), (2768, 2), (2777, 1), (2787, 1), (2789, 2), (2814, 1), (2815, 1), (2820, 1), (2847, 1), (2854, 1), (2960, 4), (3021, 1), (3044, 1), (3124, 1), (3322, 2), (3334, 1), (3356, 2), (3376, 2), (3435, 1), (3444, 2), (3488, 1), (3582, 1), (3599, 1), (3634, 1), (3758, 1), (3777, 1), (3813, 1), (3894, 1), (3905, 1), (3930, 1), (3940, 1), (3951, 1), (3983, 1), (4218, 1), (4239, 1), (4304, 1), (4331, 1), (4452, 1), (4620, 1), (4876, 1), (5107, 1), (5132, 1), (5262, 1), (5557, 2), (5768, 1), (5777, 1), (5847, 1), (5848, 1), (6007, 2), (6095, 2), (6217, 2), (6254, 1), (6257, 3), (6260, 1), (6348, 1), (6530, 1), (6531, 8), (6532, 1), (6533, 1), (6534, 1), (6535, 3), (6536, 1), (6537, 1), (6538, 1), (6539, 1), (6540, 1), (6541, 1), (6542, 2), (6543, 1), (6544, 1), (6545, 1), (6546, 1), (6547, 1), (6548, 1), (6549, 1), (6550, 1), (6551, 2), (6552, 1), (6553, 1), (6554, 1), (6555, 1), (6556, 2), (6557, 1), (6558, 1), (6559, 1), (6560, 1), (6561, 1), (6562, 1), (6563, 3), (6564, 1), (6565, 2), (6566, 1), (6567, 1), (6568, 1), (6569, 1), (6570, 1), (6571, 1), (6572, 1), (6573, 1), (6574, 1), (6575, 1), (6576, 1), (6577, 2), (6578, 1), (6579, 2), (6580, 1), (6581, 1), (6582, 1), (6583, 1), (6584, 1), (6585, 1), (6586, 2)], [(10, 1), (14, 1), (22, 1), (31, 1), (37, 1), (48, 1), (54, 2), (60, 1), (71, 1), (76, 2), (82, 1), (86, 1), (91, 1), (92, 1), (93, 1), (102, 1), (122, 1), (126, 1), (132, 1), (147, 1), (149, 1), (154, 1), (164, 1), (166, 1), (181, 3), (184, 2), (187, 1), (196, 1), (206, 1), (217, 1), (224, 1), (225, 2), (226, 1), (257, 1), (259, 1), (260, 2), (265, 1), (271, 2), (273, 2), (277, 1), (283, 1), (298, 1), (299, 1), (310, 2), (311, 2), (313, 1), (322, 3), (334, 6), (340, 2), (345, 2), (346, 2), (350, 1), (351, 2), (353, 1), (357, 1), (359, 1), (363, 2), (364, 5), (383, 1), (386, 2), (387, 4), (393, 1), (409, 1), (416, 13), (422, 4), (429, 1), (440, 5), (445, 1), (453, 1), (455, 2), (467, 1), (468, 2), (479, 1), (492, 1), (504, 1), (523, 2), (525, 1), (526, 1), (535, 13), (539, 2), (565, 1), (574, 1), (575, 1), (576, 1), (590, 1), (595, 1), (613, 1), (626, 1), (629, 1), (633, 1), (637, 1), (638, 2), (646, 1), (654, 2), (658, 1), (680, 2), (685, 3), (686, 1), (688, 3), (690, 2), (693, 1), (708, 1), (709, 1), (714, 1), (721, 1), (723, 7), (744, 1), (758, 1), (759, 2), (768, 1), (780, 1), (782, 2), (783, 1), (784, 1), (788, 2), (797, 1), (801, 1), (809, 2), (825, 4), (826, 1), (839, 1), (844, 1), (847, 1), (857, 1), (869, 1), (873, 1), (886, 1), (914, 1), (938, 1), (943, 3), (946, 1), (963, 1), (965, 3), (968, 1), (986, 1), (990, 1), (1003, 3), (1004, 1), (1013, 1), (1016, 1), (1017, 2), (1024, 1), (1030, 1), (1042, 1), (1055, 1), (1064, 1), (1074, 1), (1084, 2), (1089, 1), (1092, 1), (1106, 1), (1127, 1), (1129, 1), (1137, 1), (1189, 2), (1200, 2), (1210, 2), (1238, 1), (1266, 1), (1271, 1), (1274, 1), (1283, 1), (1290, 2), (1291, 1), (1294, 1), (1298, 2), (1306, 1), (1315, 2), (1323, 1), (1333, 1), (1337, 2), (1343, 1), (1347, 1), (1381, 2), (1389, 2), (1390, 1), (1424, 1), (1445, 1), (1450, 2), (1451, 1), (1454, 1), (1484, 1), (1489, 1), (1494, 1), (1499, 5), (1502, 2), (1521, 1), (1539, 1), (1553, 1), (1562, 1), (1566, 1), (1584, 1), (1598, 1), (1600, 1), (1646, 1), (1665, 1), (1669, 1), (1682, 1), (1683, 2), (1727, 8), (1734, 1), (1737, 1), (1763, 2), (1794, 1), (1832, 1), (1843, 1), (1891, 1), (1922, 1), (1954, 2), (1980, 1), (2008, 1), (2012, 1), (2048, 1), (2062, 1), (2072, 1), (2077, 1), (2079, 1), (2083, 1), (2096, 1), (2122, 1), (2159, 2), (2161, 1), (2240, 1), (2254, 1), (2257, 1), (2265, 1), (2284, 1), (2373, 1), (2383, 2), (2400, 1), (2401, 1), (2412, 1), (2423, 1), (2449, 3), (2482, 1), (2536, 1), (2541, 1), (2555, 1), (2613, 1), (2692, 1), (2704, 1), (2709, 1), (2727, 29), (2745, 2), (2771, 1), (2821, 1), (2893, 1), (2898, 1), (2914, 1), (2950, 1), (3009, 1), (3113, 1), (3149, 1), (3173, 1), (3199, 1), (3206, 1), (3267, 2), (3294, 1), (3326, 1), (3402, 1), (3407, 1), (3428, 2), (3431, 1), (3523, 4), (3539, 1), (3545, 1), (3555, 1), (3605, 1), (3612, 1), (3632, 1), (3687, 1), (3708, 1), (3752, 1), (3799, 1), (3847, 2), (3862, 2), (3871, 1), (3885, 1), (3933, 1), (3985, 1), (4057, 2), (4159, 1), (4199, 1), (4257, 1), (4327, 1), (4349, 1), (4482, 1), (4515, 1), (4584, 1), (4594, 1), (4649, 1), (4689, 1), (4693, 1), (4924, 1), (4933, 1), (4948, 2), (4987, 2), (5007, 1), (5219, 1), (5320, 1), (5388, 1), (5459, 1), (5498, 2), (5592, 1), (5656, 1), (5711, 1), (6216, 1), (6231, 1), (6271, 1), (6277, 1), (6319, 1), (6371, 2), (6412, 1), (6418, 1), (6473, 1), (6507, 1), (6532, 3), (6540, 1), (6559, 1), (6587, 1), (6588, 1), (6589, 1), (6590, 1), (6591, 1), (6592, 1), (6593, 1), (6594, 1), (6595, 1), (6596, 1), (6597, 1), (6598, 1), (6599, 1), (6600, 1), (6601, 1), (6602, 1), (6603, 1), (6604, 1), (6605, 1), (6606, 1), (6607, 1), (6608, 1), (6609, 1), (6610, 1), (6611, 1), (6612, 1), (6613, 1), (6614, 1), (6615, 1), (6616, 1), (6617, 1), (6618, 1), (6619, 1), (6620, 1), (6621, 1), (6622, 1), (6623, 1), (6624, 1), (6625, 1), (6626, 1), (6627, 1), (6628, 4), (6629, 1), (6630, 14), (6631, 1), (6632, 1), (6633, 1), (6634, 1), (6635, 1), (6636, 1), (6637, 1), (6638, 8), (6639, 1), (6640, 1), (6641, 1), (6642, 1), (6643, 1), (6644, 1), (6645, 1), (6646, 1), (6647, 7), (6648, 2), (6649, 3), (6650, 1), (6651, 1), (6652, 1), (6653, 1), (6654, 1), (6655, 1), (6656, 1), (6657, 1), (6658, 1), (6659, 1), (6660, 1), (6661, 1), (6662, 1), (6663, 1), (6664, 1), (6665, 1), (6666, 1), (6667, 1), (6668, 1), (6669, 1), (6670, 9)], [(1, 1), (26, 2), (52, 1), (54, 2), (71, 1), (99, 1), (101, 3), (102, 2), (103, 1), (136, 2), (139, 6), (155, 1), (166, 1), (169, 1), (181, 1), (190, 1), (224, 3), (228, 1), (231, 1), (243, 1), (259, 1), (271, 1), (288, 1), (294, 1), (298, 1), (303, 1), (312, 1), (319, 1), (322, 2), (326, 1), (348, 1), (351, 1), (363, 2), (376, 1), (383, 1), (384, 1), (387, 3), (399, 1), (400, 1), (415, 20), (417, 2), (422, 6), (440, 3), (450, 1), (452, 1), (455, 1), (465, 2), (470, 1), (476, 2), (481, 1), (493, 1), (533, 2), (535, 7), (539, 2), (545, 1), (547, 1), (557, 1), (590, 1), (593, 1), (595, 1), (605, 1), (613, 2), (617, 2), (624, 1), (629, 1), (630, 1), (635, 1), (646, 1), (659, 1), (662, 2), (666, 4), (674, 1), (678, 1), (680, 1), (681, 1), (683, 1), (688, 2), (723, 1), (745, 1), (768, 1), (773, 1), (780, 1), (787, 1), (788, 1), (798, 1), (803, 3), (844, 1), (848, 1), (851, 1), (855, 1), (856, 1), (872, 1), (878, 1), (891, 1), (893, 1), (894, 1), (895, 4), (903, 2), (920, 3), (927, 1), (936, 1), (944, 1), (963, 2), (969, 2), (988, 1), (992, 1), (1024, 1), (1033, 1), (1039, 1), (1043, 1), (1048, 1), (1060, 1), (1073, 1), (1084, 3), (1092, 1), (1105, 15), (1106, 1), (1125, 1), (1133, 1), (1136, 1), (1158, 2), (1174, 1), (1176, 2), (1186, 1), (1194, 1), (1232, 2), (1236, 1), (1238, 1), (1239, 2), (1249, 1), (1250, 1), (1259, 1), (1309, 2), (1330, 2), (1333, 3), (1340, 1), (1351, 2), (1356, 1), (1359, 3), (1374, 1), (1380, 1), (1381, 2), (1387, 1), (1401, 1), (1415, 5), (1448, 1), (1492, 1), (1495, 1), (1496, 1), (1503, 1), (1517, 2), (1539, 1), (1543, 1), (1568, 1), (1570, 1), (1577, 1), (1584, 1), (1606, 1), (1609, 1), (1610, 1), (1632, 1), (1652, 1), (1660, 2), (1677, 1), (1703, 1), (1717, 1), (1722, 3), (1725, 1), (1737, 1), (1740, 1), (1747, 1), (1759, 2), (1763, 1), (1764, 1), (1773, 2), (1792, 1), (1813, 1), (1824, 1), (1829, 1), (1844, 1), (1845, 1), (1846, 1), (1855, 1), (1878, 1), (1879, 1), (1890, 1), (1894, 1), (1895, 1), (1956, 1), (1991, 1), (2009, 1), (2011, 1), (2022, 1), (2059, 1), (2066, 1), (2068, 1), (2096, 6), (2097, 1), (2101, 1), (2117, 1), (2155, 1), (2157, 1), (2167, 1), (2189, 1), (2194, 2), (2206, 1), (2247, 1), (2260, 1), (2276, 1), (2307, 1), (2321, 1), (2340, 1), (2359, 1), (2362, 1), (2376, 1), (2410, 1), (2411, 1), (2423, 1), (2435, 2), (2462, 2), (2490, 2), (2534, 1), (2577, 1), (2607, 1), (2625, 1), (2704, 1), (2713, 1), (2721, 1), (2742, 1), (2763, 1), (2771, 2), (2798, 1), (2824, 1), (2826, 1), (2845, 1), (2855, 1), (2892, 1), (2910, 2), (2915, 1), (2960, 2), (3013, 1), (3030, 1), (3069, 3), (3107, 1), (3210, 2), (3273, 1), (3419, 1), (3528, 1), (3555, 1), (3587, 1), (3687, 1), (3740, 1), (3775, 1), (3778, 2), (3779, 1), (3805, 1), (3809, 3), (3825, 1), (3953, 1), (4024, 1), (4041, 1), (4074, 1), (4243, 8), (4246, 9), (4250, 8), (4277, 1), (4293, 2), (4310, 1), (4579, 2), (4639, 2), (4662, 1), (4750, 1), (4849, 1), (4859, 1), (4861, 1), (4921, 1), (4924, 1), (5037, 1), (5078, 1), (5198, 1), (5208, 1), (5315, 1), (5349, 1), (5393, 1), (5406, 1), (5490, 1), (5574, 1), (5580, 1), (5626, 1), (5842, 1), (6198, 1), (6671, 1), (6672, 1), (6673, 2), (6674, 1), (6675, 1), (6676, 1), (6677, 1), (6678, 1), (6679, 1), (6680, 1), (6681, 1), (6682, 1), (6683, 1), (6684, 1), (6685, 1), (6686, 1), (6687, 1), (6688, 1), (6689, 1), (6690, 1), (6691, 1), (6692, 1), (6693, 1), (6694, 1), (6695, 1), (6696, 1), (6697, 1), (6698, 2), (6699, 2), (6700, 1), (6701, 1), (6702, 1), (6703, 1), (6704, 1), (6705, 2), (6706, 1), (6707, 1), (6708, 1), (6709, 1), (6710, 1), (6711, 1), (6712, 1), (6713, 1), (6714, 6), (6715, 1), (6716, 1), (6717, 1), (6718, 1)], [(32, 1), (39, 1), (48, 2), (52, 2), (54, 2), (64, 1), (71, 1), (72, 1), (84, 1), (87, 3), (96, 1), (97, 2), (136, 1), (149, 1), (155, 2), (169, 1), (170, 1), (181, 1), (200, 1), (210, 1), (224, 1), (231, 1), (232, 1), (235, 1), (252, 2), (257, 1), (259, 1), (269, 2), (271, 1), (281, 4), (289, 1), (294, 1), (303, 1), (304, 1), (305, 1), (326, 1), (327, 9), (340, 2), (344, 1), (351, 1), (377, 3), (383, 1), (393, 1), (400, 3), (409, 2), (413, 1), (416, 6), (422, 2), (434, 1), (443, 1), (456, 5), (465, 3), (492, 1), (499, 15), (503, 1), (504, 1), (535, 2), (539, 1), (545, 1), (550, 1), (555, 1), (556, 1), (559, 1), (580, 1), (586, 2), (591, 1), (605, 4), (628, 1), (629, 1), (633, 1), (635, 1), (640, 2), (646, 2), (659, 2), (663, 1), (664, 3), (669, 1), (670, 1), (678, 1), (680, 2), (681, 3), (685, 7), (702, 3), (704, 2), (743, 2), (787, 1), (802, 2), (833, 1), (857, 1), (873, 1), (878, 4), (880, 1), (891, 2), (901, 3), (902, 1), (913, 1), (921, 1), (949, 2), (955, 1), (965, 1), (966, 2), (975, 1), (1042, 3), (1082, 1), (1084, 1), (1095, 1), (1101, 2), (1105, 1), (1133, 1), (1193, 5), (1197, 1), (1201, 2), (1232, 1), (1238, 1), (1244, 4), (1252, 1), (1273, 1), (1287, 1), (1288, 1), (1290, 1), (1292, 1), (1320, 1), (1340, 3), (1363, 1), (1374, 1), (1424, 16), (1425, 1), (1446, 1), (1455, 1), (1466, 2), (1472, 1), (1474, 1), (1483, 1), (1486, 1), (1495, 1), (1521, 4), (1538, 1), (1554, 1), (1589, 1), (1630, 1), (1658, 1), (1693, 1), (1694, 2), (1707, 1), (1717, 1), (1725, 2), (1747, 4), (1760, 1), (1799, 1), (1874, 3), (1895, 1), (1898, 1), (1903, 1), (1951, 1), (1983, 1), (1988, 1), (2147, 1), (2256, 1), (2289, 5), (2296, 1), (2368, 1), (2369, 1), (2392, 2), (2398, 2), (2400, 1), (2438, 1), (2458, 1), (2560, 2), (2568, 1), (2580, 1), (2590, 1), (2630, 1), (2631, 2), (2647, 1), (2661, 1), (2681, 5), (2722, 1), (2768, 1), (2862, 1), (2950, 2), (2967, 1), (3004, 1), (3138, 1), (3150, 1), (3173, 1), (3269, 1), (3279, 1), (3297, 1), (3362, 1), (3379, 1), (3402, 1), (3446, 1), (3523, 1), (3569, 1), (3606, 1), (3619, 1), (3739, 1), (3968, 1), (4088, 1), (4303, 1), (4324, 1), (4551, 1), (4649, 1), (4688, 1), (4881, 1), (4902, 1), (5040, 1), (5118, 1), (5129, 1), (5197, 2), (5216, 9), (5226, 1), (5232, 1), (5235, 2), (5243, 1), (5265, 3), (5480, 1), (5594, 1), (6130, 1), (6433, 2), (6719, 1), (6720, 1), (6721, 1), (6722, 1), (6723, 1), (6724, 1), (6725, 1), (6726, 1), (6727, 1), (6728, 1), (6729, 1), (6730, 1), (6731, 1), (6732, 1), (6733, 1), (6734, 1), (6735, 1), (6736, 1), (6737, 1), (6738, 1), (6739, 1), (6740, 1), (6741, 1), (6742, 1), (6743, 2), (6744, 1), (6745, 1), (6746, 1), (6747, 1), (6748, 1), (6749, 7)], [(8, 1), (9, 2), (23, 1), (25, 1), (26, 2), (40, 1), (48, 1), (51, 1), (52, 1), (53, 2), (54, 3), (55, 4), (57, 1), (61, 1), (68, 2), (87, 2), (97, 1), (99, 2), (122, 2), (127, 3), (133, 2), (136, 5), (155, 1), (169, 6), (190, 2), (201, 13), (206, 1), (208, 1), (209, 3), (210, 1), (217, 1), (223, 1), (225, 1), (232, 1), (243, 1), (250, 2), (252, 1), (258, 12), (265, 5), (268, 2), (270, 10), (271, 6), (277, 1), (288, 2), (303, 4), (306, 2), (312, 3), (313, 3), (314, 1), (322, 1), (327, 2), (331, 2), (338, 1), (346, 2), (347, 1), (350, 1), (358, 1), (360, 1), (361, 1), (363, 3), (367, 1), (369, 2), (377, 2), (384, 2), (387, 2), (391, 1), (392, 1), (393, 3), (414, 1), (417, 2), (420, 3), (422, 2), (429, 1), (430, 1), (438, 1), (439, 1), (440, 7), (449, 1), (450, 3), (455, 2), (456, 7), (465, 3), (469, 2), (480, 1), (487, 1), (491, 1), (492, 1), (500, 1), (503, 1), (515, 12), (522, 4), (535, 7), (539, 1), (542, 6), (545, 2), (556, 2), (567, 1), (568, 1), (570, 1), (587, 1), (599, 2), (603, 1), (605, 2), (613, 1), (614, 2), (617, 2), (624, 2), (625, 1), (630, 1), (637, 1), (640, 3), (644, 2), (646, 2), (652, 7), (654, 7), (662, 1), (663, 1), (664, 3), (669, 2), (680, 11), (681, 3), (685, 2), (686, 2), (693, 1), (695, 1), (702, 2), (704, 1), (729, 1), (742, 1), (745, 1), (759, 1), (772, 1), (780, 1), (787, 11), (801, 1), (802, 1), (808, 1), (815, 2), (833, 2), (834, 1), (860, 1), (878, 1), (897, 2), (908, 1), (927, 1), (931, 1), (934, 3), (937, 2), (945, 1), (959, 2), (964, 1), (967, 1), (988, 2), (992, 2), (1008, 1), (1030, 1), (1042, 3), (1071, 1), (1073, 1), (1098, 1), (1101, 1), (1125, 1), (1135, 1), (1137, 1), (1142, 3), (1163, 1), (1174, 1), (1176, 1), (1214, 1), (1218, 3), (1223, 1), (1236, 1), (1237, 1), (1238, 1), (1239, 1), (1280, 1), (1283, 1), (1284, 1), (1290, 1), (1293, 1), (1318, 1), (1322, 1), (1356, 1), (1374, 1), (1377, 1), (1391, 1), (1404, 1), (1432, 1), (1438, 3), (1440, 1), (1448, 1), (1454, 3), (1494, 1), (1496, 1), (1505, 1), (1506, 1), (1510, 1), (1517, 2), (1539, 2), (1544, 1), (1546, 1), (1577, 6), (1580, 1), (1596, 1), (1598, 1), (1602, 2), (1608, 1), (1628, 1), (1635, 2), (1637, 3), (1656, 1), (1658, 1), (1684, 1), (1693, 1), (1705, 1), (1725, 7), (1726, 1), (1734, 1), (1737, 1), (1740, 1), (1748, 1), (1755, 1), (1758, 2), (1760, 1), (1763, 1), (1767, 1), (1785, 1), (1799, 1), (1883, 1), (1890, 1), (1895, 2), (1908, 1), (1930, 3), (2009, 1), (2010, 2), (2071, 2), (2096, 1), (2105, 2), (2161, 1), (2190, 1), (2195, 2), (2203, 2), (2218, 1), (2273, 6), (2276, 1), (2289, 7), (2294, 1), (2307, 2), (2337, 2), (2343, 1), (2345, 2), (2407, 1), (2416, 1), (2430, 1), (2456, 1), (2490, 17), (2568, 1), (2586, 1), (2591, 1), (2601, 1), (2611, 1), (2628, 2), (2630, 1), (2646, 1), (2681, 1), (2713, 2), (2768, 1), (2791, 2), (2798, 1), (2820, 1), (2876, 2), (2893, 1), (2991, 1), (2992, 1), (3016, 1), (3045, 2), (3046, 3), (3060, 4), (3092, 1), (3207, 1), (3267, 2), (3270, 1), (3275, 1), (3279, 2), (3315, 1), (3344, 14), (3470, 1), (3491, 2), (3492, 1), (3509, 1), (3520, 1), (3526, 5), (3533, 2), (3535, 1), (3561, 1), (3569, 1), (3627, 2), (3631, 2), (3652, 1), (3658, 1), (3665, 1), (3687, 10), (3722, 1), (3740, 1), (3878, 1), (3879, 1), (3907, 1), (3915, 1), (3942, 1), (3951, 1), (4005, 1), (4060, 1), (4127, 1), (4206, 1), (4216, 1), (4228, 5), (4277, 1), (4317, 1), (4452, 1), (4529, 1), (4534, 1), (4603, 1), (4620, 1), (4630, 1), (4653, 1), (4791, 2), (4797, 1), (4842, 1), (4885, 1), (5001, 3), (5005, 1), (5040, 1), (5060, 1), (5201, 1), (5335, 2), (5623, 1), (5694, 4), (5716, 3), (5776, 1), (5813, 1), (5824, 1), (6023, 1), (6217, 1), (6237, 1), (6271, 1), (6348, 1), (6454, 1), (6463, 2), (6532, 1), (6742, 5), (6750, 1), (6751, 1), (6752, 2), (6753, 1), (6754, 1), (6755, 1), (6756, 1), (6757, 1), (6758, 1), (6759, 1), (6760, 1), (6761, 1), (6762, 1), (6763, 2), (6764, 1), (6765, 1), (6766, 1), (6767, 1), (6768, 1), (6769, 4), (6770, 2), (6771, 1), (6772, 2), (6773, 2), (6774, 1), (6775, 1), (6776, 1), (6777, 1), (6778, 1), (6779, 1), (6780, 3), (6781, 3), (6782, 1), (6783, 1), (6784, 1), (6785, 1), (6786, 1), (6787, 1), (6788, 1), (6789, 1), (6790, 1), (6791, 8), (6792, 1), (6793, 2), (6794, 1), (6795, 1), (6796, 3), (6797, 1), (6798, 2), (6799, 1), (6800, 1), (6801, 1), (6802, 1), (6803, 12), (6804, 1), (6805, 1), (6806, 1)], [(39, 1), (41, 1), (50, 1), (52, 1), (53, 1), (54, 2), (79, 2), (84, 1), (101, 1), (103, 1), (116, 1), (120, 16), (139, 1), (141, 1), (144, 1), (145, 1), (149, 1), (151, 1), (152, 1), (155, 1), (164, 2), (169, 1), (178, 1), (181, 1), (190, 1), (193, 4), (200, 1), (209, 1), (217, 2), (223, 3), (224, 1), (227, 1), (235, 2), (239, 1), (252, 2), (260, 1), (271, 3), (273, 1), (277, 6), (279, 1), (295, 2), (299, 3), (310, 3), (312, 1), (322, 1), (324, 1), (329, 1), (334, 1), (340, 2), (347, 2), (351, 3), (358, 1), (363, 4), (369, 3), (385, 1), (387, 1), (391, 1), (393, 1), (399, 1), (400, 1), (409, 1), (410, 1), (415, 38), (420, 1), (422, 3), (438, 2), (439, 1), (455, 1), (458, 1), (476, 4), (488, 1), (492, 1), (493, 2), (497, 1), (498, 1), (503, 1), (512, 1), (519, 2), (535, 12), (539, 5), (547, 2), (550, 1), (585, 1), (590, 1), (594, 1), (602, 1), (605, 2), (614, 2), (619, 1), (624, 2), (629, 3), (633, 1), (636, 2), (640, 1), (644, 1), (647, 1), (654, 1), (658, 1), (659, 7), (662, 2), (663, 2), (666, 1), (672, 1), (673, 2), (680, 4), (681, 2), (695, 1), (708, 1), (730, 1), (746, 1), (750, 5), (760, 2), (762, 1), (773, 2), (780, 2), (787, 1), (788, 2), (794, 1), (801, 2), (815, 1), (821, 1), (829, 2), (834, 1), (836, 1), (847, 1), (856, 1), (857, 1), (860, 1), (869, 1), (871, 1), (872, 1), (886, 2), (888, 1), (891, 5), (894, 2), (897, 1), (900, 2), (910, 1), (917, 1), (920, 1), (921, 4), (922, 1), (930, 1), (936, 5), (944, 1), (945, 1), (966, 1), (981, 1), (990, 13), (1002, 3), (1003, 1), (1015, 1), (1026, 2), (1032, 1), (1033, 1), (1060, 4), (1073, 3), (1074, 6), (1084, 1), (1093, 3), (1105, 18), (1120, 1), (1133, 4), (1137, 16), (1138, 1), (1142, 1), (1158, 1), (1171, 1), (1172, 4), (1187, 1), (1189, 1), (1194, 1), (1197, 1), (1199, 1), (1222, 1), (1225, 1), (1232, 1), (1238, 1), (1242, 1), (1247, 1), (1280, 1), (1288, 1), (1290, 3), (1295, 1), (1304, 2), (1306, 1), (1312, 1), (1326, 2), (1328, 1), (1333, 1), (1338, 1), (1340, 1), (1341, 1), (1361, 1), (1371, 1), (1374, 2), (1415, 1), (1431, 1), (1448, 2), (1450, 2), (1468, 1), (1478, 1), (1486, 3), (1492, 1), (1495, 4), (1513, 1), (1517, 2), (1518, 1), (1521, 1), (1543, 2), (1544, 1), (1573, 1), (1579, 1), (1584, 1), (1592, 1), (1608, 1), (1610, 1), (1611, 1), (1614, 2), (1630, 1), (1633, 3), (1644, 2), (1665, 1), (1668, 2), (1703, 3), (1717, 1), (1727, 2), (1729, 2), (1734, 1), (1736, 1), (1737, 1), (1747, 3), (1748, 5), (1756, 1), (1758, 1), (1769, 1), (1780, 1), (1809, 1), (1823, 1), (1829, 3), (1864, 1), (1869, 1), (1874, 1), (1889, 1), (1899, 2), (1952, 1), (1991, 1), (2019, 1), (2026, 1), (2097, 1), (2110, 1), (2122, 1), (2136, 1), (2185, 1), (2205, 1), (2248, 1), (2282, 2), (2294, 3), (2297, 2), (2300, 3), (2307, 1), (2308, 1), (2320, 1), (2348, 8), (2349, 1), (2358, 1), (2367, 1), (2373, 1), (2539, 1), (2540, 1), (2546, 1), (2558, 1), (2560, 4), (2562, 1), (2567, 1), (2625, 2), (2630, 1), (2631, 1), (2681, 1), (2689, 2), (2729, 1), (2732, 1), (2783, 2), (2795, 1), (2841, 1), (2847, 1), (2869, 1), (2898, 1), (2900, 1), (2907, 1), (2950, 1), (2962, 1), (2970, 1), (3021, 1), (3033, 1), (3037, 1), (3046, 1), (3086, 2), (3117, 3), (3128, 1), (3154, 1), (3157, 2), (3164, 2), (3183, 1), (3189, 1), (3294, 1), (3323, 1), (3326, 1), (3352, 1), (3407, 1), (3445, 1), (3479, 1), (3492, 2), (3495, 1), (3509, 1), (3528, 1), (3541, 1), (3575, 2), (3668, 1), (3679, 1), (3713, 1), (3729, 1), (3758, 1), (3776, 1), (3799, 1), (3912, 1), (3970, 1), (4083, 1), (4256, 1), (4277, 1), (4385, 1), (4409, 2), (4470, 1), (4551, 1), (4712, 1), (4762, 1), (4796, 1), (4828, 1), (4891, 1), (5042, 1), (5085, 1), (5093, 2), (5095, 1), (5114, 2), (5120, 1), (5211, 1), (5480, 1), (5523, 1), (5537, 1), (5592, 2), (5616, 1), (5763, 1), (5854, 1), (6681, 1), (6807, 1), (6808, 1), (6809, 2), (6810, 1), (6811, 2), (6812, 1), (6813, 1), (6814, 1), (6815, 1), (6816, 1), (6817, 1), (6818, 3), (6819, 1), (6820, 1), (6821, 4), (6822, 1), (6823, 2), (6824, 1), (6825, 1), (6826, 1), (6827, 2), (6828, 2), (6829, 1), (6830, 2), (6831, 1), (6832, 1), (6833, 1), (6834, 1), (6835, 1), (6836, 1), (6837, 18), (6838, 1), (6839, 1), (6840, 1), (6841, 1), (6842, 1), (6843, 1), (6844, 1), (6845, 1), (6846, 1), (6847, 1), (6848, 1), (6849, 2), (6850, 2), (6851, 1), (6852, 3)], [(0, 1), (1, 1), (15, 1), (20, 1), (40, 1), (51, 2), (53, 1), (54, 1), (56, 1), (57, 1), (61, 1), (64, 1), (84, 2), (87, 3), (122, 5), (132, 3), (135, 1), (136, 2), (148, 1), (149, 1), (152, 1), (153, 2), (154, 1), (155, 3), (161, 1), (164, 1), (166, 3), (169, 1), (174, 4), (181, 1), (187, 1), (193, 1), (194, 1), (196, 3), (200, 1), (201, 6), (205, 9), (210, 2), (224, 1), (229, 2), (235, 1), (236, 1), (238, 1), (241, 3), (248, 1), (250, 1), (252, 2), (259, 1), (260, 1), (269, 1), (271, 3), (277, 1), (288, 1), (292, 1), (298, 2), (299, 1), (303, 3), (305, 1), (308, 1), (311, 2), (319, 1), (322, 2), (327, 1), (331, 1), (340, 1), (346, 1), (349, 3), (350, 1), (351, 1), (353, 1), (355, 3), (358, 1), (359, 1), (361, 2), (363, 2), (364, 2), (376, 1), (387, 1), (396, 1), (397, 1), (410, 1), (415, 8), (417, 2), (420, 1), (422, 5), (429, 1), (430, 2), (440, 6), (445, 3), (453, 4), (455, 3), (456, 4), (458, 3), (465, 1), (469, 1), (476, 2), (477, 1), (479, 3), (481, 6), (485, 5), (488, 1), (492, 1), (499, 1), (500, 1), (506, 1), (510, 1), (513, 1), (515, 1), (535, 11), (537, 1), (539, 3), (547, 1), (556, 2), (558, 2), (568, 2), (570, 1), (576, 1), (578, 1), (590, 2), (596, 3), (597, 2), (599, 1), (614, 2), (619, 2), (623, 1), (624, 2), (633, 1), (638, 3), (639, 3), (640, 5), (654, 5), (664, 2), (669, 1), (673, 1), (678, 2), (680, 3), (681, 2), (685, 6), (693, 1), (708, 1), (723, 4), (729, 1), (732, 2), (745, 2), (746, 3), (758, 1), (765, 1), (782, 1), (784, 1), (787, 1), (788, 2), (800, 5), (801, 5), (804, 1), (808, 1), (809, 1), (826, 1), (829, 1), (834, 2), (844, 1), (845, 2), (850, 1), (894, 3), (897, 1), (908, 2), (912, 1), (927, 2), (930, 1), (938, 3), (948, 1), (955, 1), (959, 4), (962, 1), (965, 4), (975, 16), (1013, 4), (1032, 1), (1034, 4), (1039, 1), (1042, 1), (1055, 1), (1061, 1), (1069, 1), (1071, 1), (1078, 1), (1081, 3), (1082, 2), (1084, 2), (1092, 1), (1101, 2), (1112, 3), (1113, 1), (1120, 1), (1127, 1), (1138, 4), (1158, 1), (1163, 2), (1176, 1), (1197, 1), (1201, 2), (1238, 1), (1239, 1), (1242, 1), (1245, 1), (1252, 1), (1275, 1), (1280, 1), (1282, 1), (1284, 5), (1286, 1), (1288, 2), (1306, 2), (1309, 1), (1320, 3), (1323, 1), (1351, 4), (1356, 1), (1361, 4), (1367, 1), (1374, 2), (1386, 1), (1389, 1), (1390, 1), (1415, 1), (1416, 1), (1438, 2), (1466, 3), (1472, 1), (1482, 3), (1485, 1), (1494, 2), (1495, 3), (1518, 2), (1522, 1), (1524, 1), (1546, 1), (1559, 1), (1566, 2), (1573, 1), (1577, 1), (1582, 1), (1584, 2), (1586, 3), (1593, 1), (1594, 1), (1633, 4), (1648, 1), (1680, 6), (1682, 2), (1683, 1), (1710, 1), (1715, 2), (1734, 2), (1737, 1), (1747, 1), (1749, 2), (1756, 1), (1759, 2), (1763, 1), (1829, 1), (1835, 1), (1838, 1), (1839, 3), (1842, 1), (1853, 1), (1869, 1), (1874, 1), (1883, 1), (1886, 1), (1887, 1), (1923, 2), (1937, 23), (1938, 1), (2009, 2), (2011, 2), (2021, 1), (2045, 1), (2064, 1), (2082, 1), (2086, 2), (2105, 1), (2110, 1), (2117, 2), (2129, 1), (2156, 2), (2161, 1), (2167, 1), (2169, 1), (2194, 1), (2211, 3), (2218, 1), (2271, 4), (2273, 3), (2289, 1), (2300, 1), (2302, 2), (2306, 1), (2321, 1), (2328, 4), (2332, 1), (2337, 1), (2348, 8), (2349, 6), (2365, 1), (2373, 1), (2423, 3), (2428, 1), (2448, 5), (2459, 1), (2512, 3), (2523, 1), (2531, 6), (2541, 1), (2554, 1), (2562, 1), (2579, 1), (2586, 1), (2620, 1), (2622, 1), (2692, 2), (2713, 1), (2722, 3), (2759, 1), (2777, 1), (2782, 1), (2789, 2), (2796, 1), (2798, 2), (2800, 1), (2815, 1), (2820, 2), (2845, 1), (2847, 2), (2849, 2), (2850, 1), (2854, 1), (2862, 1), (2900, 1), (2906, 3), (2969, 1), (2992, 1), (3055, 1), (3068, 1), (3072, 2), (3091, 1), (3097, 1), (3117, 3), (3125, 1), (3137, 1), (3157, 24), (3164, 1), (3173, 1), (3220, 1), (3258, 5), (3294, 1), (3322, 1), (3326, 1), (3380, 1), (3407, 1), (3451, 5), (3505, 1), (3520, 2), (3523, 3), (3592, 1), (3596, 1), (3605, 1), (3622, 1), (3632, 3), (3638, 1), (3661, 1), (3701, 1), (3740, 1), (3749, 1), (3758, 1), (3799, 1), (3810, 1), (3878, 1), (3902, 1), (3927, 1), (3973, 1), (4091, 1), (4098, 1), (4122, 1), (4174, 1), (4198, 1), (4209, 1), (4255, 1), (4260, 1), (4261, 1), (4267, 1), (4298, 3), (4304, 1), (4385, 2), (4390, 1), (4440, 1), (4441, 1), (4472, 1), (4555, 1), (4571, 2), (4613, 1), (4624, 1), (4691, 2), (4707, 1), (4718, 1), (4768, 1), (4857, 2), (4930, 1), (4942, 1), (5005, 1), (5120, 1), (5129, 1), (5157, 1), (5240, 1), (5265, 1), (5270, 1), (5275, 1), (5399, 1), (5519, 1), (5527, 1), (5592, 1), (5634, 1), (5668, 3), (5687, 1), (5720, 2), (5792, 1), (5811, 1), (5963, 1), (6191, 1), (6228, 1), (6302, 1), (6433, 1), (6660, 1), (6724, 1), (6742, 1), (6751, 2), (6790, 2), (6814, 1), (6853, 1), (6854, 1), (6855, 1), (6856, 1), (6857, 1), (6858, 5), (6859, 2), (6860, 1), (6861, 3), (6862, 1), (6863, 1), (6864, 1), (6865, 1), (6866, 1), (6867, 1), (6868, 1), (6869, 1), (6870, 1), (6871, 1), (6872, 1), (6873, 1), (6874, 1), (6875, 1), (6876, 2), (6877, 1), (6878, 1), (6879, 2), (6880, 1), (6881, 1), (6882, 1), (6883, 5), (6884, 1), (6885, 1), (6886, 1), (6887, 1), (6888, 1), (6889, 2), (6890, 1), (6891, 1), (6892, 6), (6893, 1), (6894, 2), (6895, 1), (6896, 1), (6897, 2), (6898, 1), (6899, 1), (6900, 1), (6901, 2), (6902, 1), (6903, 2), (6904, 1), (6905, 1), (6906, 1), (6907, 1), (6908, 2), (6909, 1), (6910, 1), (6911, 5), (6912, 1), (6913, 4), (6914, 2), (6915, 2), (6916, 2), (6917, 1), (6918, 1), (6919, 1), (6920, 1), (6921, 1), (6922, 5), (6923, 1), (6924, 1), (6925, 1), (6926, 1), (6927, 2), (6928, 1), (6929, 1), (6930, 1), (6931, 1), (6932, 1), (6933, 2), (6934, 1), (6935, 1), (6936, 1), (6937, 1), (6938, 1), (6939, 1), (6940, 6), (6941, 1), (6942, 1), (6943, 1)], [(41, 4), (54, 1), (61, 1), (62, 3), (64, 1), (71, 1), (76, 4), (85, 1), (93, 3), (94, 1), (96, 1), (97, 1), (110, 1), (120, 2), (122, 4), (132, 1), (139, 8), (144, 1), (149, 1), (155, 1), (169, 1), (181, 8), (184, 5), (190, 3), (191, 1), (201, 1), (206, 2), (209, 1), (210, 1), (212, 1), (216, 1), (224, 2), (235, 1), (241, 5), (252, 1), (259, 1), (260, 2), (269, 1), (273, 2), (279, 1), (288, 2), (291, 2), (294, 3), (298, 2), (303, 3), (319, 1), (329, 6), (333, 1), (346, 2), (350, 2), (351, 1), (352, 2), (353, 2), (384, 2), (399, 4), (414, 1), (415, 17), (416, 3), (417, 1), (420, 1), (424, 1), (438, 10), (440, 1), (450, 1), (455, 2), (458, 1), (476, 1), (486, 1), (493, 1), (495, 1), (504, 1), (505, 2), (506, 1), (528, 4), (535, 25), (539, 3), (544, 15), (545, 1), (546, 1), (551, 1), (556, 1), (558, 1), (574, 1), (585, 2), (586, 1), (590, 1), (605, 1), (613, 2), (614, 1), (631, 1), (633, 3), (635, 2), (636, 1), (638, 1), (640, 1), (646, 5), (654, 1), (659, 2), (662, 1), (666, 1), (669, 1), (670, 1), (672, 1), (673, 1), (677, 1), (678, 1), (680, 3), (681, 2), (707, 1), (708, 3), (719, 2), (721, 1), (723, 7), (732, 1), (739, 1), (741, 2), (747, 1), (759, 1), (764, 2), (765, 1), (768, 1), (773, 1), (776, 3), (783, 1), (787, 1), (788, 2), (798, 1), (800, 2), (801, 2), (808, 1), (815, 2), (829, 1), (836, 7), (851, 1), (860, 9), (886, 1), (901, 1), (905, 7), (914, 1), (922, 1), (927, 1), (930, 1), (934, 1), (935, 1), (937, 1), (947, 1), (954, 3), (962, 1), (965, 2), (983, 3), (1000, 5), (1017, 1), (1025, 7), (1030, 3), (1032, 3), (1033, 1), (1047, 1), (1064, 1), (1078, 1), (1084, 5), (1092, 2), (1106, 3), (1112, 1), (1131, 1), (1136, 1), (1142, 1), (1143, 1), (1161, 1), (1171, 2), (1172, 1), (1173, 1), (1174, 1), (1184, 5), (1197, 3), (1210, 1), (1216, 1), (1218, 4), (1224, 1), (1225, 1), (1229, 1), (1237, 2), (1245, 1), (1249, 1), (1250, 1), (1252, 1), (1261, 1), (1270, 29), (1277, 1), (1280, 5), (1287, 3), (1290, 2), (1291, 1), (1295, 1), (1306, 2), (1315, 1), (1322, 1), (1323, 2), (1330, 1), (1331, 1), (1332, 1), (1335, 1), (1340, 3), (1341, 1), (1351, 1), (1355, 1), (1363, 1), (1364, 1), (1371, 1), (1381, 1), (1417, 1), (1463, 1), (1475, 1), (1486, 3), (1489, 1), (1495, 4), (1515, 2), (1521, 2), (1523, 1), (1524, 7), (1527, 1), (1533, 1), (1539, 2), (1573, 2), (1584, 1), (1586, 1), (1591, 1), (1593, 1), (1606, 2), (1623, 1), (1630, 2), (1641, 2), (1648, 1), (1652, 1), (1653, 1), (1658, 1), (1682, 3), (1695, 1), (1717, 1), (1718, 5), (1730, 1), (1740, 1), (1763, 3), (1765, 1), (1814, 1), (1835, 1), (1844, 1), (1872, 1), (1874, 1), (1895, 1), (1993, 1), (2022, 1), (2040, 1), (2058, 1), (2062, 1), (2065, 1), (2082, 1), (2096, 1), (2097, 1), (2122, 3), (2177, 1), (2196, 1), (2233, 1), (2243, 4), (2277, 2), (2278, 1), (2284, 1), (2307, 3), (2344, 1), (2352, 1), (2359, 1), (2387, 1), (2400, 2), (2423, 2), (2438, 2), (2449, 1), (2456, 1), (2466, 1), (2482, 2), (2494, 12), (2541, 1), (2563, 1), (2579, 1), (2592, 1), (2595, 1), (2601, 1), (2608, 1), (2630, 1), (2636, 1), (2665, 1), (2667, 3), (2668, 1), (2671, 3), (2674, 1), (2679, 1), (2681, 1), (2682, 3), (2688, 4), (2697, 1), (2708, 5), (2711, 3), (2729, 2), (2741, 1), (2745, 1), (2756, 1), (2762, 1), (2765, 1), (2773, 2), (2787, 5), (2798, 5), (2812, 1), (2813, 1), (2815, 3), (2816, 3), (2822, 1), (2850, 1), (2859, 1), (2863, 1), (2888, 1), (2927, 1), (2930, 1), (2969, 1), (2973, 1), (2977, 1), (2989, 1), (3034, 2), (3046, 1), (3055, 1), (3072, 3), (3111, 1), (3148, 1), (3173, 3), (3230, 2), (3256, 12), (3261, 1), (3269, 1), (3272, 1), (3294, 2), (3295, 1), (3325, 1), (3453, 1), (3486, 1), (3551, 1), (3558, 1), (3615, 1), (3637, 1), (3715, 1), (3768, 1), (3770, 1), (3777, 1), (3785, 1), (3832, 2), (4039, 1), (4050, 1), (4112, 1), (4148, 1), (4210, 1), (4216, 1), (4271, 1), (4332, 1), (4391, 1), (4422, 1), (4504, 1), (4522, 2), (4587, 1), (4690, 1), (4842, 1), (4859, 1), (5002, 1), (5122, 2), (5151, 1), (5210, 1), (5223, 3), (5314, 1), (5447, 1), (5584, 1), (5600, 1), (5703, 2), (5707, 1), (5806, 1), (5826, 1), (5842, 1), (5860, 1), (6023, 1), (6078, 1), (6393, 1), (6454, 1), (6479, 2), (6497, 1), (6513, 1), (6600, 5), (6678, 1), (6848, 1), (6858, 1), (6944, 1), (6945, 1), (6946, 1), (6947, 1), (6948, 1), (6949, 1), (6950, 1), (6951, 3), (6952, 1), (6953, 1), (6954, 1), (6955, 1), (6956, 1), (6957, 2), (6958, 1), (6959, 1), (6960, 1), (6961, 2), (6962, 1), (6963, 1), (6964, 2), (6965, 1), (6966, 1), (6967, 1), (6968, 1), (6969, 1), (6970, 1), (6971, 1), (6972, 1), (6973, 1), (6974, 1), (6975, 1), (6976, 1), (6977, 1), (6978, 1), (6979, 6), (6980, 1), (6981, 1), (6982, 1), (6983, 1), (6984, 1), (6985, 1), (6986, 1), (6987, 1), (6988, 1), (6989, 1), (6990, 1), (6991, 1), (6992, 2), (6993, 1), (6994, 1)], [(42, 1), (47, 1), (48, 1), (61, 2), (92, 3), (93, 1), (97, 1), (99, 1), (101, 1), (106, 1), (109, 1), (116, 1), (122, 1), (126, 13), (133, 1), (135, 1), (136, 1), (139, 1), (169, 2), (196, 6), (199, 3), (201, 8), (204, 1), (224, 2), (247, 1), (250, 5), (260, 2), (288, 1), (289, 1), (312, 1), (322, 1), (324, 1), (346, 2), (349, 1), (350, 1), (351, 1), (354, 1), (364, 2), (369, 2), (384, 1), (387, 1), (393, 2), (395, 1), (396, 2), (397, 1), (400, 1), (417, 1), (420, 1), (421, 1), (428, 3), (429, 1), (438, 1), (453, 1), (455, 1), (456, 1), (484, 1), (491, 1), (493, 3), (499, 2), (500, 1), (505, 1), (515, 3), (522, 1), (529, 3), (535, 9), (539, 3), (541, 1), (560, 2), (570, 4), (585, 1), (599, 12), (605, 1), (624, 1), (633, 1), (639, 1), (643, 1), (652, 3), (654, 2), (662, 2), (664, 1), (666, 2), (672, 1), (678, 1), (681, 3), (683, 1), (685, 1), (693, 1), (706, 1), (708, 1), (767, 1), (780, 2), (782, 2), (784, 1), (787, 2), (801, 1), (809, 1), (834, 1), (878, 1), (888, 1), (891, 1), (894, 1), (920, 1), (927, 2), (930, 1), (932, 1), (937, 1), (945, 3), (946, 1), (951, 1), (952, 1), (959, 5), (988, 1), (992, 2), (1007, 1), (1013, 2), (1022, 2), (1034, 1), (1042, 2), (1043, 1), (1062, 1), (1084, 1), (1099, 1), (1106, 1), (1125, 1), (1126, 2), (1127, 3), (1159, 1), (1172, 1), (1180, 1), (1199, 1), (1218, 1), (1223, 2), (1237, 1), (1242, 1), (1245, 4), (1283, 1), (1290, 10), (1333, 2), (1338, 1), (1347, 1), (1361, 2), (1364, 1), (1367, 4), (1371, 1), (1397, 1), (1466, 1), (1475, 2), (1486, 8), (1494, 7), (1518, 1), (1524, 2), (1551, 1), (1575, 2), (1584, 1), (1590, 2), (1607, 1), (1623, 3), (1657, 1), (1688, 2), (1725, 1), (1737, 2), (1751, 1), (1763, 2), (1797, 1), (1889, 1), (1912, 1), (1952, 1), (2036, 8), (2077, 1), (2117, 3), (2130, 1), (2196, 1), (2205, 1), (2289, 7), (2293, 1), (2300, 1), (2321, 1), (2328, 2), (2332, 1), (2337, 1), (2346, 1), (2400, 2), (2423, 12), (2425, 1), (2446, 1), (2483, 1), (2493, 10), (2506, 1), (2514, 1), (2539, 3), (2542, 1), (2581, 2), (2621, 2), (2681, 2), (2683, 1), (2732, 1), (2771, 2), (2806, 1), (2827, 2), (2989, 1), (2991, 1), (3045, 1), (3279, 1), (3294, 1), (3314, 2), (3381, 1), (3417, 1), (3492, 7), (3509, 1), (3575, 2), (3622, 2), (3687, 1), (3775, 1), (3800, 1), (4048, 1), (4272, 1), (4374, 1), (4480, 1), (4522, 1), (4620, 1), (4624, 2), (4630, 1), (4669, 1), (4690, 1), (4825, 1), (4891, 1), (5027, 1), (5068, 1), (5070, 1), (5107, 1), (5261, 1), (5276, 1), (5388, 1), (5606, 1), (5854, 1), (6244, 1), (6614, 1), (6660, 1), (6709, 1), (6910, 1), (6995, 1), (6996, 1), (6997, 1), (6998, 1), (6999, 1), (7000, 4), (7001, 1), (7002, 1), (7003, 1), (7004, 1), (7005, 1), (7006, 1), (7007, 1), (7008, 1), (7009, 1), (7010, 1), (7011, 1), (7012, 2), (7013, 1), (7014, 1), (7015, 1), (7016, 1), (7017, 1), (7018, 1), (7019, 3), (7020, 2)], [(10, 1), (36, 1), (41, 1), (54, 1), (71, 1), (72, 2), (87, 1), (120, 1), (122, 2), (131, 1), (149, 1), (181, 1), (185, 1), (187, 1), (191, 1), (217, 1), (257, 1), (259, 2), (277, 2), (288, 3), (292, 1), (298, 1), (304, 2), (309, 2), (313, 1), (340, 1), (346, 1), (350, 1), (351, 1), (363, 1), (364, 3), (387, 1), (389, 1), (391, 1), (409, 1), (414, 3), (415, 1), (417, 1), (420, 2), (422, 1), (430, 1), (438, 1), (440, 2), (445, 2), (455, 2), (465, 4), (479, 1), (481, 1), (482, 1), (494, 1), (497, 1), (508, 1), (517, 1), (523, 1), (527, 3), (535, 6), (539, 4), (556, 1), (575, 1), (586, 1), (594, 1), (605, 1), (614, 2), (633, 1), (640, 2), (646, 3), (662, 3), (681, 1), (685, 1), (693, 1), (723, 2), (734, 1), (751, 1), (765, 2), (782, 1), (787, 1), (800, 1), (801, 6), (829, 1), (832, 1), (845, 1), (851, 1), (853, 1), (860, 1), (862, 1), (869, 1), (900, 1), (923, 2), (927, 1), (930, 4), (934, 1), (945, 1), (949, 1), (952, 1), (975, 5), (986, 2), (987, 1), (992, 1), (995, 1), (999, 1), (1000, 1), (1033, 4), (1043, 1), (1055, 1), (1056, 1), (1073, 1), (1079, 1), (1081, 1), (1106, 1), (1108, 1), (1131, 1), (1137, 2), (1138, 2), (1143, 1), (1153, 1), (1161, 1), (1163, 1), (1171, 1), (1172, 1), (1176, 1), (1187, 1), (1236, 1), (1249, 2), (1290, 1), (1306, 1), (1320, 1), (1328, 1), (1333, 5), (1347, 1), (1351, 4), (1367, 1), (1415, 1), (1468, 2), (1484, 3), (1486, 1), (1492, 2), (1495, 4), (1502, 1), (1518, 1), (1520, 3), (1521, 1), (1539, 1), (1561, 1), (1573, 1), (1575, 1), (1577, 4), (1586, 1), (1594, 2), (1658, 2), (1694, 1), (1759, 1), (1763, 2), (1772, 1), (1835, 2), (1843, 3), (1850, 2), (1863, 1), (1867, 3), (1869, 5), (1889, 1), (1895, 1), (1937, 1), (1952, 2), (1954, 2), (2019, 1), (2039, 1), (2058, 2), (2071, 1), (2129, 1), (2167, 1), (2176, 1), (2188, 2), (2215, 2), (2292, 1), (2295, 1), (2306, 1), (2307, 1), (2327, 2), (2328, 1), (2346, 1), (2368, 1), (2372, 1), (2427, 1), (2433, 1), (2482, 2), (2568, 1), (2625, 1), (2664, 1), (2685, 1), (2747, 1), (2789, 1), (2815, 3), (2849, 1), (2969, 1), (3013, 1), (3069, 1), (3170, 1), (3206, 2), (3259, 1), (3297, 1), (3301, 1), (3409, 1), (3419, 1), (3440, 1), (3444, 1), (3447, 1), (3460, 1), (3486, 1), (3491, 1), (3495, 1), (3497, 1), (3544, 1), (3574, 1), (3627, 1), (3740, 1), (3756, 1), (3775, 1), (3943, 1), (4229, 2), (4260, 1), (4483, 10), (4595, 1), (4741, 1), (4831, 1), (4987, 1), (5085, 2), (5122, 1), (5387, 1), (5388, 1), (5566, 1), (5793, 1), (6273, 1), (6328, 1), (6412, 1), (6507, 1), (6522, 1), (6807, 1), (7021, 1), (7022, 5), (7023, 1), (7024, 6), (7025, 1), (7026, 1), (7027, 1), (7028, 1), (7029, 1), (7030, 1), (7031, 6), (7032, 1), (7033, 1), (7034, 1), (7035, 1), (7036, 1), (7037, 1), (7038, 1), (7039, 1), (7040, 1), (7041, 1), (7042, 1), (7043, 1), (7044, 1), (7045, 2), (7046, 7), (7047, 1), (7048, 1), (7049, 1), (7050, 5), (7051, 8), (7052, 1), (7053, 1), (7054, 1), (7055, 1), (7056, 1), (7057, 1), (7058, 1), (7059, 1), (7060, 1)], [(0, 1), (9, 1), (17, 1), (25, 1), (26, 1), (48, 3), (52, 1), (54, 2), (56, 2), (61, 1), (64, 2), (69, 1), (71, 2), (72, 1), (80, 1), (82, 1), (87, 2), (90, 1), (93, 1), (102, 2), (111, 5), (125, 1), (134, 1), (135, 1), (151, 1), (152, 1), (158, 1), (168, 11), (169, 1), (181, 1), (190, 2), (206, 1), (216, 1), (226, 2), (245, 1), (248, 1), (249, 1), (252, 3), (271, 1), (275, 1), (277, 1), (288, 2), (299, 2), (303, 1), (306, 1), (310, 1), (311, 1), (314, 2), (319, 1), (322, 2), (340, 1), (347, 1), (351, 1), (354, 1), (359, 1), (361, 3), (363, 3), (364, 2), (369, 1), (376, 5), (399, 4), (405, 1), (415, 35), (417, 1), (421, 2), (422, 1), (429, 1), (440, 3), (455, 1), (478, 1), (481, 1), (482, 1), (492, 1), (500, 2), (503, 2), (505, 5), (523, 1), (527, 2), (535, 13), (538, 1), (539, 1), (555, 1), (556, 1), (574, 1), (575, 1), (576, 1), (577, 1), (590, 1), (601, 1), (622, 1), (628, 2), (629, 3), (630, 1), (633, 7), (636, 1), (640, 2), (646, 3), (662, 3), (664, 2), (666, 1), (669, 2), (670, 1), (673, 1), (680, 2), (681, 3), (685, 4), (723, 1), (725, 1), (732, 1), (743, 1), (746, 1), (751, 2), (756, 2), (760, 1), (780, 2), (787, 2), (788, 2), (789, 1), (794, 1), (803, 1), (806, 1), (815, 1), (817, 1), (825, 2), (833, 1), (836, 1), (847, 1), (855, 1), (860, 1), (869, 4), (878, 1), (894, 2), (895, 1), (909, 1), (910, 1), (931, 1), (937, 1), (938, 1), (943, 6), (945, 1), (967, 1), (999, 1), (1016, 1), (1025, 3), (1030, 1), (1032, 1), (1041, 2), (1047, 1), (1085, 1), (1086, 1), (1100, 5), (1125, 1), (1130, 1), (1136, 1), (1142, 1), (1191, 1), (1210, 2), (1239, 1), (1241, 1), (1245, 1), (1274, 1), (1283, 1), (1293, 1), (1304, 5), (1306, 2), (1307, 2), (1351, 1), (1369, 11), (1388, 1), (1395, 1), (1402, 3), (1404, 1), (1422, 1), (1427, 1), (1446, 1), (1448, 1), (1463, 1), (1472, 1), (1473, 1), (1478, 1), (1496, 1), (1506, 7), (1518, 2), (1524, 3), (1527, 3), (1533, 2), (1539, 1), (1560, 2), (1577, 1), (1579, 2), (1598, 1), (1606, 1), (1644, 2), (1660, 1), (1683, 5), (1693, 1), (1715, 1), (1717, 1), (1718, 1), (1727, 1), (1737, 1), (1759, 1), (1763, 1), (1767, 1), (1769, 1), (1791, 8), (1792, 3), (1796, 2), (1811, 2), (1827, 1), (1838, 1), (1844, 1), (1878, 1), (1938, 1), (1950, 1), (1956, 1), (1959, 2), (2044, 2), (2064, 2), (2066, 1), (2087, 8), (2101, 2), (2105, 1), (2106, 1), (2117, 1), (2118, 1), (2120, 2), (2122, 1), (2125, 1), (2133, 1), (2136, 2), (2143, 2), (2144, 1), (2148, 1), (2159, 1), (2163, 1), (2166, 1), (2178, 1), (2192, 1), (2249, 1), (2327, 1), (2337, 1), (2372, 1), (2502, 1), (2595, 1), (2630, 1), (2679, 1), (2690, 1), (2719, 1), (2764, 1), (2796, 1), (2808, 3), (2813, 1), (2820, 5), (2821, 1), (2827, 1), (2843, 1), (2854, 1), (2890, 1), (2914, 1), (2935, 1), (2952, 2), (2986, 2), (3078, 2), (3216, 1), (3256, 2), (3301, 1), (3312, 1), (3348, 1), (3373, 1), (3374, 1), (3385, 8), (3499, 1), (3531, 1), (3541, 1), (3632, 1), (3637, 1), (3665, 1), (3667, 1), (3712, 1), (3740, 1), (3759, 2), (3779, 1), (3815, 1), (3841, 1), (3847, 1), (3883, 1), (3915, 1), (3951, 1), (3984, 1), (4054, 1), (4110, 1), (4116, 1), (4130, 2), (4138, 1), (4146, 1), (4150, 2), (4152, 1), (4175, 2), (4179, 2), (4185, 1), (4192, 1), (4210, 1), (4216, 1), (4246, 1), (4305, 1), (4312, 1), (4336, 2), (4338, 1), (4369, 9), (4454, 1), (4485, 1), (4545, 1), (4620, 1), (4634, 1), (4876, 1), (4892, 1), (4904, 1), (4951, 1), (4991, 1), (5098, 1), (5261, 1), (5415, 1), (5504, 1), (5581, 1), (5598, 1), (5625, 1), (5668, 2), (5753, 1), (5754, 1), (5804, 1), (5829, 1), (5922, 2), (5989, 1), (6040, 1), (6106, 9), (6161, 1), (6213, 8), (6340, 1), (6362, 1), (6367, 5), (6412, 1), (6956, 1), (7061, 1), (7062, 1), (7063, 3), (7064, 1), (7065, 1), (7066, 1), (7067, 1), (7068, 1), (7069, 1), (7070, 1), (7071, 1), (7072, 1), (7073, 1), (7074, 3), (7075, 1), (7076, 1), (7077, 1), (7078, 1), (7079, 1), (7080, 1), (7081, 1), (7082, 1), (7083, 6), (7084, 1), (7085, 1), (7086, 1), (7087, 1), (7088, 1), (7089, 2), (7090, 4), (7091, 1), (7092, 1), (7093, 1), (7094, 1), (7095, 1), (7096, 1), (7097, 1), (7098, 1), (7099, 1), (7100, 2), (7101, 2), (7102, 1), (7103, 1), (7104, 6), (7105, 1), (7106, 1), (7107, 1), (7108, 9), (7109, 1), (7110, 1), (7111, 1), (7112, 1), (7113, 1)], [(14, 1), (39, 1), (48, 1), (50, 1), (52, 1), (54, 1), (61, 2), (68, 1), (84, 1), (85, 1), (87, 1), (92, 1), (120, 6), (135, 1), (164, 1), (169, 3), (178, 1), (191, 1), (209, 1), (216, 1), (228, 1), (231, 1), (240, 1), (251, 1), (268, 1), (271, 1), (280, 1), (288, 3), (305, 1), (310, 1), (322, 1), (324, 1), (326, 1), (351, 1), (363, 2), (372, 1), (387, 1), (399, 2), (414, 1), (415, 8), (417, 1), (429, 1), (431, 1), (439, 2), (440, 4), (452, 1), (465, 1), (469, 1), (476, 3), (482, 1), (519, 1), (522, 3), (525, 1), (535, 8), (539, 2), (547, 2), (551, 1), (567, 1), (619, 1), (646, 1), (654, 2), (659, 1), (663, 2), (666, 1), (667, 1), (669, 1), (673, 1), (681, 4), (685, 2), (712, 1), (725, 1), (729, 1), (741, 1), (750, 1), (780, 1), (788, 1), (803, 1), (805, 2), (806, 1), (856, 1), (860, 1), (888, 1), (891, 2), (896, 1), (920, 2), (922, 1), (924, 1), (930, 1), (936, 1), (949, 1), (954, 1), (959, 1), (963, 1), (965, 2), (968, 1), (975, 2), (1032, 3), (1060, 2), (1063, 2), (1064, 1), (1068, 16), (1092, 2), (1102, 1), (1105, 7), (1114, 4), (1133, 6), (1137, 1), (1158, 2), (1170, 5), (1171, 2), (1176, 1), (1232, 1), (1238, 1), (1249, 1), (1263, 1), (1280, 2), (1284, 1), (1301, 1), (1306, 1), (1312, 1), (1318, 1), (1330, 1), (1338, 1), (1355, 1), (1359, 1), (1409, 1), (1450, 1), (1475, 1), (1482, 1), (1486, 2), (1488, 1), (1505, 1), (1570, 1), (1587, 1), (1589, 1), (1630, 1), (1671, 1), (1680, 1), (1698, 1), (1710, 1), (1715, 2), (1717, 1), (1720, 1), (1725, 1), (1747, 1), (1748, 1), (1767, 1), (1797, 2), (1836, 1), (1886, 1), (1904, 1), (1912, 1), (1946, 1), (1950, 1), (1986, 1), (1989, 1), (1991, 3), (2018, 1), (2019, 1), (2040, 6), (2071, 1), (2096, 7), (2110, 1), (2130, 2), (2189, 2), (2215, 3), (2265, 1), (2294, 1), (2300, 2), (2327, 1), (2341, 1), (2359, 1), (2425, 2), (2466, 1), (2491, 1), (2517, 1), (2533, 1), (2560, 2), (2563, 1), (2598, 1), (2604, 1), (2607, 1), (2620, 1), (2648, 1), (2729, 3), (2735, 1), (2761, 1), (2771, 1), (2808, 1), (2832, 1), (2880, 1), (2915, 1), (2953, 1), (3069, 1), (3121, 5), (3167, 1), (3217, 1), (3246, 1), (3493, 1), (3514, 1), (3532, 1), (3539, 2), (3546, 1), (3552, 5), (3576, 1), (3582, 3), (3606, 1), (3654, 1), (3739, 1), (3820, 1), (3823, 1), (3847, 1), (3879, 1), (3970, 1), (3971, 10), (4037, 1), (4050, 3), (4231, 1), (4234, 3), (4267, 1), (4313, 1), (4349, 2), (4385, 1), (4504, 1), (4566, 1), (4620, 1), (4842, 2), (4885, 1), (4924, 1), (5040, 1), (5167, 1), (5208, 1), (5299, 1), (5301, 1), (5387, 2), (5525, 1), (5561, 1), (5763, 1), (6225, 1), (6257, 1), (6348, 1), (6520, 1), (6696, 2), (6711, 2), (6774, 1), (6839, 1), (7114, 1), (7115, 1), (7116, 1), (7117, 1), (7118, 5), (7119, 1), (7120, 1), (7121, 2), (7122, 1), (7123, 1), (7124, 1), (7125, 1), (7126, 1), (7127, 2), (7128, 12), (7129, 12), (7130, 2), (7131, 1), (7132, 4), (7133, 1), (7134, 4), (7135, 1), (7136, 1), (7137, 1), (7138, 1), (7139, 1), (7140, 1), (7141, 1), (7142, 1), (7143, 2), (7144, 1), (7145, 1), (7146, 2)], [(50, 1), (53, 1), (54, 1), (71, 1), (72, 2), (76, 1), (87, 5), (92, 3), (93, 2), (99, 2), (106, 1), (122, 1), (136, 1), (153, 2), (155, 1), (166, 1), (169, 1), (181, 1), (190, 1), (204, 2), (209, 2), (210, 3), (217, 1), (224, 1), (238, 1), (243, 1), (252, 1), (259, 10), (288, 5), (289, 1), (303, 5), (311, 1), (322, 1), (331, 4), (340, 1), (347, 2), (349, 2), (350, 1), (351, 2), (352, 1), (364, 1), (377, 1), (384, 1), (395, 2), (399, 1), (409, 1), (413, 1), (414, 1), (415, 3), (420, 1), (429, 1), (430, 1), (440, 1), (442, 1), (462, 1), (469, 1), (476, 4), (481, 1), (488, 2), (510, 2), (518, 1), (523, 1), (535, 6), (539, 1), (555, 1), (556, 1), (575, 1), (590, 2), (596, 1), (600, 1), (605, 1), (613, 1), (614, 4), (623, 1), (631, 1), (633, 2), (636, 1), (640, 1), (646, 2), (654, 2), (663, 1), (664, 1), (666, 4), (669, 2), (678, 5), (680, 2), (681, 3), (685, 1), (705, 2), (708, 1), (720, 1), (723, 1), (745, 3), (750, 1), (752, 1), (764, 1), (768, 1), (773, 1), (788, 1), (804, 2), (808, 2), (836, 3), (844, 2), (878, 1), (889, 3), (891, 9), (894, 3), (900, 3), (906, 1), (927, 3), (944, 1), (949, 1), (975, 1), (988, 2), (990, 3), (994, 1), (995, 12), (999, 1), (1000, 2), (1032, 2), (1037, 1), (1039, 1), (1042, 2), (1073, 2), (1084, 25), (1092, 5), (1094, 7), (1105, 1), (1108, 2), (1120, 1), (1131, 1), (1133, 2), (1153, 1), (1158, 2), (1163, 5), (1168, 2), (1185, 1), (1205, 2), (1206, 3), (1218, 1), (1246, 1), (1247, 9), (1263, 1), (1267, 2), (1274, 1), (1286, 1), (1290, 1), (1304, 1), (1308, 1), (1312, 2), (1316, 1), (1323, 1), (1328, 3), (1331, 2), (1333, 13), (1337, 1), (1347, 1), (1356, 1), (1371, 2), (1418, 1), (1484, 4), (1486, 1), (1492, 3), (1495, 5), (1515, 1), (1530, 1), (1541, 1), (1549, 1), (1572, 1), (1584, 1), (1590, 1), (1591, 2), (1607, 1), (1647, 1), (1648, 1), (1653, 1), (1660, 1), (1669, 1), (1680, 3), (1683, 1), (1694, 1), (1698, 1), (1717, 4), (1720, 1), (1725, 3), (1748, 1), (1763, 4), (1764, 1), (1767, 1), (1772, 1), (1773, 1), (1779, 1), (1784, 2), (1796, 1), (1805, 1), (1814, 1), (1824, 1), (1837, 1), (1840, 1), (1843, 1), (1883, 1), (1895, 1), (1921, 1), (1991, 3), (2009, 1), (2010, 1), (2071, 1), (2097, 1), (2117, 1), (2155, 1), (2167, 1), (2203, 1), (2215, 2), (2218, 10), (2219, 7), (2220, 11), (2226, 10), (2231, 1), (2234, 2), (2237, 1), (2243, 1), (2249, 1), (2257, 1), (2259, 2), (2263, 2), (2265, 1), (2268, 7), (2277, 1), (2284, 2), (2290, 1), (2295, 1), (2297, 2), (2298, 1), (2302, 2), (2303, 4), (2307, 1), (2313, 1), (2320, 5), (2321, 6), (2327, 1), (2336, 2), (2339, 2), (2341, 2), (2348, 10), (2349, 20), (2352, 1), (2357, 1), (2359, 1), (2360, 1), (2366, 15), (2368, 2), (2373, 1), (2378, 14), (2385, 3), (2407, 1), (2408, 1), (2412, 1), (2439, 2), (2448, 2), (2484, 1), (2500, 1), (2521, 1), (2524, 2), (2528, 18), (2535, 1), (2597, 1), (2625, 1), (2636, 1), (2667, 1), (2689, 1), (2771, 1), (2781, 1), (2826, 1), (2831, 1), (2841, 1), (2842, 1), (2845, 1), (2869, 1), (3027, 3), (3029, 1), (3033, 1), (3067, 1), (3068, 1), (3117, 2), (3139, 1), (3157, 1), (3164, 1), (3211, 1), (3213, 1), (3279, 1), (3294, 1), (3296, 3), (3460, 1), (3489, 1), (3492, 1), (3496, 1), (3507, 1), (3540, 1), (3569, 1), (3707, 1), (3847, 1), (3884, 1), (4031, 4), (4039, 1), (4049, 1), (4050, 1), (4231, 1), (4307, 1), (4316, 1), (4542, 1), (4551, 2), (4620, 1), (4625, 1), (4647, 1), (4678, 1), (4689, 1), (4710, 2), (4791, 1), (5029, 2), (5034, 1), (5107, 1), (5129, 1), (5148, 1), (5219, 1), (5376, 1), (5492, 1), (5592, 1), (5618, 1), (5890, 1), (6239, 1), (6251, 1), (6721, 1), (6768, 1), (6881, 1), (6988, 1), (7127, 1), (7147, 3), (7148, 1), (7149, 1), (7150, 1), (7151, 2), (7152, 1), (7153, 1), (7154, 1), (7155, 2), (7156, 1), (7157, 1), (7158, 1), (7159, 2), (7160, 1), (7161, 1), (7162, 1), (7163, 1), (7164, 1), (7165, 2), (7166, 1), (7167, 1), (7168, 1), (7169, 1), (7170, 1), (7171, 1), (7172, 1), (7173, 1), (7174, 1), (7175, 1), (7176, 7), (7177, 1), (7178, 1), (7179, 1), (7180, 1), (7181, 1)], [(0, 1), (1, 1), (9, 1), (25, 2), (38, 1), (53, 1), (54, 1), (57, 1), (61, 1), (71, 1), (76, 1), (77, 1), (85, 1), (87, 2), (101, 1), (122, 1), (125, 2), (131, 1), (143, 1), (152, 1), (154, 1), (156, 2), (163, 1), (169, 5), (181, 2), (185, 1), (209, 1), (216, 2), (217, 1), (228, 1), (231, 1), (252, 1), (256, 1), (269, 1), (277, 1), (279, 1), (280, 1), (288, 2), (322, 3), (340, 1), (341, 1), (347, 1), (361, 1), (363, 2), (369, 1), (373, 1), (387, 2), (395, 1), (399, 1), (400, 1), (414, 1), (415, 1), (416, 1), (417, 1), (422, 5), (439, 2), (443, 1), (450, 1), (488, 1), (495, 10), (503, 1), (522, 2), (535, 7), (556, 1), (574, 1), (585, 1), (601, 1), (605, 1), (623, 1), (624, 1), (632, 1), (633, 2), (638, 1), (646, 1), (648, 1), (654, 1), (664, 1), (677, 1), (678, 1), (680, 3), (681, 2), (685, 1), (686, 1), (688, 5), (690, 2), (694, 1), (702, 1), (708, 1), (723, 4), (725, 1), (727, 1), (746, 1), (750, 1), (764, 2), (808, 2), (829, 4), (851, 1), (857, 1), (872, 1), (891, 2), (902, 1), (914, 1), (927, 1), (935, 1), (971, 1), (988, 1), (1025, 1), (1029, 1), (1032, 1), (1034, 2), (1040, 1), (1041, 1), (1042, 1), (1073, 1), (1079, 1), (1084, 1), (1091, 3), (1102, 2), (1114, 1), (1131, 1), (1142, 1), (1161, 1), (1163, 1), (1171, 1), (1176, 1), (1218, 1), (1238, 1), (1245, 2), (1270, 1), (1284, 1), (1299, 1), (1311, 3), (1315, 4), (1323, 1), (1333, 1), (1344, 2), (1351, 1), (1360, 1), (1371, 1), (1377, 1), (1397, 1), (1417, 1), (1430, 1), (1455, 1), (1463, 2), (1468, 1), (1474, 1), (1479, 1), (1489, 3), (1499, 1), (1506, 1), (1509, 1), (1515, 1), (1589, 1), (1607, 1), (1637, 3), (1660, 2), (1718, 1), (1724, 1), (1727, 1), (1737, 1), (1752, 1), (1758, 1), (1760, 1), (1775, 1), (1824, 1), (1843, 1), (1844, 1), (1951, 1), (1992, 1), (2018, 1), (2040, 1), (2041, 1), (2068, 7), (2136, 1), (2147, 1), (2155, 3), (2160, 1), (2167, 1), (2230, 1), (2257, 1), (2260, 1), (2281, 1), (2284, 1), (2327, 1), (2344, 1), (2346, 1), (2374, 1), (2392, 1), (2410, 1), (2419, 1), (2423, 1), (2527, 2), (2531, 1), (2533, 1), (2568, 1), (2575, 2), (2618, 1), (2648, 2), (2673, 1), (2690, 1), (2721, 2), (2760, 3), (2774, 1), (2775, 1), (2791, 1), (2793, 1), (2813, 1), (2815, 1), (2821, 1), (2824, 3), (2834, 1), (2910, 1), (2950, 1), (2957, 1), (2960, 1), (3018, 1), (3034, 1), (3041, 1), (3068, 1), (3080, 1), (3087, 1), (3112, 1), (3144, 1), (3155, 1), (3172, 1), (3251, 1), (3398, 1), (3417, 1), (3537, 1), (3586, 1), (3592, 1), (3638, 1), (3759, 1), (3776, 1), (3778, 3), (3831, 3), (3847, 1), (3851, 1), (3877, 2), (3900, 1), (3941, 1), (3949, 1), (4088, 1), (4172, 1), (4197, 1), (4213, 2), (4338, 1), (4403, 1), (4569, 1), (4583, 1), (4621, 1), (4750, 2), (4759, 2), (4833, 1), (4842, 2), (4899, 1), (4951, 2), (4965, 1), (5059, 1), (5276, 1), (5278, 1), (5288, 3), (5406, 1), (5864, 1), (6084, 1), (6186, 1), (6200, 2), (6238, 4), (6271, 1), (6330, 1), (6453, 4), (6515, 1), (6540, 1), (6674, 1), (6725, 3), (6937, 1), (7097, 1), (7127, 1), (7182, 1), (7183, 1), (7184, 1), (7185, 1), (7186, 1), (7187, 1), (7188, 1), (7189, 2), (7190, 1), (7191, 1), (7192, 1), (7193, 1), (7194, 1), (7195, 1), (7196, 1), (7197, 2), (7198, 1), (7199, 1), (7200, 1), (7201, 1), (7202, 1), (7203, 1), (7204, 1), (7205, 1), (7206, 1), (7207, 1), (7208, 1), (7209, 1), (7210, 2), (7211, 1), (7212, 1), (7213, 1), (7214, 1), (7215, 1), (7216, 3), (7217, 1), (7218, 13), (7219, 1), (7220, 1), (7221, 1), (7222, 1), (7223, 1), (7224, 2), (7225, 1), (7226, 3), (7227, 2), (7228, 1), (7229, 1), (7230, 1), (7231, 1), (7232, 1), (7233, 1), (7234, 1), (7235, 1), (7236, 1), (7237, 1), (7238, 1), (7239, 1), (7240, 1), (7241, 1), (7242, 1), (7243, 1), (7244, 1), (7245, 1), (7246, 1), (7247, 1), (7248, 2), (7249, 1), (7250, 1), (7251, 1)], [(54, 1), (58, 1), (76, 4), (92, 1), (96, 1), (122, 1), (141, 1), (162, 1), (169, 2), (200, 1), (223, 2), (226, 1), (231, 1), (236, 1), (249, 1), (252, 1), (277, 1), (289, 1), (322, 2), (340, 1), (355, 2), (361, 1), (387, 1), (399, 1), (415, 1), (422, 2), (440, 5), (450, 1), (465, 1), (469, 1), (476, 2), (493, 1), (498, 2), (501, 1), (503, 1), (535, 2), (539, 1), (546, 1), (629, 3), (633, 5), (640, 1), (644, 1), (654, 7), (659, 1), (664, 1), (670, 1), (678, 2), (681, 5), (688, 2), (702, 1), (723, 1), (746, 1), (752, 1), (765, 1), (788, 2), (815, 1), (818, 1), (829, 2), (869, 1), (894, 1), (937, 2), (944, 2), (980, 1), (988, 1), (1002, 1), (1039, 1), (1058, 6), (1060, 1), (1083, 1), (1084, 1), (1086, 6), (1105, 7), (1125, 12), (1126, 1), (1127, 1), (1172, 1), (1194, 1), (1223, 1), (1237, 1), (1263, 1), (1280, 1), (1306, 1), (1333, 1), (1344, 4), (1361, 1), (1398, 1), (1402, 1), (1407, 1), (1415, 2), (1448, 1), (1479, 1), (1486, 1), (1500, 2), (1506, 1), (1516, 2), (1517, 1), (1523, 1), (1524, 1), (1539, 1), (1549, 1), (1566, 1), (1571, 1), (1578, 1), (1585, 1), (1596, 1), (1612, 1), (1633, 1), (1647, 3), (1648, 3), (1660, 2), (1693, 1), (1717, 1), (1729, 1), (1748, 1), (1759, 1), (1763, 1), (1827, 1), (1922, 1), (1983, 1), (2009, 1), (2011, 2), (2071, 1), (2130, 3), (2133, 1), (2147, 1), (2169, 3), (2200, 5), (2258, 1), (2275, 2), (2281, 1), (2337, 2), (2402, 1), (2423, 3), (2513, 4), (2631, 1), (2705, 1), (2713, 1), (2723, 1), (2725, 1), (2732, 2), (2820, 1), (2828, 1), (2902, 1), (2969, 1), (2983, 1), (3042, 4), (3256, 2), (3302, 1), (3576, 1), (3756, 3), (3830, 1), (3934, 1), (4270, 1), (4307, 1), (4342, 1), (4405, 1), (4480, 1), (4504, 3), (4522, 1), (4565, 2), (4689, 1), (4758, 1), (4814, 2), (4891, 1), (5211, 1), (5337, 1), (6078, 1), (6229, 4), (6557, 1), (6704, 2), (6968, 1), (7252, 1), (7253, 1), (7254, 1), (7255, 1), (7256, 1), (7257, 1), (7258, 1), (7259, 1), (7260, 1), (7261, 1), (7262, 1), (7263, 1), (7264, 1), (7265, 1), (7266, 1), (7267, 1), (7268, 1), (7269, 2), (7270, 2), (7271, 1), (7272, 4), (7273, 4)], [(0, 1), (1, 1), (3, 1), (14, 1), (25, 1), (36, 1), (41, 1), (47, 1), (48, 1), (50, 1), (54, 2), (71, 1), (76, 1), (79, 1), (92, 1), (97, 1), (102, 3), (110, 1), (122, 2), (135, 2), (156, 1), (181, 3), (200, 1), (204, 1), (210, 1), (224, 1), (227, 2), (229, 1), (231, 1), (235, 1), (249, 1), (252, 2), (256, 1), (261, 2), (269, 2), (271, 1), (273, 1), (277, 3), (283, 3), (288, 3), (290, 1), (295, 1), (298, 1), (304, 1), (306, 1), (322, 2), (346, 1), (351, 3), (355, 1), (360, 1), (363, 4), (376, 1), (383, 1), (387, 2), (399, 2), (409, 4), (417, 1), (421, 1), (440, 2), (450, 1), (455, 1), (456, 1), (462, 1), (465, 1), (469, 1), (478, 1), (485, 4), (492, 1), (500, 2), (503, 1), (514, 2), (535, 12), (541, 1), (553, 1), (555, 1), (556, 1), (562, 2), (580, 1), (618, 2), (629, 1), (633, 2), (640, 1), (646, 10), (652, 1), (654, 1), (662, 1), (666, 6), (668, 1), (669, 1), (670, 1), (680, 3), (681, 1), (685, 3), (689, 1), (693, 1), (696, 2), (706, 2), (724, 2), (734, 1), (743, 1), (746, 2), (751, 1), (752, 3), (753, 6), (765, 3), (766, 4), (780, 1), (783, 1), (784, 1), (787, 1), (788, 1), (799, 1), (800, 3), (801, 4), (808, 1), (814, 15), (825, 1), (848, 1), (849, 1), (851, 2), (856, 23), (857, 1), (864, 5), (873, 1), (878, 1), (879, 1), (891, 5), (930, 1), (931, 2), (952, 1), (965, 1), (968, 1), (975, 1), (1000, 1), (1013, 1), (1025, 1), (1032, 1), (1034, 3), (1039, 2), (1040, 1), (1041, 1), (1047, 3), (1074, 2), (1084, 5), (1092, 4), (1102, 1), (1103, 5), (1106, 3), (1108, 9), (1155, 1), (1156, 1), (1163, 2), (1167, 1), (1172, 1), (1216, 1), (1232, 1), (1237, 1), (1244, 1), (1245, 1), (1284, 2), (1286, 1), (1288, 1), (1306, 2), (1321, 1), (1323, 1), (1333, 5), (1340, 3), (1344, 12), (1351, 2), (1361, 2), (1363, 2), (1374, 1), (1387, 1), (1435, 1), (1450, 1), (1456, 1), (1457, 1), (1468, 1), (1482, 1), (1489, 2), (1506, 7), (1518, 1), (1539, 1), (1566, 2), (1577, 4), (1578, 1), (1601, 1), (1602, 1), (1629, 1), (1650, 1), (1680, 1), (1682, 1), (1715, 1), (1759, 2), (1818, 1), (1836, 1), (1841, 1), (1843, 1), (1869, 1), (1895, 2), (1906, 1), (1926, 1), (1937, 2), (1952, 1), (1959, 1), (1963, 1), (2039, 1), (2064, 1), (2073, 1), (2091, 3), (2148, 1), (2163, 1), (2167, 1), (2194, 1), (2209, 1), (2215, 1), (2257, 1), (2265, 1), (2269, 1), (2276, 1), (2289, 1), (2300, 1), (2327, 1), (2340, 1), (2343, 2), (2372, 2), (2374, 1), (2376, 1), (2392, 1), (2406, 1), (2449, 1), (2450, 1), (2464, 2), (2467, 1), (2474, 1), (2486, 4), (2502, 1), (2519, 2), (2523, 1), (2524, 1), (2541, 3), (2555, 3), (2601, 2), (2625, 1), (2636, 1), (2682, 1), (2692, 1), (2697, 1), (2721, 1), (2759, 1), (2771, 1), (2783, 1), (2791, 1), (2812, 2), (2824, 1), (2842, 1), (2844, 2), (2845, 2), (2943, 1), (2950, 1), (2970, 1), (2986, 1), (2990, 1), (3021, 1), (3054, 3), (3055, 2), (3082, 1), (3084, 1), (3094, 1), (3111, 2), (3125, 1), (3317, 1), (3417, 1), (3529, 1), (3586, 1), (3590, 1), (3601, 1), (3605, 1), (3606, 1), (3652, 1), (3739, 2), (3806, 1), (3824, 1), (4064, 1), (4183, 1), (4216, 2), (4270, 1), (4401, 1), (4405, 5), (4426, 1), (4470, 1), (4519, 1), (4767, 1), (4857, 1), (4933, 1), (5068, 1), (5120, 2), (5284, 1), (5295, 1), (5334, 1), (5498, 1), (5558, 2), (5562, 1), (5807, 1), (5864, 5), (5906, 2), (5989, 1), (6135, 2), (6332, 1), (6453, 4), (7065, 1), (7274, 1), (7275, 1), (7276, 1), (7277, 1), (7278, 1), (7279, 1), (7280, 2), (7281, 1), (7282, 3), (7283, 1), (7284, 1), (7285, 1), (7286, 1), (7287, 1), (7288, 17), (7289, 1), (7290, 1), (7291, 1), (7292, 3), (7293, 1), (7294, 1), (7295, 1), (7296, 1), (7297, 1), (7298, 1), (7299, 1), (7300, 3), (7301, 1), (7302, 1), (7303, 1), (7304, 1), (7305, 1), (7306, 1), (7307, 1)], [(20, 1), (41, 1), (42, 1), (46, 1), (52, 1), (54, 3), (55, 1), (97, 1), (99, 1), (122, 1), (136, 3), (164, 1), (200, 1), (210, 2), (217, 2), (218, 1), (224, 1), (231, 1), (232, 1), (240, 1), (256, 1), (259, 4), (262, 1), (269, 1), (271, 1), (328, 1), (347, 2), (351, 2), (354, 1), (363, 1), (384, 1), (387, 2), (409, 1), (412, 1), (414, 1), (415, 4), (417, 1), (422, 1), (429, 1), (440, 1), (455, 3), (458, 1), (476, 1), (484, 1), (535, 12), (539, 2), (541, 1), (546, 1), (562, 1), (585, 2), (590, 2), (628, 1), (630, 1), (633, 2), (640, 1), (654, 1), (660, 1), (680, 1), (681, 3), (685, 5), (741, 2), (743, 1), (767, 1), (801, 1), (833, 2), (860, 1), (886, 1), (927, 2), (930, 1), (937, 2), (945, 1), (955, 1), (968, 1), (975, 4), (988, 3), (1010, 1), (1029, 1), (1033, 1), (1039, 1), (1068, 1), (1081, 1), (1084, 2), (1092, 2), (1126, 1), (1138, 1), (1152, 1), (1159, 1), (1237, 1), (1238, 1), (1239, 1), (1248, 1), (1263, 6), (1281, 1), (1283, 1), (1308, 1), (1323, 1), (1331, 1), (1332, 1), (1333, 1), (1340, 1), (1361, 1), (1367, 1), (1438, 1), (1446, 4), (1467, 1), (1475, 2), (1486, 1), (1506, 1), (1518, 2), (1544, 1), (1577, 4), (1580, 1), (1585, 1), (1589, 1), (1631, 3), (1647, 1), (1648, 4), (1672, 1), (1680, 3), (1727, 1), (1737, 1), (1748, 3), (1763, 1), (1772, 1), (1773, 1), (1788, 1), (1813, 1), (1818, 1), (1943, 2), (1950, 1), (1959, 1), (2001, 1), (2019, 1), (2038, 1), (2039, 1), (2106, 1), (2163, 2), (2168, 1), (2196, 1), (2203, 1), (2271, 2), (2281, 1), (2290, 1), (2307, 1), (2344, 1), (2398, 1), (2400, 4), (2533, 1), (2554, 1), (2555, 1), (2572, 1), (2579, 1), (2590, 1), (2592, 3), (2618, 1), (2625, 1), (2636, 1), (2661, 1), (2668, 1), (2684, 1), (2689, 18), (2690, 1), (2708, 2), (2806, 1), (2808, 1), (2822, 1), (2827, 1), (2831, 1), (2906, 4), (3013, 7), (3014, 10), (3045, 1), (3094, 1), (3173, 1), (3194, 1), (3220, 2), (3246, 1), (3294, 1), (3295, 1), (3388, 1), (3412, 1), (3433, 5), (3491, 1), (3495, 2), (3531, 1), (3676, 4), (3707, 1), (3771, 5), (3927, 1), (3941, 1), (3971, 1), (4057, 1), (4122, 1), (4175, 1), (4183, 2), (4249, 1), (4254, 2), (4260, 1), (4266, 4), (4286, 7), (4288, 1), (4290, 1), (4291, 1), (4298, 1), (4304, 1), (4315, 1), (4325, 1), (4333, 4), (4386, 1), (4426, 1), (4500, 1), (4597, 1), (4918, 5), (4957, 8), (4970, 1), (5068, 1), (5136, 1), (5148, 1), (5220, 11), (5238, 2), (5582, 1), (5617, 1), (5697, 1), (5790, 1), (6106, 1), (6355, 2), (6668, 1), (6839, 1), (7308, 3), (7309, 4), (7310, 2), (7311, 1), (7312, 1), (7313, 2), (7314, 1), (7315, 1), (7316, 1), (7317, 1), (7318, 1), (7319, 1), (7320, 1), (7321, 1), (7322, 1), (7323, 1), (7324, 2), (7325, 1), (7326, 1), (7327, 1), (7328, 1), (7329, 1), (7330, 1), (7331, 1), (7332, 1), (7333, 1), (7334, 1), (7335, 1), (7336, 1), (7337, 1), (7338, 1), (7339, 1), (7340, 1), (7341, 1), (7342, 1), (7343, 1), (7344, 1), (7345, 1), (7346, 1), (7347, 1), (7348, 1)], [(8, 1), (11, 1), (23, 1), (36, 1), (42, 1), (46, 1), (48, 2), (51, 2), (54, 2), (64, 1), (79, 1), (92, 2), (95, 1), (97, 3), (101, 2), (116, 2), (120, 3), (125, 1), (132, 1), (133, 1), (136, 1), (153, 1), (155, 3), (169, 2), (179, 1), (180, 1), (181, 1), (190, 2), (207, 6), (209, 2), (217, 1), (220, 1), (224, 2), (228, 1), (231, 1), (237, 1), (238, 1), (239, 1), (250, 1), (251, 1), (252, 1), (256, 1), (260, 1), (265, 1), (267, 1), (269, 1), (271, 2), (273, 1), (277, 1), (279, 2), (303, 1), (304, 1), (311, 2), (325, 1), (331, 2), (335, 1), (350, 1), (351, 2), (353, 1), (363, 5), (378, 1), (384, 3), (387, 3), (393, 3), (415, 2), (416, 10), (417, 1), (420, 1), (429, 1), (439, 3), (440, 4), (446, 1), (455, 2), (458, 1), (481, 2), (504, 3), (519, 1), (522, 1), (527, 1), (535, 9), (539, 3), (556, 2), (559, 1), (628, 1), (629, 2), (633, 2), (634, 2), (635, 1), (638, 2), (639, 1), (644, 1), (646, 2), (647, 1), (652, 1), (659, 1), (662, 1), (663, 2), (664, 2), (666, 1), (669, 1), (681, 6), (685, 3), (686, 1), (690, 1), (702, 1), (742, 1), (750, 2), (751, 2), (780, 1), (782, 1), (787, 1), (788, 2), (806, 1), (815, 1), (826, 2), (834, 1), (841, 1), (849, 2), (871, 1), (872, 2), (879, 1), (880, 1), (886, 1), (888, 1), (901, 1), (914, 3), (920, 2), (921, 1), (926, 1), (931, 1), (934, 1), (945, 1), (947, 6), (955, 1), (959, 2), (975, 1), (988, 1), (992, 1), (1003, 3), (1024, 1), (1049, 1), (1061, 1), (1063, 1), (1068, 1), (1092, 1), (1112, 1), (1137, 1), (1142, 1), (1170, 2), (1172, 1), (1176, 1), (1189, 2), (1197, 2), (1239, 1), (1245, 1), (1270, 1), (1275, 1), (1284, 1), (1287, 1), (1288, 1), (1304, 1), (1318, 1), (1343, 1), (1344, 1), (1351, 1), (1365, 1), (1371, 1), (1386, 1), (1389, 1), (1404, 2), (1466, 1), (1468, 1), (1482, 1), (1486, 1), (1496, 1), (1503, 1), (1518, 3), (1519, 1), (1546, 1), (1577, 1), (1583, 1), (1584, 2), (1585, 1), (1587, 2), (1596, 1), (1598, 1), (1623, 15), (1632, 1), (1637, 1), (1656, 1), (1658, 1), (1682, 1), (1688, 1), (1694, 1), (1718, 1), (1725, 2), (1734, 1), (1747, 1), (1756, 1), (1758, 3), (1763, 3), (1773, 1), (1782, 1), (1792, 1), (1892, 5), (1895, 1), (1918, 2), (1922, 3), (2011, 1), (2096, 2), (2117, 1), (2136, 1), (2147, 1), (2160, 1), (2165, 1), (2173, 1), (2194, 1), (2207, 1), (2209, 1), (2215, 1), (2223, 1), (2274, 1), (2276, 1), (2346, 1), (2372, 1), (2382, 1), (2400, 1), (2401, 2), (2402, 1), (2422, 6), (2423, 9), (2425, 1), (2433, 2), (2438, 1), (2452, 1), (2453, 2), (2466, 7), (2482, 1), (2507, 1), (2512, 1), (2513, 2), (2545, 1), (2554, 1), (2562, 1), (2568, 1), (2579, 1), (2582, 1), (2692, 1), (2729, 1), (2730, 1), (2733, 1), (2752, 1), (2773, 1), (2787, 3), (2811, 1), (2820, 1), (2827, 1), (2831, 1), (2845, 1), (2850, 3), (2880, 1), (2910, 1), (2923, 2), (2958, 1), (2960, 1), (2964, 1), (2969, 2), (2986, 1), (2989, 1), (3008, 1), (3022, 1), (3028, 1), (3034, 1), (3111, 2), (3114, 1), (3142, 2), (3151, 3), (3190, 1), (3270, 1), (3346, 1), (3514, 1), (3525, 1), (3554, 1), (3569, 6), (3570, 1), (3587, 8), (3606, 1), (3687, 1), (3713, 1), (3727, 1), (3739, 2), (3740, 1), (3759, 1), (3768, 1), (3775, 1), (3878, 1), (3907, 1), (3947, 1), (3987, 1), (4087, 1), (4095, 2), (4121, 1), (4183, 1), (4383, 1), (4421, 1), (4518, 1), (4545, 1), (4551, 1), (4579, 1), (4613, 1), (4620, 1), (4689, 3), (4830, 1), (4936, 1), (4954, 1), (5061, 3), (5107, 1), (5145, 1), (5188, 1), (5255, 3), (5336, 1), (5433, 1), (5480, 1), (5503, 21), (5542, 1), (5592, 1), (5707, 1), (5763, 1), (5854, 1), (5906, 1), (6052, 1), (6154, 1), (6250, 1), (6254, 1), (6362, 1), (6386, 1), (6462, 1), (6576, 1), (6728, 1), (6761, 1), (6832, 2), (6865, 1), (6879, 21), (7125, 1), (7257, 1), (7349, 1), (7350, 1), (7351, 3), (7352, 1), (7353, 1), (7354, 2), (7355, 1), (7356, 1), (7357, 1), (7358, 1), (7359, 1), (7360, 1), (7361, 1), (7362, 1), (7363, 1), (7364, 3), (7365, 1), (7366, 1), (7367, 1), (7368, 1), (7369, 3), (7370, 1), (7371, 1), (7372, 1), (7373, 1), (7374, 1), (7375, 1), (7376, 1), (7377, 3), (7378, 1)], [(0, 2), (1, 1), (3, 2), (12, 1), (21, 1), (32, 1), (33, 1), (36, 1), (41, 1), (46, 1), (47, 1), (54, 4), (57, 2), (61, 1), (71, 1), (76, 2), (82, 2), (83, 2), (84, 1), (87, 1), (93, 1), (95, 5), (99, 1), (101, 2), (103, 1), (122, 2), (125, 1), (135, 3), (136, 5), (139, 1), (141, 2), (144, 1), (155, 2), (158, 1), (165, 7), (166, 1), (169, 2), (174, 1), (178, 1), (181, 3), (193, 2), (198, 1), (203, 2), (206, 1), (209, 1), (210, 1), (217, 1), (224, 1), (239, 1), (252, 1), (256, 1), (260, 1), (271, 5), (277, 2), (283, 1), (289, 1), (298, 1), (303, 2), (304, 1), (322, 3), (338, 1), (340, 1), (346, 3), (349, 1), (352, 1), (361, 1), (363, 4), (364, 1), (367, 1), (384, 1), (387, 2), (395, 1), (409, 2), (414, 1), (415, 4), (416, 5), (417, 1), (420, 3), (439, 1), (440, 5), (443, 2), (446, 1), (455, 16), (456, 13), (458, 2), (465, 11), (476, 1), (485, 3), (488, 1), (494, 1), (499, 5), (502, 2), (515, 1), (523, 3), (527, 1), (535, 15), (539, 2), (541, 6), (546, 1), (556, 1), (559, 3), (585, 1), (586, 1), (594, 1), (596, 1), (597, 1), (601, 1), (614, 1), (620, 1), (623, 1), (628, 1), (629, 5), (633, 1), (634, 2), (640, 2), (642, 1), (646, 1), (654, 4), (662, 1), (664, 3), (669, 2), (672, 1), (674, 1), (680, 5), (681, 4), (685, 2), (690, 1), (695, 1), (701, 1), (744, 1), (750, 1), (784, 2), (797, 3), (801, 1), (802, 1), (814, 4), (821, 1), (834, 1), (848, 2), (857, 1), (877, 1), (879, 2), (923, 3), (930, 1), (931, 1), (934, 1), (945, 2), (949, 1), (955, 4), (969, 1), (988, 1), (1018, 1), (1030, 1), (1062, 1), (1089, 2), (1102, 1), (1133, 1), (1142, 1), (1158, 1), (1169, 1), (1223, 1), (1277, 1), (1284, 1), (1304, 2), (1306, 1), (1324, 1), (1365, 1), (1367, 1), (1371, 2), (1374, 1), (1377, 1), (1386, 1), (1402, 1), (1415, 1), (1417, 1), (1422, 1), (1455, 2), (1468, 1), (1482, 1), (1494, 5), (1506, 1), (1517, 1), (1521, 1), (1571, 1), (1589, 2), (1597, 1), (1606, 2), (1613, 1), (1626, 2), (1644, 1), (1647, 1), (1648, 1), (1658, 1), (1683, 1), (1694, 2), (1717, 1), (1725, 2), (1737, 1), (1758, 1), (1759, 2), (1771, 1), (1835, 1), (1842, 1), (1874, 1), (1895, 2), (1937, 1), (2040, 2), (2086, 1), (2096, 4), (2099, 1), (2130, 1), (2163, 1), (2167, 1), (2207, 1), (2276, 1), (2289, 6), (2368, 2), (2372, 1), (2416, 1), (2467, 1), (2474, 2), (2586, 1), (2590, 1), (2620, 2), (2625, 1), (2713, 4), (2722, 9), (2768, 1), (2787, 6), (2824, 4), (2850, 1), (2880, 1), (2906, 4), (2950, 3), (3041, 2), (3055, 8), (3068, 1), (3069, 5), (3087, 1), (3133, 1), (3217, 1), (3235, 1), (3419, 1), (3518, 3), (3524, 1), (3546, 1), (3570, 1), (3579, 2), (3584, 1), (3587, 2), (3592, 1), (3599, 1), (3603, 1), (3605, 1), (3606, 1), (3622, 15), (3623, 1), (3637, 1), (3686, 1), (3704, 4), (3712, 2), (3717, 1), (3729, 2), (3764, 1), (3796, 1), (3799, 1), (3825, 1), (3849, 2), (3853, 2), (3906, 1), (3941, 2), (3950, 1), (4044, 1), (4083, 16), (4178, 2), (4226, 1), (4339, 1), (4653, 1), (4885, 2), (5106, 1), (5201, 1), (5208, 2), (5639, 1), (5702, 1), (5751, 1), (6225, 1), (6530, 1), (6819, 2), (7237, 1), (7379, 1), (7380, 1), (7381, 2), (7382, 1), (7383, 1), (7384, 1), (7385, 1), (7386, 1), (7387, 4), (7388, 2), (7389, 2), (7390, 1), (7391, 1), (7392, 5), (7393, 3), (7394, 1), (7395, 1), (7396, 1), (7397, 2), (7398, 1), (7399, 1), (7400, 1), (7401, 1), (7402, 1), (7403, 2), (7404, 4), (7405, 1), (7406, 1), (7407, 1), (7408, 1), (7409, 2), (7410, 1), (7411, 1)], [(14, 1), (23, 2), (25, 1), (41, 4), (54, 3), (57, 1), (61, 2), (62, 1), (66, 1), (69, 2), (71, 2), (76, 1), (86, 2), (87, 2), (91, 1), (92, 2), (93, 2), (96, 1), (97, 2), (101, 1), (102, 4), (109, 1), (110, 1), (122, 3), (125, 1), (141, 2), (155, 3), (166, 1), (169, 2), (170, 1), (181, 4), (187, 1), (193, 1), (202, 1), (204, 1), (216, 1), (217, 1), (223, 1), (224, 3), (226, 1), (227, 2), (229, 4), (230, 1), (236, 2), (238, 3), (242, 1), (243, 1), (249, 4), (252, 2), (257, 1), (260, 1), (261, 1), (269, 1), (271, 3), (273, 2), (277, 9), (279, 2), (283, 1), (289, 1), (294, 1), (295, 1), (306, 2), (310, 1), (323, 1), (324, 1), (327, 1), (333, 1), (338, 2), (351, 3), (358, 2), (359, 2), (360, 1), (361, 6), (362, 1), (363, 8), (364, 2), (369, 2), (374, 1), (382, 1), (384, 4), (385, 1), (391, 1), (399, 2), (409, 2), (414, 3), (415, 27), (416, 2), (417, 1), (420, 1), (421, 1), (422, 3), (425, 1), (439, 2), (440, 3), (450, 1), (455, 6), (458, 1), (470, 1), (478, 2), (482, 2), (493, 1), (501, 1), (502, 2), (503, 2), (505, 2), (523, 1), (527, 2), (535, 24), (539, 3), (545, 1), (546, 2), (552, 1), (553, 1), (558, 3), (562, 2), (574, 2), (575, 3), (585, 1), (586, 1), (590, 2), (594, 1), (601, 1), (610, 1), (614, 1), (626, 1), (628, 3), (629, 5), (630, 4), (632, 1), (633, 5), (646, 3), (654, 2), (662, 7), (664, 1), (669, 1), (670, 1), (673, 1), (678, 2), (680, 3), (681, 3), (682, 1), (685, 3), (686, 1), (689, 1), (702, 2), (708, 6), (722, 1), (725, 1), (739, 1), (744, 1), (745, 1), (746, 1), (751, 1), (753, 1), (756, 1), (758, 1), (759, 1), (760, 3), (765, 2), (781, 2), (782, 1), (783, 2), (787, 1), (788, 1), (789, 1), (797, 1), (798, 1), (803, 2), (825, 2), (829, 1), (833, 1), (836, 1), (842, 1), (847, 1), (855, 1), (856, 1), (857, 5), (876, 1), (899, 1), (908, 2), (943, 1), (950, 1), (955, 1), (956, 1), (966, 2), (988, 1), (992, 2), (999, 4), (1042, 2), (1064, 2), (1078, 1), (1082, 1), (1085, 1), (1086, 1), (1092, 1), (1100, 1), (1102, 3), (1123, 1), (1125, 1), (1131, 1), (1142, 3), (1172, 1), (1201, 1), (1202, 1), (1225, 1), (1238, 1), (1277, 1), (1287, 1), (1300, 4), (1301, 1), (1304, 1), (1306, 1), (1320, 2), (1323, 3), (1338, 1), (1343, 2), (1344, 2), (1369, 1), (1374, 1), (1376, 1), (1377, 1), (1379, 2), (1386, 1), (1394, 2), (1397, 1), (1417, 1), (1432, 1), (1440, 1), (1448, 2), (1450, 10), (1455, 1), (1456, 2), (1468, 3), (1494, 1), (1505, 1), (1506, 3), (1521, 1), (1524, 1), (1527, 1), (1551, 1), (1556, 1), (1562, 2), (1566, 1), (1577, 4), (1578, 7), (1580, 1), (1582, 1), (1602, 1), (1611, 1), (1614, 3), (1616, 1), (1632, 1), (1644, 1), (1647, 1), (1650, 1), (1658, 1), (1660, 1), (1683, 1), (1693, 1), (1703, 7), (1717, 1), (1718, 3), (1722, 1), (1725, 1), (1726, 1), (1727, 2), (1751, 5), (1757, 1), (1758, 1), (1760, 1), (1763, 4), (1766, 1), (1783, 2), (1787, 1), (1791, 8), (1792, 2), (1827, 1), (1847, 1), (1889, 1), (1894, 1), (1924, 1), (1938, 1), (1985, 2), (1992, 1), (2010, 1), (2019, 1), (2065, 1), (2087, 4), (2088, 1), (2091, 4), (2096, 1), (2111, 1), (2117, 2), (2118, 1), (2125, 7), (2126, 2), (2133, 1), (2140, 2), (2143, 1), (2144, 1), (2148, 2), (2149, 1), (2151, 1), (2152, 1), (2161, 2), (2172, 1), (2178, 1), (2182, 1), (2204, 3), (2260, 1), (2275, 1), (2282, 3), (2300, 1), (2327, 2), (2346, 1), (2352, 2), (2372, 4), (2406, 1), (2450, 1), (2497, 1), (2502, 1), (2513, 2), (2520, 1), (2527, 1), (2580, 2), (2606, 1), (2612, 1), (2621, 2), (2680, 1), (2682, 1), (2720, 1), (2726, 1), (2729, 1), (2731, 1), (2754, 1), (2792, 2), (2794, 1), (2814, 1), (2827, 3), (2831, 2), (2841, 2), (2850, 1), (2950, 2), (2973, 2), (2983, 1), (3008, 1), (3030, 3), (3092, 1), (3124, 1), (3170, 1), (3172, 1), (3177, 1), (3206, 1), (3249, 1), (3256, 7), (3272, 2), (3297, 1), (3314, 1), (3322, 1), (3398, 1), (3431, 1), (3464, 1), (3472, 1), (3558, 1), (3577, 1), (3622, 1), (3624, 1), (3648, 1), (3665, 1), (3667, 1), (3700, 1), (3754, 2), (3764, 1), (3768, 1), (3810, 1), (3815, 1), (3875, 2), (3877, 1), (3894, 1), (3928, 1), (3941, 3), (3955, 1), (3971, 1), (4034, 1), (4059, 1), (4072, 1), (4083, 1), (4149, 4), (4175, 1), (4188, 1), (4248, 1), (4250, 1), (4267, 1), (4351, 1), (4381, 2), (4392, 1), (4405, 2), (4414, 1), (4485, 1), (4506, 1), (4522, 1), (4555, 1), (4651, 1), (4730, 1), (4873, 1), (4927, 1), (5068, 3), (5147, 1), (5159, 1), (5163, 1), (5166, 1), (5186, 1), (5213, 1), (5220, 1), (5344, 1), (5386, 1), (5433, 1), (5536, 1), (5545, 1), (5578, 1), (5584, 1), (5601, 1), (5617, 1), (5736, 1), (5802, 1), (5923, 3), (5988, 1), (6114, 1), (6122, 1), (6136, 1), (6201, 1), (6228, 1), (6273, 1), (6412, 1), (6454, 1), (6472, 1), (6540, 1), (6709, 2), (6731, 1), (6760, 1), (6978, 3), (6988, 1), (7026, 1), (7047, 1), (7048, 1), (7102, 1), (7412, 1), (7413, 1), (7414, 1), (7415, 1), (7416, 1), (7417, 1), (7418, 1), (7419, 1), (7420, 1), (7421, 1), (7422, 1), (7423, 2), (7424, 1), (7425, 1), (7426, 1), (7427, 1), (7428, 1), (7429, 1), (7430, 1), (7431, 1), (7432, 1), (7433, 1), (7434, 1), (7435, 1), (7436, 1), (7437, 1), (7438, 1), (7439, 1), (7440, 1), (7441, 1), (7442, 1), (7443, 1), (7444, 1), (7445, 1), (7446, 1), (7447, 1), (7448, 1), (7449, 1), (7450, 1), (7451, 1), (7452, 1), (7453, 1), (7454, 1), (7455, 1), (7456, 1), (7457, 1), (7458, 1), (7459, 1), (7460, 1), (7461, 1), (7462, 1), (7463, 1), (7464, 2), (7465, 1), (7466, 1), (7467, 1), (7468, 1), (7469, 1), (7470, 1), (7471, 1), (7472, 1), (7473, 1), (7474, 1), (7475, 1), (7476, 1), (7477, 1), (7478, 1), (7479, 1), (7480, 1), (7481, 1), (7482, 1), (7483, 29), (7484, 1), (7485, 1), (7486, 1), (7487, 1), (7488, 1), (7489, 2), (7490, 1), (7491, 1), (7492, 1), (7493, 1), (7494, 1), (7495, 2), (7496, 1), (7497, 1), (7498, 2), (7499, 1), (7500, 1), (7501, 1), (7502, 1), (7503, 1), (7504, 1), (7505, 1), (7506, 1), (7507, 1), (7508, 2), (7509, 1), (7510, 1), (7511, 1), (7512, 2), (7513, 1), (7514, 1), (7515, 1), (7516, 1), (7517, 1), (7518, 1), (7519, 1), (7520, 1), (7521, 1), (7522, 1), (7523, 1)], [(9, 1), (14, 1), (20, 1), (36, 1), (41, 1), (53, 1), (54, 2), (61, 2), (71, 3), (87, 1), (92, 1), (122, 2), (139, 1), (155, 1), (162, 1), (169, 1), (184, 7), (190, 1), (193, 3), (216, 1), (224, 1), (226, 1), (239, 2), (243, 2), (252, 4), (259, 2), (271, 1), (273, 2), (288, 3), (294, 1), (300, 1), (303, 1), (310, 1), (313, 2), (322, 1), (331, 1), (346, 1), (349, 1), (350, 1), (351, 1), (353, 2), (359, 1), (361, 2), (363, 4), (369, 1), (384, 1), (387, 2), (393, 2), (396, 3), (405, 2), (415, 3), (420, 1), (422, 2), (438, 23), (439, 4), (440, 2), (445, 2), (455, 2), (458, 2), (476, 2), (481, 1), (484, 1), (493, 1), (504, 1), (515, 3), (518, 1), (519, 2), (535, 11), (539, 3), (546, 1), (551, 1), (574, 5), (575, 2), (585, 1), (593, 1), (627, 1), (629, 1), (639, 1), (640, 1), (648, 2), (654, 2), (664, 1), (678, 1), (680, 1), (681, 1), (685, 3), (686, 2), (688, 2), (706, 1), (723, 3), (732, 4), (750, 2), (752, 1), (768, 1), (770, 1), (801, 3), (817, 1), (836, 4), (842, 3), (849, 3), (856, 1), (888, 1), (900, 1), (905, 1), (925, 1), (931, 1), (954, 2), (959, 2), (962, 1), (999, 1), (1030, 1), (1034, 1), (1061, 1), (1073, 1), (1101, 1), (1103, 7), (1109, 1), (1112, 1), (1113, 1), (1131, 1), (1134, 1), (1137, 4), (1138, 6), (1142, 1), (1168, 1), (1171, 1), (1172, 1), (1184, 2), (1232, 1), (1270, 17), (1288, 1), (1295, 2), (1304, 1), (1318, 2), (1348, 3), (1356, 1), (1415, 4), (1450, 1), (1463, 2), (1468, 1), (1495, 1), (1502, 1), (1503, 1), (1521, 1), (1524, 1), (1533, 1), (1539, 1), (1546, 1), (1573, 2), (1586, 1), (1587, 1), (1614, 1), (1623, 1), (1662, 1), (1702, 1), (1706, 1), (1710, 1), (1718, 5), (1747, 5), (1763, 2), (1765, 1), (1983, 1), (2008, 1), (2021, 1), (2091, 1), (2128, 1), (2159, 1), (2207, 1), (2209, 1), (2273, 2), (2289, 1), (2300, 1), (2326, 1), (2327, 1), (2337, 1), (2365, 1), (2372, 2), (2373, 1), (2386, 1), (2387, 1), (2407, 1), (2416, 1), (2423, 1), (2426, 2), (2438, 1), (2466, 1), (2530, 1), (2555, 1), (2610, 1), (2621, 1), (2667, 2), (2671, 1), (2682, 4), (2754, 1), (2755, 1), (2767, 1), (2796, 1), (2798, 1), (2799, 1), (2814, 1), (2815, 1), (2822, 1), (2845, 1), (2847, 1), (2892, 1), (2964, 1), (3032, 1), (3072, 1), (3092, 1), (3110, 1), (3120, 1), (3173, 1), (3216, 1), (3256, 1), (3337, 2), (3361, 1), (3481, 1), (3512, 1), (3622, 1), (3687, 1), (3707, 1), (3782, 1), (3825, 1), (3912, 1), (4051, 1), (4072, 1), (4217, 1), (4232, 1), (4255, 1), (4259, 1), (4287, 1), (4305, 1), (4424, 1), (4517, 1), (4541, 1), (4750, 1), (4796, 2), (4849, 1), (4862, 1), (5013, 1), (5252, 1), (5328, 1), (5623, 1), (5753, 1), (5890, 1), (6026, 3), (6132, 3), (6271, 1), (6294, 1), (6466, 1), (6471, 1), (6793, 1), (6974, 1), (6976, 1), (6989, 1), (6990, 2), (7135, 1), (7206, 4), (7524, 1), (7525, 1), (7526, 1), (7527, 2), (7528, 1), (7529, 2), (7530, 1), (7531, 1), (7532, 1), (7533, 1), (7534, 1), (7535, 1), (7536, 1), (7537, 1), (7538, 1), (7539, 1), (7540, 1), (7541, 1), (7542, 1), (7543, 1), (7544, 1), (7545, 2), (7546, 1), (7547, 1), (7548, 1), (7549, 1), (7550, 1), (7551, 2), (7552, 1)], [(23, 1), (24, 1), (48, 1), (91, 1), (92, 1), (93, 1), (110, 1), (164, 1), (166, 1), (181, 1), (193, 1), (210, 1), (241, 1), (242, 1), (252, 1), (260, 1), (269, 2), (277, 1), (306, 1), (307, 1), (309, 1), (311, 1), (322, 2), (331, 1), (347, 1), (350, 1), (352, 2), (355, 1), (374, 1), (399, 2), (405, 2), (415, 6), (440, 6), (455, 5), (467, 1), (500, 1), (505, 1), (535, 8), (539, 1), (585, 1), (586, 1), (594, 1), (601, 1), (619, 1), (620, 1), (631, 1), (636, 1), (644, 2), (646, 4), (647, 1), (666, 1), (670, 1), (681, 1), (685, 1), (720, 1), (723, 1), (727, 9), (750, 1), (764, 1), (767, 1), (780, 1), (783, 1), (801, 2), (834, 1), (869, 1), (890, 1), (927, 1), (975, 2), (983, 1), (992, 1), (995, 2), (1000, 1), (1020, 1), (1024, 1), (1025, 1), (1041, 1), (1079, 2), (1101, 1), (1138, 1), (1153, 1), (1156, 1), (1255, 1), (1267, 4), (1270, 1), (1277, 2), (1282, 1), (1290, 1), (1308, 1), (1340, 2), (1361, 1), (1367, 1), (1369, 3), (1380, 1), (1466, 1), (1484, 4), (1486, 2), (1495, 3), (1513, 1), (1524, 2), (1533, 1), (1584, 1), (1594, 1), (1598, 1), (1606, 1), (1682, 1), (1683, 1), (1684, 1), (1717, 1), (1737, 1), (1751, 2), (1763, 1), (1787, 1), (1791, 1), (1792, 1), (1843, 1), (1862, 1), (1863, 1), (1887, 1), (1889, 1), (1934, 1), (1952, 3), (2014, 1), (2044, 1), (2058, 1), (2084, 1), (2087, 1), (2090, 1), (2106, 1), (2125, 1), (2218, 4), (2257, 1), (2271, 1), (2320, 2), (2350, 1), (2374, 2), (2383, 1), (2462, 1), (2540, 1), (2554, 1), (2573, 2), (2586, 1), (2630, 1), (2685, 1), (2692, 1), (2744, 1), (2745, 1), (2749, 1), (2777, 1), (2815, 3), (2879, 1), (3014, 1), (3028, 1), (3228, 7), (3229, 1), (3294, 2), (3338, 1), (3347, 2), (3454, 1), (3479, 1), (3569, 1), (3777, 1), (3830, 1), (3862, 1), (3894, 1), (3943, 1), (4031, 2), (4212, 1), (4228, 2), (4291, 1), (4356, 1), (4551, 1), (4675, 1), (4722, 4), (4741, 1), (5076, 1), (5235, 1), (5278, 1), (5449, 2), (5818, 1), (6007, 1), (6119, 1), (6298, 1), (6418, 1), (6701, 1), (7055, 1), (7119, 2), (7155, 3), (7168, 1), (7553, 1), (7554, 1), (7555, 4), (7556, 5), (7557, 1), (7558, 1), (7559, 1), (7560, 1), (7561, 1), (7562, 1), (7563, 1), (7564, 2), (7565, 1), (7566, 2), (7567, 1), (7568, 1), (7569, 1), (7570, 1), (7571, 5), (7572, 1), (7573, 1), (7574, 1), (7575, 2), (7576, 1), (7577, 1), (7578, 1), (7579, 1), (7580, 1), (7581, 1), (7582, 1), (7583, 2), (7584, 1), (7585, 1), (7586, 1), (7587, 2), (7588, 1), (7589, 1)], [(11, 2), (25, 1), (36, 1), (39, 5), (53, 1), (54, 3), (68, 1), (92, 1), (120, 3), (122, 1), (131, 1), (132, 1), (136, 1), (146, 1), (151, 3), (155, 1), (171, 2), (184, 8), (191, 1), (193, 1), (200, 1), (207, 1), (210, 1), (218, 1), (225, 1), (231, 2), (236, 1), (238, 1), (252, 1), (269, 3), (277, 1), (283, 1), (298, 1), (299, 2), (303, 6), (310, 2), (322, 5), (326, 1), (331, 4), (334, 20), (347, 1), (352, 1), (353, 1), (359, 3), (363, 1), (369, 1), (371, 1), (384, 1), (385, 1), (391, 2), (393, 1), (409, 2), (415, 5), (416, 1), (420, 2), (429, 3), (438, 1), (440, 3), (450, 1), (455, 1), (469, 3), (476, 6), (485, 1), (488, 1), (491, 1), (492, 1), (494, 1), (498, 2), (502, 1), (510, 2), (519, 1), (527, 2), (535, 3), (539, 1), (545, 2), (556, 1), (576, 1), (596, 1), (613, 1), (633, 2), (634, 1), (639, 3), (654, 1), (663, 1), (666, 2), (669, 2), (672, 2), (673, 2), (680, 4), (681, 3), (686, 1), (704, 1), (730, 1), (750, 2), (751, 1), (783, 2), (788, 2), (801, 5), (803, 1), (808, 1), (853, 1), (856, 2), (860, 1), (870, 1), (872, 1), (876, 2), (879, 1), (885, 1), (891, 1), (894, 1), (897, 2), (905, 1), (910, 2), (920, 1), (921, 4), (936, 2), (952, 6), (965, 1), (975, 2), (1003, 1), (1013, 1), (1026, 1), (1030, 2), (1041, 1), (1063, 3), (1068, 1), (1073, 4), (1074, 3), (1079, 1), (1082, 1), (1084, 1), (1093, 2), (1097, 2), (1100, 1), (1105, 3), (1126, 7), (1129, 3), (1133, 7), (1137, 2), (1138, 1), (1142, 1), (1149, 1), (1170, 3), (1172, 1), (1177, 1), (1184, 1), (1185, 1), (1186, 1), (1189, 2), (1190, 2), (1232, 3), (1247, 4), (1265, 1), (1266, 1), (1276, 2), (1278, 1), (1304, 1), (1306, 1), (1316, 1), (1326, 4), (1351, 1), (1356, 1), (1361, 1), (1403, 1), (1415, 4), (1472, 1), (1492, 1), (1495, 4), (1496, 1), (1500, 1), (1503, 1), (1520, 4), (1539, 1), (1541, 1), (1566, 3), (1571, 1), (1587, 1), (1596, 1), (1608, 1), (1620, 1), (1623, 2), (1648, 2), (1650, 2), (1693, 1), (1702, 2), (1710, 1), (1713, 2), (1718, 1), (1725, 1), (1729, 1), (1747, 2), (1773, 2), (1792, 1), (1864, 6), (1889, 1), (1892, 10), (1894, 1), (1895, 1), (1899, 1), (1918, 2), (1924, 1), (1959, 1), (1970, 4), (2005, 1), (2009, 1), (2010, 1), (2019, 1), (2020, 1), (2037, 1), (2039, 1), (2058, 1), (2077, 1), (2086, 1), (2096, 1), (2097, 1), (2147, 3), (2155, 1), (2160, 1), (2166, 1), (2186, 2), (2190, 2), (2243, 1), (2249, 1), (2250, 1), (2253, 1), (2255, 1), (2271, 1), (2285, 1), (2300, 3), (2321, 1), (2325, 1), (2365, 1), (2398, 1), (2404, 3), (2412, 1), (2423, 7), (2482, 1), (2517, 1), (2533, 1), (2552, 1), (2554, 2), (2560, 4), (2562, 1), (2573, 1), (2620, 1), (2621, 1), (2625, 1), (2630, 1), (2686, 3), (2689, 2), (2692, 1), (2693, 1), (2729, 2), (2756, 3), (2774, 1), (2777, 2), (2798, 2), (2812, 2), (2832, 1), (2841, 1), (2842, 3), (2848, 1), (2900, 1), (2927, 1), (3040, 5), (3067, 1), (3072, 5), (3094, 2), (3114, 1), (3133, 1), (3171, 1), (3207, 1), (3267, 2), (3294, 1), (3300, 1), (3302, 3), (3314, 1), (3433, 1), (3480, 1), (3492, 1), (3496, 1), (3497, 1), (3514, 1), (3522, 2), (3530, 2), (3541, 1), (3576, 2), (3683, 1), (3736, 3), (3779, 1), (3825, 1), (3942, 1), (4039, 1), (4064, 1), (4088, 1), (4095, 4), (4324, 1), (4551, 1), (4597, 1), (4689, 1), (4750, 2), (4933, 4), (4970, 1), (4975, 1), (5002, 2), (5061, 1), (5107, 1), (5113, 1), (5119, 1), (5120, 1), (5145, 1), (5170, 1), (5211, 1), (5261, 1), (5265, 1), (5353, 1), (5362, 1), (5373, 1), (5498, 1), (5682, 1), (5902, 1), (6045, 1), (6046, 1), (6267, 1), (6456, 1), (6712, 1), (6798, 1), (6829, 1), (6960, 1), (7154, 1), (7155, 1), (7364, 1), (7590, 3), (7591, 1), (7592, 1), (7593, 1), (7594, 1), (7595, 1), (7596, 1), (7597, 1), (7598, 1), (7599, 1), (7600, 6), (7601, 1), (7602, 1), (7603, 1), (7604, 2), (7605, 1), (7606, 1), (7607, 1), (7608, 1), (7609, 2), (7610, 18), (7611, 1), (7612, 1), (7613, 1), (7614, 1), (7615, 2), (7616, 1), (7617, 1), (7618, 3), (7619, 1), (7620, 2), (7621, 1), (7622, 1), (7623, 1), (7624, 1), (7625, 1), (7626, 1), (7627, 1), (7628, 1), (7629, 1), (7630, 1), (7631, 2), (7632, 1)], [(0, 1), (9, 2), (23, 1), (24, 1), (35, 1), (36, 1), (41, 2), (47, 1), (48, 2), (51, 1), (52, 1), (54, 1), (61, 1), (64, 1), (77, 1), (80, 1), (82, 1), (85, 2), (87, 1), (92, 1), (97, 1), (120, 1), (155, 4), (164, 2), (169, 4), (172, 1), (181, 2), (190, 1), (200, 1), (206, 1), (207, 1), (216, 1), (217, 1), (219, 1), (224, 4), (226, 1), (229, 1), (236, 1), (248, 3), (250, 1), (256, 1), (257, 1), (271, 3), (277, 2), (279, 5), (288, 1), (295, 1), (299, 2), (302, 1), (303, 3), (322, 2), (327, 2), (338, 1), (340, 1), (346, 2), (349, 1), (351, 1), (352, 1), (358, 1), (359, 1), (363, 12), (364, 2), (375, 1), (376, 2), (384, 3), (385, 2), (415, 42), (417, 2), (420, 1), (421, 1), (422, 11), (430, 2), (437, 1), (438, 1), (439, 3), (440, 1), (455, 3), (458, 1), (465, 1), (467, 1), (485, 1), (492, 3), (500, 1), (502, 1), (503, 3), (505, 1), (523, 1), (535, 24), (539, 5), (545, 2), (546, 2), (547, 1), (553, 1), (556, 6), (558, 1), (560, 1), (568, 3), (574, 3), (575, 3), (590, 3), (594, 1), (601, 1), (614, 1), (620, 2), (628, 4), (629, 1), (630, 2), (631, 2), (633, 8), (635, 2), (640, 2), (646, 9), (652, 1), (654, 1), (662, 6), (664, 3), (665, 1), (669, 1), (678, 1), (680, 6), (681, 5), (685, 5), (688, 2), (696, 1), (712, 1), (723, 1), (741, 2), (747, 2), (751, 1), (758, 1), (759, 1), (765, 1), (768, 1), (770, 1), (797, 1), (800, 1), (815, 1), (817, 2), (828, 2), (832, 3), (841, 1), (851, 1), (857, 3), (869, 4), (879, 1), (899, 1), (905, 1), (945, 2), (955, 3), (966, 2), (992, 2), (999, 1), (1019, 2), (1025, 2), (1030, 1), (1037, 1), (1038, 1), (1039, 1), (1041, 4), (1078, 1), (1083, 1), (1084, 1), (1089, 1), (1090, 1), (1100, 4), (1106, 1), (1108, 1), (1123, 1), (1126, 1), (1128, 1), (1136, 1), (1142, 1), (1159, 1), (1163, 1), (1174, 1), (1184, 1), (1200, 1), (1210, 1), (1232, 1), (1237, 1), (1238, 2), (1245, 2), (1248, 1), (1263, 1), (1265, 1), (1266, 1), (1298, 1), (1306, 1), (1309, 1), (1319, 1), (1320, 2), (1322, 2), (1333, 1), (1338, 1), (1340, 1), (1351, 1), (1369, 4), (1377, 3), (1381, 1), (1386, 2), (1389, 2), (1391, 1), (1395, 1), (1409, 1), (1413, 1), (1419, 1), (1427, 2), (1432, 1), (1433, 1), (1435, 1), (1450, 1), (1451, 1), (1456, 1), (1472, 1), (1490, 1), (1494, 1), (1502, 1), (1506, 7), (1517, 2), (1518, 2), (1527, 1), (1531, 1), (1536, 1), (1538, 5), (1551, 1), (1562, 1), (1566, 1), (1577, 1), (1578, 3), (1579, 1), (1600, 1), (1606, 2), (1614, 2), (1641, 1), (1645, 1), (1648, 2), (1677, 1), (1702, 1), (1705, 1), (1721, 1), (1722, 1), (1752, 1), (1791, 7), (1806, 1), (1826, 1), (1839, 1), (1874, 1), (1891, 1), (1894, 1), (1895, 1), (1915, 1), (1922, 1), (1938, 1), (1950, 1), (1951, 1), (1988, 1), (2010, 1), (2014, 1), (2018, 1), (2058, 1), (2064, 1), (2069, 1), (2071, 1), (2085, 1), (2087, 2), (2099, 1), (2104, 1), (2111, 1), (2113, 3), (2125, 4), (2139, 1), (2143, 3), (2148, 2), (2160, 1), (2161, 1), (2166, 1), (2176, 1), (2194, 1), (2205, 1), (2213, 1), (2277, 1), (2282, 1), (2327, 1), (2357, 4), (2372, 2), (2454, 1), (2462, 1), (2502, 1), (2512, 1), (2533, 1), (2538, 1), (2545, 1), (2583, 1), (2584, 1), (2586, 1), (2624, 1), (2646, 2), (2711, 1), (2721, 2), (2722, 2), (2745, 3), (2764, 1), (2783, 1), (2792, 1), (2819, 1), (2820, 1), (2829, 1), (2950, 2), (2987, 1), (2992, 1), (3030, 1), (3034, 2), (3167, 1), (3172, 1), (3176, 1), (3256, 1), (3265, 1), (3295, 1), (3359, 1), (3385, 1), (3396, 1), (3428, 1), (3448, 1), (3450, 1), (3492, 1), (3605, 1), (3624, 1), (3681, 1), (3698, 1), (3700, 1), (3712, 1), (3716, 1), (3722, 1), (3723, 1), (3740, 1), (3752, 3), (3755, 3), (3794, 1), (3830, 1), (3846, 1), (3896, 2), (3912, 1), (3941, 1), (3971, 1), (3987, 1), (4032, 1), (4058, 1), (4130, 1), (4146, 1), (4149, 1), (4175, 1), (4183, 1), (4216, 1), (4303, 1), (4378, 1), (4405, 1), (4470, 1), (4521, 1), (4522, 1), (4583, 2), (4626, 1), (4671, 1), (4730, 1), (4762, 1), (4891, 1), (4966, 1), (5005, 1), (5098, 2), (5210, 1), (5230, 1), (5302, 4), (5399, 1), (5518, 1), (5568, 3), (5583, 1), (5589, 7), (5590, 1), (5596, 1), (5611, 1), (5697, 1), (5709, 1), (5728, 1), (5760, 1), (5908, 4), (6023, 1), (6146, 1), (6172, 1), (6209, 1), (6217, 1), (6337, 1), (6462, 1), (6736, 1), (6829, 1), (6881, 1), (6948, 1), (6977, 1), (7072, 3), (7088, 1), (7124, 1), (7155, 9), (7253, 2), (7256, 1), (7336, 1), (7455, 1), (7459, 2), (7537, 1), (7557, 1), (7559, 1), (7588, 1), (7619, 1), (7627, 1), (7633, 1), (7634, 1), (7635, 1), (7636, 1), (7637, 1), (7638, 1), (7639, 1), (7640, 1), (7641, 1), (7642, 1), (7643, 1), (7644, 2), (7645, 3), (7646, 20), (7647, 1), (7648, 9), (7649, 1), (7650, 1), (7651, 1), (7652, 1), (7653, 1), (7654, 1), (7655, 1), (7656, 1), (7657, 1), (7658, 1), (7659, 1), (7660, 1), (7661, 1), (7662, 1), (7663, 1), (7664, 1), (7665, 1), (7666, 1), (7667, 1), (7668, 1), (7669, 2), (7670, 1), (7671, 2), (7672, 1), (7673, 1), (7674, 1), (7675, 1), (7676, 1), (7677, 1), (7678, 1), (7679, 20), (7680, 1), (7681, 1), (7682, 2), (7683, 1), (7684, 1), (7685, 2), (7686, 1), (7687, 1), (7688, 1), (7689, 1), (7690, 1), (7691, 1), (7692, 1), (7693, 1), (7694, 1), (7695, 1), (7696, 1), (7697, 1), (7698, 1), (7699, 1), (7700, 1), (7701, 1), (7702, 1), (7703, 1), (7704, 1), (7705, 1), (7706, 1), (7707, 2)], [(1, 1), (11, 1), (14, 1), (17, 1), (20, 1), (35, 1), (48, 1), (54, 4), (57, 1), (61, 1), (68, 1), (84, 1), (91, 1), (92, 1), (96, 1), (103, 2), (110, 1), (122, 5), (155, 1), (164, 2), (173, 1), (181, 3), (193, 1), (206, 1), (210, 1), (216, 1), (224, 2), (226, 1), (235, 1), (240, 2), (241, 2), (252, 1), (256, 1), (258, 6), (260, 2), (265, 1), (277, 1), (283, 1), (288, 8), (289, 2), (294, 1), (298, 1), (310, 1), (311, 1), (313, 3), (314, 1), (322, 2), (325, 1), (329, 2), (331, 1), (334, 2), (347, 2), (350, 1), (351, 1), (352, 1), (354, 1), (355, 1), (359, 2), (360, 2), (363, 2), (384, 1), (397, 1), (400, 1), (414, 1), (415, 37), (416, 5), (421, 3), (422, 1), (438, 3), (439, 1), (440, 4), (442, 3), (450, 1), (455, 3), (456, 1), (458, 1), (462, 1), (465, 2), (467, 3), (469, 2), (476, 9), (485, 1), (491, 1), (492, 3), (498, 1), (500, 1), (504, 1), (510, 1), (518, 2), (524, 1), (527, 4), (535, 16), (538, 2), (539, 9), (547, 2), (556, 3), (560, 1), (568, 1), (576, 3), (594, 2), (608, 1), (614, 2), (619, 1), (630, 2), (631, 1), (633, 1), (636, 2), (644, 2), (646, 1), (654, 2), (664, 2), (666, 4), (667, 1), (670, 1), (674, 2), (678, 1), (681, 5), (685, 5), (686, 1), (695, 1), (706, 1), (722, 1), (723, 1), (729, 1), (746, 1), (750, 2), (759, 1), (764, 1), (765, 1), (768, 1), (772, 1), (782, 2), (783, 1), (787, 1), (798, 1), (799, 1), (801, 2), (803, 2), (805, 2), (827, 1), (848, 1), (851, 2), (869, 1), (876, 2), (882, 1), (886, 1), (891, 1), (894, 1), (900, 1), (905, 1), (912, 1), (914, 4), (920, 2), (927, 6), (936, 2), (948, 2), (949, 1), (975, 6), (990, 3), (1017, 1), (1025, 2), (1033, 2), (1034, 2), (1039, 1), (1042, 1), (1043, 1), (1047, 1), (1068, 1), (1069, 1), (1079, 1), (1081, 1), (1084, 4), (1101, 2), (1102, 1), (1105, 3), (1126, 2), (1127, 1), (1143, 8), (1161, 3), (1177, 1), (1194, 1), (1198, 1), (1207, 1), (1210, 1), (1222, 1), (1223, 1), (1225, 1), (1229, 6), (1232, 1), (1233, 3), (1236, 1), (1237, 2), (1238, 1), (1247, 1), (1253, 1), (1263, 1), (1270, 1), (1273, 1), (1276, 10), (1280, 2), (1282, 1), (1286, 2), (1290, 4), (1304, 1), (1306, 3), (1315, 1), (1328, 1), (1337, 1), (1351, 1), (1361, 2), (1367, 4), (1397, 1), (1416, 1), (1423, 2), (1446, 1), (1448, 1), (1482, 1), (1486, 4), (1494, 2), (1495, 2), (1510, 1), (1524, 5), (1538, 1), (1549, 1), (1553, 1), (1571, 2), (1573, 1), (1579, 1), (1584, 2), (1586, 3), (1589, 1), (1627, 1), (1641, 2), (1660, 1), (1677, 1), (1682, 1), (1722, 1), (1725, 1), (1734, 1), (1737, 2), (1748, 10), (1779, 1), (1813, 2), (1839, 4), (1843, 1), (1892, 1), (1941, 1), (1954, 3), (2005, 2), (2009, 1), (2014, 2), (2022, 2), (2058, 3), (2062, 1), (2080, 1), (2082, 2), (2110, 2), (2118, 1), (2122, 1), (2129, 1), (2130, 2), (2139, 1), (2160, 1), (2161, 1), (2163, 1), (2169, 1), (2177, 1), (2186, 2), (2213, 1), (2230, 1), (2233, 1), (2237, 1), (2242, 1), (2247, 1), (2321, 1), (2335, 1), (2396, 1), (2423, 1), (2453, 1), (2459, 1), (2470, 1), (2490, 1), (2492, 1), (2494, 7), (2506, 1), (2511, 1), (2517, 1), (2524, 1), (2534, 1), (2567, 1), (2611, 1), (2681, 2), (2685, 1), (2688, 1), (2721, 1), (2722, 3), (2729, 1), (2730, 1), (2745, 1), (2755, 1), (2761, 1), (2767, 1), (2773, 2), (2777, 1), (2778, 1), (2779, 1), (2785, 2), (2789, 1), (2816, 2), (2836, 1), (2842, 1), (2844, 1), (2845, 1), (2847, 2), (2859, 1), (2869, 1), (2879, 3), (2890, 1), (2898, 1), (3015, 3), (3020, 1), (3021, 1), (3028, 1), (3037, 1), (3041, 1), (3066, 1), (3101, 2), (3123, 1), (3132, 1), (3154, 1), (3159, 10), (3160, 3), (3213, 1), (3215, 1), (3240, 1), (3256, 1), (3263, 1), (3274, 1), (3290, 1), (3294, 1), (3315, 1), (3376, 1), (3382, 1), (3445, 2), (3481, 1), (3498, 1), (3530, 1), (3538, 1), (3610, 2), (3612, 2), (3661, 1), (3672, 2), (3706, 1), (3884, 2), (3944, 1), (4048, 1), (4095, 1), (4097, 1), (4274, 1), (4372, 2), (4390, 1), (4459, 1), (4496, 1), (4504, 1), (4594, 1), (4679, 1), (4798, 1), (4831, 1), (4840, 1), (4852, 1), (4882, 1), (4885, 1), (4897, 1), (4903, 1), (4930, 1), (4948, 1), (4970, 1), (4987, 1), (5057, 1), (5107, 1), (5219, 1), (5498, 1), (5609, 1), (5753, 2), (6023, 1), (6161, 1), (6196, 1), (6229, 1), (6237, 4), (6240, 1), (6324, 1), (6372, 1), (6503, 1), (6614, 1), (6980, 1), (6986, 1), (7206, 1), (7432, 1), (7573, 1), (7708, 1), (7709, 1), (7710, 1), (7711, 1), (7712, 2), (7713, 1), (7714, 1), (7715, 1), (7716, 1), (7717, 2), (7718, 1), (7719, 2), (7720, 1), (7721, 1), (7722, 4), (7723, 6), (7724, 1), (7725, 3), (7726, 1), (7727, 1), (7728, 1), (7729, 1), (7730, 3), (7731, 1), (7732, 1), (7733, 1), (7734, 1), (7735, 1), (7736, 12), (7737, 1), (7738, 1), (7739, 1), (7740, 1), (7741, 1), (7742, 13), (7743, 2), (7744, 1), (7745, 3), (7746, 1), (7747, 1), (7748, 1), (7749, 1), (7750, 1), (7751, 1), (7752, 1), (7753, 1), (7754, 1), (7755, 1), (7756, 5), (7757, 1), (7758, 1), (7759, 1), (7760, 1), (7761, 2), (7762, 1), (7763, 1), (7764, 1), (7765, 1), (7766, 1), (7767, 2), (7768, 1), (7769, 1), (7770, 1), (7771, 1), (7772, 1), (7773, 1), (7774, 1), (7775, 1), (7776, 1)], [(8, 1), (11, 2), (23, 1), (25, 1), (26, 1), (39, 1), (41, 2), (51, 2), (52, 1), (54, 2), (71, 1), (80, 1), (87, 3), (90, 1), (91, 1), (93, 2), (94, 2), (101, 1), (103, 1), (113, 1), (120, 1), (122, 1), (131, 1), (144, 1), (145, 1), (174, 1), (187, 1), (206, 2), (209, 1), (217, 1), (223, 1), (224, 1), (226, 1), (227, 1), (231, 1), (241, 2), (243, 1), (247, 1), (249, 1), (250, 1), (252, 2), (257, 1), (259, 1), (260, 3), (262, 1), (269, 2), (277, 2), (283, 1), (288, 2), (298, 2), (322, 3), (327, 1), (328, 1), (332, 1), (341, 2), (346, 2), (352, 2), (363, 2), (364, 4), (369, 1), (374, 1), (375, 1), (382, 1), (384, 1), (386, 1), (387, 2), (414, 4), (415, 26), (421, 2), (422, 2), (430, 1), (439, 3), (440, 2), (458, 1), (465, 1), (467, 1), (492, 1), (500, 1), (504, 1), (505, 6), (519, 1), (523, 2), (527, 2), (535, 1), (538, 1), (541, 1), (545, 1), (547, 1), (552, 1), (558, 1), (560, 1), (575, 1), (576, 1), (590, 3), (594, 3), (595, 1), (601, 3), (605, 1), (614, 3), (618, 1), (620, 1), (628, 1), (629, 1), (630, 1), (631, 2), (633, 4), (635, 1), (644, 2), (646, 2), (647, 2), (648, 1), (652, 2), (654, 1), (664, 2), (669, 2), (673, 1), (680, 5), (685, 7), (688, 2), (690, 1), (694, 1), (702, 1), (713, 1), (723, 3), (732, 1), (742, 1), (765, 1), (780, 1), (783, 1), (787, 1), (788, 1), (797, 2), (801, 1), (803, 3), (814, 2), (826, 1), (827, 1), (833, 1), (834, 1), (844, 2), (845, 1), (857, 2), (865, 1), (873, 1), (891, 2), (899, 1), (900, 1), (920, 1), (927, 3), (938, 1), (945, 2), (955, 1), (967, 2), (992, 1), (999, 3), (1025, 1), (1032, 4), (1041, 2), (1063, 1), (1081, 1), (1084, 1), (1100, 1), (1102, 6), (1106, 1), (1113, 2), (1125, 2), (1126, 1), (1130, 1), (1131, 1), (1163, 1), (1167, 1), (1184, 1), (1197, 1), (1200, 1), (1216, 1), (1223, 1), (1237, 1), (1238, 1), (1242, 1), (1248, 2), (1276, 1), (1282, 1), (1284, 1), (1287, 1), (1293, 1), (1304, 1), (1306, 1), (1309, 1), (1347, 1), (1369, 4), (1371, 1), (1397, 3), (1409, 1), (1410, 1), (1422, 2), (1450, 5), (1454, 2), (1466, 1), (1472, 1), (1478, 1), (1483, 1), (1484, 1), (1506, 2), (1517, 2), (1524, 7), (1527, 1), (1539, 1), (1544, 1), (1546, 1), (1551, 1), (1561, 1), (1577, 1), (1578, 1), (1580, 3), (1582, 1), (1602, 1), (1606, 1), (1608, 1), (1614, 1), (1621, 1), (1633, 2), (1646, 4), (1698, 1), (1703, 1), (1717, 1), (1718, 3), (1726, 1), (1727, 2), (1751, 1), (1760, 1), (1763, 2), (1770, 1), (1787, 2), (1791, 8), (1797, 1), (1829, 1), (1836, 1), (1856, 1), (1857, 1), (1879, 1), (1880, 1), (1912, 1), (1934, 1), (1936, 1), (1948, 1), (1954, 2), (1958, 1), (1959, 2), (1961, 1), (1992, 1), (1993, 1), (2004, 1), (2005, 1), (2014, 1), (2018, 1), (2040, 2), (2044, 8), (2069, 5), (2075, 1), (2082, 1), (2086, 2), (2087, 14), (2090, 3), (2091, 1), (2093, 2), (2097, 1), (2101, 1), (2117, 1), (2125, 2), (2136, 1), (2140, 1), (2144, 3), (2148, 1), (2149, 7), (2163, 2), (2172, 1), (2192, 1), (2194, 1), (2204, 3), (2208, 4), (2215, 1), (2218, 1), (2220, 1), (2245, 1), (2253, 1), (2294, 1), (2307, 1), (2326, 1), (2337, 1), (2382, 1), (2387, 1), (2417, 1), (2516, 1), (2540, 1), (2556, 1), (2582, 1), (2583, 1), (2606, 1), (2613, 1), (2630, 1), (2647, 1), (2739, 1), (2744, 1), (2764, 1), (2791, 1), (2798, 1), (2815, 2), (2820, 1), (2831, 1), (2860, 1), (2865, 1), (2928, 1), (2942, 1), (2986, 1), (2999, 2), (3004, 1), (3029, 1), (3034, 1), (3035, 1), (3068, 1), (3075, 1), (3087, 2), (3124, 1), (3134, 1), (3138, 1), (3158, 1), (3176, 1), (3322, 12), (3331, 1), (3396, 2), (3492, 1), (3495, 2), (3500, 1), (3549, 1), (3574, 1), (3588, 1), (3589, 3), (3592, 1), (3596, 1), (3639, 1), (3652, 1), (3700, 1), (3716, 1), (3753, 1), (3759, 1), (3764, 1), (3779, 1), (3782, 1), (3789, 1), (3815, 1), (3877, 1), (3882, 1), (3907, 2), (3985, 1), (4032, 1), (4122, 1), (4151, 1), (4154, 2), (4169, 1), (4175, 1), (4195, 2), (4206, 1), (4228, 1), (4347, 1), (4377, 1), (4386, 1), (4409, 1), (4413, 1), (4426, 1), (4522, 1), (4649, 1), (4753, 1), (4830, 1), (4831, 1), (4857, 1), (4878, 1), (4905, 1), (5050, 1), (5056, 1), (5120, 1), (5132, 1), (5163, 2), (5176, 2), (5330, 1), (5338, 1), (5415, 1), (5499, 1), (5584, 1), (5598, 1), (5668, 3), (5745, 3), (5794, 3), (5847, 1), (5854, 1), (5971, 1), (6078, 1), (6159, 1), (6161, 1), (6387, 1), (6393, 2), (6405, 2), (6454, 1), (6547, 1), (6619, 1), (6725, 1), (6760, 3), (6929, 1), (7086, 1), (7095, 1), (7109, 4), (7113, 1), (7341, 1), (7448, 1), (7455, 2), (7463, 1), (7552, 2), (7557, 1), (7559, 1), (7649, 1), (7675, 11), (7683, 1), (7684, 1), (7710, 1), (7777, 1), (7778, 1), (7779, 1), (7780, 1), (7781, 1), (7782, 1), (7783, 1), (7784, 1), (7785, 1), (7786, 1), (7787, 1), (7788, 1), (7789, 1), (7790, 1), (7791, 1), (7792, 30), (7793, 3), (7794, 1), (7795, 1), (7796, 1), (7797, 2), (7798, 2), (7799, 1), (7800, 1), (7801, 1), (7802, 1), (7803, 1), (7804, 2), (7805, 1), (7806, 1), (7807, 1), (7808, 1), (7809, 1), (7810, 1), (7811, 1), (7812, 1), (7813, 1), (7814, 1), (7815, 1), (7816, 1), (7817, 1), (7818, 1), (7819, 1), (7820, 1), (7821, 1), (7822, 1), (7823, 1), (7824, 1), (7825, 1), (7826, 1), (7827, 1), (7828, 1), (7829, 1), (7830, 1), (7831, 1), (7832, 1), (7833, 1), (7834, 2), (7835, 1), (7836, 1), (7837, 1), (7838, 1), (7839, 1), (7840, 1), (7841, 1), (7842, 1), (7843, 1), (7844, 1), (7845, 1), (7846, 1), (7847, 1), (7848, 1), (7849, 1), (7850, 1), (7851, 1), (7852, 6), (7853, 1), (7854, 1), (7855, 1), (7856, 1), (7857, 1), (7858, 1), (7859, 2), (7860, 1), (7861, 1), (7862, 5), (7863, 6), (7864, 1), (7865, 1), (7866, 1), (7867, 1), (7868, 2), (7869, 1), (7870, 1), (7871, 1), (7872, 1), (7873, 1), (7874, 1), (7875, 1), (7876, 1), (7877, 1), (7878, 1), (7879, 4), (7880, 1), (7881, 3), (7882, 1), (7883, 1), (7884, 1), (7885, 1), (7886, 1), (7887, 1), (7888, 1), (7889, 1), (7890, 1), (7891, 1), (7892, 1), (7893, 2), (7894, 1), (7895, 1), (7896, 1), (7897, 1), (7898, 1), (7899, 1), (7900, 1), (7901, 1), (7902, 1), (7903, 1), (7904, 1), (7905, 1), (7906, 1), (7907, 1)], [(25, 1), (37, 1), (43, 1), (52, 1), (53, 1), (54, 5), (61, 3), (64, 1), (76, 3), (85, 1), (87, 1), (97, 1), (122, 1), (136, 1), (139, 6), (141, 1), (145, 3), (149, 1), (155, 1), (164, 1), (169, 3), (180, 1), (181, 1), (209, 1), (221, 2), (224, 1), (228, 1), (235, 1), (238, 1), (241, 1), (245, 1), (252, 1), (256, 1), (260, 1), (261, 1), (271, 3), (277, 6), (280, 1), (288, 4), (298, 1), (303, 3), (309, 2), (312, 1), (319, 1), (322, 3), (325, 1), (341, 1), (344, 1), (348, 1), (350, 1), (351, 2), (352, 1), (357, 1), (358, 1), (363, 2), (367, 1), (383, 1), (384, 4), (386, 1), (387, 3), (399, 1), (405, 2), (409, 1), (415, 15), (420, 2), (422, 4), (425, 2), (426, 1), (433, 1), (440, 3), (445, 3), (455, 4), (456, 2), (465, 1), (479, 1), (481, 1), (493, 1), (495, 1), (501, 2), (504, 2), (506, 1), (515, 1), (519, 1), (525, 1), (535, 10), (545, 1), (546, 2), (547, 1), (556, 1), (559, 1), (575, 1), (580, 1), (590, 1), (617, 5), (620, 2), (628, 1), (630, 1), (631, 1), (633, 2), (635, 1), (636, 2), (644, 1), (654, 1), (659, 1), (662, 1), (664, 5), (666, 1), (669, 1), (681, 4), (685, 1), (693, 1), (702, 1), (732, 1), (734, 2), (746, 1), (763, 1), (764, 1), (768, 1), (773, 1), (783, 1), (788, 2), (798, 1), (801, 2), (803, 2), (804, 1), (825, 3), (841, 1), (855, 1), (856, 1), (870, 1), (871, 1), (879, 1), (880, 1), (888, 1), (891, 1), (893, 1), (895, 3), (897, 1), (910, 2), (917, 1), (920, 1), (926, 1), (927, 1), (932, 1), (944, 2), (956, 1), (963, 1), (966, 1), (967, 1), (975, 5), (981, 1), (983, 1), (987, 2), (1000, 1), (1034, 1), (1043, 1), (1048, 1), (1068, 1), (1072, 1), (1084, 2), (1092, 1), (1105, 16), (1107, 1), (1131, 1), (1133, 4), (1137, 1), (1157, 1), (1158, 3), (1171, 2), (1176, 1), (1232, 1), (1244, 1), (1263, 1), (1277, 1), (1318, 1), (1320, 1), (1323, 1), (1330, 2), (1333, 2), (1340, 2), (1359, 2), (1361, 4), (1363, 1), (1367, 1), (1371, 1), (1374, 1), (1389, 1), (1415, 12), (1448, 1), (1450, 1), (1475, 1), (1484, 1), (1486, 1), (1494, 1), (1495, 2), (1496, 1), (1500, 1), (1501, 1), (1503, 1), (1539, 1), (1541, 1), (1543, 1), (1577, 3), (1584, 1), (1592, 1), (1594, 1), (1606, 1), (1609, 1), (1630, 2), (1660, 1), (1679, 1), (1694, 1), (1715, 1), (1722, 15), (1746, 1), (1747, 2), (1755, 1), (1759, 1), (1813, 4), (1824, 1), (1825, 1), (1829, 1), (1835, 2), (1837, 1), (1845, 3), (1867, 1), (1906, 1), (1936, 1), (1944, 1), (1946, 1), (1956, 1), (1959, 2), (1961, 1), (1988, 1), (2009, 1), (2038, 1), (2066, 3), (2096, 4), (2128, 1), (2131, 1), (2148, 1), (2167, 2), (2188, 1), (2196, 1), (2210, 1), (2277, 2), (2300, 3), (2307, 2), (2359, 1), (2361, 1), (2368, 1), (2372, 2), (2392, 1), (2449, 2), (2462, 2), (2530, 1), (2531, 4), (2554, 1), (2563, 1), (2630, 2), (2692, 1), (2711, 1), (2722, 1), (2754, 1), (2768, 1), (2771, 1), (2787, 1), (2789, 1), (2824, 1), (2831, 2), (2869, 2), (2906, 2), (2914, 1), (2915, 2), (2957, 1), (2969, 1), (2980, 1), (3013, 2), (3172, 1), (3187, 1), (3210, 2), (3266, 1), (3294, 2), (3297, 1), (3312, 1), (3315, 1), (3355, 1), (3362, 1), (3379, 1), (3383, 1), (3448, 1), (3518, 1), (3546, 1), (3552, 1), (3569, 1), (3575, 1), (3576, 1), (3629, 1), (3668, 1), (3687, 1), (3776, 1), (3788, 1), (3799, 1), (3807, 1), (3809, 2), (3812, 2), (3818, 1), (3953, 1), (4038, 1), (4041, 1), (4049, 1), (4074, 2), (4075, 1), (4086, 1), (4121, 1), (4183, 1), (4197, 1), (4216, 1), (4228, 1), (4243, 3), (4246, 13), (4250, 5), (4263, 1), (4307, 1), (4316, 1), (4331, 1), (4381, 1), (4518, 1), (4551, 1), (4569, 1), (4579, 1), (4639, 2), (4689, 1), (4752, 1), (4861, 1), (4951, 2), (5063, 1), (5119, 1), (5284, 1), (5324, 1), (5362, 1), (5393, 1), (5558, 1), (5579, 1), (5584, 1), (5592, 1), (5621, 1), (5694, 1), (5753, 2), (5823, 1), (5831, 1), (5886, 1), (5898, 1), (5989, 1), (5995, 1), (6178, 1), (6198, 2), (6348, 1), (6395, 1), (6412, 1), (6458, 2), (6673, 2), (6676, 1), (6688, 1), (6693, 1), (6706, 1), (6714, 1), (6715, 1), (6728, 1), (6774, 1), (7088, 1), (7127, 1), (7221, 1), (7448, 1), (7651, 1), (7678, 1), (7843, 1), (7902, 1), (7908, 1), (7909, 1), (7910, 1), (7911, 1), (7912, 1), (7913, 1), (7914, 1), (7915, 1), (7916, 2), (7917, 1), (7918, 1), (7919, 1), (7920, 1), (7921, 1), (7922, 1), (7923, 2), (7924, 1), (7925, 1), (7926, 1), (7927, 1), (7928, 1), (7929, 1), (7930, 1), (7931, 2), (7932, 1), (7933, 2), (7934, 1), (7935, 1), (7936, 1), (7937, 1), (7938, 1), (7939, 1), (7940, 1), (7941, 1), (7942, 1), (7943, 1), (7944, 1), (7945, 1), (7946, 1), (7947, 1), (7948, 1), (7949, 1), (7950, 1)], [(9, 2), (21, 1), (39, 2), (40, 1), (41, 9), (42, 1), (48, 1), (50, 1), (52, 1), (61, 2), (64, 1), (71, 1), (92, 1), (120, 4), (122, 1), (149, 1), (169, 1), (174, 1), (181, 2), (187, 1), (191, 1), (217, 2), (224, 1), (225, 1), (227, 1), (240, 2), (250, 3), (252, 1), (260, 1), (271, 1), (277, 4), (279, 1), (288, 1), (304, 1), (306, 1), (309, 1), (310, 6), (322, 1), (327, 1), (340, 2), (344, 1), (346, 1), (347, 1), (351, 2), (353, 1), (355, 1), (363, 7), (364, 10), (369, 1), (376, 1), (384, 3), (387, 1), (391, 1), (393, 1), (409, 2), (414, 1), (415, 6), (416, 10), (420, 1), (422, 1), (440, 2), (445, 1), (450, 1), (455, 6), (458, 5), (476, 2), (488, 1), (492, 1), (495, 1), (504, 2), (518, 2), (535, 18), (539, 1), (545, 2), (553, 1), (568, 3), (574, 4), (585, 2), (586, 1), (614, 3), (629, 3), (631, 1), (633, 1), (636, 1), (646, 2), (647, 2), (652, 1), (654, 3), (658, 2), (659, 3), (662, 4), (663, 4), (666, 1), (672, 1), (680, 3), (681, 8), (690, 1), (693, 2), (723, 1), (750, 1), (765, 3), (777, 1), (787, 1), (788, 1), (798, 1), (801, 1), (806, 1), (825, 4), (841, 1), (842, 1), (851, 2), (857, 1), (891, 1), (905, 2), (917, 1), (927, 1), (943, 3), (945, 3), (948, 1), (952, 1), (956, 1), (963, 1), (966, 1), (971, 1), (981, 1), (986, 1), (988, 2), (992, 1), (1003, 1), (1018, 1), (1032, 2), (1033, 1), (1043, 7), (1060, 2), (1068, 1), (1079, 1), (1084, 1), (1089, 1), (1092, 13), (1098, 2), (1105, 14), (1114, 1), (1126, 4), (1135, 1), (1159, 1), (1169, 1), (1194, 1), (1201, 1), (1210, 1), (1222, 3), (1288, 1), (1291, 3), (1300, 3), (1304, 2), (1306, 5), (1318, 3), (1324, 1), (1328, 2), (1333, 1), (1341, 1), (1343, 1), (1344, 2), (1348, 1), (1361, 1), (1365, 1), (1371, 1), (1380, 1), (1402, 1), (1415, 1), (1416, 1), (1428, 1), (1440, 1), (1444, 1), (1448, 1), (1450, 2), (1484, 1), (1488, 1), (1496, 1), (1501, 1), (1521, 1), (1543, 6), (1550, 1), (1553, 1), (1559, 1), (1562, 1), (1566, 1), (1580, 1), (1584, 2), (1585, 1), (1594, 3), (1596, 1), (1684, 1), (1715, 1), (1718, 1), (1727, 1), (1728, 1), (1748, 9), (1763, 2), (1782, 1), (1785, 1), (1792, 1), (1813, 1), (1814, 1), (1835, 1), (1843, 3), (1886, 3), (1887, 1), (1890, 2), (1934, 2), (1941, 1), (1952, 2), (1988, 1), (1991, 1), (2010, 2), (2020, 2), (2036, 3), (2040, 2), (2106, 1), (2130, 1), (2133, 1), (2140, 1), (2156, 2), (2159, 3), (2160, 1), (2164, 1), (2179, 1), (2188, 2), (2217, 2), (2245, 1), (2257, 1), (2273, 1), (2284, 2), (2307, 1), (2327, 1), (2357, 1), (2367, 1), (2372, 1), (2453, 1), (2466, 1), (2494, 1), (2515, 1), (2556, 1), (2580, 1), (2581, 1), (2582, 1), (2621, 1), (2625, 1), (2630, 1), (2650, 1), (2679, 1), (2709, 1), (2713, 1), (2729, 2), (2733, 1), (2827, 1), (2843, 1), (2906, 2), (2964, 1), (3087, 1), (3111, 1), (3113, 1), (3128, 1), (3170, 1), (3212, 1), (3297, 1), (3331, 1), (3359, 1), (3432, 2), (3463, 1), (3519, 1), (3532, 1), (3606, 1), (3624, 1), (3679, 1), (3687, 1), (3719, 1), (3736, 1), (3739, 1), (3752, 1), (3755, 3), (3825, 1), (3910, 1), (3956, 1), (4049, 1), (4252, 1), (4257, 1), (4421, 1), (4518, 1), (4525, 1), (4544, 1), (4583, 1), (4584, 1), (4620, 2), (4655, 1), (4656, 1), (4693, 1), (4844, 1), (4857, 1), (4865, 3), (4892, 9), (5167, 1), (5168, 1), (5170, 2), (5219, 1), (5315, 1), (5376, 1), (5566, 1), (5574, 1), (5679, 1), (5705, 1), (5815, 1), (5823, 1), (6185, 1), (6274, 1), (6573, 1), (6638, 1), (6741, 1), (6879, 2), (6995, 1), (7221, 1), (7251, 1), (7324, 1), (7404, 1), (7945, 1), (7951, 1), (7952, 1), (7953, 1), (7954, 1), (7955, 1), (7956, 4), (7957, 1), (7958, 5), (7959, 1), (7960, 1), (7961, 1), (7962, 1), (7963, 1), (7964, 1), (7965, 1), (7966, 1), (7967, 2), (7968, 9), (7969, 1), (7970, 3), (7971, 1), (7972, 1), (7973, 1), (7974, 1), (7975, 1), (7976, 1), (7977, 1), (7978, 3), (7979, 1), (7980, 1), (7981, 1), (7982, 1), (7983, 1), (7984, 1), (7985, 1), (7986, 1)], [(50, 1), (52, 1), (71, 1), (85, 1), (87, 2), (91, 1), (95, 2), (96, 1), (110, 1), (120, 1), (122, 1), (125, 1), (149, 1), (154, 1), (179, 1), (181, 2), (187, 1), (209, 1), (222, 1), (224, 1), (226, 2), (237, 1), (238, 1), (243, 2), (249, 1), (257, 1), (260, 1), (271, 3), (279, 1), (287, 1), (288, 4), (292, 1), (294, 3), (313, 3), (329, 1), (334, 1), (350, 1), (351, 2), (353, 1), (354, 2), (355, 1), (363, 2), (364, 3), (369, 3), (384, 3), (393, 1), (395, 1), (409, 1), (415, 3), (416, 8), (421, 1), (422, 5), (429, 1), (440, 1), (442, 1), (450, 1), (455, 2), (462, 1), (465, 2), (469, 1), (476, 2), (484, 1), (491, 1), (492, 1), (502, 1), (506, 1), (515, 1), (519, 1), (527, 2), (535, 4), (539, 2), (541, 1), (542, 1), (545, 1), (550, 2), (552, 1), (556, 2), (558, 1), (568, 1), (579, 1), (590, 1), (593, 3), (594, 1), (614, 2), (619, 1), (620, 1), (622, 1), (629, 1), (631, 1), (633, 6), (634, 4), (635, 1), (636, 1), (640, 4), (646, 2), (652, 1), (654, 1), (662, 2), (664, 1), (666, 2), (680, 1), (681, 1), (688, 4), (690, 3), (708, 1), (727, 1), (732, 3), (734, 1), (741, 1), (758, 1), (759, 2), (764, 1), (765, 1), (767, 1), (768, 1), (770, 1), (777, 1), (784, 1), (787, 1), (794, 1), (797, 1), (798, 1), (809, 3), (849, 1), (857, 2), (860, 1), (865, 1), (868, 2), (869, 2), (873, 3), (882, 1), (886, 2), (918, 1), (930, 1), (935, 1), (936, 3), (952, 1), (954, 1), (955, 1), (962, 1), (980, 1), (983, 1), (987, 2), (1001, 1), (1016, 1), (1017, 1), (1025, 2), (1030, 1), (1033, 1), (1060, 5), (1068, 1), (1074, 10), (1078, 1), (1079, 1), (1081, 1), (1084, 3), (1086, 1), (1088, 1), (1090, 1), (1105, 1), (1108, 1), (1113, 1), (1118, 1), (1119, 1), (1131, 1), (1133, 1), (1134, 1), (1143, 1), (1161, 1), (1166, 1), (1204, 1), (1237, 1), (1238, 1), (1263, 4), (1267, 1), (1281, 1), (1292, 1), (1301, 1), (1304, 1), (1318, 1), (1319, 1), (1337, 1), (1364, 1), (1367, 1), (1381, 3), (1386, 1), (1407, 2), (1417, 1), (1440, 1), (1446, 2), (1450, 4), (1475, 1), (1486, 2), (1495, 1), (1516, 1), (1521, 1), (1522, 2), (1562, 1), (1585, 1), (1587, 2), (1598, 1), (1602, 1), (1608, 8), (1612, 1), (1622, 1), (1627, 1), (1634, 1), (1635, 1), (1737, 1), (1813, 1), (1829, 1), (1836, 1), (1845, 1), (1847, 1), (1865, 1), (1889, 1), (1895, 1), (1909, 1), (1924, 1), (1954, 1), (1984, 1), (2021, 2), (2040, 1), (2096, 1), (2110, 1), (2113, 1), (2117, 1), (2129, 2), (2136, 1), (2169, 1), (2173, 1), (2186, 1), (2196, 2), (2208, 1), (2240, 1), (2275, 1), (2281, 1), (2282, 1), (2307, 3), (2328, 1), (2359, 1), (2423, 1), (2453, 1), (2471, 1), (2513, 1), (2517, 3), (2554, 1), (2569, 1), (2625, 1), (2628, 1), (2659, 1), (2671, 1), (2679, 1), (2689, 2), (2710, 1), (2734, 1), (2741, 1), (2745, 1), (2746, 2), (2754, 2), (2759, 1), (2764, 1), (2765, 2), (2766, 1), (2768, 1), (2771, 1), (2773, 2), (2776, 1), (2814, 4), (2822, 1), (2833, 1), (2840, 1), (2876, 1), (2878, 1), (2882, 1), (2883, 1), (2887, 1), (2896, 1), (2901, 1), (2904, 2), (2913, 1), (2915, 1), (2922, 1), (2927, 1), (2934, 1), (2940, 1), (2944, 1), (2947, 1), (2958, 3), (2960, 3), (2962, 1), (2969, 2), (2982, 1), (3092, 2), (3162, 2), (3256, 1), (3267, 1), (3277, 1), (3291, 1), (3314, 1), (3358, 1), (3398, 1), (3419, 2), (3429, 1), (3445, 1), (3488, 1), (3519, 2), (3555, 1), (3557, 1), (3681, 1), (3704, 1), (3712, 1), (3761, 1), (3779, 1), (3794, 1), (3796, 1), (3825, 1), (3836, 1), (3882, 1), (3894, 1), (3907, 1), (3921, 1), (4034, 1), (4096, 1), (4154, 1), (4200, 1), (4206, 1), (4382, 1), (4422, 1), (4452, 2), (4524, 1), (4569, 1), (4594, 1), (4653, 1), (4735, 1), (4741, 1), (4900, 1), (4957, 1), (5007, 1), (5071, 1), (5094, 1), (5121, 1), (5170, 1), (5233, 3), (5315, 1), (5736, 1), (5847, 1), (5869, 1), (5884, 1), (6003, 1), (6108, 1), (6172, 1), (6217, 1), (6235, 1), (6313, 1), (6418, 1), (6560, 1), (6574, 1), (6636, 1), (6730, 2), (6823, 2), (6956, 2), (6987, 1), (7013, 1), (7093, 1), (7123, 1), (7290, 1), (7473, 1), (7515, 1), (7732, 1), (7753, 1), (7949, 1), (7987, 1), (7988, 1), (7989, 1), (7990, 1), (7991, 1), (7992, 1), (7993, 1), (7994, 1), (7995, 4), (7996, 1), (7997, 1), (7998, 1), (7999, 1), (8000, 1), (8001, 5), (8002, 1), (8003, 1), (8004, 1), (8005, 1), (8006, 1), (8007, 2), (8008, 1), (8009, 1), (8010, 2), (8011, 1), (8012, 1), (8013, 1), (8014, 8), (8015, 1), (8016, 1), (8017, 1), (8018, 1), (8019, 1), (8020, 1), (8021, 2), (8022, 1), (8023, 1), (8024, 1), (8025, 1), (8026, 1), (8027, 1), (8028, 1), (8029, 1), (8030, 1), (8031, 1)], [(1, 1), (26, 1), (39, 3), (41, 2), (85, 1), (87, 3), (101, 1), (106, 2), (122, 2), (155, 3), (164, 2), (169, 1), (190, 1), (210, 1), (224, 3), (252, 2), (259, 1), (271, 2), (279, 1), (288, 1), (289, 1), (294, 2), (295, 1), (310, 2), (324, 2), (351, 1), (352, 1), (359, 2), (363, 1), (369, 2), (383, 1), (384, 4), (403, 1), (414, 1), (415, 13), (421, 1), (422, 2), (426, 1), (438, 1), (440, 1), (456, 1), (462, 2), (465, 1), (476, 5), (479, 1), (481, 1), (502, 1), (503, 1), (514, 1), (523, 1), (526, 1), (535, 11), (562, 1), (585, 1), (594, 1), (620, 1), (628, 3), (633, 3), (640, 3), (646, 1), (663, 1), (666, 1), (669, 1), (677, 1), (680, 2), (681, 4), (685, 3), (688, 1), (719, 1), (729, 1), (759, 2), (780, 1), (798, 1), (803, 1), (814, 1), (815, 2), (856, 1), (869, 1), (931, 3), (935, 1), (936, 6), (937, 1), (945, 2), (971, 1), (992, 2), (1032, 2), (1038, 1), (1039, 1), (1047, 1), (1060, 2), (1073, 1), (1074, 1), (1084, 1), (1095, 1), (1105, 10), (1106, 1), (1113, 1), (1114, 2), (1131, 1), (1138, 2), (1159, 1), (1186, 1), (1190, 1), (1197, 1), (1202, 1), (1209, 1), (1223, 1), (1238, 1), (1249, 1), (1263, 1), (1275, 1), (1280, 1), (1312, 1), (1320, 2), (1341, 1), (1374, 2), (1386, 5), (1403, 1), (1417, 1), (1450, 3), (1486, 1), (1513, 1), (1515, 1), (1637, 1), (1646, 1), (1717, 1), (1767, 1), (1895, 1), (1903, 1), (1912, 1), (1991, 1), (2057, 1), (2065, 1), (2068, 1), (2140, 1), (2186, 3), (2192, 1), (2200, 4), (2202, 2), (2210, 1), (2289, 1), (2307, 1), (2428, 1), (2533, 1), (2547, 1), (2630, 1), (2636, 1), (2685, 1), (2692, 1), (2735, 4), (2771, 1), (2859, 1), (2888, 1), (2892, 1), (3094, 3), (3267, 3), (3272, 1), (3383, 1), (3414, 1), (3446, 2), (3493, 3), (3523, 2), (3538, 1), (3549, 1), (3665, 1), (3732, 1), (3794, 1), (3849, 1), (3894, 1), (3902, 1), (3905, 1), (4051, 2), (4312, 1), (4314, 2), (4653, 1), (5034, 2), (5185, 1), (5196, 1), (5671, 1), (5697, 1), (5773, 1), (6004, 1), (6078, 1), (6256, 1), (6377, 1), (6579, 1), (6800, 1), (7078, 1), (7755, 1), (7835, 1), (8032, 1), (8033, 1), (8034, 1), (8035, 1), (8036, 1), (8037, 1), (8038, 1), (8039, 1), (8040, 1), (8041, 2), (8042, 1), (8043, 1), (8044, 2), (8045, 1)], [(5, 1), (9, 1), (17, 2), (20, 2), (21, 1), (22, 1), (26, 1), (39, 1), (40, 1), (41, 3), (47, 1), (54, 1), (62, 1), (72, 1), (76, 5), (87, 1), (92, 1), (99, 1), (102, 1), (103, 1), (122, 1), (131, 1), (132, 1), (135, 1), (136, 1), (149, 1), (164, 2), (166, 1), (169, 3), (178, 1), (181, 2), (202, 1), (203, 2), (210, 1), (216, 1), (223, 1), (224, 2), (230, 1), (235, 1), (238, 2), (247, 1), (248, 2), (252, 1), (257, 1), (259, 1), (260, 2), (265, 1), (269, 1), (271, 6), (277, 3), (288, 1), (292, 1), (294, 2), (295, 4), (305, 1), (322, 2), (324, 1), (327, 1), (333, 1), (346, 1), (358, 2), (363, 5), (364, 1), (369, 1), (384, 2), (387, 2), (396, 1), (400, 1), (412, 1), (415, 2), (416, 1), (439, 1), (440, 3), (442, 1), (443, 1), (445, 1), (446, 1), (450, 1), (455, 11), (456, 2), (465, 3), (481, 1), (482, 1), (491, 1), (495, 1), (508, 5), (515, 1), (535, 19), (539, 2), (541, 1), (544, 1), (545, 1), (558, 2), (570, 1), (574, 1), (586, 4), (590, 1), (594, 1), (605, 1), (610, 1), (614, 1), (618, 1), (619, 1), (620, 2), (622, 1), (631, 1), (633, 1), (640, 1), (644, 1), (647, 1), (648, 1), (654, 1), (659, 3), (662, 3), (669, 1), (672, 1), (674, 1), (678, 1), (680, 2), (681, 3), (685, 2), (686, 1), (689, 1), (693, 1), (696, 3), (723, 1), (744, 1), (747, 1), (759, 2), (781, 1), (782, 5), (788, 2), (801, 2), (803, 1), (806, 1), (814, 1), (821, 1), (849, 1), (856, 1), (860, 1), (869, 2), (897, 1), (927, 2), (947, 1), (949, 1), (955, 1), (958, 13), (963, 2), (966, 1), (975, 1), (987, 2), (988, 2), (1004, 1), (1008, 1), (1021, 1), (1034, 1), (1042, 1), (1049, 1), (1064, 1), (1068, 1), (1084, 1), (1089, 1), (1090, 1), (1092, 4), (1097, 1), (1101, 1), (1106, 1), (1108, 1), (1109, 8), (1114, 20), (1115, 5), (1126, 1), (1128, 1), (1131, 1), (1158, 7), (1161, 1), (1169, 1), (1170, 1), (1199, 1), (1210, 5), (1218, 2), (1248, 2), (1263, 1), (1270, 1), (1287, 1), (1288, 7), (1306, 2), (1318, 1), (1323, 1), (1324, 1), (1328, 1), (1351, 3), (1352, 2), (1355, 1), (1356, 1), (1361, 3), (1371, 2), (1404, 1), (1405, 1), (1412, 1), (1424, 1), (1427, 3), (1448, 1), (1450, 2), (1456, 2), (1466, 1), (1467, 6), (1468, 1), (1475, 1), (1482, 1), (1501, 1), (1502, 1), (1521, 1), (1524, 1), (1541, 1), (1559, 1), (1560, 1), (1573, 1), (1580, 9), (1584, 1), (1593, 1), (1598, 3), (1628, 1), (1629, 1), (1647, 2), (1648, 1), (1658, 1), (1669, 3), (1698, 1), (1710, 1), (1713, 2), (1715, 1), (1725, 1), (1737, 1), (1745, 1), (1749, 1), (1750, 2), (1751, 1), (1756, 1), (1763, 3), (1776, 1), (1803, 3), (1821, 1), (1827, 1), (1835, 1), (1843, 1), (1845, 1), (1880, 1), (1886, 1), (1896, 1), (1908, 2), (1915, 2), (1934, 1), (1951, 1), (1976, 2), (1992, 2), (2009, 2), (2018, 1), (2019, 1), (2058, 1), (2093, 8), (2122, 1), (2125, 2), (2133, 1), (2148, 2), (2178, 1), (2191, 2), (2207, 1), (2211, 1), (2258, 1), (2277, 1), (2282, 1), (2294, 1), (2300, 1), (2307, 1), (2320, 1), (2327, 1), (2337, 2), (2368, 1), (2372, 1), (2374, 2), (2404, 2), (2423, 1), (2445, 3), (2502, 1), (2531, 1), (2545, 2), (2579, 1), (2582, 5), (2590, 1), (2630, 2), (2651, 1), (2684, 1), (2719, 1), (2722, 1), (2793, 1), (2840, 1), (2848, 1), (2849, 1), (2854, 1), (2863, 1), (2869, 1), (2991, 1), (3027, 1), (3029, 1), (3034, 2), (3137, 1), (3249, 1), (3256, 1), (3267, 1), (3270, 1), (3288, 2), (3428, 2), (3481, 3), (3506, 1), (3576, 3), (3605, 2), (3606, 1), (3709, 1), (3878, 1), (3900, 1), (3909, 1), (3910, 1), (3992, 1), (4032, 1), (4127, 1), (4130, 1), (4228, 1), (4252, 3), (4378, 1), (4446, 1), (4454, 2), (4467, 1), (4527, 1), (4535, 1), (4675, 1), (4690, 1), (4691, 6), (4787, 1), (4834, 1), (4899, 1), (4904, 2), (4917, 1), (4961, 1), (5078, 1), (5199, 8), (5210, 3), (5265, 1), (5290, 1), (5688, 1), (5793, 1), (5811, 1), (5814, 1), (5839, 1), (5851, 1), (5938, 1), (5948, 2), (6045, 1), (6217, 2), (6394, 1), (6444, 2), (6453, 2), (6514, 3), (6531, 1), (6745, 1), (6947, 1), (7211, 1), (7268, 2), (7284, 1), (7311, 1), (7680, 1), (7718, 1), (7875, 1), (7949, 1), (8046, 1), (8047, 1), (8048, 1), (8049, 1), (8050, 1), (8051, 2), (8052, 1), (8053, 2), (8054, 2), (8055, 1), (8056, 1), (8057, 3), (8058, 1), (8059, 1), (8060, 1), (8061, 1), (8062, 1), (8063, 1), (8064, 1), (8065, 1), (8066, 1), (8067, 2), (8068, 1), (8069, 1), (8070, 1), (8071, 1), (8072, 3), (8073, 1), (8074, 3), (8075, 1), (8076, 1), (8077, 1), (8078, 1), (8079, 1), (8080, 1), (8081, 1), (8082, 1), (8083, 2), (8084, 1), (8085, 1), (8086, 1), (8087, 1), (8088, 1), (8089, 1), (8090, 1), (8091, 4), (8092, 1), (8093, 2), (8094, 1), (8095, 4), (8096, 1), (8097, 1), (8098, 1), (8099, 1), (8100, 1), (8101, 1), (8102, 2), (8103, 1), (8104, 1)], [(14, 1), (39, 1), (41, 1), (54, 1), (79, 1), (99, 1), (101, 1), (102, 1), (103, 1), (132, 1), (135, 2), (136, 1), (139, 1), (141, 1), (145, 1), (149, 2), (154, 2), (156, 4), (162, 1), (165, 1), (180, 1), (184, 7), (190, 2), (204, 1), (206, 1), (207, 1), (210, 1), (223, 1), (235, 1), (251, 1), (252, 1), (254, 1), (257, 1), (259, 1), (261, 1), (265, 1), (269, 2), (277, 2), (288, 1), (299, 1), (303, 1), (305, 1), (306, 1), (307, 1), (311, 1), (322, 1), (325, 1), (334, 2), (341, 1), (350, 4), (351, 1), (353, 4), (360, 1), (363, 1), (369, 2), (375, 1), (378, 1), (384, 2), (387, 1), (393, 3), (415, 2), (417, 2), (429, 1), (430, 1), (440, 2), (442, 1), (443, 3), (445, 1), (455, 1), (463, 1), (465, 1), (484, 2), (488, 2), (492, 1), (500, 1), (504, 1), (505, 1), (518, 2), (522, 1), (535, 17), (539, 1), (547, 2), (576, 1), (577, 1), (579, 1), (594, 1), (599, 1), (600, 1), (602, 1), (605, 2), (613, 1), (614, 3), (631, 2), (633, 2), (636, 1), (646, 2), (648, 1), (652, 2), (659, 2), (661, 1), (669, 1), (670, 1), (672, 1), (677, 2), (681, 7), (685, 2), (706, 1), (722, 1), (750, 2), (764, 1), (773, 1), (780, 2), (782, 1), (783, 1), (788, 1), (798, 1), (801, 1), (815, 1), (839, 1), (860, 3), (871, 1), (893, 8), (894, 1), (903, 2), (920, 2), (930, 1), (931, 15), (947, 1), (954, 1), (962, 1), (965, 3), (975, 6), (992, 1), (1003, 1), (1038, 1), (1084, 1), (1090, 1), (1095, 1), (1133, 3), (1172, 3), (1190, 1), (1244, 2), (1266, 1), (1268, 1), (1277, 1), (1283, 1), (1304, 1), (1333, 1), (1361, 3), (1363, 3), (1371, 1), (1374, 1), (1386, 6), (1415, 1), (1448, 1), (1456, 1), (1468, 1), (1486, 1), (1495, 2), (1505, 1), (1520, 4), (1521, 1), (1544, 1), (1584, 2), (1585, 1), (1594, 1), (1596, 1), (1597, 1), (1606, 1), (1630, 1), (1633, 1), (1648, 1), (1650, 1), (1655, 1), (1680, 1), (1683, 3), (1684, 1), (1717, 1), (1734, 1), (1747, 1), (1748, 2), (1759, 3), (1804, 1), (1805, 1), (1844, 1), (1885, 1), (1894, 1), (1918, 1), (1970, 4), (1991, 2), (2010, 1), (2039, 1), (2064, 1), (2065, 1), (2071, 1), (2096, 7), (2131, 2), (2166, 1), (2181, 1), (2186, 1), (2204, 1), (2215, 1), (2248, 1), (2253, 1), (2300, 1), (2327, 2), (2346, 3), (2387, 1), (2394, 1), (2400, 1), (2419, 2), (2423, 4), (2428, 1), (2462, 5), (2466, 2), (2541, 1), (2560, 1), (2577, 1), (2579, 1), (2583, 1), (2601, 2), (2605, 1), (2716, 1), (2721, 1), (2756, 2), (2771, 2), (2796, 1), (2798, 1), (2862, 1), (2877, 1), (2930, 1), (2991, 1), (3046, 1), (3050, 1), (3072, 7), (3082, 1), (3092, 1), (3121, 3), (3165, 1), (3269, 1), (3294, 3), (3442, 1), (3456, 1), (3480, 1), (3493, 2), (3523, 11), (3529, 10), (3549, 1), (3569, 1), (3575, 1), (3582, 3), (3587, 1), (3599, 2), (3626, 1), (3674, 1), (3758, 1), (3805, 1), (3815, 1), (3823, 2), (3826, 1), (3878, 2), (3981, 1), (4084, 1), (4130, 1), (4216, 1), (4217, 1), (4258, 1), (4267, 2), (4323, 1), (4342, 2), (4842, 1), (4885, 1), (4933, 1), (5223, 1), (5340, 1), (5502, 1), (5616, 1), (5634, 1), (6013, 1), (6046, 1), (6065, 1), (6166, 1), (6365, 1), (6701, 1), (6774, 1), (6937, 1), (7103, 1), (7329, 1), (7381, 5), (7460, 1), (7557, 5), (8045, 1), (8105, 1), (8106, 1), (8107, 1), (8108, 1), (8109, 1), (8110, 2), (8111, 2), (8112, 2), (8113, 5), (8114, 1), (8115, 2), (8116, 1), (8117, 1), (8118, 1), (8119, 1), (8120, 1), (8121, 2), (8122, 1), (8123, 1), (8124, 3), (8125, 1), (8126, 1), (8127, 1), (8128, 16), (8129, 1), (8130, 1), (8131, 1), (8132, 1), (8133, 1), (8134, 1), (8135, 1), (8136, 1), (8137, 1), (8138, 1), (8139, 1)], [(3, 1), (23, 1), (35, 1), (54, 1), (83, 1), (93, 1), (132, 1), (149, 3), (164, 1), (217, 1), (223, 1), (241, 1), (248, 1), (249, 1), (252, 1), (269, 1), (310, 1), (351, 2), (352, 1), (369, 1), (393, 2), (409, 1), (416, 3), (422, 1), (439, 1), (440, 1), (456, 3), (544, 1), (556, 2), (614, 1), (644, 1), (646, 1), (666, 5), (669, 1), (686, 1), (693, 3), (701, 1), (720, 3), (762, 1), (765, 1), (829, 1), (832, 5), (878, 1), (880, 2), (999, 1), (1013, 1), (1032, 2), (1041, 1), (1063, 1), (1088, 2), (1091, 1), (1210, 1), (1237, 1), (1263, 1), (1284, 1), (1301, 1), (1306, 1), (1340, 1), (1347, 1), (1351, 1), (1361, 1), (1363, 1), (1374, 1), (1376, 1), (1388, 1), (1449, 1), (1482, 3), (1483, 1), (1500, 1), (1506, 7), (1515, 1), (1517, 3), (1524, 1), (1539, 1), (1566, 1), (1579, 1), (1584, 3), (1585, 1), (1616, 1), (1665, 1), (1710, 1), (1752, 3), (1758, 1), (1845, 1), (1890, 1), (2010, 1), (2083, 1), (2101, 1), (2136, 3), (2148, 2), (2163, 1), (2208, 1), (2275, 1), (2277, 1), (2282, 1), (2349, 1), (2459, 1), (2462, 1), (2467, 1), (2630, 2), (2648, 1), (2692, 1), (2796, 1), (3112, 1), (3295, 1), (3312, 1), (3457, 1), (3523, 1), (3571, 1), (3681, 1), (3687, 1), (3689, 3), (3716, 2), (3808, 1), (3906, 1), (3910, 1), (4084, 2), (4176, 1), (4234, 1), (4367, 7), (4450, 1), (4454, 1), (4469, 1), (4573, 1), (4885, 1), (5025, 1), (5069, 1), (5219, 3), (5568, 1), (5807, 1), (5914, 1), (6412, 1), (6761, 1), (6790, 1), (7084, 1), (8140, 1), (8141, 1), (8142, 4), (8143, 1), (8144, 1), (8145, 3), (8146, 1), (8147, 1), (8148, 1), (8149, 2), (8150, 1), (8151, 1), (8152, 1), (8153, 1), (8154, 1), (8155, 1), (8156, 1), (8157, 1), (8158, 1), (8159, 1)], [(0, 4), (8, 2), (23, 1), (25, 1), (26, 1), (39, 1), (48, 1), (51, 2), (71, 4), (85, 2), (86, 1), (116, 1), (122, 1), (136, 3), (149, 1), (169, 2), (181, 2), (184, 4), (185, 1), (190, 1), (200, 1), (216, 1), (217, 1), (219, 2), (224, 2), (241, 2), (251, 1), (271, 1), (300, 2), (306, 2), (310, 3), (322, 1), (327, 1), (351, 2), (355, 1), (361, 1), (363, 5), (364, 2), (383, 1), (385, 1), (395, 2), (409, 1), (415, 8), (417, 1), (422, 1), (438, 4), (440, 1), (442, 1), (445, 1), (450, 1), (455, 1), (458, 1), (485, 1), (492, 1), (499, 1), (500, 1), (510, 4), (522, 1), (535, 16), (539, 1), (545, 1), (551, 3), (553, 1), (558, 1), (562, 2), (576, 1), (586, 1), (590, 4), (599, 1), (622, 1), (628, 3), (633, 2), (634, 1), (636, 1), (640, 1), (646, 4), (654, 1), (662, 1), (663, 7), (670, 1), (674, 1), (681, 2), (685, 3), (688, 1), (693, 1), (708, 1), (725, 1), (743, 1), (750, 6), (762, 1), (764, 2), (765, 6), (784, 1), (787, 4), (788, 2), (789, 1), (801, 3), (802, 1), (803, 1), (849, 1), (891, 5), (912, 1), (920, 1), (927, 1), (931, 1), (958, 1), (959, 1), (966, 2), (975, 2), (992, 1), (995, 1), (1025, 1), (1032, 1), (1036, 1), (1039, 1), (1073, 1), (1079, 1), (1084, 10), (1089, 1), (1095, 1), (1103, 1), (1131, 1), (1142, 1), (1166, 1), (1201, 1), (1244, 2), (1246, 1), (1247, 1), (1263, 2), (1273, 1), (1283, 5), (1286, 1), (1288, 1), (1291, 1), (1301, 1), (1306, 3), (1309, 1), (1315, 1), (1324, 2), (1333, 6), (1356, 1), (1358, 1), (1360, 1), (1397, 1), (1463, 4), (1466, 1), (1475, 1), (1482, 5), (1495, 1), (1499, 1), (1501, 1), (1502, 1), (1530, 1), (1539, 3), (1566, 1), (1568, 1), (1573, 1), (1584, 1), (1591, 2), (1627, 1), (1632, 1), (1635, 1), (1644, 2), (1646, 1), (1669, 1), (1675, 1), (1680, 1), (1683, 2), (1693, 1), (1749, 1), (1757, 1), (1771, 2), (1773, 1), (1776, 1), (1814, 1), (1816, 1), (1826, 1), (1832, 3), (1835, 1), (1839, 2), (1840, 3), (1883, 2), (1890, 2), (1894, 1), (1906, 1), (1934, 1), (1936, 2), (1937, 1), (1952, 1), (1992, 2), (2012, 12), (2015, 1), (2019, 2), (2040, 1), (2055, 1), (2064, 1), (2078, 1), (2096, 2), (2148, 1), (2149, 1), (2152, 1), (2160, 1), (2167, 1), (2206, 1), (2215, 1), (2243, 1), (2249, 1), (2271, 2), (2278, 2), (2342, 1), (2357, 2), (2359, 1), (2372, 1), (2417, 1), (2419, 1), (2448, 1), (2502, 1), (2503, 1), (2504, 1), (2541, 1), (2586, 1), (2601, 1), (2623, 1), (2650, 1), (2679, 1), (2692, 1), (2710, 1), (2711, 2), (2755, 1), (2760, 1), (2768, 2), (2771, 1), (2789, 1), (2796, 1), (2808, 1), (2813, 1), (2815, 2), (2831, 1), (2859, 1), (2861, 1), (2898, 2), (2906, 1), (2910, 1), (2911, 1), (2960, 1), (2973, 1), (2983, 1), (2985, 2), (2986, 1), (2999, 1), (3008, 1), (3027, 1), (3037, 6), (3041, 1), (3046, 1), (3049, 5), (3101, 1), (3144, 1), (3192, 10), (3193, 2), (3201, 1), (3211, 13), (3212, 12), (3227, 2), (3230, 1), (3231, 2), (3252, 1), (3296, 2), (3304, 1), (3366, 1), (3414, 3), (3445, 2), (3486, 1), (3491, 1), (3525, 1), (3557, 1), (3588, 1), (3606, 1), (3657, 1), (3775, 1), (3825, 1), (3847, 1), (3907, 2), (3961, 2), (4084, 1), (4112, 1), (4113, 1), (4117, 1), (4124, 2), (4277, 1), (4440, 1), (4452, 1), (4467, 1), (4470, 1), (4492, 1), (4551, 1), (4590, 1), (4617, 1), (4622, 1), (4631, 1), (4655, 8), (4668, 1), (4737, 1), (4764, 1), (4768, 1), (4969, 1), (4975, 1), (5163, 2), (5283, 1), (5386, 1), (5664, 1), (5767, 1), (5810, 1), (6020, 1), (6065, 1), (6118, 1), (6379, 1), (6699, 1), (6716, 1), (6725, 1), (6751, 1), (6807, 3), (6812, 2), (7064, 1), (7111, 1), (7133, 1), (7294, 1), (7335, 1), (7403, 1), (7818, 2), (7850, 2), (7971, 3), (7976, 1), (7982, 1), (8160, 1), (8161, 1), (8162, 1), (8163, 1), (8164, 1), (8165, 1), (8166, 1), (8167, 1), (8168, 1), (8169, 3), (8170, 2), (8171, 1), (8172, 1), (8173, 1), (8174, 1), (8175, 1), (8176, 1), (8177, 2), (8178, 1), (8179, 1), (8180, 1), (8181, 1), (8182, 1), (8183, 1), (8184, 1), (8185, 1), (8186, 1), (8187, 1), (8188, 1), (8189, 1), (8190, 1), (8191, 1), (8192, 1), (8193, 1), (8194, 1), (8195, 1), (8196, 1), (8197, 1), (8198, 1), (8199, 1), (8200, 2), (8201, 1), (8202, 1), (8203, 2), (8204, 1), (8205, 1), (8206, 1), (8207, 1), (8208, 7)], [(1, 4), (3, 1), (10, 1), (14, 1), (25, 1), (35, 1), (39, 1), (41, 2), (42, 1), (48, 1), (53, 1), (54, 1), (56, 1), (61, 1), (85, 1), (96, 1), (97, 1), (101, 1), (102, 2), (120, 2), (122, 1), (125, 1), (132, 1), (135, 1), (149, 1), (152, 1), (155, 2), (156, 2), (164, 2), (166, 1), (173, 1), (174, 1), (200, 1), (210, 1), (220, 1), (224, 2), (226, 1), (227, 3), (235, 1), (236, 1), (249, 1), (261, 2), (277, 3), (279, 1), (280, 1), (283, 1), (291, 1), (292, 1), (303, 2), (304, 1), (310, 1), (322, 2), (324, 1), (340, 1), (347, 1), (351, 3), (359, 1), (361, 1), (363, 1), (367, 1), (369, 1), (371, 2), (373, 3), (374, 1), (384, 1), (387, 4), (399, 1), (409, 1), (417, 1), (420, 1), (421, 2), (422, 1), (434, 1), (440, 2), (465, 1), (469, 1), (485, 3), (493, 1), (497, 1), (499, 1), (500, 1), (503, 1), (505, 4), (514, 1), (523, 1), (526, 1), (535, 11), (541, 1), (552, 1), (553, 1), (558, 1), (562, 1), (575, 2), (585, 3), (593, 1), (601, 1), (629, 1), (630, 1), (631, 5), (633, 2), (636, 1), (640, 1), (646, 1), (655, 1), (662, 1), (664, 2), (666, 2), (672, 1), (677, 1), (678, 1), (679, 1), (680, 1), (681, 3), (685, 5), (693, 1), (696, 1), (707, 1), (712, 2), (721, 3), (724, 5), (739, 1), (744, 1), (745, 1), (751, 1), (753, 2), (754, 2), (765, 1), (783, 1), (784, 1), (788, 2), (798, 1), (800, 2), (801, 4), (803, 2), (805, 2), (814, 5), (815, 3), (823, 1), (826, 1), (829, 1), (830, 1), (832, 6), (833, 1), (834, 2), (836, 1), (839, 1), (843, 1), (844, 3), (849, 1), (852, 5), (856, 8), (864, 1), (865, 1), (870, 4), (872, 6), (876, 1), (878, 1), (879, 1), (882, 1), (891, 1), (894, 1), (908, 1), (956, 1), (962, 1), (992, 1), (999, 4), (1016, 4), (1025, 5), (1039, 1), (1086, 1), (1091, 1), (1092, 1), (1108, 2), (1131, 1), (1159, 2), (1163, 1), (1178, 1), (1187, 1), (1202, 1), (1218, 1), (1238, 1), (1245, 1), (1248, 1), (1293, 1), (1298, 1), (1306, 2), (1320, 1), (1322, 1), (1344, 2), (1370, 6), (1374, 2), (1409, 2), (1423, 1), (1433, 1), (1451, 1), (1455, 1), (1474, 1), (1478, 1), (1492, 1), (1494, 1), (1505, 1), (1506, 1), (1515, 1), (1539, 1), (1543, 1), (1546, 1), (1566, 1), (1573, 1), (1630, 3), (1642, 1), (1644, 1), (1647, 1), (1669, 1), (1693, 1), (1703, 1), (1725, 1), (1742, 1), (1752, 1), (1757, 1), (1797, 1), (1801, 1), (1895, 1), (2009, 1), (2010, 1), (2019, 2), (2077, 1), (2088, 1), (2106, 1), (2116, 1), (2117, 1), (2136, 2), (2148, 1), (2168, 1), (2181, 1), (2204, 1), (2205, 1), (2208, 2), (2241, 1), (2337, 1), (2340, 1), (2387, 5), (2404, 1), (2409, 1), (2519, 1), (2524, 1), (2540, 1), (2561, 2), (2586, 1), (2601, 1), (2605, 1), (2621, 1), (2625, 1), (2685, 1), (2731, 1), (2810, 1), (2834, 1), (2859, 1), (2863, 1), (2902, 1), (3008, 1), (3051, 1), (3188, 1), (3253, 1), (3268, 1), (3294, 1), (3296, 1), (3373, 1), (3451, 4), (3509, 1), (3557, 1), (3558, 1), (3606, 1), (3627, 1), (3675, 1), (3707, 1), (3712, 1), (3736, 1), (3743, 2), (3766, 1), (3779, 2), (3805, 1), (3813, 1), (3817, 1), (3819, 1), (3856, 1), (4211, 1), (4422, 1), (4508, 1), (4583, 1), (4653, 1), (4784, 1), (4876, 1), (4906, 1), (4910, 1), (5021, 1), (5136, 1), (5159, 1), (5359, 3), (5406, 1), (5415, 1), (5498, 1), (5521, 1), (5586, 1), (5783, 1), (5899, 1), (5915, 1), (5963, 1), (5989, 1), (6051, 1), (6427, 2), (6431, 1), (6453, 2), (6790, 1), (6905, 1), (6952, 2), (6967, 2), (7279, 1), (7369, 1), (7455, 1), (7857, 2), (7940, 1), (8054, 1), (8209, 1), (8210, 1), (8211, 1), (8212, 1), (8213, 1), (8214, 1), (8215, 1), (8216, 6), (8217, 13), (8218, 1), (8219, 3), (8220, 1), (8221, 1), (8222, 1), (8223, 1), (8224, 4), (8225, 1), (8226, 1), (8227, 4), (8228, 1), (8229, 1), (8230, 1), (8231, 1), (8232, 1), (8233, 1), (8234, 3), (8235, 2), (8236, 1), (8237, 1), (8238, 11), (8239, 1), (8240, 2), (8241, 1), (8242, 1), (8243, 1), (8244, 1), (8245, 1), (8246, 1), (8247, 1), (8248, 1), (8249, 1), (8250, 1), (8251, 1), (8252, 1), (8253, 1), (8254, 1), (8255, 1), (8256, 1), (8257, 4), (8258, 1), (8259, 1), (8260, 6), (8261, 1), (8262, 1), (8263, 1), (8264, 2), (8265, 1), (8266, 2)], [(46, 1), (53, 1), (54, 2), (76, 1), (82, 1), (116, 1), (122, 3), (133, 1), (135, 2), (136, 3), (139, 1), (152, 2), (169, 4), (191, 1), (203, 2), (221, 1), (238, 1), (239, 1), (252, 1), (260, 1), (269, 3), (277, 2), (288, 2), (329, 1), (331, 1), (347, 1), (350, 1), (351, 1), (353, 2), (361, 1), (363, 5), (369, 1), (374, 1), (384, 1), (387, 1), (393, 2), (395, 1), (399, 2), (414, 1), (415, 4), (420, 1), (422, 3), (438, 1), (440, 1), (442, 1), (445, 1), (455, 6), (465, 3), (469, 1), (476, 1), (477, 1), (478, 1), (479, 1), (481, 1), (482, 2), (486, 3), (492, 1), (501, 1), (508, 3), (515, 1), (527, 2), (535, 11), (541, 1), (545, 1), (546, 1), (556, 2), (570, 1), (586, 1), (605, 5), (613, 1), (629, 3), (630, 1), (633, 1), (635, 1), (641, 1), (642, 1), (651, 1), (654, 3), (662, 1), (669, 1), (678, 1), (680, 1), (681, 6), (685, 1), (696, 1), (714, 1), (741, 1), (750, 2), (757, 1), (770, 2), (773, 1), (782, 2), (787, 1), (788, 4), (801, 1), (849, 1), (871, 1), (886, 1), (891, 1), (897, 2), (914, 2), (917, 1), (920, 2), (927, 1), (930, 4), (936, 7), (944, 1), (945, 1), (954, 1), (958, 2), (975, 6), (981, 1), (992, 1), (993, 1), (1042, 1), (1057, 1), (1061, 2), (1064, 1), (1068, 1), (1089, 1), (1092, 1), (1105, 1), (1106, 2), (1108, 1), (1109, 2), (1114, 8), (1115, 10), (1170, 1), (1171, 6), (1172, 1), (1186, 2), (1190, 1), (1194, 3), (1197, 3), (1208, 1), (1263, 10), (1270, 1), (1283, 1), (1290, 4), (1306, 4), (1347, 1), (1355, 2), (1361, 1), (1363, 1), (1374, 1), (1386, 1), (1415, 1), (1432, 1), (1446, 1), (1454, 2), (1455, 1), (1467, 3), (1495, 1), (1521, 1), (1546, 1), (1568, 1), (1580, 1), (1586, 2), (1587, 2), (1594, 1), (1613, 1), (1623, 1), (1633, 1), (1647, 1), (1652, 1), (1669, 1), (1702, 1), (1713, 1), (1715, 1), (1717, 1), (1725, 1), (1734, 1), (1748, 4), (1750, 2), (1843, 2), (1867, 1), (1878, 1), (1886, 1), (1911, 1), (1934, 1), (1950, 1), (1991, 2), (1992, 1), (2005, 2), (2020, 1), (2065, 1), (2066, 3), (2093, 2), (2161, 1), (2188, 1), (2207, 1), (2211, 1), (2282, 2), (2300, 1), (2307, 1), (2320, 1), (2346, 1), (2352, 1), (2359, 1), (2362, 1), (2365, 1), (2423, 1), (2538, 1), (2576, 4), (2620, 1), (2622, 1), (2692, 1), (2701, 1), (2729, 2), (2747, 2), (2768, 1), (2798, 1), (2804, 1), (2815, 1), (2816, 2), (2824, 1), (2841, 1), (2861, 1), (2917, 1), (2969, 1), (2975, 1), (3020, 1), (3028, 1), (3030, 1), (3040, 2), (3045, 1), (3076, 2), (3110, 1), (3111, 1), (3154, 1), (3176, 1), (3207, 3), (3229, 1), (3267, 1), (3288, 1), (3334, 2), (3357, 1), (3415, 1), (3460, 1), (3480, 1), (3488, 1), (3502, 2), (3532, 1), (3579, 1), (3597, 1), (3768, 1), (3820, 1), (3825, 1), (3870, 1), (3947, 1), (4010, 1), (4048, 1), (4049, 1), (4183, 1), (4298, 3), (4304, 1), (4324, 1), (4351, 1), (4385, 1), (4421, 3), (4467, 1), (4515, 1), (4569, 2), (4675, 1), (4691, 1), (4830, 1), (4859, 1), (4878, 2), (4970, 1), (5159, 1), (5199, 2), (5353, 1), (5388, 1), (5486, 2), (5525, 1), (5598, 1), (5709, 1), (5938, 1), (6063, 8), (6161, 2), (6540, 1), (6773, 1), (6792, 1), (6865, 2), (6869, 1), (7023, 1), (7156, 1), (7369, 1), (8050, 3), (8057, 1), (8091, 2), (8267, 1), (8268, 3), (8269, 1), (8270, 1), (8271, 1), (8272, 1), (8273, 3), (8274, 1), (8275, 1), (8276, 8), (8277, 1), (8278, 1), (8279, 3), (8280, 1), (8281, 1), (8282, 1), (8283, 1), (8284, 1), (8285, 1), (8286, 3), (8287, 1)], [(1, 1), (3, 1), (53, 1), (61, 2), (71, 1), (72, 3), (85, 1), (87, 3), (96, 1), (119, 1), (125, 1), (145, 1), (147, 1), (155, 5), (169, 2), (172, 2), (179, 1), (181, 5), (182, 2), (184, 1), (224, 3), (227, 2), (228, 2), (241, 5), (243, 2), (250, 1), (252, 2), (258, 4), (259, 1), (260, 1), (261, 2), (271, 1), (277, 1), (281, 1), (295, 1), (298, 1), (303, 3), (307, 1), (309, 1), (310, 2), (340, 1), (346, 1), (347, 2), (351, 1), (355, 1), (361, 4), (363, 5), (364, 6), (369, 1), (373, 1), (384, 2), (387, 1), (409, 1), (415, 3), (416, 6), (417, 1), (420, 1), (426, 1), (438, 1), (439, 1), (440, 6), (445, 2), (451, 1), (455, 10), (463, 1), (495, 2), (500, 2), (502, 1), (505, 1), (508, 2), (523, 3), (528, 1), (535, 10), (539, 3), (541, 2), (550, 2), (559, 1), (562, 3), (563, 1), (568, 3), (585, 1), (586, 2), (590, 2), (606, 3), (628, 1), (630, 1), (633, 3), (644, 1), (646, 1), (664, 3), (666, 1), (672, 1), (673, 1), (674, 2), (678, 6), (680, 2), (681, 5), (685, 3), (686, 1), (689, 1), (711, 1), (720, 2), (723, 1), (726, 1), (732, 2), (735, 2), (743, 1), (764, 1), (765, 11), (782, 3), (783, 5), (787, 1), (788, 1), (797, 1), (798, 1), (801, 2), (809, 1), (810, 1), (821, 1), (833, 1), (849, 1), (851, 1), (869, 3), (870, 1), (902, 1), (905, 1), (908, 1), (927, 4), (937, 1), (938, 1), (955, 2), (962, 2), (966, 1), (975, 1), (983, 2), (1000, 1), (1013, 1), (1017, 1), (1025, 3), (1032, 1), (1039, 1), (1041, 1), (1047, 1), (1064, 1), (1072, 1), (1082, 1), (1083, 1), (1084, 1), (1085, 2), (1088, 1), (1125, 1), (1138, 1), (1155, 1), (1163, 3), (1166, 2), (1171, 1), (1176, 1), (1184, 3), (1195, 1), (1200, 3), (1236, 2), (1237, 2), (1245, 1), (1246, 1), (1248, 2), (1261, 1), (1286, 1), (1288, 2), (1291, 3), (1298, 1), (1304, 1), (1306, 1), (1309, 3), (1316, 2), (1319, 1), (1324, 1), (1327, 2), (1328, 1), (1343, 1), (1345, 1), (1369, 1), (1371, 2), (1389, 3), (1430, 1), (1446, 1), (1456, 1), (1466, 1), (1468, 1), (1480, 1), (1484, 2), (1495, 3), (1506, 1), (1539, 1), (1543, 1), (1573, 1), (1577, 1), (1580, 1), (1582, 1), (1592, 1), (1606, 2), (1623, 2), (1629, 1), (1642, 1), (1646, 1), (1651, 1), (1682, 2), (1725, 1), (1726, 1), (1727, 2), (1732, 1), (1737, 1), (1783, 1), (1787, 1), (1790, 1), (1792, 1), (1824, 1), (1837, 1), (1851, 1), (1934, 2), (1946, 1), (1952, 1), (1984, 5), (1992, 3), (1999, 1), (2006, 2), (2031, 1), (2039, 2), (2060, 1), (2062, 1), (2064, 2), (2065, 1), (2067, 1), (2082, 1), (2091, 1), (2105, 1), (2125, 1), (2173, 1), (2203, 1), (2206, 1), (2218, 1), (2269, 2), (2277, 1), (2300, 1), (2307, 1), (2327, 4), (2332, 1), (2346, 2), (2362, 1), (2383, 7), (2417, 2), (2430, 1), (2438, 1), (2444, 1), (2446, 1), (2449, 1), (2498, 3), (2509, 2), (2534, 2), (2552, 1), (2569, 1), (2584, 1), (2606, 2), (2611, 1), (2620, 1), (2635, 1), (2647, 1), (2681, 1), (2684, 1), (2693, 1), (2727, 1), (2729, 1), (2762, 1), (2768, 1), (2789, 1), (2791, 1), (2798, 1), (2813, 3), (2816, 1), (2820, 3), (2840, 1), (2919, 1), (2920, 1), (3016, 1), (3028, 1), (3029, 1), (3082, 3), (3092, 2), (3101, 1), (3110, 1), (3125, 1), (3132, 1), (3172, 1), (3187, 1), (3246, 1), (3272, 4), (3290, 1), (3295, 1), (3322, 1), (3326, 2), (3334, 1), (3344, 1), (3349, 1), (3371, 2), (3372, 1), (3378, 9), (3407, 2), (3420, 1), (3429, 5), (3443, 1), (3444, 5), (3448, 1), (3450, 1), (3454, 8), (3486, 1), (3488, 2), (3493, 1), (3501, 1), (3512, 2), (3519, 1), (3545, 1), (3548, 1), (3569, 1), (3612, 1), (3622, 4), (3638, 1), (3643, 1), (3658, 4), (3732, 1), (3733, 1), (3735, 1), (3785, 1), (3806, 1), (3900, 1), (3913, 1), (3943, 1), (3950, 1), (3951, 1), (3978, 1), (4038, 1), (4041, 3), (4067, 1), (4091, 1), (4094, 1), (4096, 2), (4122, 1), (4138, 1), (4206, 4), (4250, 1), (4342, 2), (4377, 1), (4381, 1), (4485, 1), (4537, 2), (4598, 1), (4649, 1), (4692, 1), (4739, 1), (4796, 1), (4852, 1), (4965, 1), (4970, 2), (4987, 3), (5003, 1), (5006, 1), (5034, 1), (5098, 2), (5122, 1), (5149, 1), (5156, 1), (5230, 1), (5235, 1), (5243, 1), (5352, 2), (5438, 1), (5570, 1), (5729, 1), (5829, 1), (5841, 1), (5904, 1), (6007, 1), (6040, 1), (6073, 1), (6122, 1), (6136, 1), (6153, 1), (6194, 1), (6213, 1), (6233, 2), (6250, 1), (6260, 2), (6283, 1), (6303, 1), (6319, 1), (6346, 1), (6364, 1), (6414, 1), (6418, 1), (6489, 2), (6507, 1), (6532, 1), (6556, 1), (6581, 1), (6608, 1), (6618, 2), (6636, 2), (6682, 1), (6713, 1), (6764, 1), (6769, 2), (6793, 1), (6796, 1), (6828, 1), (6839, 1), (6845, 1), (6869, 1), (6995, 1), (7067, 1), (7218, 1), (7243, 1), (7290, 3), (7340, 1), (7341, 1), (7559, 1), (7677, 2), (7946, 1), (7972, 4), (8026, 1), (8191, 1), (8288, 1), (8289, 2), (8290, 1), (8291, 2), (8292, 6), (8293, 4), (8294, 1), (8295, 1), (8296, 1), (8297, 1), (8298, 1), (8299, 1), (8300, 1), (8301, 1), (8302, 1), (8303, 16), (8304, 1), (8305, 1), (8306, 1), (8307, 1), (8308, 1), (8309, 1), (8310, 2), (8311, 1), (8312, 2), (8313, 1), (8314, 1), (8315, 1), (8316, 1), (8317, 1), (8318, 1), (8319, 1), (8320, 1), (8321, 1), (8322, 1), (8323, 1), (8324, 2), (8325, 1), (8326, 1), (8327, 1), (8328, 1), (8329, 1), (8330, 2), (8331, 1), (8332, 1), (8333, 1), (8334, 2), (8335, 1), (8336, 2), (8337, 1), (8338, 1), (8339, 1), (8340, 1), (8341, 1), (8342, 1), (8343, 1), (8344, 6), (8345, 1), (8346, 1), (8347, 1), (8348, 1), (8349, 1), (8350, 1), (8351, 1), (8352, 1), (8353, 1), (8354, 1), (8355, 1), (8356, 1), (8357, 1), (8358, 1), (8359, 1), (8360, 1), (8361, 1), (8362, 1), (8363, 1), (8364, 2), (8365, 1), (8366, 1), (8367, 1), (8368, 1), (8369, 1), (8370, 1), (8371, 1), (8372, 1), (8373, 1), (8374, 1), (8375, 1), (8376, 2), (8377, 1), (8378, 2), (8379, 1), (8380, 1), (8381, 1), (8382, 1), (8383, 1), (8384, 1), (8385, 1), (8386, 1), (8387, 1), (8388, 1), (8389, 1), (8390, 1), (8391, 1), (8392, 1), (8393, 1), (8394, 1)], [(0, 1), (13, 1), (37, 1), (39, 1), (54, 3), (61, 1), (87, 4), (90, 1), (102, 3), (122, 1), (125, 3), (126, 1), (136, 1), (144, 1), (155, 1), (169, 1), (181, 2), (200, 1), (202, 2), (220, 1), (224, 2), (227, 1), (228, 1), (235, 1), (241, 1), (245, 2), (252, 2), (260, 1), (271, 4), (274, 1), (277, 6), (280, 2), (288, 1), (289, 3), (298, 1), (303, 2), (304, 1), (309, 1), (322, 1), (338, 1), (340, 1), (346, 3), (350, 1), (361, 4), (363, 5), (364, 5), (369, 2), (376, 1), (384, 2), (385, 1), (392, 1), (405, 1), (414, 2), (415, 1), (416, 4), (417, 1), (420, 3), (422, 4), (430, 1), (434, 1), (440, 4), (442, 1), (449, 1), (467, 1), (482, 1), (494, 1), (505, 1), (523, 1), (527, 1), (529, 1), (535, 10), (541, 5), (556, 2), (558, 2), (562, 1), (565, 1), (575, 1), (590, 1), (593, 1), (602, 1), (605, 1), (614, 1), (620, 1), (628, 1), (629, 1), (630, 1), (631, 1), (633, 4), (635, 1), (636, 2), (637, 1), (640, 1), (648, 1), (662, 4), (663, 1), (664, 2), (678, 1), (680, 3), (681, 2), (688, 3), (701, 1), (702, 1), (705, 1), (723, 1), (743, 1), (746, 2), (753, 3), (756, 1), (758, 2), (765, 1), (766, 1), (787, 1), (788, 2), (798, 1), (808, 1), (814, 1), (815, 2), (821, 1), (833, 1), (849, 1), (852, 1), (855, 1), (857, 2), (871, 1), (887, 2), (899, 1), (908, 1), (930, 1), (945, 2), (962, 1), (981, 1), (1006, 1), (1007, 1), (1016, 1), (1019, 1), (1026, 1), (1032, 2), (1041, 2), (1089, 1), (1119, 1), (1125, 1), (1130, 1), (1140, 1), (1171, 2), (1180, 1), (1200, 3), (1218, 1), (1234, 3), (1238, 2), (1255, 1), (1282, 1), (1283, 2), (1284, 1), (1304, 1), (1306, 1), (1309, 3), (1320, 1), (1323, 2), (1327, 1), (1350, 1), (1364, 1), (1368, 4), (1374, 1), (1387, 1), (1388, 1), (1389, 1), (1402, 2), (1404, 1), (1405, 1), (1429, 1), (1450, 3), (1466, 2), (1467, 1), (1468, 3), (1475, 1), (1502, 1), (1506, 4), (1517, 1), (1533, 1), (1538, 1), (1559, 1), (1566, 1), (1580, 1), (1585, 1), (1598, 1), (1602, 1), (1606, 1), (1614, 1), (1616, 1), (1626, 1), (1642, 1), (1647, 1), (1652, 1), (1684, 1), (1693, 1), (1725, 1), (1763, 1), (1773, 1), (1829, 1), (1837, 1), (1843, 1), (1845, 1), (1892, 1), (1983, 1), (2018, 1), (2029, 1), (2036, 1), (2057, 1), (2058, 1), (2069, 1), (2078, 1), (2091, 2), (2122, 1), (2155, 1), (2176, 1), (2204, 1), (2218, 3), (2221, 2), (2269, 1), (2282, 1), (2356, 1), (2374, 1), (2407, 1), (2449, 1), (2513, 2), (2545, 7), (2628, 1), (2642, 1), (2679, 1), (2697, 1), (2745, 1), (2754, 2), (2792, 4), (2798, 1), (2814, 2), (2820, 7), (2844, 1), (2847, 1), (2850, 1), (2854, 1), (2856, 1), (2862, 1), (2950, 1), (2995, 1), (3009, 1), (3054, 1), (3087, 1), (3131, 1), (3158, 1), (3190, 1), (3201, 1), (3210, 1), (3232, 2), (3272, 1), (3306, 1), (3312, 1), (3390, 1), (3401, 3), (3422, 1), (3428, 1), (3489, 1), (3519, 1), (3596, 1), (3687, 1), (3708, 1), (3712, 2), (3715, 1), (3716, 1), (3737, 1), (3749, 1), (3752, 1), (3782, 1), (3885, 1), (3896, 1), (3912, 1), (3948, 1), (3970, 1), (3997, 1), (4133, 1), (4155, 1), (4339, 1), (4354, 4), (4445, 1), (4446, 1), (4452, 2), (4474, 1), (4513, 1), (4952, 1), (5078, 1), (5119, 1), (5248, 1), (5290, 1), (5406, 1), (5687, 1), (6208, 1), (6228, 1), (6299, 1), (6438, 1), (6502, 1), (6559, 1), (6988, 1), (7285, 1), (7288, 1), (7411, 1), (7458, 3), (7536, 2), (7586, 1), (7628, 1), (7707, 5), (7910, 12), (8146, 1), (8219, 1), (8395, 1), (8396, 1), (8397, 1), (8398, 1), (8399, 1), (8400, 1), (8401, 1), (8402, 1), (8403, 1), (8404, 3), (8405, 1), (8406, 1), (8407, 1), (8408, 1), (8409, 1), (8410, 1), (8411, 1), (8412, 1), (8413, 1), (8414, 1), (8415, 1), (8416, 1), (8417, 1), (8418, 1), (8419, 1), (8420, 2), (8421, 4), (8422, 1), (8423, 1), (8424, 1), (8425, 3), (8426, 1), (8427, 1), (8428, 1), (8429, 1), (8430, 1), (8431, 4), (8432, 1)], [(20, 1), (36, 1), (48, 1), (54, 2), (56, 2), (62, 1), (80, 1), (122, 2), (136, 1), (151, 1), (152, 1), (155, 1), (169, 1), (206, 1), (209, 2), (216, 1), (217, 2), (224, 2), (226, 2), (227, 1), (229, 1), (236, 2), (248, 2), (250, 2), (252, 1), (257, 2), (259, 2), (263, 1), (277, 1), (279, 1), (301, 1), (313, 1), (322, 1), (324, 2), (327, 1), (345, 1), (346, 4), (347, 1), (356, 1), (359, 1), (364, 3), (369, 1), (384, 2), (391, 1), (393, 1), (410, 1), (415, 3), (417, 3), (421, 1), (422, 1), (429, 4), (432, 1), (439, 1), (440, 1), (442, 1), (445, 1), (455, 2), (458, 2), (469, 1), (476, 1), (484, 1), (491, 1), (493, 1), (495, 3), (510, 2), (519, 2), (527, 1), (535, 1), (539, 1), (545, 1), (550, 1), (556, 2), (558, 1), (564, 1), (575, 1), (590, 1), (608, 1), (619, 1), (624, 1), (629, 3), (652, 1), (654, 1), (662, 2), (666, 1), (668, 1), (669, 3), (673, 7), (674, 1), (678, 1), (680, 4), (681, 5), (682, 1), (684, 1), (685, 1), (725, 1), (729, 1), (742, 1), (750, 1), (762, 1), (767, 1), (790, 1), (798, 2), (801, 1), (802, 1), (815, 1), (837, 1), (844, 2), (849, 2), (853, 1), (890, 1), (891, 2), (899, 1), (905, 4), (927, 1), (930, 1), (937, 1), (941, 1), (966, 3), (972, 1), (988, 2), (1013, 1), (1018, 1), (1019, 8), (1038, 1), (1039, 1), (1041, 1), (1054, 1), (1058, 3), (1083, 1), (1089, 2), (1113, 2), (1125, 2), (1126, 1), (1130, 1), (1159, 1), (1166, 1), (1169, 1), (1174, 1), (1176, 1), (1184, 1), (1197, 1), (1218, 1), (1223, 1), (1245, 1), (1248, 1), (1261, 1), (1264, 1), (1274, 3), (1280, 1), (1284, 1), (1288, 1), (1290, 2), (1306, 1), (1309, 1), (1320, 1), (1323, 2), (1326, 1), (1332, 2), (1339, 1), (1355, 1), (1364, 1), (1367, 1), (1381, 2), (1388, 1), (1390, 1), (1391, 1), (1403, 1), (1404, 1), (1417, 1), (1422, 1), (1431, 1), (1446, 3), (1448, 1), (1450, 2), (1465, 1), (1475, 1), (1486, 1), (1489, 1), (1496, 1), (1507, 1), (1515, 1), (1521, 1), (1522, 3), (1543, 1), (1544, 1), (1573, 1), (1578, 2), (1579, 2), (1581, 1), (1585, 2), (1614, 1), (1631, 2), (1637, 1), (1638, 1), (1665, 1), (1675, 1), (1698, 1), (1703, 1), (1705, 1), (1718, 3), (1725, 1), (1737, 1), (1748, 3), (1752, 2), (1763, 1), (1764, 1), (1767, 1), (1773, 1), (1797, 2), (1798, 1), (1812, 1), (1827, 1), (1844, 1), (1879, 1), (1936, 1), (1961, 1), (1991, 1), (1992, 1), (2093, 1), (2105, 2), (2128, 1), (2189, 1), (2191, 1), (2192, 1), (2194, 1), (2199, 2), (2203, 1), (2204, 1), (2266, 2), (2276, 1), (2300, 1), (2307, 1), (2318, 1), (2320, 1), (2344, 1), (2374, 1), (2376, 1), (2428, 1), (2444, 1), (2474, 1), (2482, 2), (2513, 1), (2517, 1), (2533, 1), (2547, 1), (2550, 1), (2554, 1), (2572, 1), (2591, 1), (2597, 2), (2601, 1), (2607, 1), (2619, 1), (2621, 1), (2634, 1), (2677, 1), (2708, 1), (2792, 1), (2805, 1), (2812, 1), (2903, 1), (2920, 1), (2969, 1), (2973, 1), (3017, 1), (3070, 2), (3075, 1), (3092, 1), (3120, 1), (3181, 1), (3190, 1), (3207, 1), (3217, 1), (3239, 1), (3242, 1), (3263, 2), (3265, 1), (3270, 1), (3272, 1), (3276, 1), (3280, 1), (3294, 1), (3296, 1), (3315, 1), (3337, 1), (3480, 1), (3491, 1), (3492, 2), (3499, 1), (3501, 1), (3531, 1), (3554, 1), (3588, 1), (3657, 1), (3722, 1), (3768, 3), (3771, 1), (3915, 1), (3934, 1), (3949, 1), (4032, 1), (4247, 3), (4259, 1), (4287, 1), (4312, 1), (4331, 1), (4386, 2), (4414, 1), (4426, 1), (4615, 2), (4697, 1), (4902, 1), (4903, 1), (4921, 1), (5022, 1), (5119, 1), (5138, 15), (5163, 1), (5184, 1), (5263, 1), (5349, 1), (5393, 3), (5502, 1), (5580, 1), (5623, 1), (5628, 1), (5674, 1), (5719, 1), (5725, 1), (5729, 1), (5745, 1), (5802, 1), (5819, 1), (5878, 1), (6004, 1), (6053, 1), (6122, 1), (6123, 1), (6284, 1), (6313, 1), (6355, 1), (6406, 1), (6526, 1), (6573, 1), (6692, 1), (6713, 1), (6732, 1), (6877, 1), (7018, 1), (7033, 1), (7103, 2), (7216, 1), (7217, 1), (7223, 3), (7269, 1), (7368, 1), (7516, 1), (7535, 1), (7578, 1), (7602, 1), (7608, 1), (7623, 1), (7627, 1), (7628, 1), (7649, 1), (7671, 1), (7806, 1), (8007, 1), (8063, 1), (8433, 1), (8434, 1), (8435, 1), (8436, 1), (8437, 1), (8438, 1), (8439, 2), (8440, 1), (8441, 1), (8442, 1), (8443, 1), (8444, 1), (8445, 1), (8446, 1), (8447, 1), (8448, 1), (8449, 1), (8450, 1), (8451, 1), (8452, 1), (8453, 1), (8454, 1), (8455, 1), (8456, 1), (8457, 1), (8458, 1), (8459, 1), (8460, 1), (8461, 1), (8462, 1), (8463, 1), (8464, 1), (8465, 1), (8466, 1), (8467, 1), (8468, 1), (8469, 1), (8470, 1), (8471, 1), (8472, 1), (8473, 1), (8474, 1), (8475, 1), (8476, 1), (8477, 4), (8478, 1), (8479, 1), (8480, 1), (8481, 1), (8482, 1), (8483, 1), (8484, 1), (8485, 1), (8486, 1), (8487, 1), (8488, 1), (8489, 1), (8490, 1), (8491, 1), (8492, 1), (8493, 1), (8494, 1), (8495, 1), (8496, 1), (8497, 1), (8498, 1), (8499, 1), (8500, 1), (8501, 1), (8502, 1), (8503, 1)], [(0, 1), (9, 1), (25, 1), (26, 1), (32, 1), (35, 1), (53, 1), (54, 1), (61, 1), (79, 1), (84, 2), (87, 2), (106, 1), (113, 1), (125, 1), (131, 2), (136, 1), (152, 1), (154, 1), (155, 1), (165, 1), (169, 1), (172, 1), (187, 1), (190, 2), (202, 1), (210, 1), (224, 2), (226, 1), (240, 1), (243, 1), (245, 1), (249, 2), (252, 1), (259, 1), (260, 1), (262, 1), (271, 2), (275, 1), (279, 1), (287, 1), (298, 1), (306, 1), (324, 1), (327, 1), (332, 1), (334, 1), (335, 1), (341, 1), (346, 1), (351, 1), (355, 1), (359, 1), (363, 1), (369, 1), (374, 1), (384, 1), (385, 1), (387, 3), (393, 3), (409, 3), (413, 1), (415, 3), (417, 1), (421, 2), (422, 3), (438, 1), (439, 1), (440, 2), (449, 1), (465, 1), (469, 1), (476, 1), (481, 1), (491, 1), (493, 2), (499, 3), (503, 1), (514, 1), (535, 4), (542, 1), (545, 1), (562, 1), (590, 1), (609, 1), (614, 1), (627, 1), (629, 1), (630, 1), (631, 2), (640, 1), (646, 2), (652, 1), (654, 2), (662, 4), (664, 4), (672, 1), (674, 1), (680, 1), (681, 3), (686, 2), (693, 1), (694, 1), (701, 1), (707, 1), (708, 1), (723, 1), (734, 1), (746, 1), (750, 1), (753, 1), (773, 2), (780, 1), (781, 1), (783, 1), (788, 2), (797, 1), (800, 1), (808, 1), (815, 1), (833, 1), (856, 2), (869, 3), (870, 1), (878, 2), (879, 1), (880, 1), (882, 4), (884, 12), (891, 1), (900, 1), (901, 1), (905, 1), (910, 5), (911, 1), (913, 1), (914, 1), (917, 2), (918, 1), (925, 1), (930, 1), (944, 1), (945, 1), (948, 2), (952, 1), (955, 1), (960, 1), (963, 1), (965, 1), (967, 1), (980, 3), (981, 1), (995, 1), (1001, 1), (1016, 2), (1017, 2), (1020, 1), (1026, 1), (1039, 1), (1041, 2), (1042, 1), (1043, 3), (1049, 1), (1068, 2), (1074, 1), (1081, 1), (1084, 3), (1089, 1), (1090, 1), (1091, 2), (1098, 1), (1102, 1), (1105, 1), (1108, 1), (1112, 2), (1118, 1), (1119, 2), (1120, 2), (1125, 1), (1138, 2), (1143, 2), (1158, 2), (1161, 2), (1173, 1), (1204, 1), (1206, 1), (1225, 1), (1229, 1), (1232, 1), (1247, 1), (1248, 1), (1263, 1), (1266, 1), (1280, 1), (1289, 1), (1290, 2), (1295, 1), (1307, 1), (1309, 1), (1323, 1), (1324, 1), (1343, 1), (1344, 1), (1347, 1), (1351, 2), (1361, 1), (1363, 1), (1368, 1), (1374, 2), (1389, 2), (1409, 1), (1417, 1), (1424, 2), (1427, 1), (1451, 1), (1472, 1), (1475, 1), (1486, 1), (1506, 1), (1521, 3), (1524, 1), (1539, 1), (1562, 1), (1566, 1), (1575, 1), (1578, 2), (1579, 1), (1591, 1), (1593, 1), (1598, 2), (1607, 1), (1608, 3), (1609, 1), (1612, 1), (1624, 1), (1637, 1), (1641, 1), (1642, 1), (1647, 1), (1650, 1), (1651, 1), (1668, 1), (1669, 1), (1671, 1), (1720, 1), (1725, 2), (1727, 1), (1733, 1), (1743, 1), (1746, 1), (1748, 1), (1752, 1), (1767, 1), (1775, 1), (1803, 1), (1818, 1), (1855, 1), (1892, 3), (1898, 1), (1910, 1), (1922, 1), (1951, 1), (1991, 1), (2041, 1), (2079, 1), (2105, 2), (2114, 1), (2125, 3), (2177, 1), (2196, 1), (2206, 1), (2218, 1), (2221, 1), (2243, 2), (2289, 1), (2307, 1), (2313, 2), (2314, 1), (2327, 1), (2374, 1), (2383, 1), (2409, 1), (2417, 1), (2423, 1), (2438, 1), (2449, 1), (2492, 2), (2513, 2), (2517, 1), (2524, 1), (2561, 1), (2597, 1), (2601, 1), (2631, 2), (2667, 1), (2672, 1), (2681, 1), (2682, 1), (2698, 1), (2730, 1), (2738, 2), (2749, 1), (2798, 1), (2834, 1), (2854, 1), (2859, 1), (2869, 1), (2896, 1), (2914, 1), (3113, 1), (3134, 1), (3137, 1), (3149, 1), (3173, 2), (3240, 2), (3263, 1), (3294, 2), (3318, 1), (3429, 1), (3431, 1), (3480, 1), (3486, 1), (3569, 1), (3598, 1), (3619, 1), (3643, 1), (3758, 1), (3775, 1), (3825, 1), (3830, 3), (3878, 1), (4036, 1), (4066, 1), (4098, 1), (4117, 1), (4130, 2), (4255, 1), (4271, 1), (4286, 1), (4401, 1), (4426, 1), (4521, 1), (4542, 1), (4592, 1), (4690, 1), (4794, 1), (4842, 1), (4910, 1), (4951, 1), (5042, 2), (5078, 1), (5220, 1), (5340, 1), (5516, 1), (5615, 1), (5825, 1), (5833, 1), (5872, 1), (6057, 1), (6161, 3), (6177, 1), (6199, 1), (6216, 1), (6229, 2), (6258, 1), (6268, 1), (6305, 1), (6318, 1), (6332, 1), (6393, 1), (6453, 1), (6730, 1), (6749, 1), (6888, 1), (6969, 1), (7069, 1), (7402, 1), (7835, 1), (8026, 1), (8345, 1), (8504, 1), (8505, 1), (8506, 1), (8507, 1), (8508, 1), (8509, 1), (8510, 1), (8511, 1), (8512, 2), (8513, 1), (8514, 1), (8515, 1), (8516, 1), (8517, 1), (8518, 1), (8519, 1), (8520, 1), (8521, 1), (8522, 1), (8523, 1), (8524, 1), (8525, 1), (8526, 2), (8527, 1), (8528, 1), (8529, 1), (8530, 1), (8531, 1), (8532, 1), (8533, 1), (8534, 1)], [(0, 1), (12, 1), (14, 1), (20, 1), (37, 1), (40, 1), (48, 2), (54, 4), (56, 1), (61, 2), (71, 2), (72, 1), (76, 5), (79, 1), (82, 1), (85, 1), (86, 1), (87, 4), (92, 1), (93, 2), (96, 2), (97, 1), (106, 1), (122, 3), (125, 4), (131, 1), (132, 1), (133, 1), (139, 1), (144, 1), (145, 2), (149, 5), (155, 1), (164, 1), (169, 4), (179, 1), (181, 6), (184, 3), (190, 1), (191, 2), (199, 1), (206, 1), (224, 1), (225, 1), (227, 1), (229, 1), (235, 1), (236, 2), (240, 2), (241, 3), (242, 1), (249, 2), (250, 2), (252, 3), (258, 1), (259, 5), (260, 1), (261, 1), (271, 2), (277, 4), (281, 1), (282, 1), (286, 1), (288, 2), (291, 5), (292, 1), (293, 1), (295, 1), (298, 1), (300, 1), (303, 4), (310, 2), (314, 1), (322, 1), (323, 1), (324, 1), (325, 1), (331, 1), (334, 3), (340, 1), (346, 1), (350, 1), (351, 2), (352, 3), (353, 1), (354, 2), (357, 1), (359, 3), (361, 4), (363, 8), (364, 3), (369, 6), (373, 1), (374, 1), (377, 2), (385, 1), (387, 2), (393, 1), (399, 4), (405, 1), (409, 5), (413, 1), (414, 1), (415, 33), (417, 1), (421, 6), (422, 4), (430, 1), (438, 3), (439, 2), (440, 5), (445, 1), (448, 1), (450, 3), (455, 7), (458, 1), (476, 1), (481, 2), (482, 1), (485, 1), (488, 2), (492, 2), (493, 1), (500, 1), (502, 1), (506, 1), (522, 1), (523, 2), (527, 1), (529, 1), (535, 25), (539, 7), (550, 1), (556, 4), (565, 1), (568, 2), (574, 1), (575, 3), (576, 1), (579, 1), (585, 2), (586, 2), (590, 3), (594, 1), (599, 1), (602, 1), (614, 4), (618, 1), (620, 2), (625, 1), (627, 1), (628, 1), (629, 5), (630, 3), (633, 4), (634, 1), (635, 8), (638, 2), (639, 1), (640, 4), (641, 1), (646, 5), (654, 2), (661, 1), (662, 1), (664, 4), (666, 1), (670, 3), (678, 1), (680, 2), (681, 4), (683, 2), (685, 8), (686, 1), (688, 1), (693, 1), (694, 2), (695, 1), (705, 1), (708, 1), (721, 1), (723, 2), (725, 1), (732, 1), (741, 2), (742, 1), (750, 3), (751, 2), (758, 1), (759, 2), (760, 2), (764, 1), (765, 2), (782, 6), (783, 2), (785, 1), (787, 7), (815, 1), (844, 1), (848, 1), (854, 1), (868, 1), (869, 1), (870, 1), (876, 1), (879, 1), (885, 1), (886, 3), (891, 5), (900, 3), (908, 2), (920, 1), (922, 1), (923, 1), (927, 6), (932, 1), (937, 2), (938, 1), (945, 4), (955, 2), (958, 1), (962, 3), (966, 2), (968, 1), (975, 4), (983, 1), (992, 2), (995, 1), (1000, 1), (1002, 1), (1013, 1), (1017, 1), (1019, 1), (1025, 1), (1032, 1), (1033, 1), (1039, 3), (1052, 1), (1058, 1), (1060, 2), (1063, 1), (1068, 1), (1073, 3), (1074, 1), (1075, 2), (1082, 1), (1084, 7), (1086, 5), (1089, 1), (1090, 1), (1092, 1), (1094, 1), (1097, 3), (1098, 1), (1101, 1), (1103, 2), (1125, 3), (1126, 1), (1127, 1), (1133, 2), (1143, 2), (1156, 4), (1169, 1), (1178, 1), (1181, 1), (1185, 1), (1197, 2), (1200, 2), (1201, 3), (1207, 1), (1210, 3), (1216, 2), (1218, 4), (1225, 1), (1229, 1), (1238, 1), (1245, 1), (1247, 2), (1249, 1), (1252, 1), (1255, 2), (1265, 1), (1267, 2), (1270, 5), (1276, 6), (1283, 1), (1288, 1), (1290, 3), (1291, 2), (1295, 1), (1304, 1), (1306, 1), (1312, 1), (1316, 1), (1318, 1), (1319, 1), (1320, 3), (1323, 1), (1324, 1), (1328, 1), (1332, 2), (1333, 5), (1341, 1), (1347, 1), (1356, 1), (1357, 1), (1376, 1), (1380, 1), (1381, 1), (1386, 1), (1409, 5), (1417, 1), (1419, 1), (1460, 1), (1475, 1), (1482, 1), (1486, 3), (1489, 1), (1492, 1), (1495, 4), (1499, 2), (1505, 1), (1522, 3), (1524, 4), (1532, 1), (1538, 1), (1539, 3), (1546, 1), (1550, 1), (1573, 2), (1577, 1), (1582, 1), (1584, 1), (1591, 2), (1602, 1), (1612, 1), (1623, 3), (1630, 1), (1631, 1), (1633, 1), (1647, 3), (1668, 1), (1680, 1), (1682, 1), (1688, 1), (1693, 1), (1713, 1), (1718, 1), (1725, 2), (1727, 2), (1734, 1), (1735, 1), (1737, 1), (1755, 1), (1758, 2), (1759, 1), (1763, 3), (1791, 1), (1796, 1), (1797, 1), (1819, 1), (1825, 1), (1840, 1), (1843, 1), (1864, 1), (1874, 1), (1888, 1), (1889, 1), (1892, 1), (1909, 1), (1912, 1), (1918, 2), (1938, 1), (1946, 2), (1950, 1), (1954, 1), (1959, 1), (1970, 2), (1991, 3), (1992, 1), (2005, 1), (2009, 1), (2010, 1), (2011, 1), (2041, 1), (2060, 1), (2071, 1), (2073, 1), (2082, 3), (2106, 2), (2110, 3), (2117, 1), (2120, 1), (2122, 1), (2130, 1), (2159, 3), (2188, 1), (2196, 1), (2205, 1), (2206, 2), (2211, 1), (2215, 1), (2220, 3), (2234, 2), (2240, 1), (2247, 1), (2257, 1), (2259, 1), (2271, 1), (2276, 3), (2282, 1), (2287, 2), (2300, 1), (2320, 1), (2328, 1), (2334, 4), (2335, 1), (2342, 1), (2346, 1), (2348, 1), (2352, 1), (2357, 1), (2365, 3), (2370, 5), (2374, 4), (2390, 2), (2391, 2), (2403, 1), (2404, 2), (2407, 1), (2408, 1), (2419, 1), (2449, 2), (2453, 1), (2464, 1), (2466, 1), (2470, 1), (2484, 1), (2488, 2), (2494, 1), (2503, 1), (2504, 1), (2509, 1), (2524, 1), (2531, 1), (2533, 3), (2552, 1), (2574, 1), (2583, 1), (2621, 1), (2660, 1), (2665, 1), (2671, 1), (2680, 1), (2682, 1), (2689, 3), (2692, 1), (2708, 1), (2721, 1), (2722, 1), (2730, 1), (2734, 1), (2762, 1), (2764, 1), (2770, 1), (2771, 1), (2778, 2), (2779, 3), (2796, 1), (2819, 1), (2820, 2), (2824, 2), (2834, 1), (2844, 1), (2855, 2), (2861, 1), (2956, 1), (2973, 1), (2987, 1), (3020, 2), (3021, 1), (3029, 1), (3040, 1), (3045, 1), (3055, 1), (3072, 1), (3094, 1), (3153, 1), (3170, 1), (3194, 2), (3210, 2), (3228, 3), (3229, 1), (3236, 2), (3246, 1), (3247, 1), (3279, 2), (3280, 3), (3296, 1), (3309, 1), (3314, 1), (3326, 1), (3407, 1), (3431, 4), (3481, 1), (3497, 1), (3500, 1), (3505, 3), (3512, 1), (3522, 13), (3523, 1), (3524, 1), (3530, 4), (3541, 3), (3561, 1), (3587, 1), (3603, 1), (3627, 8), (3661, 1), (3664, 1), (3673, 1), (3680, 1), (3698, 1), (3700, 1), (3756, 1), (3779, 1), (3782, 1), (3785, 1), (3792, 1), (3846, 1), (3847, 2), (3878, 1), (3880, 1), (3886, 1), (3894, 1), (3906, 1), (3943, 1), (3971, 1), (4041, 1), (4049, 1), (4057, 1), (4100, 1), (4101, 1), (4103, 1), (4112, 1), (4199, 1), (4200, 1), (4231, 1), (4306, 1), (4345, 1), (4349, 1), (4421, 1), (4427, 1), (4440, 1), (4444, 1), (4452, 2), (4468, 1), (4483, 4), (4485, 1), (4518, 1), (4529, 1), (4535, 1), (4537, 1), (4550, 1), (4576, 1), (4625, 1), (4649, 1), (4663, 1), (4675, 1), (4686, 1), (4790, 1), (4796, 1), (4830, 1), (4899, 1), (4921, 1), (4930, 1), (4987, 2), (5068, 1), (5075, 1), (5100, 1), (5107, 1), (5145, 1), (5177, 1), (5185, 1), (5219, 1), (5230, 1), (5370, 1), (5373, 1), (5378, 2), (5394, 1), (5413, 1), (5447, 2), (5452, 1), (5531, 2), (5539, 1), (5547, 5), (5592, 2), (5626, 2), (5697, 1), (5706, 1), (5745, 1), (5822, 1), (5823, 1), (5842, 1), (5988, 1), (6218, 1), (6237, 1), (6262, 1), (6319, 1), (6337, 1), (6406, 1), (6503, 2), (6704, 1), (6751, 1), (6818, 4), (6829, 1), (6924, 1), (6994, 1), (7018, 1), (7035, 3), (7047, 1), (7145, 1), (7155, 1), (7191, 1), (7221, 1), (7319, 1), (7362, 1), (7399, 1), (7449, 1), (7537, 1), (7597, 1), (7600, 10), (7612, 1), (7628, 3), (7726, 2), (7747, 1), (7869, 1), (7912, 1), (8172, 2), (8222, 2), (8278, 1), (8298, 1), (8325, 1), (8335, 1), (8474, 1), (8535, 1), (8536, 1), (8537, 1), (8538, 3), (8539, 1), (8540, 1), (8541, 1), (8542, 1), (8543, 1), (8544, 1), (8545, 1), (8546, 1), (8547, 1), (8548, 1), (8549, 2), (8550, 1), (8551, 1), (8552, 1), (8553, 1), (8554, 11), (8555, 9), (8556, 1), (8557, 1), (8558, 1), (8559, 1), (8560, 1), (8561, 1), (8562, 1), (8563, 1), (8564, 1), (8565, 1), (8566, 1), (8567, 1), (8568, 1), (8569, 2), (8570, 1), (8571, 1), (8572, 1), (8573, 1), (8574, 1), (8575, 1), (8576, 1), (8577, 1), (8578, 1), (8579, 1), (8580, 1), (8581, 1), (8582, 33), (8583, 1), (8584, 1), (8585, 1), (8586, 1), (8587, 2), (8588, 1), (8589, 1), (8590, 1), (8591, 1), (8592, 5), (8593, 1), (8594, 1), (8595, 1), (8596, 1), (8597, 1), (8598, 1), (8599, 1), (8600, 4), (8601, 1)], [(10, 1), (39, 1), (40, 1), (76, 1), (82, 1), (85, 1), (93, 2), (110, 1), (122, 1), (125, 1), (139, 1), (155, 1), (164, 1), (181, 1), (184, 1), (187, 1), (204, 1), (206, 1), (210, 1), (231, 1), (232, 1), (257, 2), (259, 1), (271, 1), (273, 1), (291, 2), (294, 1), (295, 1), (298, 1), (307, 1), (309, 1), (329, 2), (331, 1), (340, 2), (341, 1), (351, 1), (353, 4), (355, 2), (364, 1), (384, 1), (387, 2), (393, 1), (415, 8), (425, 1), (429, 1), (438, 13), (440, 3), (455, 7), (469, 1), (481, 1), (488, 2), (495, 1), (505, 2), (527, 1), (535, 16), (544, 1), (545, 1), (594, 3), (595, 1), (631, 2), (632, 1), (646, 3), (654, 1), (677, 1), (680, 1), (681, 1), (685, 2), (690, 1), (705, 3), (706, 3), (719, 1), (731, 1), (732, 1), (741, 1), (752, 1), (764, 1), (765, 1), (768, 1), (773, 1), (789, 1), (801, 3), (808, 1), (828, 1), (836, 5), (869, 1), (901, 1), (905, 3), (914, 1), (923, 1), (927, 1), (937, 1), (945, 1), (954, 3), (971, 1), (1000, 3), (1017, 2), (1025, 2), (1029, 1), (1033, 3), (1036, 2), (1091, 3), (1128, 1), (1131, 2), (1133, 1), (1136, 1), (1143, 2), (1161, 4), (1171, 3), (1204, 1), (1234, 1), (1270, 13), (1272, 1), (1282, 1), (1290, 1), (1295, 1), (1299, 7), (1304, 2), (1315, 2), (1323, 1), (1335, 1), (1386, 1), (1389, 1), (1450, 1), (1484, 1), (1486, 3), (1495, 1), (1501, 2), (1502, 1), (1513, 1), (1524, 1), (1527, 1), (1533, 1), (1562, 1), (1630, 3), (1641, 2), (1647, 1), (1682, 4), (1683, 1), (1695, 1), (1718, 9), (1727, 1), (1769, 1), (1796, 1), (1843, 1), (1863, 2), (1879, 1), (1912, 1), (1959, 1), (2022, 1), (2048, 1), (2058, 1), (2096, 1), (2105, 1), (2122, 1), (2177, 1), (2307, 1), (2321, 1), (2327, 1), (2404, 1), (2423, 1), (2433, 1), (2494, 3), (2552, 1), (2597, 1), (2667, 2), (2671, 2), (2679, 2), (2682, 5), (2688, 3), (2765, 1), (2815, 1), (2816, 2), (2854, 1), (3022, 1), (3068, 1), (3072, 1), (3116, 1), (3155, 1), (3207, 1), (3230, 1), (3276, 1), (3290, 2), (3294, 1), (3408, 1), (3486, 1), (3500, 1), (3768, 1), (3830, 1), (3878, 1), (4117, 1), (4144, 1), (4213, 1), (4252, 1), (4271, 1), (4513, 2), (4587, 1), (4630, 1), (4675, 1), (4690, 1), (4970, 1), (5021, 4), (5134, 1), (5261, 1), (5278, 1), (5808, 1), (6026, 1), (6161, 1), (6260, 1), (6462, 1), (6479, 1), (6576, 1), (6692, 1), (6742, 1), (6990, 1), (7175, 1), (7220, 13), (7329, 1), (7515, 1), (7622, 1), (7628, 1), (7703, 1), (8602, 2), (8603, 1), (8604, 6), (8605, 1), (8606, 1), (8607, 1), (8608, 1), (8609, 1), (8610, 2), (8611, 1), (8612, 1), (8613, 1), (8614, 1), (8615, 2), (8616, 1), (8617, 1), (8618, 1), (8619, 1), (8620, 1), (8621, 1), (8622, 1), (8623, 1), (8624, 1), (8625, 5)], [(0, 1), (9, 1), (10, 1), (17, 1), (20, 1), (25, 1), (36, 1), (40, 1), (48, 1), (53, 1), (61, 2), (64, 1), (69, 1), (72, 5), (76, 3), (79, 1), (85, 1), (87, 9), (93, 1), (97, 1), (112, 1), (122, 2), (145, 1), (155, 2), (165, 2), (166, 1), (169, 4), (170, 1), (178, 2), (181, 1), (193, 1), (196, 1), (206, 1), (209, 1), (217, 1), (224, 3), (241, 5), (247, 1), (252, 1), (259, 1), (260, 1), (271, 4), (277, 6), (283, 1), (288, 1), (293, 1), (297, 2), (299, 1), (300, 1), (303, 1), (309, 3), (311, 1), (313, 3), (326, 2), (328, 1), (346, 2), (351, 1), (352, 1), (358, 2), (361, 2), (363, 4), (364, 4), (367, 1), (369, 1), (384, 1), (385, 2), (387, 1), (390, 2), (396, 1), (397, 1), (399, 1), (409, 2), (414, 1), (415, 19), (416, 10), (417, 2), (420, 1), (421, 1), (422, 7), (438, 1), (440, 4), (450, 1), (455, 4), (457, 1), (462, 2), (465, 3), (476, 1), (484, 5), (485, 1), (488, 1), (492, 2), (493, 1), (503, 3), (510, 1), (515, 5), (523, 4), (527, 2), (535, 31), (539, 1), (541, 2), (542, 3), (545, 1), (553, 2), (562, 2), (585, 1), (586, 2), (599, 1), (614, 1), (617, 1), (618, 1), (620, 1), (630, 2), (631, 3), (633, 3), (635, 7), (638, 1), (644, 1), (646, 5), (652, 2), (659, 1), (663, 2), (664, 3), (666, 2), (669, 1), (680, 6), (681, 1), (685, 1), (688, 4), (723, 2), (744, 1), (750, 1), (752, 4), (759, 2), (765, 2), (768, 1), (782, 2), (783, 2), (784, 1), (787, 2), (788, 1), (798, 1), (801, 1), (803, 1), (806, 1), (815, 1), (817, 1), (825, 1), (860, 1), (869, 2), (891, 3), (894, 1), (910, 1), (927, 6), (932, 1), (934, 1), (944, 1), (945, 1), (946, 1), (952, 1), (956, 2), (965, 1), (966, 2), (969, 1), (987, 6), (992, 1), (1003, 2), (1016, 1), (1017, 1), (1025, 2), (1033, 6), (1042, 2), (1067, 1), (1081, 1), (1082, 1), (1084, 17), (1086, 1), (1089, 2), (1094, 2), (1103, 1), (1105, 6), (1106, 1), (1108, 3), (1126, 2), (1133, 1), (1137, 2), (1139, 9), (1156, 1), (1159, 3), (1161, 1), (1171, 1), (1172, 2), (1176, 1), (1184, 1), (1200, 2), (1201, 2), (1206, 1), (1207, 1), (1209, 1), (1218, 2), (1223, 1), (1232, 1), (1236, 1), (1247, 1), (1256, 2), (1267, 1), (1284, 2), (1287, 3), (1290, 2), (1291, 2), (1299, 5), (1304, 1), (1306, 1), (1307, 1), (1309, 1), (1312, 1), (1320, 1), (1324, 1), (1333, 19), (1343, 1), (1344, 1), (1351, 1), (1355, 1), (1360, 2), (1374, 1), (1376, 1), (1380, 1), (1381, 1), (1387, 1), (1389, 2), (1402, 2), (1415, 2), (1417, 1), (1432, 1), (1440, 1), (1446, 1), (1451, 1), (1463, 1), (1466, 1), (1468, 1), (1475, 1), (1486, 1), (1495, 4), (1501, 1), (1505, 1), (1524, 3), (1543, 1), (1562, 1), (1577, 2), (1580, 3), (1584, 4), (1591, 1), (1613, 4), (1633, 1), (1644, 1), (1646, 1), (1648, 1), (1659, 1), (1683, 1), (1693, 1), (1725, 1), (1727, 2), (1737, 1), (1748, 1), (1759, 1), (1810, 1), (1838, 1), (1869, 1), (1879, 1), (1890, 1), (1892, 1), (1918, 2), (1930, 4), (1952, 1), (1965, 4), (1993, 1), (2010, 1), (2019, 1), (2021, 1), (2039, 1), (2060, 1), (2064, 2), (2068, 1), (2075, 1), (2077, 1), (2082, 5), (2122, 1), (2133, 1), (2136, 2), (2159, 1), (2160, 2), (2163, 1), (2170, 1), (2178, 1), (2188, 2), (2205, 1), (2262, 1), (2277, 1), (2297, 6), (2300, 2), (2357, 2), (2366, 1), (2368, 1), (2373, 1), (2374, 6), (2388, 1), (2396, 1), (2400, 1), (2423, 2), (2426, 2), (2437, 1), (2449, 1), (2459, 2), (2466, 2), (2478, 3), (2494, 1), (2523, 1), (2528, 1), (2545, 1), (2567, 1), (2630, 1), (2664, 2), (2685, 1), (2732, 1), (2752, 1), (2766, 3), (2778, 6), (2781, 1), (2791, 1), (2799, 2), (2824, 1), (2842, 3), (2845, 1), (2850, 2), (2915, 1), (2957, 1), (2962, 1), (2969, 3), (3000, 1), (3060, 1), (3128, 1), (3180, 1), (3192, 1), (3211, 4), (3212, 1), (3236, 3), (3237, 1), (3239, 1), (3279, 1), (3296, 1), (3408, 1), (3460, 1), (3495, 1), (3520, 3), (3543, 1), (3561, 1), (3576, 1), (3593, 2), (3624, 1), (3680, 1), (3735, 1), (3750, 1), (3759, 1), (3785, 2), (3797, 1), (3847, 1), (3877, 1), (3906, 1), (4197, 1), (4212, 1), (4228, 1), (4232, 2), (4277, 1), (4311, 1), (4313, 1), (4323, 1), (4339, 1), (4349, 1), (4370, 1), (4380, 1), (4409, 1), (4417, 1), (4431, 1), (4483, 6), (4523, 1), (4527, 9), (4560, 1), (4622, 1), (4655, 1), (4780, 1), (4796, 1), (4910, 1), (5053, 1), (5078, 1), (5218, 1), (5219, 2), (5257, 1), (5262, 1), (5373, 2), (5378, 1), (5400, 1), (5447, 2), (5456, 1), (5486, 3), (5492, 1), (5552, 1), (5601, 1), (5613, 1), (5719, 1), (5804, 1), (5806, 1), (5815, 1), (5877, 1), (5991, 1), (6168, 2), (6216, 1), (6218, 1), (6268, 5), (6303, 1), (6622, 1), (6667, 1), (6678, 2), (6812, 1), (7097, 1), (7154, 1), (7155, 8), (7404, 1), (7508, 1), (7517, 1), (7565, 1), (7597, 1), (7600, 1), (7612, 1), (8186, 1), (8503, 1), (8626, 1), (8627, 2), (8628, 1), (8629, 1), (8630, 2), (8631, 1), (8632, 3), (8633, 1), (8634, 1), (8635, 1), (8636, 1), (8637, 1), (8638, 1), (8639, 1), (8640, 3), (8641, 1), (8642, 2), (8643, 1), (8644, 1), (8645, 1), (8646, 1), (8647, 1), (8648, 1), (8649, 3), (8650, 1), (8651, 2), (8652, 1), (8653, 5), (8654, 2), (8655, 1), (8656, 3), (8657, 1), (8658, 2), (8659, 7), (8660, 1), (8661, 1), (8662, 1), (8663, 1), (8664, 1), (8665, 1), (8666, 2), (8667, 1), (8668, 1)], [(1, 1), (13, 1), (14, 1), (36, 2), (54, 1), (86, 1), (87, 2), (92, 2), (97, 1), (99, 1), (113, 1), (122, 1), (132, 1), (133, 1), (136, 1), (149, 1), (164, 1), (169, 2), (181, 1), (199, 1), (202, 1), (204, 1), (224, 1), (241, 1), (247, 1), (249, 1), (250, 1), (252, 4), (256, 1), (258, 1), (277, 6), (294, 1), (298, 1), (301, 1), (303, 2), (304, 2), (306, 1), (340, 1), (346, 2), (347, 1), (354, 1), (359, 2), (361, 4), (363, 2), (364, 1), (371, 1), (376, 6), (396, 1), (397, 1), (409, 2), (414, 1), (416, 21), (417, 3), (421, 2), (422, 3), (434, 1), (440, 3), (445, 1), (450, 1), (452, 1), (455, 1), (473, 1), (479, 1), (481, 1), (482, 1), (492, 2), (498, 1), (503, 1), (506, 1), (523, 1), (527, 2), (535, 11), (539, 1), (541, 2), (565, 1), (570, 2), (575, 1), (590, 1), (594, 2), (613, 1), (614, 3), (620, 1), (633, 3), (636, 1), (654, 1), (661, 1), (662, 1), (664, 1), (678, 1), (680, 1), (681, 2), (685, 1), (688, 2), (706, 1), (708, 1), (723, 2), (729, 1), (743, 1), (759, 2), (765, 1), (797, 1), (798, 1), (805, 1), (815, 1), (825, 1), (842, 1), (844, 1), (849, 1), (850, 1), (857, 6), (864, 1), (906, 1), (914, 1), (945, 1), (960, 1), (965, 1), (966, 3), (1025, 1), (1034, 1), (1081, 1), (1082, 1), (1092, 1), (1103, 1), (1123, 1), (1129, 1), (1131, 1), (1134, 1), (1138, 2), (1143, 2), (1156, 1), (1159, 2), (1166, 1), (1172, 1), (1173, 1), (1200, 2), (1201, 1), (1208, 1), (1209, 1), (1225, 1), (1229, 1), (1237, 1), (1263, 1), (1276, 1), (1284, 2), (1288, 1), (1304, 1), (1318, 1), (1386, 4), (1389, 4), (1401, 1), (1416, 1), (1417, 2), (1440, 2), (1450, 3), (1482, 1), (1483, 1), (1505, 1), (1524, 1), (1546, 1), (1602, 2), (1613, 1), (1614, 1), (1629, 1), (1633, 1), (1637, 1), (1646, 9), (1647, 1), (1684, 1), (1693, 1), (1700, 1), (1713, 1), (1763, 1), (1784, 1), (1799, 1), (1838, 1), (1880, 1), (1895, 1), (1944, 1), (1954, 1), (2053, 1), (2088, 1), (2113, 1), (2210, 1), (2215, 1), (2268, 1), (2376, 1), (2398, 1), (2400, 1), (2418, 2), (2423, 2), (2449, 1), (2519, 1), (2709, 1), (2713, 2), (2718, 1), (2766, 2), (2820, 4), (2845, 1), (2854, 1), (3009, 1), (3021, 2), (3092, 1), (3115, 1), (3338, 1), (3426, 1), (3524, 1), (3569, 1), (3576, 1), (3605, 1), (3658, 1), (3707, 1), (3737, 3), (3754, 1), (3777, 2), (3791, 1), (3794, 1), (3885, 1), (3905, 1), (4133, 1), (4339, 1), (4421, 1), (4584, 1), (4697, 1), (4774, 2), (4831, 1), (4838, 1), (4874, 1), (4943, 1), (4951, 6), (5145, 1), (5386, 2), (5539, 1), (5714, 1), (5732, 1), (5783, 1), (5979, 1), (6058, 1), (6099, 1), (6147, 7), (6219, 2), (6229, 1), (6330, 2), (6471, 1), (6532, 1), (6702, 2), (7235, 1), (7368, 1), (7460, 1), (7503, 1), (8063, 1), (8495, 1), (8533, 1), (8669, 22), (8670, 1), (8671, 1), (8672, 1), (8673, 1), (8674, 1), (8675, 1), (8676, 3), (8677, 1), (8678, 1), (8679, 1), (8680, 1), (8681, 1), (8682, 2), (8683, 2), (8684, 1), (8685, 1), (8686, 1), (8687, 1), (8688, 1), (8689, 1), (8690, 1), (8691, 1), (8692, 1)]]\n"
     ]
    }
   ],
   "source": [
    "doc_term = [dictionary.doc2bow(text) for text in articles]\n",
    "print(doc_term)"
   ]
  },
  {
   "cell_type": "code",
   "execution_count": 162,
   "id": "f8cd4a9b-b310-4b39-ad1a-77d90be9d03b",
   "metadata": {},
   "outputs": [],
   "source": [
    "#applying LDA\n",
    "num_topics = 2\n",
    "lda_model = gensim.models.LdaModel(corpus=doc_term,\n",
    "                                   id2word=dictionary,\n",
    "                                   num_topics=num_topics)\n",
    "#we chose 2 topics"
   ]
  },
  {
   "cell_type": "code",
   "execution_count": 163,
   "id": "8e1db5ac-991e-4f34-a3b9-8c6a5397c7ab",
   "metadata": {},
   "outputs": [
    {
     "data": {
      "text/plain": [
       "[(0,\n",
       "  '0.018*\"mr\" + 0.014*\"said\" + 0.005*\"trump\" + 0.005*\"would\" + 0.005*\"state\"'),\n",
       " (1,\n",
       "  '0.016*\"mr\" + 0.015*\"said\" + 0.006*\"trump\" + 0.005*\"one\" + 0.004*\"would\"')]"
      ]
     },
     "execution_count": 163,
     "metadata": {},
     "output_type": "execute_result"
    }
   ],
   "source": [
    "lda_model.print_topics(num_topics=num_topics,num_words=5)\n",
    "#for each topic 5 words"
   ]
  },
  {
   "cell_type": "markdown",
   "id": "b3c5e9d0-c8ef-4d2f-96e7-6e31c1aa6655",
   "metadata": {},
   "source": [
    "**2-LSA : Latent Semantic Analysis**\n",
    "*  Distributional Hypothesis : words with similar meanings appear frequently together\n",
    "*  Singular Value Decomposition (SVD) : recreates text documents into different vectos"
   ]
  },
  {
   "cell_type": "markdown",
   "id": "27391940-9940-437e-9599-33e25918b5fd",
   "metadata": {},
   "source": [
    "<img src=\"SVD.PNG\">"
   ]
  },
  {
   "cell_type": "markdown",
   "id": "b115b2b0-dc4e-482f-9614-91d43a4460f2",
   "metadata": {},
   "source": [
    "* SVD is a method of dimensionality reduction\n",
    "* Similarities can be identified by : Clustering / Similarity Scores"
   ]
  },
  {
   "cell_type": "code",
   "execution_count": 167,
   "id": "352d082a-e2cb-4151-a7cf-a6006fa58d69",
   "metadata": {},
   "outputs": [],
   "source": [
    "from gensim.models import LsiModel"
   ]
  },
  {
   "cell_type": "code",
   "execution_count": 168,
   "id": "6589a0a8-1b49-4e7c-963e-066cfbde9425",
   "metadata": {},
   "outputs": [],
   "source": [
    "lsa_model = LsiModel(corpus=doc_term, id2word=dictionary , num_topics=num_topics)"
   ]
  },
  {
   "cell_type": "code",
   "execution_count": 169,
   "id": "2b08f5bc-033a-48fb-bdef-f68f629af46f",
   "metadata": {},
   "outputs": [
    {
     "name": "stdout",
     "output_type": "stream",
     "text": [
      "[(0, '0.615*\"mr\" + 0.429*\"said\" + 0.187*\"trump\" + 0.130*\"state\" + 0.119*\"would\"'), (1, '-0.537*\"mr\" + -0.319*\"trump\" + 0.286*\"said\" + 0.242*\"saudi\" + 0.142*\"weight\"')]\n"
     ]
    }
   ],
   "source": [
    "print(lsa_model.print_topics(num_topics=num_topics, num_words=5))"
   ]
  },
  {
   "cell_type": "code",
   "execution_count": 170,
   "id": "da92a053-b350-41c6-b47d-1edb224b1194",
   "metadata": {},
   "outputs": [],
   "source": [
    "from gensim.models.coherencemodel import CoherenceModel\n",
    "import matplotlib.pyplot as plt"
   ]
  },
  {
   "cell_type": "markdown",
   "id": "582bf85d-056c-4402-93ea-53ed1e9742a9",
   "metadata": {},
   "source": [
    "* 1- Trains multiple LSI models with different numbers of topics (e.g., 2, 3, ..., 10)\n",
    "* 2- Evaluates each model's coherence score\n",
    "* 3- Stores all models and their scores for later use — such as choosing the best number of topics\n",
    "* => You can later plot coherence_values vs num_topics_i to see which number of topics gives the most meaningful and interpretable result."
   ]
  },
  {
   "cell_type": "code",
   "execution_count": null,
   "id": "427c73d4-3f8d-47c9-913a-311312b2c122",
   "metadata": {},
   "outputs": [],
   "source": [
    "coherence_values=[]\n",
    "model_list = []\n",
    "min_topics = 2 \n",
    "max_topics = 11\n",
    "# Loop over a range of topic numbers (e.g., from 2 to 10)\n",
    "for num_topics_i in range(min_topics, max_topics + 1):\n",
    "    # Train an LSI (Latent Semantic Indexing) model with 'num_topics_i' topics\n",
    "    model = LsiModel(corpus=doc_term, id2word=dictionary, num_topics=num_topics_i)\n",
    "    # Save the trained model to a list for later use or comparison\n",
    "    model_list.append(model)\n",
    "    # Build a coherence model for evaluation (how \"understandable\" or \"human-readable\" the topics are)\n",
    "    coherence_model = CoherenceModel(\n",
    "        model=model,            # the LSI model we just trained\n",
    "        texts=articles,         # the original preprocessed texts (tokenized)\n",
    "        dictionary=dictionary,  # the same dictionary used to train the model\n",
    "        coherence='c_v'         # use the 'c_v' coherence metric (a common choice for topic modeling)\n",
    "    )\n",
    "    # Compute the coherence score and store it in a list for comparison\n",
    "    coherence_values.append(coherence_model.get_coherence())"
   ]
  },
  {
   "cell_type": "code",
   "execution_count": null,
   "id": "8a9e5fe4-874a-47c4-808b-cecca3eeeb8e",
   "metadata": {},
   "outputs": [],
   "source": [
    "plt.plot(range(min_topics, max_topics+1), coherence_values)\n",
    "plt.xlabel(\"Number of Topics\")\n",
    "plt.ylabel(\"Coherence score\")\n",
    "plt.legend((\"coherence_values\"), loc='best')\n",
    "plt.show()"
   ]
  },
  {
   "cell_type": "markdown",
   "id": "12290a5d-cd8b-492b-9961-fe4eae17a9a9",
   "metadata": {},
   "source": [
    "* => we chose the number 3 since it has the highest coherence score"
   ]
  },
  {
   "cell_type": "code",
   "execution_count": null,
   "id": "b10baceb-5293-44f3-8560-8022331de667",
   "metadata": {},
   "outputs": [],
   "source": [
    "final_n_topics = 3\n",
    "lsamodel_f = LsiModel(doc_term, num_topics=final_n_topics, id2word = dictionary) \n",
    "print(lsamodel_f.print_topics(num_topics=final_n_topics, num_words=5))"
   ]
  },
  {
   "cell_type": "code",
   "execution_count": null,
   "id": "dd9d8a26-f8b1-45d6-9e68-21fc4b9f4a3a",
   "metadata": {},
   "outputs": [],
   "source": []
  },
  {
   "cell_type": "markdown",
   "id": "65a417e6-c7ee-49df-98fa-946c4c289a09",
   "metadata": {
    "jp-MarkdownHeadingCollapsed": true
   },
   "source": [
    "# 7-Custom Text Classifier\n",
    "* classifying text using custom labels to create a custom classifier\n",
    "* supervised machine learning problem\n",
    "* Logistic Regression / Naive Bayes / Linear SVM (support vector machine)"
   ]
  },
  {
   "cell_type": "markdown",
   "id": "208339d4-caa3-4c30-95d3-07ca27b91081",
   "metadata": {},
   "source": [
    "<img src=\"Logistic-Regression-Machine-Learning.jpg\">\n",
    "<img src=\"naiveBayes.png\">\n",
    "<img src=\"SVM.png\">"
   ]
  },
  {
   "cell_type": "code",
   "execution_count": 2,
   "id": "080a1b82-b610-49a6-bc4e-96bd0cb418df",
   "metadata": {},
   "outputs": [],
   "source": [
    "import pandas as pd\n",
    "from sklearn.feature_extraction.text import CountVectorizer\n",
    "from sklearn.model_selection import train_test_split\n",
    "from sklearn.linear_model import LogisticRegression\n",
    "from sklearn.metrics import accuracy_score, classification_report"
   ]
  },
  {
   "cell_type": "code",
   "execution_count": 4,
   "id": "6cb83612-bc50-442b-965c-193bbc0899b5",
   "metadata": {},
   "outputs": [],
   "source": [
    "data = pd.DataFrame([(\"i love spending time with my friends and family\", \"positive\"),\n",
    "                     (\"that was the best meal i've ever had in my life\", \"positive\"),\n",
    "                     (\"i feel so grateful for everything i have in my life\", \"positive\"),\n",
    "                     (\"i received a promotion at work and i couldn't be happier\", \"positive\"),\n",
    "                     (\"watching a beautiful sunset always fills me with joy\", \"positive\"),\n",
    "                     (\"my partner surprised me with a thoughtful gift and it made my day\", \"positive\"),\n",
    "                     (\"i am so proud of my daughter for graduating with honors\", \"positive\"),\n",
    "                     (\"listening to my favorite music always puts me in a good mood\", \"positive\"),\n",
    "                     (\"i love the feeling of accomplishment after completing a challenging task\", \"positive\"),\n",
    "                     (\"i am excited to go on vacation next week\", \"positive\"),\n",
    "                     (\"i feel so overwhelmed with work and responsibilities\", \"negative\"),\n",
    "                     (\"the traffic during my commute is always so frustrating\", \"negative\"),\n",
    "                     (\"i received a parking ticket and it ruined my day\", \"negative\"),\n",
    "                     (\"i got into an argument with my partner and we're not speaking\", \"negative\"),\n",
    "                     (\"i have a headache and i feel terrible\", \"negative\"),\n",
    "                     (\"i received a rejection letter for the job i really wanted\", \"negative\"),\n",
    "                     (\"my car broke down and it's going to be expensive to fix\", \"negative\"),\n",
    "                     (\"i'm feeling sad because i miss my friends who live far away\", \"negative\"),\n",
    "                     (\"i'm frustrated because i can't seem to make progress on my project\", \"negative\"),\n",
    "                     (\"i'm disappointed because my team lost the game\", \"negative\")\n",
    "                    ],\n",
    "                    columns=['text', 'sentiment'])"
   ]
  },
  {
   "cell_type": "code",
   "execution_count": 12,
   "id": "1fec2118-9757-4529-8aa0-7cf51a842f7d",
   "metadata": {},
   "outputs": [],
   "source": [
    "#data shuffling (nice mix of positive and negative sentiments)\n",
    "data = data.sample(frac=1).reset_index(drop=True)"
   ]
  },
  {
   "cell_type": "code",
   "execution_count": 14,
   "id": "d03e2352-331c-4caf-9469-aef689f8c60b",
   "metadata": {},
   "outputs": [],
   "source": [
    "#data and label\n",
    "X = data['text']\n",
    "y = data['sentiment']"
   ]
  },
  {
   "cell_type": "code",
   "execution_count": 40,
   "id": "bfba09b2-3ef8-49fe-872c-114207eb078d",
   "metadata": {},
   "outputs": [
    {
     "data": {
      "text/html": [
       "<div>\n",
       "<style scoped>\n",
       "    .dataframe tbody tr th:only-of-type {\n",
       "        vertical-align: middle;\n",
       "    }\n",
       "\n",
       "    .dataframe tbody tr th {\n",
       "        vertical-align: top;\n",
       "    }\n",
       "\n",
       "    .dataframe thead th {\n",
       "        text-align: right;\n",
       "    }\n",
       "</style>\n",
       "<table border=\"1\" class=\"dataframe\">\n",
       "  <thead>\n",
       "    <tr style=\"text-align: right;\">\n",
       "      <th></th>\n",
       "      <th>accomplishment</th>\n",
       "      <th>after</th>\n",
       "      <th>always</th>\n",
       "      <th>am</th>\n",
       "      <th>an</th>\n",
       "      <th>and</th>\n",
       "      <th>argument</th>\n",
       "      <th>at</th>\n",
       "      <th>away</th>\n",
       "      <th>be</th>\n",
       "      <th>...</th>\n",
       "      <th>vacation</th>\n",
       "      <th>ve</th>\n",
       "      <th>wanted</th>\n",
       "      <th>was</th>\n",
       "      <th>watching</th>\n",
       "      <th>we</th>\n",
       "      <th>week</th>\n",
       "      <th>who</th>\n",
       "      <th>with</th>\n",
       "      <th>work</th>\n",
       "    </tr>\n",
       "  </thead>\n",
       "  <tbody>\n",
       "    <tr>\n",
       "      <th>0</th>\n",
       "      <td>0</td>\n",
       "      <td>0</td>\n",
       "      <td>0</td>\n",
       "      <td>0</td>\n",
       "      <td>0</td>\n",
       "      <td>1</td>\n",
       "      <td>0</td>\n",
       "      <td>0</td>\n",
       "      <td>0</td>\n",
       "      <td>0</td>\n",
       "      <td>...</td>\n",
       "      <td>0</td>\n",
       "      <td>0</td>\n",
       "      <td>0</td>\n",
       "      <td>0</td>\n",
       "      <td>0</td>\n",
       "      <td>0</td>\n",
       "      <td>0</td>\n",
       "      <td>0</td>\n",
       "      <td>1</td>\n",
       "      <td>0</td>\n",
       "    </tr>\n",
       "    <tr>\n",
       "      <th>1</th>\n",
       "      <td>0</td>\n",
       "      <td>0</td>\n",
       "      <td>0</td>\n",
       "      <td>0</td>\n",
       "      <td>0</td>\n",
       "      <td>1</td>\n",
       "      <td>0</td>\n",
       "      <td>0</td>\n",
       "      <td>0</td>\n",
       "      <td>0</td>\n",
       "      <td>...</td>\n",
       "      <td>0</td>\n",
       "      <td>0</td>\n",
       "      <td>0</td>\n",
       "      <td>0</td>\n",
       "      <td>0</td>\n",
       "      <td>0</td>\n",
       "      <td>0</td>\n",
       "      <td>0</td>\n",
       "      <td>1</td>\n",
       "      <td>1</td>\n",
       "    </tr>\n",
       "    <tr>\n",
       "      <th>2</th>\n",
       "      <td>0</td>\n",
       "      <td>0</td>\n",
       "      <td>0</td>\n",
       "      <td>0</td>\n",
       "      <td>0</td>\n",
       "      <td>0</td>\n",
       "      <td>0</td>\n",
       "      <td>0</td>\n",
       "      <td>0</td>\n",
       "      <td>0</td>\n",
       "      <td>...</td>\n",
       "      <td>0</td>\n",
       "      <td>0</td>\n",
       "      <td>1</td>\n",
       "      <td>0</td>\n",
       "      <td>0</td>\n",
       "      <td>0</td>\n",
       "      <td>0</td>\n",
       "      <td>0</td>\n",
       "      <td>0</td>\n",
       "      <td>0</td>\n",
       "    </tr>\n",
       "    <tr>\n",
       "      <th>3</th>\n",
       "      <td>0</td>\n",
       "      <td>0</td>\n",
       "      <td>1</td>\n",
       "      <td>0</td>\n",
       "      <td>0</td>\n",
       "      <td>0</td>\n",
       "      <td>0</td>\n",
       "      <td>0</td>\n",
       "      <td>0</td>\n",
       "      <td>0</td>\n",
       "      <td>...</td>\n",
       "      <td>0</td>\n",
       "      <td>0</td>\n",
       "      <td>0</td>\n",
       "      <td>0</td>\n",
       "      <td>0</td>\n",
       "      <td>0</td>\n",
       "      <td>0</td>\n",
       "      <td>0</td>\n",
       "      <td>0</td>\n",
       "      <td>0</td>\n",
       "    </tr>\n",
       "    <tr>\n",
       "      <th>4</th>\n",
       "      <td>0</td>\n",
       "      <td>0</td>\n",
       "      <td>0</td>\n",
       "      <td>0</td>\n",
       "      <td>0</td>\n",
       "      <td>0</td>\n",
       "      <td>0</td>\n",
       "      <td>0</td>\n",
       "      <td>0</td>\n",
       "      <td>0</td>\n",
       "      <td>...</td>\n",
       "      <td>0</td>\n",
       "      <td>0</td>\n",
       "      <td>0</td>\n",
       "      <td>0</td>\n",
       "      <td>0</td>\n",
       "      <td>0</td>\n",
       "      <td>0</td>\n",
       "      <td>0</td>\n",
       "      <td>0</td>\n",
       "      <td>0</td>\n",
       "    </tr>\n",
       "    <tr>\n",
       "      <th>5</th>\n",
       "      <td>0</td>\n",
       "      <td>0</td>\n",
       "      <td>0</td>\n",
       "      <td>0</td>\n",
       "      <td>0</td>\n",
       "      <td>0</td>\n",
       "      <td>0</td>\n",
       "      <td>0</td>\n",
       "      <td>0</td>\n",
       "      <td>0</td>\n",
       "      <td>...</td>\n",
       "      <td>0</td>\n",
       "      <td>0</td>\n",
       "      <td>0</td>\n",
       "      <td>0</td>\n",
       "      <td>0</td>\n",
       "      <td>0</td>\n",
       "      <td>0</td>\n",
       "      <td>0</td>\n",
       "      <td>0</td>\n",
       "      <td>0</td>\n",
       "    </tr>\n",
       "    <tr>\n",
       "      <th>6</th>\n",
       "      <td>0</td>\n",
       "      <td>0</td>\n",
       "      <td>0</td>\n",
       "      <td>1</td>\n",
       "      <td>0</td>\n",
       "      <td>0</td>\n",
       "      <td>0</td>\n",
       "      <td>0</td>\n",
       "      <td>0</td>\n",
       "      <td>0</td>\n",
       "      <td>...</td>\n",
       "      <td>0</td>\n",
       "      <td>0</td>\n",
       "      <td>0</td>\n",
       "      <td>0</td>\n",
       "      <td>0</td>\n",
       "      <td>0</td>\n",
       "      <td>0</td>\n",
       "      <td>0</td>\n",
       "      <td>1</td>\n",
       "      <td>0</td>\n",
       "    </tr>\n",
       "    <tr>\n",
       "      <th>7</th>\n",
       "      <td>0</td>\n",
       "      <td>0</td>\n",
       "      <td>0</td>\n",
       "      <td>0</td>\n",
       "      <td>1</td>\n",
       "      <td>1</td>\n",
       "      <td>1</td>\n",
       "      <td>0</td>\n",
       "      <td>0</td>\n",
       "      <td>0</td>\n",
       "      <td>...</td>\n",
       "      <td>0</td>\n",
       "      <td>0</td>\n",
       "      <td>0</td>\n",
       "      <td>0</td>\n",
       "      <td>0</td>\n",
       "      <td>1</td>\n",
       "      <td>0</td>\n",
       "      <td>0</td>\n",
       "      <td>1</td>\n",
       "      <td>0</td>\n",
       "    </tr>\n",
       "    <tr>\n",
       "      <th>8</th>\n",
       "      <td>0</td>\n",
       "      <td>0</td>\n",
       "      <td>0</td>\n",
       "      <td>0</td>\n",
       "      <td>0</td>\n",
       "      <td>1</td>\n",
       "      <td>0</td>\n",
       "      <td>0</td>\n",
       "      <td>0</td>\n",
       "      <td>0</td>\n",
       "      <td>...</td>\n",
       "      <td>0</td>\n",
       "      <td>0</td>\n",
       "      <td>0</td>\n",
       "      <td>0</td>\n",
       "      <td>0</td>\n",
       "      <td>0</td>\n",
       "      <td>0</td>\n",
       "      <td>0</td>\n",
       "      <td>0</td>\n",
       "      <td>0</td>\n",
       "    </tr>\n",
       "    <tr>\n",
       "      <th>9</th>\n",
       "      <td>0</td>\n",
       "      <td>0</td>\n",
       "      <td>1</td>\n",
       "      <td>0</td>\n",
       "      <td>0</td>\n",
       "      <td>0</td>\n",
       "      <td>0</td>\n",
       "      <td>0</td>\n",
       "      <td>0</td>\n",
       "      <td>0</td>\n",
       "      <td>...</td>\n",
       "      <td>0</td>\n",
       "      <td>0</td>\n",
       "      <td>0</td>\n",
       "      <td>0</td>\n",
       "      <td>1</td>\n",
       "      <td>0</td>\n",
       "      <td>0</td>\n",
       "      <td>0</td>\n",
       "      <td>1</td>\n",
       "      <td>0</td>\n",
       "    </tr>\n",
       "    <tr>\n",
       "      <th>10</th>\n",
       "      <td>0</td>\n",
       "      <td>0</td>\n",
       "      <td>0</td>\n",
       "      <td>0</td>\n",
       "      <td>0</td>\n",
       "      <td>0</td>\n",
       "      <td>0</td>\n",
       "      <td>0</td>\n",
       "      <td>0</td>\n",
       "      <td>0</td>\n",
       "      <td>...</td>\n",
       "      <td>0</td>\n",
       "      <td>0</td>\n",
       "      <td>0</td>\n",
       "      <td>0</td>\n",
       "      <td>0</td>\n",
       "      <td>0</td>\n",
       "      <td>0</td>\n",
       "      <td>0</td>\n",
       "      <td>0</td>\n",
       "      <td>0</td>\n",
       "    </tr>\n",
       "    <tr>\n",
       "      <th>11</th>\n",
       "      <td>0</td>\n",
       "      <td>0</td>\n",
       "      <td>0</td>\n",
       "      <td>0</td>\n",
       "      <td>0</td>\n",
       "      <td>1</td>\n",
       "      <td>0</td>\n",
       "      <td>1</td>\n",
       "      <td>0</td>\n",
       "      <td>1</td>\n",
       "      <td>...</td>\n",
       "      <td>0</td>\n",
       "      <td>0</td>\n",
       "      <td>0</td>\n",
       "      <td>0</td>\n",
       "      <td>0</td>\n",
       "      <td>0</td>\n",
       "      <td>0</td>\n",
       "      <td>0</td>\n",
       "      <td>0</td>\n",
       "      <td>1</td>\n",
       "    </tr>\n",
       "    <tr>\n",
       "      <th>12</th>\n",
       "      <td>0</td>\n",
       "      <td>0</td>\n",
       "      <td>1</td>\n",
       "      <td>0</td>\n",
       "      <td>0</td>\n",
       "      <td>0</td>\n",
       "      <td>0</td>\n",
       "      <td>0</td>\n",
       "      <td>0</td>\n",
       "      <td>0</td>\n",
       "      <td>...</td>\n",
       "      <td>0</td>\n",
       "      <td>0</td>\n",
       "      <td>0</td>\n",
       "      <td>0</td>\n",
       "      <td>0</td>\n",
       "      <td>0</td>\n",
       "      <td>0</td>\n",
       "      <td>0</td>\n",
       "      <td>0</td>\n",
       "      <td>0</td>\n",
       "    </tr>\n",
       "    <tr>\n",
       "      <th>13</th>\n",
       "      <td>0</td>\n",
       "      <td>0</td>\n",
       "      <td>0</td>\n",
       "      <td>0</td>\n",
       "      <td>0</td>\n",
       "      <td>1</td>\n",
       "      <td>0</td>\n",
       "      <td>0</td>\n",
       "      <td>0</td>\n",
       "      <td>1</td>\n",
       "      <td>...</td>\n",
       "      <td>0</td>\n",
       "      <td>0</td>\n",
       "      <td>0</td>\n",
       "      <td>0</td>\n",
       "      <td>0</td>\n",
       "      <td>0</td>\n",
       "      <td>0</td>\n",
       "      <td>0</td>\n",
       "      <td>0</td>\n",
       "      <td>0</td>\n",
       "    </tr>\n",
       "    <tr>\n",
       "      <th>14</th>\n",
       "      <td>0</td>\n",
       "      <td>0</td>\n",
       "      <td>0</td>\n",
       "      <td>1</td>\n",
       "      <td>0</td>\n",
       "      <td>0</td>\n",
       "      <td>0</td>\n",
       "      <td>0</td>\n",
       "      <td>0</td>\n",
       "      <td>0</td>\n",
       "      <td>...</td>\n",
       "      <td>1</td>\n",
       "      <td>0</td>\n",
       "      <td>0</td>\n",
       "      <td>0</td>\n",
       "      <td>0</td>\n",
       "      <td>0</td>\n",
       "      <td>1</td>\n",
       "      <td>0</td>\n",
       "      <td>0</td>\n",
       "      <td>0</td>\n",
       "    </tr>\n",
       "    <tr>\n",
       "      <th>15</th>\n",
       "      <td>0</td>\n",
       "      <td>0</td>\n",
       "      <td>0</td>\n",
       "      <td>0</td>\n",
       "      <td>0</td>\n",
       "      <td>0</td>\n",
       "      <td>0</td>\n",
       "      <td>0</td>\n",
       "      <td>0</td>\n",
       "      <td>0</td>\n",
       "      <td>...</td>\n",
       "      <td>0</td>\n",
       "      <td>1</td>\n",
       "      <td>0</td>\n",
       "      <td>1</td>\n",
       "      <td>0</td>\n",
       "      <td>0</td>\n",
       "      <td>0</td>\n",
       "      <td>0</td>\n",
       "      <td>0</td>\n",
       "      <td>0</td>\n",
       "    </tr>\n",
       "    <tr>\n",
       "      <th>16</th>\n",
       "      <td>0</td>\n",
       "      <td>0</td>\n",
       "      <td>0</td>\n",
       "      <td>0</td>\n",
       "      <td>0</td>\n",
       "      <td>0</td>\n",
       "      <td>0</td>\n",
       "      <td>0</td>\n",
       "      <td>1</td>\n",
       "      <td>0</td>\n",
       "      <td>...</td>\n",
       "      <td>0</td>\n",
       "      <td>0</td>\n",
       "      <td>0</td>\n",
       "      <td>0</td>\n",
       "      <td>0</td>\n",
       "      <td>0</td>\n",
       "      <td>0</td>\n",
       "      <td>1</td>\n",
       "      <td>0</td>\n",
       "      <td>0</td>\n",
       "    </tr>\n",
       "    <tr>\n",
       "      <th>17</th>\n",
       "      <td>0</td>\n",
       "      <td>0</td>\n",
       "      <td>0</td>\n",
       "      <td>0</td>\n",
       "      <td>0</td>\n",
       "      <td>1</td>\n",
       "      <td>0</td>\n",
       "      <td>0</td>\n",
       "      <td>0</td>\n",
       "      <td>0</td>\n",
       "      <td>...</td>\n",
       "      <td>0</td>\n",
       "      <td>0</td>\n",
       "      <td>0</td>\n",
       "      <td>0</td>\n",
       "      <td>0</td>\n",
       "      <td>0</td>\n",
       "      <td>0</td>\n",
       "      <td>0</td>\n",
       "      <td>0</td>\n",
       "      <td>0</td>\n",
       "    </tr>\n",
       "    <tr>\n",
       "      <th>18</th>\n",
       "      <td>1</td>\n",
       "      <td>1</td>\n",
       "      <td>0</td>\n",
       "      <td>0</td>\n",
       "      <td>0</td>\n",
       "      <td>0</td>\n",
       "      <td>0</td>\n",
       "      <td>0</td>\n",
       "      <td>0</td>\n",
       "      <td>0</td>\n",
       "      <td>...</td>\n",
       "      <td>0</td>\n",
       "      <td>0</td>\n",
       "      <td>0</td>\n",
       "      <td>0</td>\n",
       "      <td>0</td>\n",
       "      <td>0</td>\n",
       "      <td>0</td>\n",
       "      <td>0</td>\n",
       "      <td>0</td>\n",
       "      <td>0</td>\n",
       "    </tr>\n",
       "    <tr>\n",
       "      <th>19</th>\n",
       "      <td>0</td>\n",
       "      <td>0</td>\n",
       "      <td>0</td>\n",
       "      <td>0</td>\n",
       "      <td>0</td>\n",
       "      <td>1</td>\n",
       "      <td>0</td>\n",
       "      <td>0</td>\n",
       "      <td>0</td>\n",
       "      <td>0</td>\n",
       "      <td>...</td>\n",
       "      <td>0</td>\n",
       "      <td>0</td>\n",
       "      <td>0</td>\n",
       "      <td>0</td>\n",
       "      <td>0</td>\n",
       "      <td>0</td>\n",
       "      <td>0</td>\n",
       "      <td>0</td>\n",
       "      <td>1</td>\n",
       "      <td>0</td>\n",
       "    </tr>\n",
       "  </tbody>\n",
       "</table>\n",
       "<p>20 rows × 118 columns</p>\n",
       "</div>"
      ],
      "text/plain": [
       "    accomplishment  after  always  am  an  and  argument  at  away  be  ...  \\\n",
       "0                0      0       0   0   0    1         0   0     0   0  ...   \n",
       "1                0      0       0   0   0    1         0   0     0   0  ...   \n",
       "2                0      0       0   0   0    0         0   0     0   0  ...   \n",
       "3                0      0       1   0   0    0         0   0     0   0  ...   \n",
       "4                0      0       0   0   0    0         0   0     0   0  ...   \n",
       "5                0      0       0   0   0    0         0   0     0   0  ...   \n",
       "6                0      0       0   1   0    0         0   0     0   0  ...   \n",
       "7                0      0       0   0   1    1         1   0     0   0  ...   \n",
       "8                0      0       0   0   0    1         0   0     0   0  ...   \n",
       "9                0      0       1   0   0    0         0   0     0   0  ...   \n",
       "10               0      0       0   0   0    0         0   0     0   0  ...   \n",
       "11               0      0       0   0   0    1         0   1     0   1  ...   \n",
       "12               0      0       1   0   0    0         0   0     0   0  ...   \n",
       "13               0      0       0   0   0    1         0   0     0   1  ...   \n",
       "14               0      0       0   1   0    0         0   0     0   0  ...   \n",
       "15               0      0       0   0   0    0         0   0     0   0  ...   \n",
       "16               0      0       0   0   0    0         0   0     1   0  ...   \n",
       "17               0      0       0   0   0    1         0   0     0   0  ...   \n",
       "18               1      1       0   0   0    0         0   0     0   0  ...   \n",
       "19               0      0       0   0   0    1         0   0     0   0  ...   \n",
       "\n",
       "    vacation  ve  wanted  was  watching  we  week  who  with  work  \n",
       "0          0   0       0    0         0   0     0    0     1     0  \n",
       "1          0   0       0    0         0   0     0    0     1     1  \n",
       "2          0   0       1    0         0   0     0    0     0     0  \n",
       "3          0   0       0    0         0   0     0    0     0     0  \n",
       "4          0   0       0    0         0   0     0    0     0     0  \n",
       "5          0   0       0    0         0   0     0    0     0     0  \n",
       "6          0   0       0    0         0   0     0    0     1     0  \n",
       "7          0   0       0    0         0   1     0    0     1     0  \n",
       "8          0   0       0    0         0   0     0    0     0     0  \n",
       "9          0   0       0    0         1   0     0    0     1     0  \n",
       "10         0   0       0    0         0   0     0    0     0     0  \n",
       "11         0   0       0    0         0   0     0    0     0     1  \n",
       "12         0   0       0    0         0   0     0    0     0     0  \n",
       "13         0   0       0    0         0   0     0    0     0     0  \n",
       "14         1   0       0    0         0   0     1    0     0     0  \n",
       "15         0   1       0    1         0   0     0    0     0     0  \n",
       "16         0   0       0    0         0   0     0    1     0     0  \n",
       "17         0   0       0    0         0   0     0    0     0     0  \n",
       "18         0   0       0    0         0   0     0    0     0     0  \n",
       "19         0   0       0    0         0   0     0    0     1     0  \n",
       "\n",
       "[20 rows x 118 columns]"
      ]
     },
     "execution_count": 40,
     "metadata": {},
     "output_type": "execute_result"
    }
   ],
   "source": [
    "#text vectorization \n",
    "countvec= CountVectorizer()\n",
    "countvec_fit = countvec.fit_transform(X)\n",
    "bag_of_words = pd.DataFrame(countvec_fit.toarray(), columns = countvec.get_feature_names_out())\n",
    "bag_of_words"
   ]
  },
  {
   "cell_type": "code",
   "execution_count": 42,
   "id": "13f63d56-46fb-47c1-8f4a-8a5afc2e03ed",
   "metadata": {},
   "outputs": [],
   "source": [
    "# split into train(with vectorized data) and test data \n",
    "X_train, X_test, y_train, y_test = train_test_split(bag_of_words, y, test_size=0.3, random_state = 7)"
   ]
  },
  {
   "cell_type": "markdown",
   "id": "481c5f55-73df-4a8d-9f7a-90d8cfc14187",
   "metadata": {},
   "source": [
    "**1- Logistic regression :**"
   ]
  },
  {
   "cell_type": "code",
   "execution_count": 48,
   "id": "08b84263-eb2b-4ec4-9a90-a1b62e26fa4c",
   "metadata": {},
   "outputs": [
    {
     "data": {
      "text/plain": [
       "0.3333333333333333"
      ]
     },
     "execution_count": 48,
     "metadata": {},
     "output_type": "execute_result"
    }
   ],
   "source": [
    "lr = LogisticRegression(random_state=1).fit(X_train, y_train)\n",
    "y_pred_lr = lr.predict(X_test)\n",
    "accuracy_score(y_pred_lr, y_test)"
   ]
  },
  {
   "cell_type": "markdown",
   "id": "933a999b-cf44-42f2-abb6-65b49e1f25be",
   "metadata": {},
   "source": [
    "* ->very low accuarcy"
   ]
  },
  {
   "cell_type": "code",
   "execution_count": 51,
   "id": "5378bae4-515a-43f6-9ccc-edfa1fd2cfd1",
   "metadata": {},
   "outputs": [
    {
     "name": "stdout",
     "output_type": "stream",
     "text": [
      "              precision    recall  f1-score   support\n",
      "\n",
      "    negative       0.33      0.33      0.33         3\n",
      "    positive       0.33      0.33      0.33         3\n",
      "\n",
      "    accuracy                           0.33         6\n",
      "   macro avg       0.33      0.33      0.33         6\n",
      "weighted avg       0.33      0.33      0.33         6\n",
      "\n"
     ]
    }
   ],
   "source": [
    "print(classification_report(y_test, y_pred_lr, zero_division=0))"
   ]
  },
  {
   "cell_type": "code",
   "execution_count": 76,
   "id": "cefbdbbe-8708-495b-bd88-8e59cfb706b7",
   "metadata": {},
   "outputs": [
    {
     "data": {
      "text/plain": [
       "<sklearn.metrics._plot.confusion_matrix.ConfusionMatrixDisplay at 0x1bc38aff5f0>"
      ]
     },
     "execution_count": 76,
     "metadata": {},
     "output_type": "execute_result"
    },
    {
     "data": {
      "image/png": "[encoded data removed]",
      "text/plain": [
       "<Figure size 640x480 with 2 Axes>"
      ]
     },
     "metadata": {},
     "output_type": "display_data"
    }
   ],
   "source": [
    "from sklearn.metrics import ConfusionMatrixDisplay\n",
    "ConfusionMatrixDisplay.from_estimator(lr, X_test, y_test)"
   ]
  },
  {
   "cell_type": "markdown",
   "id": "fdce6f2e-01b6-4af1-8314-91da61586f83",
   "metadata": {},
   "source": [
    "**2- Nai :**"
   ]
  },
  {
   "cell_type": "code",
   "execution_count": 55,
   "id": "15933245-bfb7-4ac2-a8b3-e1a38d0aecb6",
   "metadata": {},
   "outputs": [],
   "source": [
    "from sklearn.naive_bayes import MultinomialNB"
   ]
  },
  {
   "cell_type": "code",
   "execution_count": 61,
   "id": "e36bf081-d0b8-4b29-af35-af58e9e6a1f9",
   "metadata": {},
   "outputs": [
    {
     "data": {
      "text/plain": [
       "0.6666666666666666"
      ]
     },
     "execution_count": 61,
     "metadata": {},
     "output_type": "execute_result"
    }
   ],
   "source": [
    "nb = MultinomialNB().fit(X_train, y_train)\n",
    "y_pred_nb = nb.predict(X_test)\n",
    "accuracy_score(y_pred_nb, y_test)"
   ]
  },
  {
   "cell_type": "code",
   "execution_count": 65,
   "id": "85bc243a-e664-4501-9d05-61afa380dfe8",
   "metadata": {},
   "outputs": [
    {
     "name": "stdout",
     "output_type": "stream",
     "text": [
      "              precision    recall  f1-score   support\n",
      "\n",
      "    negative       0.60      1.00      0.75         3\n",
      "    positive       1.00      0.33      0.50         3\n",
      "\n",
      "    accuracy                           0.67         6\n",
      "   macro avg       0.80      0.67      0.62         6\n",
      "weighted avg       0.80      0.67      0.62         6\n",
      "\n"
     ]
    }
   ],
   "source": [
    "print(classification_report(y_test, y_pred_nb, zero_division=0))"
   ]
  },
  {
   "cell_type": "markdown",
   "id": "65dd269b-a71b-4bca-ac0c-1ae7e18cbbbc",
   "metadata": {},
   "source": [
    "**3-Linear Support Vector Machine**"
   ]
  },
  {
   "cell_type": "code",
   "execution_count": 89,
   "id": "e8aef3df-fbec-4b00-bffb-11d180b52cd2",
   "metadata": {},
   "outputs": [],
   "source": [
    "from sklearn.linear_model import SGDClassifier"
   ]
  },
  {
   "cell_type": "code",
   "execution_count": 87,
   "id": "deb53119-ad0b-4efe-a25f-c39ad68a2549",
   "metadata": {},
   "outputs": [],
   "source": [
    "svm = SGDClassifier().fit(X_train, y_train)\n",
    "# possible hyper params, loss function, regularization"
   ]
  },
  {
   "cell_type": "code",
   "execution_count": 91,
   "id": "701c6811-bb6a-4819-b7f9-86559c334041",
   "metadata": {},
   "outputs": [],
   "source": [
    "y_pred_svm = svm.predict(X_test)"
   ]
  },
  {
   "cell_type": "code",
   "execution_count": 93,
   "id": "82f5a431-0ace-4df6-9f35-4264141a28e9",
   "metadata": {},
   "outputs": [
    {
     "data": {
      "text/plain": [
       "0.6666666666666666"
      ]
     },
     "execution_count": 93,
     "metadata": {},
     "output_type": "execute_result"
    }
   ],
   "source": [
    "accuracy_score(y_pred_svm, y_test)"
   ]
  },
  {
   "cell_type": "code",
   "execution_count": 121,
   "id": "f9b2c2da-2c4f-4810-9d7b-ecf1846c9a04",
   "metadata": {},
   "outputs": [
    {
     "name": "stdout",
     "output_type": "stream",
     "text": [
      "              precision    recall  f1-score   support\n",
      "\n",
      "    negative       0.60      1.00      0.75         3\n",
      "    positive       1.00      0.33      0.50         3\n",
      "\n",
      "    accuracy                           0.67         6\n",
      "   macro avg       0.80      0.67      0.62         6\n",
      "weighted avg       0.80      0.67      0.62         6\n",
      "\n"
     ]
    }
   ],
   "source": [
    "print(classification_report(y_test, y_pred_svm, zero_division=0))"
   ]
  }
 ],
 "metadata": {
  "kernelspec": {
   "display_name": "Python 3 (ipykernel)",
   "language": "python",
   "name": "python3"
  },
  "language_info": {
   "codemirror_mode": {
    "name": "ipython",
    "version": 3
   },
   "file_extension": ".py",
   "mimetype": "text/x-python",
   "name": "python",
   "nbconvert_exporter": "python",
   "pygments_lexer": "ipython3",
   "version": "3.12.4"
  }
 },
 "nbformat": 4,
 "nbformat_minor": 5
}
